{
 "cells": [
  {
   "cell_type": "markdown",
   "metadata": {},
   "source": [
    "# Fitness: (Median of overheads, Median of routing costs )"
   ]
  },
  {
   "cell_type": "markdown",
   "metadata": {},
   "source": [
    "## Load data\n"
   ]
  },
  {
   "cell_type": "code",
   "execution_count": 1,
   "metadata": {
    "scrolled": false
   },
   "outputs": [
    {
     "name": "stdout",
     "output_type": "stream",
     "text": [
      "\n",
      "Reading from index ilias-novelty-500cars-median-verify\n",
      "data retrieved from file raw_data/ilias-novelty-500cars-median-verify.pickle\n",
      "\n",
      "Reading from index ilias-novelty-700cars-median-verify\n",
      "data retrieved from file raw_data/ilias-novelty-700cars-median-verify.pickle\n",
      "\n",
      "Reading from index erik-noveltysearch-800cars-median\n",
      "data retrieved from file raw_data/erik-noveltysearch-800cars-median.pickle\n",
      "\n",
      "Reading from index ilias-nsga2-500cars-median-verify\n",
      "data retrieved from file raw_data/ilias-nsga2-500cars-median-verify.pickle\n",
      "\n",
      "Reading from index ilias-nsga2-700cars-median-verify\n",
      "data retrieved from file raw_data/ilias-nsga2-700cars-median-verify.pickle\n",
      "\n",
      "Reading from index ilias-nsga2-800cars-median-verify\n",
      "data retrieved from file raw_data/ilias-nsga2-800cars-median-verify.pickle\n",
      "\n",
      "Reading from index ilias-mlr-500cars-median-verify\n",
      "data retrieved from file raw_data/ilias-mlr-500cars-median-verify.pickle\n",
      "\n",
      "Reading from index ilias-mlr-700cars-median\n",
      "data retrieved from file raw_data/ilias-mlr-700cars-median.pickle\n",
      "\n",
      "Reading from index ilias-mlr-800cars-median\n",
      "data retrieved from file raw_data/ilias-mlr-800cars-median.pickle\n",
      "\n",
      "Reading from index ilias-random-500cars-median-verify\n",
      "data retrieved from file raw_data/ilias-random-500cars-median-verify.pickle\n",
      "\n",
      "Reading from index ilias-random-700cars-median-verify\n",
      "data retrieved from file raw_data/ilias-random-700cars-median-verify.pickle\n",
      "\n",
      "Reading from index ilias-random-800cars-median-verify\n",
      "data retrieved from file raw_data/ilias-random-800cars-median-verify.pickle\n"
     ]
    }
   ],
   "source": [
    "%matplotlib inline \n",
    "%reload_ext autoreload\n",
    "from notebooks_commons import get_raw_data\n",
    "\n",
    "\n",
    "# The first time we want to download the data from an index (might take a while!), \n",
    "# we should put the parameter load_from_db to True. Then, we can set it to False to \n",
    "# read the saved data from the local pickle file.\n",
    "def read_data(index, load_from_db = False):\n",
    "    print \"\\nReading from index \" + index\n",
    "    pair = get_raw_data(index, load_from_db)\n",
    "    rtx_runs = pair[0]\n",
    "    data     = pair[1] \n",
    "    return rtx_runs, data\n",
    "\n",
    "\n",
    "# Here we specify the name of the index to read data from\n",
    "\n",
    "index_random_500=\"ilias-random-500cars-median-verify\"\n",
    "# index_random_500= \"erik-gcp-random-500cars-median\" \n",
    "index_novelty_500=\"ilias-novelty-500cars-median-verify\"\n",
    "# index_novelty_500 = \"erik-gcp-novelty-500cars-median\"\n",
    "index_nsga2_500=\"ilias-nsga2-500cars-median-verify\"\n",
    "# index_nsga2_500 = \"erik-gcp-nsga2-500cars-median\"\n",
    "index_mlr_500 = \"ilias-mlr-500cars-median-verify\" \n",
    "# index_mlr_500 = \"erik-gcp-mlr-500cars-median\" \n",
    "\n",
    "index_random_700 = \"ilias-random-700cars-median-verify\"\n",
    "# index_random_700 = \"erik-random-700cars-median\" \n",
    "index_novelty_700 = \"ilias-novelty-700cars-median-verify\" \n",
    "# index_novelty_700 = \"erik-noveltysearch-700cars-median\"\n",
    "index_nsga2_700 = \"ilias-nsga2-700cars-median-verify\" \n",
    "# index_nsga2_700 = \"erik-nsga2-700cars-median\"\n",
    "index_mlr_700 = \"ilias-mlr-700cars-median\" \n",
    "# index_mlr_700 = \"erik-gcp-mlr-700-verify\" \n",
    "\n",
    "index_random_800 = \"ilias-random-800cars-median-verify\" \n",
    "# index_random_800 = \"erik-random-800cars-median\" \n",
    "# index_novelty_800 = \"ilias-novelty-800cars-median-verify\" \n",
    "index_novelty_800 = \"erik-noveltysearch-800cars-median\"\n",
    "index_nsga2_800 = \"ilias-nsga2-800cars-median-verify\" \n",
    "# index_nsga2_800 = \"erik-nsga2-800cars-median\"\n",
    "index_mlr_800 = \"ilias-mlr-800cars-median\" \n",
    "# index_mlr_800 = \"erik-gcp-mlr-800-verify\" \n",
    "\n",
    "\n",
    "\n",
    "###\n",
    "load_from_db = False\n",
    "\n",
    "### Get Novelty data\n",
    "novelty_rtx_runs_500, novelty_data_500 = read_data(index_novelty_500, load_from_db)\n",
    "novelty_rtx_runs_700, novelty_data_700 = read_data(index_novelty_700, load_from_db)\n",
    "novelty_rtx_runs_800, novelty_data_800 = read_data(index_novelty_800, load_from_db)\n",
    "\n",
    "### Get NSGA2 data\n",
    "nsga2_rtx_runs_500, nsga2_data_500 = read_data(index_nsga2_500, load_from_db)\n",
    "nsga2_rtx_runs_700, nsga2_data_700 = read_data(index_nsga2_700, load_from_db)\n",
    "nsga2_rtx_runs_800, nsga2_data_800 = read_data(index_nsga2_800, load_from_db)\n",
    "\n",
    "### Get MLR data\n",
    "mlr_rtx_runs_500, mlr_data_500 = read_data(index_mlr_500, load_from_db)\n",
    "mlr_rtx_runs_700, mlr_data_700 = read_data(index_mlr_700, load_from_db)\n",
    "mlr_rtx_runs_800, mlr_data_800 = read_data(index_mlr_800, load_from_db)\n",
    "\n",
    "### Get RandomSearch data\n",
    "random_rtx_runs_500, random_data_500 = read_data(index_random_500, load_from_db)\n",
    "random_rtx_runs_700, random_data_700 = read_data(index_random_700, load_from_db)\n",
    "random_rtx_runs_800, random_data_800 = read_data(index_random_800, load_from_db)"
   ]
  },
  {
   "cell_type": "markdown",
   "metadata": {},
   "source": [
    "## Load Fitness Function"
   ]
  },
  {
   "cell_type": "code",
   "execution_count": 2,
   "metadata": {},
   "outputs": [
    {
     "name": "stdout",
     "output_type": "stream",
     "text": [
      "Fitness Function Loaded\n"
     ]
    }
   ],
   "source": [
    "use_median = True\n",
    "\n",
    "'''\n",
    "Returns the fitness of an individual\n",
    "'''\n",
    "def get_fitness(ind):\n",
    "    if use_median:\n",
    "        return ind[\"payload\"][\"median_overhead\"], ind[\"payload\"][\"median_routing\"]\n",
    "    else: \n",
    "        return ind[\"avg_overhead\"], ind[\"avg_routing\"]\n",
    "            \n",
    "'''\n",
    "Returns the overhead of an individual\n",
    "'''\n",
    "def get_overhead(ind):\n",
    "    if use_median:\n",
    "        return ind[\"payload\"][\"median_overhead\"]\n",
    "    else:\n",
    "        return ind[\"avg_overhead\"]\n",
    "    \n",
    "\n",
    "'''\n",
    "Returns the routing of an individual\n",
    "'''\n",
    "def get_routing(ind):\n",
    "    if use_median:\n",
    "        return ind[\"payload\"][\"median_routing\"]\n",
    "    else:\n",
    "        return ind[\"avg_routing\"]\n",
    "    \n",
    "\n",
    "\n",
    "\n",
    "def set_fitness_med(ind, overhead, routing):\n",
    "    ind[\"payload\"][\"median_overhead\"] = overhead\n",
    "    ind[\"payload\"][\"median_routing\"] = routing      \n",
    "\n",
    "        \n",
    "def set_fitness_avg(ind, overhead, routing):\n",
    "    ind[\"avg_overhead\"] = overhead\n",
    "    ind[\"avg_routing\"] = routing        \n",
    "\n",
    "    \n",
    "print(\"Fitness Function Loaded\")"
   ]
  },
  {
   "cell_type": "markdown",
   "metadata": {},
   "source": [
    "## Check what's in there"
   ]
  },
  {
   "cell_type": "code",
   "execution_count": 3,
   "metadata": {
    "scrolled": true
   },
   "outputs": [
    {
     "name": "stdout",
     "output_type": "stream",
     "text": [
      "There were 15 runs performed by RandomSearch\n"
     ]
    },
    {
     "data": {
      "text/markdown": [
       "<span style='color:red'>100\t\t| seed 1 | id AWiJpMKRMEaT9KPShMbK</span>"
      ],
      "text/plain": [
       "<IPython.core.display.Markdown object>"
      ]
     },
     "metadata": {},
     "output_type": "display_data"
    },
    {
     "data": {
      "text/markdown": [
       "<span style='color:red'>100\t\t| seed 2 | id AWiJpOrRMEaT9KPShMdt</span>"
      ],
      "text/plain": [
       "<IPython.core.display.Markdown object>"
      ]
     },
     "metadata": {},
     "output_type": "display_data"
    },
    {
     "data": {
      "text/markdown": [
       "<span style='color:red'>100\t\t| seed 3 | id AWiJoVhdMEaT9KPShLjR</span>"
      ],
      "text/plain": [
       "<IPython.core.display.Markdown object>"
      ]
     },
     "metadata": {},
     "output_type": "display_data"
    },
    {
     "data": {
      "text/markdown": [
       "<span style='color:red'>100\t\t| seed 4 | id AWiJpYUPMEaT9KPShMn2</span>"
      ],
      "text/plain": [
       "<IPython.core.display.Markdown object>"
      ]
     },
     "metadata": {},
     "output_type": "display_data"
    },
    {
     "data": {
      "text/markdown": [
       "<span style='color:red'>100\t\t| seed 5 | id AWiJpaw2MEaT9KPShMqZ</span>"
      ],
      "text/plain": [
       "<IPython.core.display.Markdown object>"
      ]
     },
     "metadata": {},
     "output_type": "display_data"
    },
    {
     "data": {
      "text/markdown": [
       "<span style='color:red'>100\t\t| seed 6 | id AWiJoWeZMEaT9KPShLjT</span>"
      ],
      "text/plain": [
       "<IPython.core.display.Markdown object>"
      ]
     },
     "metadata": {},
     "output_type": "display_data"
    },
    {
     "data": {
      "text/markdown": [
       "<span style='color:red'>100\t\t| seed 7 | id AWiJoXrTMEaT9KPShLl1</span>"
      ],
      "text/plain": [
       "<IPython.core.display.Markdown object>"
      ]
     },
     "metadata": {},
     "output_type": "display_data"
    },
    {
     "data": {
      "text/markdown": [
       "<span style='color:red'>100\t\t| seed 8 | id AWiJoY64MEaT9KPShLl3</span>"
      ],
      "text/plain": [
       "<IPython.core.display.Markdown object>"
      ]
     },
     "metadata": {},
     "output_type": "display_data"
    },
    {
     "data": {
      "text/markdown": [
       "<span style='color:red'>100\t\t| seed 9 | id AWiJoaIYMEaT9KPShLl4</span>"
      ],
      "text/plain": [
       "<IPython.core.display.Markdown object>"
      ]
     },
     "metadata": {},
     "output_type": "display_data"
    },
    {
     "data": {
      "text/markdown": [
       "<span style='color:red'>100\t\t| seed 10 | id AWiJobX1MEaT9KPShLob</span>"
      ],
      "text/plain": [
       "<IPython.core.display.Markdown object>"
      ]
     },
     "metadata": {},
     "output_type": "display_data"
    },
    {
     "data": {
      "text/markdown": [
       "<span style='color:red'>100\t\t| seed 11 | id AWiJockdMEaT9KPShLq9</span>"
      ],
      "text/plain": [
       "<IPython.core.display.Markdown object>"
      ]
     },
     "metadata": {},
     "output_type": "display_data"
    },
    {
     "data": {
      "text/markdown": [
       "<span style='color:red'>100\t\t| seed 12 | id AWiJodzqMEaT9KPShLq_</span>"
      ],
      "text/plain": [
       "<IPython.core.display.Markdown object>"
      ]
     },
     "metadata": {},
     "output_type": "display_data"
    },
    {
     "data": {
      "text/markdown": [
       "<span style='color:red'>100\t\t| seed 13 | id AWiJofBKMEaT9KPShLth</span>"
      ],
      "text/plain": [
       "<IPython.core.display.Markdown object>"
      ]
     },
     "metadata": {},
     "output_type": "display_data"
    },
    {
     "data": {
      "text/markdown": [
       "<span style='color:red'>100\t\t| seed 14 | id AWiJogR-MEaT9KPShLtj</span>"
      ],
      "text/plain": [
       "<IPython.core.display.Markdown object>"
      ]
     },
     "metadata": {},
     "output_type": "display_data"
    },
    {
     "data": {
      "text/markdown": [
       "<span style='color:red'>100\t\t| seed 15 | id AWiJohhKMEaT9KPShLwF</span>"
      ],
      "text/plain": [
       "<IPython.core.display.Markdown object>"
      ]
     },
     "metadata": {},
     "output_type": "display_data"
    },
    {
     "name": "stdout",
     "output_type": "stream",
     "text": [
      "There were 10 runs performed by RandomSearch\n"
     ]
    },
    {
     "data": {
      "text/markdown": [
       "<span style='color:red'>100\t\t| seed 1 | id AWiKOnqCMEaT9KPShzQe</span>"
      ],
      "text/plain": [
       "<IPython.core.display.Markdown object>"
      ]
     },
     "metadata": {},
     "output_type": "display_data"
    },
    {
     "data": {
      "text/markdown": [
       "<span style='color:red'>100\t\t| seed 2 | id AWiKPZdCMEaT9KPSh0Gx</span>"
      ],
      "text/plain": [
       "<IPython.core.display.Markdown object>"
      ]
     },
     "metadata": {},
     "output_type": "display_data"
    },
    {
     "data": {
      "text/markdown": [
       "<span style='color:red'>100\t\t| seed 3 | id AWiKOo9TMEaT9KPShzTD</span>"
      ],
      "text/plain": [
       "<IPython.core.display.Markdown object>"
      ]
     },
     "metadata": {},
     "output_type": "display_data"
    },
    {
     "data": {
      "text/markdown": [
       "<span style='color:red'>100\t\t| seed 4 | id AWiKOragMEaT9KPShzVp</span>"
      ],
      "text/plain": [
       "<IPython.core.display.Markdown object>"
      ]
     },
     "metadata": {},
     "output_type": "display_data"
    },
    {
     "data": {
      "text/markdown": [
       "<span style='color:red'>100\t\t| seed 5 | id AWiKOt2jMEaT9KPShzYP</span>"
      ],
      "text/plain": [
       "<IPython.core.display.Markdown object>"
      ]
     },
     "metadata": {},
     "output_type": "display_data"
    },
    {
     "data": {
      "text/markdown": [
       "<span style='color:red'>100\t\t| seed 6 | id AWiKOwTUMEaT9KPShza1</span>"
      ],
      "text/plain": [
       "<IPython.core.display.Markdown object>"
      ]
     },
     "metadata": {},
     "output_type": "display_data"
    },
    {
     "data": {
      "text/markdown": [
       "<span style='color:red'>100\t\t| seed 7 | id AWiKOyyuMEaT9KPShzdc</span>"
      ],
      "text/plain": [
       "<IPython.core.display.Markdown object>"
      ]
     },
     "metadata": {},
     "output_type": "display_data"
    },
    {
     "data": {
      "text/markdown": [
       "<span style='color:red'>100\t\t| seed 8 | id AWiKO1PnMEaT9KPShzgC</span>"
      ],
      "text/plain": [
       "<IPython.core.display.Markdown object>"
      ]
     },
     "metadata": {},
     "output_type": "display_data"
    },
    {
     "data": {
      "text/markdown": [
       "<span style='color:red'>100\t\t| seed 9 | id AWiKO3r1MEaT9KPShzio</span>"
      ],
      "text/plain": [
       "<IPython.core.display.Markdown object>"
      ]
     },
     "metadata": {},
     "output_type": "display_data"
    },
    {
     "data": {
      "text/markdown": [
       "<span style='color:red'>100\t\t| seed 10 | id AWiKO6NSMEaT9KPShzlO</span>"
      ],
      "text/plain": [
       "<IPython.core.display.Markdown object>"
      ]
     },
     "metadata": {},
     "output_type": "display_data"
    },
    {
     "name": "stdout",
     "output_type": "stream",
     "text": [
      "There were 15 runs performed by RandomSearch\n"
     ]
    },
    {
     "data": {
      "text/markdown": [
       "<span style='color:red'>100\t\t| seed 1 | id AWiPDJp-MEaT9KPSm1_u</span>"
      ],
      "text/plain": [
       "<IPython.core.display.Markdown object>"
      ]
     },
     "metadata": {},
     "output_type": "display_data"
    },
    {
     "data": {
      "text/markdown": [
       "<span style='color:red'>100\t\t| seed 2 | id AWiPDMFdMEaT9KPSm2Ca</span>"
      ],
      "text/plain": [
       "<IPython.core.display.Markdown object>"
      ]
     },
     "metadata": {},
     "output_type": "display_data"
    },
    {
     "data": {
      "text/markdown": [
       "<span style='color:red'>100\t\t| seed 3 | id AWiPDOhXMEaT9KPSm2FH</span>"
      ],
      "text/plain": [
       "<IPython.core.display.Markdown object>"
      ]
     },
     "metadata": {},
     "output_type": "display_data"
    },
    {
     "data": {
      "text/markdown": [
       "<span style='color:red'>100\t\t| seed 4 | id AWiPDQ9wMEaT9KPSm2Hz</span>"
      ],
      "text/plain": [
       "<IPython.core.display.Markdown object>"
      ]
     },
     "metadata": {},
     "output_type": "display_data"
    },
    {
     "data": {
      "text/markdown": [
       "<span style='color:red'>100\t\t| seed 5 | id AWiPDTbxMEaT9KPSm2Kf</span>"
      ],
      "text/plain": [
       "<IPython.core.display.Markdown object>"
      ]
     },
     "metadata": {},
     "output_type": "display_data"
    },
    {
     "data": {
      "text/markdown": [
       "<span style='color:red'>100\t\t| seed 6 | id AWiPDV4zMEaT9KPSm2NL</span>"
      ],
      "text/plain": [
       "<IPython.core.display.Markdown object>"
      ]
     },
     "metadata": {},
     "output_type": "display_data"
    },
    {
     "data": {
      "text/markdown": [
       "<span style='color:red'>100\t\t| seed 7 | id AWiPDYThMEaT9KPSm2P3</span>"
      ],
      "text/plain": [
       "<IPython.core.display.Markdown object>"
      ]
     },
     "metadata": {},
     "output_type": "display_data"
    },
    {
     "data": {
      "text/markdown": [
       "<span style='color:red'>100\t\t| seed 8 | id AWiPDaxkMEaT9KPSm2Sj</span>"
      ],
      "text/plain": [
       "<IPython.core.display.Markdown object>"
      ]
     },
     "metadata": {},
     "output_type": "display_data"
    },
    {
     "data": {
      "text/markdown": [
       "<span style='color:red'>100\t\t| seed 9 | id AWiPDdMiMEaT9KPSm2VP</span>"
      ],
      "text/plain": [
       "<IPython.core.display.Markdown object>"
      ]
     },
     "metadata": {},
     "output_type": "display_data"
    },
    {
     "data": {
      "text/markdown": [
       "<span style='color:red'>100\t\t| seed 10 | id AWiPDfq-MEaT9KPSm2X7</span>"
      ],
      "text/plain": [
       "<IPython.core.display.Markdown object>"
      ]
     },
     "metadata": {},
     "output_type": "display_data"
    },
    {
     "data": {
      "text/markdown": [
       "<span style='color:red'>100\t\t| seed 11 | id AWiPDiIfMEaT9KPSm2an</span>"
      ],
      "text/plain": [
       "<IPython.core.display.Markdown object>"
      ]
     },
     "metadata": {},
     "output_type": "display_data"
    },
    {
     "data": {
      "text/markdown": [
       "<span style='color:red'>100\t\t| seed 12 | id AWiPDko9MEaT9KPSm2dT</span>"
      ],
      "text/plain": [
       "<IPython.core.display.Markdown object>"
      ]
     },
     "metadata": {},
     "output_type": "display_data"
    },
    {
     "data": {
      "text/markdown": [
       "<span style='color:red'>100\t\t| seed 13 | id AWiPDm9nMEaT9KPSm2f_</span>"
      ],
      "text/plain": [
       "<IPython.core.display.Markdown object>"
      ]
     },
     "metadata": {},
     "output_type": "display_data"
    },
    {
     "data": {
      "text/markdown": [
       "<span style='color:red'>100\t\t| seed 14 | id AWiPDphZMEaT9KPSm2ir</span>"
      ],
      "text/plain": [
       "<IPython.core.display.Markdown object>"
      ]
     },
     "metadata": {},
     "output_type": "display_data"
    },
    {
     "data": {
      "text/markdown": [
       "<span style='color:red'>100\t\t| seed 15 | id AWiPDr4XMEaT9KPSm2lX</span>"
      ],
      "text/plain": [
       "<IPython.core.display.Markdown object>"
      ]
     },
     "metadata": {},
     "output_type": "display_data"
    },
    {
     "name": "stdout",
     "output_type": "stream",
     "text": [
      "There were 14 runs performed by MLR\n"
     ]
    },
    {
     "data": {
      "text/markdown": [
       "<span style='color:red'>100\t\t| seed 2 | id AWiG5pOJMEaT9KPSea43</span>"
      ],
      "text/plain": [
       "<IPython.core.display.Markdown object>"
      ]
     },
     "metadata": {},
     "output_type": "display_data"
    },
    {
     "data": {
      "text/markdown": [
       "<span style='color:red'>100\t\t| seed 3 | id AWiG48LhMEaT9KPSeakl</span>"
      ],
      "text/plain": [
       "<IPython.core.display.Markdown object>"
      ]
     },
     "metadata": {},
     "output_type": "display_data"
    },
    {
     "data": {
      "text/markdown": [
       "<span style='color:red'>100\t\t| seed 4 | id AWiG49RHMEaT9KPSeanE</span>"
      ],
      "text/plain": [
       "<IPython.core.display.Markdown object>"
      ]
     },
     "metadata": {},
     "output_type": "display_data"
    },
    {
     "data": {
      "text/markdown": [
       "<span style='color:red'>100\t\t| seed 5 | id AWiG4-e_MEaT9KPSeanG</span>"
      ],
      "text/plain": [
       "<IPython.core.display.Markdown object>"
      ]
     },
     "metadata": {},
     "output_type": "display_data"
    },
    {
     "data": {
      "text/markdown": [
       "<span style='color:red'>100\t\t| seed 6 | id AWiG4_ttMEaT9KPSeapl</span>"
      ],
      "text/plain": [
       "<IPython.core.display.Markdown object>"
      ]
     },
     "metadata": {},
     "output_type": "display_data"
    },
    {
     "data": {
      "text/markdown": [
       "<span style='color:red'>100\t\t| seed 7 | id AWiG5A-LMEaT9KPSeapn</span>"
      ],
      "text/plain": [
       "<IPython.core.display.Markdown object>"
      ]
     },
     "metadata": {},
     "output_type": "display_data"
    },
    {
     "data": {
      "text/markdown": [
       "<span style='color:red'>100\t\t| seed 8 | id AWiG5CK1MEaT9KPSeasH</span>"
      ],
      "text/plain": [
       "<IPython.core.display.Markdown object>"
      ]
     },
     "metadata": {},
     "output_type": "display_data"
    },
    {
     "data": {
      "text/markdown": [
       "<span style='color:red'>100\t\t| seed 9 | id AWiG5DYsMEaT9KPSeasJ</span>"
      ],
      "text/plain": [
       "<IPython.core.display.Markdown object>"
      ]
     },
     "metadata": {},
     "output_type": "display_data"
    },
    {
     "data": {
      "text/markdown": [
       "<span style='color:red'>100\t\t| seed 10 | id AWiG5EnAMEaT9KPSeauo</span>"
      ],
      "text/plain": [
       "<IPython.core.display.Markdown object>"
      ]
     },
     "metadata": {},
     "output_type": "display_data"
    },
    {
     "data": {
      "text/markdown": [
       "<span style='color:red'>100\t\t| seed 11 | id AWiG5F1MMEaT9KPSeauq</span>"
      ],
      "text/plain": [
       "<IPython.core.display.Markdown object>"
      ]
     },
     "metadata": {},
     "output_type": "display_data"
    },
    {
     "data": {
      "text/markdown": [
       "<span style='color:red'>100\t\t| seed 12 | id AWiG5HDlMEaT9KPSeaxJ</span>"
      ],
      "text/plain": [
       "<IPython.core.display.Markdown object>"
      ]
     },
     "metadata": {},
     "output_type": "display_data"
    },
    {
     "data": {
      "text/markdown": [
       "<span style='color:red'>100\t\t| seed 13 | id AWiG5IVNMEaT9KPSeaxL</span>"
      ],
      "text/plain": [
       "<IPython.core.display.Markdown object>"
      ]
     },
     "metadata": {},
     "output_type": "display_data"
    },
    {
     "data": {
      "text/markdown": [
       "<span style='color:red'>100\t\t| seed 14 | id AWiG5JkGMEaT9KPSeaxM</span>"
      ],
      "text/plain": [
       "<IPython.core.display.Markdown object>"
      ]
     },
     "metadata": {},
     "output_type": "display_data"
    },
    {
     "data": {
      "text/markdown": [
       "<span style='color:red'>100\t\t| seed 15 | id AWiG5KzdMEaT9KPSeazs</span>"
      ],
      "text/plain": [
       "<IPython.core.display.Markdown object>"
      ]
     },
     "metadata": {},
     "output_type": "display_data"
    },
    {
     "name": "stdout",
     "output_type": "stream",
     "text": [
      "There were 30 runs performed by MLR\n"
     ]
    },
    {
     "data": {
      "text/markdown": [
       "<span style='color:red'>100\t\t| seed 1 | id AWh7LJ_gMEaT9KPSTPdp</span>"
      ],
      "text/plain": [
       "<IPython.core.display.Markdown object>"
      ]
     },
     "metadata": {},
     "output_type": "display_data"
    },
    {
     "data": {
      "text/markdown": [
       "<span style='color:red'>100\t\t| seed 2 | id AWh7LK7CMEaT9KPSTPf4</span>"
      ],
      "text/plain": [
       "<IPython.core.display.Markdown object>"
      ]
     },
     "metadata": {},
     "output_type": "display_data"
    },
    {
     "data": {
      "text/markdown": [
       "<span style='color:red'>100\t\t| seed 3 | id AWh7LMJGMEaT9KPSTPf6</span>"
      ],
      "text/plain": [
       "<IPython.core.display.Markdown object>"
      ]
     },
     "metadata": {},
     "output_type": "display_data"
    },
    {
     "data": {
      "text/markdown": [
       "<span style='color:red'>100\t\t| seed 4 | id AWh-4GMBMEaT9KPSWtjB</span>"
      ],
      "text/plain": [
       "<IPython.core.display.Markdown object>"
      ]
     },
     "metadata": {},
     "output_type": "display_data"
    },
    {
     "data": {
      "text/markdown": [
       "<span style='color:red'>100\t\t| seed 5 | id AWh7LOl9MEaT9KPSTPiL</span>"
      ],
      "text/plain": [
       "<IPython.core.display.Markdown object>"
      ]
     },
     "metadata": {},
     "output_type": "display_data"
    },
    {
     "data": {
      "text/markdown": [
       "<span style='color:red'>100\t\t| seed 6 | id AWh7LP0tMEaT9KPSTPka</span>"
      ],
      "text/plain": [
       "<IPython.core.display.Markdown object>"
      ]
     },
     "metadata": {},
     "output_type": "display_data"
    },
    {
     "data": {
      "text/markdown": [
       "<span style='color:red'>100\t\t| seed 7 | id AWh7LRCUMEaT9KPSTPkc</span>"
      ],
      "text/plain": [
       "<IPython.core.display.Markdown object>"
      ]
     },
     "metadata": {},
     "output_type": "display_data"
    },
    {
     "data": {
      "text/markdown": [
       "<span style='color:red'>100\t\t| seed 8 | id AWh7LSQzMEaT9KPSTPmr</span>"
      ],
      "text/plain": [
       "<IPython.core.display.Markdown object>"
      ]
     },
     "metadata": {},
     "output_type": "display_data"
    },
    {
     "data": {
      "text/markdown": [
       "<span style='color:red'>100\t\t| seed 9 | id AWh7LTgzMEaT9KPSTPmu</span>"
      ],
      "text/plain": [
       "<IPython.core.display.Markdown object>"
      ]
     },
     "metadata": {},
     "output_type": "display_data"
    },
    {
     "data": {
      "text/markdown": [
       "<span style='color:red'>100\t\t| seed 10 | id AWh7LUwPMEaT9KPSTPo9</span>"
      ],
      "text/plain": [
       "<IPython.core.display.Markdown object>"
      ]
     },
     "metadata": {},
     "output_type": "display_data"
    },
    {
     "data": {
      "text/markdown": [
       "<span style='color:red'>100\t\t| seed 11 | id AWh7LV7fMEaT9KPSTPo_</span>"
      ],
      "text/plain": [
       "<IPython.core.display.Markdown object>"
      ]
     },
     "metadata": {},
     "output_type": "display_data"
    },
    {
     "data": {
      "text/markdown": [
       "<span style='color:red'>100\t\t| seed 12 | id AWh7LXNXMEaT9KPSTPrO</span>"
      ],
      "text/plain": [
       "<IPython.core.display.Markdown object>"
      ]
     },
     "metadata": {},
     "output_type": "display_data"
    },
    {
     "data": {
      "text/markdown": [
       "<span style='color:red'>100\t\t| seed 13 | id AWh7LYatMEaT9KPSTPrQ</span>"
      ],
      "text/plain": [
       "<IPython.core.display.Markdown object>"
      ]
     },
     "metadata": {},
     "output_type": "display_data"
    },
    {
     "data": {
      "text/markdown": [
       "<span style='color:red'>100\t\t| seed 14 | id AWh7LZs1MEaT9KPSTPtf</span>"
      ],
      "text/plain": [
       "<IPython.core.display.Markdown object>"
      ]
     },
     "metadata": {},
     "output_type": "display_data"
    },
    {
     "data": {
      "text/markdown": [
       "<span style='color:red'>100\t\t| seed 15 | id AWh7La5KMEaT9KPSTPth</span>"
      ],
      "text/plain": [
       "<IPython.core.display.Markdown object>"
      ]
     },
     "metadata": {},
     "output_type": "display_data"
    },
    {
     "data": {
      "text/markdown": [
       "<span style='color:red'>100\t\t| seed 16 | id AWh-4ORBMEaT9KPSWtp7</span>"
      ],
      "text/plain": [
       "<IPython.core.display.Markdown object>"
      ]
     },
     "metadata": {},
     "output_type": "display_data"
    },
    {
     "data": {
      "text/markdown": [
       "<span style='color:red'>100\t\t| seed 17 | id AWh-4PeFMEaT9KPSWtsP</span>"
      ],
      "text/plain": [
       "<IPython.core.display.Markdown object>"
      ]
     },
     "metadata": {},
     "output_type": "display_data"
    },
    {
     "data": {
      "text/markdown": [
       "<span style='color:red'>100\t\t| seed 18 | id AWh-4QsZMEaT9KPSWtsQ</span>"
      ],
      "text/plain": [
       "<IPython.core.display.Markdown object>"
      ]
     },
     "metadata": {},
     "output_type": "display_data"
    },
    {
     "data": {
      "text/markdown": [
       "<span style='color:red'>100\t\t| seed 19 | id AWh-4R6vMEaT9KPSWtuk</span>"
      ],
      "text/plain": [
       "<IPython.core.display.Markdown object>"
      ]
     },
     "metadata": {},
     "output_type": "display_data"
    },
    {
     "data": {
      "text/markdown": [
       "<span style='color:red'>100\t\t| seed 20 | id AWh-4TJHMEaT9KPSWtul</span>"
      ],
      "text/plain": [
       "<IPython.core.display.Markdown object>"
      ]
     },
     "metadata": {},
     "output_type": "display_data"
    },
    {
     "data": {
      "text/markdown": [
       "<span style='color:red'>100\t\t| seed 21 | id AWh-4UXcMEaT9KPSWtw5</span>"
      ],
      "text/plain": [
       "<IPython.core.display.Markdown object>"
      ]
     },
     "metadata": {},
     "output_type": "display_data"
    },
    {
     "data": {
      "text/markdown": [
       "<span style='color:red'>100\t\t| seed 22 | id AWh-4Vl9MEaT9KPSWtw6</span>"
      ],
      "text/plain": [
       "<IPython.core.display.Markdown object>"
      ]
     },
     "metadata": {},
     "output_type": "display_data"
    },
    {
     "data": {
      "text/markdown": [
       "<span style='color:red'>100\t\t| seed 23 | id AWh-4W0vMEaT9KPSWtzO</span>"
      ],
      "text/plain": [
       "<IPython.core.display.Markdown object>"
      ]
     },
     "metadata": {},
     "output_type": "display_data"
    },
    {
     "data": {
      "text/markdown": [
       "<span style='color:red'>100\t\t| seed 24 | id AWh-4YErMEaT9KPSWtzP</span>"
      ],
      "text/plain": [
       "<IPython.core.display.Markdown object>"
      ]
     },
     "metadata": {},
     "output_type": "display_data"
    },
    {
     "data": {
      "text/markdown": [
       "<span style='color:red'>100\t\t| seed 25 | id AWh-4ZSGMEaT9KPSWt1j</span>"
      ],
      "text/plain": [
       "<IPython.core.display.Markdown object>"
      ]
     },
     "metadata": {},
     "output_type": "display_data"
    },
    {
     "data": {
      "text/markdown": [
       "<span style='color:red'>100\t\t| seed 26 | id AWh-4afdMEaT9KPSWt1k</span>"
      ],
      "text/plain": [
       "<IPython.core.display.Markdown object>"
      ]
     },
     "metadata": {},
     "output_type": "display_data"
    },
    {
     "data": {
      "text/markdown": [
       "<span style='color:red'>100\t\t| seed 27 | id AWh-4bzZMEaT9KPSWt34</span>"
      ],
      "text/plain": [
       "<IPython.core.display.Markdown object>"
      ]
     },
     "metadata": {},
     "output_type": "display_data"
    },
    {
     "data": {
      "text/markdown": [
       "<span style='color:red'>100\t\t| seed 28 | id AWh-4c-IMEaT9KPSWt35</span>"
      ],
      "text/plain": [
       "<IPython.core.display.Markdown object>"
      ]
     },
     "metadata": {},
     "output_type": "display_data"
    },
    {
     "data": {
      "text/markdown": [
       "<span style='color:red'>100\t\t| seed 29 | id AWh-4ePPMEaT9KPSWt6N</span>"
      ],
      "text/plain": [
       "<IPython.core.display.Markdown object>"
      ]
     },
     "metadata": {},
     "output_type": "display_data"
    },
    {
     "data": {
      "text/markdown": [
       "<span style='color:red'>100\t\t| seed 30 | id AWh-4fZBMEaT9KPSWt6O</span>"
      ],
      "text/plain": [
       "<IPython.core.display.Markdown object>"
      ]
     },
     "metadata": {},
     "output_type": "display_data"
    },
    {
     "name": "stdout",
     "output_type": "stream",
     "text": [
      "There were 30 runs performed by MLR\n"
     ]
    },
    {
     "data": {
      "text/markdown": [
       "<span style='color:red'>100\t\t| seed 1 | id AWh265GtMEaT9KPSPZpB</span>"
      ],
      "text/plain": [
       "<IPython.core.display.Markdown object>"
      ]
     },
     "metadata": {},
     "output_type": "display_data"
    },
    {
     "data": {
      "text/markdown": [
       "<span style='color:red'>100\t\t| seed 2 | id AWh266RnMEaT9KPSPZpC</span>"
      ],
      "text/plain": [
       "<IPython.core.display.Markdown object>"
      ]
     },
     "metadata": {},
     "output_type": "display_data"
    },
    {
     "data": {
      "text/markdown": [
       "<span style='color:red'>100\t\t| seed 3 | id AWh267fUMEaT9KPSPZrM</span>"
      ],
      "text/plain": [
       "<IPython.core.display.Markdown object>"
      ]
     },
     "metadata": {},
     "output_type": "display_data"
    },
    {
     "data": {
      "text/markdown": [
       "<span style='color:red'>100\t\t| seed 4 | id AWh268tpMEaT9KPSPZrN</span>"
      ],
      "text/plain": [
       "<IPython.core.display.Markdown object>"
      ]
     },
     "metadata": {},
     "output_type": "display_data"
    },
    {
     "data": {
      "text/markdown": [
       "<span style='color:red'>100\t\t| seed 5 | id AWh2698HMEaT9KPSPZtW</span>"
      ],
      "text/plain": [
       "<IPython.core.display.Markdown object>"
      ]
     },
     "metadata": {},
     "output_type": "display_data"
    },
    {
     "data": {
      "text/markdown": [
       "<span style='color:red'>100\t\t| seed 6 | id AWh26_KoMEaT9KPSPZtX</span>"
      ],
      "text/plain": [
       "<IPython.core.display.Markdown object>"
      ]
     },
     "metadata": {},
     "output_type": "display_data"
    },
    {
     "data": {
      "text/markdown": [
       "<span style='color:red'>100\t\t| seed 7 | id AWiBuhMnMEaT9KPSZa6N</span>"
      ],
      "text/plain": [
       "<IPython.core.display.Markdown object>"
      ]
     },
     "metadata": {},
     "output_type": "display_data"
    },
    {
     "data": {
      "text/markdown": [
       "<span style='color:red'>100\t\t| seed 8 | id AWh27BrEMEaT9KPSPZvh</span>"
      ],
      "text/plain": [
       "<IPython.core.display.Markdown object>"
      ]
     },
     "metadata": {},
     "output_type": "display_data"
    },
    {
     "data": {
      "text/markdown": [
       "<span style='color:red'>100\t\t| seed 9 | id AWh27C4TMEaT9KPSPZxq</span>"
      ],
      "text/plain": [
       "<IPython.core.display.Markdown object>"
      ]
     },
     "metadata": {},
     "output_type": "display_data"
    },
    {
     "data": {
      "text/markdown": [
       "<span style='color:red'>100\t\t| seed 10 | id AWiBuq6AMEaT9KPSZbDq</span>"
      ],
      "text/plain": [
       "<IPython.core.display.Markdown object>"
      ]
     },
     "metadata": {},
     "output_type": "display_data"
    },
    {
     "data": {
      "text/markdown": [
       "<span style='color:red'>100\t\t| seed 11 | id AWh27FVCMEaT9KPSPZz0</span>"
      ],
      "text/plain": [
       "<IPython.core.display.Markdown object>"
      ]
     },
     "metadata": {},
     "output_type": "display_data"
    },
    {
     "data": {
      "text/markdown": [
       "<span style='color:red'>100\t\t| seed 12 | id AWh27GjDMEaT9KPSPZz2</span>"
      ],
      "text/plain": [
       "<IPython.core.display.Markdown object>"
      ]
     },
     "metadata": {},
     "output_type": "display_data"
    },
    {
     "data": {
      "text/markdown": [
       "<span style='color:red'>100\t\t| seed 13 | id AWh27HudMEaT9KPSPZ1_</span>"
      ],
      "text/plain": [
       "<IPython.core.display.Markdown object>"
      ]
     },
     "metadata": {},
     "output_type": "display_data"
    },
    {
     "data": {
      "text/markdown": [
       "<span style='color:red'>100\t\t| seed 14 | id AWh27JBBMEaT9KPSPZ2A</span>"
      ],
      "text/plain": [
       "<IPython.core.display.Markdown object>"
      ]
     },
     "metadata": {},
     "output_type": "display_data"
    },
    {
     "data": {
      "text/markdown": [
       "<span style='color:red'>100\t\t| seed 15 | id AWh27KKQMEaT9KPSPZ4J</span>"
      ],
      "text/plain": [
       "<IPython.core.display.Markdown object>"
      ]
     },
     "metadata": {},
     "output_type": "display_data"
    },
    {
     "data": {
      "text/markdown": [
       "<span style='color:red'>100\t\t| seed 16 | id AWiEZi8JMEaT9KPScCkH</span>"
      ],
      "text/plain": [
       "<IPython.core.display.Markdown object>"
      ]
     },
     "metadata": {},
     "output_type": "display_data"
    },
    {
     "data": {
      "text/markdown": [
       "<span style='color:red'>100\t\t| seed 17 | id AWiBuzJFMEaT9KPSZbKy</span>"
      ],
      "text/plain": [
       "<IPython.core.display.Markdown object>"
      ]
     },
     "metadata": {},
     "output_type": "display_data"
    },
    {
     "data": {
      "text/markdown": [
       "<span style='color:red'>100\t\t| seed 18 | id AWiBu0YbMEaT9KPSZbNJ</span>"
      ],
      "text/plain": [
       "<IPython.core.display.Markdown object>"
      ]
     },
     "metadata": {},
     "output_type": "display_data"
    },
    {
     "data": {
      "text/markdown": [
       "<span style='color:red'>100\t\t| seed 19 | id AWiBu1mIMEaT9KPSZbNL</span>"
      ],
      "text/plain": [
       "<IPython.core.display.Markdown object>"
      ]
     },
     "metadata": {},
     "output_type": "display_data"
    },
    {
     "data": {
      "text/markdown": [
       "<span style='color:red'>100\t\t| seed 20 | id AWiBu20HMEaT9KPSZbPi</span>"
      ],
      "text/plain": [
       "<IPython.core.display.Markdown object>"
      ]
     },
     "metadata": {},
     "output_type": "display_data"
    },
    {
     "data": {
      "text/markdown": [
       "<span style='color:red'>100\t\t| seed 21 | id AWiBu4CfMEaT9KPSZbPk</span>"
      ],
      "text/plain": [
       "<IPython.core.display.Markdown object>"
      ]
     },
     "metadata": {},
     "output_type": "display_data"
    },
    {
     "data": {
      "text/markdown": [
       "<span style='color:red'>100\t\t| seed 22 | id AWiEZqNbMEaT9KPScCrZ</span>"
      ],
      "text/plain": [
       "<IPython.core.display.Markdown object>"
      ]
     },
     "metadata": {},
     "output_type": "display_data"
    },
    {
     "data": {
      "text/markdown": [
       "<span style='color:red'>100\t\t| seed 23 | id AWiBu6fMMEaT9KPSZbR9</span>"
      ],
      "text/plain": [
       "<IPython.core.display.Markdown object>"
      ]
     },
     "metadata": {},
     "output_type": "display_data"
    },
    {
     "data": {
      "text/markdown": [
       "<span style='color:red'>100\t\t| seed 24 | id AWiBu7vJMEaT9KPSZbUU</span>"
      ],
      "text/plain": [
       "<IPython.core.display.Markdown object>"
      ]
     },
     "metadata": {},
     "output_type": "display_data"
    },
    {
     "data": {
      "text/markdown": [
       "<span style='color:red'>100\t\t| seed 25 | id AWiBu87gMEaT9KPSZbUW</span>"
      ],
      "text/plain": [
       "<IPython.core.display.Markdown object>"
      ]
     },
     "metadata": {},
     "output_type": "display_data"
    },
    {
     "data": {
      "text/markdown": [
       "<span style='color:red'>100\t\t| seed 26 | id AWiBu-LnMEaT9KPSZbWt</span>"
      ],
      "text/plain": [
       "<IPython.core.display.Markdown object>"
      ]
     },
     "metadata": {},
     "output_type": "display_data"
    },
    {
     "data": {
      "text/markdown": [
       "<span style='color:red'>100\t\t| seed 27 | id AWiBu_fwMEaT9KPSZbWv</span>"
      ],
      "text/plain": [
       "<IPython.core.display.Markdown object>"
      ]
     },
     "metadata": {},
     "output_type": "display_data"
    },
    {
     "data": {
      "text/markdown": [
       "<span style='color:red'>100\t\t| seed 28 | id AWiBvAogMEaT9KPSZbZG</span>"
      ],
      "text/plain": [
       "<IPython.core.display.Markdown object>"
      ]
     },
     "metadata": {},
     "output_type": "display_data"
    },
    {
     "data": {
      "text/markdown": [
       "<span style='color:red'>100\t\t| seed 29 | id AWiBvB_EMEaT9KPSZbZI</span>"
      ],
      "text/plain": [
       "<IPython.core.display.Markdown object>"
      ]
     },
     "metadata": {},
     "output_type": "display_data"
    },
    {
     "data": {
      "text/markdown": [
       "<span style='color:red'>100\t\t| seed 30 | id AWiBvDPaMEaT9KPSZbbf</span>"
      ],
      "text/plain": [
       "<IPython.core.display.Markdown object>"
      ]
     },
     "metadata": {},
     "output_type": "display_data"
    },
    {
     "name": "stdout",
     "output_type": "stream",
     "text": [
      "There were 20 runs performed by NoveltySearch\n"
     ]
    },
    {
     "data": {
      "text/markdown": [
       "<span style='color:red'>100\t\t| seed 1 | id AWiKMQLkMEaT9KPShwxa</span>"
      ],
      "text/plain": [
       "<IPython.core.display.Markdown object>"
      ]
     },
     "metadata": {},
     "output_type": "display_data"
    },
    {
     "data": {
      "text/markdown": [
       "<span style='color:red'>100\t\t| seed 2 | id AWiKNPfYMEaT9KPShx0M</span>"
      ],
      "text/plain": [
       "<IPython.core.display.Markdown object>"
      ]
     },
     "metadata": {},
     "output_type": "display_data"
    },
    {
     "data": {
      "text/markdown": [
       "<span style='color:red'>100\t\t| seed 3 | id AWiKMSA8MEaT9KPShwz_</span>"
      ],
      "text/plain": [
       "<IPython.core.display.Markdown object>"
      ]
     },
     "metadata": {},
     "output_type": "display_data"
    },
    {
     "data": {
      "text/markdown": [
       "<span style='color:red'>100\t\t| seed 4 | id AWiKMUfJMEaT9KPShw2k</span>"
      ],
      "text/plain": [
       "<IPython.core.display.Markdown object>"
      ]
     },
     "metadata": {},
     "output_type": "display_data"
    },
    {
     "data": {
      "text/markdown": [
       "<span style='color:red'>100\t\t| seed 5 | id AWiKMW6gMEaT9KPShw5J</span>"
      ],
      "text/plain": [
       "<IPython.core.display.Markdown object>"
      ]
     },
     "metadata": {},
     "output_type": "display_data"
    },
    {
     "data": {
      "text/markdown": [
       "<span style='color:red'>100\t\t| seed 6 | id AWiKMZYgMEaT9KPShw7v</span>"
      ],
      "text/plain": [
       "<IPython.core.display.Markdown object>"
      ]
     },
     "metadata": {},
     "output_type": "display_data"
    },
    {
     "data": {
      "text/markdown": [
       "<span style='color:red'>100\t\t| seed 7 | id AWiKMb1vMEaT9KPShw-U</span>"
      ],
      "text/plain": [
       "<IPython.core.display.Markdown object>"
      ]
     },
     "metadata": {},
     "output_type": "display_data"
    },
    {
     "data": {
      "text/markdown": [
       "<span style='color:red'>100\t\t| seed 8 | id AWiKMeR6MEaT9KPShxA5</span>"
      ],
      "text/plain": [
       "<IPython.core.display.Markdown object>"
      ]
     },
     "metadata": {},
     "output_type": "display_data"
    },
    {
     "data": {
      "text/markdown": [
       "<span style='color:red'>100\t\t| seed 9 | id AWiKMg01MEaT9KPShxDe</span>"
      ],
      "text/plain": [
       "<IPython.core.display.Markdown object>"
      ]
     },
     "metadata": {},
     "output_type": "display_data"
    },
    {
     "data": {
      "text/markdown": [
       "<span style='color:red'>100\t\t| seed 10 | id AWiKMjItMEaT9KPShxGD</span>"
      ],
      "text/plain": [
       "<IPython.core.display.Markdown object>"
      ]
     },
     "metadata": {},
     "output_type": "display_data"
    },
    {
     "data": {
      "text/markdown": [
       "<span style='color:red'>100\t\t| seed 11 | id AWiMcrVjMEaT9KPSkHg9</span>"
      ],
      "text/plain": [
       "<IPython.core.display.Markdown object>"
      ]
     },
     "metadata": {},
     "output_type": "display_data"
    },
    {
     "data": {
      "text/markdown": [
       "<span style='color:red'>100\t\t| seed 12 | id AWiMctxqMEaT9KPSkHjj</span>"
      ],
      "text/plain": [
       "<IPython.core.display.Markdown object>"
      ]
     },
     "metadata": {},
     "output_type": "display_data"
    },
    {
     "data": {
      "text/markdown": [
       "<span style='color:red'>100\t\t| seed 13 | id AWiMcwONMEaT9KPSkHmJ</span>"
      ],
      "text/plain": [
       "<IPython.core.display.Markdown object>"
      ]
     },
     "metadata": {},
     "output_type": "display_data"
    },
    {
     "data": {
      "text/markdown": [
       "<span style='color:red'>100\t\t| seed 14 | id AWiMcysiMEaT9KPSkHov</span>"
      ],
      "text/plain": [
       "<IPython.core.display.Markdown object>"
      ]
     },
     "metadata": {},
     "output_type": "display_data"
    },
    {
     "data": {
      "text/markdown": [
       "<span style='color:red'>100\t\t| seed 15 | id AWiMc1KCMEaT9KPSkHrV</span>"
      ],
      "text/plain": [
       "<IPython.core.display.Markdown object>"
      ]
     },
     "metadata": {},
     "output_type": "display_data"
    },
    {
     "data": {
      "text/markdown": [
       "<span style='color:red'>100\t\t| seed 16 | id AWiMc3m1MEaT9KPSkHt7</span>"
      ],
      "text/plain": [
       "<IPython.core.display.Markdown object>"
      ]
     },
     "metadata": {},
     "output_type": "display_data"
    },
    {
     "data": {
      "text/markdown": [
       "<span style='color:red'>100\t\t| seed 17 | id AWiMc6DpMEaT9KPSkHwh</span>"
      ],
      "text/plain": [
       "<IPython.core.display.Markdown object>"
      ]
     },
     "metadata": {},
     "output_type": "display_data"
    },
    {
     "data": {
      "text/markdown": [
       "<span style='color:red'>100\t\t| seed 18 | id AWiMc8fhMEaT9KPSkHzH</span>"
      ],
      "text/plain": [
       "<IPython.core.display.Markdown object>"
      ]
     },
     "metadata": {},
     "output_type": "display_data"
    },
    {
     "data": {
      "text/markdown": [
       "<span style='color:red'>100\t\t| seed 19 | id AWiMc_AUMEaT9KPSkH1t</span>"
      ],
      "text/plain": [
       "<IPython.core.display.Markdown object>"
      ]
     },
     "metadata": {},
     "output_type": "display_data"
    },
    {
     "data": {
      "text/markdown": [
       "<span style='color:red'>100\t\t| seed 20 | id AWiMdBaYMEaT9KPSkH4T</span>"
      ],
      "text/plain": [
       "<IPython.core.display.Markdown object>"
      ]
     },
     "metadata": {},
     "output_type": "display_data"
    },
    {
     "name": "stdout",
     "output_type": "stream",
     "text": [
      "There were 10 runs performed by NoveltySearch\n"
     ]
    },
    {
     "data": {
      "text/markdown": [
       "<span style='color:red'>100\t\t| seed 1 | id AWiPFwOfMEaT9KPSm42J</span>"
      ],
      "text/plain": [
       "<IPython.core.display.Markdown object>"
      ]
     },
     "metadata": {},
     "output_type": "display_data"
    },
    {
     "data": {
      "text/markdown": [
       "<span style='color:red'>100\t\t| seed 2 | id AWiPFyohMEaT9KPSm441</span>"
      ],
      "text/plain": [
       "<IPython.core.display.Markdown object>"
      ]
     },
     "metadata": {},
     "output_type": "display_data"
    },
    {
     "data": {
      "text/markdown": [
       "<span style='color:red'>100\t\t| seed 3 | id AWiPF1GyMEaT9KPSm47h</span>"
      ],
      "text/plain": [
       "<IPython.core.display.Markdown object>"
      ]
     },
     "metadata": {},
     "output_type": "display_data"
    },
    {
     "data": {
      "text/markdown": [
       "<span style='color:red'>100\t\t| seed 4 | id AWiPF3iXMEaT9KPSm4-N</span>"
      ],
      "text/plain": [
       "<IPython.core.display.Markdown object>"
      ]
     },
     "metadata": {},
     "output_type": "display_data"
    },
    {
     "data": {
      "text/markdown": [
       "<span style='color:red'>100\t\t| seed 5 | id AWiPF5_8MEaT9KPSm5A5</span>"
      ],
      "text/plain": [
       "<IPython.core.display.Markdown object>"
      ]
     },
     "metadata": {},
     "output_type": "display_data"
    },
    {
     "data": {
      "text/markdown": [
       "<span style='color:red'>100\t\t| seed 6 | id AWiPF8dqMEaT9KPSm5Dl</span>"
      ],
      "text/plain": [
       "<IPython.core.display.Markdown object>"
      ]
     },
     "metadata": {},
     "output_type": "display_data"
    },
    {
     "data": {
      "text/markdown": [
       "<span style='color:red'>100\t\t| seed 7 | id AWiPF--ZMEaT9KPSm5GR</span>"
      ],
      "text/plain": [
       "<IPython.core.display.Markdown object>"
      ]
     },
     "metadata": {},
     "output_type": "display_data"
    },
    {
     "data": {
      "text/markdown": [
       "<span style='color:red'>100\t\t| seed 8 | id AWiPGBb7MEaT9KPSm5I9</span>"
      ],
      "text/plain": [
       "<IPython.core.display.Markdown object>"
      ]
     },
     "metadata": {},
     "output_type": "display_data"
    },
    {
     "data": {
      "text/markdown": [
       "<span style='color:red'>93\t\t| seed 9 | id AWiPGD80MEaT9KPSm5Lp</span>"
      ],
      "text/plain": [
       "<IPython.core.display.Markdown object>"
      ]
     },
     "metadata": {},
     "output_type": "display_data"
    },
    {
     "data": {
      "text/markdown": [
       "<span style='color:red'>88\t\t| seed 10 | id AWiPGGaDMEaT9KPSm5OV</span>"
      ],
      "text/plain": [
       "<IPython.core.display.Markdown object>"
      ]
     },
     "metadata": {},
     "output_type": "display_data"
    },
    {
     "name": "stdout",
     "output_type": "stream",
     "text": [
      "There were 30 runs performed by NoveltySearch\n"
     ]
    },
    {
     "data": {
      "text/markdown": [
       "<span style='color:red'>100\t\t| seed 1 | id AWh2_TDsMEaT9KPSPdeZ</span>"
      ],
      "text/plain": [
       "<IPython.core.display.Markdown object>"
      ]
     },
     "metadata": {},
     "output_type": "display_data"
    },
    {
     "data": {
      "text/markdown": [
       "<span style='color:red'>100\t\t| seed 2 | id AWh2_TNfMEaT9KPSPdea</span>"
      ],
      "text/plain": [
       "<IPython.core.display.Markdown object>"
      ]
     },
     "metadata": {},
     "output_type": "display_data"
    },
    {
     "data": {
      "text/markdown": [
       "<span style='color:red'>100\t\t| seed 3 | id AWh2_VqXMEaT9KPSPdgl</span>"
      ],
      "text/plain": [
       "<IPython.core.display.Markdown object>"
      ]
     },
     "metadata": {},
     "output_type": "display_data"
    },
    {
     "data": {
      "text/markdown": [
       "<span style='color:red'>100\t\t| seed 4 | id AWh2_YG3MEaT9KPSPdiw</span>"
      ],
      "text/plain": [
       "<IPython.core.display.Markdown object>"
      ]
     },
     "metadata": {},
     "output_type": "display_data"
    },
    {
     "data": {
      "text/markdown": [
       "<span style='color:red'>100\t\t| seed 5 | id AWh2_ajjMEaT9KPSPdk7</span>"
      ],
      "text/plain": [
       "<IPython.core.display.Markdown object>"
      ]
     },
     "metadata": {},
     "output_type": "display_data"
    },
    {
     "data": {
      "text/markdown": [
       "<span style='color:red'>100\t\t| seed 6 | id AWh2_dAeMEaT9KPSPdnG</span>"
      ],
      "text/plain": [
       "<IPython.core.display.Markdown object>"
      ]
     },
     "metadata": {},
     "output_type": "display_data"
    },
    {
     "data": {
      "text/markdown": [
       "<span style='color:red'>100\t\t| seed 7 | id AWh2_fcoMEaT9KPSPdpR</span>"
      ],
      "text/plain": [
       "<IPython.core.display.Markdown object>"
      ]
     },
     "metadata": {},
     "output_type": "display_data"
    },
    {
     "data": {
      "text/markdown": [
       "<span style='color:red'>100\t\t| seed 8 | id AWh2_h5MMEaT9KPSPdrc</span>"
      ],
      "text/plain": [
       "<IPython.core.display.Markdown object>"
      ]
     },
     "metadata": {},
     "output_type": "display_data"
    },
    {
     "data": {
      "text/markdown": [
       "<span style='color:red'>100\t\t| seed 9 | id AWh2_kWWMEaT9KPSPdtn</span>"
      ],
      "text/plain": [
       "<IPython.core.display.Markdown object>"
      ]
     },
     "metadata": {},
     "output_type": "display_data"
    },
    {
     "data": {
      "text/markdown": [
       "<span style='color:red'>100\t\t| seed 10 | id AWh2_mzQMEaT9KPSPdvy</span>"
      ],
      "text/plain": [
       "<IPython.core.display.Markdown object>"
      ]
     },
     "metadata": {},
     "output_type": "display_data"
    },
    {
     "data": {
      "text/markdown": [
       "<span style='color:red'>100\t\t| seed 11 | id AWh2_pPHMEaT9KPSPdx9</span>"
      ],
      "text/plain": [
       "<IPython.core.display.Markdown object>"
      ]
     },
     "metadata": {},
     "output_type": "display_data"
    },
    {
     "data": {
      "text/markdown": [
       "<span style='color:red'>100\t\t| seed 12 | id AWh2_rsSMEaT9KPSPd0I</span>"
      ],
      "text/plain": [
       "<IPython.core.display.Markdown object>"
      ]
     },
     "metadata": {},
     "output_type": "display_data"
    },
    {
     "data": {
      "text/markdown": [
       "<span style='color:red'>100\t\t| seed 13 | id AWh2_uIUMEaT9KPSPd2T</span>"
      ],
      "text/plain": [
       "<IPython.core.display.Markdown object>"
      ]
     },
     "metadata": {},
     "output_type": "display_data"
    },
    {
     "data": {
      "text/markdown": [
       "<span style='color:red'>100\t\t| seed 14 | id AWh2_wkzMEaT9KPSPd4e</span>"
      ],
      "text/plain": [
       "<IPython.core.display.Markdown object>"
      ]
     },
     "metadata": {},
     "output_type": "display_data"
    },
    {
     "data": {
      "text/markdown": [
       "<span style='color:red'>100\t\t| seed 15 | id AWh2_zB_MEaT9KPSPd6p</span>"
      ],
      "text/plain": [
       "<IPython.core.display.Markdown object>"
      ]
     },
     "metadata": {},
     "output_type": "display_data"
    },
    {
     "data": {
      "text/markdown": [
       "<span style='color:red'>100\t\t| seed 16 | id AWiF75q5MEaT9KPSdkYp</span>"
      ],
      "text/plain": [
       "<IPython.core.display.Markdown object>"
      ]
     },
     "metadata": {},
     "output_type": "display_data"
    },
    {
     "data": {
      "text/markdown": [
       "<span style='color:red'>100\t\t| seed 17 | id AWiF76SrMEaT9KPSdkYq</span>"
      ],
      "text/plain": [
       "<IPython.core.display.Markdown object>"
      ]
     },
     "metadata": {},
     "output_type": "display_data"
    },
    {
     "data": {
      "text/markdown": [
       "<span style='color:red'>100\t\t| seed 18 | id AWiF799vMEaT9KPSdkdj</span>"
      ],
      "text/plain": [
       "<IPython.core.display.Markdown object>"
      ]
     },
     "metadata": {},
     "output_type": "display_data"
    },
    {
     "data": {
      "text/markdown": [
       "<span style='color:red'>100\t\t| seed 19 | id AWiF8BovMEaT9KPSdkgA</span>"
      ],
      "text/plain": [
       "<IPython.core.display.Markdown object>"
      ]
     },
     "metadata": {},
     "output_type": "display_data"
    },
    {
     "data": {
      "text/markdown": [
       "<span style='color:red'>100\t\t| seed 20 | id AWiF8FRnMEaT9KPSdkk5</span>"
      ],
      "text/plain": [
       "<IPython.core.display.Markdown object>"
      ]
     },
     "metadata": {},
     "output_type": "display_data"
    },
    {
     "data": {
      "text/markdown": [
       "<span style='color:red'>100\t\t| seed 21 | id AWiF8I9jMEaT9KPSdknW</span>"
      ],
      "text/plain": [
       "<IPython.core.display.Markdown object>"
      ]
     },
     "metadata": {},
     "output_type": "display_data"
    },
    {
     "data": {
      "text/markdown": [
       "<span style='color:red'>100\t\t| seed 22 | id AWiF8MoTMEaT9KPSdksP</span>"
      ],
      "text/plain": [
       "<IPython.core.display.Markdown object>"
      ]
     },
     "metadata": {},
     "output_type": "display_data"
    },
    {
     "data": {
      "text/markdown": [
       "<span style='color:red'>100\t\t| seed 23 | id AWiF8QSkMEaT9KPSdkus</span>"
      ],
      "text/plain": [
       "<IPython.core.display.Markdown object>"
      ]
     },
     "metadata": {},
     "output_type": "display_data"
    },
    {
     "data": {
      "text/markdown": [
       "<span style='color:red'>100\t\t| seed 24 | id AWiF8T-IMEaT9KPSdkzl</span>"
      ],
      "text/plain": [
       "<IPython.core.display.Markdown object>"
      ]
     },
     "metadata": {},
     "output_type": "display_data"
    },
    {
     "data": {
      "text/markdown": [
       "<span style='color:red'>100\t\t| seed 25 | id AWiF8XoNMEaT9KPSdk2C</span>"
      ],
      "text/plain": [
       "<IPython.core.display.Markdown object>"
      ]
     },
     "metadata": {},
     "output_type": "display_data"
    },
    {
     "data": {
      "text/markdown": [
       "<span style='color:red'>100\t\t| seed 26 | id AWiF8bSuMEaT9KPSdk67</span>"
      ],
      "text/plain": [
       "<IPython.core.display.Markdown object>"
      ]
     },
     "metadata": {},
     "output_type": "display_data"
    },
    {
     "data": {
      "text/markdown": [
       "<span style='color:red'>100\t\t| seed 27 | id AWiF8e97MEaT9KPSdk9Y</span>"
      ],
      "text/plain": [
       "<IPython.core.display.Markdown object>"
      ]
     },
     "metadata": {},
     "output_type": "display_data"
    },
    {
     "data": {
      "text/markdown": [
       "<span style='color:red'>100\t\t| seed 28 | id AWiF8in8MEaT9KPSdlCR</span>"
      ],
      "text/plain": [
       "<IPython.core.display.Markdown object>"
      ]
     },
     "metadata": {},
     "output_type": "display_data"
    },
    {
     "data": {
      "text/markdown": [
       "<span style='color:red'>100\t\t| seed 29 | id AWiF8mSqMEaT9KPSdlEu</span>"
      ],
      "text/plain": [
       "<IPython.core.display.Markdown object>"
      ]
     },
     "metadata": {},
     "output_type": "display_data"
    },
    {
     "data": {
      "text/markdown": [
       "<span style='color:red'>100\t\t| seed 30 | id AWiF8p95MEaT9KPSdlJn</span>"
      ],
      "text/plain": [
       "<IPython.core.display.Markdown object>"
      ]
     },
     "metadata": {},
     "output_type": "display_data"
    },
    {
     "name": "stdout",
     "output_type": "stream",
     "text": [
      "There were 15 runs performed by NSGAII\n"
     ]
    },
    {
     "data": {
      "text/markdown": [
       "<span style='color:red'>100\t\t| seed 1 | id AWiMbcZRMEaT9KPSkGLp</span>"
      ],
      "text/plain": [
       "<IPython.core.display.Markdown object>"
      ]
     },
     "metadata": {},
     "output_type": "display_data"
    },
    {
     "data": {
      "text/markdown": [
       "<span style='color:red'>100\t\t| seed 2 | id AWiMbezzMEaT9KPSkGOP</span>"
      ],
      "text/plain": [
       "<IPython.core.display.Markdown object>"
      ]
     },
     "metadata": {},
     "output_type": "display_data"
    },
    {
     "data": {
      "text/markdown": [
       "<span style='color:red'>100\t\t| seed 3 | id AWiMbhP3MEaT9KPSkGQ1</span>"
      ],
      "text/plain": [
       "<IPython.core.display.Markdown object>"
      ]
     },
     "metadata": {},
     "output_type": "display_data"
    },
    {
     "data": {
      "text/markdown": [
       "<span style='color:red'>100\t\t| seed 4 | id AWiMbjsZMEaT9KPSkGTb</span>"
      ],
      "text/plain": [
       "<IPython.core.display.Markdown object>"
      ]
     },
     "metadata": {},
     "output_type": "display_data"
    },
    {
     "data": {
      "text/markdown": [
       "<span style='color:red'>100\t\t| seed 5 | id AWiMbmKnMEaT9KPSkGWC</span>"
      ],
      "text/plain": [
       "<IPython.core.display.Markdown object>"
      ]
     },
     "metadata": {},
     "output_type": "display_data"
    },
    {
     "data": {
      "text/markdown": [
       "<span style='color:red'>100\t\t| seed 6 | id AWiMbolJMEaT9KPSkGYo</span>"
      ],
      "text/plain": [
       "<IPython.core.display.Markdown object>"
      ]
     },
     "metadata": {},
     "output_type": "display_data"
    },
    {
     "data": {
      "text/markdown": [
       "<span style='color:red'>100\t\t| seed 7 | id AWiMbrCpMEaT9KPSkGbO</span>"
      ],
      "text/plain": [
       "<IPython.core.display.Markdown object>"
      ]
     },
     "metadata": {},
     "output_type": "display_data"
    },
    {
     "data": {
      "text/markdown": [
       "<span style='color:red'>100\t\t| seed 8 | id AWiMbtgqMEaT9KPSkGd0</span>"
      ],
      "text/plain": [
       "<IPython.core.display.Markdown object>"
      ]
     },
     "metadata": {},
     "output_type": "display_data"
    },
    {
     "data": {
      "text/markdown": [
       "<span style='color:red'>100\t\t| seed 9 | id AWiMbv7JMEaT9KPSkGga</span>"
      ],
      "text/plain": [
       "<IPython.core.display.Markdown object>"
      ]
     },
     "metadata": {},
     "output_type": "display_data"
    },
    {
     "data": {
      "text/markdown": [
       "<span style='color:red'>100\t\t| seed 10 | id AWiMbyYnMEaT9KPSkGjA</span>"
      ],
      "text/plain": [
       "<IPython.core.display.Markdown object>"
      ]
     },
     "metadata": {},
     "output_type": "display_data"
    },
    {
     "data": {
      "text/markdown": [
       "<span style='color:red'>100\t\t| seed 11 | id AWiMb03rMEaT9KPSkGlm</span>"
      ],
      "text/plain": [
       "<IPython.core.display.Markdown object>"
      ]
     },
     "metadata": {},
     "output_type": "display_data"
    },
    {
     "data": {
      "text/markdown": [
       "<span style='color:red'>100\t\t| seed 12 | id AWiMb3XRMEaT9KPSkGoM</span>"
      ],
      "text/plain": [
       "<IPython.core.display.Markdown object>"
      ]
     },
     "metadata": {},
     "output_type": "display_data"
    },
    {
     "data": {
      "text/markdown": [
       "<span style='color:red'>100\t\t| seed 13 | id AWiMb5ulMEaT9KPSkGqy</span>"
      ],
      "text/plain": [
       "<IPython.core.display.Markdown object>"
      ]
     },
     "metadata": {},
     "output_type": "display_data"
    },
    {
     "data": {
      "text/markdown": [
       "<span style='color:red'>100\t\t| seed 14 | id AWiMb8QZMEaT9KPSkGtY</span>"
      ],
      "text/plain": [
       "<IPython.core.display.Markdown object>"
      ]
     },
     "metadata": {},
     "output_type": "display_data"
    },
    {
     "data": {
      "text/markdown": [
       "<span style='color:red'>100\t\t| seed 15 | id AWiMb-pCMEaT9KPSkGv-</span>"
      ],
      "text/plain": [
       "<IPython.core.display.Markdown object>"
      ]
     },
     "metadata": {},
     "output_type": "display_data"
    },
    {
     "name": "stdout",
     "output_type": "stream",
     "text": [
      "There were 10 runs performed by NSGAII\n"
     ]
    },
    {
     "data": {
      "text/markdown": [
       "<span style='color:red'>100\t\t| seed 1 | id AWiPD71jMEaT9KPSm21b</span>"
      ],
      "text/plain": [
       "<IPython.core.display.Markdown object>"
      ]
     },
     "metadata": {},
     "output_type": "display_data"
    },
    {
     "data": {
      "text/markdown": [
       "<span style='color:red'>100\t\t| seed 2 | id AWiPD-RSMEaT9KPSm24H</span>"
      ],
      "text/plain": [
       "<IPython.core.display.Markdown object>"
      ]
     },
     "metadata": {},
     "output_type": "display_data"
    },
    {
     "data": {
      "text/markdown": [
       "<span style='color:red'>100\t\t| seed 3 | id AWiPEAuFMEaT9KPSm26z</span>"
      ],
      "text/plain": [
       "<IPython.core.display.Markdown object>"
      ]
     },
     "metadata": {},
     "output_type": "display_data"
    },
    {
     "data": {
      "text/markdown": [
       "<span style='color:red'>100\t\t| seed 4 | id AWiPEDKKMEaT9KPSm29f</span>"
      ],
      "text/plain": [
       "<IPython.core.display.Markdown object>"
      ]
     },
     "metadata": {},
     "output_type": "display_data"
    },
    {
     "data": {
      "text/markdown": [
       "<span style='color:red'>100\t\t| seed 5 | id AWiPEFnAMEaT9KPSm3AL</span>"
      ],
      "text/plain": [
       "<IPython.core.display.Markdown object>"
      ]
     },
     "metadata": {},
     "output_type": "display_data"
    },
    {
     "data": {
      "text/markdown": [
       "<span style='color:red'>100\t\t| seed 6 | id AWiPEIFHMEaT9KPSm3C3</span>"
      ],
      "text/plain": [
       "<IPython.core.display.Markdown object>"
      ]
     },
     "metadata": {},
     "output_type": "display_data"
    },
    {
     "data": {
      "text/markdown": [
       "<span style='color:red'>100\t\t| seed 7 | id AWiPEKhEMEaT9KPSm3Fj</span>"
      ],
      "text/plain": [
       "<IPython.core.display.Markdown object>"
      ]
     },
     "metadata": {},
     "output_type": "display_data"
    },
    {
     "data": {
      "text/markdown": [
       "<span style='color:red'>100\t\t| seed 8 | id AWiPEM_MMEaT9KPSm3IP</span>"
      ],
      "text/plain": [
       "<IPython.core.display.Markdown object>"
      ]
     },
     "metadata": {},
     "output_type": "display_data"
    },
    {
     "data": {
      "text/markdown": [
       "<span style='color:red'>100\t\t| seed 9 | id AWiPEPbaMEaT9KPSm3K7</span>"
      ],
      "text/plain": [
       "<IPython.core.display.Markdown object>"
      ]
     },
     "metadata": {},
     "output_type": "display_data"
    },
    {
     "data": {
      "text/markdown": [
       "<span style='color:red'>100\t\t| seed 10 | id AWiPER7NMEaT9KPSm3Nn</span>"
      ],
      "text/plain": [
       "<IPython.core.display.Markdown object>"
      ]
     },
     "metadata": {},
     "output_type": "display_data"
    },
    {
     "name": "stdout",
     "output_type": "stream",
     "text": [
      "There were 10 runs performed by NSGAII\n"
     ]
    },
    {
     "data": {
      "text/markdown": [
       "<span style='color:red'>100\t\t| seed 1 | id AWiPNfMIMEaT9KPSnBUv</span>"
      ],
      "text/plain": [
       "<IPython.core.display.Markdown object>"
      ]
     },
     "metadata": {},
     "output_type": "display_data"
    },
    {
     "data": {
      "text/markdown": [
       "<span style='color:red'>100\t\t| seed 2 | id AWiPNhn2MEaT9KPSnBXb</span>"
      ],
      "text/plain": [
       "<IPython.core.display.Markdown object>"
      ]
     },
     "metadata": {},
     "output_type": "display_data"
    },
    {
     "data": {
      "text/markdown": [
       "<span style='color:red'>100\t\t| seed 3 | id AWiPNkEgMEaT9KPSnBaH</span>"
      ],
      "text/plain": [
       "<IPython.core.display.Markdown object>"
      ]
     },
     "metadata": {},
     "output_type": "display_data"
    },
    {
     "data": {
      "text/markdown": [
       "<span style='color:red'>100\t\t| seed 4 | id AWiPNmg2MEaT9KPSnBcz</span>"
      ],
      "text/plain": [
       "<IPython.core.display.Markdown object>"
      ]
     },
     "metadata": {},
     "output_type": "display_data"
    },
    {
     "data": {
      "text/markdown": [
       "<span style='color:red'>100\t\t| seed 5 | id AWiPNo-LMEaT9KPSnBff</span>"
      ],
      "text/plain": [
       "<IPython.core.display.Markdown object>"
      ]
     },
     "metadata": {},
     "output_type": "display_data"
    },
    {
     "data": {
      "text/markdown": [
       "<span style='color:red'>100\t\t| seed 6 | id AWiPNrakMEaT9KPSnBiL</span>"
      ],
      "text/plain": [
       "<IPython.core.display.Markdown object>"
      ]
     },
     "metadata": {},
     "output_type": "display_data"
    },
    {
     "data": {
      "text/markdown": [
       "<span style='color:red'>100\t\t| seed 7 | id AWiPNt3vMEaT9KPSnBk3</span>"
      ],
      "text/plain": [
       "<IPython.core.display.Markdown object>"
      ]
     },
     "metadata": {},
     "output_type": "display_data"
    },
    {
     "data": {
      "text/markdown": [
       "<span style='color:red'>26\t\t| seed 8 | id AWiPNwYRMEaT9KPSnBnj</span>"
      ],
      "text/plain": [
       "<IPython.core.display.Markdown object>"
      ]
     },
     "metadata": {},
     "output_type": "display_data"
    },
    {
     "data": {
      "text/markdown": [
       "<span style='color:red'>100\t\t| seed 9 | id AWiPNyxdMEaT9KPSnBqP</span>"
      ],
      "text/plain": [
       "<IPython.core.display.Markdown object>"
      ]
     },
     "metadata": {},
     "output_type": "display_data"
    },
    {
     "data": {
      "text/markdown": [
       "<span style='color:red'>100\t\t| seed 10 | id AWiPN1O1MEaT9KPSnBs7</span>"
      ],
      "text/plain": [
       "<IPython.core.display.Markdown object>"
      ]
     },
     "metadata": {},
     "output_type": "display_data"
    }
   ],
   "source": [
    "import pprint\n",
    "from IPython.display import Markdown, display\n",
    "\n",
    "def printmd(string, color=None):\n",
    "    colorstr = \"<span style='color:{}'>{}</span>\".format(color, string)\n",
    "    display(Markdown(colorstr))\n",
    "    \n",
    "pp = pprint.PrettyPrinter(indent=4)\n",
    "\n",
    "def check_data(rtx_runs, data):\n",
    "    # sort according to seed \n",
    "    rtx_runs.sort(key=lambda d : d[\"seed\"])\n",
    "    opt_method = \"N/A\"\n",
    "    if len(rtx_runs) > 0:\n",
    "        try:\n",
    "            opt_method = rtx_runs[0][\"strategy\"][\"optimizer_method\"]\n",
    "        except:\n",
    "            # mlr does not store the opt method name in field strategy.optimizer_method\n",
    "            opt_method = \"MLR\"\n",
    "    print \"There were \" + str(len(rtx_runs)) + \" runs performed by \" + opt_method\n",
    "\n",
    "    for rtx_run in rtx_runs:\n",
    "        data_for_run = [d for d in data if d[\"parent\"] == rtx_run[\"id\"]]\n",
    "        data_for_run.sort(key=lambda d : (d[\"_source\"][\"iteration\"], d[\"_source\"][\"individual\"]))\n",
    "        printmd(str(len(data_for_run)) + \"\\t\\t| seed \" + str(rtx_run[\"seed\"]) \n",
    "                + \" | id \" + str(rtx_run[\"id\"]), \"red\")\n",
    "\n",
    "        #for d in data_for_run:\n",
    "        #    s = d[\"_source\"]\n",
    "        #    overheads = s[\"payload\"][\"overheads\"]\n",
    "        #    routings = s[\"payload\"][\"routings\"]\n",
    "        #    printmd(\"Iteration \" + str(s[\"iteration\"]) + \", individual \" \n",
    "        #            + str(s[\"individual\"]) + \" with configuration\", \"blue\")        \n",
    "        #    pp.pprint(s[\"knobs\"])\n",
    "        #    printmd(\"has \" + str(len(overheads)) + \" overheads and \" \n",
    "        #            + str(len(routings)) + \" routings\", \"green\")\n",
    "\n",
    "\n",
    "\n",
    "# random search\n",
    "check_data(random_rtx_runs_500, random_data_500)\n",
    "check_data(random_rtx_runs_700, random_data_700)\n",
    "check_data(random_rtx_runs_800, random_data_800)\n",
    "\n",
    "# mlr\n",
    "check_data(mlr_rtx_runs_500, mlr_data_500)\n",
    "check_data(mlr_rtx_runs_700, mlr_data_700)\n",
    "check_data(mlr_rtx_runs_800, mlr_data_800)\n",
    "\n",
    "# novelty\n",
    "check_data(novelty_rtx_runs_500, novelty_data_500)\n",
    "check_data(novelty_rtx_runs_700, novelty_data_700)\n",
    "check_data(novelty_rtx_runs_800, novelty_data_800)\n",
    "\n",
    "# nsga2\n",
    "check_data(nsga2_rtx_runs_500, nsga2_data_500)\n",
    "check_data(nsga2_rtx_runs_700, nsga2_data_700)\n",
    "check_data(nsga2_rtx_runs_800, nsga2_data_800)\n"
   ]
  },
  {
   "cell_type": "markdown",
   "metadata": {},
   "source": [
    "## Code for computing the hypervolume"
   ]
  },
  {
   "cell_type": "code",
   "execution_count": 4,
   "metadata": {},
   "outputs": [
    {
     "name": "stdout",
     "output_type": "stream",
     "text": [
      "Hypervolume module loaded.\n"
     ]
    }
   ],
   "source": [
    "#    https://ls11-www.cs.tu-dortmund.de/rudolph/hypervolume/start\n",
    "\n",
    "#    Copyright (C) 2010 Simon Wessing\n",
    "#    TU Dortmund University\n",
    "#\n",
    "#    This program is free software: you can redistribute it and/or modify\n",
    "#    it under the terms of the GNU General Public License as published by\n",
    "#    the Free Software Foundation, either version 3 of the License, or\n",
    "#    (at your option) any later version.\n",
    "#\n",
    "#    This program is distributed in the hope that it will be useful,\n",
    "#    but WITHOUT ANY WARRANTY; without even the implied warranty of\n",
    "#    MERCHANTABILITY or FITNESS FOR A PARTICULAR PURPOSE.  See the\n",
    "#    GNU General Public License for more details.\n",
    "#\n",
    "#    You should have received a copy of the GNU General Public License\n",
    "#    along with this program.  If not, see <http://www.gnu.org/licenses/>.\n",
    "\n",
    "\n",
    "__author__ = \"Simon Wessing\"\n",
    "\n",
    "\n",
    "class HyperVolume:\n",
    "    \"\"\"\n",
    "    Hypervolume computation based on variant 3 of the algorithm in the paper:\n",
    "    C. M. Fonseca, L. Paquete, and M. Lopez-Ibanez. An improved dimension-sweep\n",
    "    algorithm for the hypervolume indicator. In IEEE Congress on Evolutionary\n",
    "    Computation, pages 1157-1163, Vancouver, Canada, July 2006.\n",
    "\n",
    "    Minimization is implicitly assumed here!\n",
    "\n",
    "    \"\"\"\n",
    "\n",
    "    def __init__(self, referencePoint):\n",
    "        \"\"\"Constructor.\"\"\"\n",
    "        self.referencePoint = referencePoint\n",
    "        self.list = []\n",
    "\n",
    "\n",
    "    def compute(self, front):\n",
    "        \"\"\"Returns the hypervolume that is dominated by a non-dominated front.\n",
    "\n",
    "        Before the HV computation, front and reference point are translated, so\n",
    "        that the reference point is [0, ..., 0].\n",
    "\n",
    "        \"\"\"\n",
    "\n",
    "        def weaklyDominates(point, other):\n",
    "            for i in xrange(len(point)):\n",
    "                if point[i] > other[i]:\n",
    "                    return False\n",
    "            return True\n",
    "\n",
    "        relevantPoints = []\n",
    "        referencePoint = self.referencePoint\n",
    "        dimensions = len(referencePoint)\n",
    "        for point in front:\n",
    "            # only consider points that dominate the reference point\n",
    "            if weaklyDominates(point, referencePoint):\n",
    "                relevantPoints.append(point)\n",
    "        if any(referencePoint):\n",
    "            # shift points so that referencePoint == [0, ..., 0]\n",
    "            # this way the reference point doesn't have to be explicitly used\n",
    "            # in the HV computation\n",
    "            for j in xrange(len(relevantPoints)):\n",
    "                relevantPoints[j] = [relevantPoints[j][i] - referencePoint[i] for i in xrange(dimensions)]\n",
    "        self.preProcess(relevantPoints)\n",
    "        bounds = [-1.0e308] * dimensions\n",
    "        hyperVolume = self.hvRecursive(dimensions - 1, len(relevantPoints), bounds)\n",
    "        return hyperVolume\n",
    "\n",
    "\n",
    "    def hvRecursive(self, dimIndex, length, bounds):\n",
    "        \"\"\"Recursive call to hypervolume calculation.\n",
    "\n",
    "        In contrast to the paper, the code assumes that the reference point\n",
    "        is [0, ..., 0]. This allows the avoidance of a few operations.\n",
    "\n",
    "        \"\"\"\n",
    "        hvol = 0.0\n",
    "        sentinel = self.list.sentinel\n",
    "        if length == 0:\n",
    "            return hvol\n",
    "        elif dimIndex == 0:\n",
    "            # special case: only one dimension\n",
    "            # why using hypervolume at all?\n",
    "            return -sentinel.next[0].cargo[0]\n",
    "        elif dimIndex == 1:\n",
    "            # special case: two dimensions, end recursion\n",
    "            q = sentinel.next[1]\n",
    "            h = q.cargo[0]\n",
    "            p = q.next[1]\n",
    "            while p is not sentinel:\n",
    "                pCargo = p.cargo\n",
    "                hvol += h * (q.cargo[1] - pCargo[1])\n",
    "                if pCargo[0] < h:\n",
    "                    h = pCargo[0]\n",
    "                q = p\n",
    "                p = q.next[1]\n",
    "            hvol += h * q.cargo[1]\n",
    "            return hvol\n",
    "        else:\n",
    "            remove = self.list.remove\n",
    "            reinsert = self.list.reinsert\n",
    "            hvRecursive = self.hvRecursive\n",
    "            p = sentinel\n",
    "            q = p.prev[dimIndex]\n",
    "            while q.cargo != None:\n",
    "                if q.ignore < dimIndex:\n",
    "                    q.ignore = 0\n",
    "                q = q.prev[dimIndex]\n",
    "            q = p.prev[dimIndex]\n",
    "            while length > 1 and (q.cargo[dimIndex] > bounds[dimIndex] or q.prev[dimIndex].cargo[dimIndex] >= bounds[dimIndex]):\n",
    "                p = q\n",
    "                remove(p, dimIndex, bounds)\n",
    "                q = p.prev[dimIndex]\n",
    "                length -= 1\n",
    "            qArea = q.area\n",
    "            qCargo = q.cargo\n",
    "            qPrevDimIndex = q.prev[dimIndex]\n",
    "            if length > 1:\n",
    "                hvol = qPrevDimIndex.volume[dimIndex] + qPrevDimIndex.area[dimIndex] * (qCargo[dimIndex] - qPrevDimIndex.cargo[dimIndex])\n",
    "            else:\n",
    "                qArea[0] = 1\n",
    "                qArea[1:dimIndex+1] = [qArea[i] * -qCargo[i] for i in xrange(dimIndex)]\n",
    "            q.volume[dimIndex] = hvol\n",
    "            if q.ignore >= dimIndex:\n",
    "                qArea[dimIndex] = qPrevDimIndex.area[dimIndex]\n",
    "            else:\n",
    "                qArea[dimIndex] = hvRecursive(dimIndex - 1, length, bounds)\n",
    "                if qArea[dimIndex] <= qPrevDimIndex.area[dimIndex]:\n",
    "                    q.ignore = dimIndex\n",
    "            while p is not sentinel:\n",
    "                pCargoDimIndex = p.cargo[dimIndex]\n",
    "                hvol += q.area[dimIndex] * (pCargoDimIndex - q.cargo[dimIndex])\n",
    "                bounds[dimIndex] = pCargoDimIndex\n",
    "                reinsert(p, dimIndex, bounds)\n",
    "                length += 1\n",
    "                q = p\n",
    "                p = p.next[dimIndex]\n",
    "                q.volume[dimIndex] = hvol\n",
    "                if q.ignore >= dimIndex:\n",
    "                    q.area[dimIndex] = q.prev[dimIndex].area[dimIndex]\n",
    "                else:\n",
    "                    q.area[dimIndex] = hvRecursive(dimIndex - 1, length, bounds)\n",
    "                    if q.area[dimIndex] <= q.prev[dimIndex].area[dimIndex]:\n",
    "                        q.ignore = dimIndex\n",
    "            hvol -= q.area[dimIndex] * q.cargo[dimIndex]\n",
    "            return hvol\n",
    "\n",
    "\n",
    "    def preProcess(self, front):\n",
    "        \"\"\"Sets up the list data structure needed for calculation.\"\"\"\n",
    "        dimensions = len(self.referencePoint)\n",
    "        nodeList = MultiList(dimensions)\n",
    "        nodes = [MultiList.Node(dimensions, point) for point in front]\n",
    "        for i in xrange(dimensions):\n",
    "            self.sortByDimension(nodes, i)\n",
    "            nodeList.extend(nodes, i)\n",
    "        self.list = nodeList\n",
    "\n",
    "\n",
    "    def sortByDimension(self, nodes, i):\n",
    "        \"\"\"Sorts the list of nodes by the i-th value of the contained points.\"\"\"\n",
    "        # build a list of tuples of (point[i], node)\n",
    "        decorated = [(node.cargo[i], node) for node in nodes]\n",
    "        # sort by this value\n",
    "        decorated.sort()\n",
    "        # write back to original list\n",
    "        nodes[:] = [node for (_, node) in decorated]\n",
    "            \n",
    "            \n",
    "            \n",
    "class MultiList: \n",
    "    \"\"\"A special data structure needed by FonsecaHyperVolume. \n",
    "    \n",
    "    It consists of several doubly linked lists that share common nodes. So, \n",
    "    every node has multiple predecessors and successors, one in every list.\n",
    "\n",
    "    \"\"\"\n",
    "\n",
    "    class Node: \n",
    "        \n",
    "        def __init__(self, numberLists, cargo=None): \n",
    "            self.cargo = cargo \n",
    "            self.next  = [None] * numberLists\n",
    "            self.prev = [None] * numberLists\n",
    "            self.ignore = 0\n",
    "            self.area = [0.0] * numberLists\n",
    "            self.volume = [0.0] * numberLists\n",
    "    \n",
    "        def __str__(self): \n",
    "            return str(self.cargo)\n",
    "        \n",
    "        \n",
    "    def __init__(self, numberLists):  \n",
    "        \"\"\"Constructor. \n",
    "        \n",
    "        Builds 'numberLists' doubly linked lists.\n",
    "\n",
    "        \"\"\"\n",
    "        self.numberLists = numberLists\n",
    "        self.sentinel = MultiList.Node(numberLists)\n",
    "        self.sentinel.next = [self.sentinel] * numberLists\n",
    "        self.sentinel.prev = [self.sentinel] * numberLists  \n",
    "        \n",
    "        \n",
    "    def __str__(self):\n",
    "        strings = []\n",
    "        for i in xrange(self.numberLists):\n",
    "            currentList = []\n",
    "            node = self.sentinel.next[i]\n",
    "            while node != self.sentinel:\n",
    "                currentList.append(str(node))\n",
    "                node = node.next[i]\n",
    "            strings.append(str(currentList))\n",
    "        stringRepr = \"\"\n",
    "        for string in strings:\n",
    "            stringRepr += string + \"\\n\"\n",
    "        return stringRepr\n",
    "    \n",
    "    \n",
    "    def __len__(self):\n",
    "        \"\"\"Returns the number of lists that are included in this MultiList.\"\"\"\n",
    "        return self.numberLists\n",
    "    \n",
    "    \n",
    "    def getLength(self, i):\n",
    "        \"\"\"Returns the length of the i-th list.\"\"\"\n",
    "        length = 0\n",
    "        sentinel = self.sentinel\n",
    "        node = sentinel.next[i]\n",
    "        while node != sentinel:\n",
    "            length += 1\n",
    "            node = node.next[i]\n",
    "        return length\n",
    "            \n",
    "            \n",
    "    def append(self, node, index):\n",
    "        \"\"\"Appends a node to the end of the list at the given index.\"\"\"\n",
    "        lastButOne = self.sentinel.prev[index]\n",
    "        node.next[index] = self.sentinel\n",
    "        node.prev[index] = lastButOne\n",
    "        # set the last element as the new one\n",
    "        self.sentinel.prev[index] = node\n",
    "        lastButOne.next[index] = node\n",
    "        \n",
    "        \n",
    "    def extend(self, nodes, index):\n",
    "        \"\"\"Extends the list at the given index with the nodes.\"\"\"\n",
    "        sentinel = self.sentinel\n",
    "        for node in nodes:\n",
    "            lastButOne = sentinel.prev[index]\n",
    "            node.next[index] = sentinel\n",
    "            node.prev[index] = lastButOne\n",
    "            # set the last element as the new one\n",
    "            sentinel.prev[index] = node\n",
    "            lastButOne.next[index] = node\n",
    "        \n",
    "        \n",
    "    def remove(self, node, index, bounds): \n",
    "        \"\"\"Removes and returns 'node' from all lists in [0, 'index'[.\"\"\"\n",
    "        for i in xrange(index): \n",
    "            predecessor = node.prev[i]\n",
    "            successor = node.next[i]\n",
    "            predecessor.next[i] = successor\n",
    "            successor.prev[i] = predecessor  \n",
    "            if bounds[i] > node.cargo[i]:\n",
    "                bounds[i] = node.cargo[i]\n",
    "        return node\n",
    "    \n",
    "    \n",
    "    def reinsert(self, node, index, bounds):\n",
    "        \"\"\"\n",
    "        Inserts 'node' at the position it had in all lists in [0, 'index'[\n",
    "        before it was removed. This method assumes that the next and previous \n",
    "        nodes of the node that is reinserted are in the list.\n",
    "\n",
    "        \"\"\"\n",
    "        for i in xrange(index): \n",
    "            node.prev[i].next[i] = node\n",
    "            node.next[i].prev[i] = node\n",
    "            if bounds[i] > node.cargo[i]:\n",
    "                bounds[i] = node.cargo[i]         \n",
    "     \n",
    "    \n",
    "\n",
    "print(\"Hypervolume module loaded.\")"
   ]
  },
  {
   "cell_type": "markdown",
   "metadata": {},
   "source": [
    "## Compute fitness and store it"
   ]
  },
  {
   "cell_type": "code",
   "execution_count": 5,
   "metadata": {
    "scrolled": true
   },
   "outputs": [
    {
     "name": "stdout",
     "output_type": "stream",
     "text": [
      "Run: AWiJpMKRMEaT9KPShMbK | RandomSearch | seed: 1 | number of docs/evals: 100 | iterations to process: 10\n",
      "Run: AWiJpOrRMEaT9KPShMdt | RandomSearch | seed: 2 | number of docs/evals: 100 | iterations to process: 10\n",
      "Run: AWiJoVhdMEaT9KPShLjR | RandomSearch | seed: 3 | number of docs/evals: 100 | iterations to process: 10\n",
      "Run: AWiJpYUPMEaT9KPShMn2 | RandomSearch | seed: 4 | number of docs/evals: 100 | iterations to process: 10\n",
      "Run: AWiJpaw2MEaT9KPShMqZ | RandomSearch | seed: 5 | number of docs/evals: 100 | iterations to process: 10\n",
      "Run: AWiJoWeZMEaT9KPShLjT | RandomSearch | seed: 6 | number of docs/evals: 100 | iterations to process: 10\n",
      "Run: AWiJoXrTMEaT9KPShLl1 | RandomSearch | seed: 7 | number of docs/evals: 100 | iterations to process: 10\n",
      "Run: AWiJoY64MEaT9KPShLl3 | RandomSearch | seed: 8 | number of docs/evals: 100 | iterations to process: 10\n",
      "Run: AWiJoaIYMEaT9KPShLl4 | RandomSearch | seed: 9 | number of docs/evals: 100 | iterations to process: 10\n",
      "Run: AWiJobX1MEaT9KPShLob | RandomSearch | seed: 10 | number of docs/evals: 100 | iterations to process: 10\n",
      "Run: AWiJockdMEaT9KPShLq9 | RandomSearch | seed: 11 | number of docs/evals: 100 | iterations to process: 10\n",
      "Run: AWiJodzqMEaT9KPShLq_ | RandomSearch | seed: 12 | number of docs/evals: 100 | iterations to process: 10\n",
      "Run: AWiJofBKMEaT9KPShLth | RandomSearch | seed: 13 | number of docs/evals: 100 | iterations to process: 10\n",
      "Run: AWiJogR-MEaT9KPShLtj | RandomSearch | seed: 14 | number of docs/evals: 100 | iterations to process: 10\n",
      "Run: AWiJohhKMEaT9KPShLwF | RandomSearch | seed: 15 | number of docs/evals: 100 | iterations to process: 10\n",
      "Min | Average | Max number of reused evaluations per run: 0 | 0.0 | 0 | \n",
      "==========================================================\n",
      "Run: AWiKOnqCMEaT9KPShzQe | RandomSearch | seed: 1 | number of docs/evals: 100 | iterations to process: 10\n",
      "Run: AWiKPZdCMEaT9KPSh0Gx | RandomSearch | seed: 2 | number of docs/evals: 100 | iterations to process: 10\n",
      "Run: AWiKOo9TMEaT9KPShzTD | RandomSearch | seed: 3 | number of docs/evals: 100 | iterations to process: 10\n",
      "Run: AWiKOragMEaT9KPShzVp | RandomSearch | seed: 4 | number of docs/evals: 100 | iterations to process: 10\n",
      "Run: AWiKOt2jMEaT9KPShzYP | RandomSearch | seed: 5 | number of docs/evals: 100 | iterations to process: 10\n",
      "Run: AWiKOwTUMEaT9KPShza1 | RandomSearch | seed: 6 | number of docs/evals: 100 | iterations to process: 10\n",
      "Run: AWiKOyyuMEaT9KPShzdc | RandomSearch | seed: 7 | number of docs/evals: 100 | iterations to process: 10\n",
      "Run: AWiKO1PnMEaT9KPShzgC | RandomSearch | seed: 8 | number of docs/evals: 100 | iterations to process: 10\n",
      "Run: AWiKO3r1MEaT9KPShzio | RandomSearch | seed: 9 | number of docs/evals: 100 | iterations to process: 10\n",
      "Run: AWiKO6NSMEaT9KPShzlO | RandomSearch | seed: 10 | number of docs/evals: 100 | iterations to process: 10\n",
      "Min | Average | Max number of reused evaluations per run: 0 | 0.0 | 0 | \n",
      "==========================================================\n",
      "Run: AWiPDJp-MEaT9KPSm1_u | RandomSearch | seed: 1 | number of docs/evals: 100 | iterations to process: 10\n",
      "Run: AWiPDMFdMEaT9KPSm2Ca | RandomSearch | seed: 2 | number of docs/evals: 100 | iterations to process: 10\n",
      "Run: AWiPDOhXMEaT9KPSm2FH | RandomSearch | seed: 3 | number of docs/evals: 100 | iterations to process: 10\n",
      "Run: AWiPDQ9wMEaT9KPSm2Hz | RandomSearch | seed: 4 | number of docs/evals: 100 | iterations to process: 10\n",
      "Run: AWiPDTbxMEaT9KPSm2Kf | RandomSearch | seed: 5 | number of docs/evals: 100 | iterations to process: 10\n",
      "Run: AWiPDV4zMEaT9KPSm2NL | RandomSearch | seed: 6 | number of docs/evals: 100 | iterations to process: 10\n",
      "Run: AWiPDYThMEaT9KPSm2P3 | RandomSearch | seed: 7 | number of docs/evals: 100 | iterations to process: 10\n",
      "Run: AWiPDaxkMEaT9KPSm2Sj | RandomSearch | seed: 8 | number of docs/evals: 100 | iterations to process: 10\n",
      "Run: AWiPDdMiMEaT9KPSm2VP | RandomSearch | seed: 9 | number of docs/evals: 100 | iterations to process: 10\n",
      "Run: AWiPDfq-MEaT9KPSm2X7 | RandomSearch | seed: 10 | number of docs/evals: 100 | iterations to process: 10\n",
      "Run: AWiPDiIfMEaT9KPSm2an | RandomSearch | seed: 11 | number of docs/evals: 100 | iterations to process: 10\n",
      "Run: AWiPDko9MEaT9KPSm2dT | RandomSearch | seed: 12 | number of docs/evals: 100 | iterations to process: 10\n",
      "Run: AWiPDm9nMEaT9KPSm2f_ | RandomSearch | seed: 13 | number of docs/evals: 100 | iterations to process: 10\n",
      "Run: AWiPDphZMEaT9KPSm2ir | RandomSearch | seed: 14 | number of docs/evals: 100 | iterations to process: 10\n",
      "Run: AWiPDr4XMEaT9KPSm2lX | RandomSearch | seed: 15 | number of docs/evals: 100 | iterations to process: 10\n",
      "Min | Average | Max number of reused evaluations per run: 0 | 0.0 | 0 | \n",
      "==========================================================\n",
      "Run: AWiG5pOJMEaT9KPSea43 | MLR | seed: 2 | number of docs/evals: 100 | iterations to process: 100\n",
      "Run: AWiG48LhMEaT9KPSeakl | MLR | seed: 3 | number of docs/evals: 100 | iterations to process: 100\n",
      "Run: AWiG49RHMEaT9KPSeanE | MLR | seed: 4 | number of docs/evals: 100 | iterations to process: 100\n",
      "Run: AWiG4-e_MEaT9KPSeanG | MLR | seed: 5 | number of docs/evals: 100 | iterations to process: 100\n",
      "Run: AWiG4_ttMEaT9KPSeapl | MLR | seed: 6 | number of docs/evals: 100 | iterations to process: 100\n",
      "Run: AWiG5A-LMEaT9KPSeapn | MLR | seed: 7 | number of docs/evals: 100 | iterations to process: 100\n",
      "Run: AWiG5CK1MEaT9KPSeasH | MLR | seed: 8 | number of docs/evals: 100 | iterations to process: 100\n",
      "Run: AWiG5DYsMEaT9KPSeasJ | MLR | seed: 9 | number of docs/evals: 100 | iterations to process: 100\n",
      "Run: AWiG5EnAMEaT9KPSeauo | MLR | seed: 10 | number of docs/evals: 100 | iterations to process: 100\n",
      "Run: AWiG5F1MMEaT9KPSeauq | MLR | seed: 11 | number of docs/evals: 100 | iterations to process: 100\n",
      "Run: AWiG5HDlMEaT9KPSeaxJ | MLR | seed: 12 | number of docs/evals: 100 | iterations to process: 100\n",
      "Run: AWiG5IVNMEaT9KPSeaxL | MLR | seed: 13 | number of docs/evals: 100 | iterations to process: 100\n",
      "Run: AWiG5JkGMEaT9KPSeaxM | MLR | seed: 14 | number of docs/evals: 100 | iterations to process: 100\n",
      "Run: AWiG5KzdMEaT9KPSeazs | MLR | seed: 15 | number of docs/evals: 100 | iterations to process: 100\n",
      "Min | Average | Max number of reused evaluations per run: 0 | 0.0 | 0 | \n",
      "==========================================================\n",
      "Run: AWh7LJ_gMEaT9KPSTPdp | MLR | seed: 1 | number of docs/evals: 100 | iterations to process: 100\n",
      "Run: AWh7LK7CMEaT9KPSTPf4 | MLR | seed: 2 | number of docs/evals: 100 | iterations to process: 100\n",
      "Run: AWh7LMJGMEaT9KPSTPf6 | MLR | seed: 3 | number of docs/evals: 100 | iterations to process: 100\n",
      "Run: AWh-4GMBMEaT9KPSWtjB | MLR | seed: 4 | number of docs/evals: 100 | iterations to process: 100\n",
      "Run: AWh7LOl9MEaT9KPSTPiL | MLR | seed: 5 | number of docs/evals: 100 | iterations to process: 100\n",
      "Run: AWh7LP0tMEaT9KPSTPka | MLR | seed: 6 | number of docs/evals: 100 | iterations to process: 100\n",
      "Run: AWh7LRCUMEaT9KPSTPkc | MLR | seed: 7 | number of docs/evals: 100 | iterations to process: 100\n",
      "Run: AWh7LSQzMEaT9KPSTPmr | MLR | seed: 8 | number of docs/evals: 100 | iterations to process: 100\n",
      "Run: AWh7LTgzMEaT9KPSTPmu | MLR | seed: 9 | number of docs/evals: 100 | iterations to process: 100\n",
      "Run: AWh7LUwPMEaT9KPSTPo9 | MLR | seed: 10 | number of docs/evals: 100 | iterations to process: 100\n",
      "Run: AWh7LV7fMEaT9KPSTPo_ | MLR | seed: 11 | number of docs/evals: 100 | iterations to process: 100\n",
      "Run: AWh7LXNXMEaT9KPSTPrO | MLR | seed: 12 | number of docs/evals: 100 | iterations to process: 100\n",
      "Run: AWh7LYatMEaT9KPSTPrQ | MLR | seed: 13 | number of docs/evals: 100 | iterations to process: 100\n",
      "Run: AWh7LZs1MEaT9KPSTPtf | MLR | seed: 14 | number of docs/evals: 100 | iterations to process: 100\n",
      "Run: AWh7La5KMEaT9KPSTPth | MLR | seed: 15 | number of docs/evals: 100 | iterations to process: 100\n",
      "Run: AWh-4ORBMEaT9KPSWtp7 | MLR | seed: 16 | number of docs/evals: 100 | iterations to process: 100\n",
      "Run: AWh-4PeFMEaT9KPSWtsP | MLR | seed: 17 | number of docs/evals: 100 | iterations to process: 100\n",
      "Run: AWh-4QsZMEaT9KPSWtsQ | MLR | seed: 18 | number of docs/evals: 100 | iterations to process: 100\n",
      "Run: AWh-4R6vMEaT9KPSWtuk | MLR | seed: 19 | number of docs/evals: 100 | iterations to process: 100\n",
      "Run: AWh-4TJHMEaT9KPSWtul | MLR | seed: 20 | number of docs/evals: 100 | iterations to process: 100\n"
     ]
    },
    {
     "name": "stdout",
     "output_type": "stream",
     "text": [
      "Run: AWh-4UXcMEaT9KPSWtw5 | MLR | seed: 21 | number of docs/evals: 100 | iterations to process: 100\n",
      "Run: AWh-4Vl9MEaT9KPSWtw6 | MLR | seed: 22 | number of docs/evals: 100 | iterations to process: 100\n",
      "Run: AWh-4W0vMEaT9KPSWtzO | MLR | seed: 23 | number of docs/evals: 100 | iterations to process: 100\n",
      "Run: AWh-4YErMEaT9KPSWtzP | MLR | seed: 24 | number of docs/evals: 100 | iterations to process: 100\n",
      "Run: AWh-4ZSGMEaT9KPSWt1j | MLR | seed: 25 | number of docs/evals: 100 | iterations to process: 100\n",
      "Run: AWh-4afdMEaT9KPSWt1k | MLR | seed: 26 | number of docs/evals: 100 | iterations to process: 100\n",
      "Run: AWh-4bzZMEaT9KPSWt34 | MLR | seed: 27 | number of docs/evals: 100 | iterations to process: 100\n",
      "Run: AWh-4c-IMEaT9KPSWt35 | MLR | seed: 28 | number of docs/evals: 100 | iterations to process: 100\n",
      "Run: AWh-4ePPMEaT9KPSWt6N | MLR | seed: 29 | number of docs/evals: 100 | iterations to process: 100\n",
      "Run: AWh-4fZBMEaT9KPSWt6O | MLR | seed: 30 | number of docs/evals: 100 | iterations to process: 100\n",
      "Min | Average | Max number of reused evaluations per run: 0 | 0.0 | 0 | \n",
      "==========================================================\n",
      "Run: AWh265GtMEaT9KPSPZpB | MLR | seed: 1 | number of docs/evals: 100 | iterations to process: 100\n",
      "Run: AWh266RnMEaT9KPSPZpC | MLR | seed: 2 | number of docs/evals: 100 | iterations to process: 100\n",
      "Run: AWh267fUMEaT9KPSPZrM | MLR | seed: 3 | number of docs/evals: 100 | iterations to process: 100\n",
      "Run: AWh268tpMEaT9KPSPZrN | MLR | seed: 4 | number of docs/evals: 100 | iterations to process: 100\n",
      "Run: AWh2698HMEaT9KPSPZtW | MLR | seed: 5 | number of docs/evals: 100 | iterations to process: 100\n",
      "Run: AWh26_KoMEaT9KPSPZtX | MLR | seed: 6 | number of docs/evals: 100 | iterations to process: 100\n",
      "Run: AWiBuhMnMEaT9KPSZa6N | MLR | seed: 7 | number of docs/evals: 100 | iterations to process: 100\n",
      "Run: AWh27BrEMEaT9KPSPZvh | MLR | seed: 8 | number of docs/evals: 100 | iterations to process: 100\n",
      "Run: AWh27C4TMEaT9KPSPZxq | MLR | seed: 9 | number of docs/evals: 100 | iterations to process: 100\n",
      "Run: AWiBuq6AMEaT9KPSZbDq | MLR | seed: 10 | number of docs/evals: 100 | iterations to process: 100\n",
      "Run: AWh27FVCMEaT9KPSPZz0 | MLR | seed: 11 | number of docs/evals: 100 | iterations to process: 100\n",
      "Run: AWh27GjDMEaT9KPSPZz2 | MLR | seed: 12 | number of docs/evals: 100 | iterations to process: 100\n",
      "Run: AWh27HudMEaT9KPSPZ1_ | MLR | seed: 13 | number of docs/evals: 100 | iterations to process: 100\n",
      "Run: AWh27JBBMEaT9KPSPZ2A | MLR | seed: 14 | number of docs/evals: 100 | iterations to process: 100\n",
      "Run: AWh27KKQMEaT9KPSPZ4J | MLR | seed: 15 | number of docs/evals: 100 | iterations to process: 100\n",
      "Run: AWiEZi8JMEaT9KPScCkH | MLR | seed: 16 | number of docs/evals: 100 | iterations to process: 100\n",
      "Run: AWiBuzJFMEaT9KPSZbKy | MLR | seed: 17 | number of docs/evals: 100 | iterations to process: 100\n",
      "Run: AWiBu0YbMEaT9KPSZbNJ | MLR | seed: 18 | number of docs/evals: 100 | iterations to process: 100\n",
      "Run: AWiBu1mIMEaT9KPSZbNL | MLR | seed: 19 | number of docs/evals: 100 | iterations to process: 100\n",
      "Run: AWiBu20HMEaT9KPSZbPi | MLR | seed: 20 | number of docs/evals: 100 | iterations to process: 100\n",
      "Run: AWiBu4CfMEaT9KPSZbPk | MLR | seed: 21 | number of docs/evals: 100 | iterations to process: 100\n",
      "Run: AWiEZqNbMEaT9KPScCrZ | MLR | seed: 22 | number of docs/evals: 100 | iterations to process: 100\n",
      "Run: AWiBu6fMMEaT9KPSZbR9 | MLR | seed: 23 | number of docs/evals: 100 | iterations to process: 100\n",
      "Run: AWiBu7vJMEaT9KPSZbUU | MLR | seed: 24 | number of docs/evals: 100 | iterations to process: 100\n",
      "Run: AWiBu87gMEaT9KPSZbUW | MLR | seed: 25 | number of docs/evals: 100 | iterations to process: 100\n",
      "Run: AWiBu-LnMEaT9KPSZbWt | MLR | seed: 26 | number of docs/evals: 100 | iterations to process: 100\n",
      "Run: AWiBu_fwMEaT9KPSZbWv | MLR | seed: 27 | number of docs/evals: 100 | iterations to process: 100\n",
      "Run: AWiBvAogMEaT9KPSZbZG | MLR | seed: 28 | number of docs/evals: 100 | iterations to process: 100\n",
      "Run: AWiBvB_EMEaT9KPSZbZI | MLR | seed: 29 | number of docs/evals: 100 | iterations to process: 100\n",
      "Run: AWiBvDPaMEaT9KPSZbbf | MLR | seed: 30 | number of docs/evals: 100 | iterations to process: 100\n",
      "Min | Average | Max number of reused evaluations per run: 0 | 0.0 | 0 | \n",
      "==========================================================\n",
      "Run: AWiKMQLkMEaT9KPShwxa | NoveltySearch | seed: 1 | number of docs/evals: 100 | iterations to process: 10\n",
      "Run: AWiKNPfYMEaT9KPShx0M | NoveltySearch | seed: 2 | number of docs/evals: 100 | iterations to process: 10\n",
      "Run: AWiKMSA8MEaT9KPShwz_ | NoveltySearch | seed: 3 | number of docs/evals: 100 | iterations to process: 10\n",
      "Run: AWiKMUfJMEaT9KPShw2k | NoveltySearch | seed: 4 | number of docs/evals: 100 | iterations to process: 10\n",
      "Run: AWiKMW6gMEaT9KPShw5J | NoveltySearch | seed: 5 | number of docs/evals: 100 | iterations to process: 10\n",
      "Run: AWiKMZYgMEaT9KPShw7v | NoveltySearch | seed: 6 | number of docs/evals: 100 | iterations to process: 10\n",
      "Run: AWiKMb1vMEaT9KPShw-U | NoveltySearch | seed: 7 | number of docs/evals: 100 | iterations to process: 10\n",
      "Run: AWiKMeR6MEaT9KPShxA5 | NoveltySearch | seed: 8 | number of docs/evals: 100 | iterations to process: 10\n",
      "Run: AWiKMg01MEaT9KPShxDe | NoveltySearch | seed: 9 | number of docs/evals: 100 | iterations to process: 10\n",
      "Run: AWiKMjItMEaT9KPShxGD | NoveltySearch | seed: 10 | number of docs/evals: 100 | iterations to process: 10\n",
      "Run: AWiMcrVjMEaT9KPSkHg9 | NoveltySearch | seed: 11 | number of docs/evals: 100 | iterations to process: 10\n",
      "Run: AWiMctxqMEaT9KPSkHjj | NoveltySearch | seed: 12 | number of docs/evals: 100 | iterations to process: 10\n",
      "Run: AWiMcwONMEaT9KPSkHmJ | NoveltySearch | seed: 13 | number of docs/evals: 100 | iterations to process: 10\n",
      "Run: AWiMcysiMEaT9KPSkHov | NoveltySearch | seed: 14 | number of docs/evals: 100 | iterations to process: 10\n",
      "Run: AWiMc1KCMEaT9KPSkHrV | NoveltySearch | seed: 15 | number of docs/evals: 100 | iterations to process: 10\n",
      "Run: AWiMc3m1MEaT9KPSkHt7 | NoveltySearch | seed: 16 | number of docs/evals: 100 | iterations to process: 10\n",
      "Run: AWiMc6DpMEaT9KPSkHwh | NoveltySearch | seed: 17 | number of docs/evals: 100 | iterations to process: 10\n",
      "Run: AWiMc8fhMEaT9KPSkHzH | NoveltySearch | seed: 18 | number of docs/evals: 100 | iterations to process: 10\n",
      "Run: AWiMc_AUMEaT9KPSkH1t | NoveltySearch | seed: 19 | number of docs/evals: 100 | iterations to process: 10\n",
      "Run: AWiMdBaYMEaT9KPSkH4T | NoveltySearch | seed: 20 | number of docs/evals: 100 | iterations to process: 10\n",
      "Min | Average | Max number of reused evaluations per run: 9 | 16.9 | 26 | \n",
      "==========================================================\n",
      "Run: AWiPFwOfMEaT9KPSm42J | NoveltySearch | seed: 1 | number of docs/evals: 100 | iterations to process: 10\n",
      "Run: AWiPFyohMEaT9KPSm441 | NoveltySearch | seed: 2 | number of docs/evals: 100 | iterations to process: 10\n",
      "Run: AWiPF1GyMEaT9KPSm47h | NoveltySearch | seed: 3 | number of docs/evals: 100 | iterations to process: 10\n",
      "Run: AWiPF3iXMEaT9KPSm4-N | NoveltySearch | seed: 4 | number of docs/evals: 100 | iterations to process: 10\n",
      "Run: AWiPF5_8MEaT9KPSm5A5 | NoveltySearch | seed: 5 | number of docs/evals: 100 | iterations to process: 10\n",
      "Run: AWiPF8dqMEaT9KPSm5Dl | NoveltySearch | seed: 6 | number of docs/evals: 100 | iterations to process: 10\n",
      "Run: AWiPF--ZMEaT9KPSm5GR | NoveltySearch | seed: 7 | number of docs/evals: 100 | iterations to process: 10\n",
      "Run: AWiPGBb7MEaT9KPSm5I9 | NoveltySearch | seed: 8 | number of docs/evals: 100 | iterations to process: 10\n",
      "Run: AWiPGD80MEaT9KPSm5Lp | NoveltySearch | seed: 9 | number of docs/evals: 93 | iterations to process: 10\n",
      "Skip run for further analysis, only 93 documents/evaluations present.\n",
      "Run: AWiPGGaDMEaT9KPSm5OV | NoveltySearch | seed: 10 | number of docs/evals: 88 | iterations to process: 10\n",
      "Skip run for further analysis, only 88 documents/evaluations present.\n",
      "Min | Average | Max number of reused evaluations per run: 4 | 17.0 | 26 | \n",
      "==========================================================\n",
      "Run: AWh2_TDsMEaT9KPSPdeZ | NoveltySearch | seed: 1 | number of docs/evals: 100 | iterations to process: 10\n",
      "Run: AWh2_TNfMEaT9KPSPdea | NoveltySearch | seed: 2 | number of docs/evals: 100 | iterations to process: 10\n",
      "Run: AWh2_VqXMEaT9KPSPdgl | NoveltySearch | seed: 3 | number of docs/evals: 100 | iterations to process: 10\n",
      "Run: AWh2_YG3MEaT9KPSPdiw | NoveltySearch | seed: 4 | number of docs/evals: 100 | iterations to process: 10\n"
     ]
    },
    {
     "name": "stdout",
     "output_type": "stream",
     "text": [
      "Run: AWh2_ajjMEaT9KPSPdk7 | NoveltySearch | seed: 5 | number of docs/evals: 100 | iterations to process: 10\n",
      "Run: AWh2_dAeMEaT9KPSPdnG | NoveltySearch | seed: 6 | number of docs/evals: 100 | iterations to process: 10\n",
      "Run: AWh2_fcoMEaT9KPSPdpR | NoveltySearch | seed: 7 | number of docs/evals: 100 | iterations to process: 10\n",
      "Run: AWh2_h5MMEaT9KPSPdrc | NoveltySearch | seed: 8 | number of docs/evals: 100 | iterations to process: 10\n",
      "Run: AWh2_kWWMEaT9KPSPdtn | NoveltySearch | seed: 9 | number of docs/evals: 100 | iterations to process: 10\n",
      "Run: AWh2_mzQMEaT9KPSPdvy | NoveltySearch | seed: 10 | number of docs/evals: 100 | iterations to process: 10\n",
      "Run: AWh2_pPHMEaT9KPSPdx9 | NoveltySearch | seed: 11 | number of docs/evals: 100 | iterations to process: 10\n",
      "Run: AWh2_rsSMEaT9KPSPd0I | NoveltySearch | seed: 12 | number of docs/evals: 100 | iterations to process: 10\n",
      "Run: AWh2_uIUMEaT9KPSPd2T | NoveltySearch | seed: 13 | number of docs/evals: 100 | iterations to process: 10\n",
      "Run: AWh2_wkzMEaT9KPSPd4e | NoveltySearch | seed: 14 | number of docs/evals: 100 | iterations to process: 10\n",
      "Run: AWh2_zB_MEaT9KPSPd6p | NoveltySearch | seed: 15 | number of docs/evals: 100 | iterations to process: 10\n",
      "Run: AWiF75q5MEaT9KPSdkYp | NoveltySearch | seed: 16 | number of docs/evals: 100 | iterations to process: 10\n",
      "Run: AWiF76SrMEaT9KPSdkYq | NoveltySearch | seed: 17 | number of docs/evals: 100 | iterations to process: 10\n",
      "Run: AWiF799vMEaT9KPSdkdj | NoveltySearch | seed: 18 | number of docs/evals: 100 | iterations to process: 10\n",
      "Run: AWiF8BovMEaT9KPSdkgA | NoveltySearch | seed: 19 | number of docs/evals: 100 | iterations to process: 10\n",
      "Run: AWiF8FRnMEaT9KPSdkk5 | NoveltySearch | seed: 20 | number of docs/evals: 100 | iterations to process: 10\n",
      "Run: AWiF8I9jMEaT9KPSdknW | NoveltySearch | seed: 21 | number of docs/evals: 100 | iterations to process: 10\n",
      "Run: AWiF8MoTMEaT9KPSdksP | NoveltySearch | seed: 22 | number of docs/evals: 100 | iterations to process: 10\n",
      "Run: AWiF8QSkMEaT9KPSdkus | NoveltySearch | seed: 23 | number of docs/evals: 100 | iterations to process: 10\n",
      "Run: AWiF8T-IMEaT9KPSdkzl | NoveltySearch | seed: 24 | number of docs/evals: 100 | iterations to process: 10\n",
      "Run: AWiF8XoNMEaT9KPSdk2C | NoveltySearch | seed: 25 | number of docs/evals: 100 | iterations to process: 10\n",
      "Run: AWiF8bSuMEaT9KPSdk67 | NoveltySearch | seed: 26 | number of docs/evals: 100 | iterations to process: 10\n",
      "Run: AWiF8e97MEaT9KPSdk9Y | NoveltySearch | seed: 27 | number of docs/evals: 100 | iterations to process: 10\n",
      "Run: AWiF8in8MEaT9KPSdlCR | NoveltySearch | seed: 28 | number of docs/evals: 100 | iterations to process: 10\n",
      "Run: AWiF8mSqMEaT9KPSdlEu | NoveltySearch | seed: 29 | number of docs/evals: 100 | iterations to process: 10\n",
      "Run: AWiF8p95MEaT9KPSdlJn | NoveltySearch | seed: 30 | number of docs/evals: 100 | iterations to process: 10\n",
      "Min | Average | Max number of reused evaluations per run: 10 | 18.1 | 35 | \n",
      "==========================================================\n",
      "Run: AWiMbcZRMEaT9KPSkGLp | NSGAII | seed: 1 | number of docs/evals: 100 | iterations to process: 10\n",
      "Run: AWiMbezzMEaT9KPSkGOP | NSGAII | seed: 2 | number of docs/evals: 100 | iterations to process: 10\n",
      "Run: AWiMbhP3MEaT9KPSkGQ1 | NSGAII | seed: 3 | number of docs/evals: 100 | iterations to process: 10\n",
      "Run: AWiMbjsZMEaT9KPSkGTb | NSGAII | seed: 4 | number of docs/evals: 100 | iterations to process: 10\n",
      "Run: AWiMbmKnMEaT9KPSkGWC | NSGAII | seed: 5 | number of docs/evals: 100 | iterations to process: 10\n",
      "Run: AWiMbolJMEaT9KPSkGYo | NSGAII | seed: 6 | number of docs/evals: 100 | iterations to process: 10\n",
      "Run: AWiMbrCpMEaT9KPSkGbO | NSGAII | seed: 7 | number of docs/evals: 100 | iterations to process: 10\n",
      "Run: AWiMbtgqMEaT9KPSkGd0 | NSGAII | seed: 8 | number of docs/evals: 100 | iterations to process: 10\n",
      "Run: AWiMbv7JMEaT9KPSkGga | NSGAII | seed: 9 | number of docs/evals: 100 | iterations to process: 10\n",
      "Run: AWiMbyYnMEaT9KPSkGjA | NSGAII | seed: 10 | number of docs/evals: 100 | iterations to process: 10\n",
      "Run: AWiMb03rMEaT9KPSkGlm | NSGAII | seed: 11 | number of docs/evals: 100 | iterations to process: 10\n",
      "Run: AWiMb3XRMEaT9KPSkGoM | NSGAII | seed: 12 | number of docs/evals: 100 | iterations to process: 10\n",
      "Run: AWiMb5ulMEaT9KPSkGqy | NSGAII | seed: 13 | number of docs/evals: 100 | iterations to process: 10\n",
      "Run: AWiMb8QZMEaT9KPSkGtY | NSGAII | seed: 14 | number of docs/evals: 100 | iterations to process: 10\n",
      "Run: AWiMb-pCMEaT9KPSkGv- | NSGAII | seed: 15 | number of docs/evals: 100 | iterations to process: 10\n",
      "Min | Average | Max number of reused evaluations per run: 3 | 10.6666666667 | 23 | \n",
      "==========================================================\n",
      "Run: AWiPD71jMEaT9KPSm21b | NSGAII | seed: 1 | number of docs/evals: 100 | iterations to process: 10\n",
      "Run: AWiPD-RSMEaT9KPSm24H | NSGAII | seed: 2 | number of docs/evals: 100 | iterations to process: 10\n",
      "Run: AWiPEAuFMEaT9KPSm26z | NSGAII | seed: 3 | number of docs/evals: 100 | iterations to process: 10\n",
      "Run: AWiPEDKKMEaT9KPSm29f | NSGAII | seed: 4 | number of docs/evals: 100 | iterations to process: 10\n",
      "Run: AWiPEFnAMEaT9KPSm3AL | NSGAII | seed: 5 | number of docs/evals: 100 | iterations to process: 10\n",
      "Run: AWiPEIFHMEaT9KPSm3C3 | NSGAII | seed: 6 | number of docs/evals: 100 | iterations to process: 10\n",
      "Run: AWiPEKhEMEaT9KPSm3Fj | NSGAII | seed: 7 | number of docs/evals: 100 | iterations to process: 10\n",
      "Run: AWiPEM_MMEaT9KPSm3IP | NSGAII | seed: 8 | number of docs/evals: 100 | iterations to process: 10\n",
      "Run: AWiPEPbaMEaT9KPSm3K7 | NSGAII | seed: 9 | number of docs/evals: 100 | iterations to process: 10\n",
      "Run: AWiPER7NMEaT9KPSm3Nn | NSGAII | seed: 10 | number of docs/evals: 100 | iterations to process: 10\n",
      "Min | Average | Max number of reused evaluations per run: 3 | 13.2 | 23 | \n",
      "==========================================================\n",
      "Run: AWiPNfMIMEaT9KPSnBUv | NSGAII | seed: 1 | number of docs/evals: 100 | iterations to process: 10\n",
      "Run: AWiPNhn2MEaT9KPSnBXb | NSGAII | seed: 2 | number of docs/evals: 100 | iterations to process: 10\n",
      "Run: AWiPNkEgMEaT9KPSnBaH | NSGAII | seed: 3 | number of docs/evals: 100 | iterations to process: 10\n",
      "Run: AWiPNmg2MEaT9KPSnBcz | NSGAII | seed: 4 | number of docs/evals: 100 | iterations to process: 10\n",
      "Run: AWiPNo-LMEaT9KPSnBff | NSGAII | seed: 5 | number of docs/evals: 100 | iterations to process: 10\n",
      "Run: AWiPNrakMEaT9KPSnBiL | NSGAII | seed: 6 | number of docs/evals: 100 | iterations to process: 10\n",
      "Run: AWiPNt3vMEaT9KPSnBk3 | NSGAII | seed: 7 | number of docs/evals: 100 | iterations to process: 10\n",
      "Run: AWiPNwYRMEaT9KPSnBnj | NSGAII | seed: 8 | number of docs/evals: 26 | iterations to process: 10\n",
      "Skip run for further analysis, only 26 documents/evaluations present.\n",
      "Run: AWiPNyxdMEaT9KPSnBqP | NSGAII | seed: 9 | number of docs/evals: 100 | iterations to process: 10\n",
      "Run: AWiPN1O1MEaT9KPSnBs7 | NSGAII | seed: 10 | number of docs/evals: 100 | iterations to process: 10\n",
      "Min | Average | Max number of reused evaluations per run: 0 | 10.7 | 17 | \n",
      "==========================================================\n"
     ]
    }
   ],
   "source": [
    "import sys\n",
    "import numpy as np\n",
    "import pylab \n",
    "import matplotlib.pyplot as plt\n",
    "import matplotlib as mpl\n",
    "mpl.rc(\"savefig\", dpi=300)\n",
    "# plt.rcParams[\"figure.figsize\"] = [8,6]\n",
    "\n",
    "\n",
    "## params \n",
    "iterations_default = 10\n",
    "iterations_mlr = iterations_default * 10\n",
    "sample_size = 5000\n",
    "total_number_of_docs = 100\n",
    "debug = False\n",
    "\n",
    "## maintain iterations to consider\n",
    "iterations = iterations_default\n",
    "def set_iterations(opt_method):\n",
    "    global iterations\n",
    "    if opt_method == \"MLR\":\n",
    "        iterations = iterations_mlr\n",
    "    else:\n",
    "        iterations = iterations_default \n",
    "        \n",
    "        \n",
    "'''\n",
    "Prints an individuals\n",
    "'''\n",
    "def print_individual(ind):\n",
    "    print(\"Iteration: \" + str(ind[\"iteration\"]) \n",
    "                  + \" | Individual: \" + str(ind[\"individual\"]) \n",
    "                  + \" | Overhead: \" + str(get_overhead(ind)) \n",
    "                  + \" | Routing: \" + str(get_routing(ind)))\n",
    "    print(\"\\tConfiguration:\")\n",
    "    for knob, knob_value in ind[\"knobs\"].iteritems():\n",
    "        print(\"\\t\\t\" + str(knob) + \": \" + str(knob_value))\n",
    "\n",
    "    \n",
    "def get_config_key(ind):\n",
    "    knobs = ind[\"knobs\"]\n",
    "    key = str(knobs[\"re_route_every_ticks\"]) + \",\"\n",
    "    key = key + str(knobs[\"freshness_cut_off_value\"]) + \",\"\n",
    "    key = key + str(knobs[\"average_edge_duration_factor\"]) + \",\"\n",
    "    key = key + str(knobs[\"exploration_percentage\"]) + \",\"\n",
    "    key = key + str(knobs[\"freshness_update_factor\"]) + \",\"\n",
    "    key = key + str(knobs[\"route_random_sigma\"]) + \",\"\n",
    "    key = key + str(knobs[\"max_speed_and_length_factor\"])\n",
    "    return key\n",
    "  \n",
    "    \n",
    "'''\n",
    "Calculate the rolling/moving average\n",
    "'''\n",
    "def calculate_moving_average(aList):\n",
    "    moving_avg = 0\n",
    "    tmp_count = 0\n",
    "    for r in range(len(aList)):\n",
    "        moving_avg = (moving_avg * tmp_count + aList[r]) / (tmp_count + 1)\n",
    "        tmp_count = tmp_count + 1\n",
    "    return moving_avg\n",
    "\n",
    "\n",
    "'''\n",
    "Computes the fitness of all individuals of the given runs and \n",
    "stores the fitness of an individual to the individual.\n",
    "Returns a dictionary where the key is the id of the run and the\n",
    "value are all individuals of this run.\n",
    "'''\n",
    "def compute_fitness(rtx_runs, data):\n",
    "    global worst_overhead\n",
    "    global worst_routing\n",
    "    global best_overhead\n",
    "    global best_routing\n",
    "        \n",
    "    run_to_all_individuals = dict()\n",
    "    # counter how often evaluations have been reused over all rtx runs\n",
    "    number_of_reuse_per_run = []\n",
    "    \n",
    "    # for each run\n",
    "    for rtx_run in rtx_runs:\n",
    "        rtx_run_id = rtx_run[\"id\"]\n",
    "        # get all documents = all evaluations\n",
    "        all_documents = [d[\"_source\"] for d in data if d[\"parent\"] == rtx_run_id]\n",
    "        try:\n",
    "            opt_method = rtx_run[\"strategy\"][\"optimizer_method\"]\n",
    "        except:\n",
    "            # mlr does not store the opt method name in field strategy.optimizer_method\n",
    "            opt_method = \"MLR\"\n",
    "        # set iterations\n",
    "        set_iterations(opt_method)\n",
    "        \n",
    "        if debug:\n",
    "            print(\"================================================================\")\n",
    "        print(\"Run: \" + rtx_run_id + \" | \" + opt_method \n",
    "              + \" | seed: \" + str(rtx_run[\"seed\"]) \n",
    "              + \" | number of docs/evals: \" + str(len(all_documents))\n",
    "              + \" | iterations to process: \" + str(iterations))\n",
    "        if debug:\n",
    "            print(\"================================================================\")\n",
    "\n",
    "            \n",
    "        # counter how often evaluations have been reused for this rtx run\n",
    "        number_of_reuse = 0\n",
    "        # all inidividuals across all iterations\n",
    "        all_individuals = []\n",
    "        # stored fitnesses for reuse calculated with the fitness function using avg\n",
    "        fitness_store = dict()\n",
    "        \n",
    "        # for each iteration\n",
    "        for i in range(0, iterations):\n",
    "            # get documents of the given iteration for the given run\n",
    "            documents_of_iteration = [d for d in all_documents if d[\"iteration\"] == i]\n",
    "            pop_size = len(documents_of_iteration)\n",
    "            if debug:\n",
    "                print(\"Iteration: \" + str(i) + \" | Population size: \" + str(pop_size))\n",
    "\n",
    "            # for each individual of the iteration\n",
    "            for j in range(len(documents_of_iteration)):        \n",
    "                next_individuals = [d for d in documents_of_iteration if d[\"individual\"] == j]\n",
    "                if len(next_individuals) > 1:\n",
    "                    print(\"ERROR: more than one individual with same number within one iteration.\")\n",
    "                else:\n",
    "                    individual = next_individuals[0] # list of one elem\n",
    "\n",
    "                # get overheads of individual\n",
    "                overheads = individual[\"payload\"][\"overheads\"]\n",
    "                # get routings of individual\n",
    "                routings = individual[\"payload\"][\"routings\"]\n",
    "                if overheads == [-1]:\n",
    "                    # reused fitness evaluations are stored in these fields although \n",
    "                    # the fitness are not the average but the medians. \n",
    "                    med_overhead = individual[\"payload\"][\"avg_overhead\"]  \n",
    "                    med_routing = individual[\"payload\"][\"avg_routing\"]\n",
    "                    # store properly \"median\" fitness values in the individual\n",
    "                    set_fitness_med(individual, med_overhead, med_routing)\n",
    "                    # get fitness for average overhead and routing\n",
    "                    individual_key = get_config_key(individual)\n",
    "                    avg_overhead, avg_routing = fitness_store[individual_key]\n",
    "                    set_fitness_avg(individual, avg_overhead, avg_routing) \n",
    "                    if debug:\n",
    "                        print(\"Individual: \" + individual_key + \" | load fitness: \" \n",
    "                              + str(avg_overhead) + \" \" + str(avg_routing))\n",
    "                    # stats\n",
    "                    number_of_reuse = number_of_reuse + 1\n",
    "                else:\n",
    "                    # sanity checks -- fitness needs not to be computed and stored; it is already there\n",
    "                    if len(overheads) <> sample_size:\n",
    "                        print(\"ERROR: Overhead entries \" + str(len(overheads)) \n",
    "                              + \"<> sample size \" + str(sample_size))\n",
    "                    computed_med_overhead = np.median(overheads) \n",
    "                    computed_med_routing = np.median(routings)\n",
    "                    med_overhead = individual[\"payload\"][\"median_overhead\"]\n",
    "                    med_routing = individual[\"payload\"][\"median_routing\"]\n",
    "                    if med_overhead <> computed_med_overhead:\n",
    "                        print(\"Overhead does not match: \" \n",
    "                              + str(med_overhead) + \" vs \" + str(computed_med_overhead))\n",
    "                    if med_routing <> computed_med_routing:\n",
    "                        print(\"Routing does not match: \" \n",
    "                              + str(med_routing) + \" vs \" + str(computed_med_routing))\n",
    "                        \n",
    "                    # compute and store average values\n",
    "                    avg_overhead = np.mean(overheads)\n",
    "                    avg_routing = np.mean(routings)         \n",
    "                    set_fitness_avg(individual, avg_overhead, avg_routing)\n",
    "                    individual_key = get_config_key(individual)\n",
    "                    fitness_store[individual_key] = avg_overhead, avg_routing\n",
    "                    if debug:\n",
    "                        print(\"Individual: \" + individual_key + \" | store fitness: \" \n",
    "                              + str(avg_overhead) + \" \" + str(avg_routing))\n",
    "               \n",
    "                # use med or avg from now on\n",
    "                if use_median:   \n",
    "                    overhead = med_overhead\n",
    "                    routing = med_routing\n",
    "                else:\n",
    "                    overhead = avg_overhead\n",
    "                    routing = avg_routing\n",
    "                \n",
    "                # check for worst and best cases\n",
    "                if overhead > worst_overhead:\n",
    "                    worst_overhead = overhead\n",
    "                if overhead < best_overhead:\n",
    "                    best_overhead = overhead\n",
    "                if routing > worst_routing:\n",
    "                    worst_routing = routing\n",
    "                if routing < best_routing:\n",
    "                    best_routing = routing\n",
    "                    \n",
    "\n",
    "                if debug:\n",
    "                    print(\"Individual: \" + str(individual[\"individual\"]) \n",
    "                         + \" | Overhead: \" + str(get_overhead(individual))\n",
    "                         + \" | Routing: \" + str(get_routing(individual)))\n",
    "\n",
    "                all_individuals.append(individual)\n",
    "                # next individual\n",
    "\n",
    "            # next iteration\n",
    "            if debug:\n",
    "                print(\"\")\n",
    "\n",
    "        if len(all_documents) == total_number_of_docs:\n",
    "            run_to_all_individuals[rtx_run_id] = all_individuals\n",
    "        else:\n",
    "            print(\"Skip run for further analysis, only \" + str(len(all_documents)) \n",
    "                  + \" documents/evaluations present.\")\n",
    "        number_of_reuse_per_run.append(number_of_reuse)\n",
    "        # next run\n",
    "    print(\"Min | Average | Max number of reused evaluations per run: \"\n",
    "          + str(np.min(number_of_reuse_per_run)) + \" | \"\n",
    "          + str(np.mean(number_of_reuse_per_run)) + \" | \"\n",
    "          + str(np.max(number_of_reuse_per_run)) + \" | \"\n",
    "          + \"\\n==========================================================\")\n",
    "    return run_to_all_individuals\n",
    "      \n",
    "\n",
    "# worst and best objective values achieved in *all* runs\n",
    "worst_overhead = sys.float_info.min\n",
    "worst_routing = sys.float_info.min\n",
    "best_overhead = sys.float_info.max\n",
    "best_routing = sys.float_info.max\n",
    "\n",
    "\n",
    "# check / store fitness\n",
    "\n",
    "# random search \n",
    "random_run_inds_500 = compute_fitness(random_rtx_runs_500, random_data_500)\n",
    "random_run_inds_700 = compute_fitness(random_rtx_runs_700, random_data_700)\n",
    "random_run_inds_800 = compute_fitness(random_rtx_runs_800, random_data_800)\n",
    "\n",
    "# mlr \n",
    "mlr_run_inds_500 = compute_fitness(mlr_rtx_runs_500, mlr_data_500)\n",
    "mlr_run_inds_700 = compute_fitness(mlr_rtx_runs_700, mlr_data_700)\n",
    "mlr_run_inds_800 = compute_fitness(mlr_rtx_runs_800, mlr_data_800)\n",
    "\n",
    "# novelty\n",
    "novelty_run_inds_500 = compute_fitness(novelty_rtx_runs_500, novelty_data_500)\n",
    "novelty_run_inds_700 = compute_fitness(novelty_rtx_runs_700, novelty_data_700)\n",
    "novelty_run_inds_800 = compute_fitness(novelty_rtx_runs_800, novelty_data_800)\n",
    "\n",
    "# nsga2\n",
    "nsga2_run_inds_500 = compute_fitness(nsga2_rtx_runs_500, nsga2_data_500)\n",
    "nsga2_run_inds_700 = compute_fitness(nsga2_rtx_runs_700, nsga2_data_700)\n",
    "nsga2_run_inds_800 = compute_fitness(nsga2_rtx_runs_800, nsga2_data_800)\n"
   ]
  },
  {
   "cell_type": "markdown",
   "metadata": {},
   "source": [
    "## Analyze and plot data"
   ]
  },
  {
   "cell_type": "code",
   "execution_count": 6,
   "metadata": {
    "scrolled": true
   },
   "outputs": [
    {
     "data": {
      "text/markdown": [
       "<span style='color:red'>===========================================================</span>"
      ],
      "text/plain": [
       "<IPython.core.display.Markdown object>"
      ]
     },
     "metadata": {},
     "output_type": "display_data"
    },
    {
     "name": "stdout",
     "output_type": "stream",
     "text": [
      "\n",
      "Run: AWiJpMKRMEaT9KPShMbK | method: RandomSearch | seed: 1 | number of documents/evaluations: 100\n",
      "Reference Point: [2.1799818909780915, 343.0]\n",
      "Hypervolume: 188.268085106\n",
      "\n",
      "Run: AWiJpOrRMEaT9KPShMdt | method: RandomSearch | seed: 2 | number of documents/evaluations: 100\n",
      "Reference Point: [2.1799818909780915, 343.0]\n",
      "Hypervolume: 183.832018134\n",
      "\n",
      "Run: AWiJoVhdMEaT9KPShLjR | method: RandomSearch | seed: 3 | number of documents/evaluations: 100\n",
      "Reference Point: [2.1799818909780915, 343.0]\n",
      "Hypervolume: 182.768551897\n",
      "\n",
      "Run: AWiJpYUPMEaT9KPShMn2 | method: RandomSearch | seed: 4 | number of documents/evaluations: 100\n",
      "Reference Point: [2.1799818909780915, 343.0]\n",
      "Hypervolume: 184.822089113\n",
      "\n",
      "Run: AWiJpaw2MEaT9KPShMqZ | method: RandomSearch | seed: 5 | number of documents/evaluations: 100\n",
      "Reference Point: [2.1799818909780915, 343.0]\n",
      "Hypervolume: 185.234201643\n",
      "\n",
      "Run: AWiJoWeZMEaT9KPShLjT | method: RandomSearch | seed: 6 | number of documents/evaluations: 100\n",
      "Reference Point: [2.1799818909780915, 343.0]\n",
      "Hypervolume: 191.116335678\n",
      "\n",
      "Run: AWiJoXrTMEaT9KPShLl1 | method: RandomSearch | seed: 7 | number of documents/evaluations: 100\n",
      "Reference Point: [2.1799818909780915, 343.0]\n",
      "Hypervolume: 188.653158214\n",
      "\n",
      "Run: AWiJoY64MEaT9KPShLl3 | method: RandomSearch | seed: 8 | number of documents/evaluations: 100\n",
      "Reference Point: [2.1799818909780915, 343.0]\n",
      "Hypervolume: 188.523846311\n",
      "\n",
      "Run: AWiJoaIYMEaT9KPShLl4 | method: RandomSearch | seed: 9 | number of documents/evaluations: 100\n",
      "Reference Point: [2.1799818909780915, 343.0]\n",
      "Hypervolume: 186.343011486\n",
      "\n",
      "Run: AWiJobX1MEaT9KPShLob | method: RandomSearch | seed: 10 | number of documents/evaluations: 100\n",
      "Reference Point: [2.1799818909780915, 343.0]\n",
      "Hypervolume: 185.987362669\n",
      "\n",
      "Run: AWiJockdMEaT9KPShLq9 | method: RandomSearch | seed: 11 | number of documents/evaluations: 100\n",
      "Reference Point: [2.1799818909780915, 343.0]\n",
      "Hypervolume: 184.58524849\n",
      "\n",
      "Run: AWiJodzqMEaT9KPShLq_ | method: RandomSearch | seed: 12 | number of documents/evaluations: 100\n",
      "Reference Point: [2.1799818909780915, 343.0]\n",
      "Hypervolume: 186.09616854\n",
      "\n",
      "Run: AWiJofBKMEaT9KPShLth | method: RandomSearch | seed: 13 | number of documents/evaluations: 100\n",
      "Reference Point: [2.1799818909780915, 343.0]\n",
      "Hypervolume: 184.28710539\n",
      "\n",
      "Run: AWiJogR-MEaT9KPShLtj | method: RandomSearch | seed: 14 | number of documents/evaluations: 100\n",
      "Reference Point: [2.1799818909780915, 343.0]\n",
      "Hypervolume: 190.028168656\n",
      "\n",
      "Run: AWiJohhKMEaT9KPShLwF | method: RandomSearch | seed: 15 | number of documents/evaluations: 100\n",
      "Reference Point: [2.1799818909780915, 343.0]\n",
      "Hypervolume: 186.367402857\n"
     ]
    },
    {
     "data": {
      "text/markdown": [
       "<span style='color:red'>===========================================================</span>"
      ],
      "text/plain": [
       "<IPython.core.display.Markdown object>"
      ]
     },
     "metadata": {},
     "output_type": "display_data"
    },
    {
     "name": "stdout",
     "output_type": "stream",
     "text": [
      "\n",
      "Run: AWiKOnqCMEaT9KPShzQe | method: RandomSearch | seed: 1 | number of documents/evaluations: 100\n",
      "Reference Point: [2.1799818909780915, 343.0]\n",
      "Hypervolume: 125.828823122\n",
      "\n",
      "Run: AWiKPZdCMEaT9KPSh0Gx | method: RandomSearch | seed: 2 | number of documents/evaluations: 100\n",
      "Reference Point: [2.1799818909780915, 343.0]\n",
      "Hypervolume: 131.366931971\n",
      "\n",
      "Run: AWiKOo9TMEaT9KPShzTD | method: RandomSearch | seed: 3 | number of documents/evaluations: 100\n",
      "Reference Point: [2.1799818909780915, 343.0]\n",
      "Hypervolume: 124.048621954\n",
      "\n",
      "Run: AWiKOragMEaT9KPShzVp | method: RandomSearch | seed: 4 | number of documents/evaluations: 100\n",
      "Reference Point: [2.1799818909780915, 343.0]\n",
      "Hypervolume: 125.427972872\n",
      "\n",
      "Run: AWiKOt2jMEaT9KPShzYP | method: RandomSearch | seed: 5 | number of documents/evaluations: 100\n",
      "Reference Point: [2.1799818909780915, 343.0]\n",
      "Hypervolume: 123.013286025\n",
      "\n",
      "Run: AWiKOwTUMEaT9KPShza1 | method: RandomSearch | seed: 6 | number of documents/evaluations: 100\n",
      "Reference Point: [2.1799818909780915, 343.0]\n",
      "Hypervolume: 118.761144579\n",
      "\n",
      "Run: AWiKOyyuMEaT9KPShzdc | method: RandomSearch | seed: 7 | number of documents/evaluations: 100\n",
      "Reference Point: [2.1799818909780915, 343.0]\n",
      "Hypervolume: 128.420419931\n",
      "\n",
      "Run: AWiKO1PnMEaT9KPShzgC | method: RandomSearch | seed: 8 | number of documents/evaluations: 100\n",
      "Reference Point: [2.1799818909780915, 343.0]\n",
      "Hypervolume: 125.862882456\n",
      "\n",
      "Run: AWiKO3r1MEaT9KPShzio | method: RandomSearch | seed: 9 | number of documents/evaluations: 100\n",
      "Reference Point: [2.1799818909780915, 343.0]\n",
      "Hypervolume: 123.12678148\n",
      "\n",
      "Run: AWiKO6NSMEaT9KPShzlO | method: RandomSearch | seed: 10 | number of documents/evaluations: 100\n",
      "Reference Point: [2.1799818909780915, 343.0]\n",
      "Hypervolume: 126.24753007\n"
     ]
    },
    {
     "data": {
      "text/markdown": [
       "<span style='color:red'>===========================================================</span>"
      ],
      "text/plain": [
       "<IPython.core.display.Markdown object>"
      ]
     },
     "metadata": {},
     "output_type": "display_data"
    },
    {
     "name": "stdout",
     "output_type": "stream",
     "text": [
      "\n",
      "Run: AWiPDJp-MEaT9KPSm1_u | method: RandomSearch | seed: 1 | number of documents/evaluations: 100\n",
      "Reference Point: [2.1799818909780915, 343.0]\n",
      "Hypervolume: 97.9399947152\n",
      "\n",
      "Run: AWiPDMFdMEaT9KPSm2Ca | method: RandomSearch | seed: 2 | number of documents/evaluations: 100\n",
      "Reference Point: [2.1799818909780915, 343.0]\n",
      "Hypervolume: 95.9166689475\n",
      "\n",
      "Run: AWiPDOhXMEaT9KPSm2FH | method: RandomSearch | seed: 3 | number of documents/evaluations: 100\n",
      "Reference Point: [2.1799818909780915, 343.0]\n",
      "Hypervolume: 90.3238171832\n",
      "\n",
      "Run: AWiPDQ9wMEaT9KPSm2Hz | method: RandomSearch | seed: 4 | number of documents/evaluations: 100\n",
      "Reference Point: [2.1799818909780915, 343.0]\n",
      "Hypervolume: 94.4018871273\n",
      "\n",
      "Run: AWiPDTbxMEaT9KPSm2Kf | method: RandomSearch | seed: 5 | number of documents/evaluations: 100\n",
      "Reference Point: [2.1799818909780915, 343.0]\n",
      "Hypervolume: 95.169092793\n",
      "\n",
      "Run: AWiPDV4zMEaT9KPSm2NL | method: RandomSearch | seed: 6 | number of documents/evaluations: 100\n",
      "Reference Point: [2.1799818909780915, 343.0]\n",
      "Hypervolume: 95.8254636221\n",
      "\n",
      "Run: AWiPDYThMEaT9KPSm2P3 | method: RandomSearch | seed: 7 | number of documents/evaluations: 100\n",
      "Reference Point: [2.1799818909780915, 343.0]\n",
      "Hypervolume: 91.7943852883\n",
      "\n",
      "Run: AWiPDaxkMEaT9KPSm2Sj | method: RandomSearch | seed: 8 | number of documents/evaluations: 100\n",
      "Reference Point: [2.1799818909780915, 343.0]\n",
      "Hypervolume: 91.9687354113\n",
      "\n",
      "Run: AWiPDdMiMEaT9KPSm2VP | method: RandomSearch | seed: 9 | number of documents/evaluations: 100\n",
      "Reference Point: [2.1799818909780915, 343.0]\n",
      "Hypervolume: 90.9550956607\n",
      "\n",
      "Run: AWiPDfq-MEaT9KPSm2X7 | method: RandomSearch | seed: 10 | number of documents/evaluations: 100\n",
      "Reference Point: [2.1799818909780915, 343.0]\n",
      "Hypervolume: 94.9981137355\n",
      "\n",
      "Run: AWiPDiIfMEaT9KPSm2an | method: RandomSearch | seed: 11 | number of documents/evaluations: 100\n",
      "Reference Point: [2.1799818909780915, 343.0]\n",
      "Hypervolume: 98.3339056432\n",
      "\n",
      "Run: AWiPDko9MEaT9KPSm2dT | method: RandomSearch | seed: 12 | number of documents/evaluations: 100\n",
      "Reference Point: [2.1799818909780915, 343.0]\n",
      "Hypervolume: 98.2643845438\n",
      "\n",
      "Run: AWiPDm9nMEaT9KPSm2f_ | method: RandomSearch | seed: 13 | number of documents/evaluations: 100\n",
      "Reference Point: [2.1799818909780915, 343.0]\n",
      "Hypervolume: 92.5689579555\n",
      "\n",
      "Run: AWiPDphZMEaT9KPSm2ir | method: RandomSearch | seed: 14 | number of documents/evaluations: 100\n",
      "Reference Point: [2.1799818909780915, 343.0]\n",
      "Hypervolume: 98.9969391045\n",
      "\n",
      "Run: AWiPDr4XMEaT9KPSm2lX | method: RandomSearch | seed: 15 | number of documents/evaluations: 100\n",
      "Reference Point: [2.1799818909780915, 343.0]\n",
      "Hypervolume: 96.5675017431\n"
     ]
    },
    {
     "data": {
      "text/markdown": [
       "<span style='color:red'>===========================================================</span>"
      ],
      "text/plain": [
       "<IPython.core.display.Markdown object>"
      ]
     },
     "metadata": {},
     "output_type": "display_data"
    },
    {
     "name": "stdout",
     "output_type": "stream",
     "text": [
      "\n",
      "Run: AWiG5pOJMEaT9KPSea43 | method: MLR | seed: 2 | number of documents/evaluations: 100\n",
      "Reference Point: [2.1799818909780915, 343.0]\n",
      "Hypervolume: 184.084728961\n",
      "\n",
      "Run: AWiG48LhMEaT9KPSeakl | method: MLR | seed: 3 | number of documents/evaluations: 100\n",
      "Reference Point: [2.1799818909780915, 343.0]\n",
      "Hypervolume: 192.501414737\n",
      "\n",
      "Run: AWiG49RHMEaT9KPSeanE | method: MLR | seed: 4 | number of documents/evaluations: 100\n",
      "Reference Point: [2.1799818909780915, 343.0]\n",
      "Hypervolume: 185.835564256\n",
      "\n",
      "Run: AWiG4-e_MEaT9KPSeanG | method: MLR | seed: 5 | number of documents/evaluations: 100\n",
      "Reference Point: [2.1799818909780915, 343.0]\n",
      "Hypervolume: 188.162978634\n",
      "\n",
      "Run: AWiG4_ttMEaT9KPSeapl | method: MLR | seed: 6 | number of documents/evaluations: 100\n",
      "Reference Point: [2.1799818909780915, 343.0]\n",
      "Hypervolume: 184.246046471\n",
      "\n",
      "Run: AWiG5A-LMEaT9KPSeapn | method: MLR | seed: 7 | number of documents/evaluations: 100\n",
      "Reference Point: [2.1799818909780915, 343.0]\n",
      "Hypervolume: 186.099267723\n",
      "\n",
      "Run: AWiG5CK1MEaT9KPSeasH | method: MLR | seed: 8 | number of documents/evaluations: 100\n",
      "Reference Point: [2.1799818909780915, 343.0]\n",
      "Hypervolume: 185.38102208\n",
      "\n",
      "Run: AWiG5DYsMEaT9KPSeasJ | method: MLR | seed: 9 | number of documents/evaluations: 100\n",
      "Reference Point: [2.1799818909780915, 343.0]\n",
      "Hypervolume: 187.514904687\n",
      "\n",
      "Run: AWiG5EnAMEaT9KPSeauo | method: MLR | seed: 10 | number of documents/evaluations: 100\n",
      "Reference Point: [2.1799818909780915, 343.0]\n",
      "Hypervolume: 189.727033731\n",
      "\n",
      "Run: AWiG5F1MMEaT9KPSeauq | method: MLR | seed: 11 | number of documents/evaluations: 100\n",
      "Reference Point: [2.1799818909780915, 343.0]\n",
      "Hypervolume: 187.19247095\n",
      "\n",
      "Run: AWiG5HDlMEaT9KPSeaxJ | method: MLR | seed: 12 | number of documents/evaluations: 100\n",
      "Reference Point: [2.1799818909780915, 343.0]\n",
      "Hypervolume: 186.942719627\n",
      "\n",
      "Run: AWiG5IVNMEaT9KPSeaxL | method: MLR | seed: 13 | number of documents/evaluations: 100\n",
      "Reference Point: [2.1799818909780915, 343.0]\n",
      "Hypervolume: 180.143989267\n",
      "\n",
      "Run: AWiG5JkGMEaT9KPSeaxM | method: MLR | seed: 14 | number of documents/evaluations: 100\n",
      "Reference Point: [2.1799818909780915, 343.0]\n",
      "Hypervolume: 187.534238519\n",
      "\n",
      "Run: AWiG5KzdMEaT9KPSeazs | method: MLR | seed: 15 | number of documents/evaluations: 100\n",
      "Reference Point: [2.1799818909780915, 343.0]\n",
      "Hypervolume: 185.082522085\n"
     ]
    },
    {
     "data": {
      "text/markdown": [
       "<span style='color:red'>===========================================================</span>"
      ],
      "text/plain": [
       "<IPython.core.display.Markdown object>"
      ]
     },
     "metadata": {},
     "output_type": "display_data"
    },
    {
     "name": "stdout",
     "output_type": "stream",
     "text": [
      "\n",
      "Run: AWh7LJ_gMEaT9KPSTPdp | method: MLR | seed: 1 | number of documents/evaluations: 100\n",
      "Reference Point: [2.1799818909780915, 343.0]\n",
      "Hypervolume: 116.800927964\n",
      "\n",
      "Run: AWh7LK7CMEaT9KPSTPf4 | method: MLR | seed: 2 | number of documents/evaluations: 100\n",
      "Reference Point: [2.1799818909780915, 343.0]\n",
      "Hypervolume: 128.707593403\n",
      "\n",
      "Run: AWh7LMJGMEaT9KPSTPf6 | method: MLR | seed: 3 | number of documents/evaluations: 100\n",
      "Reference Point: [2.1799818909780915, 343.0]\n",
      "Hypervolume: 123.130356097\n",
      "\n",
      "Run: AWh-4GMBMEaT9KPSWtjB | method: MLR | seed: 4 | number of documents/evaluations: 100\n",
      "Reference Point: [2.1799818909780915, 343.0]\n",
      "Hypervolume: 122.498120817\n",
      "\n",
      "Run: AWh7LOl9MEaT9KPSTPiL | method: MLR | seed: 5 | number of documents/evaluations: 100\n",
      "Reference Point: [2.1799818909780915, 343.0]\n",
      "Hypervolume: 120.634519733\n",
      "\n",
      "Run: AWh7LP0tMEaT9KPSTPka | method: MLR | seed: 6 | number of documents/evaluations: 100\n",
      "Reference Point: [2.1799818909780915, 343.0]\n",
      "Hypervolume: 120.248196346\n",
      "\n",
      "Run: AWh7LRCUMEaT9KPSTPkc | method: MLR | seed: 7 | number of documents/evaluations: 100\n",
      "Reference Point: [2.1799818909780915, 343.0]\n",
      "Hypervolume: 123.68944503\n",
      "\n",
      "Run: AWh7LSQzMEaT9KPSTPmr | method: MLR | seed: 8 | number of documents/evaluations: 100\n",
      "Reference Point: [2.1799818909780915, 343.0]\n",
      "Hypervolume: 123.725715966\n",
      "\n",
      "Run: AWh7LTgzMEaT9KPSTPmu | method: MLR | seed: 9 | number of documents/evaluations: 100\n",
      "Reference Point: [2.1799818909780915, 343.0]\n",
      "Hypervolume: 118.657621239\n",
      "\n",
      "Run: AWh7LUwPMEaT9KPSTPo9 | method: MLR | seed: 10 | number of documents/evaluations: 100\n",
      "Reference Point: [2.1799818909780915, 343.0]\n",
      "Hypervolume: 126.162222727\n",
      "\n",
      "Run: AWh7LV7fMEaT9KPSTPo_ | method: MLR | seed: 11 | number of documents/evaluations: 100\n",
      "Reference Point: [2.1799818909780915, 343.0]\n",
      "Hypervolume: 126.495601727\n",
      "\n",
      "Run: AWh7LXNXMEaT9KPSTPrO | method: MLR | seed: 12 | number of documents/evaluations: 100\n",
      "Reference Point: [2.1799818909780915, 343.0]\n",
      "Hypervolume: 126.120905795\n",
      "\n",
      "Run: AWh7LYatMEaT9KPSTPrQ | method: MLR | seed: 13 | number of documents/evaluations: 100\n",
      "Reference Point: [2.1799818909780915, 343.0]\n",
      "Hypervolume: 124.323716666\n",
      "\n",
      "Run: AWh7LZs1MEaT9KPSTPtf | method: MLR | seed: 14 | number of documents/evaluations: 100\n",
      "Reference Point: [2.1799818909780915, 343.0]\n",
      "Hypervolume: 119.227547416\n",
      "\n",
      "Run: AWh7La5KMEaT9KPSTPth | method: MLR | seed: 15 | number of documents/evaluations: 100\n",
      "Reference Point: [2.1799818909780915, 343.0]\n",
      "Hypervolume: 121.002923678\n",
      "\n",
      "Run: AWh-4ORBMEaT9KPSWtp7 | method: MLR | seed: 16 | number of documents/evaluations: 100\n",
      "Reference Point: [2.1799818909780915, 343.0]\n",
      "Hypervolume: 126.133549938\n",
      "\n",
      "Run: AWh-4PeFMEaT9KPSWtsP | method: MLR | seed: 17 | number of documents/evaluations: 100\n",
      "Reference Point: [2.1799818909780915, 343.0]\n",
      "Hypervolume: 125.744742827\n",
      "\n",
      "Run: AWh-4QsZMEaT9KPSWtsQ | method: MLR | seed: 18 | number of documents/evaluations: 100\n",
      "Reference Point: [2.1799818909780915, 343.0]\n",
      "Hypervolume: 119.666216709\n",
      "\n",
      "Run: AWh-4R6vMEaT9KPSWtuk | method: MLR | seed: 19 | number of documents/evaluations: 100\n",
      "Reference Point: [2.1799818909780915, 343.0]\n",
      "Hypervolume: 125.549640263\n",
      "\n",
      "Run: AWh-4TJHMEaT9KPSWtul | method: MLR | seed: 20 | number of documents/evaluations: 100\n",
      "Reference Point: [2.1799818909780915, 343.0]\n",
      "Hypervolume: 123.303893481\n",
      "\n",
      "Run: AWh-4UXcMEaT9KPSWtw5 | method: MLR | seed: 21 | number of documents/evaluations: 100\n",
      "Reference Point: [2.1799818909780915, 343.0]\n",
      "Hypervolume: 128.792715941\n",
      "\n",
      "Run: AWh-4Vl9MEaT9KPSWtw6 | method: MLR | seed: 22 | number of documents/evaluations: 100\n",
      "Reference Point: [2.1799818909780915, 343.0]\n",
      "Hypervolume: 125.283693159\n",
      "\n",
      "Run: AWh-4W0vMEaT9KPSWtzO | method: MLR | seed: 23 | number of documents/evaluations: 100\n",
      "Reference Point: [2.1799818909780915, 343.0]\n",
      "Hypervolume: 126.440793721\n",
      "\n",
      "Run: AWh-4YErMEaT9KPSWtzP | method: MLR | seed: 24 | number of documents/evaluations: 100\n",
      "Reference Point: [2.1799818909780915, 343.0]\n",
      "Hypervolume: 129.7080898\n",
      "\n",
      "Run: AWh-4ZSGMEaT9KPSWt1j | method: MLR | seed: 25 | number of documents/evaluations: 100\n",
      "Reference Point: [2.1799818909780915, 343.0]\n",
      "Hypervolume: 121.96746192\n",
      "\n",
      "Run: AWh-4afdMEaT9KPSWt1k | method: MLR | seed: 26 | number of documents/evaluations: 100\n",
      "Reference Point: [2.1799818909780915, 343.0]\n",
      "Hypervolume: 120.410718709\n",
      "\n",
      "Run: AWh-4bzZMEaT9KPSWt34 | method: MLR | seed: 27 | number of documents/evaluations: 100\n",
      "Reference Point: [2.1799818909780915, 343.0]\n",
      "Hypervolume: 129.726617583\n",
      "\n",
      "Run: AWh-4c-IMEaT9KPSWt35 | method: MLR | seed: 28 | number of documents/evaluations: 100\n",
      "Reference Point: [2.1799818909780915, 343.0]\n",
      "Hypervolume: 124.240262298\n",
      "\n",
      "Run: AWh-4ePPMEaT9KPSWt6N | method: MLR | seed: 29 | number of documents/evaluations: 100\n",
      "Reference Point: [2.1799818909780915, 343.0]\n",
      "Hypervolume: 130.25109957\n",
      "\n",
      "Run: AWh-4fZBMEaT9KPSWt6O | method: MLR | seed: 30 | number of documents/evaluations: 100\n",
      "Reference Point: [2.1799818909780915, 343.0]\n",
      "Hypervolume: 126.773284199\n"
     ]
    },
    {
     "data": {
      "text/markdown": [
       "<span style='color:red'>===========================================================</span>"
      ],
      "text/plain": [
       "<IPython.core.display.Markdown object>"
      ]
     },
     "metadata": {},
     "output_type": "display_data"
    },
    {
     "name": "stdout",
     "output_type": "stream",
     "text": [
      "\n",
      "Run: AWh265GtMEaT9KPSPZpB | method: MLR | seed: 1 | number of documents/evaluations: 100\n",
      "Reference Point: [2.1799818909780915, 343.0]\n",
      "Hypervolume: 88.1275254778\n",
      "\n",
      "Run: AWh266RnMEaT9KPSPZpC | method: MLR | seed: 2 | number of documents/evaluations: 100\n",
      "Reference Point: [2.1799818909780915, 343.0]\n",
      "Hypervolume: 98.5678508811\n",
      "\n",
      "Run: AWh267fUMEaT9KPSPZrM | method: MLR | seed: 3 | number of documents/evaluations: 100\n",
      "Reference Point: [2.1799818909780915, 343.0]\n",
      "Hypervolume: 87.0935964004\n",
      "\n",
      "Run: AWh268tpMEaT9KPSPZrN | method: MLR | seed: 4 | number of documents/evaluations: 100\n",
      "Reference Point: [2.1799818909780915, 343.0]\n",
      "Hypervolume: 85.1413988991\n",
      "\n",
      "Run: AWh2698HMEaT9KPSPZtW | method: MLR | seed: 5 | number of documents/evaluations: 100\n",
      "Reference Point: [2.1799818909780915, 343.0]\n",
      "Hypervolume: 85.1071161363\n",
      "\n",
      "Run: AWh26_KoMEaT9KPSPZtX | method: MLR | seed: 6 | number of documents/evaluations: 100\n",
      "Reference Point: [2.1799818909780915, 343.0]\n",
      "Hypervolume: 90.5302354323\n",
      "\n",
      "Run: AWiBuhMnMEaT9KPSZa6N | method: MLR | seed: 7 | number of documents/evaluations: 100\n",
      "Reference Point: [2.1799818909780915, 343.0]\n",
      "Hypervolume: 91.8755868599\n",
      "\n",
      "Run: AWh27BrEMEaT9KPSPZvh | method: MLR | seed: 8 | number of documents/evaluations: 100\n",
      "Reference Point: [2.1799818909780915, 343.0]\n",
      "Hypervolume: 91.8781016103\n",
      "\n",
      "Run: AWh27C4TMEaT9KPSPZxq | method: MLR | seed: 9 | number of documents/evaluations: 100\n",
      "Reference Point: [2.1799818909780915, 343.0]\n",
      "Hypervolume: 88.4326761365\n",
      "\n",
      "Run: AWiBuq6AMEaT9KPSZbDq | method: MLR | seed: 10 | number of documents/evaluations: 100\n",
      "Reference Point: [2.1799818909780915, 343.0]\n",
      "Hypervolume: 92.8189489039\n",
      "\n",
      "Run: AWh27FVCMEaT9KPSPZz0 | method: MLR | seed: 11 | number of documents/evaluations: 100\n",
      "Reference Point: [2.1799818909780915, 343.0]\n",
      "Hypervolume: 101.297006573\n",
      "\n",
      "Run: AWh27GjDMEaT9KPSPZz2 | method: MLR | seed: 12 | number of documents/evaluations: 100\n",
      "Reference Point: [2.1799818909780915, 343.0]\n",
      "Hypervolume: 92.0923784716\n",
      "\n",
      "Run: AWh27HudMEaT9KPSPZ1_ | method: MLR | seed: 13 | number of documents/evaluations: 100\n",
      "Reference Point: [2.1799818909780915, 343.0]\n",
      "Hypervolume: 91.7986586009\n",
      "\n",
      "Run: AWh27JBBMEaT9KPSPZ2A | method: MLR | seed: 14 | number of documents/evaluations: 100\n",
      "Reference Point: [2.1799818909780915, 343.0]\n",
      "Hypervolume: 94.797024678\n",
      "\n",
      "Run: AWh27KKQMEaT9KPSPZ4J | method: MLR | seed: 15 | number of documents/evaluations: 100\n",
      "Reference Point: [2.1799818909780915, 343.0]\n",
      "Hypervolume: 90.8494063809\n",
      "\n",
      "Run: AWiEZi8JMEaT9KPScCkH | method: MLR | seed: 16 | number of documents/evaluations: 100\n",
      "Reference Point: [2.1799818909780915, 343.0]\n",
      "Hypervolume: 106.049751462\n",
      "\n",
      "Run: AWiBuzJFMEaT9KPSZbKy | method: MLR | seed: 17 | number of documents/evaluations: 100\n",
      "Reference Point: [2.1799818909780915, 343.0]\n",
      "Hypervolume: 97.3614267688\n",
      "\n",
      "Run: AWiBu0YbMEaT9KPSZbNJ | method: MLR | seed: 18 | number of documents/evaluations: 100\n",
      "Reference Point: [2.1799818909780915, 343.0]\n",
      "Hypervolume: 97.1575802304\n",
      "\n",
      "Run: AWiBu1mIMEaT9KPSZbNL | method: MLR | seed: 19 | number of documents/evaluations: 100\n",
      "Reference Point: [2.1799818909780915, 343.0]\n",
      "Hypervolume: 89.7211125798\n",
      "\n",
      "Run: AWiBu20HMEaT9KPSZbPi | method: MLR | seed: 20 | number of documents/evaluations: 100\n",
      "Reference Point: [2.1799818909780915, 343.0]\n",
      "Hypervolume: 91.299334249\n",
      "\n",
      "Run: AWiBu4CfMEaT9KPSZbPk | method: MLR | seed: 21 | number of documents/evaluations: 100\n",
      "Reference Point: [2.1799818909780915, 343.0]\n",
      "Hypervolume: 96.8629001964\n",
      "\n",
      "Run: AWiEZqNbMEaT9KPScCrZ | method: MLR | seed: 22 | number of documents/evaluations: 100\n",
      "Reference Point: [2.1799818909780915, 343.0]\n",
      "Hypervolume: 97.7777847387\n",
      "\n",
      "Run: AWiBu6fMMEaT9KPSZbR9 | method: MLR | seed: 23 | number of documents/evaluations: 100\n",
      "Reference Point: [2.1799818909780915, 343.0]\n",
      "Hypervolume: 96.4426775433\n",
      "\n",
      "Run: AWiBu7vJMEaT9KPSZbUU | method: MLR | seed: 24 | number of documents/evaluations: 100\n",
      "Reference Point: [2.1799818909780915, 343.0]\n",
      "Hypervolume: 98.8613958119\n",
      "\n",
      "Run: AWiBu87gMEaT9KPSZbUW | method: MLR | seed: 25 | number of documents/evaluations: 100\n",
      "Reference Point: [2.1799818909780915, 343.0]\n",
      "Hypervolume: 87.5952986211\n",
      "\n",
      "Run: AWiBu-LnMEaT9KPSZbWt | method: MLR | seed: 26 | number of documents/evaluations: 100\n",
      "Reference Point: [2.1799818909780915, 343.0]\n",
      "Hypervolume: 91.0660943976\n",
      "\n",
      "Run: AWiBu_fwMEaT9KPSZbWv | method: MLR | seed: 27 | number of documents/evaluations: 100\n",
      "Reference Point: [2.1799818909780915, 343.0]\n",
      "Hypervolume: 93.5566690568\n",
      "\n",
      "Run: AWiBvAogMEaT9KPSZbZG | method: MLR | seed: 28 | number of documents/evaluations: 100\n",
      "Reference Point: [2.1799818909780915, 343.0]\n",
      "Hypervolume: 97.8719854323\n",
      "\n",
      "Run: AWiBvB_EMEaT9KPSZbZI | method: MLR | seed: 29 | number of documents/evaluations: 100\n",
      "Reference Point: [2.1799818909780915, 343.0]\n",
      "Hypervolume: 96.6681231098\n",
      "\n",
      "Run: AWiBvDPaMEaT9KPSZbbf | method: MLR | seed: 30 | number of documents/evaluations: 100\n",
      "Reference Point: [2.1799818909780915, 343.0]\n",
      "Hypervolume: 96.6875585305\n"
     ]
    },
    {
     "data": {
      "text/markdown": [
       "<span style='color:red'>===========================================================</span>"
      ],
      "text/plain": [
       "<IPython.core.display.Markdown object>"
      ]
     },
     "metadata": {},
     "output_type": "display_data"
    },
    {
     "name": "stdout",
     "output_type": "stream",
     "text": [
      "\n",
      "Run: AWiKMQLkMEaT9KPShwxa | method: NoveltySearch | seed: 1 | number of documents/evaluations: 100\n",
      "Reference Point: [2.1799818909780915, 343.0]\n",
      "Hypervolume: 187.778972492\n",
      "\n",
      "Run: AWiKNPfYMEaT9KPShx0M | method: NoveltySearch | seed: 2 | number of documents/evaluations: 100\n",
      "Reference Point: [2.1799818909780915, 343.0]\n",
      "Hypervolume: 184.269161695\n",
      "\n",
      "Run: AWiKMSA8MEaT9KPShwz_ | method: NoveltySearch | seed: 3 | number of documents/evaluations: 100\n",
      "Reference Point: [2.1799818909780915, 343.0]\n",
      "Hypervolume: 183.914781102\n",
      "\n",
      "Run: AWiKMUfJMEaT9KPShw2k | method: NoveltySearch | seed: 4 | number of documents/evaluations: 100\n",
      "Reference Point: [2.1799818909780915, 343.0]\n",
      "Hypervolume: 186.015786822\n",
      "\n",
      "Run: AWiKMW6gMEaT9KPShw5J | method: NoveltySearch | seed: 5 | number of documents/evaluations: 100\n",
      "Reference Point: [2.1799818909780915, 343.0]\n",
      "Hypervolume: 180.57329176\n",
      "\n",
      "Run: AWiKMZYgMEaT9KPShw7v | method: NoveltySearch | seed: 6 | number of documents/evaluations: 100\n",
      "Reference Point: [2.1799818909780915, 343.0]\n",
      "Hypervolume: 180.063429524\n",
      "\n",
      "Run: AWiKMb1vMEaT9KPShw-U | method: NoveltySearch | seed: 7 | number of documents/evaluations: 100\n",
      "Reference Point: [2.1799818909780915, 343.0]\n",
      "Hypervolume: 182.766408412\n",
      "\n",
      "Run: AWiKMeR6MEaT9KPShxA5 | method: NoveltySearch | seed: 8 | number of documents/evaluations: 100\n",
      "Reference Point: [2.1799818909780915, 343.0]\n",
      "Hypervolume: 188.240580069\n",
      "\n",
      "Run: AWiKMg01MEaT9KPShxDe | method: NoveltySearch | seed: 9 | number of documents/evaluations: 100\n",
      "Reference Point: [2.1799818909780915, 343.0]\n",
      "Hypervolume: 187.534640111\n",
      "\n",
      "Run: AWiKMjItMEaT9KPShxGD | method: NoveltySearch | seed: 10 | number of documents/evaluations: 100\n",
      "Reference Point: [2.1799818909780915, 343.0]\n",
      "Hypervolume: 185.511563259\n",
      "\n",
      "Run: AWiMcrVjMEaT9KPSkHg9 | method: NoveltySearch | seed: 11 | number of documents/evaluations: 100\n",
      "Reference Point: [2.1799818909780915, 343.0]\n",
      "Hypervolume: 187.838080749\n",
      "\n",
      "Run: AWiMctxqMEaT9KPSkHjj | method: NoveltySearch | seed: 12 | number of documents/evaluations: 100\n",
      "Reference Point: [2.1799818909780915, 343.0]\n",
      "Hypervolume: 184.800544508\n",
      "\n",
      "Run: AWiMcwONMEaT9KPSkHmJ | method: NoveltySearch | seed: 13 | number of documents/evaluations: 100\n",
      "Reference Point: [2.1799818909780915, 343.0]\n",
      "Hypervolume: 180.761032917\n",
      "\n",
      "Run: AWiMcysiMEaT9KPSkHov | method: NoveltySearch | seed: 14 | number of documents/evaluations: 100\n",
      "Reference Point: [2.1799818909780915, 343.0]\n",
      "Hypervolume: 182.72546779\n",
      "\n",
      "Run: AWiMc1KCMEaT9KPSkHrV | method: NoveltySearch | seed: 15 | number of documents/evaluations: 100\n",
      "Reference Point: [2.1799818909780915, 343.0]\n",
      "Hypervolume: 185.219593109\n",
      "\n",
      "Run: AWiMc3m1MEaT9KPSkHt7 | method: NoveltySearch | seed: 16 | number of documents/evaluations: 100\n",
      "Reference Point: [2.1799818909780915, 343.0]\n",
      "Hypervolume: 182.081211752\n",
      "\n",
      "Run: AWiMc6DpMEaT9KPSkHwh | method: NoveltySearch | seed: 17 | number of documents/evaluations: 100\n",
      "Reference Point: [2.1799818909780915, 343.0]\n",
      "Hypervolume: 184.348031483\n",
      "\n",
      "Run: AWiMc8fhMEaT9KPSkHzH | method: NoveltySearch | seed: 18 | number of documents/evaluations: 100\n",
      "Reference Point: [2.1799818909780915, 343.0]\n",
      "Hypervolume: 181.230121099\n",
      "\n",
      "Run: AWiMc_AUMEaT9KPSkH1t | method: NoveltySearch | seed: 19 | number of documents/evaluations: 100\n",
      "Reference Point: [2.1799818909780915, 343.0]\n",
      "Hypervolume: 185.744672681\n",
      "\n",
      "Run: AWiMdBaYMEaT9KPSkH4T | method: NoveltySearch | seed: 20 | number of documents/evaluations: 100\n",
      "Reference Point: [2.1799818909780915, 343.0]\n",
      "Hypervolume: 188.508796444\n"
     ]
    },
    {
     "data": {
      "text/markdown": [
       "<span style='color:red'>===========================================================</span>"
      ],
      "text/plain": [
       "<IPython.core.display.Markdown object>"
      ]
     },
     "metadata": {},
     "output_type": "display_data"
    },
    {
     "name": "stdout",
     "output_type": "stream",
     "text": [
      "\n",
      "Run: AWiPFwOfMEaT9KPSm42J | method: NoveltySearch | seed: 1 | number of documents/evaluations: 100\n",
      "Reference Point: [2.1799818909780915, 343.0]\n",
      "Hypervolume: 118.990712758\n",
      "\n",
      "Run: AWiPFyohMEaT9KPSm441 | method: NoveltySearch | seed: 2 | number of documents/evaluations: 100\n",
      "Reference Point: [2.1799818909780915, 343.0]\n",
      "Hypervolume: 125.873104735\n",
      "\n",
      "Run: AWiPF1GyMEaT9KPSm47h | method: NoveltySearch | seed: 3 | number of documents/evaluations: 100\n",
      "Reference Point: [2.1799818909780915, 343.0]\n",
      "Hypervolume: 123.253560225\n",
      "\n",
      "Run: AWiPF3iXMEaT9KPSm4-N | method: NoveltySearch | seed: 4 | number of documents/evaluations: 100\n",
      "Reference Point: [2.1799818909780915, 343.0]\n",
      "Hypervolume: 120.801980777\n",
      "\n",
      "Run: AWiPF5_8MEaT9KPSm5A5 | method: NoveltySearch | seed: 5 | number of documents/evaluations: 100\n",
      "Reference Point: [2.1799818909780915, 343.0]\n",
      "Hypervolume: 119.916549643\n",
      "\n",
      "Run: AWiPF8dqMEaT9KPSm5Dl | method: NoveltySearch | seed: 6 | number of documents/evaluations: 100\n",
      "Reference Point: [2.1799818909780915, 343.0]\n",
      "Hypervolume: 119.627047047\n",
      "\n",
      "Run: AWiPF--ZMEaT9KPSm5GR | method: NoveltySearch | seed: 7 | number of documents/evaluations: 100\n",
      "Reference Point: [2.1799818909780915, 343.0]\n",
      "Hypervolume: 126.504168698\n",
      "\n",
      "Run: AWiPGBb7MEaT9KPSm5I9 | method: NoveltySearch | seed: 8 | number of documents/evaluations: 100\n",
      "Reference Point: [2.1799818909780915, 343.0]\n",
      "Hypervolume: 132.454887901\n",
      "Encountered skipped run AWiPGD80MEaT9KPSm5Lp\n",
      "Encountered skipped run AWiPGGaDMEaT9KPSm5OV\n"
     ]
    },
    {
     "data": {
      "text/markdown": [
       "<span style='color:red'>===========================================================</span>"
      ],
      "text/plain": [
       "<IPython.core.display.Markdown object>"
      ]
     },
     "metadata": {},
     "output_type": "display_data"
    },
    {
     "name": "stdout",
     "output_type": "stream",
     "text": [
      "\n",
      "Run: AWh2_TDsMEaT9KPSPdeZ | method: NoveltySearch | seed: 1 | number of documents/evaluations: 100\n",
      "Reference Point: [2.1799818909780915, 343.0]\n",
      "Hypervolume: 84.4378763166\n",
      "\n",
      "Run: AWh2_TNfMEaT9KPSPdea | method: NoveltySearch | seed: 2 | number of documents/evaluations: 100\n",
      "Reference Point: [2.1799818909780915, 343.0]\n",
      "Hypervolume: 92.3531065118\n",
      "\n",
      "Run: AWh2_VqXMEaT9KPSPdgl | method: NoveltySearch | seed: 3 | number of documents/evaluations: 100\n",
      "Reference Point: [2.1799818909780915, 343.0]\n",
      "Hypervolume: 73.3872382907\n",
      "\n",
      "Run: AWh2_YG3MEaT9KPSPdiw | method: NoveltySearch | seed: 4 | number of documents/evaluations: 100\n",
      "Reference Point: [2.1799818909780915, 343.0]\n",
      "Hypervolume: 80.6123219259\n",
      "\n",
      "Run: AWh2_ajjMEaT9KPSPdk7 | method: NoveltySearch | seed: 5 | number of documents/evaluations: 100\n",
      "Reference Point: [2.1799818909780915, 343.0]\n",
      "Hypervolume: 76.5370066089\n",
      "\n",
      "Run: AWh2_dAeMEaT9KPSPdnG | method: NoveltySearch | seed: 6 | number of documents/evaluations: 100\n",
      "Reference Point: [2.1799818909780915, 343.0]\n",
      "Hypervolume: 83.234247449\n",
      "\n",
      "Run: AWh2_fcoMEaT9KPSPdpR | method: NoveltySearch | seed: 7 | number of documents/evaluations: 100\n",
      "Reference Point: [2.1799818909780915, 343.0]\n",
      "Hypervolume: 78.4509182719\n",
      "\n",
      "Run: AWh2_h5MMEaT9KPSPdrc | method: NoveltySearch | seed: 8 | number of documents/evaluations: 100\n",
      "Reference Point: [2.1799818909780915, 343.0]\n",
      "Hypervolume: 80.0610395366\n",
      "\n",
      "Run: AWh2_kWWMEaT9KPSPdtn | method: NoveltySearch | seed: 9 | number of documents/evaluations: 100\n",
      "Reference Point: [2.1799818909780915, 343.0]\n",
      "Hypervolume: 81.4539334332\n",
      "\n",
      "Run: AWh2_mzQMEaT9KPSPdvy | method: NoveltySearch | seed: 10 | number of documents/evaluations: 100\n",
      "Reference Point: [2.1799818909780915, 343.0]\n",
      "Hypervolume: 80.7807598438\n",
      "\n",
      "Run: AWh2_pPHMEaT9KPSPdx9 | method: NoveltySearch | seed: 11 | number of documents/evaluations: 100\n",
      "Reference Point: [2.1799818909780915, 343.0]\n",
      "Hypervolume: 83.3546673903\n",
      "\n",
      "Run: AWh2_rsSMEaT9KPSPd0I | method: NoveltySearch | seed: 12 | number of documents/evaluations: 100\n",
      "Reference Point: [2.1799818909780915, 343.0]\n",
      "Hypervolume: 83.6342526782\n",
      "\n",
      "Run: AWh2_uIUMEaT9KPSPd2T | method: NoveltySearch | seed: 13 | number of documents/evaluations: 100\n",
      "Reference Point: [2.1799818909780915, 343.0]\n",
      "Hypervolume: 83.1681499241\n",
      "\n",
      "Run: AWh2_wkzMEaT9KPSPd4e | method: NoveltySearch | seed: 14 | number of documents/evaluations: 100\n",
      "Reference Point: [2.1799818909780915, 343.0]\n",
      "Hypervolume: 86.1018410375\n",
      "\n",
      "Run: AWh2_zB_MEaT9KPSPd6p | method: NoveltySearch | seed: 15 | number of documents/evaluations: 100\n",
      "Reference Point: [2.1799818909780915, 343.0]\n",
      "Hypervolume: 85.618944177\n",
      "\n",
      "Run: AWiF75q5MEaT9KPSdkYp | method: NoveltySearch | seed: 16 | number of documents/evaluations: 100\n",
      "Reference Point: [2.1799818909780915, 343.0]\n",
      "Hypervolume: 85.0582543968\n",
      "\n",
      "Run: AWiF76SrMEaT9KPSdkYq | method: NoveltySearch | seed: 17 | number of documents/evaluations: 100\n",
      "Reference Point: [2.1799818909780915, 343.0]\n",
      "Hypervolume: 84.2037030314\n",
      "\n",
      "Run: AWiF799vMEaT9KPSdkdj | method: NoveltySearch | seed: 18 | number of documents/evaluations: 100\n",
      "Reference Point: [2.1799818909780915, 343.0]\n",
      "Hypervolume: 82.6519941666\n",
      "\n",
      "Run: AWiF8BovMEaT9KPSdkgA | method: NoveltySearch | seed: 19 | number of documents/evaluations: 100\n",
      "Reference Point: [2.1799818909780915, 343.0]\n",
      "Hypervolume: 84.3614841849\n",
      "\n",
      "Run: AWiF8FRnMEaT9KPSdkk5 | method: NoveltySearch | seed: 20 | number of documents/evaluations: 100\n",
      "Reference Point: [2.1799818909780915, 343.0]\n",
      "Hypervolume: 82.5500099959\n",
      "\n",
      "Run: AWiF8I9jMEaT9KPSdknW | method: NoveltySearch | seed: 21 | number of documents/evaluations: 100\n",
      "Reference Point: [2.1799818909780915, 343.0]\n",
      "Hypervolume: 90.9936654421\n",
      "\n",
      "Run: AWiF8MoTMEaT9KPSdksP | method: NoveltySearch | seed: 22 | number of documents/evaluations: 100\n",
      "Reference Point: [2.1799818909780915, 343.0]\n",
      "Hypervolume: 83.4425887976\n",
      "\n",
      "Run: AWiF8QSkMEaT9KPSdkus | method: NoveltySearch | seed: 23 | number of documents/evaluations: 100\n",
      "Reference Point: [2.1799818909780915, 343.0]\n",
      "Hypervolume: 81.8965884286\n",
      "\n",
      "Run: AWiF8T-IMEaT9KPSdkzl | method: NoveltySearch | seed: 24 | number of documents/evaluations: 100\n",
      "Reference Point: [2.1799818909780915, 343.0]\n",
      "Hypervolume: 83.4003450372\n",
      "\n",
      "Run: AWiF8XoNMEaT9KPSdk2C | method: NoveltySearch | seed: 25 | number of documents/evaluations: 100\n",
      "Reference Point: [2.1799818909780915, 343.0]\n",
      "Hypervolume: 83.6856584641\n",
      "\n",
      "Run: AWiF8bSuMEaT9KPSdk67 | method: NoveltySearch | seed: 26 | number of documents/evaluations: 100\n",
      "Reference Point: [2.1799818909780915, 343.0]\n",
      "Hypervolume: 69.5101432627\n",
      "\n",
      "Run: AWiF8e97MEaT9KPSdk9Y | method: NoveltySearch | seed: 27 | number of documents/evaluations: 100\n",
      "Reference Point: [2.1799818909780915, 343.0]\n",
      "Hypervolume: 80.9083918727\n",
      "\n",
      "Run: AWiF8in8MEaT9KPSdlCR | method: NoveltySearch | seed: 28 | number of documents/evaluations: 100\n",
      "Reference Point: [2.1799818909780915, 343.0]\n",
      "Hypervolume: 85.2408677878\n",
      "\n",
      "Run: AWiF8mSqMEaT9KPSdlEu | method: NoveltySearch | seed: 29 | number of documents/evaluations: 100\n",
      "Reference Point: [2.1799818909780915, 343.0]\n",
      "Hypervolume: 89.6057627374\n",
      "\n",
      "Run: AWiF8p95MEaT9KPSdlJn | method: NoveltySearch | seed: 30 | number of documents/evaluations: 100\n",
      "Reference Point: [2.1799818909780915, 343.0]\n",
      "Hypervolume: 85.1013916456\n"
     ]
    },
    {
     "data": {
      "text/markdown": [
       "<span style='color:red'>===========================================================</span>"
      ],
      "text/plain": [
       "<IPython.core.display.Markdown object>"
      ]
     },
     "metadata": {},
     "output_type": "display_data"
    },
    {
     "name": "stdout",
     "output_type": "stream",
     "text": [
      "\n",
      "Run: AWiMbcZRMEaT9KPSkGLp | method: NSGAII | seed: 1 | number of documents/evaluations: 100\n",
      "Reference Point: [2.1799818909780915, 343.0]\n",
      "Hypervolume: 189.949005987\n",
      "\n",
      "Run: AWiMbezzMEaT9KPSkGOP | method: NSGAII | seed: 2 | number of documents/evaluations: 100\n",
      "Reference Point: [2.1799818909780915, 343.0]\n",
      "Hypervolume: 187.827395611\n",
      "\n",
      "Run: AWiMbhP3MEaT9KPSkGQ1 | method: NSGAII | seed: 3 | number of documents/evaluations: 100\n",
      "Reference Point: [2.1799818909780915, 343.0]\n",
      "Hypervolume: 185.206140465\n",
      "\n",
      "Run: AWiMbjsZMEaT9KPSkGTb | method: NSGAII | seed: 4 | number of documents/evaluations: 100\n",
      "Reference Point: [2.1799818909780915, 343.0]\n",
      "Hypervolume: 183.809271583\n",
      "\n",
      "Run: AWiMbmKnMEaT9KPSkGWC | method: NSGAII | seed: 5 | number of documents/evaluations: 100\n",
      "Reference Point: [2.1799818909780915, 343.0]\n",
      "Hypervolume: 188.097744003\n",
      "\n",
      "Run: AWiMbolJMEaT9KPSkGYo | method: NSGAII | seed: 6 | number of documents/evaluations: 100\n",
      "Reference Point: [2.1799818909780915, 343.0]\n",
      "Hypervolume: 185.206590781\n",
      "\n",
      "Run: AWiMbrCpMEaT9KPSkGbO | method: NSGAII | seed: 7 | number of documents/evaluations: 100\n",
      "Reference Point: [2.1799818909780915, 343.0]\n",
      "Hypervolume: 181.502765035\n",
      "\n",
      "Run: AWiMbtgqMEaT9KPSkGd0 | method: NSGAII | seed: 8 | number of documents/evaluations: 100\n",
      "Reference Point: [2.1799818909780915, 343.0]\n",
      "Hypervolume: 190.998861404\n",
      "\n",
      "Run: AWiMbv7JMEaT9KPSkGga | method: NSGAII | seed: 9 | number of documents/evaluations: 100\n",
      "Reference Point: [2.1799818909780915, 343.0]\n",
      "Hypervolume: 187.14555405\n",
      "\n",
      "Run: AWiMbyYnMEaT9KPSkGjA | method: NSGAII | seed: 10 | number of documents/evaluations: 100\n",
      "Reference Point: [2.1799818909780915, 343.0]\n",
      "Hypervolume: 192.36362025\n",
      "\n",
      "Run: AWiMb03rMEaT9KPSkGlm | method: NSGAII | seed: 11 | number of documents/evaluations: 100\n",
      "Reference Point: [2.1799818909780915, 343.0]\n",
      "Hypervolume: 189.740819316\n",
      "\n",
      "Run: AWiMb3XRMEaT9KPSkGoM | method: NSGAII | seed: 12 | number of documents/evaluations: 100\n",
      "Reference Point: [2.1799818909780915, 343.0]\n",
      "Hypervolume: 191.862602301\n",
      "\n",
      "Run: AWiMb5ulMEaT9KPSkGqy | method: NSGAII | seed: 13 | number of documents/evaluations: 100\n",
      "Reference Point: [2.1799818909780915, 343.0]\n",
      "Hypervolume: 186.816822419\n",
      "\n",
      "Run: AWiMb8QZMEaT9KPSkGtY | method: NSGAII | seed: 14 | number of documents/evaluations: 100\n",
      "Reference Point: [2.1799818909780915, 343.0]\n",
      "Hypervolume: 187.059217421\n",
      "\n",
      "Run: AWiMb-pCMEaT9KPSkGv- | method: NSGAII | seed: 15 | number of documents/evaluations: 100\n",
      "Reference Point: [2.1799818909780915, 343.0]\n",
      "Hypervolume: 188.130068529\n"
     ]
    },
    {
     "data": {
      "text/markdown": [
       "<span style='color:red'>===========================================================</span>"
      ],
      "text/plain": [
       "<IPython.core.display.Markdown object>"
      ]
     },
     "metadata": {},
     "output_type": "display_data"
    },
    {
     "name": "stdout",
     "output_type": "stream",
     "text": [
      "\n",
      "Run: AWiPD71jMEaT9KPSm21b | method: NSGAII | seed: 1 | number of documents/evaluations: 100\n",
      "Reference Point: [2.1799818909780915, 343.0]\n",
      "Hypervolume: 124.438796357\n",
      "\n",
      "Run: AWiPD-RSMEaT9KPSm24H | method: NSGAII | seed: 2 | number of documents/evaluations: 100\n",
      "Reference Point: [2.1799818909780915, 343.0]\n",
      "Hypervolume: 133.303262847\n",
      "\n",
      "Run: AWiPEAuFMEaT9KPSm26z | method: NSGAII | seed: 3 | number of documents/evaluations: 100\n",
      "Reference Point: [2.1799818909780915, 343.0]\n",
      "Hypervolume: 123.505266304\n",
      "\n",
      "Run: AWiPEDKKMEaT9KPSm29f | method: NSGAII | seed: 4 | number of documents/evaluations: 100\n",
      "Reference Point: [2.1799818909780915, 343.0]\n",
      "Hypervolume: 124.282261555\n",
      "\n",
      "Run: AWiPEFnAMEaT9KPSm3AL | method: NSGAII | seed: 5 | number of documents/evaluations: 100\n",
      "Reference Point: [2.1799818909780915, 343.0]\n",
      "Hypervolume: 121.663281303\n",
      "\n",
      "Run: AWiPEIFHMEaT9KPSm3C3 | method: NSGAII | seed: 6 | number of documents/evaluations: 100\n",
      "Reference Point: [2.1799818909780915, 343.0]\n",
      "Hypervolume: 122.838325583\n",
      "\n",
      "Run: AWiPEKhEMEaT9KPSm3Fj | method: NSGAII | seed: 7 | number of documents/evaluations: 100\n",
      "Reference Point: [2.1799818909780915, 343.0]\n",
      "Hypervolume: 128.916104747\n",
      "\n",
      "Run: AWiPEM_MMEaT9KPSm3IP | method: NSGAII | seed: 8 | number of documents/evaluations: 100\n",
      "Reference Point: [2.1799818909780915, 343.0]\n",
      "Hypervolume: 129.623430681\n",
      "\n",
      "Run: AWiPEPbaMEaT9KPSm3K7 | method: NSGAII | seed: 9 | number of documents/evaluations: 100\n",
      "Reference Point: [2.1799818909780915, 343.0]\n",
      "Hypervolume: 126.901869516\n",
      "\n",
      "Run: AWiPER7NMEaT9KPSm3Nn | method: NSGAII | seed: 10 | number of documents/evaluations: 100\n",
      "Reference Point: [2.1799818909780915, 343.0]\n",
      "Hypervolume: 126.193672634\n"
     ]
    },
    {
     "data": {
      "text/markdown": [
       "<span style='color:red'>===========================================================</span>"
      ],
      "text/plain": [
       "<IPython.core.display.Markdown object>"
      ]
     },
     "metadata": {},
     "output_type": "display_data"
    },
    {
     "name": "stdout",
     "output_type": "stream",
     "text": [
      "\n",
      "Run: AWiPNfMIMEaT9KPSnBUv | method: NSGAII | seed: 1 | number of documents/evaluations: 100\n",
      "Reference Point: [2.1799818909780915, 343.0]\n",
      "Hypervolume: 97.8733019007\n",
      "\n",
      "Run: AWiPNhn2MEaT9KPSnBXb | method: NSGAII | seed: 2 | number of documents/evaluations: 100\n",
      "Reference Point: [2.1799818909780915, 343.0]\n",
      "Hypervolume: 105.190896128\n",
      "\n",
      "Run: AWiPNkEgMEaT9KPSnBaH | method: NSGAII | seed: 3 | number of documents/evaluations: 100\n",
      "Reference Point: [2.1799818909780915, 343.0]\n",
      "Hypervolume: 93.3480945296\n",
      "\n",
      "Run: AWiPNmg2MEaT9KPSnBcz | method: NSGAII | seed: 4 | number of documents/evaluations: 100\n",
      "Reference Point: [2.1799818909780915, 343.0]\n",
      "Hypervolume: 84.0421624892\n",
      "\n",
      "Run: AWiPNo-LMEaT9KPSnBff | method: NSGAII | seed: 5 | number of documents/evaluations: 100\n",
      "Reference Point: [2.1799818909780915, 343.0]\n",
      "Hypervolume: 98.9538218964\n",
      "\n",
      "Run: AWiPNrakMEaT9KPSnBiL | method: NSGAII | seed: 6 | number of documents/evaluations: 100\n",
      "Reference Point: [2.1799818909780915, 343.0]\n",
      "Hypervolume: 95.8614528506\n",
      "\n",
      "Run: AWiPNt3vMEaT9KPSnBk3 | method: NSGAII | seed: 7 | number of documents/evaluations: 100\n",
      "Reference Point: [2.1799818909780915, 343.0]\n",
      "Hypervolume: 95.8111760495\n",
      "Encountered skipped run AWiPNwYRMEaT9KPSnBnj\n",
      "\n",
      "Run: AWiPNyxdMEaT9KPSnBqP | method: NSGAII | seed: 9 | number of documents/evaluations: 100\n",
      "Reference Point: [2.1799818909780915, 343.0]\n",
      "Hypervolume: 94.8761525194\n",
      "\n",
      "Run: AWiPN1O1MEaT9KPSnBs7 | method: NSGAII | seed: 10 | number of documents/evaluations: 100\n",
      "Reference Point: [2.1799818909780915, 343.0]\n",
      "Hypervolume: 104.062356283\n"
     ]
    }
   ],
   "source": [
    "import sys\n",
    "import numpy as np\n",
    "import pylab \n",
    "import matplotlib.pyplot as plt\n",
    "import matplotlib as mpl\n",
    "mpl.rc(\"savefig\", dpi=300)\n",
    "# plt.rcParams[\"figure.figsize\"] = [8,6]\n",
    "\n",
    "\n",
    "'''\n",
    "Method to take a list of individuals and return just the individuals which lie \n",
    "on the Pareto frontier, sorted into order.\n",
    "Default behaviour is to find the maximum for both X and Y objectives, but the option is\n",
    "available to specify maxX = False or maxY = False to find the minimum for either\n",
    "or both of the objectves.\n",
    "Adapted from: http://oco-carbon.com/metrics/find-pareto-frontiers-in-python/\n",
    "'''\n",
    "def get_pareto_front(Inds, maxX = False, maxY = False):\n",
    "    # Sort the list in either ascending or descending order of X\n",
    "    Inds.sort(key=lambda x: get_overhead(x), reverse=maxX)\n",
    "    # Start the Pareto frontier with the first value in the sorted list\n",
    "    p_front = [Inds[0]]    \n",
    "    # Loop through the sorted list\n",
    "    for ind in Inds[1:]:\n",
    "        if maxY: \n",
    "            # changed >= to >\n",
    "            if get_routing(ind) > get_routing(p_front[-1]): # Look for higher values of Y… \n",
    "                p_front.append(ind) # … and add them to the Pareto frontier\n",
    "        else:\n",
    "            # changed <= to <\n",
    "            if get_routing(ind) < get_routing(p_front[-1]): # Look for lower values of Y…    \n",
    "                p_front.append(ind) # … and add them to the Pareto frontier\n",
    "    return p_front\n",
    "\n",
    "\n",
    "def analyze_and_plot(rtx_runs, run_to_all_individuals, plotting = False):    \n",
    "    printmd(\"===========================================================\", \"red\")\n",
    "    # pareto fronts of all runs\n",
    "    pareto_fronts_of_all_runs = []\n",
    "    \n",
    "    opt_method = \"\"\n",
    "    if len(rtx_runs) > 0:\n",
    "        try:\n",
    "            opt_method = rtx_runs[0][\"strategy\"][\"optimizer_method\"]\n",
    "        except:\n",
    "            # mlr does not store the opt method name in field strategy.optimizer_method\n",
    "            opt_method = \"MLR\"\n",
    "\n",
    "    # set iterations\n",
    "    set_iterations(opt_method)\n",
    "    \n",
    "    # for each run\n",
    "    for rtx_run in rtx_runs:\n",
    "        rtx_run_id = rtx_run[\"id\"]\n",
    "        # get all individuals of the run\n",
    "        all_individuals = run_to_all_individuals.get(rtx_run_id, None)\n",
    "        if all_individuals is None:\n",
    "            print(\"Encountered skipped run \" + str(rtx_run_id))\n",
    "        else:\n",
    "            print(\"\\nRun: \" + rtx_run_id + \" | method: \" + opt_method \n",
    "                  + \" | seed: \" + str(rtx_run[\"seed\"]) \n",
    "                  + \" | number of documents/evaluations: \" + str(len(all_individuals)))\n",
    "\n",
    "            # compute pareto front of the run ####################################################\n",
    "            pareto_front_of_run = get_pareto_front(all_individuals)\n",
    "            pareto_fronts_of_all_runs.append(pareto_front_of_run)\n",
    "            if plotting:\n",
    "                print(\"\\nPareto front of the run:\")\n",
    "                for p in pareto_front_of_run:\n",
    "                    print_individual(p)\n",
    "\n",
    "            # compute hypervolume ####################################################\n",
    "            reference_point = [worst_overhead, worst_routing]\n",
    "            print(\"Reference Point: \" + str(reference_point))\n",
    "            hyperVolume = HyperVolume(reference_point)\n",
    "\n",
    "            pareto_front_values = [[get_overhead(el), get_routing(el)] for el in pareto_front_of_run]\n",
    "            hv = hyperVolume.compute(pareto_front_values)\n",
    "            print(\"Hypervolume: \" + str(hv))\n",
    "\n",
    "            # plotting #################################################################\n",
    "            if plotting:\n",
    "\n",
    "                # Hypervolume over fitness evaluations ###########################\n",
    "                fig, axes = plt.subplots()\n",
    "                fig.suptitle('Evolution of the Hypervolume', fontsize=16)    \n",
    "                plt.xlabel('Fitness Evaluations') \n",
    "                x = range(total_number_of_docs)\n",
    "                plt.ylabel('Hypervolume')\n",
    "                y = []\n",
    "\n",
    "                current_pareto_front = []\n",
    "                for i in range(iterations):\n",
    "                    new_inds = [el for el in all_individuals if el[\"iteration\"] == i]\n",
    "                    if not isinstance(new_inds, (list,)):\n",
    "                        new_inds = [new_inds]\n",
    "                    for j in range(len(new_inds)):\n",
    "                        # new_ind is a list with one element\n",
    "                        new_ind = [el for el in new_inds if el[\"individual\"] == j]\n",
    "                        if len(new_ind) > 1:\n",
    "                            print(\"ERROR: More than one individual with the same number within the same iteration.\")\n",
    "                        # debug_msg = debug_msg \n",
    "                        #   + \"(\" + str(new_ind[0][\"iteration\"]) + \", \" + str(new_ind[0][\"individual\"]) + \")\"\n",
    "                        current_pareto_front.append(new_ind[0])\n",
    "                        current_pareto_front = get_pareto_front(current_pareto_front)\n",
    "                        current_pareto_front_values = [[get_overhead(el), get_routing(el)] \n",
    "                                                       for el in current_pareto_front]\n",
    "                        hv = hyperVolume.compute(current_pareto_front_values)\n",
    "                        y.append(hv)\n",
    "\n",
    "                plt.plot(x,y, color='black', label='Hypervolume')\n",
    "                pylab.legend(loc='best')\n",
    "\n",
    "                # Overhead over fitness evaluations ###############################          \n",
    "                fig, axes = plt.subplots()\n",
    "                fig.suptitle('Evolution of Overhead', fontsize=16)    \n",
    "                plt.xlabel('Fitness Evaluations') \n",
    "                x = range(total_number_of_docs)\n",
    "                plt.ylabel('Overhead')\n",
    "                y = []\n",
    "\n",
    "                min_overhead_over_iterations = []\n",
    "                best_min = sys.float_info.max\n",
    "                for i in range(iterations):\n",
    "                    new_inds = [el for el in all_individuals if el[\"iteration\"] == i]\n",
    "                    if not isinstance(new_inds, (list,)):\n",
    "                        new_inds = [new_inds]\n",
    "                    for j in range(len(new_inds)):\n",
    "                        # new_ind is a list with one element\n",
    "                        new_ind = [el for el in new_inds if el[\"individual\"] == j]\n",
    "                        if len(new_ind) > 1:\n",
    "                            print(\"ERROR: More than one individual with the same number within the same iteration.\")    \n",
    "\n",
    "                        overhead = get_overhead(new_ind[0])\n",
    "                        y.append(overhead)\n",
    "                        if overhead < best_min:\n",
    "                            best_min = overhead\n",
    "                        min_overhead_over_iterations.append(best_min)\n",
    "\n",
    "                plt.scatter(x,y, marker=\"+\", color='black', label='individual')\n",
    "                plt.scatter(x, min_overhead_over_iterations, s=100, facecolors='none', \n",
    "                            edgecolors='r', label='perato front for overhead')\n",
    "                pylab.legend(loc='best')\n",
    "\n",
    "                # Routing over fitness evaluations ########################################\n",
    "                fig, axes = plt.subplots()\n",
    "                fig.suptitle('Evolution of Routing', fontsize=16)    \n",
    "                plt.xlabel('Fitness Evaluations') \n",
    "                x = range(total_number_of_docs)\n",
    "                plt.ylabel('Routing')\n",
    "                y = []\n",
    "\n",
    "                min_routing_over_iterations = []\n",
    "                best_min = sys.float_info.max\n",
    "                for i in range(iterations):\n",
    "                    new_inds = [el for el in all_individuals if el[\"iteration\"] == i]\n",
    "                    if not isinstance(new_inds, (list,)):\n",
    "                        new_inds = [new_inds]\n",
    "                    for j in range(len(new_inds)):\n",
    "                        # new_ind is a list with one element\n",
    "                        new_ind = [el for el in new_inds if el[\"individual\"] == j]\n",
    "                        if len(new_ind) > 1:\n",
    "                            print(\"ERROR: More than one individual with the same number within the same iteration.\")    \n",
    "\n",
    "                        routing = get_routing(new_ind[0])\n",
    "                        y.append(routing)\n",
    "                        if routing < best_min:\n",
    "                            best_min = routing\n",
    "                        min_routing_over_iterations.append(best_min)\n",
    "\n",
    "                plt.scatter(x,y, marker=\"+\", color='black', label='individual')\n",
    "                plt.scatter(x, min_routing_over_iterations, s=100, \n",
    "                            facecolors='none', edgecolors='r', label='perato front for routing')\n",
    "                pylab.legend(loc='best')\n",
    "\n",
    "\n",
    "                # print all individuals and pareto front ##############################\n",
    "                fig, axes = plt.subplots()\n",
    "                # axes.grid(True)\n",
    "                fig.suptitle('All individuals and the pareto front', fontsize=16)\n",
    "                overheads = [get_overhead(el) for el in all_individuals]\n",
    "                routings = [get_routing(el) for el in all_individuals] \n",
    "\n",
    "                plt.ylabel('Routing')\n",
    "                plt.xlabel('Overhead')\n",
    "                plt.scatter(overheads, routings, marker=\"+\", color='black', label='Individual')\n",
    "                p_front_overheads = [get_overhead(el) for el in pareto_front_of_run]\n",
    "                p_front_routings = [get_routing(el) for el in pareto_front_of_run] \n",
    "                if len(pareto_front_of_run) > 1:\n",
    "                    plt.plot(p_front_overheads, p_front_routings, label=\"Pareto Front\")\n",
    "                else:\n",
    "                    plt.scatter(p_front_avg_o, p_front_avg_p, label=\"Pareto Front\")\n",
    "                pylab.legend(loc='best')\n",
    "                #for i,j in zip(avg_o,avg_p):\n",
    "                #    axes.annotate(str(i)+\", \"+str(j),xy=(i,j))\n",
    "\n",
    "                plt.show()\n",
    "\n",
    "    return pareto_fronts_of_all_runs\n",
    "\n",
    "\n",
    "# analyze and plot data\n",
    "\n",
    "# random search\n",
    "random_500_pfronts = analyze_and_plot(random_rtx_runs_500, random_run_inds_500)\n",
    "random_700_pfronts = analyze_and_plot(random_rtx_runs_700, random_run_inds_700)\n",
    "random_800_pfronts = analyze_and_plot(random_rtx_runs_800, random_run_inds_800)\n",
    "\n",
    "# mlr\n",
    "mlr_500_pfronts = analyze_and_plot(mlr_rtx_runs_500, mlr_run_inds_500)\n",
    "mlr_700_pfronts = analyze_and_plot(mlr_rtx_runs_700, mlr_run_inds_700)\n",
    "mlr_800_pfronts = analyze_and_plot(mlr_rtx_runs_800, mlr_run_inds_800)\n",
    "\n",
    "# novelty\n",
    "novelty_500_pfronts = analyze_and_plot(novelty_rtx_runs_500, novelty_run_inds_500)\n",
    "novelty_700_pfronts = analyze_and_plot(novelty_rtx_runs_700, novelty_run_inds_700)\n",
    "novelty_800_pfronts = analyze_and_plot(novelty_rtx_runs_800, novelty_run_inds_800)\n",
    "\n",
    "# nsga2\n",
    "nsga2_500_pfronts = analyze_and_plot(nsga2_rtx_runs_500, nsga2_run_inds_500)\n",
    "nsga2_700_pfronts = analyze_and_plot(nsga2_rtx_runs_700, nsga2_run_inds_700)\n",
    "nsga2_800_pfronts = analyze_and_plot(nsga2_rtx_runs_800, nsga2_run_inds_800)\n"
   ]
  },
  {
   "cell_type": "markdown",
   "metadata": {},
   "source": [
    "## Analysis of the hypervolume and objectives over multiple runs"
   ]
  },
  {
   "cell_type": "code",
   "execution_count": 7,
   "metadata": {
    "scrolled": false
   },
   "outputs": [
    {
     "name": "stdout",
     "output_type": "stream",
     "text": [
      "Iterations considered: 10\n",
      "Average Hypervolume | Median Hypervolume | Average Overhead (Best of each run) | Median Overhead (Best of each run) | Average Routing (Best of each run) | Median Routing (Best of each run)\n",
      "500 cars\n",
      "Random (15 runs):\t186.460850279\t|186.09616854\t| 1.59050580968\t| 1.59213004093\t| 25.8\t| 27.0\t| \n",
      "MLR (14 runs):\t\t186.460635838\t|186.520993675\t| 1.59563060828\t| 1.5949555586\t| 23.5714285714\t| 25.5\t| \n",
      "Novel (20 runs):\t184.496308389\t|184.574287996\t| 1.59227193523\t| 1.59101386848\t| 28.3\t| 30.0\t| \n",
      "NSGAII (15 runs):\t187.714431944\t|187.827395611\t| 1.59092667257\t| 1.591076309\t| 23.6333333333\t| 22.5\t| \n",
      "700 cars\n",
      "Random (10 runs):\t125.210439446\t|125.628397997\t| 1.76009052302\t| 1.76380449246\t| 40.5\t| 42.0\t| \n",
      "MLR (30 runs):\t\t124.180606491\t|124.281989482\t| 1.77356748354\t| 1.77350961278\t| 35.6333333333\t| 37.0\t| \n",
      "Novel (8 runs):\t123.427751473\t|122.027770501\t| 1.76736418765\t| 1.76804126385\t| 40.375\t| 41.5\t| \n",
      "NSGAII (10 runs):\t126.166627153\t|125.316234495\t| 1.76632646037\t| 1.76709755376\t| 36.4\t| 37.0\t| \n",
      "800 cars\n",
      "Random (15 runs):\t94.9349962316\t|95.169092793\t| 1.85633373978\t| 1.85418978711\t| 42.8666666667\t| 46.0\t| \n",
      "MLR (30 runs):\t\t93.5129068057\t|92.4556636877\t| 1.86911578674\t| 1.86985706921\t| 39.1166666667\t| 39.0\t| \n",
      "Novel (30 runs):\t82.8599050882\t|83.3775062138\t| 1.90678594989\t| 1.90522702289\t| 33.5\t| 35.0\t| \n",
      "NSGAII (9 runs):\t96.6688238496\t|95.8614528506\t| 1.84917565511\t| 1.84673443446\t| 43.9444444444\t| 45.0\t| \n"
     ]
    },
    {
     "data": {
      "image/png": "[encoded data removed]",
      "text/plain": [
       "<matplotlib.figure.Figure at 0x7fc222f40810>"
      ]
     },
     "metadata": {
      "needs_background": "light"
     },
     "output_type": "display_data"
    },
    {
     "name": "stdout",
     "output_type": "stream",
     "text": [
      "NSGA2\tis not\t statistically significantly different than Random\n",
      "Novelty\tis\t statistically significantly different than Random\n",
      "Novelty\tis\t statistically significantly different than NSGA2\n",
      "MLR\tis not\t statistically significantly different than Random\n",
      "MLR\tis not\t statistically significantly different than NSGA2\n",
      "MLR\tis not\t statistically significantly different than Novelty\n"
     ]
    },
    {
     "data": {
      "image/png": "[encoded data removed]",
      "text/plain": [
       "<matplotlib.figure.Figure at 0x7fc213f8af10>"
      ]
     },
     "metadata": {
      "needs_background": "light"
     },
     "output_type": "display_data"
    },
    {
     "data": {
      "image/png": "[encoded data removed]",
      "text/plain": [
       "<matplotlib.figure.Figure at 0x7fc213e72e10>"
      ]
     },
     "metadata": {
      "needs_background": "light"
     },
     "output_type": "display_data"
    },
    {
     "data": {
      "image/png": "[encoded data removed]",
      "text/plain": [
       "<matplotlib.figure.Figure at 0x7fc213e8f790>"
      ]
     },
     "metadata": {
      "needs_background": "light"
     },
     "output_type": "display_data"
    },
    {
     "data": {
      "image/png": "[encoded data removed]",
      "text/plain": [
       "<matplotlib.figure.Figure at 0x7fc213d11b10>"
      ]
     },
     "metadata": {
      "needs_background": "light"
     },
     "output_type": "display_data"
    },
    {
     "data": {
      "image/png": "[encoded data removed]",
      "text/plain": [
       "<matplotlib.figure.Figure at 0x7fc21adce3d0>"
      ]
     },
     "metadata": {
      "needs_background": "light"
     },
     "output_type": "display_data"
    },
    {
     "name": "stdout",
     "output_type": "stream",
     "text": [
      "NSGA2\tis not\t statistically significantly different than Random\n",
      "Novelty\tis not\t statistically significantly different than Random\n",
      "Novelty\tis not\t statistically significantly different than NSGA2\n",
      "MLR\tis not\t statistically significantly different than Random\n",
      "MLR\tis not\t statistically significantly different than NSGA2\n",
      "MLR\tis not\t statistically significantly different than Novelty\n"
     ]
    },
    {
     "data": {
      "image/png": "[encoded data removed]",
      "text/plain": [
       "<matplotlib.figure.Figure at 0x7fc21add6a50>"
      ]
     },
     "metadata": {
      "needs_background": "light"
     },
     "output_type": "display_data"
    },
    {
     "data": {
      "image/png": "[encoded data removed]",
      "text/plain": [
       "<matplotlib.figure.Figure at 0x7fc213cbd6d0>"
      ]
     },
     "metadata": {
      "needs_background": "light"
     },
     "output_type": "display_data"
    },
    {
     "data": {
      "image/png": "[encoded data removed]",
      "text/plain": [
       "<matplotlib.figure.Figure at 0x7fc213c67e50>"
      ]
     },
     "metadata": {
      "needs_background": "light"
     },
     "output_type": "display_data"
    },
    {
     "data": {
      "image/png": "[encoded data removed]",
      "text/plain": [
       "<matplotlib.figure.Figure at 0x7fc213cc8750>"
      ]
     },
     "metadata": {
      "needs_background": "light"
     },
     "output_type": "display_data"
    },
    {
     "data": {
      "image/png": "[encoded data removed]",
      "text/plain": [
       "<matplotlib.figure.Figure at 0x7fc213e868d0>"
      ]
     },
     "metadata": {
      "needs_background": "light"
     },
     "output_type": "display_data"
    },
    {
     "name": "stdout",
     "output_type": "stream",
     "text": [
      "NSGA2\tis not\t statistically significantly different than Random\n",
      "Novelty\tis\t statistically significantly different than Random\n",
      "Novelty\tis\t statistically significantly different than NSGA2\n",
      "MLR\tis not\t statistically significantly different than Random\n",
      "MLR\tis not\t statistically significantly different than NSGA2\n",
      "MLR\tis\t statistically significantly different than Novelty\n"
     ]
    },
    {
     "data": {
      "image/png": "[encoded data removed]",
      "text/plain": [
       "<matplotlib.figure.Figure at 0x7fc2139ca9d0>"
      ]
     },
     "metadata": {
      "needs_background": "light"
     },
     "output_type": "display_data"
    },
    {
     "data": {
      "image/png": "[encoded data removed]",
      "text/plain": [
       "<matplotlib.figure.Figure at 0x7fc213b409d0>"
      ]
     },
     "metadata": {
      "needs_background": "light"
     },
     "output_type": "display_data"
    },
    {
     "data": {
      "image/png": "[encoded data removed]",
      "text/plain": [
       "<matplotlib.figure.Figure at 0x7fc213a8ad50>"
      ]
     },
     "metadata": {
      "needs_background": "light"
     },
     "output_type": "display_data"
    },
    {
     "data": {
      "image/png": "[encoded data removed]",
      "text/plain": [
       "<matplotlib.figure.Figure at 0x7fc21379bd50>"
      ]
     },
     "metadata": {
      "needs_background": "light"
     },
     "output_type": "display_data"
    },
    {
     "data": {
      "image/png": "[encoded data removed]",
      "text/plain": [
       "<matplotlib.figure.Figure at 0x7fc213b40950>"
      ]
     },
     "metadata": {
      "needs_background": "light"
     },
     "output_type": "display_data"
    },
    {
     "name": "stdout",
     "output_type": "stream",
     "text": [
      "Trip Overhead:\n",
      "NSGA2\tis not\t statistically significantly different than Random\n",
      "Novelty\tis not\t statistically significantly different than Random\n",
      "Novelty\tis not\t statistically significantly different than NSGA2\n",
      "MLR\tis\t statistically significantly different than Random\n",
      "MLR\tis not\t statistically significantly different than NSGA2\n",
      "MLR\tis not\t statistically significantly different than Novelty\n"
     ]
    },
    {
     "data": {
      "image/png": "[encoded data removed]",
      "text/plain": [
       "<matplotlib.figure.Figure at 0x7fc213622e90>"
      ]
     },
     "metadata": {
      "needs_background": "light"
     },
     "output_type": "display_data"
    },
    {
     "data": {
      "image/png": "[encoded data removed]",
      "text/plain": [
       "<matplotlib.figure.Figure at 0x7fc2136e1210>"
      ]
     },
     "metadata": {
      "needs_background": "light"
     },
     "output_type": "display_data"
    },
    {
     "data": {
      "image/png": "[encoded data removed]",
      "text/plain": [
       "<matplotlib.figure.Figure at 0x7fc2137c9410>"
      ]
     },
     "metadata": {
      "needs_background": "light"
     },
     "output_type": "display_data"
    },
    {
     "data": {
      "image/png": "[encoded data removed]",
      "text/plain": [
       "<matplotlib.figure.Figure at 0x7fc2136769d0>"
      ]
     },
     "metadata": {
      "needs_background": "light"
     },
     "output_type": "display_data"
    },
    {
     "data": {
      "image/png": "[encoded data removed]",
      "text/plain": [
       "<matplotlib.figure.Figure at 0x7fc21372abd0>"
      ]
     },
     "metadata": {
      "needs_background": "light"
     },
     "output_type": "display_data"
    },
    {
     "name": "stdout",
     "output_type": "stream",
     "text": [
      "Routing Costs:\n",
      "NSGA2\tis not\t statistically significantly different than Random\n",
      "Novelty\tis not\t statistically significantly different than Random\n",
      "Novelty\tis\t statistically significantly different than NSGA2\n",
      "MLR\tis not\t statistically significantly different than Random\n",
      "MLR\tis not\t statistically significantly different than NSGA2\n",
      "MLR\tis\t statistically significantly different than Novelty\n"
     ]
    },
    {
     "data": {
      "image/png": "[encoded data removed]",
      "text/plain": [
       "<matplotlib.figure.Figure at 0x7fc213d8d210>"
      ]
     },
     "metadata": {
      "needs_background": "light"
     },
     "output_type": "display_data"
    },
    {
     "data": {
      "image/png": "[encoded data removed]",
      "text/plain": [
       "<matplotlib.figure.Figure at 0x7fc213b353d0>"
      ]
     },
     "metadata": {
      "needs_background": "light"
     },
     "output_type": "display_data"
    },
    {
     "data": {
      "image/png": "[encoded data removed]",
      "text/plain": [
       "<matplotlib.figure.Figure at 0x7fc2137c4190>"
      ]
     },
     "metadata": {
      "needs_background": "light"
     },
     "output_type": "display_data"
    },
    {
     "data": {
      "image/png": "[encoded data removed]",
      "text/plain": [
       "<matplotlib.figure.Figure at 0x7fc2138cdf10>"
      ]
     },
     "metadata": {
      "needs_background": "light"
     },
     "output_type": "display_data"
    },
    {
     "data": {
      "image/png": "[encoded data removed]",
      "text/plain": [
       "<matplotlib.figure.Figure at 0x7fc2136e1cd0>"
      ]
     },
     "metadata": {
      "needs_background": "light"
     },
     "output_type": "display_data"
    },
    {
     "name": "stdout",
     "output_type": "stream",
     "text": [
      "Trip Overhead:\n",
      "NSGA2\tis not\t statistically significantly different than Random\n",
      "Novelty\tis not\t statistically significantly different than Random\n",
      "Novelty\tis not\t statistically significantly different than NSGA2\n",
      "MLR\tis\t statistically significantly different than Random\n",
      "MLR\tis not\t statistically significantly different than NSGA2\n",
      "MLR\tis not\t statistically significantly different than Novelty\n"
     ]
    },
    {
     "data": {
      "image/png": "[encoded data removed]",
      "text/plain": [
       "<matplotlib.figure.Figure at 0x7fc213c42310>"
      ]
     },
     "metadata": {
      "needs_background": "light"
     },
     "output_type": "display_data"
    },
    {
     "data": {
      "image/png": "[encoded data removed]",
      "text/plain": [
       "<matplotlib.figure.Figure at 0x7fc213d3ed50>"
      ]
     },
     "metadata": {
      "needs_background": "light"
     },
     "output_type": "display_data"
    },
    {
     "data": {
      "image/png": "[encoded data removed]",
      "text/plain": [
       "<matplotlib.figure.Figure at 0x7fc213874a10>"
      ]
     },
     "metadata": {
      "needs_background": "light"
     },
     "output_type": "display_data"
    },
    {
     "data": {
      "image/png": "[encoded data removed]",
      "text/plain": [
       "<matplotlib.figure.Figure at 0x7fc213a0d790>"
      ]
     },
     "metadata": {
      "needs_background": "light"
     },
     "output_type": "display_data"
    },
    {
     "data": {
      "image/png": "[encoded data removed]",
      "text/plain": [
       "<matplotlib.figure.Figure at 0x7fc213c42350>"
      ]
     },
     "metadata": {
      "needs_background": "light"
     },
     "output_type": "display_data"
    },
    {
     "name": "stdout",
     "output_type": "stream",
     "text": [
      "Routing Costs:\n",
      "NSGA2\tis not\t statistically significantly different than Random\n",
      "Novelty\tis not\t statistically significantly different than Random\n",
      "Novelty\tis not\t statistically significantly different than NSGA2\n",
      "MLR\tis\t statistically significantly different than Random\n",
      "MLR\tis not\t statistically significantly different than NSGA2\n",
      "MLR\tis not\t statistically significantly different than Novelty\n"
     ]
    },
    {
     "data": {
      "image/png": "[encoded data removed]",
      "text/plain": [
       "<matplotlib.figure.Figure at 0x7fc213544c50>"
      ]
     },
     "metadata": {
      "needs_background": "light"
     },
     "output_type": "display_data"
    },
    {
     "data": {
      "image/png": "[encoded data removed]",
      "text/plain": [
       "<matplotlib.figure.Figure at 0x7fc213b0bd90>"
      ]
     },
     "metadata": {
      "needs_background": "light"
     },
     "output_type": "display_data"
    },
    {
     "data": {
      "image/png": "[encoded data removed]",
      "text/plain": [
       "<matplotlib.figure.Figure at 0x7fc2140092d0>"
      ]
     },
     "metadata": {
      "needs_background": "light"
     },
     "output_type": "display_data"
    },
    {
     "data": {
      "image/png": "[encoded data removed]",
      "text/plain": [
       "<matplotlib.figure.Figure at 0x7fc213aede50>"
      ]
     },
     "metadata": {
      "needs_background": "light"
     },
     "output_type": "display_data"
    },
    {
     "data": {
      "image/png": "[encoded data removed]",
      "text/plain": [
       "<matplotlib.figure.Figure at 0x7fc213cc7d50>"
      ]
     },
     "metadata": {
      "needs_background": "light"
     },
     "output_type": "display_data"
    },
    {
     "name": "stdout",
     "output_type": "stream",
     "text": [
      "Trip Overhead:\n",
      "NSGA2\tis not\t statistically significantly different than Random\n",
      "Novelty\tis\t statistically significantly different than Random\n",
      "Novelty\tis\t statistically significantly different than NSGA2\n",
      "MLR\tis\t statistically significantly different than Random\n",
      "MLR\tis\t statistically significantly different than NSGA2\n",
      "MLR\tis\t statistically significantly different than Novelty\n"
     ]
    },
    {
     "data": {
      "image/png": "[encoded data removed]",
      "text/plain": [
       "<matplotlib.figure.Figure at 0x7fc213bb7890>"
      ]
     },
     "metadata": {
      "needs_background": "light"
     },
     "output_type": "display_data"
    },
    {
     "data": {
      "image/png": "[encoded data removed]",
      "text/plain": [
       "<matplotlib.figure.Figure at 0x7fc213c90890>"
      ]
     },
     "metadata": {
      "needs_background": "light"
     },
     "output_type": "display_data"
    },
    {
     "data": {
      "image/png": "[encoded data removed]",
      "text/plain": [
       "<matplotlib.figure.Figure at 0x7fc2135c8f50>"
      ]
     },
     "metadata": {
      "needs_background": "light"
     },
     "output_type": "display_data"
    },
    {
     "data": {
      "image/png": "[encoded data removed]",
      "text/plain": [
       "<matplotlib.figure.Figure at 0x7fc2137692d0>"
      ]
     },
     "metadata": {
      "needs_background": "light"
     },
     "output_type": "display_data"
    },
    {
     "data": {
      "image/png": "[encoded data removed]",
      "text/plain": [
       "<matplotlib.figure.Figure at 0x7fc2136f7fd0>"
      ]
     },
     "metadata": {
      "needs_background": "light"
     },
     "output_type": "display_data"
    },
    {
     "name": "stdout",
     "output_type": "stream",
     "text": [
      "Routing Costs:\n",
      "NSGA2\tis not\t statistically significantly different than Random\n",
      "Novelty\tis\t statistically significantly different than Random\n",
      "Novelty\tis\t statistically significantly different than NSGA2\n",
      "MLR\tis not\t statistically significantly different than Random\n",
      "MLR\tis not\t statistically significantly different than NSGA2\n",
      "MLR\tis\t statistically significantly different than Novelty\n"
     ]
    },
    {
     "data": {
      "image/png": "[encoded data removed]",
      "text/plain": [
       "<matplotlib.figure.Figure at 0x7fc2138efc90>"
      ]
     },
     "metadata": {
      "needs_background": "light"
     },
     "output_type": "display_data"
    },
    {
     "data": {
      "image/png": "[encoded data removed]",
      "text/plain": [
       "<matplotlib.figure.Figure at 0x7fc2138251d0>"
      ]
     },
     "metadata": {
      "needs_background": "light"
     },
     "output_type": "display_data"
    },
    {
     "data": {
      "image/png": "[encoded data removed]",
      "text/plain": [
       "<matplotlib.figure.Figure at 0x7fc213beee50>"
      ]
     },
     "metadata": {
      "needs_background": "light"
     },
     "output_type": "display_data"
    },
    {
     "data": {
      "image/png": "[encoded data removed]",
      "text/plain": [
       "<matplotlib.figure.Figure at 0x7fc2139e4cd0>"
      ]
     },
     "metadata": {
      "needs_background": "light"
     },
     "output_type": "display_data"
    },
    {
     "name": "stdout",
     "output_type": "stream",
     "text": [
      "Random - final mean hv: 186.460850279\n",
      "NSGA2 - final mean hv: 187.714431944\n",
      "Novelty - final mean hv: 184.496308389\n",
      "MLR - final mean hv: 186.460635838\n"
     ]
    },
    {
     "data": {
      "image/png": "[encoded data removed]",
      "text/plain": [
       "<matplotlib.figure.Figure at 0x7fc213705550>"
      ]
     },
     "metadata": {
      "needs_background": "light"
     },
     "output_type": "display_data"
    },
    {
     "name": "stdout",
     "output_type": "stream",
     "text": [
      "Random - final mean hv: 125.210439446\n",
      "NSGA2 - final mean hv: 126.166627153\n",
      "Novelty - final mean hv: 123.427751473\n",
      "MLR - final mean hv: 124.180606491\n"
     ]
    },
    {
     "data": {
      "image/png": "[encoded data removed]",
      "text/plain": [
       "<matplotlib.figure.Figure at 0x7fc21aa94d90>"
      ]
     },
     "metadata": {
      "needs_background": "light"
     },
     "output_type": "display_data"
    },
    {
     "name": "stdout",
     "output_type": "stream",
     "text": [
      "Random - final mean hv: 94.9349962316\n",
      "NSGA2 - final mean hv: 95.8687008349\n",
      "Novelty - final mean hv: 82.8599050882\n",
      "MLR - final mean hv: 93.5129068057\n"
     ]
    },
    {
     "data": {
      "image/png": "[encoded data removed]",
      "text/plain": [
       "<matplotlib.figure.Figure at 0x7fc21adad390>"
      ]
     },
     "metadata": {
      "needs_background": "light"
     },
     "output_type": "display_data"
    }
   ],
   "source": [
    "from scipy import stats\n",
    "\n",
    "reference_point = [worst_overhead, worst_routing]\n",
    "hyperVolume = HyperVolume(reference_point)\n",
    "\n",
    "'''\n",
    "Computes the hypervolumes for all pareto fronts\n",
    "'''\n",
    "def compute_hvs(pfronts):\n",
    "    hvs = []\n",
    "    for pfront in pfronts:\n",
    "        pfront_values = [[get_overhead(el), get_routing(el)] for el in pfront]\n",
    "        hv = hyperVolume.compute(pfront_values)\n",
    "        hvs.append(hv)       \n",
    "    return hvs\n",
    "\n",
    "\n",
    "'''\n",
    "Computes the average hypervolume for all pareto fronts\n",
    "'''\n",
    "def compute_avg_hv(pfronts):\n",
    "    hvs = compute_hvs(pfronts)        \n",
    "    return np.mean(hvs)\n",
    "\n",
    "\n",
    "'''\n",
    "Computes the median hypervolume for all pareto fronts\n",
    "'''\n",
    "def compute_median_hv(pfronts, plotting=False):\n",
    "    hvs = compute_hvs(pfronts)       \n",
    "    return np.median(hvs)\n",
    "\n",
    "\n",
    "'''\n",
    "Computes the average of the overhead and routing over all pareto fronts of the all runs\n",
    "'''\n",
    "def compute_avg_objectives(pfronts):\n",
    "    overheads, routings = get_objectives_for_each_pfront(pfronts)\n",
    "    return np.mean(overheads), np.mean(routings)\n",
    "\n",
    "'''\n",
    "Computes the median of the overhead and routing over all pareto fronts of the all runs\n",
    "'''\n",
    "def compute_median_objectives(pfronts):\n",
    "    overheads, routings = get_objectives_for_each_pfront(pfronts)\n",
    "    return np.median(overheads), np.median(routings)\n",
    "\n",
    "\n",
    "def get_objectives_for_each_pfront(pfronts, plotting=False):\n",
    "    overheads = []\n",
    "    routings = []\n",
    "    # for each run/seed\n",
    "    \n",
    "    for pfront in pfronts:\n",
    "        overheads_single_run = [get_overhead(el) for el in pfront]\n",
    "        overheads.append(np.min(overheads_single_run))\n",
    "        routings_single_run = [get_routing(el) for el in pfront]\n",
    "        routings.append(np.min(routings_single_run))\n",
    "    \n",
    "    return overheads, routings\n",
    "\n",
    "\n",
    "'''\n",
    "List of lists, one for each run containing how the hypervolume evolves with each fitness evaluation.\n",
    "'''\n",
    "def compute_hv_over_evals(rtx_runs, run_to_all_individuals, opt_method):\n",
    "    # set iterations\n",
    "    set_iterations(opt_method)\n",
    "    \n",
    "    hv_series_of_all_runs = []\n",
    "    for rtx_run in rtx_runs:\n",
    "        rtx_run_id = rtx_run[\"id\"]\n",
    "        # get all individuals of the run\n",
    "        all_individuals = run_to_all_individuals.get(rtx_run_id, None)\n",
    "        if all_individuals is None:\n",
    "            # print(\"No documents for run \" + str(rtx_run_id))\n",
    "            break\n",
    "       \n",
    "        # debug_msg = \"\"\n",
    "        hv_series = []          \n",
    "        current_pareto_front = []\n",
    "        for i in range(iterations):\n",
    "            new_inds = [el for el in all_individuals if el[\"iteration\"] == i]\n",
    "            if not isinstance(new_inds, (list,)):\n",
    "                new_inds = [new_inds]\n",
    "            for j in range(len(new_inds)):\n",
    "                # new_ind is a list with one element\n",
    "                new_ind = [el for el in new_inds if el[\"individual\"] == j]\n",
    "                if len(new_ind) > 1:\n",
    "                    print(\"ERROR: More than one individual with the same number within the same iteration.\")\n",
    "                # debug_msg = debug_msg \n",
    "                #   + \"(\" + str(new_ind[0][\"iteration\"]) + \", \" + str(new_ind[0][\"individual\"]) + \")\"\n",
    "                current_pareto_front.append(new_ind[0])\n",
    "                current_pareto_front = get_pareto_front(current_pareto_front)\n",
    "                current_pareto_front_values = [[get_overhead(el), get_routing(el)] \n",
    "                                               for el in current_pareto_front]\n",
    "                hv = hyperVolume.compute(current_pareto_front_values)\n",
    "                hv_series.append(hv)\n",
    "        # print(debug_msg)\n",
    "        hv_series_of_all_runs.append(hv_series)\n",
    "    return hv_series_of_all_runs\n",
    "    \n",
    "\n",
    "'''\n",
    "Plots the evolution of the hypervolume of the methods over fitness evaluations. \n",
    "The hypervolume plotted is the mean hypervolume over the runs for each method.\n",
    "'''\n",
    "def plot_hypervolume_evolution(random_rtx_runs, random_run_to_all_individuals,\n",
    "                               nsga2_rtx_runs, nsga2_run_to_all_individuals,\n",
    "                               novelty_rtx_runs, novelty_run_to_all_individuals,\n",
    "                               mlr_rtx_runs, mlr_run_to_all_individuals, cars_number):\n",
    "    methods = [\"Random\", \"NSGA2\", \"Novelty\", \"MLR\"]\n",
    "    linestyles = ['--', '-', '-.', ':']\n",
    "    \n",
    "    random_hv_series = compute_hv_over_evals(random_rtx_runs, random_run_to_all_individuals, methods[0])\n",
    "    nsga2_hv_series = compute_hv_over_evals(nsga2_rtx_runs, nsga2_run_to_all_individuals, methods[1])\n",
    "    novelty_hv_series = compute_hv_over_evals(novelty_rtx_runs, novelty_run_to_all_individuals, methods[2])\n",
    "    mlr_hv_series = compute_hv_over_evals(mlr_rtx_runs, mlr_run_to_all_individuals, methods[3])\n",
    "    \n",
    "    all_hv_series = [random_hv_series, nsga2_hv_series, novelty_hv_series, mlr_hv_series]\n",
    "    \n",
    "    fig, axes = plt.subplots()\n",
    "    fig.suptitle(\"Evolution of the Mean Hypervolume (\" + str(cars_number) + \" cars)\", fontsize=16)    \n",
    "    plt.ylabel('Mean Hypervolume')\n",
    "    plt.xlabel('Fitness Evaluations')\n",
    "    \n",
    "    for i in range(len(methods)):\n",
    "        method = methods[i]\n",
    "        hv_series = all_hv_series[i]\n",
    "        a = np.array(hv_series)   \n",
    "        plot_data = np.mean(a, axis=0)\n",
    "        print(method + \" - final mean hv: \" + str(plot_data[len(plot_data)-1]))\n",
    "        plt.plot(range(len(plot_data)), plot_data, color='black', linestyle=linestyles[i], label=method)\n",
    "     \n",
    "    pylab.legend(loc='best')\n",
    "    plt.show()\n",
    "\n",
    "    \n",
    "def plot_hypervolume_boxplots(random_pfronts, nsga2_pfronts, novelty_pfronts, mlr_pfronts, cars_number):\n",
    "    hvs_random = compute_hvs(random_pfronts)\n",
    "    hvs_nsga2 = compute_hvs(nsga2_pfronts)\n",
    "    hvs_novelty = compute_hvs(novelty_pfronts)\n",
    "    hvs_mlr = compute_hvs(mlr_pfronts)\n",
    "\n",
    "    hvs = [hvs_random, hvs_nsga2, hvs_novelty, hvs_mlr]\n",
    "    hvs_names = [\"Random\", \"NSGA2\", \"Novelty\", \"MLR\"]\n",
    "    hvs_labels = range(1,5)\n",
    "\n",
    "    fig,ax = plt.subplots()\n",
    "    plt.title(str(cars_number) + \" cars\")\n",
    "    ax.boxplot(hvs, 0, '', positions=hvs_labels)\n",
    "    for i in range(len(hvs)):\n",
    "        ax.plot(hvs_labels[i], np.mean(hvs[i]), \".\", label='mean', color='black', linestyle=':')\n",
    "    plt.xticks(hvs_labels, hvs_names) \n",
    "    plt.ylabel('hypervolume')\n",
    "    plt.show() \n",
    "    \n",
    "    # statistical tests\n",
    "    run_ttest(hvs, hvs_names)\n",
    "    \n",
    "    # distributions\n",
    "    for i in range(len(hvs)):\n",
    "        fig,ax = plt.subplots()\n",
    "        plt.hist(hvs[i], bins=30)  \n",
    "        plt.title(str(hvs_names[i]) + \" (\" + str(cars_number) + \" cars)\")\n",
    "        plt.ylabel('frequency')\n",
    "        plt.xlabel('hypervolume')\n",
    "        plt.show() \n",
    "\n",
    "    \n",
    "def plot_objectives_boxplots(random_pfronts, nsga2_pfronts, novelty_pfronts, mlr_pfronts, cars_number):\n",
    "    overheads_random, routings_random = get_objectives_for_each_pfront(random_pfronts) \n",
    "    overheads_nsga2, routings_nsga2 = get_objectives_for_each_pfront(nsga2_pfronts) \n",
    "    overheads_novelty, routings_novelty = get_objectives_for_each_pfront(novelty_pfronts)  \n",
    "    overheads_mlr, routings_mlr = get_objectives_for_each_pfront(mlr_pfronts)\n",
    "        \n",
    "    overheads = [overheads_random, overheads_nsga2, overheads_novelty, overheads_mlr]\n",
    "    routings  = [routings_random, routings_nsga2, routings_novelty, routings_mlr]\n",
    "    names = [\"Random\", \"NSGA2\", \"Novelty\", \"MLR\"]\n",
    "    labels = range(1,5)\n",
    "    \n",
    "    # Trip overhead\n",
    "    fig,ax = plt.subplots()\n",
    "    plt.title(str(cars_number) + \" cars\")\n",
    "    ax.boxplot(overheads, 0, '', positions=labels)\n",
    "    for i in range(len(overheads)):\n",
    "        ax.plot(labels[i], np.mean(overheads[i]), \".\", label='mean', color='black', linestyle=':')\n",
    "    plt.xticks(labels, names) \n",
    "    plt.ylabel('Trip Overhead')\n",
    "    plt.show()\n",
    "    \n",
    "    # statistical test #############\n",
    "    print(\"Trip Overhead:\")\n",
    "    run_ttest(overheads, names)\n",
    "    \n",
    "    # distributions\n",
    "    for i in range(len(overheads)):\n",
    "        fig,ax = plt.subplots()\n",
    "        plt.hist(overheads[i], bins=30)  \n",
    "        plt.title(\"Distribution: \" + str(names[i]) + \" (\" + str(cars_number) + \" cars)\")\n",
    "        plt.ylabel('frequency')\n",
    "        plt.xlabel('trip overhead')\n",
    "    plt.show()    \n",
    "    \n",
    "    # Routing Costs\n",
    "    fig,ax = plt.subplots()\n",
    "    plt.title(str(cars_number) + \" cars\")\n",
    "    ax.boxplot(routings, 0, '', positions=labels)\n",
    "    for i in range(len(routings)):\n",
    "        ax.plot(labels[i], np.mean(routings[i]), \".\", label='mean', color='black', linestyle=':')\n",
    "    plt.xticks(labels, names) \n",
    "    plt.ylabel('Routing Costs')\n",
    "    plt.show() \n",
    "        \n",
    "    # statistical test #############\n",
    "    print(\"Routing Costs:\")\n",
    "    run_ttest(routings, names)\n",
    "    \n",
    "     # distributions\n",
    "    for i in range(len(routings)):\n",
    "        fig,ax = plt.subplots()\n",
    "        plt.hist(routings[i], bins=30)  \n",
    "        plt.title(\"Distribution: \" + str(names[i]) + \" (\" + str(cars_number) + \" cars)\")\n",
    "        plt.ylabel('frequency')\n",
    "        plt.xlabel('routing')\n",
    "    plt.show() \n",
    "    \n",
    "\n",
    "def run_ttest(dataXXX, names):\n",
    "    alpha = 0.05\n",
    "    for i in range(len(dataXXX)):\n",
    "        data_first = dataXXX[i]\n",
    "        name_first = names[i]\n",
    "        for j in range(len(names)):\n",
    "            if j == i:\n",
    "                break\n",
    "            data_second = dataXXX[j]\n",
    "            name_second = names[j]\n",
    "            statistic, pvalue = stats.ttest_ind(data_first, data_second, equal_var = False)\n",
    "            different_averages = bool(pvalue <= alpha)\n",
    "            is_is_not = \"\\tis\\t\" if different_averages else \"\\tis not\\t\"\n",
    "            print(name_first + is_is_not \n",
    "                  + \" statistically significantly different than \"+ name_second)\n",
    "\n",
    "            \n",
    "def check_avg(pfronts, name):\n",
    "    avg_hv = compute_avg_hv(pfronts)\n",
    "    median_hv = compute_median_hv(pfronts)\n",
    "    \n",
    "    avg_best_objectives = compute_avg_objectives(pfronts)\n",
    "    avg_best_overhead = avg_best_objectives[0]\n",
    "    avg_best_routing = avg_best_objectives[1]\n",
    "    \n",
    "    med_best_objectives = compute_median_objectives(pfronts)\n",
    "    med_best_overhead = med_best_objectives[0]\n",
    "    med_best_routing = med_best_objectives[1]\n",
    "    \n",
    "    tt = \"\\t\\t\" if name == \"MLR\" else \"\\t\"\n",
    "        \n",
    "        \n",
    "    print(name + \" (\"+str(len(pfronts))+\" runs):\" + tt\n",
    "          + str(avg_hv) + \"\\t|\" + str(median_hv) + \"\\t| \"\n",
    "          + str(avg_best_overhead) + \"\\t| \" + str(med_best_overhead) + \"\\t| \" \n",
    "          + str(avg_best_routing) + \"\\t| \" + str(med_best_routing) + \"\\t| \" )\n",
    "    \n",
    "\n",
    "print(\"Iterations considered: \" + str(iterations))\n",
    "print(\"Average Hypervolume | Median Hypervolume\" \n",
    "      +\" | Average Overhead (Best of each run) | Median Overhead (Best of each run)\" \n",
    "      +\" | Average Routing (Best of each run) | Median Routing (Best of each run)\" )\n",
    "\n",
    "print(\"500 cars\")\n",
    "check_avg(random_500_pfronts, \"Random\")\n",
    "check_avg(mlr_500_pfronts, \"MLR\")\n",
    "check_avg(novelty_500_pfronts, \"Novel\")\n",
    "check_avg(nsga2_500_pfronts, \"NSGAII\")\n",
    "\n",
    "print(\"700 cars\")\n",
    "check_avg(random_700_pfronts, \"Random\")\n",
    "check_avg(mlr_700_pfronts, \"MLR\")\n",
    "check_avg(novelty_700_pfronts, \"Novel\")\n",
    "check_avg(nsga2_700_pfronts, \"NSGAII\")\n",
    "\n",
    "print(\"800 cars\")\n",
    "check_avg(random_800_pfronts, \"Random\")\n",
    "check_avg(mlr_800_pfronts, \"MLR\")\n",
    "check_avg(novelty_800_pfronts, \"Novel\")\n",
    "check_avg(nsga2_800_pfronts, \"NSGAII\")\n",
    "\n",
    "# Hypervolume Boxplots ==========\n",
    "plot_hypervolume_boxplots(random_500_pfronts, nsga2_500_pfronts, novelty_500_pfronts, mlr_500_pfronts, 500)\n",
    "plot_hypervolume_boxplots(random_700_pfronts, nsga2_700_pfronts, novelty_700_pfronts, mlr_700_pfronts, 700)\n",
    "plot_hypervolume_boxplots(random_800_pfronts, nsga2_800_pfronts, novelty_800_pfronts, mlr_800_pfronts, 800)\n",
    "\n",
    "# Objectives Boxplots ==========\n",
    "plot_objectives_boxplots(random_500_pfronts, nsga2_500_pfronts, novelty_500_pfronts, mlr_500_pfronts, 500)\n",
    "plot_objectives_boxplots(random_700_pfronts, nsga2_700_pfronts, novelty_700_pfronts, mlr_700_pfronts, 700)\n",
    "plot_objectives_boxplots(random_800_pfronts, nsga2_800_pfronts, novelty_800_pfronts, mlr_800_pfronts, 800)\n",
    "\n",
    "# Hypervolume Evolution ==========\n",
    "plot_hypervolume_evolution(random_rtx_runs_500, random_run_inds_500, \n",
    "                           nsga2_rtx_runs_500, nsga2_run_inds_500,\n",
    "                           novelty_rtx_runs_500, novelty_run_inds_500, \n",
    "                           mlr_rtx_runs_500, mlr_run_inds_500, 500)\n",
    "\n",
    "plot_hypervolume_evolution(random_rtx_runs_700, random_run_inds_700,\n",
    "                           nsga2_rtx_runs_700, nsga2_run_inds_700,\n",
    "                           novelty_rtx_runs_700, novelty_run_inds_700,\n",
    "                           mlr_rtx_runs_700, mlr_run_inds_700, 700)\n",
    "\n",
    "plot_hypervolume_evolution(random_rtx_runs_800, random_run_inds_800,\n",
    "                           nsga2_rtx_runs_800, nsga2_run_inds_800,\n",
    "                           novelty_rtx_runs_800, novelty_run_inds_800,\n",
    "                           mlr_rtx_runs_800, mlr_run_inds_800, 800)"
   ]
  },
  {
   "cell_type": "markdown",
   "metadata": {},
   "source": [
    "### "
   ]
  }
 ],
 "metadata": {
  "anaconda-cloud": {},
  "kernelspec": {
   "display_name": "Python 2",
   "language": "python",
   "name": "python2"
  },
  "language_info": {
   "codemirror_mode": {
    "name": "ipython",
    "version": 2
   },
   "file_extension": ".py",
   "mimetype": "text/x-python",
   "name": "python",
   "nbconvert_exporter": "python",
   "pygments_lexer": "ipython2",
   "version": "2.7.14"
  }
 },
 "nbformat": 4,
 "nbformat_minor": 1
}
