{
 "cells": [
  {
   "cell_type": "markdown",
   "metadata": {},
   "source": [
    "# Fitness: (Median of overheads, Median of routing costs )"
   ]
  },
  {
   "cell_type": "markdown",
   "metadata": {},
   "source": [
    "## Load data\n"
   ]
  },
  {
   "cell_type": "code",
   "execution_count": 1,
   "metadata": {
    "scrolled": false
   },
   "outputs": [
    {
     "name": "stdout",
     "output_type": "stream",
     "text": [
      "\n",
      "Reading from index erik-gcp-novelty-500cars-median\n",
      "data retrieved from file raw_data/erik-gcp-novelty-500cars-median.pickle\n",
      "\n",
      "Reading from index erik-noveltysearch-700cars-median\n",
      "data retrieved from file raw_data/erik-noveltysearch-700cars-median.pickle\n",
      "\n",
      "Reading from index erik-noveltysearch-800cars-median\n",
      "data retrieved from file raw_data/erik-noveltysearch-800cars-median.pickle\n",
      "\n",
      "Reading from index erik-gcp-nsga2-500cars-median\n",
      "data retrieved from file raw_data/erik-gcp-nsga2-500cars-median.pickle\n",
      "\n",
      "Reading from index erik-nsga2-700cars-median\n",
      "data retrieved from file raw_data/erik-nsga2-700cars-median.pickle\n",
      "\n",
      "Reading from index erik-nsga2-800cars-median\n",
      "data retrieved from file raw_data/erik-nsga2-800cars-median.pickle\n",
      "\n",
      "Reading from index erik-gcp-mlr-500cars-median\n",
      "data retrieved from file raw_data/erik-gcp-mlr-500cars-median.pickle\n",
      "\n",
      "Reading from index erik-gcp-mlr-700-verify\n",
      "data retrieved from file raw_data/erik-gcp-mlr-700-verify.pickle\n",
      "\n",
      "Reading from index erik-gcp-mlr-800-verify\n",
      "data retrieved from file raw_data/erik-gcp-mlr-800-verify.pickle\n",
      "\n",
      "Reading from index erik-gcp-random-500cars-median\n",
      "data retrieved from file raw_data/erik-gcp-random-500cars-median.pickle\n",
      "\n",
      "Reading from index erik-random-700cars-median\n",
      "data retrieved from file raw_data/erik-random-700cars-median.pickle\n",
      "\n",
      "Reading from index erik-random-800cars-median\n",
      "data retrieved from file raw_data/erik-random-800cars-median.pickle\n"
     ]
    }
   ],
   "source": [
    "%matplotlib inline \n",
    "%reload_ext autoreload\n",
    "from notebooks_commons import get_raw_data\n",
    "\n",
    "\n",
    "# The first time we want to download the data from an index (might take a while!), \n",
    "# we should put the parameter load_from_db to True. Then, we can set it to False to \n",
    "# read the saved data from the local pickle file.\n",
    "def read_data(index, load_from_db = False):\n",
    "    print \"\\nReading from index \" + index\n",
    "    pair = get_raw_data(index, load_from_db)\n",
    "    rtx_runs = pair[0]\n",
    "    data     = pair[1] \n",
    "    return rtx_runs, data\n",
    "\n",
    "\n",
    "# Here we specify the name of the index to read data from\n",
    "\n",
    "index_random_500 = \"erik-gcp-random-500cars-median\" \n",
    "index_novelty_500 = \"erik-gcp-novelty-500cars-median\"\n",
    "index_nsga2_500 = \"erik-gcp-nsga2-500cars-median\"\n",
    "index_mlr_500 = \"erik-gcp-mlr-500cars-median\" \n",
    "\n",
    "index_random_700 = \"erik-random-700cars-median\" \n",
    "index_novelty_700 = \"erik-noveltysearch-700cars-median\"\n",
    "index_nsga2_700 = \"erik-nsga2-700cars-median\"\n",
    "index_mlr_700 = \"erik-gcp-mlr-700-verify\" \n",
    "\n",
    "index_random_800 = \"erik-random-800cars-median\" \n",
    "index_novelty_800 = \"erik-noveltysearch-800cars-median\"\n",
    "index_nsga2_800 = \"erik-nsga2-800cars-median\"\n",
    "index_mlr_800 = \"erik-gcp-mlr-800-verify\" \n",
    "\n",
    "\n",
    "###\n",
    "load_from_db = False\n",
    "\n",
    "### Get Novelty data\n",
    "novelty_rtx_runs_500, novelty_data_500 = read_data(index_novelty_500, load_from_db)\n",
    "novelty_rtx_runs_700, novelty_data_700 = read_data(index_novelty_700, load_from_db)\n",
    "novelty_rtx_runs_800, novelty_data_800 = read_data(index_novelty_800, load_from_db)\n",
    "\n",
    "### Get NSGA2 data\n",
    "nsga2_rtx_runs_500, nsga2_data_500 = read_data(index_nsga2_500, load_from_db)\n",
    "nsga2_rtx_runs_700, nsga2_data_700 = read_data(index_nsga2_700, load_from_db)\n",
    "nsga2_rtx_runs_800, nsga2_data_800 = read_data(index_nsga2_800, load_from_db)\n",
    "\n",
    "### Get MLR data\n",
    "mlr_rtx_runs_500, mlr_data_500 = read_data(index_mlr_500, load_from_db)\n",
    "mlr_rtx_runs_700, mlr_data_700 = read_data(index_mlr_700, load_from_db)\n",
    "mlr_rtx_runs_800, mlr_data_800 = read_data(index_mlr_800, load_from_db)\n",
    "\n",
    "### Get RandomSearch data\n",
    "random_rtx_runs_500, random_data_500 = read_data(index_random_500, load_from_db)\n",
    "random_rtx_runs_700, random_data_700 = read_data(index_random_700, load_from_db)\n",
    "random_rtx_runs_800, random_data_800 = read_data(index_random_800, load_from_db)"
   ]
  },
  {
   "cell_type": "markdown",
   "metadata": {},
   "source": [
    "## Load Fitness Function"
   ]
  },
  {
   "cell_type": "code",
   "execution_count": 2,
   "metadata": {},
   "outputs": [
    {
     "name": "stdout",
     "output_type": "stream",
     "text": [
      "Fitness Function Loaded\n"
     ]
    }
   ],
   "source": [
    "use_median = True\n",
    "\n",
    "'''\n",
    "Returns the fitness of an individual\n",
    "'''\n",
    "def get_fitness(ind):\n",
    "    if use_median:\n",
    "        return ind[\"payload\"][\"median_overhead\"], ind[\"payload\"][\"median_routing\"]\n",
    "    else: \n",
    "        return ind[\"avg_overhead\"], ind[\"avg_routing\"]\n",
    "            \n",
    "'''\n",
    "Returns the overhead of an individual\n",
    "'''\n",
    "def get_overhead(ind):\n",
    "    if use_median:\n",
    "        return ind[\"payload\"][\"median_overhead\"]\n",
    "    else:\n",
    "        return ind[\"avg_overhead\"]\n",
    "    \n",
    "\n",
    "'''\n",
    "Returns the routing of an individual\n",
    "'''\n",
    "def get_routing(ind):\n",
    "    if use_median:\n",
    "        return ind[\"payload\"][\"median_routing\"]\n",
    "    else:\n",
    "        return ind[\"avg_routing\"]\n",
    "    \n",
    "\n",
    "\n",
    "\n",
    "def set_fitness_med(ind, overhead, routing):\n",
    "    ind[\"payload\"][\"median_overhead\"] = overhead\n",
    "    ind[\"payload\"][\"median_routing\"] = routing      \n",
    "\n",
    "        \n",
    "def set_fitness_avg(ind, overhead, routing):\n",
    "    ind[\"avg_overhead\"] = overhead\n",
    "    ind[\"avg_routing\"] = routing        \n",
    "\n",
    "    \n",
    "print(\"Fitness Function Loaded\")"
   ]
  },
  {
   "cell_type": "markdown",
   "metadata": {},
   "source": [
    "## Check what's in there"
   ]
  },
  {
   "cell_type": "code",
   "execution_count": 3,
   "metadata": {
    "scrolled": true
   },
   "outputs": [
    {
     "name": "stdout",
     "output_type": "stream",
     "text": [
      "There were 30 runs performed by RandomSearch\n"
     ]
    },
    {
     "data": {
      "text/markdown": [
       "<span style='color:red'>100\t\t| seed 1 | id AWiALsKlMEaT9KPSX8Ly</span>"
      ],
      "text/plain": [
       "<IPython.core.display.Markdown object>"
      ]
     },
     "metadata": {},
     "output_type": "display_data"
    },
    {
     "data": {
      "text/markdown": [
       "<span style='color:red'>100\t\t| seed 3 | id AWiALuGSMEaT9KPSX8OH</span>"
      ],
      "text/plain": [
       "<IPython.core.display.Markdown object>"
      ]
     },
     "metadata": {},
     "output_type": "display_data"
    },
    {
     "data": {
      "text/markdown": [
       "<span style='color:red'>100\t\t| seed 4 | id AWiALwiZMEaT9KPSX8Qc</span>"
      ],
      "text/plain": [
       "<IPython.core.display.Markdown object>"
      ]
     },
     "metadata": {},
     "output_type": "display_data"
    },
    {
     "data": {
      "text/markdown": [
       "<span style='color:red'>100\t\t| seed 5 | id AWiALy-aMEaT9KPSX8Sx</span>"
      ],
      "text/plain": [
       "<IPython.core.display.Markdown object>"
      ]
     },
     "metadata": {},
     "output_type": "display_data"
    },
    {
     "data": {
      "text/markdown": [
       "<span style='color:red'>100\t\t| seed 6 | id AWiAL1afMEaT9KPSX8VG</span>"
      ],
      "text/plain": [
       "<IPython.core.display.Markdown object>"
      ]
     },
     "metadata": {},
     "output_type": "display_data"
    },
    {
     "data": {
      "text/markdown": [
       "<span style='color:red'>100\t\t| seed 7 | id AWiAL33FMEaT9KPSX8Xb</span>"
      ],
      "text/plain": [
       "<IPython.core.display.Markdown object>"
      ]
     },
     "metadata": {},
     "output_type": "display_data"
    },
    {
     "data": {
      "text/markdown": [
       "<span style='color:red'>100\t\t| seed 8 | id AWiAL6TrMEaT9KPSX8Zw</span>"
      ],
      "text/plain": [
       "<IPython.core.display.Markdown object>"
      ]
     },
     "metadata": {},
     "output_type": "display_data"
    },
    {
     "data": {
      "text/markdown": [
       "<span style='color:red'>100\t\t| seed 9 | id AWiAL8vtMEaT9KPSX8cF</span>"
      ],
      "text/plain": [
       "<IPython.core.display.Markdown object>"
      ]
     },
     "metadata": {},
     "output_type": "display_data"
    },
    {
     "data": {
      "text/markdown": [
       "<span style='color:red'>100\t\t| seed 10 | id AWiAL_MSMEaT9KPSX8ea</span>"
      ],
      "text/plain": [
       "<IPython.core.display.Markdown object>"
      ]
     },
     "metadata": {},
     "output_type": "display_data"
    },
    {
     "data": {
      "text/markdown": [
       "<span style='color:red'>100\t\t| seed 11 | id AWiAMBpmMEaT9KPSX8gv</span>"
      ],
      "text/plain": [
       "<IPython.core.display.Markdown object>"
      ]
     },
     "metadata": {},
     "output_type": "display_data"
    },
    {
     "data": {
      "text/markdown": [
       "<span style='color:red'>100\t\t| seed 12 | id AWiAMEFWMEaT9KPSX8jE</span>"
      ],
      "text/plain": [
       "<IPython.core.display.Markdown object>"
      ]
     },
     "metadata": {},
     "output_type": "display_data"
    },
    {
     "data": {
      "text/markdown": [
       "<span style='color:red'>100\t\t| seed 13 | id AWiAMGipMEaT9KPSX8lZ</span>"
      ],
      "text/plain": [
       "<IPython.core.display.Markdown object>"
      ]
     },
     "metadata": {},
     "output_type": "display_data"
    },
    {
     "data": {
      "text/markdown": [
       "<span style='color:red'>100\t\t| seed 14 | id AWiAMI-zMEaT9KPSX8nw</span>"
      ],
      "text/plain": [
       "<IPython.core.display.Markdown object>"
      ]
     },
     "metadata": {},
     "output_type": "display_data"
    },
    {
     "data": {
      "text/markdown": [
       "<span style='color:red'>100\t\t| seed 15 | id AWiAMLbQMEaT9KPSX8qG</span>"
      ],
      "text/plain": [
       "<IPython.core.display.Markdown object>"
      ]
     },
     "metadata": {},
     "output_type": "display_data"
    },
    {
     "data": {
      "text/markdown": [
       "<span style='color:red'>100\t\t| seed 16 | id AWiAMHVZMEaT9KPSX8la</span>"
      ],
      "text/plain": [
       "<IPython.core.display.Markdown object>"
      ]
     },
     "metadata": {},
     "output_type": "display_data"
    },
    {
     "data": {
      "text/markdown": [
       "<span style='color:red'>100\t\t| seed 17 | id AWiAMHVjMEaT9KPSX8lb</span>"
      ],
      "text/plain": [
       "<IPython.core.display.Markdown object>"
      ]
     },
     "metadata": {},
     "output_type": "display_data"
    },
    {
     "data": {
      "text/markdown": [
       "<span style='color:red'>100\t\t| seed 18 | id AWiAMJmfMEaT9KPSX8nx</span>"
      ],
      "text/plain": [
       "<IPython.core.display.Markdown object>"
      ]
     },
     "metadata": {},
     "output_type": "display_data"
    },
    {
     "data": {
      "text/markdown": [
       "<span style='color:red'>100\t\t| seed 19 | id AWiAMMEFMEaT9KPSX8qH</span>"
      ],
      "text/plain": [
       "<IPython.core.display.Markdown object>"
      ]
     },
     "metadata": {},
     "output_type": "display_data"
    },
    {
     "data": {
      "text/markdown": [
       "<span style='color:red'>100\t\t| seed 20 | id AWiAMOfyMEaT9KPSX8sc</span>"
      ],
      "text/plain": [
       "<IPython.core.display.Markdown object>"
      ]
     },
     "metadata": {},
     "output_type": "display_data"
    },
    {
     "data": {
      "text/markdown": [
       "<span style='color:red'>100\t\t| seed 21 | id AWiAMQ8DMEaT9KPSX8ux</span>"
      ],
      "text/plain": [
       "<IPython.core.display.Markdown object>"
      ]
     },
     "metadata": {},
     "output_type": "display_data"
    },
    {
     "data": {
      "text/markdown": [
       "<span style='color:red'>100\t\t| seed 22 | id AWiAMTYQMEaT9KPSX8xG</span>"
      ],
      "text/plain": [
       "<IPython.core.display.Markdown object>"
      ]
     },
     "metadata": {},
     "output_type": "display_data"
    },
    {
     "data": {
      "text/markdown": [
       "<span style='color:red'>100\t\t| seed 23 | id AWiAMV1HMEaT9KPSX8zb</span>"
      ],
      "text/plain": [
       "<IPython.core.display.Markdown object>"
      ]
     },
     "metadata": {},
     "output_type": "display_data"
    },
    {
     "data": {
      "text/markdown": [
       "<span style='color:red'>100\t\t| seed 24 | id AWiAMYR_MEaT9KPSX81w</span>"
      ],
      "text/plain": [
       "<IPython.core.display.Markdown object>"
      ]
     },
     "metadata": {},
     "output_type": "display_data"
    },
    {
     "data": {
      "text/markdown": [
       "<span style='color:red'>100\t\t| seed 25 | id AWiAMau7MEaT9KPSX84F</span>"
      ],
      "text/plain": [
       "<IPython.core.display.Markdown object>"
      ]
     },
     "metadata": {},
     "output_type": "display_data"
    },
    {
     "data": {
      "text/markdown": [
       "<span style='color:red'>100\t\t| seed 26 | id AWiAMdLIMEaT9KPSX86a</span>"
      ],
      "text/plain": [
       "<IPython.core.display.Markdown object>"
      ]
     },
     "metadata": {},
     "output_type": "display_data"
    },
    {
     "data": {
      "text/markdown": [
       "<span style='color:red'>100\t\t| seed 27 | id AWiAMfm3MEaT9KPSX88v</span>"
      ],
      "text/plain": [
       "<IPython.core.display.Markdown object>"
      ]
     },
     "metadata": {},
     "output_type": "display_data"
    },
    {
     "data": {
      "text/markdown": [
       "<span style='color:red'>100\t\t| seed 28 | id AWiAMiFLMEaT9KPSX8_F</span>"
      ],
      "text/plain": [
       "<IPython.core.display.Markdown object>"
      ]
     },
     "metadata": {},
     "output_type": "display_data"
    },
    {
     "data": {
      "text/markdown": [
       "<span style='color:red'>100\t\t| seed 29 | id AWiAMkgJMEaT9KPSX9Bc</span>"
      ],
      "text/plain": [
       "<IPython.core.display.Markdown object>"
      ]
     },
     "metadata": {},
     "output_type": "display_data"
    },
    {
     "data": {
      "text/markdown": [
       "<span style='color:red'>100\t\t| seed 30 | id AWiAMm9HMEaT9KPSX9Dz</span>"
      ],
      "text/plain": [
       "<IPython.core.display.Markdown object>"
      ]
     },
     "metadata": {},
     "output_type": "display_data"
    },
    {
     "data": {
      "text/markdown": [
       "<span style='color:red'>100\t\t| seed 31 | id AWiDJnJcMEaT9KPSazVs</span>"
      ],
      "text/plain": [
       "<IPython.core.display.Markdown object>"
      ]
     },
     "metadata": {},
     "output_type": "display_data"
    },
    {
     "name": "stdout",
     "output_type": "stream",
     "text": [
      "There were 30 runs performed by RandomSearch\n"
     ]
    },
    {
     "data": {
      "text/markdown": [
       "<span style='color:red'>100\t\t| seed 1 | id AWh7MU1VMEaT9KPSTQjJ</span>"
      ],
      "text/plain": [
       "<IPython.core.display.Markdown object>"
      ]
     },
     "metadata": {},
     "output_type": "display_data"
    },
    {
     "data": {
      "text/markdown": [
       "<span style='color:red'>100\t\t| seed 3 | id AWh7MWUoMEaT9KPSTQjL</span>"
      ],
      "text/plain": [
       "<IPython.core.display.Markdown object>"
      ]
     },
     "metadata": {},
     "output_type": "display_data"
    },
    {
     "data": {
      "text/markdown": [
       "<span style='color:red'>100\t\t| seed 4 | id AWh7MYxgMEaT9KPSTQlc</span>"
      ],
      "text/plain": [
       "<IPython.core.display.Markdown object>"
      ]
     },
     "metadata": {},
     "output_type": "display_data"
    },
    {
     "data": {
      "text/markdown": [
       "<span style='color:red'>100\t\t| seed 5 | id AWh7MbONMEaT9KPSTQnt</span>"
      ],
      "text/plain": [
       "<IPython.core.display.Markdown object>"
      ]
     },
     "metadata": {},
     "output_type": "display_data"
    },
    {
     "data": {
      "text/markdown": [
       "<span style='color:red'>100\t\t| seed 6 | id AWh7MdqyMEaT9KPSTQp_</span>"
      ],
      "text/plain": [
       "<IPython.core.display.Markdown object>"
      ]
     },
     "metadata": {},
     "output_type": "display_data"
    },
    {
     "data": {
      "text/markdown": [
       "<span style='color:red'>100\t\t| seed 7 | id AWh7MgGZMEaT9KPSTQsQ</span>"
      ],
      "text/plain": [
       "<IPython.core.display.Markdown object>"
      ]
     },
     "metadata": {},
     "output_type": "display_data"
    },
    {
     "data": {
      "text/markdown": [
       "<span style='color:red'>100\t\t| seed 8 | id AWh7Mij5MEaT9KPSTQuh</span>"
      ],
      "text/plain": [
       "<IPython.core.display.Markdown object>"
      ]
     },
     "metadata": {},
     "output_type": "display_data"
    },
    {
     "data": {
      "text/markdown": [
       "<span style='color:red'>100\t\t| seed 9 | id AWh7MlAAMEaT9KPSTQwy</span>"
      ],
      "text/plain": [
       "<IPython.core.display.Markdown object>"
      ]
     },
     "metadata": {},
     "output_type": "display_data"
    },
    {
     "data": {
      "text/markdown": [
       "<span style='color:red'>100\t\t| seed 10 | id AWh7MndPMEaT9KPSTQzD</span>"
      ],
      "text/plain": [
       "<IPython.core.display.Markdown object>"
      ]
     },
     "metadata": {},
     "output_type": "display_data"
    },
    {
     "data": {
      "text/markdown": [
       "<span style='color:red'>100\t\t| seed 11 | id AWh7Mp5dMEaT9KPSTQ1U</span>"
      ],
      "text/plain": [
       "<IPython.core.display.Markdown object>"
      ]
     },
     "metadata": {},
     "output_type": "display_data"
    },
    {
     "data": {
      "text/markdown": [
       "<span style='color:red'>100\t\t| seed 12 | id AWh7MsWnMEaT9KPSTQ3l</span>"
      ],
      "text/plain": [
       "<IPython.core.display.Markdown object>"
      ]
     },
     "metadata": {},
     "output_type": "display_data"
    },
    {
     "data": {
      "text/markdown": [
       "<span style='color:red'>100\t\t| seed 13 | id AWh7Muy8MEaT9KPSTQ52</span>"
      ],
      "text/plain": [
       "<IPython.core.display.Markdown object>"
      ]
     },
     "metadata": {},
     "output_type": "display_data"
    },
    {
     "data": {
      "text/markdown": [
       "<span style='color:red'>100\t\t| seed 14 | id AWh7MxPzMEaT9KPSTQ8H</span>"
      ],
      "text/plain": [
       "<IPython.core.display.Markdown object>"
      ]
     },
     "metadata": {},
     "output_type": "display_data"
    },
    {
     "data": {
      "text/markdown": [
       "<span style='color:red'>100\t\t| seed 15 | id AWh7MzsSMEaT9KPSTQ-Y</span>"
      ],
      "text/plain": [
       "<IPython.core.display.Markdown object>"
      ]
     },
     "metadata": {},
     "output_type": "display_data"
    },
    {
     "data": {
      "text/markdown": [
       "<span style='color:red'>100\t\t| seed 16 | id AWiI4Ss8MEaT9KPSgbiv</span>"
      ],
      "text/plain": [
       "<IPython.core.display.Markdown object>"
      ]
     },
     "metadata": {},
     "output_type": "display_data"
    },
    {
     "data": {
      "text/markdown": [
       "<span style='color:red'>100\t\t| seed 17 | id AWiI4TuwMEaT9KPSgblP</span>"
      ],
      "text/plain": [
       "<IPython.core.display.Markdown object>"
      ]
     },
     "metadata": {},
     "output_type": "display_data"
    },
    {
     "data": {
      "text/markdown": [
       "<span style='color:red'>100\t\t| seed 18 | id AWiI4XZLMEaT9KPSgbnx</span>"
      ],
      "text/plain": [
       "<IPython.core.display.Markdown object>"
      ]
     },
     "metadata": {},
     "output_type": "display_data"
    },
    {
     "data": {
      "text/markdown": [
       "<span style='color:red'>100\t\t| seed 19 | id AWiI4bDfMEaT9KPSgbsx</span>"
      ],
      "text/plain": [
       "<IPython.core.display.Markdown object>"
      ]
     },
     "metadata": {},
     "output_type": "display_data"
    },
    {
     "data": {
      "text/markdown": [
       "<span style='color:red'>100\t\t| seed 20 | id AWiI4euVMEaT9KPSgbvT</span>"
      ],
      "text/plain": [
       "<IPython.core.display.Markdown object>"
      ]
     },
     "metadata": {},
     "output_type": "display_data"
    },
    {
     "data": {
      "text/markdown": [
       "<span style='color:red'>100\t\t| seed 21 | id AWiI4iX-MEaT9KPSgb0T</span>"
      ],
      "text/plain": [
       "<IPython.core.display.Markdown object>"
      ]
     },
     "metadata": {},
     "output_type": "display_data"
    },
    {
     "data": {
      "text/markdown": [
       "<span style='color:red'>100\t\t| seed 22 | id AWiI4mDRMEaT9KPSgb21</span>"
      ],
      "text/plain": [
       "<IPython.core.display.Markdown object>"
      ]
     },
     "metadata": {},
     "output_type": "display_data"
    },
    {
     "data": {
      "text/markdown": [
       "<span style='color:red'>100\t\t| seed 23 | id AWiI4pukMEaT9KPSgb71</span>"
      ],
      "text/plain": [
       "<IPython.core.display.Markdown object>"
      ]
     },
     "metadata": {},
     "output_type": "display_data"
    },
    {
     "data": {
      "text/markdown": [
       "<span style='color:red'>100\t\t| seed 24 | id AWiI4taLMEaT9KPSgb-X</span>"
      ],
      "text/plain": [
       "<IPython.core.display.Markdown object>"
      ]
     },
     "metadata": {},
     "output_type": "display_data"
    },
    {
     "data": {
      "text/markdown": [
       "<span style='color:red'>100\t\t| seed 25 | id AWiI4xFTMEaT9KPSgcDX</span>"
      ],
      "text/plain": [
       "<IPython.core.display.Markdown object>"
      ]
     },
     "metadata": {},
     "output_type": "display_data"
    },
    {
     "data": {
      "text/markdown": [
       "<span style='color:red'>100\t\t| seed 26 | id AWiI40uvMEaT9KPSgcF5</span>"
      ],
      "text/plain": [
       "<IPython.core.display.Markdown object>"
      ]
     },
     "metadata": {},
     "output_type": "display_data"
    },
    {
     "data": {
      "text/markdown": [
       "<span style='color:red'>100\t\t| seed 27 | id AWiI44ZfMEaT9KPSgcK5</span>"
      ],
      "text/plain": [
       "<IPython.core.display.Markdown object>"
      ]
     },
     "metadata": {},
     "output_type": "display_data"
    },
    {
     "data": {
      "text/markdown": [
       "<span style='color:red'>100\t\t| seed 28 | id AWiI48ESMEaT9KPSgcNb</span>"
      ],
      "text/plain": [
       "<IPython.core.display.Markdown object>"
      ]
     },
     "metadata": {},
     "output_type": "display_data"
    },
    {
     "data": {
      "text/markdown": [
       "<span style='color:red'>100\t\t| seed 29 | id AWiI4_ulMEaT9KPSgcSb</span>"
      ],
      "text/plain": [
       "<IPython.core.display.Markdown object>"
      ]
     },
     "metadata": {},
     "output_type": "display_data"
    },
    {
     "data": {
      "text/markdown": [
       "<span style='color:red'>100\t\t| seed 30 | id AWiI5DauMEaT9KPSgcU9</span>"
      ],
      "text/plain": [
       "<IPython.core.display.Markdown object>"
      ]
     },
     "metadata": {},
     "output_type": "display_data"
    },
    {
     "data": {
      "text/markdown": [
       "<span style='color:red'>100\t\t| seed 31 | id AWh9fwGqMEaT9KPSVabD</span>"
      ],
      "text/plain": [
       "<IPython.core.display.Markdown object>"
      ]
     },
     "metadata": {},
     "output_type": "display_data"
    },
    {
     "name": "stdout",
     "output_type": "stream",
     "text": [
      "There were 30 runs performed by RandomSearch\n"
     ]
    },
    {
     "data": {
      "text/markdown": [
       "<span style='color:red'>100\t\t| seed 1 | id AWh3AeIhMEaT9KPSPehe</span>"
      ],
      "text/plain": [
       "<IPython.core.display.Markdown object>"
      ]
     },
     "metadata": {},
     "output_type": "display_data"
    },
    {
     "data": {
      "text/markdown": [
       "<span style='color:red'>100\t\t| seed 3 | id AWh3Af6qMEaT9KPSPejq</span>"
      ],
      "text/plain": [
       "<IPython.core.display.Markdown object>"
      ]
     },
     "metadata": {},
     "output_type": "display_data"
    },
    {
     "data": {
      "text/markdown": [
       "<span style='color:red'>100\t\t| seed 4 | id AWh3AiYCMEaT9KPSPel2</span>"
      ],
      "text/plain": [
       "<IPython.core.display.Markdown object>"
      ]
     },
     "metadata": {},
     "output_type": "display_data"
    },
    {
     "data": {
      "text/markdown": [
       "<span style='color:red'>100\t\t| seed 5 | id AWh3Aky0MEaT9KPSPeoC</span>"
      ],
      "text/plain": [
       "<IPython.core.display.Markdown object>"
      ]
     },
     "metadata": {},
     "output_type": "display_data"
    },
    {
     "data": {
      "text/markdown": [
       "<span style='color:red'>100\t\t| seed 6 | id AWh3AnQOMEaT9KPSPeqO</span>"
      ],
      "text/plain": [
       "<IPython.core.display.Markdown object>"
      ]
     },
     "metadata": {},
     "output_type": "display_data"
    },
    {
     "data": {
      "text/markdown": [
       "<span style='color:red'>100\t\t| seed 7 | id AWh3AptCMEaT9KPSPesa</span>"
      ],
      "text/plain": [
       "<IPython.core.display.Markdown object>"
      ]
     },
     "metadata": {},
     "output_type": "display_data"
    },
    {
     "data": {
      "text/markdown": [
       "<span style='color:red'>100\t\t| seed 8 | id AWh3AsKaMEaT9KPSPeum</span>"
      ],
      "text/plain": [
       "<IPython.core.display.Markdown object>"
      ]
     },
     "metadata": {},
     "output_type": "display_data"
    },
    {
     "data": {
      "text/markdown": [
       "<span style='color:red'>100\t\t| seed 9 | id AWh3AumcMEaT9KPSPewy</span>"
      ],
      "text/plain": [
       "<IPython.core.display.Markdown object>"
      ]
     },
     "metadata": {},
     "output_type": "display_data"
    },
    {
     "data": {
      "text/markdown": [
       "<span style='color:red'>100\t\t| seed 10 | id AWh3AxC0MEaT9KPSPey-</span>"
      ],
      "text/plain": [
       "<IPython.core.display.Markdown object>"
      ]
     },
     "metadata": {},
     "output_type": "display_data"
    },
    {
     "data": {
      "text/markdown": [
       "<span style='color:red'>100\t\t| seed 11 | id AWh3Aze_MEaT9KPSPe1K</span>"
      ],
      "text/plain": [
       "<IPython.core.display.Markdown object>"
      ]
     },
     "metadata": {},
     "output_type": "display_data"
    },
    {
     "data": {
      "text/markdown": [
       "<span style='color:red'>100\t\t| seed 12 | id AWh3A173MEaT9KPSPe3W</span>"
      ],
      "text/plain": [
       "<IPython.core.display.Markdown object>"
      ]
     },
     "metadata": {},
     "output_type": "display_data"
    },
    {
     "data": {
      "text/markdown": [
       "<span style='color:red'>100\t\t| seed 13 | id AWh3A4Y4MEaT9KPSPe5i</span>"
      ],
      "text/plain": [
       "<IPython.core.display.Markdown object>"
      ]
     },
     "metadata": {},
     "output_type": "display_data"
    },
    {
     "data": {
      "text/markdown": [
       "<span style='color:red'>100\t\t| seed 14 | id AWh3A61PMEaT9KPSPe7u</span>"
      ],
      "text/plain": [
       "<IPython.core.display.Markdown object>"
      ]
     },
     "metadata": {},
     "output_type": "display_data"
    },
    {
     "data": {
      "text/markdown": [
       "<span style='color:red'>100\t\t| seed 15 | id AWh3A9RuMEaT9KPSPe96</span>"
      ],
      "text/plain": [
       "<IPython.core.display.Markdown object>"
      ]
     },
     "metadata": {},
     "output_type": "display_data"
    },
    {
     "data": {
      "text/markdown": [
       "<span style='color:red'>100\t\t| seed 16 | id AWiI51sFMEaT9KPSgdJd</span>"
      ],
      "text/plain": [
       "<IPython.core.display.Markdown object>"
      ]
     },
     "metadata": {},
     "output_type": "display_data"
    },
    {
     "data": {
      "text/markdown": [
       "<span style='color:red'>100\t\t| seed 17 | id AWiI52euMEaT9KPSgdJf</span>"
      ],
      "text/plain": [
       "<IPython.core.display.Markdown object>"
      ]
     },
     "metadata": {},
     "output_type": "display_data"
    },
    {
     "data": {
      "text/markdown": [
       "<span style='color:red'>100\t\t| seed 18 | id AWiI56JuMEaT9KPSgdOf</span>"
      ],
      "text/plain": [
       "<IPython.core.display.Markdown object>"
      ]
     },
     "metadata": {},
     "output_type": "display_data"
    },
    {
     "data": {
      "text/markdown": [
       "<span style='color:red'>100\t\t| seed 19 | id AWiI590bMEaT9KPSgdRB</span>"
      ],
      "text/plain": [
       "<IPython.core.display.Markdown object>"
      ]
     },
     "metadata": {},
     "output_type": "display_data"
    },
    {
     "data": {
      "text/markdown": [
       "<span style='color:red'>100\t\t| seed 20 | id AWiI6BeyMEaT9KPSgdWB</span>"
      ],
      "text/plain": [
       "<IPython.core.display.Markdown object>"
      ]
     },
     "metadata": {},
     "output_type": "display_data"
    },
    {
     "data": {
      "text/markdown": [
       "<span style='color:red'>100\t\t| seed 21 | id AWiI6FJpMEaT9KPSgdYj</span>"
      ],
      "text/plain": [
       "<IPython.core.display.Markdown object>"
      ]
     },
     "metadata": {},
     "output_type": "display_data"
    },
    {
     "data": {
      "text/markdown": [
       "<span style='color:red'>100\t\t| seed 22 | id AWiI6IzdMEaT9KPSgddj</span>"
      ],
      "text/plain": [
       "<IPython.core.display.Markdown object>"
      ]
     },
     "metadata": {},
     "output_type": "display_data"
    },
    {
     "data": {
      "text/markdown": [
       "<span style='color:red'>100\t\t| seed 23 | id AWiI6MeRMEaT9KPSgdgF</span>"
      ],
      "text/plain": [
       "<IPython.core.display.Markdown object>"
      ]
     },
     "metadata": {},
     "output_type": "display_data"
    },
    {
     "data": {
      "text/markdown": [
       "<span style='color:red'>100\t\t| seed 24 | id AWiI6QI7MEaT9KPSgdlF</span>"
      ],
      "text/plain": [
       "<IPython.core.display.Markdown object>"
      ]
     },
     "metadata": {},
     "output_type": "display_data"
    },
    {
     "data": {
      "text/markdown": [
       "<span style='color:red'>100\t\t| seed 25 | id AWiI6T0bMEaT9KPSgdnn</span>"
      ],
      "text/plain": [
       "<IPython.core.display.Markdown object>"
      ]
     },
     "metadata": {},
     "output_type": "display_data"
    },
    {
     "data": {
      "text/markdown": [
       "<span style='color:red'>100\t\t| seed 26 | id AWiI6XfLMEaT9KPSgdsn</span>"
      ],
      "text/plain": [
       "<IPython.core.display.Markdown object>"
      ]
     },
     "metadata": {},
     "output_type": "display_data"
    },
    {
     "data": {
      "text/markdown": [
       "<span style='color:red'>100\t\t| seed 27 | id AWiI6bJkMEaT9KPSgdvJ</span>"
      ],
      "text/plain": [
       "<IPython.core.display.Markdown object>"
      ]
     },
     "metadata": {},
     "output_type": "display_data"
    },
    {
     "data": {
      "text/markdown": [
       "<span style='color:red'>100\t\t| seed 28 | id AWiI6ez4MEaT9KPSgd0J</span>"
      ],
      "text/plain": [
       "<IPython.core.display.Markdown object>"
      ]
     },
     "metadata": {},
     "output_type": "display_data"
    },
    {
     "data": {
      "text/markdown": [
       "<span style='color:red'>100\t\t| seed 29 | id AWiI6ieaMEaT9KPSgd2r</span>"
      ],
      "text/plain": [
       "<IPython.core.display.Markdown object>"
      ]
     },
     "metadata": {},
     "output_type": "display_data"
    },
    {
     "data": {
      "text/markdown": [
       "<span style='color:red'>100\t\t| seed 30 | id AWiI6mJZMEaT9KPSgd7r</span>"
      ],
      "text/plain": [
       "<IPython.core.display.Markdown object>"
      ]
     },
     "metadata": {},
     "output_type": "display_data"
    },
    {
     "data": {
      "text/markdown": [
       "<span style='color:red'>100\t\t| seed 31 | id AWiI6pzpMEaT9KPSgd-N</span>"
      ],
      "text/plain": [
       "<IPython.core.display.Markdown object>"
      ]
     },
     "metadata": {},
     "output_type": "display_data"
    },
    {
     "name": "stdout",
     "output_type": "stream",
     "text": [
      "There were 30 runs performed by BOGP\n"
     ]
    },
    {
     "data": {
      "text/markdown": [
       "<span style='color:red'>100\t\t| seed 1 | id AWiDT-QTMEaT9KPSa9h2</span>"
      ],
      "text/plain": [
       "<IPython.core.display.Markdown object>"
      ]
     },
     "metadata": {},
     "output_type": "display_data"
    },
    {
     "data": {
      "text/markdown": [
       "<span style='color:red'>100\t\t| seed 2 | id AWiDUAqgMEaT9KPSa9kS</span>"
      ],
      "text/plain": [
       "<IPython.core.display.Markdown object>"
      ]
     },
     "metadata": {},
     "output_type": "display_data"
    },
    {
     "data": {
      "text/markdown": [
       "<span style='color:red'>100\t\t| seed 3 | id AWiDUDHKMEaT9KPSa9mu</span>"
      ],
      "text/plain": [
       "<IPython.core.display.Markdown object>"
      ]
     },
     "metadata": {},
     "output_type": "display_data"
    },
    {
     "data": {
      "text/markdown": [
       "<span style='color:red'>100\t\t| seed 4 | id AWiDUFjeMEaT9KPSa9pK</span>"
      ],
      "text/plain": [
       "<IPython.core.display.Markdown object>"
      ]
     },
     "metadata": {},
     "output_type": "display_data"
    },
    {
     "data": {
      "text/markdown": [
       "<span style='color:red'>100\t\t| seed 5 | id AWiDUH_EMEaT9KPSa9rm</span>"
      ],
      "text/plain": [
       "<IPython.core.display.Markdown object>"
      ]
     },
     "metadata": {},
     "output_type": "display_data"
    },
    {
     "data": {
      "text/markdown": [
       "<span style='color:red'>100\t\t| seed 6 | id AWiDUKb4MEaT9KPSa9uC</span>"
      ],
      "text/plain": [
       "<IPython.core.display.Markdown object>"
      ]
     },
     "metadata": {},
     "output_type": "display_data"
    },
    {
     "data": {
      "text/markdown": [
       "<span style='color:red'>100\t\t| seed 7 | id AWiDUM5BMEaT9KPSa9we</span>"
      ],
      "text/plain": [
       "<IPython.core.display.Markdown object>"
      ]
     },
     "metadata": {},
     "output_type": "display_data"
    },
    {
     "data": {
      "text/markdown": [
       "<span style='color:red'>100\t\t| seed 8 | id AWiDUPWDMEaT9KPSa9y6</span>"
      ],
      "text/plain": [
       "<IPython.core.display.Markdown object>"
      ]
     },
     "metadata": {},
     "output_type": "display_data"
    },
    {
     "data": {
      "text/markdown": [
       "<span style='color:red'>100\t\t| seed 9 | id AWiDURyPMEaT9KPSa91W</span>"
      ],
      "text/plain": [
       "<IPython.core.display.Markdown object>"
      ]
     },
     "metadata": {},
     "output_type": "display_data"
    },
    {
     "data": {
      "text/markdown": [
       "<span style='color:red'>100\t\t| seed 10 | id AWiDUUODMEaT9KPSa93y</span>"
      ],
      "text/plain": [
       "<IPython.core.display.Markdown object>"
      ]
     },
     "metadata": {},
     "output_type": "display_data"
    },
    {
     "data": {
      "text/markdown": [
       "<span style='color:red'>100\t\t| seed 11 | id AWiDUWq6MEaT9KPSa96O</span>"
      ],
      "text/plain": [
       "<IPython.core.display.Markdown object>"
      ]
     },
     "metadata": {},
     "output_type": "display_data"
    },
    {
     "data": {
      "text/markdown": [
       "<span style='color:red'>100\t\t| seed 12 | id AWiDUZHZMEaT9KPSa98q</span>"
      ],
      "text/plain": [
       "<IPython.core.display.Markdown object>"
      ]
     },
     "metadata": {},
     "output_type": "display_data"
    },
    {
     "data": {
      "text/markdown": [
       "<span style='color:red'>100\t\t| seed 13 | id AWiDUbkxMEaT9KPSa9_G</span>"
      ],
      "text/plain": [
       "<IPython.core.display.Markdown object>"
      ]
     },
     "metadata": {},
     "output_type": "display_data"
    },
    {
     "data": {
      "text/markdown": [
       "<span style='color:red'>100\t\t| seed 14 | id AWiDUeA0MEaT9KPSa-Bi</span>"
      ],
      "text/plain": [
       "<IPython.core.display.Markdown object>"
      ]
     },
     "metadata": {},
     "output_type": "display_data"
    },
    {
     "data": {
      "text/markdown": [
       "<span style='color:red'>100\t\t| seed 15 | id AWiDUgd0MEaT9KPSa-D-</span>"
      ],
      "text/plain": [
       "<IPython.core.display.Markdown object>"
      ]
     },
     "metadata": {},
     "output_type": "display_data"
    },
    {
     "data": {
      "text/markdown": [
       "<span style='color:red'>100\t\t| seed 16 | id AWiDcR4BMEaT9KPSbFyF</span>"
      ],
      "text/plain": [
       "<IPython.core.display.Markdown object>"
      ]
     },
     "metadata": {},
     "output_type": "display_data"
    },
    {
     "data": {
      "text/markdown": [
       "<span style='color:red'>100\t\t| seed 17 | id AWiDcSVdMEaT9KPSbFyG</span>"
      ],
      "text/plain": [
       "<IPython.core.display.Markdown object>"
      ]
     },
     "metadata": {},
     "output_type": "display_data"
    },
    {
     "data": {
      "text/markdown": [
       "<span style='color:red'>100\t\t| seed 18 | id AWiDcWAbMEaT9KPSbF29</span>"
      ],
      "text/plain": [
       "<IPython.core.display.Markdown object>"
      ]
     },
     "metadata": {},
     "output_type": "display_data"
    },
    {
     "data": {
      "text/markdown": [
       "<span style='color:red'>100\t\t| seed 19 | id AWiDcZqmMEaT9KPSbF5Z</span>"
      ],
      "text/plain": [
       "<IPython.core.display.Markdown object>"
      ]
     },
     "metadata": {},
     "output_type": "display_data"
    },
    {
     "data": {
      "text/markdown": [
       "<span style='color:red'>100\t\t| seed 20 | id AWiDcdVbMEaT9KPSbF-Q</span>"
      ],
      "text/plain": [
       "<IPython.core.display.Markdown object>"
      ]
     },
     "metadata": {},
     "output_type": "display_data"
    },
    {
     "data": {
      "text/markdown": [
       "<span style='color:red'>100\t\t| seed 21 | id AWiDchAHMEaT9KPSbGAs</span>"
      ],
      "text/plain": [
       "<IPython.core.display.Markdown object>"
      ]
     },
     "metadata": {},
     "output_type": "display_data"
    },
    {
     "data": {
      "text/markdown": [
       "<span style='color:red'>100\t\t| seed 22 | id AWiDckqBMEaT9KPSbGFj</span>"
      ],
      "text/plain": [
       "<IPython.core.display.Markdown object>"
      ]
     },
     "metadata": {},
     "output_type": "display_data"
    },
    {
     "data": {
      "text/markdown": [
       "<span style='color:red'>100\t\t| seed 23 | id AWiDcoVaMEaT9KPSbGH_</span>"
      ],
      "text/plain": [
       "<IPython.core.display.Markdown object>"
      ]
     },
     "metadata": {},
     "output_type": "display_data"
    },
    {
     "data": {
      "text/markdown": [
       "<span style='color:red'>100\t\t| seed 24 | id AWiDcsAQMEaT9KPSbGM2</span>"
      ],
      "text/plain": [
       "<IPython.core.display.Markdown object>"
      ]
     },
     "metadata": {},
     "output_type": "display_data"
    },
    {
     "data": {
      "text/markdown": [
       "<span style='color:red'>100\t\t| seed 25 | id AWiDcvq_MEaT9KPSbGPS</span>"
      ],
      "text/plain": [
       "<IPython.core.display.Markdown object>"
      ]
     },
     "metadata": {},
     "output_type": "display_data"
    },
    {
     "data": {
      "text/markdown": [
       "<span style='color:red'>100\t\t| seed 26 | id AWiDczWHMEaT9KPSbGUJ</span>"
      ],
      "text/plain": [
       "<IPython.core.display.Markdown object>"
      ]
     },
     "metadata": {},
     "output_type": "display_data"
    },
    {
     "data": {
      "text/markdown": [
       "<span style='color:red'>100\t\t| seed 27 | id AWiDc3AAMEaT9KPSbGWl</span>"
      ],
      "text/plain": [
       "<IPython.core.display.Markdown object>"
      ]
     },
     "metadata": {},
     "output_type": "display_data"
    },
    {
     "data": {
      "text/markdown": [
       "<span style='color:red'>100\t\t| seed 28 | id AWiDc6qsMEaT9KPSbGbc</span>"
      ],
      "text/plain": [
       "<IPython.core.display.Markdown object>"
      ]
     },
     "metadata": {},
     "output_type": "display_data"
    },
    {
     "data": {
      "text/markdown": [
       "<span style='color:red'>100\t\t| seed 29 | id AWiDc-WOMEaT9KPSbGd4</span>"
      ],
      "text/plain": [
       "<IPython.core.display.Markdown object>"
      ]
     },
     "metadata": {},
     "output_type": "display_data"
    },
    {
     "data": {
      "text/markdown": [
       "<span style='color:red'>100\t\t| seed 30 | id AWiDdCAUMEaT9KPSbGiv</span>"
      ],
      "text/plain": [
       "<IPython.core.display.Markdown object>"
      ]
     },
     "metadata": {},
     "output_type": "display_data"
    },
    {
     "name": "stdout",
     "output_type": "stream",
     "text": [
      "There were 30 runs performed by BOGP\n"
     ]
    },
    {
     "data": {
      "text/markdown": [
       "<span style='color:red'>100\t\t| seed 1 | id AWiGrv0GMEaT9KPSeNh8</span>"
      ],
      "text/plain": [
       "<IPython.core.display.Markdown object>"
      ]
     },
     "metadata": {},
     "output_type": "display_data"
    },
    {
     "data": {
      "text/markdown": [
       "<span style='color:red'>100\t\t| seed 2 | id AWiGrxCPMEaT9KPSeNkb</span>"
      ],
      "text/plain": [
       "<IPython.core.display.Markdown object>"
      ]
     },
     "metadata": {},
     "output_type": "display_data"
    },
    {
     "data": {
      "text/markdown": [
       "<span style='color:red'>100\t\t| seed 3 | id AWiGryQXMEaT9KPSeNkc</span>"
      ],
      "text/plain": [
       "<IPython.core.display.Markdown object>"
      ]
     },
     "metadata": {},
     "output_type": "display_data"
    },
    {
     "data": {
      "text/markdown": [
       "<span style='color:red'>100\t\t| seed 4 | id AWiGrzfyMEaT9KPSeNm7</span>"
      ],
      "text/plain": [
       "<IPython.core.display.Markdown object>"
      ]
     },
     "metadata": {},
     "output_type": "display_data"
    },
    {
     "data": {
      "text/markdown": [
       "<span style='color:red'>100\t\t| seed 5 | id AWiGr0tkMEaT9KPSeNm8</span>"
      ],
      "text/plain": [
       "<IPython.core.display.Markdown object>"
      ]
     },
     "metadata": {},
     "output_type": "display_data"
    },
    {
     "data": {
      "text/markdown": [
       "<span style='color:red'>100\t\t| seed 6 | id AWiGr17oMEaT9KPSeNpb</span>"
      ],
      "text/plain": [
       "<IPython.core.display.Markdown object>"
      ]
     },
     "metadata": {},
     "output_type": "display_data"
    },
    {
     "data": {
      "text/markdown": [
       "<span style='color:red'>100\t\t| seed 7 | id AWiGr3J5MEaT9KPSeNpc</span>"
      ],
      "text/plain": [
       "<IPython.core.display.Markdown object>"
      ]
     },
     "metadata": {},
     "output_type": "display_data"
    },
    {
     "data": {
      "text/markdown": [
       "<span style='color:red'>100\t\t| seed 8 | id AWiGr4YtMEaT9KPSeNr7</span>"
      ],
      "text/plain": [
       "<IPython.core.display.Markdown object>"
      ]
     },
     "metadata": {},
     "output_type": "display_data"
    },
    {
     "data": {
      "text/markdown": [
       "<span style='color:red'>100\t\t| seed 9 | id AWiGr5nJMEaT9KPSeNr8</span>"
      ],
      "text/plain": [
       "<IPython.core.display.Markdown object>"
      ]
     },
     "metadata": {},
     "output_type": "display_data"
    },
    {
     "data": {
      "text/markdown": [
       "<span style='color:red'>100\t\t| seed 10 | id AWiGr61LMEaT9KPSeNub</span>"
      ],
      "text/plain": [
       "<IPython.core.display.Markdown object>"
      ]
     },
     "metadata": {},
     "output_type": "display_data"
    },
    {
     "data": {
      "text/markdown": [
       "<span style='color:red'>100\t\t| seed 11 | id AWiGr8FIMEaT9KPSeNuc</span>"
      ],
      "text/plain": [
       "<IPython.core.display.Markdown object>"
      ]
     },
     "metadata": {},
     "output_type": "display_data"
    },
    {
     "data": {
      "text/markdown": [
       "<span style='color:red'>100\t\t| seed 12 | id AWiGr9SuMEaT9KPSeNw7</span>"
      ],
      "text/plain": [
       "<IPython.core.display.Markdown object>"
      ]
     },
     "metadata": {},
     "output_type": "display_data"
    },
    {
     "data": {
      "text/markdown": [
       "<span style='color:red'>100\t\t| seed 13 | id AWiGr-giMEaT9KPSeNw8</span>"
      ],
      "text/plain": [
       "<IPython.core.display.Markdown object>"
      ]
     },
     "metadata": {},
     "output_type": "display_data"
    },
    {
     "data": {
      "text/markdown": [
       "<span style='color:red'>100\t\t| seed 14 | id AWiGr_vzMEaT9KPSeNzb</span>"
      ],
      "text/plain": [
       "<IPython.core.display.Markdown object>"
      ]
     },
     "metadata": {},
     "output_type": "display_data"
    },
    {
     "data": {
      "text/markdown": [
       "<span style='color:red'>100\t\t| seed 15 | id AWiGsA9uMEaT9KPSeNzc</span>"
      ],
      "text/plain": [
       "<IPython.core.display.Markdown object>"
      ]
     },
     "metadata": {},
     "output_type": "display_data"
    },
    {
     "data": {
      "text/markdown": [
       "<span style='color:red'>100\t\t| seed 16 | id AWiPwLKRMEaT9KPSnnRq</span>"
      ],
      "text/plain": [
       "<IPython.core.display.Markdown object>"
      ]
     },
     "metadata": {},
     "output_type": "display_data"
    },
    {
     "data": {
      "text/markdown": [
       "<span style='color:red'>100\t\t| seed 17 | id AWiPwL7nMEaT9KPSnnRr</span>"
      ],
      "text/plain": [
       "<IPython.core.display.Markdown object>"
      ]
     },
     "metadata": {},
     "output_type": "display_data"
    },
    {
     "data": {
      "text/markdown": [
       "<span style='color:red'>100\t\t| seed 18 | id AWiPwPmjMEaT9KPSnnXC</span>"
      ],
      "text/plain": [
       "<IPython.core.display.Markdown object>"
      ]
     },
     "metadata": {},
     "output_type": "display_data"
    },
    {
     "data": {
      "text/markdown": [
       "<span style='color:red'>100\t\t| seed 19 | id AWiPwTQQMEaT9KPSnnZu</span>"
      ],
      "text/plain": [
       "<IPython.core.display.Markdown object>"
      ]
     },
     "metadata": {},
     "output_type": "display_data"
    },
    {
     "data": {
      "text/markdown": [
       "<span style='color:red'>100\t\t| seed 20 | id AWiPwW67MEaT9KPSnnfF</span>"
      ],
      "text/plain": [
       "<IPython.core.display.Markdown object>"
      ]
     },
     "metadata": {},
     "output_type": "display_data"
    },
    {
     "data": {
      "text/markdown": [
       "<span style='color:red'>100\t\t| seed 21 | id AWiPwalpMEaT9KPSnnhx</span>"
      ],
      "text/plain": [
       "<IPython.core.display.Markdown object>"
      ]
     },
     "metadata": {},
     "output_type": "display_data"
    },
    {
     "data": {
      "text/markdown": [
       "<span style='color:red'>100\t\t| seed 22 | id AWiPwePgMEaT9KPSnnnI</span>"
      ],
      "text/plain": [
       "<IPython.core.display.Markdown object>"
      ]
     },
     "metadata": {},
     "output_type": "display_data"
    },
    {
     "data": {
      "text/markdown": [
       "<span style='color:red'>100\t\t| seed 23 | id AWiPwh6eMEaT9KPSnnp0</span>"
      ],
      "text/plain": [
       "<IPython.core.display.Markdown object>"
      ]
     },
     "metadata": {},
     "output_type": "display_data"
    },
    {
     "data": {
      "text/markdown": [
       "<span style='color:red'>100\t\t| seed 24 | id AWiPwll1MEaT9KPSnnvL</span>"
      ],
      "text/plain": [
       "<IPython.core.display.Markdown object>"
      ]
     },
     "metadata": {},
     "output_type": "display_data"
    },
    {
     "data": {
      "text/markdown": [
       "<span style='color:red'>100\t\t| seed 25 | id AWiPwpQiMEaT9KPSnnx3</span>"
      ],
      "text/plain": [
       "<IPython.core.display.Markdown object>"
      ]
     },
     "metadata": {},
     "output_type": "display_data"
    },
    {
     "data": {
      "text/markdown": [
       "<span style='color:red'>100\t\t| seed 26 | id AWiPws7FMEaT9KPSnn3O</span>"
      ],
      "text/plain": [
       "<IPython.core.display.Markdown object>"
      ]
     },
     "metadata": {},
     "output_type": "display_data"
    },
    {
     "data": {
      "text/markdown": [
       "<span style='color:red'>100\t\t| seed 27 | id AWiPwwmaMEaT9KPSnn56</span>"
      ],
      "text/plain": [
       "<IPython.core.display.Markdown object>"
      ]
     },
     "metadata": {},
     "output_type": "display_data"
    },
    {
     "data": {
      "text/markdown": [
       "<span style='color:red'>100\t\t| seed 28 | id AWiPw0QRMEaT9KPSnn_R</span>"
      ],
      "text/plain": [
       "<IPython.core.display.Markdown object>"
      ]
     },
     "metadata": {},
     "output_type": "display_data"
    },
    {
     "data": {
      "text/markdown": [
       "<span style='color:red'>100\t\t| seed 29 | id AWiPw36tMEaT9KPSnoB9</span>"
      ],
      "text/plain": [
       "<IPython.core.display.Markdown object>"
      ]
     },
     "metadata": {},
     "output_type": "display_data"
    },
    {
     "data": {
      "text/markdown": [
       "<span style='color:red'>100\t\t| seed 30 | id AWiPw7l8MEaT9KPSnoHU</span>"
      ],
      "text/plain": [
       "<IPython.core.display.Markdown object>"
      ]
     },
     "metadata": {},
     "output_type": "display_data"
    },
    {
     "name": "stdout",
     "output_type": "stream",
     "text": [
      "There were 30 runs performed by BOGP\n"
     ]
    },
    {
     "data": {
      "text/markdown": [
       "<span style='color:red'>100\t\t| seed 1 | id AWiPw8d-MEaT9KPSnoHV</span>"
      ],
      "text/plain": [
       "<IPython.core.display.Markdown object>"
      ]
     },
     "metadata": {},
     "output_type": "display_data"
    },
    {
     "data": {
      "text/markdown": [
       "<span style='color:red'>100\t\t| seed 2 | id AWiPw9GsMEaT9KPSnoKC</span>"
      ],
      "text/plain": [
       "<IPython.core.display.Markdown object>"
      ]
     },
     "metadata": {},
     "output_type": "display_data"
    },
    {
     "data": {
      "text/markdown": [
       "<span style='color:red'>100\t\t| seed 3 | id AWiPxAxeMEaT9KPSnoMv</span>"
      ],
      "text/plain": [
       "<IPython.core.display.Markdown object>"
      ]
     },
     "metadata": {},
     "output_type": "display_data"
    },
    {
     "data": {
      "text/markdown": [
       "<span style='color:red'>100\t\t| seed 4 | id AWiPxEcXMEaT9KPSnoSI</span>"
      ],
      "text/plain": [
       "<IPython.core.display.Markdown object>"
      ]
     },
     "metadata": {},
     "output_type": "display_data"
    },
    {
     "data": {
      "text/markdown": [
       "<span style='color:red'>100\t\t| seed 5 | id AWiPxIHJMEaT9KPSnoU1</span>"
      ],
      "text/plain": [
       "<IPython.core.display.Markdown object>"
      ]
     },
     "metadata": {},
     "output_type": "display_data"
    },
    {
     "data": {
      "text/markdown": [
       "<span style='color:red'>100\t\t| seed 6 | id AWiPxLxZMEaT9KPSnoaO</span>"
      ],
      "text/plain": [
       "<IPython.core.display.Markdown object>"
      ]
     },
     "metadata": {},
     "output_type": "display_data"
    },
    {
     "data": {
      "text/markdown": [
       "<span style='color:red'>100\t\t| seed 7 | id AWiPxPb9MEaT9KPSnoc7</span>"
      ],
      "text/plain": [
       "<IPython.core.display.Markdown object>"
      ]
     },
     "metadata": {},
     "output_type": "display_data"
    },
    {
     "data": {
      "text/markdown": [
       "<span style='color:red'>100\t\t| seed 8 | id AWiPxTF3MEaT9KPSnoiU</span>"
      ],
      "text/plain": [
       "<IPython.core.display.Markdown object>"
      ]
     },
     "metadata": {},
     "output_type": "display_data"
    },
    {
     "data": {
      "text/markdown": [
       "<span style='color:red'>100\t\t| seed 9 | id AWiPxWxXMEaT9KPSnolB</span>"
      ],
      "text/plain": [
       "<IPython.core.display.Markdown object>"
      ]
     },
     "metadata": {},
     "output_type": "display_data"
    },
    {
     "data": {
      "text/markdown": [
       "<span style='color:red'>100\t\t| seed 10 | id AWiPxacAMEaT9KPSnoqa</span>"
      ],
      "text/plain": [
       "<IPython.core.display.Markdown object>"
      ]
     },
     "metadata": {},
     "output_type": "display_data"
    },
    {
     "data": {
      "text/markdown": [
       "<span style='color:red'>100\t\t| seed 11 | id AWiPxeG7MEaT9KPSnotH</span>"
      ],
      "text/plain": [
       "<IPython.core.display.Markdown object>"
      ]
     },
     "metadata": {},
     "output_type": "display_data"
    },
    {
     "data": {
      "text/markdown": [
       "<span style='color:red'>100\t\t| seed 12 | id AWiPxhxwMEaT9KPSnoyg</span>"
      ],
      "text/plain": [
       "<IPython.core.display.Markdown object>"
      ]
     },
     "metadata": {},
     "output_type": "display_data"
    },
    {
     "data": {
      "text/markdown": [
       "<span style='color:red'>100\t\t| seed 13 | id AWiPxldKMEaT9KPSno1N</span>"
      ],
      "text/plain": [
       "<IPython.core.display.Markdown object>"
      ]
     },
     "metadata": {},
     "output_type": "display_data"
    },
    {
     "data": {
      "text/markdown": [
       "<span style='color:red'>100\t\t| seed 14 | id AWiPxpH2MEaT9KPSno6m</span>"
      ],
      "text/plain": [
       "<IPython.core.display.Markdown object>"
      ]
     },
     "metadata": {},
     "output_type": "display_data"
    },
    {
     "data": {
      "text/markdown": [
       "<span style='color:red'>100\t\t| seed 15 | id AWiPxswvMEaT9KPSno9T</span>"
      ],
      "text/plain": [
       "<IPython.core.display.Markdown object>"
      ]
     },
     "metadata": {},
     "output_type": "display_data"
    },
    {
     "data": {
      "text/markdown": [
       "<span style='color:red'>100\t\t| seed 16 | id AWiPyoAGMEaT9KPSnp90</span>"
      ],
      "text/plain": [
       "<IPython.core.display.Markdown object>"
      ]
     },
     "metadata": {},
     "output_type": "display_data"
    },
    {
     "data": {
      "text/markdown": [
       "<span style='color:red'>100\t\t| seed 17 | id AWiPypBJMEaT9KPSnqAh</span>"
      ],
      "text/plain": [
       "<IPython.core.display.Markdown object>"
      ]
     },
     "metadata": {},
     "output_type": "display_data"
    },
    {
     "data": {
      "text/markdown": [
       "<span style='color:red'>100\t\t| seed 18 | id AWiPysrMMEaT9KPSnqDO</span>"
      ],
      "text/plain": [
       "<IPython.core.display.Markdown object>"
      ]
     },
     "metadata": {},
     "output_type": "display_data"
    },
    {
     "data": {
      "text/markdown": [
       "<span style='color:red'>100\t\t| seed 19 | id AWiPywV1MEaT9KPSnqIn</span>"
      ],
      "text/plain": [
       "<IPython.core.display.Markdown object>"
      ]
     },
     "metadata": {},
     "output_type": "display_data"
    },
    {
     "data": {
      "text/markdown": [
       "<span style='color:red'>100\t\t| seed 20 | id AWiPyz_4MEaT9KPSnqLU</span>"
      ],
      "text/plain": [
       "<IPython.core.display.Markdown object>"
      ]
     },
     "metadata": {},
     "output_type": "display_data"
    },
    {
     "data": {
      "text/markdown": [
       "<span style='color:red'>100\t\t| seed 21 | id AWiPy3qmMEaT9KPSnqQt</span>"
      ],
      "text/plain": [
       "<IPython.core.display.Markdown object>"
      ]
     },
     "metadata": {},
     "output_type": "display_data"
    },
    {
     "data": {
      "text/markdown": [
       "<span style='color:red'>100\t\t| seed 22 | id AWiPy7UjMEaT9KPSnqTa</span>"
      ],
      "text/plain": [
       "<IPython.core.display.Markdown object>"
      ]
     },
     "metadata": {},
     "output_type": "display_data"
    },
    {
     "data": {
      "text/markdown": [
       "<span style='color:red'>100\t\t| seed 23 | id AWiPy_AHMEaT9KPSnqYz</span>"
      ],
      "text/plain": [
       "<IPython.core.display.Markdown object>"
      ]
     },
     "metadata": {},
     "output_type": "display_data"
    },
    {
     "data": {
      "text/markdown": [
       "<span style='color:red'>100\t\t| seed 24 | id AWiPzCrPMEaT9KPSnqbg</span>"
      ],
      "text/plain": [
       "<IPython.core.display.Markdown object>"
      ]
     },
     "metadata": {},
     "output_type": "display_data"
    },
    {
     "data": {
      "text/markdown": [
       "<span style='color:red'>100\t\t| seed 25 | id AWiPzGVOMEaT9KPSnqg5</span>"
      ],
      "text/plain": [
       "<IPython.core.display.Markdown object>"
      ]
     },
     "metadata": {},
     "output_type": "display_data"
    },
    {
     "data": {
      "text/markdown": [
       "<span style='color:red'>100\t\t| seed 26 | id AWiPzKAOMEaT9KPSnqjm</span>"
      ],
      "text/plain": [
       "<IPython.core.display.Markdown object>"
      ]
     },
     "metadata": {},
     "output_type": "display_data"
    },
    {
     "data": {
      "text/markdown": [
       "<span style='color:red'>100\t\t| seed 27 | id AWiPzNq9MEaT9KPSnqo_</span>"
      ],
      "text/plain": [
       "<IPython.core.display.Markdown object>"
      ]
     },
     "metadata": {},
     "output_type": "display_data"
    },
    {
     "data": {
      "text/markdown": [
       "<span style='color:red'>100\t\t| seed 28 | id AWiPzRV1MEaT9KPSnqrs</span>"
      ],
      "text/plain": [
       "<IPython.core.display.Markdown object>"
      ]
     },
     "metadata": {},
     "output_type": "display_data"
    },
    {
     "data": {
      "text/markdown": [
       "<span style='color:red'>100\t\t| seed 29 | id AWiPzVAVMEaT9KPSnqxF</span>"
      ],
      "text/plain": [
       "<IPython.core.display.Markdown object>"
      ]
     },
     "metadata": {},
     "output_type": "display_data"
    },
    {
     "data": {
      "text/markdown": [
       "<span style='color:red'>100\t\t| seed 30 | id AWiPzYr_MEaT9KPSnqzy</span>"
      ],
      "text/plain": [
       "<IPython.core.display.Markdown object>"
      ]
     },
     "metadata": {},
     "output_type": "display_data"
    },
    {
     "name": "stdout",
     "output_type": "stream",
     "text": [
      "There were 30 runs performed by NoveltySearch\n"
     ]
    },
    {
     "data": {
      "text/markdown": [
       "<span style='color:red'>100\t\t| seed 1 | id AWiBO2cTMEaT9KPSY8Tc</span>"
      ],
      "text/plain": [
       "<IPython.core.display.Markdown object>"
      ]
     },
     "metadata": {},
     "output_type": "display_data"
    },
    {
     "data": {
      "text/markdown": [
       "<span style='color:red'>100\t\t| seed 2 | id AWiBO3mbMEaT9KPSY8Te</span>"
      ],
      "text/plain": [
       "<IPython.core.display.Markdown object>"
      ]
     },
     "metadata": {},
     "output_type": "display_data"
    },
    {
     "data": {
      "text/markdown": [
       "<span style='color:red'>100\t\t| seed 3 | id AWiBO40hMEaT9KPSY8V1</span>"
      ],
      "text/plain": [
       "<IPython.core.display.Markdown object>"
      ]
     },
     "metadata": {},
     "output_type": "display_data"
    },
    {
     "data": {
      "text/markdown": [
       "<span style='color:red'>100\t\t| seed 4 | id AWiBO6CoMEaT9KPSY8V3</span>"
      ],
      "text/plain": [
       "<IPython.core.display.Markdown object>"
      ]
     },
     "metadata": {},
     "output_type": "display_data"
    },
    {
     "data": {
      "text/markdown": [
       "<span style='color:red'>100\t\t| seed 5 | id AWiBO7RjMEaT9KPSY8YO</span>"
      ],
      "text/plain": [
       "<IPython.core.display.Markdown object>"
      ]
     },
     "metadata": {},
     "output_type": "display_data"
    },
    {
     "data": {
      "text/markdown": [
       "<span style='color:red'>100\t\t| seed 6 | id AWiBO8fmMEaT9KPSY8YQ</span>"
      ],
      "text/plain": [
       "<IPython.core.display.Markdown object>"
      ]
     },
     "metadata": {},
     "output_type": "display_data"
    },
    {
     "data": {
      "text/markdown": [
       "<span style='color:red'>100\t\t| seed 7 | id AWiBO9uWMEaT9KPSY8an</span>"
      ],
      "text/plain": [
       "<IPython.core.display.Markdown object>"
      ]
     },
     "metadata": {},
     "output_type": "display_data"
    },
    {
     "data": {
      "text/markdown": [
       "<span style='color:red'>100\t\t| seed 8 | id AWiBO-8IMEaT9KPSY8ap</span>"
      ],
      "text/plain": [
       "<IPython.core.display.Markdown object>"
      ]
     },
     "metadata": {},
     "output_type": "display_data"
    },
    {
     "data": {
      "text/markdown": [
       "<span style='color:red'>100\t\t| seed 9 | id AWiBPALRMEaT9KPSY8dA</span>"
      ],
      "text/plain": [
       "<IPython.core.display.Markdown object>"
      ]
     },
     "metadata": {},
     "output_type": "display_data"
    },
    {
     "data": {
      "text/markdown": [
       "<span style='color:red'>100\t\t| seed 10 | id AWiBPBZuMEaT9KPSY8dC</span>"
      ],
      "text/plain": [
       "<IPython.core.display.Markdown object>"
      ]
     },
     "metadata": {},
     "output_type": "display_data"
    },
    {
     "data": {
      "text/markdown": [
       "<span style='color:red'>100\t\t| seed 11 | id AWiBPCpdMEaT9KPSY8fZ</span>"
      ],
      "text/plain": [
       "<IPython.core.display.Markdown object>"
      ]
     },
     "metadata": {},
     "output_type": "display_data"
    },
    {
     "data": {
      "text/markdown": [
       "<span style='color:red'>100\t\t| seed 12 | id AWiBPD3dMEaT9KPSY8fb</span>"
      ],
      "text/plain": [
       "<IPython.core.display.Markdown object>"
      ]
     },
     "metadata": {},
     "output_type": "display_data"
    },
    {
     "data": {
      "text/markdown": [
       "<span style='color:red'>100\t\t| seed 13 | id AWiBPFE1MEaT9KPSY8hy</span>"
      ],
      "text/plain": [
       "<IPython.core.display.Markdown object>"
      ]
     },
     "metadata": {},
     "output_type": "display_data"
    },
    {
     "data": {
      "text/markdown": [
       "<span style='color:red'>100\t\t| seed 14 | id AWiBPGTAMEaT9KPSY8h0</span>"
      ],
      "text/plain": [
       "<IPython.core.display.Markdown object>"
      ]
     },
     "metadata": {},
     "output_type": "display_data"
    },
    {
     "data": {
      "text/markdown": [
       "<span style='color:red'>100\t\t| seed 15 | id AWiBPHh6MEaT9KPSY8kL</span>"
      ],
      "text/plain": [
       "<IPython.core.display.Markdown object>"
      ]
     },
     "metadata": {},
     "output_type": "display_data"
    },
    {
     "data": {
      "text/markdown": [
       "<span style='color:red'>100\t\t| seed 16 | id AWiBSgcrMEaT9KPSY_2M</span>"
      ],
      "text/plain": [
       "<IPython.core.display.Markdown object>"
      ]
     },
     "metadata": {},
     "output_type": "display_data"
    },
    {
     "data": {
      "text/markdown": [
       "<span style='color:red'>100\t\t| seed 17 | id AWiBShrOMEaT9KPSY_2O</span>"
      ],
      "text/plain": [
       "<IPython.core.display.Markdown object>"
      ]
     },
     "metadata": {},
     "output_type": "display_data"
    },
    {
     "data": {
      "text/markdown": [
       "<span style='color:red'>100\t\t| seed 18 | id AWiBSi4hMEaT9KPSY_4l</span>"
      ],
      "text/plain": [
       "<IPython.core.display.Markdown object>"
      ]
     },
     "metadata": {},
     "output_type": "display_data"
    },
    {
     "data": {
      "text/markdown": [
       "<span style='color:red'>100\t\t| seed 19 | id AWiBSkHuMEaT9KPSY_4n</span>"
      ],
      "text/plain": [
       "<IPython.core.display.Markdown object>"
      ]
     },
     "metadata": {},
     "output_type": "display_data"
    },
    {
     "data": {
      "text/markdown": [
       "<span style='color:red'>100\t\t| seed 20 | id AWiBSlVRMEaT9KPSY_6-</span>"
      ],
      "text/plain": [
       "<IPython.core.display.Markdown object>"
      ]
     },
     "metadata": {},
     "output_type": "display_data"
    },
    {
     "data": {
      "text/markdown": [
       "<span style='color:red'>100\t\t| seed 21 | id AWiBSmkhMEaT9KPSY_7A</span>"
      ],
      "text/plain": [
       "<IPython.core.display.Markdown object>"
      ]
     },
     "metadata": {},
     "output_type": "display_data"
    },
    {
     "data": {
      "text/markdown": [
       "<span style='color:red'>100\t\t| seed 22 | id AWiBSnydMEaT9KPSY_9X</span>"
      ],
      "text/plain": [
       "<IPython.core.display.Markdown object>"
      ]
     },
     "metadata": {},
     "output_type": "display_data"
    },
    {
     "data": {
      "text/markdown": [
       "<span style='color:red'>100\t\t| seed 23 | id AWiBSpCBMEaT9KPSY_9Z</span>"
      ],
      "text/plain": [
       "<IPython.core.display.Markdown object>"
      ]
     },
     "metadata": {},
     "output_type": "display_data"
    },
    {
     "data": {
      "text/markdown": [
       "<span style='color:red'>100\t\t| seed 24 | id AWiBSqPVMEaT9KPSY__w</span>"
      ],
      "text/plain": [
       "<IPython.core.display.Markdown object>"
      ]
     },
     "metadata": {},
     "output_type": "display_data"
    },
    {
     "data": {
      "text/markdown": [
       "<span style='color:red'>100\t\t| seed 25 | id AWiBSrfFMEaT9KPSY__y</span>"
      ],
      "text/plain": [
       "<IPython.core.display.Markdown object>"
      ]
     },
     "metadata": {},
     "output_type": "display_data"
    },
    {
     "data": {
      "text/markdown": [
       "<span style='color:red'>100\t\t| seed 26 | id AWiBSssqMEaT9KPSZACJ</span>"
      ],
      "text/plain": [
       "<IPython.core.display.Markdown object>"
      ]
     },
     "metadata": {},
     "output_type": "display_data"
    },
    {
     "data": {
      "text/markdown": [
       "<span style='color:red'>100\t\t| seed 27 | id AWiBSt7DMEaT9KPSZACL</span>"
      ],
      "text/plain": [
       "<IPython.core.display.Markdown object>"
      ]
     },
     "metadata": {},
     "output_type": "display_data"
    },
    {
     "data": {
      "text/markdown": [
       "<span style='color:red'>100\t\t| seed 28 | id AWiBSvKHMEaT9KPSZAEi</span>"
      ],
      "text/plain": [
       "<IPython.core.display.Markdown object>"
      ]
     },
     "metadata": {},
     "output_type": "display_data"
    },
    {
     "data": {
      "text/markdown": [
       "<span style='color:red'>100\t\t| seed 29 | id AWiBSwYUMEaT9KPSZAEk</span>"
      ],
      "text/plain": [
       "<IPython.core.display.Markdown object>"
      ]
     },
     "metadata": {},
     "output_type": "display_data"
    },
    {
     "data": {
      "text/markdown": [
       "<span style='color:red'>100\t\t| seed 30 | id AWiBSxm8MEaT9KPSZAG7</span>"
      ],
      "text/plain": [
       "<IPython.core.display.Markdown object>"
      ]
     },
     "metadata": {},
     "output_type": "display_data"
    },
    {
     "name": "stdout",
     "output_type": "stream",
     "text": [
      "There were 30 runs performed by NoveltySearch\n"
     ]
    },
    {
     "data": {
      "text/markdown": [
       "<span style='color:red'>100\t\t| seed 1 | id AWh7NW7lMEaT9KPSTRgi</span>"
      ],
      "text/plain": [
       "<IPython.core.display.Markdown object>"
      ]
     },
     "metadata": {},
     "output_type": "display_data"
    },
    {
     "data": {
      "text/markdown": [
       "<span style='color:red'>100\t\t| seed 2 | id AWh7NXJEMEaT9KPSTRgk</span>"
      ],
      "text/plain": [
       "<IPython.core.display.Markdown object>"
      ]
     },
     "metadata": {},
     "output_type": "display_data"
    },
    {
     "data": {
      "text/markdown": [
       "<span style='color:red'>100\t\t| seed 3 | id AWh7NZlOMEaT9KPSTRi4</span>"
      ],
      "text/plain": [
       "<IPython.core.display.Markdown object>"
      ]
     },
     "metadata": {},
     "output_type": "display_data"
    },
    {
     "data": {
      "text/markdown": [
       "<span style='color:red'>100\t\t| seed 4 | id AWh7NcB4MEaT9KPSTRlL</span>"
      ],
      "text/plain": [
       "<IPython.core.display.Markdown object>"
      ]
     },
     "metadata": {},
     "output_type": "display_data"
    },
    {
     "data": {
      "text/markdown": [
       "<span style='color:red'>100\t\t| seed 5 | id AWh7NedyMEaT9KPSTRne</span>"
      ],
      "text/plain": [
       "<IPython.core.display.Markdown object>"
      ]
     },
     "metadata": {},
     "output_type": "display_data"
    },
    {
     "data": {
      "text/markdown": [
       "<span style='color:red'>100\t\t| seed 6 | id AWh7Ng64MEaT9KPSTRpx</span>"
      ],
      "text/plain": [
       "<IPython.core.display.Markdown object>"
      ]
     },
     "metadata": {},
     "output_type": "display_data"
    },
    {
     "data": {
      "text/markdown": [
       "<span style='color:red'>100\t\t| seed 7 | id AWh7NjXjMEaT9KPSTRsE</span>"
      ],
      "text/plain": [
       "<IPython.core.display.Markdown object>"
      ]
     },
     "metadata": {},
     "output_type": "display_data"
    },
    {
     "data": {
      "text/markdown": [
       "<span style='color:red'>100\t\t| seed 8 | id AWh7Nl0oMEaT9KPSTRuX</span>"
      ],
      "text/plain": [
       "<IPython.core.display.Markdown object>"
      ]
     },
     "metadata": {},
     "output_type": "display_data"
    },
    {
     "data": {
      "text/markdown": [
       "<span style='color:red'>100\t\t| seed 9 | id AWh7NoRRMEaT9KPSTRwq</span>"
      ],
      "text/plain": [
       "<IPython.core.display.Markdown object>"
      ]
     },
     "metadata": {},
     "output_type": "display_data"
    },
    {
     "data": {
      "text/markdown": [
       "<span style='color:red'>100\t\t| seed 10 | id AWh7NqtaMEaT9KPSTRy9</span>"
      ],
      "text/plain": [
       "<IPython.core.display.Markdown object>"
      ]
     },
     "metadata": {},
     "output_type": "display_data"
    },
    {
     "data": {
      "text/markdown": [
       "<span style='color:red'>100\t\t| seed 11 | id AWh7NtJvMEaT9KPSTR1Q</span>"
      ],
      "text/plain": [
       "<IPython.core.display.Markdown object>"
      ]
     },
     "metadata": {},
     "output_type": "display_data"
    },
    {
     "data": {
      "text/markdown": [
       "<span style='color:red'>100\t\t| seed 12 | id AWh7Nvm4MEaT9KPSTR3j</span>"
      ],
      "text/plain": [
       "<IPython.core.display.Markdown object>"
      ]
     },
     "metadata": {},
     "output_type": "display_data"
    },
    {
     "data": {
      "text/markdown": [
       "<span style='color:red'>100\t\t| seed 13 | id AWh7NyC5MEaT9KPSTR52</span>"
      ],
      "text/plain": [
       "<IPython.core.display.Markdown object>"
      ]
     },
     "metadata": {},
     "output_type": "display_data"
    },
    {
     "data": {
      "text/markdown": [
       "<span style='color:red'>100\t\t| seed 14 | id AWh7N0feMEaT9KPSTR8J</span>"
      ],
      "text/plain": [
       "<IPython.core.display.Markdown object>"
      ]
     },
     "metadata": {},
     "output_type": "display_data"
    },
    {
     "data": {
      "text/markdown": [
       "<span style='color:red'>100\t\t| seed 15 | id AWh7N28vMEaT9KPSTR-c</span>"
      ],
      "text/plain": [
       "<IPython.core.display.Markdown object>"
      ]
     },
     "metadata": {},
     "output_type": "display_data"
    },
    {
     "data": {
      "text/markdown": [
       "<span style='color:red'>100\t\t| seed 16 | id AWiF7DYLMEaT9KPSdjiz</span>"
      ],
      "text/plain": [
       "<IPython.core.display.Markdown object>"
      ]
     },
     "metadata": {},
     "output_type": "display_data"
    },
    {
     "data": {
      "text/markdown": [
       "<span style='color:red'>100\t\t| seed 17 | id AWiF7DYKMEaT9KPSdjiy</span>"
      ],
      "text/plain": [
       "<IPython.core.display.Markdown object>"
      ]
     },
     "metadata": {},
     "output_type": "display_data"
    },
    {
     "data": {
      "text/markdown": [
       "<span style='color:red'>100\t\t| seed 18 | id AWiF7FKNMEaT9KPSdjlP</span>"
      ],
      "text/plain": [
       "<IPython.core.display.Markdown object>"
      ]
     },
     "metadata": {},
     "output_type": "display_data"
    },
    {
     "data": {
      "text/markdown": [
       "<span style='color:red'>100\t\t| seed 19 | id AWiF7Hm9MEaT9KPSdjns</span>"
      ],
      "text/plain": [
       "<IPython.core.display.Markdown object>"
      ]
     },
     "metadata": {},
     "output_type": "display_data"
    },
    {
     "data": {
      "text/markdown": [
       "<span style='color:red'>100\t\t| seed 20 | id AWiF7KDkMEaT9KPSdjqJ</span>"
      ],
      "text/plain": [
       "<IPython.core.display.Markdown object>"
      ]
     },
     "metadata": {},
     "output_type": "display_data"
    },
    {
     "data": {
      "text/markdown": [
       "<span style='color:red'>100\t\t| seed 21 | id AWiF7MfjMEaT9KPSdjsm</span>"
      ],
      "text/plain": [
       "<IPython.core.display.Markdown object>"
      ]
     },
     "metadata": {},
     "output_type": "display_data"
    },
    {
     "data": {
      "text/markdown": [
       "<span style='color:red'>100\t\t| seed 22 | id AWiF7O76MEaT9KPSdjvD</span>"
      ],
      "text/plain": [
       "<IPython.core.display.Markdown object>"
      ]
     },
     "metadata": {},
     "output_type": "display_data"
    },
    {
     "data": {
      "text/markdown": [
       "<span style='color:red'>100\t\t| seed 23 | id AWiF7RXyMEaT9KPSdjxg</span>"
      ],
      "text/plain": [
       "<IPython.core.display.Markdown object>"
      ]
     },
     "metadata": {},
     "output_type": "display_data"
    },
    {
     "data": {
      "text/markdown": [
       "<span style='color:red'>100\t\t| seed 24 | id AWiF7T0bMEaT9KPSdjz9</span>"
      ],
      "text/plain": [
       "<IPython.core.display.Markdown object>"
      ]
     },
     "metadata": {},
     "output_type": "display_data"
    },
    {
     "data": {
      "text/markdown": [
       "<span style='color:red'>100\t\t| seed 25 | id AWiF7WSGMEaT9KPSdj2a</span>"
      ],
      "text/plain": [
       "<IPython.core.display.Markdown object>"
      ]
     },
     "metadata": {},
     "output_type": "display_data"
    },
    {
     "data": {
      "text/markdown": [
       "<span style='color:red'>100\t\t| seed 26 | id AWiF7YvLMEaT9KPSdj43</span>"
      ],
      "text/plain": [
       "<IPython.core.display.Markdown object>"
      ]
     },
     "metadata": {},
     "output_type": "display_data"
    },
    {
     "data": {
      "text/markdown": [
       "<span style='color:red'>100\t\t| seed 27 | id AWiF7bLeMEaT9KPSdj7U</span>"
      ],
      "text/plain": [
       "<IPython.core.display.Markdown object>"
      ]
     },
     "metadata": {},
     "output_type": "display_data"
    },
    {
     "data": {
      "text/markdown": [
       "<span style='color:red'>100\t\t| seed 28 | id AWiF7dnwMEaT9KPSdj9x</span>"
      ],
      "text/plain": [
       "<IPython.core.display.Markdown object>"
      ]
     },
     "metadata": {},
     "output_type": "display_data"
    },
    {
     "data": {
      "text/markdown": [
       "<span style='color:red'>100\t\t| seed 29 | id AWiF7gEQMEaT9KPSdkAO</span>"
      ],
      "text/plain": [
       "<IPython.core.display.Markdown object>"
      ]
     },
     "metadata": {},
     "output_type": "display_data"
    },
    {
     "data": {
      "text/markdown": [
       "<span style='color:red'>100\t\t| seed 30 | id AWiF7ig4MEaT9KPSdkCr</span>"
      ],
      "text/plain": [
       "<IPython.core.display.Markdown object>"
      ]
     },
     "metadata": {},
     "output_type": "display_data"
    },
    {
     "name": "stdout",
     "output_type": "stream",
     "text": [
      "There were 30 runs performed by NoveltySearch\n"
     ]
    },
    {
     "data": {
      "text/markdown": [
       "<span style='color:red'>100\t\t| seed 1 | id AWh2_TDsMEaT9KPSPdeZ</span>"
      ],
      "text/plain": [
       "<IPython.core.display.Markdown object>"
      ]
     },
     "metadata": {},
     "output_type": "display_data"
    },
    {
     "data": {
      "text/markdown": [
       "<span style='color:red'>100\t\t| seed 2 | id AWh2_TNfMEaT9KPSPdea</span>"
      ],
      "text/plain": [
       "<IPython.core.display.Markdown object>"
      ]
     },
     "metadata": {},
     "output_type": "display_data"
    },
    {
     "data": {
      "text/markdown": [
       "<span style='color:red'>100\t\t| seed 3 | id AWh2_VqXMEaT9KPSPdgl</span>"
      ],
      "text/plain": [
       "<IPython.core.display.Markdown object>"
      ]
     },
     "metadata": {},
     "output_type": "display_data"
    },
    {
     "data": {
      "text/markdown": [
       "<span style='color:red'>100\t\t| seed 4 | id AWh2_YG3MEaT9KPSPdiw</span>"
      ],
      "text/plain": [
       "<IPython.core.display.Markdown object>"
      ]
     },
     "metadata": {},
     "output_type": "display_data"
    },
    {
     "data": {
      "text/markdown": [
       "<span style='color:red'>100\t\t| seed 5 | id AWh2_ajjMEaT9KPSPdk7</span>"
      ],
      "text/plain": [
       "<IPython.core.display.Markdown object>"
      ]
     },
     "metadata": {},
     "output_type": "display_data"
    },
    {
     "data": {
      "text/markdown": [
       "<span style='color:red'>100\t\t| seed 6 | id AWh2_dAeMEaT9KPSPdnG</span>"
      ],
      "text/plain": [
       "<IPython.core.display.Markdown object>"
      ]
     },
     "metadata": {},
     "output_type": "display_data"
    },
    {
     "data": {
      "text/markdown": [
       "<span style='color:red'>100\t\t| seed 7 | id AWh2_fcoMEaT9KPSPdpR</span>"
      ],
      "text/plain": [
       "<IPython.core.display.Markdown object>"
      ]
     },
     "metadata": {},
     "output_type": "display_data"
    },
    {
     "data": {
      "text/markdown": [
       "<span style='color:red'>100\t\t| seed 8 | id AWh2_h5MMEaT9KPSPdrc</span>"
      ],
      "text/plain": [
       "<IPython.core.display.Markdown object>"
      ]
     },
     "metadata": {},
     "output_type": "display_data"
    },
    {
     "data": {
      "text/markdown": [
       "<span style='color:red'>100\t\t| seed 9 | id AWh2_kWWMEaT9KPSPdtn</span>"
      ],
      "text/plain": [
       "<IPython.core.display.Markdown object>"
      ]
     },
     "metadata": {},
     "output_type": "display_data"
    },
    {
     "data": {
      "text/markdown": [
       "<span style='color:red'>100\t\t| seed 10 | id AWh2_mzQMEaT9KPSPdvy</span>"
      ],
      "text/plain": [
       "<IPython.core.display.Markdown object>"
      ]
     },
     "metadata": {},
     "output_type": "display_data"
    },
    {
     "data": {
      "text/markdown": [
       "<span style='color:red'>100\t\t| seed 11 | id AWh2_pPHMEaT9KPSPdx9</span>"
      ],
      "text/plain": [
       "<IPython.core.display.Markdown object>"
      ]
     },
     "metadata": {},
     "output_type": "display_data"
    },
    {
     "data": {
      "text/markdown": [
       "<span style='color:red'>100\t\t| seed 12 | id AWh2_rsSMEaT9KPSPd0I</span>"
      ],
      "text/plain": [
       "<IPython.core.display.Markdown object>"
      ]
     },
     "metadata": {},
     "output_type": "display_data"
    },
    {
     "data": {
      "text/markdown": [
       "<span style='color:red'>100\t\t| seed 13 | id AWh2_uIUMEaT9KPSPd2T</span>"
      ],
      "text/plain": [
       "<IPython.core.display.Markdown object>"
      ]
     },
     "metadata": {},
     "output_type": "display_data"
    },
    {
     "data": {
      "text/markdown": [
       "<span style='color:red'>100\t\t| seed 14 | id AWh2_wkzMEaT9KPSPd4e</span>"
      ],
      "text/plain": [
       "<IPython.core.display.Markdown object>"
      ]
     },
     "metadata": {},
     "output_type": "display_data"
    },
    {
     "data": {
      "text/markdown": [
       "<span style='color:red'>100\t\t| seed 15 | id AWh2_zB_MEaT9KPSPd6p</span>"
      ],
      "text/plain": [
       "<IPython.core.display.Markdown object>"
      ]
     },
     "metadata": {},
     "output_type": "display_data"
    },
    {
     "data": {
      "text/markdown": [
       "<span style='color:red'>100\t\t| seed 16 | id AWiF75q5MEaT9KPSdkYp</span>"
      ],
      "text/plain": [
       "<IPython.core.display.Markdown object>"
      ]
     },
     "metadata": {},
     "output_type": "display_data"
    },
    {
     "data": {
      "text/markdown": [
       "<span style='color:red'>100\t\t| seed 17 | id AWiF76SrMEaT9KPSdkYq</span>"
      ],
      "text/plain": [
       "<IPython.core.display.Markdown object>"
      ]
     },
     "metadata": {},
     "output_type": "display_data"
    },
    {
     "data": {
      "text/markdown": [
       "<span style='color:red'>100\t\t| seed 18 | id AWiF799vMEaT9KPSdkdj</span>"
      ],
      "text/plain": [
       "<IPython.core.display.Markdown object>"
      ]
     },
     "metadata": {},
     "output_type": "display_data"
    },
    {
     "data": {
      "text/markdown": [
       "<span style='color:red'>100\t\t| seed 19 | id AWiF8BovMEaT9KPSdkgA</span>"
      ],
      "text/plain": [
       "<IPython.core.display.Markdown object>"
      ]
     },
     "metadata": {},
     "output_type": "display_data"
    },
    {
     "data": {
      "text/markdown": [
       "<span style='color:red'>100\t\t| seed 20 | id AWiF8FRnMEaT9KPSdkk5</span>"
      ],
      "text/plain": [
       "<IPython.core.display.Markdown object>"
      ]
     },
     "metadata": {},
     "output_type": "display_data"
    },
    {
     "data": {
      "text/markdown": [
       "<span style='color:red'>100\t\t| seed 21 | id AWiF8I9jMEaT9KPSdknW</span>"
      ],
      "text/plain": [
       "<IPython.core.display.Markdown object>"
      ]
     },
     "metadata": {},
     "output_type": "display_data"
    },
    {
     "data": {
      "text/markdown": [
       "<span style='color:red'>100\t\t| seed 22 | id AWiF8MoTMEaT9KPSdksP</span>"
      ],
      "text/plain": [
       "<IPython.core.display.Markdown object>"
      ]
     },
     "metadata": {},
     "output_type": "display_data"
    },
    {
     "data": {
      "text/markdown": [
       "<span style='color:red'>100\t\t| seed 23 | id AWiF8QSkMEaT9KPSdkus</span>"
      ],
      "text/plain": [
       "<IPython.core.display.Markdown object>"
      ]
     },
     "metadata": {},
     "output_type": "display_data"
    },
    {
     "data": {
      "text/markdown": [
       "<span style='color:red'>100\t\t| seed 24 | id AWiF8T-IMEaT9KPSdkzl</span>"
      ],
      "text/plain": [
       "<IPython.core.display.Markdown object>"
      ]
     },
     "metadata": {},
     "output_type": "display_data"
    },
    {
     "data": {
      "text/markdown": [
       "<span style='color:red'>100\t\t| seed 25 | id AWiF8XoNMEaT9KPSdk2C</span>"
      ],
      "text/plain": [
       "<IPython.core.display.Markdown object>"
      ]
     },
     "metadata": {},
     "output_type": "display_data"
    },
    {
     "data": {
      "text/markdown": [
       "<span style='color:red'>100\t\t| seed 26 | id AWiF8bSuMEaT9KPSdk67</span>"
      ],
      "text/plain": [
       "<IPython.core.display.Markdown object>"
      ]
     },
     "metadata": {},
     "output_type": "display_data"
    },
    {
     "data": {
      "text/markdown": [
       "<span style='color:red'>100\t\t| seed 27 | id AWiF8e97MEaT9KPSdk9Y</span>"
      ],
      "text/plain": [
       "<IPython.core.display.Markdown object>"
      ]
     },
     "metadata": {},
     "output_type": "display_data"
    },
    {
     "data": {
      "text/markdown": [
       "<span style='color:red'>100\t\t| seed 28 | id AWiF8in8MEaT9KPSdlCR</span>"
      ],
      "text/plain": [
       "<IPython.core.display.Markdown object>"
      ]
     },
     "metadata": {},
     "output_type": "display_data"
    },
    {
     "data": {
      "text/markdown": [
       "<span style='color:red'>100\t\t| seed 29 | id AWiF8mSqMEaT9KPSdlEu</span>"
      ],
      "text/plain": [
       "<IPython.core.display.Markdown object>"
      ]
     },
     "metadata": {},
     "output_type": "display_data"
    },
    {
     "data": {
      "text/markdown": [
       "<span style='color:red'>100\t\t| seed 30 | id AWiF8p95MEaT9KPSdlJn</span>"
      ],
      "text/plain": [
       "<IPython.core.display.Markdown object>"
      ]
     },
     "metadata": {},
     "output_type": "display_data"
    },
    {
     "name": "stdout",
     "output_type": "stream",
     "text": [
      "There were 30 runs performed by NSGAII\n"
     ]
    },
    {
     "data": {
      "text/markdown": [
       "<span style='color:red'>100\t\t| seed 2 | id AWiAMheKMEaT9KPSX8_E</span>"
      ],
      "text/plain": [
       "<IPython.core.display.Markdown object>"
      ]
     },
     "metadata": {},
     "output_type": "display_data"
    },
    {
     "data": {
      "text/markdown": [
       "<span style='color:red'>100\t\t| seed 3 | id AWiAMjobMEaT9KPSX9Bb</span>"
      ],
      "text/plain": [
       "<IPython.core.display.Markdown object>"
      ]
     },
     "metadata": {},
     "output_type": "display_data"
    },
    {
     "data": {
      "text/markdown": [
       "<span style='color:red'>100\t\t| seed 4 | id AWiAMmELMEaT9KPSX9Dy</span>"
      ],
      "text/plain": [
       "<IPython.core.display.Markdown object>"
      ]
     },
     "metadata": {},
     "output_type": "display_data"
    },
    {
     "data": {
      "text/markdown": [
       "<span style='color:red'>100\t\t| seed 5 | id AWiAMogrMEaT9KPSX9GJ</span>"
      ],
      "text/plain": [
       "<IPython.core.display.Markdown object>"
      ]
     },
     "metadata": {},
     "output_type": "display_data"
    },
    {
     "data": {
      "text/markdown": [
       "<span style='color:red'>100\t\t| seed 6 | id AWiAMq90MEaT9KPSX9If</span>"
      ],
      "text/plain": [
       "<IPython.core.display.Markdown object>"
      ]
     },
     "metadata": {},
     "output_type": "display_data"
    },
    {
     "data": {
      "text/markdown": [
       "<span style='color:red'>100\t\t| seed 7 | id AWiAMtY-MEaT9KPSX9K1</span>"
      ],
      "text/plain": [
       "<IPython.core.display.Markdown object>"
      ]
     },
     "metadata": {},
     "output_type": "display_data"
    },
    {
     "data": {
      "text/markdown": [
       "<span style='color:red'>100\t\t| seed 8 | id AWiAMv2NMEaT9KPSX9NL</span>"
      ],
      "text/plain": [
       "<IPython.core.display.Markdown object>"
      ]
     },
     "metadata": {},
     "output_type": "display_data"
    },
    {
     "data": {
      "text/markdown": [
       "<span style='color:red'>100\t\t| seed 9 | id AWiAMyTBMEaT9KPSX9Ph</span>"
      ],
      "text/plain": [
       "<IPython.core.display.Markdown object>"
      ]
     },
     "metadata": {},
     "output_type": "display_data"
    },
    {
     "data": {
      "text/markdown": [
       "<span style='color:red'>100\t\t| seed 10 | id AWiAM0vMMEaT9KPSX9R3</span>"
      ],
      "text/plain": [
       "<IPython.core.display.Markdown object>"
      ]
     },
     "metadata": {},
     "output_type": "display_data"
    },
    {
     "data": {
      "text/markdown": [
       "<span style='color:red'>100\t\t| seed 11 | id AWiAM3MUMEaT9KPSX9UN</span>"
      ],
      "text/plain": [
       "<IPython.core.display.Markdown object>"
      ]
     },
     "metadata": {},
     "output_type": "display_data"
    },
    {
     "data": {
      "text/markdown": [
       "<span style='color:red'>100\t\t| seed 12 | id AWiAM5oFMEaT9KPSX9Wj</span>"
      ],
      "text/plain": [
       "<IPython.core.display.Markdown object>"
      ]
     },
     "metadata": {},
     "output_type": "display_data"
    },
    {
     "data": {
      "text/markdown": [
       "<span style='color:red'>100\t\t| seed 13 | id AWiAM8FgMEaT9KPSX9Y5</span>"
      ],
      "text/plain": [
       "<IPython.core.display.Markdown object>"
      ]
     },
     "metadata": {},
     "output_type": "display_data"
    },
    {
     "data": {
      "text/markdown": [
       "<span style='color:red'>100\t\t| seed 14 | id AWiAM-hyMEaT9KPSX9bP</span>"
      ],
      "text/plain": [
       "<IPython.core.display.Markdown object>"
      ]
     },
     "metadata": {},
     "output_type": "display_data"
    },
    {
     "data": {
      "text/markdown": [
       "<span style='color:red'>100\t\t| seed 15 | id AWiANA-TMEaT9KPSX9dl</span>"
      ],
      "text/plain": [
       "<IPython.core.display.Markdown object>"
      ]
     },
     "metadata": {},
     "output_type": "display_data"
    },
    {
     "data": {
      "text/markdown": [
       "<span style='color:red'>100\t\t| seed 16 | id AWiBI_mwMEaT9KPSY2qS</span>"
      ],
      "text/plain": [
       "<IPython.core.display.Markdown object>"
      ]
     },
     "metadata": {},
     "output_type": "display_data"
    },
    {
     "data": {
      "text/markdown": [
       "<span style='color:red'>100\t\t| seed 17 | id AWiBJDQzMEaT9KPSY2u-</span>"
      ],
      "text/plain": [
       "<IPython.core.display.Markdown object>"
      ]
     },
     "metadata": {},
     "output_type": "display_data"
    },
    {
     "data": {
      "text/markdown": [
       "<span style='color:red'>100\t\t| seed 18 | id AWiBJG66MEaT9KPSY2xW</span>"
      ],
      "text/plain": [
       "<IPython.core.display.Markdown object>"
      ]
     },
     "metadata": {},
     "output_type": "display_data"
    },
    {
     "data": {
      "text/markdown": [
       "<span style='color:red'>100\t\t| seed 19 | id AWiBJKlbMEaT9KPSY22C</span>"
      ],
      "text/plain": [
       "<IPython.core.display.Markdown object>"
      ]
     },
     "metadata": {},
     "output_type": "display_data"
    },
    {
     "data": {
      "text/markdown": [
       "<span style='color:red'>100\t\t| seed 20 | id AWiBJOQNMEaT9KPSY24a</span>"
      ],
      "text/plain": [
       "<IPython.core.display.Markdown object>"
      ]
     },
     "metadata": {},
     "output_type": "display_data"
    },
    {
     "data": {
      "text/markdown": [
       "<span style='color:red'>100\t\t| seed 21 | id AWiBJR6wMEaT9KPSY29G</span>"
      ],
      "text/plain": [
       "<IPython.core.display.Markdown object>"
      ]
     },
     "metadata": {},
     "output_type": "display_data"
    },
    {
     "data": {
      "text/markdown": [
       "<span style='color:red'>100\t\t| seed 22 | id AWiBJVk8MEaT9KPSY2_e</span>"
      ],
      "text/plain": [
       "<IPython.core.display.Markdown object>"
      ]
     },
     "metadata": {},
     "output_type": "display_data"
    },
    {
     "data": {
      "text/markdown": [
       "<span style='color:red'>100\t\t| seed 23 | id AWiBJZPiMEaT9KPSY3EK</span>"
      ],
      "text/plain": [
       "<IPython.core.display.Markdown object>"
      ]
     },
     "metadata": {},
     "output_type": "display_data"
    },
    {
     "data": {
      "text/markdown": [
       "<span style='color:red'>100\t\t| seed 24 | id AWiBJc63MEaT9KPSY3Gi</span>"
      ],
      "text/plain": [
       "<IPython.core.display.Markdown object>"
      ]
     },
     "metadata": {},
     "output_type": "display_data"
    },
    {
     "data": {
      "text/markdown": [
       "<span style='color:red'>100\t\t| seed 25 | id AWiBJglfMEaT9KPSY3LO</span>"
      ],
      "text/plain": [
       "<IPython.core.display.Markdown object>"
      ]
     },
     "metadata": {},
     "output_type": "display_data"
    },
    {
     "data": {
      "text/markdown": [
       "<span style='color:red'>100\t\t| seed 26 | id AWiBJkPuMEaT9KPSY3Nm</span>"
      ],
      "text/plain": [
       "<IPython.core.display.Markdown object>"
      ]
     },
     "metadata": {},
     "output_type": "display_data"
    },
    {
     "data": {
      "text/markdown": [
       "<span style='color:red'>100\t\t| seed 27 | id AWiBJn6tMEaT9KPSY3SS</span>"
      ],
      "text/plain": [
       "<IPython.core.display.Markdown object>"
      ]
     },
     "metadata": {},
     "output_type": "display_data"
    },
    {
     "data": {
      "text/markdown": [
       "<span style='color:red'>100\t\t| seed 28 | id AWiBJrlkMEaT9KPSY3Uq</span>"
      ],
      "text/plain": [
       "<IPython.core.display.Markdown object>"
      ]
     },
     "metadata": {},
     "output_type": "display_data"
    },
    {
     "data": {
      "text/markdown": [
       "<span style='color:red'>100\t\t| seed 29 | id AWiBJvQbMEaT9KPSY3ZW</span>"
      ],
      "text/plain": [
       "<IPython.core.display.Markdown object>"
      ]
     },
     "metadata": {},
     "output_type": "display_data"
    },
    {
     "data": {
      "text/markdown": [
       "<span style='color:red'>100\t\t| seed 30 | id AWiBJy7KMEaT9KPSY3bu</span>"
      ],
      "text/plain": [
       "<IPython.core.display.Markdown object>"
      ]
     },
     "metadata": {},
     "output_type": "display_data"
    },
    {
     "data": {
      "text/markdown": [
       "<span style='color:red'>100\t\t| seed 31 | id AWiBy5I9MEaT9KPSZfJz</span>"
      ],
      "text/plain": [
       "<IPython.core.display.Markdown object>"
      ]
     },
     "metadata": {},
     "output_type": "display_data"
    },
    {
     "name": "stdout",
     "output_type": "stream",
     "text": [
      "There were 30 runs performed by NSGAII\n"
     ]
    },
    {
     "data": {
      "text/markdown": [
       "<span style='color:red'>100\t\t| seed 2 | id AWh7M4caMEaT9KPSTRC5</span>"
      ],
      "text/plain": [
       "<IPython.core.display.Markdown object>"
      ]
     },
     "metadata": {},
     "output_type": "display_data"
    },
    {
     "data": {
      "text/markdown": [
       "<span style='color:red'>100\t\t| seed 3 | id AWh7M51lMEaT9KPSTRFL</span>"
      ],
      "text/plain": [
       "<IPython.core.display.Markdown object>"
      ]
     },
     "metadata": {},
     "output_type": "display_data"
    },
    {
     "data": {
      "text/markdown": [
       "<span style='color:red'>100\t\t| seed 4 | id AWh7M8SXMEaT9KPSTRHd</span>"
      ],
      "text/plain": [
       "<IPython.core.display.Markdown object>"
      ]
     },
     "metadata": {},
     "output_type": "display_data"
    },
    {
     "data": {
      "text/markdown": [
       "<span style='color:red'>100\t\t| seed 5 | id AWh7M-ubMEaT9KPSTRJv</span>"
      ],
      "text/plain": [
       "<IPython.core.display.Markdown object>"
      ]
     },
     "metadata": {},
     "output_type": "display_data"
    },
    {
     "data": {
      "text/markdown": [
       "<span style='color:red'>100\t\t| seed 6 | id AWh7NBKIMEaT9KPSTRMB</span>"
      ],
      "text/plain": [
       "<IPython.core.display.Markdown object>"
      ]
     },
     "metadata": {},
     "output_type": "display_data"
    },
    {
     "data": {
      "text/markdown": [
       "<span style='color:red'>100\t\t| seed 7 | id AWh7NDnwMEaT9KPSTROT</span>"
      ],
      "text/plain": [
       "<IPython.core.display.Markdown object>"
      ]
     },
     "metadata": {},
     "output_type": "display_data"
    },
    {
     "data": {
      "text/markdown": [
       "<span style='color:red'>100\t\t| seed 8 | id AWh7NGDiMEaT9KPSTRQl</span>"
      ],
      "text/plain": [
       "<IPython.core.display.Markdown object>"
      ]
     },
     "metadata": {},
     "output_type": "display_data"
    },
    {
     "data": {
      "text/markdown": [
       "<span style='color:red'>100\t\t| seed 9 | id AWh7NIgIMEaT9KPSTRS3</span>"
      ],
      "text/plain": [
       "<IPython.core.display.Markdown object>"
      ]
     },
     "metadata": {},
     "output_type": "display_data"
    },
    {
     "data": {
      "text/markdown": [
       "<span style='color:red'>100\t\t| seed 10 | id AWh7NK9SMEaT9KPSTRVJ</span>"
      ],
      "text/plain": [
       "<IPython.core.display.Markdown object>"
      ]
     },
     "metadata": {},
     "output_type": "display_data"
    },
    {
     "data": {
      "text/markdown": [
       "<span style='color:red'>100\t\t| seed 11 | id AWh7NNZ0MEaT9KPSTRXb</span>"
      ],
      "text/plain": [
       "<IPython.core.display.Markdown object>"
      ]
     },
     "metadata": {},
     "output_type": "display_data"
    },
    {
     "data": {
      "text/markdown": [
       "<span style='color:red'>100\t\t| seed 12 | id AWh7NP2TMEaT9KPSTRZt</span>"
      ],
      "text/plain": [
       "<IPython.core.display.Markdown object>"
      ]
     },
     "metadata": {},
     "output_type": "display_data"
    },
    {
     "data": {
      "text/markdown": [
       "<span style='color:red'>100\t\t| seed 13 | id AWh7NSS8MEaT9KPSTRb_</span>"
      ],
      "text/plain": [
       "<IPython.core.display.Markdown object>"
      ]
     },
     "metadata": {},
     "output_type": "display_data"
    },
    {
     "data": {
      "text/markdown": [
       "<span style='color:red'>100\t\t| seed 14 | id AWh7NUu8MEaT9KPSTReR</span>"
      ],
      "text/plain": [
       "<IPython.core.display.Markdown object>"
      ]
     },
     "metadata": {},
     "output_type": "display_data"
    },
    {
     "data": {
      "text/markdown": [
       "<span style='color:red'>100\t\t| seed 15 | id AWh7NXLyMEaT9KPSTRgl</span>"
      ],
      "text/plain": [
       "<IPython.core.display.Markdown object>"
      ]
     },
     "metadata": {},
     "output_type": "display_data"
    },
    {
     "data": {
      "text/markdown": [
       "<span style='color:red'>100\t\t| seed 16 | id AWiF8rjrMEaT9KPSdlJo</span>"
      ],
      "text/plain": [
       "<IPython.core.display.Markdown object>"
      ]
     },
     "metadata": {},
     "output_type": "display_data"
    },
    {
     "data": {
      "text/markdown": [
       "<span style='color:red'>100\t\t| seed 17 | id AWiF8saAMEaT9KPSdlMF</span>"
      ],
      "text/plain": [
       "<IPython.core.display.Markdown object>"
      ]
     },
     "metadata": {},
     "output_type": "display_data"
    },
    {
     "data": {
      "text/markdown": [
       "<span style='color:red'>100\t\t| seed 18 | id AWiF8wE6MEaT9KPSdlOi</span>"
      ],
      "text/plain": [
       "<IPython.core.display.Markdown object>"
      ]
     },
     "metadata": {},
     "output_type": "display_data"
    },
    {
     "data": {
      "text/markdown": [
       "<span style='color:red'>100\t\t| seed 19 | id AWiF8zwhMEaT9KPSdlTb</span>"
      ],
      "text/plain": [
       "<IPython.core.display.Markdown object>"
      ]
     },
     "metadata": {},
     "output_type": "display_data"
    },
    {
     "data": {
      "text/markdown": [
       "<span style='color:red'>100\t\t| seed 20 | id AWiF83ZeMEaT9KPSdlV4</span>"
      ],
      "text/plain": [
       "<IPython.core.display.Markdown object>"
      ]
     },
     "metadata": {},
     "output_type": "display_data"
    },
    {
     "data": {
      "text/markdown": [
       "<span style='color:red'>100\t\t| seed 21 | id AWiF87EyMEaT9KPSdlax</span>"
      ],
      "text/plain": [
       "<IPython.core.display.Markdown object>"
      ]
     },
     "metadata": {},
     "output_type": "display_data"
    },
    {
     "data": {
      "text/markdown": [
       "<span style='color:red'>100\t\t| seed 22 | id AWiF8-veMEaT9KPSdldO</span>"
      ],
      "text/plain": [
       "<IPython.core.display.Markdown object>"
      ]
     },
     "metadata": {},
     "output_type": "display_data"
    },
    {
     "data": {
      "text/markdown": [
       "<span style='color:red'>100\t\t| seed 23 | id AWiF9CZhMEaT9KPSdliH</span>"
      ],
      "text/plain": [
       "<IPython.core.display.Markdown object>"
      ]
     },
     "metadata": {},
     "output_type": "display_data"
    },
    {
     "data": {
      "text/markdown": [
       "<span style='color:red'>100\t\t| seed 24 | id AWiF9GE_MEaT9KPSdlkk</span>"
      ],
      "text/plain": [
       "<IPython.core.display.Markdown object>"
      ]
     },
     "metadata": {},
     "output_type": "display_data"
    },
    {
     "data": {
      "text/markdown": [
       "<span style='color:red'>100\t\t| seed 25 | id AWiF9JvLMEaT9KPSdlpd</span>"
      ],
      "text/plain": [
       "<IPython.core.display.Markdown object>"
      ]
     },
     "metadata": {},
     "output_type": "display_data"
    },
    {
     "data": {
      "text/markdown": [
       "<span style='color:red'>100\t\t| seed 26 | id AWiF9NZnMEaT9KPSdlr6</span>"
      ],
      "text/plain": [
       "<IPython.core.display.Markdown object>"
      ]
     },
     "metadata": {},
     "output_type": "display_data"
    },
    {
     "data": {
      "text/markdown": [
       "<span style='color:red'>100\t\t| seed 27 | id AWiF9RFYMEaT9KPSdlwz</span>"
      ],
      "text/plain": [
       "<IPython.core.display.Markdown object>"
      ]
     },
     "metadata": {},
     "output_type": "display_data"
    },
    {
     "data": {
      "text/markdown": [
       "<span style='color:red'>100\t\t| seed 28 | id AWiF9UvYMEaT9KPSdlzQ</span>"
      ],
      "text/plain": [
       "<IPython.core.display.Markdown object>"
      ]
     },
     "metadata": {},
     "output_type": "display_data"
    },
    {
     "data": {
      "text/markdown": [
       "<span style='color:red'>100\t\t| seed 29 | id AWiF9YaQMEaT9KPSdl4K</span>"
      ],
      "text/plain": [
       "<IPython.core.display.Markdown object>"
      ]
     },
     "metadata": {},
     "output_type": "display_data"
    },
    {
     "data": {
      "text/markdown": [
       "<span style='color:red'>100\t\t| seed 30 | id AWiF9cFAMEaT9KPSdl6o</span>"
      ],
      "text/plain": [
       "<IPython.core.display.Markdown object>"
      ]
     },
     "metadata": {},
     "output_type": "display_data"
    },
    {
     "data": {
      "text/markdown": [
       "<span style='color:red'>100\t\t| seed 31 | id AWh9DmurMEaT9KPSVAAr</span>"
      ],
      "text/plain": [
       "<IPython.core.display.Markdown object>"
      ]
     },
     "metadata": {},
     "output_type": "display_data"
    },
    {
     "name": "stdout",
     "output_type": "stream",
     "text": [
      "There were 30 runs performed by NSGAII\n"
     ]
    },
    {
     "data": {
      "text/markdown": [
       "<span style='color:red'>100\t\t| seed 2 | id AWh2-DsKMEaT9KPSPcZr</span>"
      ],
      "text/plain": [
       "<IPython.core.display.Markdown object>"
      ]
     },
     "metadata": {},
     "output_type": "display_data"
    },
    {
     "data": {
      "text/markdown": [
       "<span style='color:red'>100\t\t| seed 3 | id AWh2-FhqMEaT9KPSPcb0</span>"
      ],
      "text/plain": [
       "<IPython.core.display.Markdown object>"
      ]
     },
     "metadata": {},
     "output_type": "display_data"
    },
    {
     "data": {
      "text/markdown": [
       "<span style='color:red'>100\t\t| seed 4 | id AWh2-H9qMEaT9KPSPcb2</span>"
      ],
      "text/plain": [
       "<IPython.core.display.Markdown object>"
      ]
     },
     "metadata": {},
     "output_type": "display_data"
    },
    {
     "data": {
      "text/markdown": [
       "<span style='color:red'>100\t\t| seed 5 | id AWh2-KaxMEaT9KPSPcgI</span>"
      ],
      "text/plain": [
       "<IPython.core.display.Markdown object>"
      ]
     },
     "metadata": {},
     "output_type": "display_data"
    },
    {
     "data": {
      "text/markdown": [
       "<span style='color:red'>100\t\t| seed 6 | id AWh2-M3DMEaT9KPSPciS</span>"
      ],
      "text/plain": [
       "<IPython.core.display.Markdown object>"
      ]
     },
     "metadata": {},
     "output_type": "display_data"
    },
    {
     "data": {
      "text/markdown": [
       "<span style='color:red'>100\t\t| seed 7 | id AWh2-PTpMEaT9KPSPckc</span>"
      ],
      "text/plain": [
       "<IPython.core.display.Markdown object>"
      ]
     },
     "metadata": {},
     "output_type": "display_data"
    },
    {
     "data": {
      "text/markdown": [
       "<span style='color:red'>100\t\t| seed 8 | id AWh2-RweMEaT9KPSPcmm</span>"
      ],
      "text/plain": [
       "<IPython.core.display.Markdown object>"
      ]
     },
     "metadata": {},
     "output_type": "display_data"
    },
    {
     "data": {
      "text/markdown": [
       "<span style='color:red'>100\t\t| seed 9 | id AWh2-UNSMEaT9KPSPcow</span>"
      ],
      "text/plain": [
       "<IPython.core.display.Markdown object>"
      ]
     },
     "metadata": {},
     "output_type": "display_data"
    },
    {
     "data": {
      "text/markdown": [
       "<span style='color:red'>100\t\t| seed 10 | id AWh2-WpeMEaT9KPSPcq6</span>"
      ],
      "text/plain": [
       "<IPython.core.display.Markdown object>"
      ]
     },
     "metadata": {},
     "output_type": "display_data"
    },
    {
     "data": {
      "text/markdown": [
       "<span style='color:red'>100\t\t| seed 11 | id AWh2-ZF-MEaT9KPSPctE</span>"
      ],
      "text/plain": [
       "<IPython.core.display.Markdown object>"
      ]
     },
     "metadata": {},
     "output_type": "display_data"
    },
    {
     "data": {
      "text/markdown": [
       "<span style='color:red'>100\t\t| seed 12 | id AWh2-bi0MEaT9KPSPcvO</span>"
      ],
      "text/plain": [
       "<IPython.core.display.Markdown object>"
      ]
     },
     "metadata": {},
     "output_type": "display_data"
    },
    {
     "data": {
      "text/markdown": [
       "<span style='color:red'>100\t\t| seed 13 | id AWh2-d-gMEaT9KPSPcxY</span>"
      ],
      "text/plain": [
       "<IPython.core.display.Markdown object>"
      ]
     },
     "metadata": {},
     "output_type": "display_data"
    },
    {
     "data": {
      "text/markdown": [
       "<span style='color:red'>100\t\t| seed 14 | id AWh2-gb-MEaT9KPSPczi</span>"
      ],
      "text/plain": [
       "<IPython.core.display.Markdown object>"
      ]
     },
     "metadata": {},
     "output_type": "display_data"
    },
    {
     "data": {
      "text/markdown": [
       "<span style='color:red'>100\t\t| seed 15 | id AWh2-i4kMEaT9KPSPc1t</span>"
      ],
      "text/plain": [
       "<IPython.core.display.Markdown object>"
      ]
     },
     "metadata": {},
     "output_type": "display_data"
    },
    {
     "data": {
      "text/markdown": [
       "<span style='color:red'>100\t\t| seed 16 | id AWiF9XyAMEaT9KPSdl4I</span>"
      ],
      "text/plain": [
       "<IPython.core.display.Markdown object>"
      ]
     },
     "metadata": {},
     "output_type": "display_data"
    },
    {
     "data": {
      "text/markdown": [
       "<span style='color:red'>100\t\t| seed 17 | id AWiF9YtAMEaT9KPSdl4L</span>"
      ],
      "text/plain": [
       "<IPython.core.display.Markdown object>"
      ]
     },
     "metadata": {},
     "output_type": "display_data"
    },
    {
     "data": {
      "text/markdown": [
       "<span style='color:red'>100\t\t| seed 18 | id AWiF9cXgMEaT9KPSdl6p</span>"
      ],
      "text/plain": [
       "<IPython.core.display.Markdown object>"
      ]
     },
     "metadata": {},
     "output_type": "display_data"
    },
    {
     "data": {
      "text/markdown": [
       "<span style='color:red'>100\t\t| seed 19 | id AWiF9gBhMEaT9KPSdl_i</span>"
      ],
      "text/plain": [
       "<IPython.core.display.Markdown object>"
      ]
     },
     "metadata": {},
     "output_type": "display_data"
    },
    {
     "data": {
      "text/markdown": [
       "<span style='color:red'>100\t\t| seed 20 | id AWiF9jsOMEaT9KPSdmB_</span>"
      ],
      "text/plain": [
       "<IPython.core.display.Markdown object>"
      ]
     },
     "metadata": {},
     "output_type": "display_data"
    },
    {
     "data": {
      "text/markdown": [
       "<span style='color:red'>100\t\t| seed 21 | id AWiF9nWWMEaT9KPSdmG4</span>"
      ],
      "text/plain": [
       "<IPython.core.display.Markdown object>"
      ]
     },
     "metadata": {},
     "output_type": "display_data"
    },
    {
     "data": {
      "text/markdown": [
       "<span style='color:red'>100\t\t| seed 22 | id AWiF9rA6MEaT9KPSdmJV</span>"
      ],
      "text/plain": [
       "<IPython.core.display.Markdown object>"
      ]
     },
     "metadata": {},
     "output_type": "display_data"
    },
    {
     "data": {
      "text/markdown": [
       "<span style='color:red'>100\t\t| seed 23 | id AWiF9usCMEaT9KPSdmOO</span>"
      ],
      "text/plain": [
       "<IPython.core.display.Markdown object>"
      ]
     },
     "metadata": {},
     "output_type": "display_data"
    },
    {
     "data": {
      "text/markdown": [
       "<span style='color:red'>100\t\t| seed 24 | id AWiF9yWbMEaT9KPSdmQr</span>"
      ],
      "text/plain": [
       "<IPython.core.display.Markdown object>"
      ]
     },
     "metadata": {},
     "output_type": "display_data"
    },
    {
     "data": {
      "text/markdown": [
       "<span style='color:red'>100\t\t| seed 25 | id AWiF92BMMEaT9KPSdmVk</span>"
      ],
      "text/plain": [
       "<IPython.core.display.Markdown object>"
      ]
     },
     "metadata": {},
     "output_type": "display_data"
    },
    {
     "data": {
      "text/markdown": [
       "<span style='color:red'>100\t\t| seed 26 | id AWiF95soMEaT9KPSdmYB</span>"
      ],
      "text/plain": [
       "<IPython.core.display.Markdown object>"
      ]
     },
     "metadata": {},
     "output_type": "display_data"
    },
    {
     "data": {
      "text/markdown": [
       "<span style='color:red'>100\t\t| seed 27 | id AWiF99W0MEaT9KPSdmc6</span>"
      ],
      "text/plain": [
       "<IPython.core.display.Markdown object>"
      ]
     },
     "metadata": {},
     "output_type": "display_data"
    },
    {
     "data": {
      "text/markdown": [
       "<span style='color:red'>100\t\t| seed 28 | id AWiF-BBhMEaT9KPSdmfX</span>"
      ],
      "text/plain": [
       "<IPython.core.display.Markdown object>"
      ]
     },
     "metadata": {},
     "output_type": "display_data"
    },
    {
     "data": {
      "text/markdown": [
       "<span style='color:red'>100\t\t| seed 29 | id AWiF-Er5MEaT9KPSdmkQ</span>"
      ],
      "text/plain": [
       "<IPython.core.display.Markdown object>"
      ]
     },
     "metadata": {},
     "output_type": "display_data"
    },
    {
     "data": {
      "text/markdown": [
       "<span style='color:red'>100\t\t| seed 30 | id AWiF-IXEMEaT9KPSdmmt</span>"
      ],
      "text/plain": [
       "<IPython.core.display.Markdown object>"
      ]
     },
     "metadata": {},
     "output_type": "display_data"
    },
    {
     "data": {
      "text/markdown": [
       "<span style='color:red'>100\t\t| seed 31 | id AWh5Q1sdMEaT9KPSRgTy</span>"
      ],
      "text/plain": [
       "<IPython.core.display.Markdown object>"
      ]
     },
     "metadata": {},
     "output_type": "display_data"
    }
   ],
   "source": [
    "import pprint\n",
    "from IPython.display import Markdown, display\n",
    "\n",
    "def printmd(string, color=None):\n",
    "    colorstr = \"<span style='color:{}'>{}</span>\".format(color, string)\n",
    "    display(Markdown(colorstr))\n",
    "    \n",
    "pp = pprint.PrettyPrinter(indent=4)\n",
    "\n",
    "def check_data(rtx_runs, data):\n",
    "    # sort according to seed \n",
    "    rtx_runs.sort(key=lambda d : d[\"seed\"])\n",
    "    opt_method = \"N/A\"\n",
    "    if len(rtx_runs) > 0:\n",
    "        try:\n",
    "            opt_method = rtx_runs[0][\"strategy\"][\"optimizer_method\"]\n",
    "        except:\n",
    "            # mlr does not store the opt method name in field strategy.optimizer_method\n",
    "            opt_method = \"BOGP\"\n",
    "    print \"There were \" + str(len(rtx_runs)) + \" runs performed by \" + opt_method\n",
    "\n",
    "    for rtx_run in rtx_runs:\n",
    "        data_for_run = [d for d in data if d[\"parent\"] == rtx_run[\"id\"]]\n",
    "        data_for_run.sort(key=lambda d : (d[\"_source\"][\"iteration\"], d[\"_source\"][\"individual\"]))\n",
    "        printmd(str(len(data_for_run)) + \"\\t\\t| seed \" + str(rtx_run[\"seed\"]) \n",
    "                + \" | id \" + str(rtx_run[\"id\"]), \"red\")\n",
    "\n",
    "        #for d in data_for_run:\n",
    "        #    s = d[\"_source\"]\n",
    "        #    overheads = s[\"payload\"][\"overheads\"]\n",
    "        #    routings = s[\"payload\"][\"routings\"]\n",
    "        #    printmd(\"Iteration \" + str(s[\"iteration\"]) + \", individual \" \n",
    "        #            + str(s[\"individual\"]) + \" with configuration\", \"blue\")        \n",
    "        #    pp.pprint(s[\"knobs\"])\n",
    "        #    printmd(\"has \" + str(len(overheads)) + \" overheads and \" \n",
    "        #            + str(len(routings)) + \" routings\", \"green\")\n",
    "\n",
    "\n",
    "\n",
    "# random search\n",
    "check_data(random_rtx_runs_500, random_data_500)\n",
    "check_data(random_rtx_runs_700, random_data_700)\n",
    "check_data(random_rtx_runs_800, random_data_800)\n",
    "\n",
    "# mlr\n",
    "check_data(mlr_rtx_runs_500, mlr_data_500)\n",
    "check_data(mlr_rtx_runs_700, mlr_data_700)\n",
    "check_data(mlr_rtx_runs_800, mlr_data_800)\n",
    "\n",
    "# novelty\n",
    "check_data(novelty_rtx_runs_500, novelty_data_500)\n",
    "check_data(novelty_rtx_runs_700, novelty_data_700)\n",
    "check_data(novelty_rtx_runs_800, novelty_data_800)\n",
    "\n",
    "# nsga2\n",
    "check_data(nsga2_rtx_runs_500, nsga2_data_500)\n",
    "check_data(nsga2_rtx_runs_700, nsga2_data_700)\n",
    "check_data(nsga2_rtx_runs_800, nsga2_data_800)\n"
   ]
  },
  {
   "cell_type": "markdown",
   "metadata": {},
   "source": [
    "## Code for computing the hypervolume"
   ]
  },
  {
   "cell_type": "code",
   "execution_count": 4,
   "metadata": {},
   "outputs": [
    {
     "name": "stdout",
     "output_type": "stream",
     "text": [
      "Hypervolume module loaded.\n"
     ]
    }
   ],
   "source": [
    "#    https://ls11-www.cs.tu-dortmund.de/rudolph/hypervolume/start\n",
    "\n",
    "#    Copyright (C) 2010 Simon Wessing\n",
    "#    TU Dortmund University\n",
    "#\n",
    "#    This program is free software: you can redistribute it and/or modify\n",
    "#    it under the terms of the GNU General Public License as published by\n",
    "#    the Free Software Foundation, either version 3 of the License, or\n",
    "#    (at your option) any later version.\n",
    "#\n",
    "#    This program is distributed in the hope that it will be useful,\n",
    "#    but WITHOUT ANY WARRANTY; without even the implied warranty of\n",
    "#    MERCHANTABILITY or FITNESS FOR A PARTICULAR PURPOSE.  See the\n",
    "#    GNU General Public License for more details.\n",
    "#\n",
    "#    You should have received a copy of the GNU General Public License\n",
    "#    along with this program.  If not, see <http://www.gnu.org/licenses/>.\n",
    "\n",
    "\n",
    "__author__ = \"Simon Wessing\"\n",
    "\n",
    "\n",
    "class HyperVolume:\n",
    "    \"\"\"\n",
    "    Hypervolume computation based on variant 3 of the algorithm in the paper:\n",
    "    C. M. Fonseca, L. Paquete, and M. Lopez-Ibanez. An improved dimension-sweep\n",
    "    algorithm for the hypervolume indicator. In IEEE Congress on Evolutionary\n",
    "    Computation, pages 1157-1163, Vancouver, Canada, July 2006.\n",
    "\n",
    "    Minimization is implicitly assumed here!\n",
    "\n",
    "    \"\"\"\n",
    "\n",
    "    def __init__(self, referencePoint):\n",
    "        \"\"\"Constructor.\"\"\"\n",
    "        self.referencePoint = referencePoint\n",
    "        self.list = []\n",
    "\n",
    "\n",
    "    def compute(self, front):\n",
    "        \"\"\"Returns the hypervolume that is dominated by a non-dominated front.\n",
    "\n",
    "        Before the HV computation, front and reference point are translated, so\n",
    "        that the reference point is [0, ..., 0].\n",
    "\n",
    "        \"\"\"\n",
    "\n",
    "        def weaklyDominates(point, other):\n",
    "            for i in xrange(len(point)):\n",
    "                if point[i] > other[i]:\n",
    "                    return False\n",
    "            return True\n",
    "\n",
    "        relevantPoints = []\n",
    "        referencePoint = self.referencePoint\n",
    "        dimensions = len(referencePoint)\n",
    "        for point in front:\n",
    "            # only consider points that dominate the reference point\n",
    "            if weaklyDominates(point, referencePoint):\n",
    "                relevantPoints.append(point)\n",
    "        if any(referencePoint):\n",
    "            # shift points so that referencePoint == [0, ..., 0]\n",
    "            # this way the reference point doesn't have to be explicitly used\n",
    "            # in the HV computation\n",
    "            for j in xrange(len(relevantPoints)):\n",
    "                relevantPoints[j] = [relevantPoints[j][i] - referencePoint[i] for i in xrange(dimensions)]\n",
    "        self.preProcess(relevantPoints)\n",
    "        bounds = [-1.0e308] * dimensions\n",
    "        hyperVolume = self.hvRecursive(dimensions - 1, len(relevantPoints), bounds)\n",
    "        return hyperVolume\n",
    "\n",
    "\n",
    "    def hvRecursive(self, dimIndex, length, bounds):\n",
    "        \"\"\"Recursive call to hypervolume calculation.\n",
    "\n",
    "        In contrast to the paper, the code assumes that the reference point\n",
    "        is [0, ..., 0]. This allows the avoidance of a few operations.\n",
    "\n",
    "        \"\"\"\n",
    "        hvol = 0.0\n",
    "        sentinel = self.list.sentinel\n",
    "        if length == 0:\n",
    "            return hvol\n",
    "        elif dimIndex == 0:\n",
    "            # special case: only one dimension\n",
    "            # why using hypervolume at all?\n",
    "            return -sentinel.next[0].cargo[0]\n",
    "        elif dimIndex == 1:\n",
    "            # special case: two dimensions, end recursion\n",
    "            q = sentinel.next[1]\n",
    "            h = q.cargo[0]\n",
    "            p = q.next[1]\n",
    "            while p is not sentinel:\n",
    "                pCargo = p.cargo\n",
    "                hvol += h * (q.cargo[1] - pCargo[1])\n",
    "                if pCargo[0] < h:\n",
    "                    h = pCargo[0]\n",
    "                q = p\n",
    "                p = q.next[1]\n",
    "            hvol += h * q.cargo[1]\n",
    "            return hvol\n",
    "        else:\n",
    "            remove = self.list.remove\n",
    "            reinsert = self.list.reinsert\n",
    "            hvRecursive = self.hvRecursive\n",
    "            p = sentinel\n",
    "            q = p.prev[dimIndex]\n",
    "            while q.cargo != None:\n",
    "                if q.ignore < dimIndex:\n",
    "                    q.ignore = 0\n",
    "                q = q.prev[dimIndex]\n",
    "            q = p.prev[dimIndex]\n",
    "            while length > 1 and (q.cargo[dimIndex] > bounds[dimIndex] or q.prev[dimIndex].cargo[dimIndex] >= bounds[dimIndex]):\n",
    "                p = q\n",
    "                remove(p, dimIndex, bounds)\n",
    "                q = p.prev[dimIndex]\n",
    "                length -= 1\n",
    "            qArea = q.area\n",
    "            qCargo = q.cargo\n",
    "            qPrevDimIndex = q.prev[dimIndex]\n",
    "            if length > 1:\n",
    "                hvol = qPrevDimIndex.volume[dimIndex] + qPrevDimIndex.area[dimIndex] * (qCargo[dimIndex] - qPrevDimIndex.cargo[dimIndex])\n",
    "            else:\n",
    "                qArea[0] = 1\n",
    "                qArea[1:dimIndex+1] = [qArea[i] * -qCargo[i] for i in xrange(dimIndex)]\n",
    "            q.volume[dimIndex] = hvol\n",
    "            if q.ignore >= dimIndex:\n",
    "                qArea[dimIndex] = qPrevDimIndex.area[dimIndex]\n",
    "            else:\n",
    "                qArea[dimIndex] = hvRecursive(dimIndex - 1, length, bounds)\n",
    "                if qArea[dimIndex] <= qPrevDimIndex.area[dimIndex]:\n",
    "                    q.ignore = dimIndex\n",
    "            while p is not sentinel:\n",
    "                pCargoDimIndex = p.cargo[dimIndex]\n",
    "                hvol += q.area[dimIndex] * (pCargoDimIndex - q.cargo[dimIndex])\n",
    "                bounds[dimIndex] = pCargoDimIndex\n",
    "                reinsert(p, dimIndex, bounds)\n",
    "                length += 1\n",
    "                q = p\n",
    "                p = p.next[dimIndex]\n",
    "                q.volume[dimIndex] = hvol\n",
    "                if q.ignore >= dimIndex:\n",
    "                    q.area[dimIndex] = q.prev[dimIndex].area[dimIndex]\n",
    "                else:\n",
    "                    q.area[dimIndex] = hvRecursive(dimIndex - 1, length, bounds)\n",
    "                    if q.area[dimIndex] <= q.prev[dimIndex].area[dimIndex]:\n",
    "                        q.ignore = dimIndex\n",
    "            hvol -= q.area[dimIndex] * q.cargo[dimIndex]\n",
    "            return hvol\n",
    "\n",
    "\n",
    "    def preProcess(self, front):\n",
    "        \"\"\"Sets up the list data structure needed for calculation.\"\"\"\n",
    "        dimensions = len(self.referencePoint)\n",
    "        nodeList = MultiList(dimensions)\n",
    "        nodes = [MultiList.Node(dimensions, point) for point in front]\n",
    "        for i in xrange(dimensions):\n",
    "            self.sortByDimension(nodes, i)\n",
    "            nodeList.extend(nodes, i)\n",
    "        self.list = nodeList\n",
    "\n",
    "\n",
    "    def sortByDimension(self, nodes, i):\n",
    "        \"\"\"Sorts the list of nodes by the i-th value of the contained points.\"\"\"\n",
    "        # build a list of tuples of (point[i], node)\n",
    "        decorated = [(node.cargo[i], node) for node in nodes]\n",
    "        # sort by this value\n",
    "        decorated.sort()\n",
    "        # write back to original list\n",
    "        nodes[:] = [node for (_, node) in decorated]\n",
    "            \n",
    "            \n",
    "            \n",
    "class MultiList: \n",
    "    \"\"\"A special data structure needed by FonsecaHyperVolume. \n",
    "    \n",
    "    It consists of several doubly linked lists that share common nodes. So, \n",
    "    every node has multiple predecessors and successors, one in every list.\n",
    "\n",
    "    \"\"\"\n",
    "\n",
    "    class Node: \n",
    "        \n",
    "        def __init__(self, numberLists, cargo=None): \n",
    "            self.cargo = cargo \n",
    "            self.next  = [None] * numberLists\n",
    "            self.prev = [None] * numberLists\n",
    "            self.ignore = 0\n",
    "            self.area = [0.0] * numberLists\n",
    "            self.volume = [0.0] * numberLists\n",
    "    \n",
    "        def __str__(self): \n",
    "            return str(self.cargo)\n",
    "        \n",
    "        \n",
    "    def __init__(self, numberLists):  \n",
    "        \"\"\"Constructor. \n",
    "        \n",
    "        Builds 'numberLists' doubly linked lists.\n",
    "\n",
    "        \"\"\"\n",
    "        self.numberLists = numberLists\n",
    "        self.sentinel = MultiList.Node(numberLists)\n",
    "        self.sentinel.next = [self.sentinel] * numberLists\n",
    "        self.sentinel.prev = [self.sentinel] * numberLists  \n",
    "        \n",
    "        \n",
    "    def __str__(self):\n",
    "        strings = []\n",
    "        for i in xrange(self.numberLists):\n",
    "            currentList = []\n",
    "            node = self.sentinel.next[i]\n",
    "            while node != self.sentinel:\n",
    "                currentList.append(str(node))\n",
    "                node = node.next[i]\n",
    "            strings.append(str(currentList))\n",
    "        stringRepr = \"\"\n",
    "        for string in strings:\n",
    "            stringRepr += string + \"\\n\"\n",
    "        return stringRepr\n",
    "    \n",
    "    \n",
    "    def __len__(self):\n",
    "        \"\"\"Returns the number of lists that are included in this MultiList.\"\"\"\n",
    "        return self.numberLists\n",
    "    \n",
    "    \n",
    "    def getLength(self, i):\n",
    "        \"\"\"Returns the length of the i-th list.\"\"\"\n",
    "        length = 0\n",
    "        sentinel = self.sentinel\n",
    "        node = sentinel.next[i]\n",
    "        while node != sentinel:\n",
    "            length += 1\n",
    "            node = node.next[i]\n",
    "        return length\n",
    "            \n",
    "            \n",
    "    def append(self, node, index):\n",
    "        \"\"\"Appends a node to the end of the list at the given index.\"\"\"\n",
    "        lastButOne = self.sentinel.prev[index]\n",
    "        node.next[index] = self.sentinel\n",
    "        node.prev[index] = lastButOne\n",
    "        # set the last element as the new one\n",
    "        self.sentinel.prev[index] = node\n",
    "        lastButOne.next[index] = node\n",
    "        \n",
    "        \n",
    "    def extend(self, nodes, index):\n",
    "        \"\"\"Extends the list at the given index with the nodes.\"\"\"\n",
    "        sentinel = self.sentinel\n",
    "        for node in nodes:\n",
    "            lastButOne = sentinel.prev[index]\n",
    "            node.next[index] = sentinel\n",
    "            node.prev[index] = lastButOne\n",
    "            # set the last element as the new one\n",
    "            sentinel.prev[index] = node\n",
    "            lastButOne.next[index] = node\n",
    "        \n",
    "        \n",
    "    def remove(self, node, index, bounds): \n",
    "        \"\"\"Removes and returns 'node' from all lists in [0, 'index'[.\"\"\"\n",
    "        for i in xrange(index): \n",
    "            predecessor = node.prev[i]\n",
    "            successor = node.next[i]\n",
    "            predecessor.next[i] = successor\n",
    "            successor.prev[i] = predecessor  \n",
    "            if bounds[i] > node.cargo[i]:\n",
    "                bounds[i] = node.cargo[i]\n",
    "        return node\n",
    "    \n",
    "    \n",
    "    def reinsert(self, node, index, bounds):\n",
    "        \"\"\"\n",
    "        Inserts 'node' at the position it had in all lists in [0, 'index'[\n",
    "        before it was removed. This method assumes that the next and previous \n",
    "        nodes of the node that is reinserted are in the list.\n",
    "\n",
    "        \"\"\"\n",
    "        for i in xrange(index): \n",
    "            node.prev[i].next[i] = node\n",
    "            node.next[i].prev[i] = node\n",
    "            if bounds[i] > node.cargo[i]:\n",
    "                bounds[i] = node.cargo[i]         \n",
    "     \n",
    "    \n",
    "\n",
    "print(\"Hypervolume module loaded.\")"
   ]
  },
  {
   "cell_type": "markdown",
   "metadata": {},
   "source": [
    "## Compute fitness and store it"
   ]
  },
  {
   "cell_type": "code",
   "execution_count": 5,
   "metadata": {
    "scrolled": true
   },
   "outputs": [
    {
     "name": "stdout",
     "output_type": "stream",
     "text": [
      "Run: AWiALsKlMEaT9KPSX8Ly | RandomSearch | seed: 1 | number of docs/evals: 100 | iterations to process: 10\n",
      "Run: AWiALuGSMEaT9KPSX8OH | RandomSearch | seed: 3 | number of docs/evals: 100 | iterations to process: 10\n",
      "Run: AWiALwiZMEaT9KPSX8Qc | RandomSearch | seed: 4 | number of docs/evals: 100 | iterations to process: 10\n",
      "Run: AWiALy-aMEaT9KPSX8Sx | RandomSearch | seed: 5 | number of docs/evals: 100 | iterations to process: 10\n",
      "Run: AWiAL1afMEaT9KPSX8VG | RandomSearch | seed: 6 | number of docs/evals: 100 | iterations to process: 10\n",
      "Run: AWiAL33FMEaT9KPSX8Xb | RandomSearch | seed: 7 | number of docs/evals: 100 | iterations to process: 10\n",
      "Run: AWiAL6TrMEaT9KPSX8Zw | RandomSearch | seed: 8 | number of docs/evals: 100 | iterations to process: 10\n",
      "Run: AWiAL8vtMEaT9KPSX8cF | RandomSearch | seed: 9 | number of docs/evals: 100 | iterations to process: 10\n",
      "Run: AWiAL_MSMEaT9KPSX8ea | RandomSearch | seed: 10 | number of docs/evals: 100 | iterations to process: 10\n",
      "Run: AWiAMBpmMEaT9KPSX8gv | RandomSearch | seed: 11 | number of docs/evals: 100 | iterations to process: 10\n",
      "Run: AWiAMEFWMEaT9KPSX8jE | RandomSearch | seed: 12 | number of docs/evals: 100 | iterations to process: 10\n",
      "Run: AWiAMGipMEaT9KPSX8lZ | RandomSearch | seed: 13 | number of docs/evals: 100 | iterations to process: 10\n",
      "Run: AWiAMI-zMEaT9KPSX8nw | RandomSearch | seed: 14 | number of docs/evals: 100 | iterations to process: 10\n",
      "Run: AWiAMLbQMEaT9KPSX8qG | RandomSearch | seed: 15 | number of docs/evals: 100 | iterations to process: 10\n",
      "Run: AWiAMHVZMEaT9KPSX8la | RandomSearch | seed: 16 | number of docs/evals: 100 | iterations to process: 10\n",
      "Run: AWiAMHVjMEaT9KPSX8lb | RandomSearch | seed: 17 | number of docs/evals: 100 | iterations to process: 10\n",
      "Run: AWiAMJmfMEaT9KPSX8nx | RandomSearch | seed: 18 | number of docs/evals: 100 | iterations to process: 10\n",
      "Run: AWiAMMEFMEaT9KPSX8qH | RandomSearch | seed: 19 | number of docs/evals: 100 | iterations to process: 10\n",
      "Run: AWiAMOfyMEaT9KPSX8sc | RandomSearch | seed: 20 | number of docs/evals: 100 | iterations to process: 10\n",
      "Run: AWiAMQ8DMEaT9KPSX8ux | RandomSearch | seed: 21 | number of docs/evals: 100 | iterations to process: 10\n",
      "Run: AWiAMTYQMEaT9KPSX8xG | RandomSearch | seed: 22 | number of docs/evals: 100 | iterations to process: 10\n",
      "Run: AWiAMV1HMEaT9KPSX8zb | RandomSearch | seed: 23 | number of docs/evals: 100 | iterations to process: 10\n",
      "Run: AWiAMYR_MEaT9KPSX81w | RandomSearch | seed: 24 | number of docs/evals: 100 | iterations to process: 10\n",
      "Run: AWiAMau7MEaT9KPSX84F | RandomSearch | seed: 25 | number of docs/evals: 100 | iterations to process: 10\n",
      "Run: AWiAMdLIMEaT9KPSX86a | RandomSearch | seed: 26 | number of docs/evals: 100 | iterations to process: 10\n",
      "Run: AWiAMfm3MEaT9KPSX88v | RandomSearch | seed: 27 | number of docs/evals: 100 | iterations to process: 10\n",
      "Run: AWiAMiFLMEaT9KPSX8_F | RandomSearch | seed: 28 | number of docs/evals: 100 | iterations to process: 10\n",
      "Run: AWiAMkgJMEaT9KPSX9Bc | RandomSearch | seed: 29 | number of docs/evals: 100 | iterations to process: 10\n",
      "Run: AWiAMm9HMEaT9KPSX9Dz | RandomSearch | seed: 30 | number of docs/evals: 100 | iterations to process: 10\n",
      "Run: AWiDJnJcMEaT9KPSazVs | RandomSearch | seed: 31 | number of docs/evals: 100 | iterations to process: 10\n",
      "Min | Average | Max number of reused evaluations per run: 0 | 0.0 | 0 | \n",
      "==========================================================\n",
      "Run: AWh7MU1VMEaT9KPSTQjJ | RandomSearch | seed: 1 | number of docs/evals: 100 | iterations to process: 10\n",
      "Run: AWh7MWUoMEaT9KPSTQjL | RandomSearch | seed: 3 | number of docs/evals: 100 | iterations to process: 10\n",
      "Run: AWh7MYxgMEaT9KPSTQlc | RandomSearch | seed: 4 | number of docs/evals: 100 | iterations to process: 10\n",
      "Run: AWh7MbONMEaT9KPSTQnt | RandomSearch | seed: 5 | number of docs/evals: 100 | iterations to process: 10\n",
      "Run: AWh7MdqyMEaT9KPSTQp_ | RandomSearch | seed: 6 | number of docs/evals: 100 | iterations to process: 10\n",
      "Run: AWh7MgGZMEaT9KPSTQsQ | RandomSearch | seed: 7 | number of docs/evals: 100 | iterations to process: 10\n",
      "Run: AWh7Mij5MEaT9KPSTQuh | RandomSearch | seed: 8 | number of docs/evals: 100 | iterations to process: 10\n",
      "Run: AWh7MlAAMEaT9KPSTQwy | RandomSearch | seed: 9 | number of docs/evals: 100 | iterations to process: 10\n",
      "Run: AWh7MndPMEaT9KPSTQzD | RandomSearch | seed: 10 | number of docs/evals: 100 | iterations to process: 10\n",
      "Run: AWh7Mp5dMEaT9KPSTQ1U | RandomSearch | seed: 11 | number of docs/evals: 100 | iterations to process: 10\n",
      "Run: AWh7MsWnMEaT9KPSTQ3l | RandomSearch | seed: 12 | number of docs/evals: 100 | iterations to process: 10\n",
      "Run: AWh7Muy8MEaT9KPSTQ52 | RandomSearch | seed: 13 | number of docs/evals: 100 | iterations to process: 10\n",
      "Run: AWh7MxPzMEaT9KPSTQ8H | RandomSearch | seed: 14 | number of docs/evals: 100 | iterations to process: 10\n",
      "Run: AWh7MzsSMEaT9KPSTQ-Y | RandomSearch | seed: 15 | number of docs/evals: 100 | iterations to process: 10\n",
      "Run: AWiI4Ss8MEaT9KPSgbiv | RandomSearch | seed: 16 | number of docs/evals: 100 | iterations to process: 10\n",
      "Run: AWiI4TuwMEaT9KPSgblP | RandomSearch | seed: 17 | number of docs/evals: 100 | iterations to process: 10\n",
      "Run: AWiI4XZLMEaT9KPSgbnx | RandomSearch | seed: 18 | number of docs/evals: 100 | iterations to process: 10\n",
      "Run: AWiI4bDfMEaT9KPSgbsx | RandomSearch | seed: 19 | number of docs/evals: 100 | iterations to process: 10\n",
      "Run: AWiI4euVMEaT9KPSgbvT | RandomSearch | seed: 20 | number of docs/evals: 100 | iterations to process: 10\n",
      "Run: AWiI4iX-MEaT9KPSgb0T | RandomSearch | seed: 21 | number of docs/evals: 100 | iterations to process: 10\n",
      "Run: AWiI4mDRMEaT9KPSgb21 | RandomSearch | seed: 22 | number of docs/evals: 100 | iterations to process: 10\n",
      "Run: AWiI4pukMEaT9KPSgb71 | RandomSearch | seed: 23 | number of docs/evals: 100 | iterations to process: 10\n",
      "Run: AWiI4taLMEaT9KPSgb-X | RandomSearch | seed: 24 | number of docs/evals: 100 | iterations to process: 10\n",
      "Run: AWiI4xFTMEaT9KPSgcDX | RandomSearch | seed: 25 | number of docs/evals: 100 | iterations to process: 10\n",
      "Run: AWiI40uvMEaT9KPSgcF5 | RandomSearch | seed: 26 | number of docs/evals: 100 | iterations to process: 10\n",
      "Run: AWiI44ZfMEaT9KPSgcK5 | RandomSearch | seed: 27 | number of docs/evals: 100 | iterations to process: 10\n",
      "Run: AWiI48ESMEaT9KPSgcNb | RandomSearch | seed: 28 | number of docs/evals: 100 | iterations to process: 10\n",
      "Run: AWiI4_ulMEaT9KPSgcSb | RandomSearch | seed: 29 | number of docs/evals: 100 | iterations to process: 10\n",
      "Run: AWiI5DauMEaT9KPSgcU9 | RandomSearch | seed: 30 | number of docs/evals: 100 | iterations to process: 10\n",
      "Run: AWh9fwGqMEaT9KPSVabD | RandomSearch | seed: 31 | number of docs/evals: 100 | iterations to process: 10\n",
      "Min | Average | Max number of reused evaluations per run: 0 | 0.0 | 0 | \n",
      "==========================================================\n",
      "Run: AWh3AeIhMEaT9KPSPehe | RandomSearch | seed: 1 | number of docs/evals: 100 | iterations to process: 10\n",
      "Run: AWh3Af6qMEaT9KPSPejq | RandomSearch | seed: 3 | number of docs/evals: 100 | iterations to process: 10\n",
      "Run: AWh3AiYCMEaT9KPSPel2 | RandomSearch | seed: 4 | number of docs/evals: 100 | iterations to process: 10\n",
      "Run: AWh3Aky0MEaT9KPSPeoC | RandomSearch | seed: 5 | number of docs/evals: 100 | iterations to process: 10\n",
      "Run: AWh3AnQOMEaT9KPSPeqO | RandomSearch | seed: 6 | number of docs/evals: 100 | iterations to process: 10\n",
      "Run: AWh3AptCMEaT9KPSPesa | RandomSearch | seed: 7 | number of docs/evals: 100 | iterations to process: 10\n",
      "Run: AWh3AsKaMEaT9KPSPeum | RandomSearch | seed: 8 | number of docs/evals: 100 | iterations to process: 10\n",
      "Run: AWh3AumcMEaT9KPSPewy | RandomSearch | seed: 9 | number of docs/evals: 100 | iterations to process: 10\n",
      "Run: AWh3AxC0MEaT9KPSPey- | RandomSearch | seed: 10 | number of docs/evals: 100 | iterations to process: 10\n",
      "Run: AWh3Aze_MEaT9KPSPe1K | RandomSearch | seed: 11 | number of docs/evals: 100 | iterations to process: 10\n",
      "Run: AWh3A173MEaT9KPSPe3W | RandomSearch | seed: 12 | number of docs/evals: 100 | iterations to process: 10\n",
      "Run: AWh3A4Y4MEaT9KPSPe5i | RandomSearch | seed: 13 | number of docs/evals: 100 | iterations to process: 10\n",
      "Run: AWh3A61PMEaT9KPSPe7u | RandomSearch | seed: 14 | number of docs/evals: 100 | iterations to process: 10\n",
      "Run: AWh3A9RuMEaT9KPSPe96 | RandomSearch | seed: 15 | number of docs/evals: 100 | iterations to process: 10\n"
     ]
    },
    {
     "name": "stdout",
     "output_type": "stream",
     "text": [
      "Run: AWiI51sFMEaT9KPSgdJd | RandomSearch | seed: 16 | number of docs/evals: 100 | iterations to process: 10\n",
      "Run: AWiI52euMEaT9KPSgdJf | RandomSearch | seed: 17 | number of docs/evals: 100 | iterations to process: 10\n",
      "Run: AWiI56JuMEaT9KPSgdOf | RandomSearch | seed: 18 | number of docs/evals: 100 | iterations to process: 10\n",
      "Run: AWiI590bMEaT9KPSgdRB | RandomSearch | seed: 19 | number of docs/evals: 100 | iterations to process: 10\n",
      "Run: AWiI6BeyMEaT9KPSgdWB | RandomSearch | seed: 20 | number of docs/evals: 100 | iterations to process: 10\n",
      "Run: AWiI6FJpMEaT9KPSgdYj | RandomSearch | seed: 21 | number of docs/evals: 100 | iterations to process: 10\n",
      "Run: AWiI6IzdMEaT9KPSgddj | RandomSearch | seed: 22 | number of docs/evals: 100 | iterations to process: 10\n",
      "Run: AWiI6MeRMEaT9KPSgdgF | RandomSearch | seed: 23 | number of docs/evals: 100 | iterations to process: 10\n",
      "Run: AWiI6QI7MEaT9KPSgdlF | RandomSearch | seed: 24 | number of docs/evals: 100 | iterations to process: 10\n",
      "Run: AWiI6T0bMEaT9KPSgdnn | RandomSearch | seed: 25 | number of docs/evals: 100 | iterations to process: 10\n",
      "Run: AWiI6XfLMEaT9KPSgdsn | RandomSearch | seed: 26 | number of docs/evals: 100 | iterations to process: 10\n",
      "Run: AWiI6bJkMEaT9KPSgdvJ | RandomSearch | seed: 27 | number of docs/evals: 100 | iterations to process: 10\n",
      "Run: AWiI6ez4MEaT9KPSgd0J | RandomSearch | seed: 28 | number of docs/evals: 100 | iterations to process: 10\n",
      "Run: AWiI6ieaMEaT9KPSgd2r | RandomSearch | seed: 29 | number of docs/evals: 100 | iterations to process: 10\n",
      "Run: AWiI6mJZMEaT9KPSgd7r | RandomSearch | seed: 30 | number of docs/evals: 100 | iterations to process: 10\n",
      "Run: AWiI6pzpMEaT9KPSgd-N | RandomSearch | seed: 31 | number of docs/evals: 100 | iterations to process: 10\n",
      "Min | Average | Max number of reused evaluations per run: 0 | 0.0 | 0 | \n",
      "==========================================================\n",
      "Run: AWiDT-QTMEaT9KPSa9h2 | BOGP | seed: 1 | number of docs/evals: 100 | iterations to process: 100\n",
      "Run: AWiDUAqgMEaT9KPSa9kS | BOGP | seed: 2 | number of docs/evals: 100 | iterations to process: 100\n",
      "Run: AWiDUDHKMEaT9KPSa9mu | BOGP | seed: 3 | number of docs/evals: 100 | iterations to process: 100\n",
      "Run: AWiDUFjeMEaT9KPSa9pK | BOGP | seed: 4 | number of docs/evals: 100 | iterations to process: 100\n",
      "Run: AWiDUH_EMEaT9KPSa9rm | BOGP | seed: 5 | number of docs/evals: 100 | iterations to process: 100\n",
      "Run: AWiDUKb4MEaT9KPSa9uC | BOGP | seed: 6 | number of docs/evals: 100 | iterations to process: 100\n",
      "Run: AWiDUM5BMEaT9KPSa9we | BOGP | seed: 7 | number of docs/evals: 100 | iterations to process: 100\n",
      "Run: AWiDUPWDMEaT9KPSa9y6 | BOGP | seed: 8 | number of docs/evals: 100 | iterations to process: 100\n",
      "Run: AWiDURyPMEaT9KPSa91W | BOGP | seed: 9 | number of docs/evals: 100 | iterations to process: 100\n",
      "Run: AWiDUUODMEaT9KPSa93y | BOGP | seed: 10 | number of docs/evals: 100 | iterations to process: 100\n",
      "Run: AWiDUWq6MEaT9KPSa96O | BOGP | seed: 11 | number of docs/evals: 100 | iterations to process: 100\n",
      "Run: AWiDUZHZMEaT9KPSa98q | BOGP | seed: 12 | number of docs/evals: 100 | iterations to process: 100\n",
      "Run: AWiDUbkxMEaT9KPSa9_G | BOGP | seed: 13 | number of docs/evals: 100 | iterations to process: 100\n",
      "Run: AWiDUeA0MEaT9KPSa-Bi | BOGP | seed: 14 | number of docs/evals: 100 | iterations to process: 100\n",
      "Run: AWiDUgd0MEaT9KPSa-D- | BOGP | seed: 15 | number of docs/evals: 100 | iterations to process: 100\n",
      "Run: AWiDcR4BMEaT9KPSbFyF | BOGP | seed: 16 | number of docs/evals: 100 | iterations to process: 100\n",
      "Run: AWiDcSVdMEaT9KPSbFyG | BOGP | seed: 17 | number of docs/evals: 100 | iterations to process: 100\n",
      "Run: AWiDcWAbMEaT9KPSbF29 | BOGP | seed: 18 | number of docs/evals: 100 | iterations to process: 100\n",
      "Run: AWiDcZqmMEaT9KPSbF5Z | BOGP | seed: 19 | number of docs/evals: 100 | iterations to process: 100\n",
      "Run: AWiDcdVbMEaT9KPSbF-Q | BOGP | seed: 20 | number of docs/evals: 100 | iterations to process: 100\n",
      "Run: AWiDchAHMEaT9KPSbGAs | BOGP | seed: 21 | number of docs/evals: 100 | iterations to process: 100\n",
      "Run: AWiDckqBMEaT9KPSbGFj | BOGP | seed: 22 | number of docs/evals: 100 | iterations to process: 100\n",
      "Run: AWiDcoVaMEaT9KPSbGH_ | BOGP | seed: 23 | number of docs/evals: 100 | iterations to process: 100\n",
      "Run: AWiDcsAQMEaT9KPSbGM2 | BOGP | seed: 24 | number of docs/evals: 100 | iterations to process: 100\n",
      "Run: AWiDcvq_MEaT9KPSbGPS | BOGP | seed: 25 | number of docs/evals: 100 | iterations to process: 100\n",
      "Run: AWiDczWHMEaT9KPSbGUJ | BOGP | seed: 26 | number of docs/evals: 100 | iterations to process: 100\n",
      "Run: AWiDc3AAMEaT9KPSbGWl | BOGP | seed: 27 | number of docs/evals: 100 | iterations to process: 100\n",
      "Run: AWiDc6qsMEaT9KPSbGbc | BOGP | seed: 28 | number of docs/evals: 100 | iterations to process: 100\n",
      "Run: AWiDc-WOMEaT9KPSbGd4 | BOGP | seed: 29 | number of docs/evals: 100 | iterations to process: 100\n",
      "Run: AWiDdCAUMEaT9KPSbGiv | BOGP | seed: 30 | number of docs/evals: 100 | iterations to process: 100\n",
      "Min | Average | Max number of reused evaluations per run: 0 | 0.0 | 0 | \n",
      "==========================================================\n",
      "Run: AWiGrv0GMEaT9KPSeNh8 | BOGP | seed: 1 | number of docs/evals: 100 | iterations to process: 100\n",
      "Run: AWiGrxCPMEaT9KPSeNkb | BOGP | seed: 2 | number of docs/evals: 100 | iterations to process: 100\n",
      "Run: AWiGryQXMEaT9KPSeNkc | BOGP | seed: 3 | number of docs/evals: 100 | iterations to process: 100\n",
      "Run: AWiGrzfyMEaT9KPSeNm7 | BOGP | seed: 4 | number of docs/evals: 100 | iterations to process: 100\n",
      "Run: AWiGr0tkMEaT9KPSeNm8 | BOGP | seed: 5 | number of docs/evals: 100 | iterations to process: 100\n",
      "Run: AWiGr17oMEaT9KPSeNpb | BOGP | seed: 6 | number of docs/evals: 100 | iterations to process: 100\n",
      "Run: AWiGr3J5MEaT9KPSeNpc | BOGP | seed: 7 | number of docs/evals: 100 | iterations to process: 100\n",
      "Run: AWiGr4YtMEaT9KPSeNr7 | BOGP | seed: 8 | number of docs/evals: 100 | iterations to process: 100\n",
      "Run: AWiGr5nJMEaT9KPSeNr8 | BOGP | seed: 9 | number of docs/evals: 100 | iterations to process: 100\n",
      "Run: AWiGr61LMEaT9KPSeNub | BOGP | seed: 10 | number of docs/evals: 100 | iterations to process: 100\n",
      "Run: AWiGr8FIMEaT9KPSeNuc | BOGP | seed: 11 | number of docs/evals: 100 | iterations to process: 100\n",
      "Run: AWiGr9SuMEaT9KPSeNw7 | BOGP | seed: 12 | number of docs/evals: 100 | iterations to process: 100\n",
      "Run: AWiGr-giMEaT9KPSeNw8 | BOGP | seed: 13 | number of docs/evals: 100 | iterations to process: 100\n",
      "Run: AWiGr_vzMEaT9KPSeNzb | BOGP | seed: 14 | number of docs/evals: 100 | iterations to process: 100\n",
      "Run: AWiGsA9uMEaT9KPSeNzc | BOGP | seed: 15 | number of docs/evals: 100 | iterations to process: 100\n",
      "Run: AWiPwLKRMEaT9KPSnnRq | BOGP | seed: 16 | number of docs/evals: 100 | iterations to process: 100\n",
      "Run: AWiPwL7nMEaT9KPSnnRr | BOGP | seed: 17 | number of docs/evals: 100 | iterations to process: 100\n",
      "Run: AWiPwPmjMEaT9KPSnnXC | BOGP | seed: 18 | number of docs/evals: 100 | iterations to process: 100\n",
      "Run: AWiPwTQQMEaT9KPSnnZu | BOGP | seed: 19 | number of docs/evals: 100 | iterations to process: 100\n",
      "Run: AWiPwW67MEaT9KPSnnfF | BOGP | seed: 20 | number of docs/evals: 100 | iterations to process: 100\n",
      "Run: AWiPwalpMEaT9KPSnnhx | BOGP | seed: 21 | number of docs/evals: 100 | iterations to process: 100\n",
      "Run: AWiPwePgMEaT9KPSnnnI | BOGP | seed: 22 | number of docs/evals: 100 | iterations to process: 100\n",
      "Run: AWiPwh6eMEaT9KPSnnp0 | BOGP | seed: 23 | number of docs/evals: 100 | iterations to process: 100\n",
      "Run: AWiPwll1MEaT9KPSnnvL | BOGP | seed: 24 | number of docs/evals: 100 | iterations to process: 100\n",
      "Run: AWiPwpQiMEaT9KPSnnx3 | BOGP | seed: 25 | number of docs/evals: 100 | iterations to process: 100\n",
      "Run: AWiPws7FMEaT9KPSnn3O | BOGP | seed: 26 | number of docs/evals: 100 | iterations to process: 100\n",
      "Run: AWiPwwmaMEaT9KPSnn56 | BOGP | seed: 27 | number of docs/evals: 100 | iterations to process: 100\n",
      "Run: AWiPw0QRMEaT9KPSnn_R | BOGP | seed: 28 | number of docs/evals: 100 | iterations to process: 100\n",
      "Run: AWiPw36tMEaT9KPSnoB9 | BOGP | seed: 29 | number of docs/evals: 100 | iterations to process: 100\n",
      "Run: AWiPw7l8MEaT9KPSnoHU | BOGP | seed: 30 | number of docs/evals: 100 | iterations to process: 100\n",
      "Min | Average | Max number of reused evaluations per run: 0 | 0.0 | 0 | \n",
      "==========================================================\n",
      "Run: AWiPw8d-MEaT9KPSnoHV | BOGP | seed: 1 | number of docs/evals: 100 | iterations to process: 100\n"
     ]
    },
    {
     "name": "stdout",
     "output_type": "stream",
     "text": [
      "Run: AWiPw9GsMEaT9KPSnoKC | BOGP | seed: 2 | number of docs/evals: 100 | iterations to process: 100\n",
      "Run: AWiPxAxeMEaT9KPSnoMv | BOGP | seed: 3 | number of docs/evals: 100 | iterations to process: 100\n",
      "Run: AWiPxEcXMEaT9KPSnoSI | BOGP | seed: 4 | number of docs/evals: 100 | iterations to process: 100\n",
      "Run: AWiPxIHJMEaT9KPSnoU1 | BOGP | seed: 5 | number of docs/evals: 100 | iterations to process: 100\n",
      "Run: AWiPxLxZMEaT9KPSnoaO | BOGP | seed: 6 | number of docs/evals: 100 | iterations to process: 100\n",
      "Run: AWiPxPb9MEaT9KPSnoc7 | BOGP | seed: 7 | number of docs/evals: 100 | iterations to process: 100\n",
      "Run: AWiPxTF3MEaT9KPSnoiU | BOGP | seed: 8 | number of docs/evals: 100 | iterations to process: 100\n",
      "Run: AWiPxWxXMEaT9KPSnolB | BOGP | seed: 9 | number of docs/evals: 100 | iterations to process: 100\n",
      "Run: AWiPxacAMEaT9KPSnoqa | BOGP | seed: 10 | number of docs/evals: 100 | iterations to process: 100\n",
      "Run: AWiPxeG7MEaT9KPSnotH | BOGP | seed: 11 | number of docs/evals: 100 | iterations to process: 100\n",
      "Run: AWiPxhxwMEaT9KPSnoyg | BOGP | seed: 12 | number of docs/evals: 100 | iterations to process: 100\n",
      "Run: AWiPxldKMEaT9KPSno1N | BOGP | seed: 13 | number of docs/evals: 100 | iterations to process: 100\n",
      "Run: AWiPxpH2MEaT9KPSno6m | BOGP | seed: 14 | number of docs/evals: 100 | iterations to process: 100\n",
      "Run: AWiPxswvMEaT9KPSno9T | BOGP | seed: 15 | number of docs/evals: 100 | iterations to process: 100\n",
      "Run: AWiPyoAGMEaT9KPSnp90 | BOGP | seed: 16 | number of docs/evals: 100 | iterations to process: 100\n",
      "Run: AWiPypBJMEaT9KPSnqAh | BOGP | seed: 17 | number of docs/evals: 100 | iterations to process: 100\n",
      "Run: AWiPysrMMEaT9KPSnqDO | BOGP | seed: 18 | number of docs/evals: 100 | iterations to process: 100\n",
      "Run: AWiPywV1MEaT9KPSnqIn | BOGP | seed: 19 | number of docs/evals: 100 | iterations to process: 100\n",
      "Run: AWiPyz_4MEaT9KPSnqLU | BOGP | seed: 20 | number of docs/evals: 100 | iterations to process: 100\n",
      "Run: AWiPy3qmMEaT9KPSnqQt | BOGP | seed: 21 | number of docs/evals: 100 | iterations to process: 100\n",
      "Run: AWiPy7UjMEaT9KPSnqTa | BOGP | seed: 22 | number of docs/evals: 100 | iterations to process: 100\n",
      "Run: AWiPy_AHMEaT9KPSnqYz | BOGP | seed: 23 | number of docs/evals: 100 | iterations to process: 100\n",
      "Run: AWiPzCrPMEaT9KPSnqbg | BOGP | seed: 24 | number of docs/evals: 100 | iterations to process: 100\n",
      "Run: AWiPzGVOMEaT9KPSnqg5 | BOGP | seed: 25 | number of docs/evals: 100 | iterations to process: 100\n",
      "Run: AWiPzKAOMEaT9KPSnqjm | BOGP | seed: 26 | number of docs/evals: 100 | iterations to process: 100\n",
      "Run: AWiPzNq9MEaT9KPSnqo_ | BOGP | seed: 27 | number of docs/evals: 100 | iterations to process: 100\n",
      "Run: AWiPzRV1MEaT9KPSnqrs | BOGP | seed: 28 | number of docs/evals: 100 | iterations to process: 100\n",
      "Run: AWiPzVAVMEaT9KPSnqxF | BOGP | seed: 29 | number of docs/evals: 100 | iterations to process: 100\n",
      "Run: AWiPzYr_MEaT9KPSnqzy | BOGP | seed: 30 | number of docs/evals: 100 | iterations to process: 100\n",
      "Min | Average | Max number of reused evaluations per run: 0 | 0.0 | 0 | \n",
      "==========================================================\n",
      "Run: AWiBO2cTMEaT9KPSY8Tc | NoveltySearch | seed: 1 | number of docs/evals: 100 | iterations to process: 10\n",
      "Run: AWiBO3mbMEaT9KPSY8Te | NoveltySearch | seed: 2 | number of docs/evals: 100 | iterations to process: 10\n",
      "Run: AWiBO40hMEaT9KPSY8V1 | NoveltySearch | seed: 3 | number of docs/evals: 100 | iterations to process: 10\n",
      "Run: AWiBO6CoMEaT9KPSY8V3 | NoveltySearch | seed: 4 | number of docs/evals: 100 | iterations to process: 10\n",
      "Run: AWiBO7RjMEaT9KPSY8YO | NoveltySearch | seed: 5 | number of docs/evals: 100 | iterations to process: 10\n",
      "Run: AWiBO8fmMEaT9KPSY8YQ | NoveltySearch | seed: 6 | number of docs/evals: 100 | iterations to process: 10\n",
      "Run: AWiBO9uWMEaT9KPSY8an | NoveltySearch | seed: 7 | number of docs/evals: 100 | iterations to process: 10\n",
      "Run: AWiBO-8IMEaT9KPSY8ap | NoveltySearch | seed: 8 | number of docs/evals: 100 | iterations to process: 10\n",
      "Run: AWiBPALRMEaT9KPSY8dA | NoveltySearch | seed: 9 | number of docs/evals: 100 | iterations to process: 10\n",
      "Run: AWiBPBZuMEaT9KPSY8dC | NoveltySearch | seed: 10 | number of docs/evals: 100 | iterations to process: 10\n",
      "Run: AWiBPCpdMEaT9KPSY8fZ | NoveltySearch | seed: 11 | number of docs/evals: 100 | iterations to process: 10\n",
      "Run: AWiBPD3dMEaT9KPSY8fb | NoveltySearch | seed: 12 | number of docs/evals: 100 | iterations to process: 10\n",
      "Run: AWiBPFE1MEaT9KPSY8hy | NoveltySearch | seed: 13 | number of docs/evals: 100 | iterations to process: 10\n",
      "Run: AWiBPGTAMEaT9KPSY8h0 | NoveltySearch | seed: 14 | number of docs/evals: 100 | iterations to process: 10\n",
      "Run: AWiBPHh6MEaT9KPSY8kL | NoveltySearch | seed: 15 | number of docs/evals: 100 | iterations to process: 10\n",
      "Run: AWiBSgcrMEaT9KPSY_2M | NoveltySearch | seed: 16 | number of docs/evals: 100 | iterations to process: 10\n",
      "Run: AWiBShrOMEaT9KPSY_2O | NoveltySearch | seed: 17 | number of docs/evals: 100 | iterations to process: 10\n",
      "Run: AWiBSi4hMEaT9KPSY_4l | NoveltySearch | seed: 18 | number of docs/evals: 100 | iterations to process: 10\n",
      "Run: AWiBSkHuMEaT9KPSY_4n | NoveltySearch | seed: 19 | number of docs/evals: 100 | iterations to process: 10\n",
      "Run: AWiBSlVRMEaT9KPSY_6- | NoveltySearch | seed: 20 | number of docs/evals: 100 | iterations to process: 10\n",
      "Run: AWiBSmkhMEaT9KPSY_7A | NoveltySearch | seed: 21 | number of docs/evals: 100 | iterations to process: 10\n",
      "Run: AWiBSnydMEaT9KPSY_9X | NoveltySearch | seed: 22 | number of docs/evals: 100 | iterations to process: 10\n",
      "Run: AWiBSpCBMEaT9KPSY_9Z | NoveltySearch | seed: 23 | number of docs/evals: 100 | iterations to process: 10\n",
      "Run: AWiBSqPVMEaT9KPSY__w | NoveltySearch | seed: 24 | number of docs/evals: 100 | iterations to process: 10\n",
      "Run: AWiBSrfFMEaT9KPSY__y | NoveltySearch | seed: 25 | number of docs/evals: 100 | iterations to process: 10\n",
      "Run: AWiBSssqMEaT9KPSZACJ | NoveltySearch | seed: 26 | number of docs/evals: 100 | iterations to process: 10\n",
      "Run: AWiBSt7DMEaT9KPSZACL | NoveltySearch | seed: 27 | number of docs/evals: 100 | iterations to process: 10\n",
      "Run: AWiBSvKHMEaT9KPSZAEi | NoveltySearch | seed: 28 | number of docs/evals: 100 | iterations to process: 10\n",
      "Run: AWiBSwYUMEaT9KPSZAEk | NoveltySearch | seed: 29 | number of docs/evals: 100 | iterations to process: 10\n",
      "Run: AWiBSxm8MEaT9KPSZAG7 | NoveltySearch | seed: 30 | number of docs/evals: 100 | iterations to process: 10\n",
      "Min | Average | Max number of reused evaluations per run: 6 | 16.0333333333 | 33 | \n",
      "==========================================================\n",
      "Run: AWh7NW7lMEaT9KPSTRgi | NoveltySearch | seed: 1 | number of docs/evals: 100 | iterations to process: 10\n",
      "Run: AWh7NXJEMEaT9KPSTRgk | NoveltySearch | seed: 2 | number of docs/evals: 100 | iterations to process: 10\n",
      "Run: AWh7NZlOMEaT9KPSTRi4 | NoveltySearch | seed: 3 | number of docs/evals: 100 | iterations to process: 10\n",
      "Run: AWh7NcB4MEaT9KPSTRlL | NoveltySearch | seed: 4 | number of docs/evals: 100 | iterations to process: 10\n",
      "Run: AWh7NedyMEaT9KPSTRne | NoveltySearch | seed: 5 | number of docs/evals: 100 | iterations to process: 10\n",
      "Run: AWh7Ng64MEaT9KPSTRpx | NoveltySearch | seed: 6 | number of docs/evals: 100 | iterations to process: 10\n",
      "Run: AWh7NjXjMEaT9KPSTRsE | NoveltySearch | seed: 7 | number of docs/evals: 100 | iterations to process: 10\n",
      "Run: AWh7Nl0oMEaT9KPSTRuX | NoveltySearch | seed: 8 | number of docs/evals: 100 | iterations to process: 10\n",
      "Run: AWh7NoRRMEaT9KPSTRwq | NoveltySearch | seed: 9 | number of docs/evals: 100 | iterations to process: 10\n",
      "Run: AWh7NqtaMEaT9KPSTRy9 | NoveltySearch | seed: 10 | number of docs/evals: 100 | iterations to process: 10\n",
      "Run: AWh7NtJvMEaT9KPSTR1Q | NoveltySearch | seed: 11 | number of docs/evals: 100 | iterations to process: 10\n",
      "Run: AWh7Nvm4MEaT9KPSTR3j | NoveltySearch | seed: 12 | number of docs/evals: 100 | iterations to process: 10\n",
      "Run: AWh7NyC5MEaT9KPSTR52 | NoveltySearch | seed: 13 | number of docs/evals: 100 | iterations to process: 10\n",
      "Run: AWh7N0feMEaT9KPSTR8J | NoveltySearch | seed: 14 | number of docs/evals: 100 | iterations to process: 10\n",
      "Run: AWh7N28vMEaT9KPSTR-c | NoveltySearch | seed: 15 | number of docs/evals: 100 | iterations to process: 10\n",
      "Run: AWiF7DYLMEaT9KPSdjiz | NoveltySearch | seed: 16 | number of docs/evals: 100 | iterations to process: 10\n",
      "Run: AWiF7DYKMEaT9KPSdjiy | NoveltySearch | seed: 17 | number of docs/evals: 100 | iterations to process: 10\n"
     ]
    },
    {
     "name": "stdout",
     "output_type": "stream",
     "text": [
      "Run: AWiF7FKNMEaT9KPSdjlP | NoveltySearch | seed: 18 | number of docs/evals: 100 | iterations to process: 10\n",
      "Run: AWiF7Hm9MEaT9KPSdjns | NoveltySearch | seed: 19 | number of docs/evals: 100 | iterations to process: 10\n",
      "Run: AWiF7KDkMEaT9KPSdjqJ | NoveltySearch | seed: 20 | number of docs/evals: 100 | iterations to process: 10\n",
      "Run: AWiF7MfjMEaT9KPSdjsm | NoveltySearch | seed: 21 | number of docs/evals: 100 | iterations to process: 10\n",
      "Run: AWiF7O76MEaT9KPSdjvD | NoveltySearch | seed: 22 | number of docs/evals: 100 | iterations to process: 10\n",
      "Run: AWiF7RXyMEaT9KPSdjxg | NoveltySearch | seed: 23 | number of docs/evals: 100 | iterations to process: 10\n",
      "Run: AWiF7T0bMEaT9KPSdjz9 | NoveltySearch | seed: 24 | number of docs/evals: 100 | iterations to process: 10\n",
      "Run: AWiF7WSGMEaT9KPSdj2a | NoveltySearch | seed: 25 | number of docs/evals: 100 | iterations to process: 10\n",
      "Run: AWiF7YvLMEaT9KPSdj43 | NoveltySearch | seed: 26 | number of docs/evals: 100 | iterations to process: 10\n",
      "Run: AWiF7bLeMEaT9KPSdj7U | NoveltySearch | seed: 27 | number of docs/evals: 100 | iterations to process: 10\n",
      "Run: AWiF7dnwMEaT9KPSdj9x | NoveltySearch | seed: 28 | number of docs/evals: 100 | iterations to process: 10\n",
      "Run: AWiF7gEQMEaT9KPSdkAO | NoveltySearch | seed: 29 | number of docs/evals: 100 | iterations to process: 10\n",
      "Run: AWiF7ig4MEaT9KPSdkCr | NoveltySearch | seed: 30 | number of docs/evals: 100 | iterations to process: 10\n",
      "Min | Average | Max number of reused evaluations per run: 9 | 17.1333333333 | 31 | \n",
      "==========================================================\n",
      "Run: AWh2_TDsMEaT9KPSPdeZ | NoveltySearch | seed: 1 | number of docs/evals: 100 | iterations to process: 10\n",
      "Run: AWh2_TNfMEaT9KPSPdea | NoveltySearch | seed: 2 | number of docs/evals: 100 | iterations to process: 10\n",
      "Run: AWh2_VqXMEaT9KPSPdgl | NoveltySearch | seed: 3 | number of docs/evals: 100 | iterations to process: 10\n",
      "Run: AWh2_YG3MEaT9KPSPdiw | NoveltySearch | seed: 4 | number of docs/evals: 100 | iterations to process: 10\n",
      "Run: AWh2_ajjMEaT9KPSPdk7 | NoveltySearch | seed: 5 | number of docs/evals: 100 | iterations to process: 10\n",
      "Run: AWh2_dAeMEaT9KPSPdnG | NoveltySearch | seed: 6 | number of docs/evals: 100 | iterations to process: 10\n",
      "Run: AWh2_fcoMEaT9KPSPdpR | NoveltySearch | seed: 7 | number of docs/evals: 100 | iterations to process: 10\n",
      "Run: AWh2_h5MMEaT9KPSPdrc | NoveltySearch | seed: 8 | number of docs/evals: 100 | iterations to process: 10\n",
      "Run: AWh2_kWWMEaT9KPSPdtn | NoveltySearch | seed: 9 | number of docs/evals: 100 | iterations to process: 10\n",
      "Run: AWh2_mzQMEaT9KPSPdvy | NoveltySearch | seed: 10 | number of docs/evals: 100 | iterations to process: 10\n",
      "Run: AWh2_pPHMEaT9KPSPdx9 | NoveltySearch | seed: 11 | number of docs/evals: 100 | iterations to process: 10\n",
      "Run: AWh2_rsSMEaT9KPSPd0I | NoveltySearch | seed: 12 | number of docs/evals: 100 | iterations to process: 10\n",
      "Run: AWh2_uIUMEaT9KPSPd2T | NoveltySearch | seed: 13 | number of docs/evals: 100 | iterations to process: 10\n",
      "Run: AWh2_wkzMEaT9KPSPd4e | NoveltySearch | seed: 14 | number of docs/evals: 100 | iterations to process: 10\n",
      "Run: AWh2_zB_MEaT9KPSPd6p | NoveltySearch | seed: 15 | number of docs/evals: 100 | iterations to process: 10\n",
      "Run: AWiF75q5MEaT9KPSdkYp | NoveltySearch | seed: 16 | number of docs/evals: 100 | iterations to process: 10\n",
      "Run: AWiF76SrMEaT9KPSdkYq | NoveltySearch | seed: 17 | number of docs/evals: 100 | iterations to process: 10\n",
      "Run: AWiF799vMEaT9KPSdkdj | NoveltySearch | seed: 18 | number of docs/evals: 100 | iterations to process: 10\n",
      "Run: AWiF8BovMEaT9KPSdkgA | NoveltySearch | seed: 19 | number of docs/evals: 100 | iterations to process: 10\n",
      "Run: AWiF8FRnMEaT9KPSdkk5 | NoveltySearch | seed: 20 | number of docs/evals: 100 | iterations to process: 10\n",
      "Run: AWiF8I9jMEaT9KPSdknW | NoveltySearch | seed: 21 | number of docs/evals: 100 | iterations to process: 10\n",
      "Run: AWiF8MoTMEaT9KPSdksP | NoveltySearch | seed: 22 | number of docs/evals: 100 | iterations to process: 10\n",
      "Run: AWiF8QSkMEaT9KPSdkus | NoveltySearch | seed: 23 | number of docs/evals: 100 | iterations to process: 10\n",
      "Run: AWiF8T-IMEaT9KPSdkzl | NoveltySearch | seed: 24 | number of docs/evals: 100 | iterations to process: 10\n",
      "Run: AWiF8XoNMEaT9KPSdk2C | NoveltySearch | seed: 25 | number of docs/evals: 100 | iterations to process: 10\n",
      "Run: AWiF8bSuMEaT9KPSdk67 | NoveltySearch | seed: 26 | number of docs/evals: 100 | iterations to process: 10\n",
      "Run: AWiF8e97MEaT9KPSdk9Y | NoveltySearch | seed: 27 | number of docs/evals: 100 | iterations to process: 10\n",
      "Run: AWiF8in8MEaT9KPSdlCR | NoveltySearch | seed: 28 | number of docs/evals: 100 | iterations to process: 10\n",
      "Run: AWiF8mSqMEaT9KPSdlEu | NoveltySearch | seed: 29 | number of docs/evals: 100 | iterations to process: 10\n",
      "Run: AWiF8p95MEaT9KPSdlJn | NoveltySearch | seed: 30 | number of docs/evals: 100 | iterations to process: 10\n",
      "Min | Average | Max number of reused evaluations per run: 10 | 18.1 | 35 | \n",
      "==========================================================\n",
      "Run: AWiAMheKMEaT9KPSX8_E | NSGAII | seed: 2 | number of docs/evals: 100 | iterations to process: 10\n",
      "Run: AWiAMjobMEaT9KPSX9Bb | NSGAII | seed: 3 | number of docs/evals: 100 | iterations to process: 10\n",
      "Run: AWiAMmELMEaT9KPSX9Dy | NSGAII | seed: 4 | number of docs/evals: 100 | iterations to process: 10\n",
      "Run: AWiAMogrMEaT9KPSX9GJ | NSGAII | seed: 5 | number of docs/evals: 100 | iterations to process: 10\n",
      "Run: AWiAMq90MEaT9KPSX9If | NSGAII | seed: 6 | number of docs/evals: 100 | iterations to process: 10\n",
      "Run: AWiAMtY-MEaT9KPSX9K1 | NSGAII | seed: 7 | number of docs/evals: 100 | iterations to process: 10\n",
      "Run: AWiAMv2NMEaT9KPSX9NL | NSGAII | seed: 8 | number of docs/evals: 100 | iterations to process: 10\n",
      "Run: AWiAMyTBMEaT9KPSX9Ph | NSGAII | seed: 9 | number of docs/evals: 100 | iterations to process: 10\n",
      "Run: AWiAM0vMMEaT9KPSX9R3 | NSGAII | seed: 10 | number of docs/evals: 100 | iterations to process: 10\n",
      "Run: AWiAM3MUMEaT9KPSX9UN | NSGAII | seed: 11 | number of docs/evals: 100 | iterations to process: 10\n",
      "Run: AWiAM5oFMEaT9KPSX9Wj | NSGAII | seed: 12 | number of docs/evals: 100 | iterations to process: 10\n",
      "Run: AWiAM8FgMEaT9KPSX9Y5 | NSGAII | seed: 13 | number of docs/evals: 100 | iterations to process: 10\n",
      "Run: AWiAM-hyMEaT9KPSX9bP | NSGAII | seed: 14 | number of docs/evals: 100 | iterations to process: 10\n",
      "Run: AWiANA-TMEaT9KPSX9dl | NSGAII | seed: 15 | number of docs/evals: 100 | iterations to process: 10\n",
      "Run: AWiBI_mwMEaT9KPSY2qS | NSGAII | seed: 16 | number of docs/evals: 100 | iterations to process: 10\n",
      "Run: AWiBJDQzMEaT9KPSY2u- | NSGAII | seed: 17 | number of docs/evals: 100 | iterations to process: 10\n",
      "Run: AWiBJG66MEaT9KPSY2xW | NSGAII | seed: 18 | number of docs/evals: 100 | iterations to process: 10\n",
      "Run: AWiBJKlbMEaT9KPSY22C | NSGAII | seed: 19 | number of docs/evals: 100 | iterations to process: 10\n",
      "Run: AWiBJOQNMEaT9KPSY24a | NSGAII | seed: 20 | number of docs/evals: 100 | iterations to process: 10\n",
      "Run: AWiBJR6wMEaT9KPSY29G | NSGAII | seed: 21 | number of docs/evals: 100 | iterations to process: 10\n",
      "Run: AWiBJVk8MEaT9KPSY2_e | NSGAII | seed: 22 | number of docs/evals: 100 | iterations to process: 10\n",
      "Run: AWiBJZPiMEaT9KPSY3EK | NSGAII | seed: 23 | number of docs/evals: 100 | iterations to process: 10\n",
      "Run: AWiBJc63MEaT9KPSY3Gi | NSGAII | seed: 24 | number of docs/evals: 100 | iterations to process: 10\n",
      "Run: AWiBJglfMEaT9KPSY3LO | NSGAII | seed: 25 | number of docs/evals: 100 | iterations to process: 10\n",
      "Run: AWiBJkPuMEaT9KPSY3Nm | NSGAII | seed: 26 | number of docs/evals: 100 | iterations to process: 10\n",
      "Run: AWiBJn6tMEaT9KPSY3SS | NSGAII | seed: 27 | number of docs/evals: 100 | iterations to process: 10\n",
      "Run: AWiBJrlkMEaT9KPSY3Uq | NSGAII | seed: 28 | number of docs/evals: 100 | iterations to process: 10\n",
      "Run: AWiBJvQbMEaT9KPSY3ZW | NSGAII | seed: 29 | number of docs/evals: 100 | iterations to process: 10\n",
      "Run: AWiBJy7KMEaT9KPSY3bu | NSGAII | seed: 30 | number of docs/evals: 100 | iterations to process: 10\n",
      "Run: AWiBy5I9MEaT9KPSZfJz | NSGAII | seed: 31 | number of docs/evals: 100 | iterations to process: 10\n",
      "Min | Average | Max number of reused evaluations per run: 1 | 13.5333333333 | 25 | \n",
      "==========================================================\n",
      "Run: AWh7M4caMEaT9KPSTRC5 | NSGAII | seed: 2 | number of docs/evals: 100 | iterations to process: 10\n"
     ]
    },
    {
     "name": "stdout",
     "output_type": "stream",
     "text": [
      "Run: AWh7M51lMEaT9KPSTRFL | NSGAII | seed: 3 | number of docs/evals: 100 | iterations to process: 10\n",
      "Run: AWh7M8SXMEaT9KPSTRHd | NSGAII | seed: 4 | number of docs/evals: 100 | iterations to process: 10\n",
      "Run: AWh7M-ubMEaT9KPSTRJv | NSGAII | seed: 5 | number of docs/evals: 100 | iterations to process: 10\n",
      "Run: AWh7NBKIMEaT9KPSTRMB | NSGAII | seed: 6 | number of docs/evals: 100 | iterations to process: 10\n",
      "Run: AWh7NDnwMEaT9KPSTROT | NSGAII | seed: 7 | number of docs/evals: 100 | iterations to process: 10\n",
      "Run: AWh7NGDiMEaT9KPSTRQl | NSGAII | seed: 8 | number of docs/evals: 100 | iterations to process: 10\n",
      "Run: AWh7NIgIMEaT9KPSTRS3 | NSGAII | seed: 9 | number of docs/evals: 100 | iterations to process: 10\n",
      "Run: AWh7NK9SMEaT9KPSTRVJ | NSGAII | seed: 10 | number of docs/evals: 100 | iterations to process: 10\n",
      "Run: AWh7NNZ0MEaT9KPSTRXb | NSGAII | seed: 11 | number of docs/evals: 100 | iterations to process: 10\n",
      "Run: AWh7NP2TMEaT9KPSTRZt | NSGAII | seed: 12 | number of docs/evals: 100 | iterations to process: 10\n",
      "Run: AWh7NSS8MEaT9KPSTRb_ | NSGAII | seed: 13 | number of docs/evals: 100 | iterations to process: 10\n",
      "Run: AWh7NUu8MEaT9KPSTReR | NSGAII | seed: 14 | number of docs/evals: 100 | iterations to process: 10\n",
      "Run: AWh7NXLyMEaT9KPSTRgl | NSGAII | seed: 15 | number of docs/evals: 100 | iterations to process: 10\n",
      "Run: AWiF8rjrMEaT9KPSdlJo | NSGAII | seed: 16 | number of docs/evals: 100 | iterations to process: 10\n",
      "Run: AWiF8saAMEaT9KPSdlMF | NSGAII | seed: 17 | number of docs/evals: 100 | iterations to process: 10\n",
      "Run: AWiF8wE6MEaT9KPSdlOi | NSGAII | seed: 18 | number of docs/evals: 100 | iterations to process: 10\n",
      "Run: AWiF8zwhMEaT9KPSdlTb | NSGAII | seed: 19 | number of docs/evals: 100 | iterations to process: 10\n",
      "Run: AWiF83ZeMEaT9KPSdlV4 | NSGAII | seed: 20 | number of docs/evals: 100 | iterations to process: 10\n",
      "Run: AWiF87EyMEaT9KPSdlax | NSGAII | seed: 21 | number of docs/evals: 100 | iterations to process: 10\n",
      "Run: AWiF8-veMEaT9KPSdldO | NSGAII | seed: 22 | number of docs/evals: 100 | iterations to process: 10\n",
      "Run: AWiF9CZhMEaT9KPSdliH | NSGAII | seed: 23 | number of docs/evals: 100 | iterations to process: 10\n",
      "Run: AWiF9GE_MEaT9KPSdlkk | NSGAII | seed: 24 | number of docs/evals: 100 | iterations to process: 10\n",
      "Run: AWiF9JvLMEaT9KPSdlpd | NSGAII | seed: 25 | number of docs/evals: 100 | iterations to process: 10\n",
      "Run: AWiF9NZnMEaT9KPSdlr6 | NSGAII | seed: 26 | number of docs/evals: 100 | iterations to process: 10\n",
      "Run: AWiF9RFYMEaT9KPSdlwz | NSGAII | seed: 27 | number of docs/evals: 100 | iterations to process: 10\n",
      "Run: AWiF9UvYMEaT9KPSdlzQ | NSGAII | seed: 28 | number of docs/evals: 100 | iterations to process: 10\n",
      "Run: AWiF9YaQMEaT9KPSdl4K | NSGAII | seed: 29 | number of docs/evals: 100 | iterations to process: 10\n",
      "Run: AWiF9cFAMEaT9KPSdl6o | NSGAII | seed: 30 | number of docs/evals: 100 | iterations to process: 10\n",
      "Run: AWh9DmurMEaT9KPSVAAr | NSGAII | seed: 31 | number of docs/evals: 100 | iterations to process: 10\n",
      "Min | Average | Max number of reused evaluations per run: 3 | 13.9 | 34 | \n",
      "==========================================================\n",
      "Run: AWh2-DsKMEaT9KPSPcZr | NSGAII | seed: 2 | number of docs/evals: 100 | iterations to process: 10\n",
      "Run: AWh2-FhqMEaT9KPSPcb0 | NSGAII | seed: 3 | number of docs/evals: 100 | iterations to process: 10\n",
      "Run: AWh2-H9qMEaT9KPSPcb2 | NSGAII | seed: 4 | number of docs/evals: 100 | iterations to process: 10\n",
      "Run: AWh2-KaxMEaT9KPSPcgI | NSGAII | seed: 5 | number of docs/evals: 100 | iterations to process: 10\n",
      "Run: AWh2-M3DMEaT9KPSPciS | NSGAII | seed: 6 | number of docs/evals: 100 | iterations to process: 10\n",
      "Run: AWh2-PTpMEaT9KPSPckc | NSGAII | seed: 7 | number of docs/evals: 100 | iterations to process: 10\n",
      "Run: AWh2-RweMEaT9KPSPcmm | NSGAII | seed: 8 | number of docs/evals: 100 | iterations to process: 10\n",
      "Run: AWh2-UNSMEaT9KPSPcow | NSGAII | seed: 9 | number of docs/evals: 100 | iterations to process: 10\n",
      "Run: AWh2-WpeMEaT9KPSPcq6 | NSGAII | seed: 10 | number of docs/evals: 100 | iterations to process: 10\n",
      "Run: AWh2-ZF-MEaT9KPSPctE | NSGAII | seed: 11 | number of docs/evals: 100 | iterations to process: 10\n",
      "Run: AWh2-bi0MEaT9KPSPcvO | NSGAII | seed: 12 | number of docs/evals: 100 | iterations to process: 10\n",
      "Run: AWh2-d-gMEaT9KPSPcxY | NSGAII | seed: 13 | number of docs/evals: 100 | iterations to process: 10\n",
      "Run: AWh2-gb-MEaT9KPSPczi | NSGAII | seed: 14 | number of docs/evals: 100 | iterations to process: 10\n",
      "Run: AWh2-i4kMEaT9KPSPc1t | NSGAII | seed: 15 | number of docs/evals: 100 | iterations to process: 10\n",
      "Run: AWiF9XyAMEaT9KPSdl4I | NSGAII | seed: 16 | number of docs/evals: 100 | iterations to process: 10\n",
      "Run: AWiF9YtAMEaT9KPSdl4L | NSGAII | seed: 17 | number of docs/evals: 100 | iterations to process: 10\n",
      "Run: AWiF9cXgMEaT9KPSdl6p | NSGAII | seed: 18 | number of docs/evals: 100 | iterations to process: 10\n",
      "Run: AWiF9gBhMEaT9KPSdl_i | NSGAII | seed: 19 | number of docs/evals: 100 | iterations to process: 10\n",
      "Run: AWiF9jsOMEaT9KPSdmB_ | NSGAII | seed: 20 | number of docs/evals: 100 | iterations to process: 10\n",
      "Run: AWiF9nWWMEaT9KPSdmG4 | NSGAII | seed: 21 | number of docs/evals: 100 | iterations to process: 10\n",
      "Run: AWiF9rA6MEaT9KPSdmJV | NSGAII | seed: 22 | number of docs/evals: 100 | iterations to process: 10\n",
      "Run: AWiF9usCMEaT9KPSdmOO | NSGAII | seed: 23 | number of docs/evals: 100 | iterations to process: 10\n",
      "Run: AWiF9yWbMEaT9KPSdmQr | NSGAII | seed: 24 | number of docs/evals: 100 | iterations to process: 10\n",
      "Run: AWiF92BMMEaT9KPSdmVk | NSGAII | seed: 25 | number of docs/evals: 100 | iterations to process: 10\n",
      "Run: AWiF95soMEaT9KPSdmYB | NSGAII | seed: 26 | number of docs/evals: 100 | iterations to process: 10\n",
      "Run: AWiF99W0MEaT9KPSdmc6 | NSGAII | seed: 27 | number of docs/evals: 100 | iterations to process: 10\n",
      "Run: AWiF-BBhMEaT9KPSdmfX | NSGAII | seed: 28 | number of docs/evals: 100 | iterations to process: 10\n",
      "Run: AWiF-Er5MEaT9KPSdmkQ | NSGAII | seed: 29 | number of docs/evals: 100 | iterations to process: 10\n",
      "Run: AWiF-IXEMEaT9KPSdmmt | NSGAII | seed: 30 | number of docs/evals: 100 | iterations to process: 10\n",
      "Run: AWh5Q1sdMEaT9KPSRgTy | NSGAII | seed: 31 | number of docs/evals: 100 | iterations to process: 10\n",
      "Min | Average | Max number of reused evaluations per run: 5 | 12.5666666667 | 29 | \n",
      "==========================================================\n"
     ]
    }
   ],
   "source": [
    "import sys\n",
    "import numpy as np\n",
    "import pylab \n",
    "import matplotlib.pyplot as plt\n",
    "import matplotlib as mpl\n",
    "mpl.rc(\"savefig\", dpi=300)\n",
    "# plt.rcParams[\"figure.figsize\"] = [8,6]\n",
    "\n",
    "\n",
    "## params \n",
    "iterations_default = 10\n",
    "iterations_mlr = iterations_default * 10\n",
    "sample_size = 5000\n",
    "total_number_of_docs = 100\n",
    "debug = False\n",
    "\n",
    "## maintain iterations to consider\n",
    "iterations = iterations_default\n",
    "def set_iterations(opt_method):\n",
    "    global iterations\n",
    "    if opt_method == \"BOGP\":\n",
    "        iterations = iterations_mlr\n",
    "    else:\n",
    "        iterations = iterations_default \n",
    "        \n",
    "        \n",
    "'''\n",
    "Prints an individuals\n",
    "'''\n",
    "def print_individual(ind):\n",
    "    print(\"Iteration: \" + str(ind[\"iteration\"]) \n",
    "                  + \" | Individual: \" + str(ind[\"individual\"]) \n",
    "                  + \" | Overhead: \" + str(get_overhead(ind)) \n",
    "                  + \" | Routing: \" + str(get_routing(ind)))\n",
    "    print(\"\\tConfiguration:\")\n",
    "    for knob, knob_value in ind[\"knobs\"].iteritems():\n",
    "        print(\"\\t\\t\" + str(knob) + \": \" + str(knob_value))\n",
    "\n",
    "    \n",
    "def get_config_key(ind):\n",
    "    knobs = ind[\"knobs\"]\n",
    "    key = str(knobs[\"re_route_every_ticks\"]) + \",\"\n",
    "    key = key + str(knobs[\"freshness_cut_off_value\"]) + \",\"\n",
    "    key = key + str(knobs[\"average_edge_duration_factor\"]) + \",\"\n",
    "    key = key + str(knobs[\"exploration_percentage\"]) + \",\"\n",
    "    key = key + str(knobs[\"freshness_update_factor\"]) + \",\"\n",
    "    key = key + str(knobs[\"route_random_sigma\"]) + \",\"\n",
    "    key = key + str(knobs[\"max_speed_and_length_factor\"])\n",
    "    return key\n",
    "  \n",
    "    \n",
    "'''\n",
    "Calculate the rolling/moving average\n",
    "'''\n",
    "def calculate_moving_average(aList):\n",
    "    moving_avg = 0\n",
    "    tmp_count = 0\n",
    "    for r in range(len(aList)):\n",
    "        moving_avg = (moving_avg * tmp_count + aList[r]) / (tmp_count + 1)\n",
    "        tmp_count = tmp_count + 1\n",
    "    return moving_avg\n",
    "\n",
    "\n",
    "'''\n",
    "Computes the fitness of all individuals of the given runs and \n",
    "stores the fitness of an individual to the individual.\n",
    "Returns a dictionary where the key is the id of the run and the\n",
    "value are all individuals of this run.\n",
    "'''\n",
    "def compute_fitness(rtx_runs, data):\n",
    "    global worst_overhead\n",
    "    global worst_routing\n",
    "    global best_overhead\n",
    "    global best_routing\n",
    "        \n",
    "    run_to_all_individuals = dict()\n",
    "    # counter how often evaluations have been reused over all rtx runs\n",
    "    number_of_reuse_per_run = []\n",
    "    \n",
    "    # for each run\n",
    "    for rtx_run in rtx_runs:\n",
    "        rtx_run_id = rtx_run[\"id\"]\n",
    "        # get all documents = all evaluations\n",
    "        all_documents = [d[\"_source\"] for d in data if d[\"parent\"] == rtx_run_id]\n",
    "        try:\n",
    "            opt_method = rtx_run[\"strategy\"][\"optimizer_method\"]\n",
    "        except:\n",
    "            # mlr does not store the opt method name in field strategy.optimizer_method\n",
    "            opt_method = \"BOGP\"\n",
    "        # set iterations\n",
    "        set_iterations(opt_method)\n",
    "        \n",
    "        if debug:\n",
    "            print(\"================================================================\")\n",
    "        print(\"Run: \" + rtx_run_id + \" | \" + opt_method \n",
    "              + \" | seed: \" + str(rtx_run[\"seed\"]) \n",
    "              + \" | number of docs/evals: \" + str(len(all_documents))\n",
    "              + \" | iterations to process: \" + str(iterations))\n",
    "        if debug:\n",
    "            print(\"================================================================\")\n",
    "\n",
    "            \n",
    "        # counter how often evaluations have been reused for this rtx run\n",
    "        number_of_reuse = 0\n",
    "        # all inidividuals across all iterations\n",
    "        all_individuals = []\n",
    "        # stored fitnesses for reuse calculated with the fitness function using avg\n",
    "        fitness_store = dict()\n",
    "        \n",
    "        # for each iteration\n",
    "        for i in range(0, iterations):\n",
    "            # get documents of the given iteration for the given run\n",
    "            documents_of_iteration = [d for d in all_documents if d[\"iteration\"] == i]\n",
    "            pop_size = len(documents_of_iteration)\n",
    "            if debug:\n",
    "                print(\"Iteration: \" + str(i) + \" | Population size: \" + str(pop_size))\n",
    "\n",
    "            # for each individual of the iteration\n",
    "            for j in range(len(documents_of_iteration)):        \n",
    "                next_individuals = [d for d in documents_of_iteration if d[\"individual\"] == j]\n",
    "                if len(next_individuals) > 1:\n",
    "                    print(\"ERROR: more than one individual with same number within one iteration.\")\n",
    "                else:\n",
    "                    individual = next_individuals[0] # list of one elem\n",
    "\n",
    "                # get overheads of individual\n",
    "                overheads = individual[\"payload\"][\"overheads\"]\n",
    "                # get routings of individual\n",
    "                routings = individual[\"payload\"][\"routings\"]\n",
    "                if overheads == [-1]:\n",
    "                    # reused fitness evaluations are stored in these fields although \n",
    "                    # the fitness are not the average but the medians. \n",
    "                    med_overhead = individual[\"payload\"][\"avg_overhead\"]  \n",
    "                    med_routing = individual[\"payload\"][\"avg_routing\"]\n",
    "                    # store properly \"median\" fitness values in the individual\n",
    "                    set_fitness_med(individual, med_overhead, med_routing)\n",
    "                    # get fitness for average overhead and routing\n",
    "                    individual_key = get_config_key(individual)\n",
    "                    avg_overhead, avg_routing = fitness_store[individual_key]\n",
    "                    set_fitness_avg(individual, avg_overhead, avg_routing) \n",
    "                    if debug:\n",
    "                        print(\"Individual: \" + individual_key + \" | load fitness: \" \n",
    "                              + str(avg_overhead) + \" \" + str(avg_routing))\n",
    "                    # stats\n",
    "                    number_of_reuse = number_of_reuse + 1\n",
    "                else:\n",
    "                    # sanity checks -- fitness needs not to be computed and stored; it is already there\n",
    "                    if len(overheads) <> sample_size:\n",
    "                        print(\"ERROR: Overhead entries \" + str(len(overheads)) \n",
    "                              + \"<> sample size \" + str(sample_size))\n",
    "                    computed_med_overhead = np.median(overheads) \n",
    "                    computed_med_routing = np.median(routings)\n",
    "                    med_overhead = individual[\"payload\"][\"median_overhead\"]\n",
    "                    med_routing = individual[\"payload\"][\"median_routing\"]\n",
    "                    if med_overhead <> computed_med_overhead:\n",
    "                        print(\"Overhead does not match: \" \n",
    "                              + str(med_overhead) + \" vs \" + str(computed_med_overhead))\n",
    "                    if med_routing <> computed_med_routing:\n",
    "                        print(\"Routing does not match: \" \n",
    "                              + str(med_routing) + \" vs \" + str(computed_med_routing))\n",
    "                        \n",
    "                    # compute and store average values\n",
    "                    avg_overhead = np.mean(overheads)\n",
    "                    avg_routing = np.mean(routings) # calculate_moving_average(routings)\n",
    "                    set_fitness_avg(individual, avg_overhead, avg_routing)\n",
    "                    individual_key = get_config_key(individual)\n",
    "                    fitness_store[individual_key] = avg_overhead, avg_routing\n",
    "                    if debug:\n",
    "                        print(\"Individual: \" + individual_key + \" | store fitness: \" \n",
    "                              + str(avg_overhead) + \" \" + str(avg_routing))\n",
    "               \n",
    "                # use med or avg from now on\n",
    "                if use_median:   \n",
    "                    overhead = med_overhead\n",
    "                    routing = med_routing\n",
    "                else:\n",
    "                    overhead = avg_overhead\n",
    "                    routing = avg_routing\n",
    "                \n",
    "                # check for worst and best cases\n",
    "                if overhead > worst_overhead:\n",
    "                    worst_overhead = overhead\n",
    "                if overhead < best_overhead:\n",
    "                    best_overhead = overhead\n",
    "                if routing > worst_routing:\n",
    "                    worst_routing = routing\n",
    "                if routing < best_routing:\n",
    "                    best_routing = routing\n",
    "                    \n",
    "\n",
    "                if debug:\n",
    "                    print(\"Individual: \" + str(individual[\"individual\"]) \n",
    "                         + \" | Overhead: \" + str(get_overhead(individual))\n",
    "                         + \" | Routing: \" + str(get_routing(individual)))\n",
    "\n",
    "                all_individuals.append(individual)\n",
    "                # next individual\n",
    "\n",
    "            # next iteration\n",
    "            if debug:\n",
    "                print(\"\")\n",
    "\n",
    "        if len(all_documents) == total_number_of_docs:\n",
    "            run_to_all_individuals[rtx_run_id] = all_individuals\n",
    "        else:\n",
    "            print(\"Skip run for further analysis, only \" + str(len(all_documents)) \n",
    "                  + \" documents/evaluations present.\")\n",
    "        number_of_reuse_per_run.append(number_of_reuse)\n",
    "        # next run\n",
    "    if len(number_of_reuse_per_run) > 0:\n",
    "        print(\"Min | Average | Max number of reused evaluations per run: \"\n",
    "              + str(np.min(number_of_reuse_per_run)) + \" | \"\n",
    "              + str(np.mean(number_of_reuse_per_run)) + \" | \"\n",
    "              + str(np.max(number_of_reuse_per_run)) + \" | \"\n",
    "              + \"\\n==========================================================\")\n",
    "    return run_to_all_individuals\n",
    "      \n",
    "\n",
    "# worst and best objective values achieved in *all* runs\n",
    "worst_overhead = sys.float_info.min\n",
    "worst_routing = sys.float_info.min\n",
    "best_overhead = sys.float_info.max\n",
    "best_routing = sys.float_info.max\n",
    "\n",
    "\n",
    "# check / store fitness\n",
    "\n",
    "# random search \n",
    "random_run_inds_500 = compute_fitness(random_rtx_runs_500, random_data_500)\n",
    "random_run_inds_700 = compute_fitness(random_rtx_runs_700, random_data_700)\n",
    "random_run_inds_800 = compute_fitness(random_rtx_runs_800, random_data_800)\n",
    "\n",
    "# mlr \n",
    "mlr_run_inds_500 = compute_fitness(mlr_rtx_runs_500, mlr_data_500)\n",
    "mlr_run_inds_700 = compute_fitness(mlr_rtx_runs_700, mlr_data_700)\n",
    "mlr_run_inds_800 = compute_fitness(mlr_rtx_runs_800, mlr_data_800)\n",
    "\n",
    "# novelty\n",
    "novelty_run_inds_500 = compute_fitness(novelty_rtx_runs_500, novelty_data_500)\n",
    "novelty_run_inds_700 = compute_fitness(novelty_rtx_runs_700, novelty_data_700)\n",
    "novelty_run_inds_800 = compute_fitness(novelty_rtx_runs_800, novelty_data_800)\n",
    "\n",
    "# nsga2\n",
    "nsga2_run_inds_500 = compute_fitness(nsga2_rtx_runs_500, nsga2_data_500)\n",
    "nsga2_run_inds_700 = compute_fitness(nsga2_rtx_runs_700, nsga2_data_700)\n",
    "nsga2_run_inds_800 = compute_fitness(nsga2_rtx_runs_800, nsga2_data_800)\n"
   ]
  },
  {
   "cell_type": "markdown",
   "metadata": {},
   "source": [
    "## Analyze and plot data"
   ]
  },
  {
   "cell_type": "code",
   "execution_count": 6,
   "metadata": {
    "scrolled": true
   },
   "outputs": [
    {
     "data": {
      "text/markdown": [
       "<span style='color:red'>===========================================================</span>"
      ],
      "text/plain": [
       "<IPython.core.display.Markdown object>"
      ]
     },
     "metadata": {},
     "output_type": "display_data"
    },
    {
     "name": "stdout",
     "output_type": "stream",
     "text": [
      "\n",
      "Run: AWiALsKlMEaT9KPSX8Ly | method: RandomSearch | seed: 1 | number of documents/evaluations: 100\n",
      "Reference Point: [2.2170968676925815, 311.0]\n",
      "Hypervolume: 172.834771113\n",
      "\n",
      "Run: AWiALuGSMEaT9KPSX8OH | method: RandomSearch | seed: 3 | number of documents/evaluations: 100\n",
      "Reference Point: [2.2170968676925815, 311.0]\n",
      "Hypervolume: 175.043414151\n",
      "\n",
      "Run: AWiALwiZMEaT9KPSX8Qc | method: RandomSearch | seed: 4 | number of documents/evaluations: 100\n",
      "Reference Point: [2.2170968676925815, 311.0]\n",
      "Hypervolume: 169.499802823\n",
      "\n",
      "Run: AWiALy-aMEaT9KPSX8Sx | method: RandomSearch | seed: 5 | number of documents/evaluations: 100\n",
      "Reference Point: [2.2170968676925815, 311.0]\n",
      "Hypervolume: 169.48516817\n",
      "\n",
      "Run: AWiAL1afMEaT9KPSX8VG | method: RandomSearch | seed: 6 | number of documents/evaluations: 100\n",
      "Reference Point: [2.2170968676925815, 311.0]\n",
      "Hypervolume: 171.494033977\n",
      "\n",
      "Run: AWiAL33FMEaT9KPSX8Xb | method: RandomSearch | seed: 7 | number of documents/evaluations: 100\n",
      "Reference Point: [2.2170968676925815, 311.0]\n",
      "Hypervolume: 174.176465655\n",
      "\n",
      "Run: AWiAL6TrMEaT9KPSX8Zw | method: RandomSearch | seed: 8 | number of documents/evaluations: 100\n",
      "Reference Point: [2.2170968676925815, 311.0]\n",
      "Hypervolume: 169.785599163\n",
      "\n",
      "Run: AWiAL8vtMEaT9KPSX8cF | method: RandomSearch | seed: 9 | number of documents/evaluations: 100\n",
      "Reference Point: [2.2170968676925815, 311.0]\n",
      "Hypervolume: 173.306421682\n",
      "\n",
      "Run: AWiAL_MSMEaT9KPSX8ea | method: RandomSearch | seed: 10 | number of documents/evaluations: 100\n",
      "Reference Point: [2.2170968676925815, 311.0]\n",
      "Hypervolume: 170.771346238\n",
      "\n",
      "Run: AWiAMBpmMEaT9KPSX8gv | method: RandomSearch | seed: 11 | number of documents/evaluations: 100\n",
      "Reference Point: [2.2170968676925815, 311.0]\n",
      "Hypervolume: 173.224329049\n",
      "\n",
      "Run: AWiAMEFWMEaT9KPSX8jE | method: RandomSearch | seed: 12 | number of documents/evaluations: 100\n",
      "Reference Point: [2.2170968676925815, 311.0]\n",
      "Hypervolume: 172.308843278\n",
      "\n",
      "Run: AWiAMGipMEaT9KPSX8lZ | method: RandomSearch | seed: 13 | number of documents/evaluations: 100\n",
      "Reference Point: [2.2170968676925815, 311.0]\n",
      "Hypervolume: 169.006243054\n",
      "\n",
      "Run: AWiAMI-zMEaT9KPSX8nw | method: RandomSearch | seed: 14 | number of documents/evaluations: 100\n",
      "Reference Point: [2.2170968676925815, 311.0]\n",
      "Hypervolume: 172.553973625\n",
      "\n",
      "Run: AWiAMLbQMEaT9KPSX8qG | method: RandomSearch | seed: 15 | number of documents/evaluations: 100\n",
      "Reference Point: [2.2170968676925815, 311.0]\n",
      "Hypervolume: 171.165271713\n",
      "\n",
      "Run: AWiAMHVZMEaT9KPSX8la | method: RandomSearch | seed: 16 | number of documents/evaluations: 100\n",
      "Reference Point: [2.2170968676925815, 311.0]\n",
      "Hypervolume: 172.798876767\n",
      "\n",
      "Run: AWiAMHVjMEaT9KPSX8lb | method: RandomSearch | seed: 17 | number of documents/evaluations: 100\n",
      "Reference Point: [2.2170968676925815, 311.0]\n",
      "Hypervolume: 173.169427673\n",
      "\n",
      "Run: AWiAMJmfMEaT9KPSX8nx | method: RandomSearch | seed: 18 | number of documents/evaluations: 100\n",
      "Reference Point: [2.2170968676925815, 311.0]\n",
      "Hypervolume: 171.722620027\n",
      "\n",
      "Run: AWiAMMEFMEaT9KPSX8qH | method: RandomSearch | seed: 19 | number of documents/evaluations: 100\n",
      "Reference Point: [2.2170968676925815, 311.0]\n",
      "Hypervolume: 173.546227407\n",
      "\n",
      "Run: AWiAMOfyMEaT9KPSX8sc | method: RandomSearch | seed: 20 | number of documents/evaluations: 100\n",
      "Reference Point: [2.2170968676925815, 311.0]\n",
      "Hypervolume: 174.922745484\n",
      "\n",
      "Run: AWiAMQ8DMEaT9KPSX8ux | method: RandomSearch | seed: 21 | number of documents/evaluations: 100\n",
      "Reference Point: [2.2170968676925815, 311.0]\n",
      "Hypervolume: 174.893907919\n",
      "\n",
      "Run: AWiAMTYQMEaT9KPSX8xG | method: RandomSearch | seed: 22 | number of documents/evaluations: 100\n",
      "Reference Point: [2.2170968676925815, 311.0]\n",
      "Hypervolume: 176.209742416\n",
      "\n",
      "Run: AWiAMV1HMEaT9KPSX8zb | method: RandomSearch | seed: 23 | number of documents/evaluations: 100\n",
      "Reference Point: [2.2170968676925815, 311.0]\n",
      "Hypervolume: 173.574560234\n",
      "\n",
      "Run: AWiAMYR_MEaT9KPSX81w | method: RandomSearch | seed: 24 | number of documents/evaluations: 100\n",
      "Reference Point: [2.2170968676925815, 311.0]\n",
      "Hypervolume: 171.383571545\n",
      "\n",
      "Run: AWiAMau7MEaT9KPSX84F | method: RandomSearch | seed: 25 | number of documents/evaluations: 100\n",
      "Reference Point: [2.2170968676925815, 311.0]\n",
      "Hypervolume: 174.144390904\n",
      "\n",
      "Run: AWiAMdLIMEaT9KPSX86a | method: RandomSearch | seed: 26 | number of documents/evaluations: 100\n",
      "Reference Point: [2.2170968676925815, 311.0]\n",
      "Hypervolume: 170.136853158\n",
      "\n",
      "Run: AWiAMfm3MEaT9KPSX88v | method: RandomSearch | seed: 27 | number of documents/evaluations: 100\n",
      "Reference Point: [2.2170968676925815, 311.0]\n",
      "Hypervolume: 171.09413302\n",
      "\n",
      "Run: AWiAMiFLMEaT9KPSX8_F | method: RandomSearch | seed: 28 | number of documents/evaluations: 100\n",
      "Reference Point: [2.2170968676925815, 311.0]\n",
      "Hypervolume: 171.72881621\n",
      "\n",
      "Run: AWiAMkgJMEaT9KPSX9Bc | method: RandomSearch | seed: 29 | number of documents/evaluations: 100\n",
      "Reference Point: [2.2170968676925815, 311.0]\n",
      "Hypervolume: 172.833457122\n",
      "\n",
      "Run: AWiAMm9HMEaT9KPSX9Dz | method: RandomSearch | seed: 30 | number of documents/evaluations: 100\n",
      "Reference Point: [2.2170968676925815, 311.0]\n",
      "Hypervolume: 171.58514022\n",
      "\n",
      "Run: AWiDJnJcMEaT9KPSazVs | method: RandomSearch | seed: 31 | number of documents/evaluations: 100\n",
      "Reference Point: [2.2170968676925815, 311.0]\n",
      "Hypervolume: 174.083858895\n"
     ]
    },
    {
     "data": {
      "text/markdown": [
       "<span style='color:red'>===========================================================</span>"
      ],
      "text/plain": [
       "<IPython.core.display.Markdown object>"
      ]
     },
     "metadata": {},
     "output_type": "display_data"
    },
    {
     "name": "stdout",
     "output_type": "stream",
     "text": [
      "\n",
      "Run: AWh7MU1VMEaT9KPSTQjJ | method: RandomSearch | seed: 1 | number of documents/evaluations: 100\n",
      "Reference Point: [2.2170968676925815, 311.0]\n",
      "Hypervolume: 106.014045653\n",
      "\n",
      "Run: AWh7MWUoMEaT9KPSTQjL | method: RandomSearch | seed: 3 | number of documents/evaluations: 100\n",
      "Reference Point: [2.2170968676925815, 311.0]\n",
      "Hypervolume: 113.708409416\n",
      "\n",
      "Run: AWh7MYxgMEaT9KPSTQlc | method: RandomSearch | seed: 4 | number of documents/evaluations: 100\n",
      "Reference Point: [2.2170968676925815, 311.0]\n",
      "Hypervolume: 109.255501019\n",
      "\n",
      "Run: AWh7MbONMEaT9KPSTQnt | method: RandomSearch | seed: 5 | number of documents/evaluations: 100\n",
      "Reference Point: [2.2170968676925815, 311.0]\n",
      "Hypervolume: 111.56809401\n",
      "\n",
      "Run: AWh7MdqyMEaT9KPSTQp_ | method: RandomSearch | seed: 6 | number of documents/evaluations: 100\n",
      "Reference Point: [2.2170968676925815, 311.0]\n",
      "Hypervolume: 112.501848429\n",
      "\n",
      "Run: AWh7MgGZMEaT9KPSTQsQ | method: RandomSearch | seed: 7 | number of documents/evaluations: 100\n",
      "Reference Point: [2.2170968676925815, 311.0]\n",
      "Hypervolume: 119.723393566\n",
      "\n",
      "Run: AWh7Mij5MEaT9KPSTQuh | method: RandomSearch | seed: 8 | number of documents/evaluations: 100\n",
      "Reference Point: [2.2170968676925815, 311.0]\n",
      "Hypervolume: 111.830524277\n",
      "\n",
      "Run: AWh7MlAAMEaT9KPSTQwy | method: RandomSearch | seed: 9 | number of documents/evaluations: 100\n",
      "Reference Point: [2.2170968676925815, 311.0]\n",
      "Hypervolume: 111.823431641\n",
      "\n",
      "Run: AWh7MndPMEaT9KPSTQzD | method: RandomSearch | seed: 10 | number of documents/evaluations: 100\n",
      "Reference Point: [2.2170968676925815, 311.0]\n",
      "Hypervolume: 117.021818587\n",
      "\n",
      "Run: AWh7Mp5dMEaT9KPSTQ1U | method: RandomSearch | seed: 11 | number of documents/evaluations: 100\n",
      "Reference Point: [2.2170968676925815, 311.0]\n",
      "Hypervolume: 114.555176328\n",
      "\n",
      "Run: AWh7MsWnMEaT9KPSTQ3l | method: RandomSearch | seed: 12 | number of documents/evaluations: 100\n",
      "Reference Point: [2.2170968676925815, 311.0]\n",
      "Hypervolume: 119.029772411\n",
      "\n",
      "Run: AWh7Muy8MEaT9KPSTQ52 | method: RandomSearch | seed: 13 | number of documents/evaluations: 100\n",
      "Reference Point: [2.2170968676925815, 311.0]\n",
      "Hypervolume: 106.254653841\n",
      "\n",
      "Run: AWh7MxPzMEaT9KPSTQ8H | method: RandomSearch | seed: 14 | number of documents/evaluations: 100\n",
      "Reference Point: [2.2170968676925815, 311.0]\n",
      "Hypervolume: 114.57512655\n",
      "\n",
      "Run: AWh7MzsSMEaT9KPSTQ-Y | method: RandomSearch | seed: 15 | number of documents/evaluations: 100\n",
      "Reference Point: [2.2170968676925815, 311.0]\n",
      "Hypervolume: 117.433160763\n",
      "\n",
      "Run: AWiI4Ss8MEaT9KPSgbiv | method: RandomSearch | seed: 16 | number of documents/evaluations: 100\n",
      "Reference Point: [2.2170968676925815, 311.0]\n",
      "Hypervolume: 112.677383147\n",
      "\n",
      "Run: AWiI4TuwMEaT9KPSgblP | method: RandomSearch | seed: 17 | number of documents/evaluations: 100\n",
      "Reference Point: [2.2170968676925815, 311.0]\n",
      "Hypervolume: 119.306212786\n",
      "\n",
      "Run: AWiI4XZLMEaT9KPSgbnx | method: RandomSearch | seed: 18 | number of documents/evaluations: 100\n",
      "Reference Point: [2.2170968676925815, 311.0]\n",
      "Hypervolume: 110.630619943\n",
      "\n",
      "Run: AWiI4bDfMEaT9KPSgbsx | method: RandomSearch | seed: 19 | number of documents/evaluations: 100\n",
      "Reference Point: [2.2170968676925815, 311.0]\n",
      "Hypervolume: 113.209967547\n",
      "\n",
      "Run: AWiI4euVMEaT9KPSgbvT | method: RandomSearch | seed: 20 | number of documents/evaluations: 100\n",
      "Reference Point: [2.2170968676925815, 311.0]\n",
      "Hypervolume: 115.81191229\n",
      "\n",
      "Run: AWiI4iX-MEaT9KPSgb0T | method: RandomSearch | seed: 21 | number of documents/evaluations: 100\n",
      "Reference Point: [2.2170968676925815, 311.0]\n",
      "Hypervolume: 123.558101117\n",
      "\n",
      "Run: AWiI4mDRMEaT9KPSgb21 | method: RandomSearch | seed: 22 | number of documents/evaluations: 100\n",
      "Reference Point: [2.2170968676925815, 311.0]\n",
      "Hypervolume: 113.918190499\n",
      "\n",
      "Run: AWiI4pukMEaT9KPSgb71 | method: RandomSearch | seed: 23 | number of documents/evaluations: 100\n",
      "Reference Point: [2.2170968676925815, 311.0]\n",
      "Hypervolume: 111.342469312\n",
      "\n",
      "Run: AWiI4taLMEaT9KPSgb-X | method: RandomSearch | seed: 24 | number of documents/evaluations: 100\n",
      "Reference Point: [2.2170968676925815, 311.0]\n",
      "Hypervolume: 114.955130436\n",
      "\n",
      "Run: AWiI4xFTMEaT9KPSgcDX | method: RandomSearch | seed: 25 | number of documents/evaluations: 100\n",
      "Reference Point: [2.2170968676925815, 311.0]\n",
      "Hypervolume: 108.259557586\n",
      "\n",
      "Run: AWiI40uvMEaT9KPSgcF5 | method: RandomSearch | seed: 26 | number of documents/evaluations: 100\n",
      "Reference Point: [2.2170968676925815, 311.0]\n",
      "Hypervolume: 109.173013112\n",
      "\n",
      "Run: AWiI44ZfMEaT9KPSgcK5 | method: RandomSearch | seed: 27 | number of documents/evaluations: 100\n",
      "Reference Point: [2.2170968676925815, 311.0]\n",
      "Hypervolume: 111.428078115\n",
      "\n",
      "Run: AWiI48ESMEaT9KPSgcNb | method: RandomSearch | seed: 28 | number of documents/evaluations: 100\n",
      "Reference Point: [2.2170968676925815, 311.0]\n",
      "Hypervolume: 113.830027793\n",
      "\n",
      "Run: AWiI4_ulMEaT9KPSgcSb | method: RandomSearch | seed: 29 | number of documents/evaluations: 100\n",
      "Reference Point: [2.2170968676925815, 311.0]\n",
      "Hypervolume: 119.313437425\n",
      "\n",
      "Run: AWiI5DauMEaT9KPSgcU9 | method: RandomSearch | seed: 30 | number of documents/evaluations: 100\n",
      "Reference Point: [2.2170968676925815, 311.0]\n",
      "Hypervolume: 114.364154432\n",
      "\n",
      "Run: AWh9fwGqMEaT9KPSVabD | method: RandomSearch | seed: 31 | number of documents/evaluations: 100\n",
      "Reference Point: [2.2170968676925815, 311.0]\n",
      "Hypervolume: 116.154771848\n"
     ]
    },
    {
     "data": {
      "text/markdown": [
       "<span style='color:red'>===========================================================</span>"
      ],
      "text/plain": [
       "<IPython.core.display.Markdown object>"
      ]
     },
     "metadata": {},
     "output_type": "display_data"
    },
    {
     "name": "stdout",
     "output_type": "stream",
     "text": [
      "\n",
      "Run: AWh3AeIhMEaT9KPSPehe | method: RandomSearch | seed: 1 | number of documents/evaluations: 100\n",
      "Reference Point: [2.2170968676925815, 311.0]\n",
      "Hypervolume: 84.359750707\n",
      "\n",
      "Run: AWh3Af6qMEaT9KPSPejq | method: RandomSearch | seed: 3 | number of documents/evaluations: 100\n",
      "Reference Point: [2.2170968676925815, 311.0]\n",
      "Hypervolume: 80.214614522\n",
      "\n",
      "Run: AWh3AiYCMEaT9KPSPel2 | method: RandomSearch | seed: 4 | number of documents/evaluations: 100\n",
      "Reference Point: [2.2170968676925815, 311.0]\n",
      "Hypervolume: 85.1224926022\n",
      "\n",
      "Run: AWh3Aky0MEaT9KPSPeoC | method: RandomSearch | seed: 5 | number of documents/evaluations: 100\n",
      "Reference Point: [2.2170968676925815, 311.0]\n",
      "Hypervolume: 80.9815897406\n",
      "\n",
      "Run: AWh3AnQOMEaT9KPSPeqO | method: RandomSearch | seed: 6 | number of documents/evaluations: 100\n",
      "Reference Point: [2.2170968676925815, 311.0]\n",
      "Hypervolume: 82.3577837019\n",
      "\n",
      "Run: AWh3AptCMEaT9KPSPesa | method: RandomSearch | seed: 7 | number of documents/evaluations: 100\n",
      "Reference Point: [2.2170968676925815, 311.0]\n",
      "Hypervolume: 78.6325479401\n",
      "\n",
      "Run: AWh3AsKaMEaT9KPSPeum | method: RandomSearch | seed: 8 | number of documents/evaluations: 100\n",
      "Reference Point: [2.2170968676925815, 311.0]\n",
      "Hypervolume: 83.2203231619\n",
      "\n",
      "Run: AWh3AumcMEaT9KPSPewy | method: RandomSearch | seed: 9 | number of documents/evaluations: 100\n",
      "Reference Point: [2.2170968676925815, 311.0]\n",
      "Hypervolume: 87.0147039817\n",
      "\n",
      "Run: AWh3AxC0MEaT9KPSPey- | method: RandomSearch | seed: 10 | number of documents/evaluations: 100\n",
      "Reference Point: [2.2170968676925815, 311.0]\n",
      "Hypervolume: 84.4104319162\n",
      "\n",
      "Run: AWh3Aze_MEaT9KPSPe1K | method: RandomSearch | seed: 11 | number of documents/evaluations: 100\n",
      "Reference Point: [2.2170968676925815, 311.0]\n",
      "Hypervolume: 88.7935653172\n",
      "\n",
      "Run: AWh3A173MEaT9KPSPe3W | method: RandomSearch | seed: 12 | number of documents/evaluations: 100\n",
      "Reference Point: [2.2170968676925815, 311.0]\n",
      "Hypervolume: 86.5849217291\n",
      "\n",
      "Run: AWh3A4Y4MEaT9KPSPe5i | method: RandomSearch | seed: 13 | number of documents/evaluations: 100\n",
      "Reference Point: [2.2170968676925815, 311.0]\n",
      "Hypervolume: 81.0375841791\n",
      "\n",
      "Run: AWh3A61PMEaT9KPSPe7u | method: RandomSearch | seed: 14 | number of documents/evaluations: 100\n",
      "Reference Point: [2.2170968676925815, 311.0]\n",
      "Hypervolume: 88.3047252651\n",
      "\n",
      "Run: AWh3A9RuMEaT9KPSPe96 | method: RandomSearch | seed: 15 | number of documents/evaluations: 100\n",
      "Reference Point: [2.2170968676925815, 311.0]\n",
      "Hypervolume: 85.3243249745\n",
      "\n",
      "Run: AWiI51sFMEaT9KPSgdJd | method: RandomSearch | seed: 16 | number of documents/evaluations: 100\n",
      "Reference Point: [2.2170968676925815, 311.0]\n",
      "Hypervolume: 85.1659469684\n",
      "\n",
      "Run: AWiI52euMEaT9KPSgdJf | method: RandomSearch | seed: 17 | number of documents/evaluations: 100\n",
      "Reference Point: [2.2170968676925815, 311.0]\n",
      "Hypervolume: 90.9065276951\n",
      "\n",
      "Run: AWiI56JuMEaT9KPSgdOf | method: RandomSearch | seed: 18 | number of documents/evaluations: 100\n",
      "Reference Point: [2.2170968676925815, 311.0]\n",
      "Hypervolume: 78.5080325839\n",
      "\n",
      "Run: AWiI590bMEaT9KPSgdRB | method: RandomSearch | seed: 19 | number of documents/evaluations: 100\n",
      "Reference Point: [2.2170968676925815, 311.0]\n",
      "Hypervolume: 88.0516259843\n",
      "\n",
      "Run: AWiI6BeyMEaT9KPSgdWB | method: RandomSearch | seed: 20 | number of documents/evaluations: 100\n",
      "Reference Point: [2.2170968676925815, 311.0]\n",
      "Hypervolume: 90.759400631\n",
      "\n",
      "Run: AWiI6FJpMEaT9KPSgdYj | method: RandomSearch | seed: 21 | number of documents/evaluations: 100\n",
      "Reference Point: [2.2170968676925815, 311.0]\n",
      "Hypervolume: 86.7784721066\n",
      "\n",
      "Run: AWiI6IzdMEaT9KPSgddj | method: RandomSearch | seed: 22 | number of documents/evaluations: 100\n",
      "Reference Point: [2.2170968676925815, 311.0]\n",
      "Hypervolume: 88.7421756143\n",
      "\n",
      "Run: AWiI6MeRMEaT9KPSgdgF | method: RandomSearch | seed: 23 | number of documents/evaluations: 100\n",
      "Reference Point: [2.2170968676925815, 311.0]\n",
      "Hypervolume: 83.2321098255\n",
      "\n",
      "Run: AWiI6QI7MEaT9KPSgdlF | method: RandomSearch | seed: 24 | number of documents/evaluations: 100\n",
      "Reference Point: [2.2170968676925815, 311.0]\n",
      "Hypervolume: 82.9873399462\n",
      "\n",
      "Run: AWiI6T0bMEaT9KPSgdnn | method: RandomSearch | seed: 25 | number of documents/evaluations: 100\n",
      "Reference Point: [2.2170968676925815, 311.0]\n",
      "Hypervolume: 86.2953191166\n",
      "\n",
      "Run: AWiI6XfLMEaT9KPSgdsn | method: RandomSearch | seed: 26 | number of documents/evaluations: 100\n",
      "Reference Point: [2.2170968676925815, 311.0]\n",
      "Hypervolume: 78.664281621\n",
      "\n",
      "Run: AWiI6bJkMEaT9KPSgdvJ | method: RandomSearch | seed: 27 | number of documents/evaluations: 100\n",
      "Reference Point: [2.2170968676925815, 311.0]\n",
      "Hypervolume: 88.1255718541\n",
      "\n",
      "Run: AWiI6ez4MEaT9KPSgd0J | method: RandomSearch | seed: 28 | number of documents/evaluations: 100\n",
      "Reference Point: [2.2170968676925815, 311.0]\n",
      "Hypervolume: 87.0449359399\n",
      "\n",
      "Run: AWiI6ieaMEaT9KPSgd2r | method: RandomSearch | seed: 29 | number of documents/evaluations: 100\n",
      "Reference Point: [2.2170968676925815, 311.0]\n",
      "Hypervolume: 90.3063526764\n",
      "\n",
      "Run: AWiI6mJZMEaT9KPSgd7r | method: RandomSearch | seed: 30 | number of documents/evaluations: 100\n",
      "Reference Point: [2.2170968676925815, 311.0]\n",
      "Hypervolume: 87.3317884785\n",
      "\n",
      "Run: AWiI6pzpMEaT9KPSgd-N | method: RandomSearch | seed: 31 | number of documents/evaluations: 100\n",
      "Reference Point: [2.2170968676925815, 311.0]\n",
      "Hypervolume: 80.8120925287\n"
     ]
    },
    {
     "data": {
      "text/markdown": [
       "<span style='color:red'>===========================================================</span>"
      ],
      "text/plain": [
       "<IPython.core.display.Markdown object>"
      ]
     },
     "metadata": {},
     "output_type": "display_data"
    },
    {
     "name": "stdout",
     "output_type": "stream",
     "text": [
      "\n",
      "Run: AWiDT-QTMEaT9KPSa9h2 | method: BOGP | seed: 1 | number of documents/evaluations: 100\n",
      "Reference Point: [2.2170968676925815, 311.0]\n",
      "Hypervolume: 170.998926591\n",
      "\n",
      "Run: AWiDUAqgMEaT9KPSa9kS | method: BOGP | seed: 2 | number of documents/evaluations: 100\n",
      "Reference Point: [2.2170968676925815, 311.0]\n",
      "Hypervolume: 173.179196602\n",
      "\n",
      "Run: AWiDUDHKMEaT9KPSa9mu | method: BOGP | seed: 3 | number of documents/evaluations: 100\n",
      "Reference Point: [2.2170968676925815, 311.0]\n",
      "Hypervolume: 171.344211465\n",
      "\n",
      "Run: AWiDUFjeMEaT9KPSa9pK | method: BOGP | seed: 4 | number of documents/evaluations: 100\n",
      "Reference Point: [2.2170968676925815, 311.0]\n",
      "Hypervolume: 169.852493502\n",
      "\n",
      "Run: AWiDUH_EMEaT9KPSa9rm | method: BOGP | seed: 5 | number of documents/evaluations: 100\n",
      "Reference Point: [2.2170968676925815, 311.0]\n",
      "Hypervolume: 171.462128295\n",
      "\n",
      "Run: AWiDUKb4MEaT9KPSa9uC | method: BOGP | seed: 6 | number of documents/evaluations: 100\n",
      "Reference Point: [2.2170968676925815, 311.0]\n",
      "Hypervolume: 167.887510498\n",
      "\n",
      "Run: AWiDUM5BMEaT9KPSa9we | method: BOGP | seed: 7 | number of documents/evaluations: 100\n",
      "Reference Point: [2.2170968676925815, 311.0]\n",
      "Hypervolume: 168.441913738\n",
      "\n",
      "Run: AWiDUPWDMEaT9KPSa9y6 | method: BOGP | seed: 8 | number of documents/evaluations: 100\n",
      "Reference Point: [2.2170968676925815, 311.0]\n",
      "Hypervolume: 168.452884291\n",
      "\n",
      "Run: AWiDURyPMEaT9KPSa91W | method: BOGP | seed: 9 | number of documents/evaluations: 100\n",
      "Reference Point: [2.2170968676925815, 311.0]\n",
      "Hypervolume: 169.678253911\n",
      "\n",
      "Run: AWiDUUODMEaT9KPSa93y | method: BOGP | seed: 10 | number of documents/evaluations: 100\n",
      "Reference Point: [2.2170968676925815, 311.0]\n",
      "Hypervolume: 175.76699241\n",
      "\n",
      "Run: AWiDUWq6MEaT9KPSa96O | method: BOGP | seed: 11 | number of documents/evaluations: 100\n",
      "Reference Point: [2.2170968676925815, 311.0]\n",
      "Hypervolume: 171.680789817\n",
      "\n",
      "Run: AWiDUZHZMEaT9KPSa98q | method: BOGP | seed: 12 | number of documents/evaluations: 100\n",
      "Reference Point: [2.2170968676925815, 311.0]\n",
      "Hypervolume: 170.762209435\n",
      "\n",
      "Run: AWiDUbkxMEaT9KPSa9_G | method: BOGP | seed: 13 | number of documents/evaluations: 100\n",
      "Reference Point: [2.2170968676925815, 311.0]\n",
      "Hypervolume: 166.996684985\n",
      "\n",
      "Run: AWiDUeA0MEaT9KPSa-Bi | method: BOGP | seed: 14 | number of documents/evaluations: 100\n",
      "Reference Point: [2.2170968676925815, 311.0]\n",
      "Hypervolume: 172.692746133\n",
      "\n",
      "Run: AWiDUgd0MEaT9KPSa-D- | method: BOGP | seed: 15 | number of documents/evaluations: 100\n",
      "Reference Point: [2.2170968676925815, 311.0]\n",
      "Hypervolume: 173.745091213\n",
      "\n",
      "Run: AWiDcR4BMEaT9KPSbFyF | method: BOGP | seed: 16 | number of documents/evaluations: 100\n",
      "Reference Point: [2.2170968676925815, 311.0]\n",
      "Hypervolume: 174.559047595\n",
      "\n",
      "Run: AWiDcSVdMEaT9KPSbFyG | method: BOGP | seed: 17 | number of documents/evaluations: 100\n",
      "Reference Point: [2.2170968676925815, 311.0]\n",
      "Hypervolume: 174.322414241\n",
      "\n",
      "Run: AWiDcWAbMEaT9KPSbF29 | method: BOGP | seed: 18 | number of documents/evaluations: 100\n",
      "Reference Point: [2.2170968676925815, 311.0]\n",
      "Hypervolume: 168.378268481\n",
      "\n",
      "Run: AWiDcZqmMEaT9KPSbF5Z | method: BOGP | seed: 19 | number of documents/evaluations: 100\n",
      "Reference Point: [2.2170968676925815, 311.0]\n",
      "Hypervolume: 169.775123933\n",
      "\n",
      "Run: AWiDcdVbMEaT9KPSbF-Q | method: BOGP | seed: 20 | number of documents/evaluations: 100\n",
      "Reference Point: [2.2170968676925815, 311.0]\n",
      "Hypervolume: 172.007981137\n",
      "\n",
      "Run: AWiDchAHMEaT9KPSbGAs | method: BOGP | seed: 21 | number of documents/evaluations: 100\n",
      "Reference Point: [2.2170968676925815, 311.0]\n",
      "Hypervolume: 168.579493949\n",
      "\n",
      "Run: AWiDckqBMEaT9KPSbGFj | method: BOGP | seed: 22 | number of documents/evaluations: 100\n",
      "Reference Point: [2.2170968676925815, 311.0]\n",
      "Hypervolume: 173.367339255\n",
      "\n",
      "Run: AWiDcoVaMEaT9KPSbGH_ | method: BOGP | seed: 23 | number of documents/evaluations: 100\n",
      "Reference Point: [2.2170968676925815, 311.0]\n",
      "Hypervolume: 172.028745419\n",
      "\n",
      "Run: AWiDcsAQMEaT9KPSbGM2 | method: BOGP | seed: 24 | number of documents/evaluations: 100\n",
      "Reference Point: [2.2170968676925815, 311.0]\n",
      "Hypervolume: 174.694199888\n",
      "\n",
      "Run: AWiDcvq_MEaT9KPSbGPS | method: BOGP | seed: 25 | number of documents/evaluations: 100\n",
      "Reference Point: [2.2170968676925815, 311.0]\n",
      "Hypervolume: 171.666045822\n",
      "\n",
      "Run: AWiDczWHMEaT9KPSbGUJ | method: BOGP | seed: 26 | number of documents/evaluations: 100\n",
      "Reference Point: [2.2170968676925815, 311.0]\n",
      "Hypervolume: 167.155666747\n",
      "\n",
      "Run: AWiDc3AAMEaT9KPSbGWl | method: BOGP | seed: 27 | number of documents/evaluations: 100\n",
      "Reference Point: [2.2170968676925815, 311.0]\n",
      "Hypervolume: 172.305861574\n",
      "\n",
      "Run: AWiDc6qsMEaT9KPSbGbc | method: BOGP | seed: 28 | number of documents/evaluations: 100\n",
      "Reference Point: [2.2170968676925815, 311.0]\n",
      "Hypervolume: 173.754104212\n",
      "\n",
      "Run: AWiDc-WOMEaT9KPSbGd4 | method: BOGP | seed: 29 | number of documents/evaluations: 100\n",
      "Reference Point: [2.2170968676925815, 311.0]\n",
      "Hypervolume: 167.970063638\n",
      "\n",
      "Run: AWiDdCAUMEaT9KPSbGiv | method: BOGP | seed: 30 | number of documents/evaluations: 100\n",
      "Reference Point: [2.2170968676925815, 311.0]\n",
      "Hypervolume: 169.765531734\n"
     ]
    },
    {
     "data": {
      "text/markdown": [
       "<span style='color:red'>===========================================================</span>"
      ],
      "text/plain": [
       "<IPython.core.display.Markdown object>"
      ]
     },
     "metadata": {},
     "output_type": "display_data"
    },
    {
     "name": "stdout",
     "output_type": "stream",
     "text": [
      "\n",
      "Run: AWiGrv0GMEaT9KPSeNh8 | method: BOGP | seed: 1 | number of documents/evaluations: 100\n",
      "Reference Point: [2.2170968676925815, 311.0]\n",
      "Hypervolume: 106.795929131\n",
      "\n",
      "Run: AWiGrxCPMEaT9KPSeNkb | method: BOGP | seed: 2 | number of documents/evaluations: 100\n",
      "Reference Point: [2.2170968676925815, 311.0]\n",
      "Hypervolume: 119.298644982\n",
      "\n",
      "Run: AWiGryQXMEaT9KPSeNkc | method: BOGP | seed: 3 | number of documents/evaluations: 100\n",
      "Reference Point: [2.2170968676925815, 311.0]\n",
      "Hypervolume: 102.213903854\n",
      "\n",
      "Run: AWiGrzfyMEaT9KPSeNm7 | method: BOGP | seed: 4 | number of documents/evaluations: 100\n",
      "Reference Point: [2.2170968676925815, 311.0]\n",
      "Hypervolume: 111.253738781\n",
      "\n",
      "Run: AWiGr0tkMEaT9KPSeNm8 | method: BOGP | seed: 5 | number of documents/evaluations: 100\n",
      "Reference Point: [2.2170968676925815, 311.0]\n",
      "Hypervolume: 106.927092877\n",
      "\n",
      "Run: AWiGr17oMEaT9KPSeNpb | method: BOGP | seed: 6 | number of documents/evaluations: 100\n",
      "Reference Point: [2.2170968676925815, 311.0]\n",
      "Hypervolume: 106.8237635\n",
      "\n",
      "Run: AWiGr3J5MEaT9KPSeNpc | method: BOGP | seed: 7 | number of documents/evaluations: 100\n",
      "Reference Point: [2.2170968676925815, 311.0]\n",
      "Hypervolume: 115.958329599\n",
      "\n",
      "Run: AWiGr4YtMEaT9KPSeNr7 | method: BOGP | seed: 8 | number of documents/evaluations: 100\n",
      "Reference Point: [2.2170968676925815, 311.0]\n",
      "Hypervolume: 113.017153944\n",
      "\n",
      "Run: AWiGr5nJMEaT9KPSeNr8 | method: BOGP | seed: 9 | number of documents/evaluations: 100\n",
      "Reference Point: [2.2170968676925815, 311.0]\n",
      "Hypervolume: 112.518412601\n",
      "\n",
      "Run: AWiGr61LMEaT9KPSeNub | method: BOGP | seed: 10 | number of documents/evaluations: 100\n",
      "Reference Point: [2.2170968676925815, 311.0]\n",
      "Hypervolume: 107.770686305\n",
      "\n",
      "Run: AWiGr8FIMEaT9KPSeNuc | method: BOGP | seed: 11 | number of documents/evaluations: 100\n",
      "Reference Point: [2.2170968676925815, 311.0]\n",
      "Hypervolume: 114.314438705\n",
      "\n",
      "Run: AWiGr9SuMEaT9KPSeNw7 | method: BOGP | seed: 12 | number of documents/evaluations: 100\n",
      "Reference Point: [2.2170968676925815, 311.0]\n",
      "Hypervolume: 111.059788717\n",
      "\n",
      "Run: AWiGr-giMEaT9KPSeNw8 | method: BOGP | seed: 13 | number of documents/evaluations: 100\n",
      "Reference Point: [2.2170968676925815, 311.0]\n",
      "Hypervolume: 113.883094058\n",
      "\n",
      "Run: AWiGr_vzMEaT9KPSeNzb | method: BOGP | seed: 14 | number of documents/evaluations: 100\n",
      "Reference Point: [2.2170968676925815, 311.0]\n",
      "Hypervolume: 117.240276051\n",
      "\n",
      "Run: AWiGsA9uMEaT9KPSeNzc | method: BOGP | seed: 15 | number of documents/evaluations: 100\n",
      "Reference Point: [2.2170968676925815, 311.0]\n",
      "Hypervolume: 110.883428183\n",
      "\n",
      "Run: AWiPwLKRMEaT9KPSnnRq | method: BOGP | seed: 16 | number of documents/evaluations: 100\n",
      "Reference Point: [2.2170968676925815, 311.0]\n",
      "Hypervolume: 114.1787301\n",
      "\n",
      "Run: AWiPwL7nMEaT9KPSnnRr | method: BOGP | seed: 17 | number of documents/evaluations: 100\n",
      "Reference Point: [2.2170968676925815, 311.0]\n",
      "Hypervolume: 114.161972357\n",
      "\n",
      "Run: AWiPwPmjMEaT9KPSnnXC | method: BOGP | seed: 18 | number of documents/evaluations: 100\n",
      "Reference Point: [2.2170968676925815, 311.0]\n",
      "Hypervolume: 110.151655821\n",
      "\n",
      "Run: AWiPwTQQMEaT9KPSnnZu | method: BOGP | seed: 19 | number of documents/evaluations: 100\n",
      "Reference Point: [2.2170968676925815, 311.0]\n",
      "Hypervolume: 117.576155593\n",
      "\n",
      "Run: AWiPwW67MEaT9KPSnnfF | method: BOGP | seed: 20 | number of documents/evaluations: 100\n",
      "Reference Point: [2.2170968676925815, 311.0]\n",
      "Hypervolume: 112.105003708\n",
      "\n",
      "Run: AWiPwalpMEaT9KPSnnhx | method: BOGP | seed: 21 | number of documents/evaluations: 100\n",
      "Reference Point: [2.2170968676925815, 311.0]\n",
      "Hypervolume: 115.135743036\n",
      "\n",
      "Run: AWiPwePgMEaT9KPSnnnI | method: BOGP | seed: 22 | number of documents/evaluations: 100\n",
      "Reference Point: [2.2170968676925815, 311.0]\n",
      "Hypervolume: 111.013679298\n",
      "\n",
      "Run: AWiPwh6eMEaT9KPSnnp0 | method: BOGP | seed: 23 | number of documents/evaluations: 100\n",
      "Reference Point: [2.2170968676925815, 311.0]\n",
      "Hypervolume: 112.642032211\n",
      "\n",
      "Run: AWiPwll1MEaT9KPSnnvL | method: BOGP | seed: 24 | number of documents/evaluations: 100\n",
      "Reference Point: [2.2170968676925815, 311.0]\n",
      "Hypervolume: 113.541313694\n",
      "\n",
      "Run: AWiPwpQiMEaT9KPSnnx3 | method: BOGP | seed: 25 | number of documents/evaluations: 100\n",
      "Reference Point: [2.2170968676925815, 311.0]\n",
      "Hypervolume: 108.040770032\n",
      "\n",
      "Run: AWiPws7FMEaT9KPSnn3O | method: BOGP | seed: 26 | number of documents/evaluations: 100\n",
      "Reference Point: [2.2170968676925815, 311.0]\n",
      "Hypervolume: 107.328231104\n",
      "\n",
      "Run: AWiPwwmaMEaT9KPSnn56 | method: BOGP | seed: 27 | number of documents/evaluations: 100\n",
      "Reference Point: [2.2170968676925815, 311.0]\n",
      "Hypervolume: 111.006953967\n",
      "\n",
      "Run: AWiPw0QRMEaT9KPSnn_R | method: BOGP | seed: 28 | number of documents/evaluations: 100\n",
      "Reference Point: [2.2170968676925815, 311.0]\n",
      "Hypervolume: 106.994347702\n",
      "\n",
      "Run: AWiPw36tMEaT9KPSnoB9 | method: BOGP | seed: 29 | number of documents/evaluations: 100\n",
      "Reference Point: [2.2170968676925815, 311.0]\n",
      "Hypervolume: 115.848542519\n",
      "\n",
      "Run: AWiPw7l8MEaT9KPSnoHU | method: BOGP | seed: 30 | number of documents/evaluations: 100\n",
      "Reference Point: [2.2170968676925815, 311.0]\n",
      "Hypervolume: 109.016729256\n"
     ]
    },
    {
     "data": {
      "text/markdown": [
       "<span style='color:red'>===========================================================</span>"
      ],
      "text/plain": [
       "<IPython.core.display.Markdown object>"
      ]
     },
     "metadata": {},
     "output_type": "display_data"
    },
    {
     "name": "stdout",
     "output_type": "stream",
     "text": [
      "\n",
      "Run: AWiPw8d-MEaT9KPSnoHV | method: BOGP | seed: 1 | number of documents/evaluations: 100\n",
      "Reference Point: [2.2170968676925815, 311.0]\n",
      "Hypervolume: 74.9449689986\n",
      "\n",
      "Run: AWiPw9GsMEaT9KPSnoKC | method: BOGP | seed: 2 | number of documents/evaluations: 100\n",
      "Reference Point: [2.2170968676925815, 311.0]\n",
      "Hypervolume: 85.7652519866\n",
      "\n",
      "Run: AWiPxAxeMEaT9KPSnoMv | method: BOGP | seed: 3 | number of documents/evaluations: 100\n",
      "Reference Point: [2.2170968676925815, 311.0]\n",
      "Hypervolume: 72.8192812275\n",
      "\n",
      "Run: AWiPxEcXMEaT9KPSnoSI | method: BOGP | seed: 4 | number of documents/evaluations: 100\n",
      "Reference Point: [2.2170968676925815, 311.0]\n",
      "Hypervolume: 81.8923137854\n",
      "\n",
      "Run: AWiPxIHJMEaT9KPSnoU1 | method: BOGP | seed: 5 | number of documents/evaluations: 100\n",
      "Reference Point: [2.2170968676925815, 311.0]\n",
      "Hypervolume: 79.3369437878\n",
      "\n",
      "Run: AWiPxLxZMEaT9KPSnoaO | method: BOGP | seed: 6 | number of documents/evaluations: 100\n",
      "Reference Point: [2.2170968676925815, 311.0]\n",
      "Hypervolume: 82.7342235715\n",
      "\n",
      "Run: AWiPxPb9MEaT9KPSnoc7 | method: BOGP | seed: 7 | number of documents/evaluations: 100\n",
      "Reference Point: [2.2170968676925815, 311.0]\n",
      "Hypervolume: 81.5052902408\n",
      "\n",
      "Run: AWiPxTF3MEaT9KPSnoiU | method: BOGP | seed: 8 | number of documents/evaluations: 100\n",
      "Reference Point: [2.2170968676925815, 311.0]\n",
      "Hypervolume: 78.4136889589\n",
      "\n",
      "Run: AWiPxWxXMEaT9KPSnolB | method: BOGP | seed: 9 | number of documents/evaluations: 100\n",
      "Reference Point: [2.2170968676925815, 311.0]\n",
      "Hypervolume: 85.1919420403\n",
      "\n",
      "Run: AWiPxacAMEaT9KPSnoqa | method: BOGP | seed: 10 | number of documents/evaluations: 100\n",
      "Reference Point: [2.2170968676925815, 311.0]\n",
      "Hypervolume: 87.9074064462\n",
      "\n",
      "Run: AWiPxeG7MEaT9KPSnotH | method: BOGP | seed: 11 | number of documents/evaluations: 100\n",
      "Reference Point: [2.2170968676925815, 311.0]\n",
      "Hypervolume: 84.7957177516\n",
      "\n",
      "Run: AWiPxhxwMEaT9KPSnoyg | method: BOGP | seed: 12 | number of documents/evaluations: 100\n",
      "Reference Point: [2.2170968676925815, 311.0]\n",
      "Hypervolume: 84.5906604027\n",
      "\n",
      "Run: AWiPxldKMEaT9KPSno1N | method: BOGP | seed: 13 | number of documents/evaluations: 100\n",
      "Reference Point: [2.2170968676925815, 311.0]\n",
      "Hypervolume: 76.2439154851\n",
      "\n",
      "Run: AWiPxpH2MEaT9KPSno6m | method: BOGP | seed: 14 | number of documents/evaluations: 100\n",
      "Reference Point: [2.2170968676925815, 311.0]\n",
      "Hypervolume: 93.1423542787\n",
      "\n",
      "Run: AWiPxswvMEaT9KPSno9T | method: BOGP | seed: 15 | number of documents/evaluations: 100\n",
      "Reference Point: [2.2170968676925815, 311.0]\n",
      "Hypervolume: 78.1636265141\n",
      "\n",
      "Run: AWiPyoAGMEaT9KPSnp90 | method: BOGP | seed: 16 | number of documents/evaluations: 100\n",
      "Reference Point: [2.2170968676925815, 311.0]\n",
      "Hypervolume: 81.6480661931\n",
      "\n",
      "Run: AWiPypBJMEaT9KPSnqAh | method: BOGP | seed: 17 | number of documents/evaluations: 100\n",
      "Reference Point: [2.2170968676925815, 311.0]\n",
      "Hypervolume: 80.3897962907\n",
      "\n",
      "Run: AWiPysrMMEaT9KPSnqDO | method: BOGP | seed: 18 | number of documents/evaluations: 100\n",
      "Reference Point: [2.2170968676925815, 311.0]\n",
      "Hypervolume: 83.0256898969\n",
      "\n",
      "Run: AWiPywV1MEaT9KPSnqIn | method: BOGP | seed: 19 | number of documents/evaluations: 100\n",
      "Reference Point: [2.2170968676925815, 311.0]\n",
      "Hypervolume: 82.2104063762\n",
      "\n",
      "Run: AWiPyz_4MEaT9KPSnqLU | method: BOGP | seed: 20 | number of documents/evaluations: 100\n",
      "Reference Point: [2.2170968676925815, 311.0]\n",
      "Hypervolume: 91.8772058612\n",
      "\n",
      "Run: AWiPy3qmMEaT9KPSnqQt | method: BOGP | seed: 21 | number of documents/evaluations: 100\n",
      "Reference Point: [2.2170968676925815, 311.0]\n",
      "Hypervolume: 76.2127120528\n",
      "\n",
      "Run: AWiPy7UjMEaT9KPSnqTa | method: BOGP | seed: 22 | number of documents/evaluations: 100\n",
      "Reference Point: [2.2170968676925815, 311.0]\n",
      "Hypervolume: 87.8309995551\n",
      "\n",
      "Run: AWiPy_AHMEaT9KPSnqYz | method: BOGP | seed: 23 | number of documents/evaluations: 100\n",
      "Reference Point: [2.2170968676925815, 311.0]\n",
      "Hypervolume: 84.10655572\n",
      "\n",
      "Run: AWiPzCrPMEaT9KPSnqbg | method: BOGP | seed: 24 | number of documents/evaluations: 100\n",
      "Reference Point: [2.2170968676925815, 311.0]\n",
      "Hypervolume: 81.9544328628\n",
      "\n",
      "Run: AWiPzGVOMEaT9KPSnqg5 | method: BOGP | seed: 25 | number of documents/evaluations: 100\n",
      "Reference Point: [2.2170968676925815, 311.0]\n",
      "Hypervolume: 81.0871607069\n",
      "\n",
      "Run: AWiPzKAOMEaT9KPSnqjm | method: BOGP | seed: 26 | number of documents/evaluations: 100\n",
      "Reference Point: [2.2170968676925815, 311.0]\n",
      "Hypervolume: 77.9745196288\n",
      "\n",
      "Run: AWiPzNq9MEaT9KPSnqo_ | method: BOGP | seed: 27 | number of documents/evaluations: 100\n",
      "Reference Point: [2.2170968676925815, 311.0]\n",
      "Hypervolume: 85.1232966362\n",
      "\n",
      "Run: AWiPzRV1MEaT9KPSnqrs | method: BOGP | seed: 28 | number of documents/evaluations: 100\n",
      "Reference Point: [2.2170968676925815, 311.0]\n",
      "Hypervolume: 82.8989647925\n",
      "\n",
      "Run: AWiPzVAVMEaT9KPSnqxF | method: BOGP | seed: 29 | number of documents/evaluations: 100\n",
      "Reference Point: [2.2170968676925815, 311.0]\n",
      "Hypervolume: 80.8386869787\n",
      "\n",
      "Run: AWiPzYr_MEaT9KPSnqzy | method: BOGP | seed: 30 | number of documents/evaluations: 100\n",
      "Reference Point: [2.2170968676925815, 311.0]\n",
      "Hypervolume: 88.1745852167\n"
     ]
    },
    {
     "data": {
      "text/markdown": [
       "<span style='color:red'>===========================================================</span>"
      ],
      "text/plain": [
       "<IPython.core.display.Markdown object>"
      ]
     },
     "metadata": {},
     "output_type": "display_data"
    },
    {
     "name": "stdout",
     "output_type": "stream",
     "text": [
      "\n",
      "Run: AWiBO2cTMEaT9KPSY8Tc | method: NoveltySearch | seed: 1 | number of documents/evaluations: 100\n",
      "Reference Point: [2.2170968676925815, 311.0]\n",
      "Hypervolume: 174.252561247\n",
      "\n",
      "Run: AWiBO3mbMEaT9KPSY8Te | method: NoveltySearch | seed: 2 | number of documents/evaluations: 100\n",
      "Reference Point: [2.2170968676925815, 311.0]\n",
      "Hypervolume: 169.268683603\n",
      "\n",
      "Run: AWiBO40hMEaT9KPSY8V1 | method: NoveltySearch | seed: 3 | number of documents/evaluations: 100\n",
      "Reference Point: [2.2170968676925815, 311.0]\n",
      "Hypervolume: 165.860045182\n",
      "\n",
      "Run: AWiBO6CoMEaT9KPSY8V3 | method: NoveltySearch | seed: 4 | number of documents/evaluations: 100\n",
      "Reference Point: [2.2170968676925815, 311.0]\n",
      "Hypervolume: 170.837150365\n",
      "\n",
      "Run: AWiBO7RjMEaT9KPSY8YO | method: NoveltySearch | seed: 5 | number of documents/evaluations: 100\n",
      "Reference Point: [2.2170968676925815, 311.0]\n",
      "Hypervolume: 171.752310577\n",
      "\n",
      "Run: AWiBO8fmMEaT9KPSY8YQ | method: NoveltySearch | seed: 6 | number of documents/evaluations: 100\n",
      "Reference Point: [2.2170968676925815, 311.0]\n",
      "Hypervolume: 161.446920204\n",
      "\n",
      "Run: AWiBO9uWMEaT9KPSY8an | method: NoveltySearch | seed: 7 | number of documents/evaluations: 100\n",
      "Reference Point: [2.2170968676925815, 311.0]\n",
      "Hypervolume: 172.152939317\n",
      "\n",
      "Run: AWiBO-8IMEaT9KPSY8ap | method: NoveltySearch | seed: 8 | number of documents/evaluations: 100\n",
      "Reference Point: [2.2170968676925815, 311.0]\n",
      "Hypervolume: 170.343380832\n",
      "\n",
      "Run: AWiBPALRMEaT9KPSY8dA | method: NoveltySearch | seed: 9 | number of documents/evaluations: 100\n",
      "Reference Point: [2.2170968676925815, 311.0]\n",
      "Hypervolume: 174.300998436\n",
      "\n",
      "Run: AWiBPBZuMEaT9KPSY8dC | method: NoveltySearch | seed: 10 | number of documents/evaluations: 100\n",
      "Reference Point: [2.2170968676925815, 311.0]\n",
      "Hypervolume: 170.251872371\n",
      "\n",
      "Run: AWiBPCpdMEaT9KPSY8fZ | method: NoveltySearch | seed: 11 | number of documents/evaluations: 100\n",
      "Reference Point: [2.2170968676925815, 311.0]\n",
      "Hypervolume: 168.24365942\n",
      "\n",
      "Run: AWiBPD3dMEaT9KPSY8fb | method: NoveltySearch | seed: 12 | number of documents/evaluations: 100\n",
      "Reference Point: [2.2170968676925815, 311.0]\n",
      "Hypervolume: 176.429528193\n",
      "\n",
      "Run: AWiBPFE1MEaT9KPSY8hy | method: NoveltySearch | seed: 13 | number of documents/evaluations: 100\n",
      "Reference Point: [2.2170968676925815, 311.0]\n",
      "Hypervolume: 165.435093767\n",
      "\n",
      "Run: AWiBPGTAMEaT9KPSY8h0 | method: NoveltySearch | seed: 14 | number of documents/evaluations: 100\n",
      "Reference Point: [2.2170968676925815, 311.0]\n",
      "Hypervolume: 175.184797322\n",
      "\n",
      "Run: AWiBPHh6MEaT9KPSY8kL | method: NoveltySearch | seed: 15 | number of documents/evaluations: 100\n",
      "Reference Point: [2.2170968676925815, 311.0]\n",
      "Hypervolume: 170.266625258\n",
      "\n",
      "Run: AWiBSgcrMEaT9KPSY_2M | method: NoveltySearch | seed: 16 | number of documents/evaluations: 100\n",
      "Reference Point: [2.2170968676925815, 311.0]\n",
      "Hypervolume: 170.109353881\n",
      "\n",
      "Run: AWiBShrOMEaT9KPSY_2O | method: NoveltySearch | seed: 17 | number of documents/evaluations: 100\n",
      "Reference Point: [2.2170968676925815, 311.0]\n",
      "Hypervolume: 172.743805798\n",
      "\n",
      "Run: AWiBSi4hMEaT9KPSY_4l | method: NoveltySearch | seed: 18 | number of documents/evaluations: 100\n",
      "Reference Point: [2.2170968676925815, 311.0]\n",
      "Hypervolume: 171.584087834\n",
      "\n",
      "Run: AWiBSkHuMEaT9KPSY_4n | method: NoveltySearch | seed: 19 | number of documents/evaluations: 100\n",
      "Reference Point: [2.2170968676925815, 311.0]\n",
      "Hypervolume: 173.194633957\n",
      "\n",
      "Run: AWiBSlVRMEaT9KPSY_6- | method: NoveltySearch | seed: 20 | number of documents/evaluations: 100\n",
      "Reference Point: [2.2170968676925815, 311.0]\n",
      "Hypervolume: 174.53574106\n",
      "\n",
      "Run: AWiBSmkhMEaT9KPSY_7A | method: NoveltySearch | seed: 21 | number of documents/evaluations: 100\n",
      "Reference Point: [2.2170968676925815, 311.0]\n",
      "Hypervolume: 171.44309095\n",
      "\n",
      "Run: AWiBSnydMEaT9KPSY_9X | method: NoveltySearch | seed: 22 | number of documents/evaluations: 100\n",
      "Reference Point: [2.2170968676925815, 311.0]\n",
      "Hypervolume: 170.423168287\n",
      "\n",
      "Run: AWiBSpCBMEaT9KPSY_9Z | method: NoveltySearch | seed: 23 | number of documents/evaluations: 100\n",
      "Reference Point: [2.2170968676925815, 311.0]\n",
      "Hypervolume: 169.725362984\n",
      "\n",
      "Run: AWiBSqPVMEaT9KPSY__w | method: NoveltySearch | seed: 24 | number of documents/evaluations: 100\n",
      "Reference Point: [2.2170968676925815, 311.0]\n",
      "Hypervolume: 164.678217678\n",
      "\n",
      "Run: AWiBSrfFMEaT9KPSY__y | method: NoveltySearch | seed: 25 | number of documents/evaluations: 100\n",
      "Reference Point: [2.2170968676925815, 311.0]\n",
      "Hypervolume: 169.200220682\n",
      "\n",
      "Run: AWiBSssqMEaT9KPSZACJ | method: NoveltySearch | seed: 26 | number of documents/evaluations: 100\n",
      "Reference Point: [2.2170968676925815, 311.0]\n",
      "Hypervolume: 170.825578494\n",
      "\n",
      "Run: AWiBSt7DMEaT9KPSZACL | method: NoveltySearch | seed: 27 | number of documents/evaluations: 100\n",
      "Reference Point: [2.2170968676925815, 311.0]\n",
      "Hypervolume: 170.628507414\n",
      "\n",
      "Run: AWiBSvKHMEaT9KPSZAEi | method: NoveltySearch | seed: 28 | number of documents/evaluations: 100\n",
      "Reference Point: [2.2170968676925815, 311.0]\n",
      "Hypervolume: 170.536976542\n",
      "\n",
      "Run: AWiBSwYUMEaT9KPSZAEk | method: NoveltySearch | seed: 29 | number of documents/evaluations: 100\n",
      "Reference Point: [2.2170968676925815, 311.0]\n",
      "Hypervolume: 168.941740601\n",
      "\n",
      "Run: AWiBSxm8MEaT9KPSZAG7 | method: NoveltySearch | seed: 30 | number of documents/evaluations: 100\n",
      "Reference Point: [2.2170968676925815, 311.0]\n",
      "Hypervolume: 168.720948162\n"
     ]
    },
    {
     "data": {
      "text/markdown": [
       "<span style='color:red'>===========================================================</span>"
      ],
      "text/plain": [
       "<IPython.core.display.Markdown object>"
      ]
     },
     "metadata": {},
     "output_type": "display_data"
    },
    {
     "name": "stdout",
     "output_type": "stream",
     "text": [
      "\n",
      "Run: AWh7NW7lMEaT9KPSTRgi | method: NoveltySearch | seed: 1 | number of documents/evaluations: 100\n",
      "Reference Point: [2.2170968676925815, 311.0]\n",
      "Hypervolume: 111.331489513\n",
      "\n",
      "Run: AWh7NXJEMEaT9KPSTRgk | method: NoveltySearch | seed: 2 | number of documents/evaluations: 100\n",
      "Reference Point: [2.2170968676925815, 311.0]\n",
      "Hypervolume: 117.644441775\n",
      "\n",
      "Run: AWh7NZlOMEaT9KPSTRi4 | method: NoveltySearch | seed: 3 | number of documents/evaluations: 100\n",
      "Reference Point: [2.2170968676925815, 311.0]\n",
      "Hypervolume: 112.593957148\n",
      "\n",
      "Run: AWh7NcB4MEaT9KPSTRlL | method: NoveltySearch | seed: 4 | number of documents/evaluations: 100\n",
      "Reference Point: [2.2170968676925815, 311.0]\n",
      "Hypervolume: 108.151969124\n",
      "\n",
      "Run: AWh7NedyMEaT9KPSTRne | method: NoveltySearch | seed: 5 | number of documents/evaluations: 100\n",
      "Reference Point: [2.2170968676925815, 311.0]\n",
      "Hypervolume: 106.540639487\n",
      "\n",
      "Run: AWh7Ng64MEaT9KPSTRpx | method: NoveltySearch | seed: 6 | number of documents/evaluations: 100\n",
      "Reference Point: [2.2170968676925815, 311.0]\n",
      "Hypervolume: 106.431404437\n",
      "\n",
      "Run: AWh7NjXjMEaT9KPSTRsE | method: NoveltySearch | seed: 7 | number of documents/evaluations: 100\n",
      "Reference Point: [2.2170968676925815, 311.0]\n",
      "Hypervolume: 114.675293144\n",
      "\n",
      "Run: AWh7Nl0oMEaT9KPSTRuX | method: NoveltySearch | seed: 8 | number of documents/evaluations: 100\n",
      "Reference Point: [2.2170968676925815, 311.0]\n",
      "Hypervolume: 117.272263328\n",
      "\n",
      "Run: AWh7NoRRMEaT9KPSTRwq | method: NoveltySearch | seed: 9 | number of documents/evaluations: 100\n",
      "Reference Point: [2.2170968676925815, 311.0]\n",
      "Hypervolume: 111.835658102\n",
      "\n",
      "Run: AWh7NqtaMEaT9KPSTRy9 | method: NoveltySearch | seed: 10 | number of documents/evaluations: 100\n",
      "Reference Point: [2.2170968676925815, 311.0]\n",
      "Hypervolume: 113.475366759\n",
      "\n",
      "Run: AWh7NtJvMEaT9KPSTR1Q | method: NoveltySearch | seed: 11 | number of documents/evaluations: 100\n",
      "Reference Point: [2.2170968676925815, 311.0]\n",
      "Hypervolume: 118.105900894\n",
      "\n",
      "Run: AWh7Nvm4MEaT9KPSTR3j | method: NoveltySearch | seed: 12 | number of documents/evaluations: 100\n",
      "Reference Point: [2.2170968676925815, 311.0]\n",
      "Hypervolume: 119.239349762\n",
      "\n",
      "Run: AWh7NyC5MEaT9KPSTR52 | method: NoveltySearch | seed: 13 | number of documents/evaluations: 100\n",
      "Reference Point: [2.2170968676925815, 311.0]\n",
      "Hypervolume: 111.316417454\n",
      "\n",
      "Run: AWh7N0feMEaT9KPSTR8J | method: NoveltySearch | seed: 14 | number of documents/evaluations: 100\n",
      "Reference Point: [2.2170968676925815, 311.0]\n",
      "Hypervolume: 115.640582751\n",
      "\n",
      "Run: AWh7N28vMEaT9KPSTR-c | method: NoveltySearch | seed: 15 | number of documents/evaluations: 100\n",
      "Reference Point: [2.2170968676925815, 311.0]\n",
      "Hypervolume: 107.231496808\n",
      "\n",
      "Run: AWiF7DYLMEaT9KPSdjiz | method: NoveltySearch | seed: 16 | number of documents/evaluations: 100\n",
      "Reference Point: [2.2170968676925815, 311.0]\n",
      "Hypervolume: 106.039810474\n",
      "\n",
      "Run: AWiF7DYKMEaT9KPSdjiy | method: NoveltySearch | seed: 17 | number of documents/evaluations: 100\n",
      "Reference Point: [2.2170968676925815, 311.0]\n",
      "Hypervolume: 119.435398805\n",
      "\n",
      "Run: AWiF7FKNMEaT9KPSdjlP | method: NoveltySearch | seed: 18 | number of documents/evaluations: 100\n",
      "Reference Point: [2.2170968676925815, 311.0]\n",
      "Hypervolume: 107.932444704\n",
      "\n",
      "Run: AWiF7Hm9MEaT9KPSdjns | method: NoveltySearch | seed: 19 | number of documents/evaluations: 100\n",
      "Reference Point: [2.2170968676925815, 311.0]\n",
      "Hypervolume: 107.426407087\n",
      "\n",
      "Run: AWiF7KDkMEaT9KPSdjqJ | method: NoveltySearch | seed: 20 | number of documents/evaluations: 100\n",
      "Reference Point: [2.2170968676925815, 311.0]\n",
      "Hypervolume: 116.417999528\n",
      "\n",
      "Run: AWiF7MfjMEaT9KPSdjsm | method: NoveltySearch | seed: 21 | number of documents/evaluations: 100\n",
      "Reference Point: [2.2170968676925815, 311.0]\n",
      "Hypervolume: 118.749882342\n",
      "\n",
      "Run: AWiF7O76MEaT9KPSdjvD | method: NoveltySearch | seed: 22 | number of documents/evaluations: 100\n",
      "Reference Point: [2.2170968676925815, 311.0]\n",
      "Hypervolume: 113.032047104\n",
      "\n",
      "Run: AWiF7RXyMEaT9KPSdjxg | method: NoveltySearch | seed: 23 | number of documents/evaluations: 100\n",
      "Reference Point: [2.2170968676925815, 311.0]\n",
      "Hypervolume: 111.801832467\n",
      "\n",
      "Run: AWiF7T0bMEaT9KPSdjz9 | method: NoveltySearch | seed: 24 | number of documents/evaluations: 100\n",
      "Reference Point: [2.2170968676925815, 311.0]\n",
      "Hypervolume: 117.401523418\n",
      "\n",
      "Run: AWiF7WSGMEaT9KPSdj2a | method: NoveltySearch | seed: 25 | number of documents/evaluations: 100\n",
      "Reference Point: [2.2170968676925815, 311.0]\n",
      "Hypervolume: 108.211081994\n",
      "\n",
      "Run: AWiF7YvLMEaT9KPSdj43 | method: NoveltySearch | seed: 26 | number of documents/evaluations: 100\n",
      "Reference Point: [2.2170968676925815, 311.0]\n",
      "Hypervolume: 109.58992378\n",
      "\n",
      "Run: AWiF7bLeMEaT9KPSdj7U | method: NoveltySearch | seed: 27 | number of documents/evaluations: 100\n",
      "Reference Point: [2.2170968676925815, 311.0]\n",
      "Hypervolume: 113.186688447\n",
      "\n",
      "Run: AWiF7dnwMEaT9KPSdj9x | method: NoveltySearch | seed: 28 | number of documents/evaluations: 100\n",
      "Reference Point: [2.2170968676925815, 311.0]\n",
      "Hypervolume: 112.003441348\n",
      "\n",
      "Run: AWiF7gEQMEaT9KPSdkAO | method: NoveltySearch | seed: 29 | number of documents/evaluations: 100\n",
      "Reference Point: [2.2170968676925815, 311.0]\n",
      "Hypervolume: 123.73833127\n",
      "\n",
      "Run: AWiF7ig4MEaT9KPSdkCr | method: NoveltySearch | seed: 30 | number of documents/evaluations: 100\n",
      "Reference Point: [2.2170968676925815, 311.0]\n",
      "Hypervolume: 110.70844969\n"
     ]
    },
    {
     "data": {
      "text/markdown": [
       "<span style='color:red'>===========================================================</span>"
      ],
      "text/plain": [
       "<IPython.core.display.Markdown object>"
      ]
     },
     "metadata": {},
     "output_type": "display_data"
    },
    {
     "name": "stdout",
     "output_type": "stream",
     "text": [
      "\n",
      "Run: AWh2_TDsMEaT9KPSPdeZ | method: NoveltySearch | seed: 1 | number of documents/evaluations: 100\n",
      "Reference Point: [2.2170968676925815, 311.0]\n",
      "Hypervolume: 86.0813375546\n",
      "\n",
      "Run: AWh2_TNfMEaT9KPSPdea | method: NoveltySearch | seed: 2 | number of documents/evaluations: 100\n",
      "Reference Point: [2.2170968676925815, 311.0]\n",
      "Hypervolume: 93.3595650641\n",
      "\n",
      "Run: AWh2_VqXMEaT9KPSPdgl | method: NoveltySearch | seed: 3 | number of documents/evaluations: 100\n",
      "Reference Point: [2.2170968676925815, 311.0]\n",
      "Hypervolume: 76.1734316641\n",
      "\n",
      "Run: AWh2_YG3MEaT9KPSPdiw | method: NoveltySearch | seed: 4 | number of documents/evaluations: 100\n",
      "Reference Point: [2.2170968676925815, 311.0]\n",
      "Hypervolume: 82.5490606888\n",
      "\n",
      "Run: AWh2_ajjMEaT9KPSPdk7 | method: NoveltySearch | seed: 5 | number of documents/evaluations: 100\n",
      "Reference Point: [2.2170968676925815, 311.0]\n",
      "Hypervolume: 78.7634669836\n",
      "\n",
      "Run: AWh2_dAeMEaT9KPSPdnG | method: NoveltySearch | seed: 6 | number of documents/evaluations: 100\n",
      "Reference Point: [2.2170968676925815, 311.0]\n",
      "Hypervolume: 85.4173651687\n",
      "\n",
      "Run: AWh2_fcoMEaT9KPSPdpR | method: NoveltySearch | seed: 7 | number of documents/evaluations: 100\n",
      "Reference Point: [2.2170968676925815, 311.0]\n",
      "Hypervolume: 79.6055256443\n",
      "\n",
      "Run: AWh2_h5MMEaT9KPSPdrc | method: NoveltySearch | seed: 8 | number of documents/evaluations: 100\n",
      "Reference Point: [2.2170968676925815, 311.0]\n",
      "Hypervolume: 81.632718052\n",
      "\n",
      "Run: AWh2_kWWMEaT9KPSPdtn | method: NoveltySearch | seed: 9 | number of documents/evaluations: 100\n",
      "Reference Point: [2.2170968676925815, 311.0]\n",
      "Hypervolume: 83.5438347595\n",
      "\n",
      "Run: AWh2_mzQMEaT9KPSPdvy | method: NoveltySearch | seed: 10 | number of documents/evaluations: 100\n",
      "Reference Point: [2.2170968676925815, 311.0]\n",
      "Hypervolume: 82.6420292334\n",
      "\n",
      "Run: AWh2_pPHMEaT9KPSPdx9 | method: NoveltySearch | seed: 11 | number of documents/evaluations: 100\n",
      "Reference Point: [2.2170968676925815, 311.0]\n",
      "Hypervolume: 85.4941141033\n",
      "\n",
      "Run: AWh2_rsSMEaT9KPSPd0I | method: NoveltySearch | seed: 12 | number of documents/evaluations: 100\n",
      "Reference Point: [2.2170968676925815, 311.0]\n",
      "Hypervolume: 85.3534208057\n",
      "\n",
      "Run: AWh2_uIUMEaT9KPSPd2T | method: NoveltySearch | seed: 13 | number of documents/evaluations: 100\n",
      "Reference Point: [2.2170968676925815, 311.0]\n",
      "Hypervolume: 85.2013777394\n",
      "\n",
      "Run: AWh2_wkzMEaT9KPSPd4e | method: NoveltySearch | seed: 14 | number of documents/evaluations: 100\n",
      "Reference Point: [2.2170968676925815, 311.0]\n",
      "Hypervolume: 87.7367609721\n",
      "\n",
      "Run: AWh2_zB_MEaT9KPSPd6p | method: NoveltySearch | seed: 15 | number of documents/evaluations: 100\n",
      "Reference Point: [2.2170968676925815, 311.0]\n",
      "Hypervolume: 86.1731134398\n",
      "\n",
      "Run: AWiF75q5MEaT9KPSdkYp | method: NoveltySearch | seed: 16 | number of documents/evaluations: 100\n",
      "Reference Point: [2.2170968676925815, 311.0]\n",
      "Hypervolume: 86.2231287131\n",
      "\n",
      "Run: AWiF76SrMEaT9KPSdkYq | method: NoveltySearch | seed: 17 | number of documents/evaluations: 100\n",
      "Reference Point: [2.2170968676925815, 311.0]\n",
      "Hypervolume: 85.5997157686\n",
      "\n",
      "Run: AWiF799vMEaT9KPSdkdj | method: NoveltySearch | seed: 18 | number of documents/evaluations: 100\n",
      "Reference Point: [2.2170968676925815, 311.0]\n",
      "Hypervolume: 84.0224312551\n",
      "\n",
      "Run: AWiF8BovMEaT9KPSdkgA | method: NoveltySearch | seed: 19 | number of documents/evaluations: 100\n",
      "Reference Point: [2.2170968676925815, 311.0]\n",
      "Hypervolume: 86.1078907593\n",
      "\n",
      "Run: AWiF8FRnMEaT9KPSdkk5 | method: NoveltySearch | seed: 20 | number of documents/evaluations: 100\n",
      "Reference Point: [2.2170968676925815, 311.0]\n",
      "Hypervolume: 83.9458079176\n",
      "\n",
      "Run: AWiF8I9jMEaT9KPSdknW | method: NoveltySearch | seed: 21 | number of documents/evaluations: 100\n",
      "Reference Point: [2.2170968676925815, 311.0]\n",
      "Hypervolume: 91.5527361255\n",
      "\n",
      "Run: AWiF8MoTMEaT9KPSdksP | method: NoveltySearch | seed: 22 | number of documents/evaluations: 100\n",
      "Reference Point: [2.2170968676925815, 311.0]\n",
      "Hypervolume: 84.7139525145\n",
      "\n",
      "Run: AWiF8QSkMEaT9KPSdkus | method: NoveltySearch | seed: 23 | number of documents/evaluations: 100\n",
      "Reference Point: [2.2170968676925815, 311.0]\n",
      "Hypervolume: 83.8378430563\n",
      "\n",
      "Run: AWiF8T-IMEaT9KPSdkzl | method: NoveltySearch | seed: 24 | number of documents/evaluations: 100\n",
      "Reference Point: [2.2170968676925815, 311.0]\n",
      "Hypervolume: 84.7025780787\n",
      "\n",
      "Run: AWiF8XoNMEaT9KPSdk2C | method: NoveltySearch | seed: 25 | number of documents/evaluations: 100\n",
      "Reference Point: [2.2170968676925815, 311.0]\n",
      "Hypervolume: 84.9340412107\n",
      "\n",
      "Run: AWiF8bSuMEaT9KPSdk67 | method: NoveltySearch | seed: 26 | number of documents/evaluations: 100\n",
      "Reference Point: [2.2170968676925815, 311.0]\n",
      "Hypervolume: 72.348701205\n",
      "\n",
      "Run: AWiF8e97MEaT9KPSdk9Y | method: NoveltySearch | seed: 27 | number of documents/evaluations: 100\n",
      "Reference Point: [2.2170968676925815, 311.0]\n",
      "Hypervolume: 82.6110392277\n",
      "\n",
      "Run: AWiF8in8MEaT9KPSdlCR | method: NoveltySearch | seed: 28 | number of documents/evaluations: 100\n",
      "Reference Point: [2.2170968676925815, 311.0]\n",
      "Hypervolume: 86.2021606653\n",
      "\n",
      "Run: AWiF8mSqMEaT9KPSdlEu | method: NoveltySearch | seed: 29 | number of documents/evaluations: 100\n",
      "Reference Point: [2.2170968676925815, 311.0]\n",
      "Hypervolume: 90.0173446156\n",
      "\n",
      "Run: AWiF8p95MEaT9KPSdlJn | method: NoveltySearch | seed: 30 | number of documents/evaluations: 100\n",
      "Reference Point: [2.2170968676925815, 311.0]\n",
      "Hypervolume: 85.9647373661\n"
     ]
    },
    {
     "data": {
      "text/markdown": [
       "<span style='color:red'>===========================================================</span>"
      ],
      "text/plain": [
       "<IPython.core.display.Markdown object>"
      ]
     },
     "metadata": {},
     "output_type": "display_data"
    },
    {
     "name": "stdout",
     "output_type": "stream",
     "text": [
      "\n",
      "Run: AWiAMheKMEaT9KPSX8_E | method: NSGAII | seed: 2 | number of documents/evaluations: 100\n",
      "Reference Point: [2.2170968676925815, 311.0]\n",
      "Hypervolume: 171.771140699\n",
      "\n",
      "Run: AWiAMjobMEaT9KPSX9Bb | method: NSGAII | seed: 3 | number of documents/evaluations: 100\n",
      "Reference Point: [2.2170968676925815, 311.0]\n",
      "Hypervolume: 166.193193189\n",
      "\n",
      "Run: AWiAMmELMEaT9KPSX9Dy | method: NSGAII | seed: 4 | number of documents/evaluations: 100\n",
      "Reference Point: [2.2170968676925815, 311.0]\n",
      "Hypervolume: 173.394177531\n",
      "\n",
      "Run: AWiAMogrMEaT9KPSX9GJ | method: NSGAII | seed: 5 | number of documents/evaluations: 100\n",
      "Reference Point: [2.2170968676925815, 311.0]\n",
      "Hypervolume: 172.19224592\n",
      "\n",
      "Run: AWiAMq90MEaT9KPSX9If | method: NSGAII | seed: 6 | number of documents/evaluations: 100\n",
      "Reference Point: [2.2170968676925815, 311.0]\n",
      "Hypervolume: 171.390974704\n",
      "\n",
      "Run: AWiAMtY-MEaT9KPSX9K1 | method: NSGAII | seed: 7 | number of documents/evaluations: 100\n",
      "Reference Point: [2.2170968676925815, 311.0]\n",
      "Hypervolume: 171.002560054\n",
      "\n",
      "Run: AWiAMv2NMEaT9KPSX9NL | method: NSGAII | seed: 8 | number of documents/evaluations: 100\n",
      "Reference Point: [2.2170968676925815, 311.0]\n",
      "Hypervolume: 174.076723833\n",
      "\n",
      "Run: AWiAMyTBMEaT9KPSX9Ph | method: NSGAII | seed: 9 | number of documents/evaluations: 100\n",
      "Reference Point: [2.2170968676925815, 311.0]\n",
      "Hypervolume: 170.838674755\n",
      "\n",
      "Run: AWiAM0vMMEaT9KPSX9R3 | method: NSGAII | seed: 10 | number of documents/evaluations: 100\n",
      "Reference Point: [2.2170968676925815, 311.0]\n",
      "Hypervolume: 175.043762165\n",
      "\n",
      "Run: AWiAM3MUMEaT9KPSX9UN | method: NSGAII | seed: 11 | number of documents/evaluations: 100\n",
      "Reference Point: [2.2170968676925815, 311.0]\n",
      "Hypervolume: 171.491587521\n",
      "\n",
      "Run: AWiAM5oFMEaT9KPSX9Wj | method: NSGAII | seed: 12 | number of documents/evaluations: 100\n",
      "Reference Point: [2.2170968676925815, 311.0]\n",
      "Hypervolume: 174.99732861\n",
      "\n",
      "Run: AWiAM8FgMEaT9KPSX9Y5 | method: NSGAII | seed: 13 | number of documents/evaluations: 100\n",
      "Reference Point: [2.2170968676925815, 311.0]\n",
      "Hypervolume: 168.828286324\n",
      "\n",
      "Run: AWiAM-hyMEaT9KPSX9bP | method: NSGAII | seed: 14 | number of documents/evaluations: 100\n",
      "Reference Point: [2.2170968676925815, 311.0]\n",
      "Hypervolume: 175.403374709\n",
      "\n",
      "Run: AWiANA-TMEaT9KPSX9dl | method: NSGAII | seed: 15 | number of documents/evaluations: 100\n",
      "Reference Point: [2.2170968676925815, 311.0]\n",
      "Hypervolume: 174.86808663\n",
      "\n",
      "Run: AWiBI_mwMEaT9KPSY2qS | method: NSGAII | seed: 16 | number of documents/evaluations: 100\n",
      "Reference Point: [2.2170968676925815, 311.0]\n",
      "Hypervolume: 172.594848409\n",
      "\n",
      "Run: AWiBJDQzMEaT9KPSY2u- | method: NSGAII | seed: 17 | number of documents/evaluations: 100\n",
      "Reference Point: [2.2170968676925815, 311.0]\n",
      "Hypervolume: 174.409471896\n",
      "\n",
      "Run: AWiBJG66MEaT9KPSY2xW | method: NSGAII | seed: 18 | number of documents/evaluations: 100\n",
      "Reference Point: [2.2170968676925815, 311.0]\n",
      "Hypervolume: 170.237393733\n",
      "\n",
      "Run: AWiBJKlbMEaT9KPSY22C | method: NSGAII | seed: 19 | number of documents/evaluations: 100\n",
      "Reference Point: [2.2170968676925815, 311.0]\n",
      "Hypervolume: 175.749334365\n",
      "\n",
      "Run: AWiBJOQNMEaT9KPSY24a | method: NSGAII | seed: 20 | number of documents/evaluations: 100\n",
      "Reference Point: [2.2170968676925815, 311.0]\n",
      "Hypervolume: 172.732901021\n",
      "\n",
      "Run: AWiBJR6wMEaT9KPSY29G | method: NSGAII | seed: 21 | number of documents/evaluations: 100\n",
      "Reference Point: [2.2170968676925815, 311.0]\n",
      "Hypervolume: 171.856161203\n",
      "\n",
      "Run: AWiBJVk8MEaT9KPSY2_e | method: NSGAII | seed: 22 | number of documents/evaluations: 100\n",
      "Reference Point: [2.2170968676925815, 311.0]\n",
      "Hypervolume: 174.823072151\n",
      "\n",
      "Run: AWiBJZPiMEaT9KPSY3EK | method: NSGAII | seed: 23 | number of documents/evaluations: 100\n",
      "Reference Point: [2.2170968676925815, 311.0]\n",
      "Hypervolume: 175.395092658\n",
      "\n",
      "Run: AWiBJc63MEaT9KPSY3Gi | method: NSGAII | seed: 24 | number of documents/evaluations: 100\n",
      "Reference Point: [2.2170968676925815, 311.0]\n",
      "Hypervolume: 170.628682404\n",
      "\n",
      "Run: AWiBJglfMEaT9KPSY3LO | method: NSGAII | seed: 25 | number of documents/evaluations: 100\n",
      "Reference Point: [2.2170968676925815, 311.0]\n",
      "Hypervolume: 174.49878589\n",
      "\n",
      "Run: AWiBJkPuMEaT9KPSY3Nm | method: NSGAII | seed: 26 | number of documents/evaluations: 100\n",
      "Reference Point: [2.2170968676925815, 311.0]\n",
      "Hypervolume: 176.352659034\n",
      "\n",
      "Run: AWiBJn6tMEaT9KPSY3SS | method: NSGAII | seed: 27 | number of documents/evaluations: 100\n",
      "Reference Point: [2.2170968676925815, 311.0]\n",
      "Hypervolume: 171.187185066\n",
      "\n",
      "Run: AWiBJrlkMEaT9KPSY3Uq | method: NSGAII | seed: 28 | number of documents/evaluations: 100\n",
      "Reference Point: [2.2170968676925815, 311.0]\n",
      "Hypervolume: 174.270919654\n",
      "\n",
      "Run: AWiBJvQbMEaT9KPSY3ZW | method: NSGAII | seed: 29 | number of documents/evaluations: 100\n",
      "Reference Point: [2.2170968676925815, 311.0]\n",
      "Hypervolume: 175.830257145\n",
      "\n",
      "Run: AWiBJy7KMEaT9KPSY3bu | method: NSGAII | seed: 30 | number of documents/evaluations: 100\n",
      "Reference Point: [2.2170968676925815, 311.0]\n",
      "Hypervolume: 172.714663833\n",
      "\n",
      "Run: AWiBy5I9MEaT9KPSZfJz | method: NSGAII | seed: 31 | number of documents/evaluations: 100\n",
      "Reference Point: [2.2170968676925815, 311.0]\n",
      "Hypervolume: 177.920626771\n"
     ]
    },
    {
     "data": {
      "text/markdown": [
       "<span style='color:red'>===========================================================</span>"
      ],
      "text/plain": [
       "<IPython.core.display.Markdown object>"
      ]
     },
     "metadata": {},
     "output_type": "display_data"
    },
    {
     "name": "stdout",
     "output_type": "stream",
     "text": [
      "\n",
      "Run: AWh7M4caMEaT9KPSTRC5 | method: NSGAII | seed: 2 | number of documents/evaluations: 100\n",
      "Reference Point: [2.2170968676925815, 311.0]\n",
      "Hypervolume: 115.796892411\n",
      "\n",
      "Run: AWh7M51lMEaT9KPSTRFL | method: NSGAII | seed: 3 | number of documents/evaluations: 100\n",
      "Reference Point: [2.2170968676925815, 311.0]\n",
      "Hypervolume: 109.835411266\n",
      "\n",
      "Run: AWh7M8SXMEaT9KPSTRHd | method: NSGAII | seed: 4 | number of documents/evaluations: 100\n",
      "Reference Point: [2.2170968676925815, 311.0]\n",
      "Hypervolume: 110.208339696\n",
      "\n",
      "Run: AWh7M-ubMEaT9KPSTRJv | method: NSGAII | seed: 5 | number of documents/evaluations: 100\n",
      "Reference Point: [2.2170968676925815, 311.0]\n",
      "Hypervolume: 119.446740385\n",
      "\n",
      "Run: AWh7NBKIMEaT9KPSTRMB | method: NSGAII | seed: 6 | number of documents/evaluations: 100\n",
      "Reference Point: [2.2170968676925815, 311.0]\n",
      "Hypervolume: 119.480059291\n",
      "\n",
      "Run: AWh7NDnwMEaT9KPSTROT | method: NSGAII | seed: 7 | number of documents/evaluations: 100\n",
      "Reference Point: [2.2170968676925815, 311.0]\n",
      "Hypervolume: 109.67894706\n",
      "\n",
      "Run: AWh7NGDiMEaT9KPSTRQl | method: NSGAII | seed: 8 | number of documents/evaluations: 100\n",
      "Reference Point: [2.2170968676925815, 311.0]\n",
      "Hypervolume: 113.788091638\n",
      "\n",
      "Run: AWh7NIgIMEaT9KPSTRS3 | method: NSGAII | seed: 9 | number of documents/evaluations: 100\n",
      "Reference Point: [2.2170968676925815, 311.0]\n",
      "Hypervolume: 115.930071486\n",
      "\n",
      "Run: AWh7NK9SMEaT9KPSTRVJ | method: NSGAII | seed: 10 | number of documents/evaluations: 100\n",
      "Reference Point: [2.2170968676925815, 311.0]\n",
      "Hypervolume: 114.180249491\n",
      "\n",
      "Run: AWh7NNZ0MEaT9KPSTRXb | method: NSGAII | seed: 11 | number of documents/evaluations: 100\n",
      "Reference Point: [2.2170968676925815, 311.0]\n",
      "Hypervolume: 114.683639025\n",
      "\n",
      "Run: AWh7NP2TMEaT9KPSTRZt | method: NSGAII | seed: 12 | number of documents/evaluations: 100\n",
      "Reference Point: [2.2170968676925815, 311.0]\n",
      "Hypervolume: 118.828582789\n",
      "\n",
      "Run: AWh7NSS8MEaT9KPSTRb_ | method: NSGAII | seed: 13 | number of documents/evaluations: 100\n",
      "Reference Point: [2.2170968676925815, 311.0]\n",
      "Hypervolume: 110.866014219\n",
      "\n",
      "Run: AWh7NUu8MEaT9KPSTReR | method: NSGAII | seed: 14 | number of documents/evaluations: 100\n",
      "Reference Point: [2.2170968676925815, 311.0]\n",
      "Hypervolume: 116.303099366\n",
      "\n",
      "Run: AWh7NXLyMEaT9KPSTRgl | method: NSGAII | seed: 15 | number of documents/evaluations: 100\n",
      "Reference Point: [2.2170968676925815, 311.0]\n",
      "Hypervolume: 110.101170253\n",
      "\n",
      "Run: AWiF8rjrMEaT9KPSdlJo | method: NSGAII | seed: 16 | number of documents/evaluations: 100\n",
      "Reference Point: [2.2170968676925815, 311.0]\n",
      "Hypervolume: 113.361759633\n",
      "\n",
      "Run: AWiF8saAMEaT9KPSdlMF | method: NSGAII | seed: 17 | number of documents/evaluations: 100\n",
      "Reference Point: [2.2170968676925815, 311.0]\n",
      "Hypervolume: 121.177970999\n",
      "\n",
      "Run: AWiF8wE6MEaT9KPSdlOi | method: NSGAII | seed: 18 | number of documents/evaluations: 100\n",
      "Reference Point: [2.2170968676925815, 311.0]\n",
      "Hypervolume: 115.004986574\n",
      "\n",
      "Run: AWiF8zwhMEaT9KPSdlTb | method: NSGAII | seed: 19 | number of documents/evaluations: 100\n",
      "Reference Point: [2.2170968676925815, 311.0]\n",
      "Hypervolume: 111.779379237\n",
      "\n",
      "Run: AWiF83ZeMEaT9KPSdlV4 | method: NSGAII | seed: 20 | number of documents/evaluations: 100\n",
      "Reference Point: [2.2170968676925815, 311.0]\n",
      "Hypervolume: 119.213458168\n",
      "\n",
      "Run: AWiF87EyMEaT9KPSdlax | method: NSGAII | seed: 21 | number of documents/evaluations: 100\n",
      "Reference Point: [2.2170968676925815, 311.0]\n",
      "Hypervolume: 119.256787233\n",
      "\n",
      "Run: AWiF8-veMEaT9KPSdldO | method: NSGAII | seed: 22 | number of documents/evaluations: 100\n",
      "Reference Point: [2.2170968676925815, 311.0]\n",
      "Hypervolume: 113.045514805\n",
      "\n",
      "Run: AWiF9CZhMEaT9KPSdliH | method: NSGAII | seed: 23 | number of documents/evaluations: 100\n",
      "Reference Point: [2.2170968676925815, 311.0]\n",
      "Hypervolume: 104.186605752\n",
      "\n",
      "Run: AWiF9GE_MEaT9KPSdlkk | method: NSGAII | seed: 24 | number of documents/evaluations: 100\n",
      "Reference Point: [2.2170968676925815, 311.0]\n",
      "Hypervolume: 115.377090948\n",
      "\n",
      "Run: AWiF9JvLMEaT9KPSdlpd | method: NSGAII | seed: 25 | number of documents/evaluations: 100\n",
      "Reference Point: [2.2170968676925815, 311.0]\n",
      "Hypervolume: 110.3142533\n",
      "\n",
      "Run: AWiF9NZnMEaT9KPSdlr6 | method: NSGAII | seed: 26 | number of documents/evaluations: 100\n",
      "Reference Point: [2.2170968676925815, 311.0]\n",
      "Hypervolume: 117.386949576\n",
      "\n",
      "Run: AWiF9RFYMEaT9KPSdlwz | method: NSGAII | seed: 27 | number of documents/evaluations: 100\n",
      "Reference Point: [2.2170968676925815, 311.0]\n",
      "Hypervolume: 112.798275109\n",
      "\n",
      "Run: AWiF9UvYMEaT9KPSdlzQ | method: NSGAII | seed: 28 | number of documents/evaluations: 100\n",
      "Reference Point: [2.2170968676925815, 311.0]\n",
      "Hypervolume: 113.975579377\n",
      "\n",
      "Run: AWiF9YaQMEaT9KPSdl4K | method: NSGAII | seed: 29 | number of documents/evaluations: 100\n",
      "Reference Point: [2.2170968676925815, 311.0]\n",
      "Hypervolume: 118.657765428\n",
      "\n",
      "Run: AWiF9cFAMEaT9KPSdl6o | method: NSGAII | seed: 30 | number of documents/evaluations: 100\n",
      "Reference Point: [2.2170968676925815, 311.0]\n",
      "Hypervolume: 113.226379651\n",
      "\n",
      "Run: AWh9DmurMEaT9KPSVAAr | method: NSGAII | seed: 31 | number of documents/evaluations: 100\n",
      "Reference Point: [2.2170968676925815, 311.0]\n",
      "Hypervolume: 118.799276741\n"
     ]
    },
    {
     "data": {
      "text/markdown": [
       "<span style='color:red'>===========================================================</span>"
      ],
      "text/plain": [
       "<IPython.core.display.Markdown object>"
      ]
     },
     "metadata": {},
     "output_type": "display_data"
    },
    {
     "name": "stdout",
     "output_type": "stream",
     "text": [
      "\n",
      "Run: AWh2-DsKMEaT9KPSPcZr | method: NSGAII | seed: 2 | number of documents/evaluations: 100\n",
      "Reference Point: [2.2170968676925815, 311.0]\n",
      "Hypervolume: 91.0348096699\n",
      "\n",
      "Run: AWh2-FhqMEaT9KPSPcb0 | method: NSGAII | seed: 3 | number of documents/evaluations: 100\n",
      "Reference Point: [2.2170968676925815, 311.0]\n",
      "Hypervolume: 81.829717339\n",
      "\n",
      "Run: AWh2-H9qMEaT9KPSPcb2 | method: NSGAII | seed: 4 | number of documents/evaluations: 100\n",
      "Reference Point: [2.2170968676925815, 311.0]\n",
      "Hypervolume: 87.7448913852\n",
      "\n",
      "Run: AWh2-KaxMEaT9KPSPcgI | method: NSGAII | seed: 5 | number of documents/evaluations: 100\n",
      "Reference Point: [2.2170968676925815, 311.0]\n",
      "Hypervolume: 77.8799174233\n",
      "\n",
      "Run: AWh2-M3DMEaT9KPSPciS | method: NSGAII | seed: 6 | number of documents/evaluations: 100\n",
      "Reference Point: [2.2170968676925815, 311.0]\n",
      "Hypervolume: 80.4202095292\n",
      "\n",
      "Run: AWh2-PTpMEaT9KPSPckc | method: NSGAII | seed: 7 | number of documents/evaluations: 100\n",
      "Reference Point: [2.2170968676925815, 311.0]\n",
      "Hypervolume: 81.6801234213\n",
      "\n",
      "Run: AWh2-RweMEaT9KPSPcmm | method: NSGAII | seed: 8 | number of documents/evaluations: 100\n",
      "Reference Point: [2.2170968676925815, 311.0]\n",
      "Hypervolume: 86.6183092703\n",
      "\n",
      "Run: AWh2-UNSMEaT9KPSPcow | method: NSGAII | seed: 9 | number of documents/evaluations: 100\n",
      "Reference Point: [2.2170968676925815, 311.0]\n",
      "Hypervolume: 84.4045889007\n",
      "\n",
      "Run: AWh2-WpeMEaT9KPSPcq6 | method: NSGAII | seed: 10 | number of documents/evaluations: 100\n",
      "Reference Point: [2.2170968676925815, 311.0]\n",
      "Hypervolume: 82.7693010136\n",
      "\n",
      "Run: AWh2-ZF-MEaT9KPSPctE | method: NSGAII | seed: 11 | number of documents/evaluations: 100\n",
      "Reference Point: [2.2170968676925815, 311.0]\n",
      "Hypervolume: 78.8498084295\n",
      "\n",
      "Run: AWh2-bi0MEaT9KPSPcvO | method: NSGAII | seed: 12 | number of documents/evaluations: 100\n",
      "Reference Point: [2.2170968676925815, 311.0]\n",
      "Hypervolume: 88.6929257685\n",
      "\n",
      "Run: AWh2-d-gMEaT9KPSPcxY | method: NSGAII | seed: 13 | number of documents/evaluations: 100\n",
      "Reference Point: [2.2170968676925815, 311.0]\n",
      "Hypervolume: 78.0256926227\n",
      "\n",
      "Run: AWh2-gb-MEaT9KPSPczi | method: NSGAII | seed: 14 | number of documents/evaluations: 100\n",
      "Reference Point: [2.2170968676925815, 311.0]\n",
      "Hypervolume: 91.0382665229\n",
      "\n",
      "Run: AWh2-i4kMEaT9KPSPc1t | method: NSGAII | seed: 15 | number of documents/evaluations: 100\n",
      "Reference Point: [2.2170968676925815, 311.0]\n",
      "Hypervolume: 85.6757093225\n",
      "\n",
      "Run: AWiF9XyAMEaT9KPSdl4I | method: NSGAII | seed: 16 | number of documents/evaluations: 100\n",
      "Reference Point: [2.2170968676925815, 311.0]\n",
      "Hypervolume: 89.6961496317\n",
      "\n",
      "Run: AWiF9YtAMEaT9KPSdl4L | method: NSGAII | seed: 17 | number of documents/evaluations: 100\n",
      "Reference Point: [2.2170968676925815, 311.0]\n",
      "Hypervolume: 85.128682389\n",
      "\n",
      "Run: AWiF9cXgMEaT9KPSdl6p | method: NSGAII | seed: 18 | number of documents/evaluations: 100\n",
      "Reference Point: [2.2170968676925815, 311.0]\n",
      "Hypervolume: 79.376433327\n",
      "\n",
      "Run: AWiF9gBhMEaT9KPSdl_i | method: NSGAII | seed: 19 | number of documents/evaluations: 100\n",
      "Reference Point: [2.2170968676925815, 311.0]\n",
      "Hypervolume: 84.2103423688\n",
      "\n",
      "Run: AWiF9jsOMEaT9KPSdmB_ | method: NSGAII | seed: 20 | number of documents/evaluations: 100\n",
      "Reference Point: [2.2170968676925815, 311.0]\n",
      "Hypervolume: 81.129663656\n",
      "\n",
      "Run: AWiF9nWWMEaT9KPSdmG4 | method: NSGAII | seed: 21 | number of documents/evaluations: 100\n",
      "Reference Point: [2.2170968676925815, 311.0]\n",
      "Hypervolume: 90.3819036677\n",
      "\n",
      "Run: AWiF9rA6MEaT9KPSdmJV | method: NSGAII | seed: 22 | number of documents/evaluations: 100\n",
      "Reference Point: [2.2170968676925815, 311.0]\n",
      "Hypervolume: 83.7160505839\n",
      "\n",
      "Run: AWiF9usCMEaT9KPSdmOO | method: NSGAII | seed: 23 | number of documents/evaluations: 100\n",
      "Reference Point: [2.2170968676925815, 311.0]\n",
      "Hypervolume: 83.6602302965\n",
      "\n",
      "Run: AWiF9yWbMEaT9KPSdmQr | method: NSGAII | seed: 24 | number of documents/evaluations: 100\n",
      "Reference Point: [2.2170968676925815, 311.0]\n",
      "Hypervolume: 82.2067209578\n",
      "\n",
      "Run: AWiF92BMMEaT9KPSdmVk | method: NSGAII | seed: 25 | number of documents/evaluations: 100\n",
      "Reference Point: [2.2170968676925815, 311.0]\n",
      "Hypervolume: 81.5204111323\n",
      "\n",
      "Run: AWiF95soMEaT9KPSdmYB | method: NSGAII | seed: 26 | number of documents/evaluations: 100\n",
      "Reference Point: [2.2170968676925815, 311.0]\n",
      "Hypervolume: 79.61413862\n",
      "\n",
      "Run: AWiF99W0MEaT9KPSdmc6 | method: NSGAII | seed: 27 | number of documents/evaluations: 100\n",
      "Reference Point: [2.2170968676925815, 311.0]\n",
      "Hypervolume: 88.6001476509\n",
      "\n",
      "Run: AWiF-BBhMEaT9KPSdmfX | method: NSGAII | seed: 28 | number of documents/evaluations: 100\n",
      "Reference Point: [2.2170968676925815, 311.0]\n",
      "Hypervolume: 86.9966617985\n",
      "\n",
      "Run: AWiF-Er5MEaT9KPSdmkQ | method: NSGAII | seed: 29 | number of documents/evaluations: 100\n",
      "Reference Point: [2.2170968676925815, 311.0]\n",
      "Hypervolume: 88.9275865703\n",
      "\n",
      "Run: AWiF-IXEMEaT9KPSdmmt | method: NSGAII | seed: 30 | number of documents/evaluations: 100\n",
      "Reference Point: [2.2170968676925815, 311.0]\n",
      "Hypervolume: 87.0988791792\n",
      "\n",
      "Run: AWh5Q1sdMEaT9KPSRgTy | method: NSGAII | seed: 31 | number of documents/evaluations: 100\n",
      "Reference Point: [2.2170968676925815, 311.0]\n",
      "Hypervolume: 82.6484124594\n"
     ]
    }
   ],
   "source": [
    "import sys\n",
    "import numpy as np\n",
    "import pylab \n",
    "import matplotlib.pyplot as plt\n",
    "import matplotlib as mpl\n",
    "mpl.rc(\"savefig\", dpi=300)\n",
    "# plt.rcParams[\"figure.figsize\"] = [8,6]\n",
    "\n",
    "\n",
    "'''\n",
    "Method to take a list of individuals and return just the individuals which lie \n",
    "on the Pareto frontier, sorted into order.\n",
    "Default behaviour is to find the maximum for both X and Y objectives, but the option is\n",
    "available to specify maxX = False or maxY = False to find the minimum for either\n",
    "or both of the objectves.\n",
    "Adapted from: http://oco-carbon.com/metrics/find-pareto-frontiers-in-python/\n",
    "'''\n",
    "def get_pareto_front(Inds, maxX = False, maxY = False):\n",
    "    # Sort the list in either ascending or descending order of X\n",
    "    Inds.sort(key=lambda x: get_overhead(x), reverse=maxX)\n",
    "    # Start the Pareto frontier with the first value in the sorted list\n",
    "    p_front = [Inds[0]]    \n",
    "    # Loop through the sorted list\n",
    "    for ind in Inds[1:]:\n",
    "        if maxY: \n",
    "            # changed >= to >\n",
    "            if get_routing(ind) > get_routing(p_front[-1]): # Look for higher values of Y… \n",
    "                p_front.append(ind) # … and add them to the Pareto frontier\n",
    "        else:\n",
    "            # changed <= to <\n",
    "            if get_routing(ind) < get_routing(p_front[-1]): # Look for lower values of Y…    \n",
    "                p_front.append(ind) # … and add them to the Pareto frontier\n",
    "    return p_front\n",
    "\n",
    "\n",
    "def analyze_and_plot(rtx_runs, run_to_all_individuals, plotting = False):    \n",
    "    printmd(\"===========================================================\", \"red\")\n",
    "    # pareto fronts of all runs\n",
    "    pareto_fronts_of_all_runs = []\n",
    "    \n",
    "    opt_method = \"\"\n",
    "    if len(rtx_runs) > 0:\n",
    "        try:\n",
    "            opt_method = rtx_runs[0][\"strategy\"][\"optimizer_method\"]\n",
    "        except:\n",
    "            # mlr does not store the opt method name in field strategy.optimizer_method\n",
    "            opt_method = \"BOGP\"\n",
    "\n",
    "    # set iterations\n",
    "    set_iterations(opt_method)\n",
    "    \n",
    "    # for each run\n",
    "    for rtx_run in rtx_runs:\n",
    "        rtx_run_id = rtx_run[\"id\"]\n",
    "        # get all individuals of the run\n",
    "        all_individuals = run_to_all_individuals.get(rtx_run_id, None)\n",
    "        if all_individuals is None:\n",
    "            print(\"Encountered skipped run \" + str(rtx_run_id))\n",
    "        else:\n",
    "            print(\"\\nRun: \" + rtx_run_id + \" | method: \" + opt_method \n",
    "                  + \" | seed: \" + str(rtx_run[\"seed\"]) \n",
    "                  + \" | number of documents/evaluations: \" + str(len(all_individuals)))\n",
    "\n",
    "            # compute pareto front of the run ####################################################\n",
    "            pareto_front_of_run = get_pareto_front(all_individuals)\n",
    "            pareto_fronts_of_all_runs.append(pareto_front_of_run)\n",
    "            if plotting:\n",
    "                print(\"\\nPareto front of the run:\")\n",
    "                for p in pareto_front_of_run:\n",
    "                    print_individual(p)\n",
    "\n",
    "            # compute hypervolume ####################################################\n",
    "            reference_point = [worst_overhead, worst_routing]\n",
    "            print(\"Reference Point: \" + str(reference_point))\n",
    "            hyperVolume = HyperVolume(reference_point)\n",
    "\n",
    "            pareto_front_values = [[get_overhead(el), get_routing(el)] for el in pareto_front_of_run]\n",
    "            hv = hyperVolume.compute(pareto_front_values)\n",
    "            print(\"Hypervolume: \" + str(hv))\n",
    "\n",
    "            # plotting #################################################################\n",
    "            if plotting:\n",
    "\n",
    "                # Hypervolume over fitness evaluations ###########################\n",
    "                fig, axes = plt.subplots()\n",
    "                fig.suptitle('Evolution of the Hypervolume', fontsize=16)    \n",
    "                plt.xlabel('Fitness Evaluations') \n",
    "                x = range(total_number_of_docs)\n",
    "                plt.ylabel('Hypervolume')\n",
    "                y = []\n",
    "\n",
    "                current_pareto_front = []\n",
    "                for i in range(iterations):\n",
    "                    new_inds = [el for el in all_individuals if el[\"iteration\"] == i]\n",
    "                    if not isinstance(new_inds, (list,)):\n",
    "                        new_inds = [new_inds]\n",
    "                    for j in range(len(new_inds)):\n",
    "                        # new_ind is a list with one element\n",
    "                        new_ind = [el for el in new_inds if el[\"individual\"] == j]\n",
    "                        if len(new_ind) > 1:\n",
    "                            print(\"ERROR: More than one individual with the same number within the same iteration.\")\n",
    "                        # debug_msg = debug_msg \n",
    "                        #   + \"(\" + str(new_ind[0][\"iteration\"]) + \", \" + str(new_ind[0][\"individual\"]) + \")\"\n",
    "                        current_pareto_front.append(new_ind[0])\n",
    "                        current_pareto_front = get_pareto_front(current_pareto_front)\n",
    "                        current_pareto_front_values = [[get_overhead(el), get_routing(el)] \n",
    "                                                       for el in current_pareto_front]\n",
    "                        hv = hyperVolume.compute(current_pareto_front_values)\n",
    "                        y.append(hv)\n",
    "\n",
    "                plt.plot(x,y, color='black', label='Hypervolume')\n",
    "                pylab.legend(loc='best')\n",
    "\n",
    "                # Overhead over fitness evaluations ###############################          \n",
    "                fig, axes = plt.subplots()\n",
    "                fig.suptitle('Evolution of Overhead', fontsize=16)    \n",
    "                plt.xlabel('Fitness Evaluations') \n",
    "                x = range(total_number_of_docs)\n",
    "                plt.ylabel('Overhead')\n",
    "                y = []\n",
    "\n",
    "                min_overhead_over_iterations = []\n",
    "                best_min = sys.float_info.max\n",
    "                for i in range(iterations):\n",
    "                    new_inds = [el for el in all_individuals if el[\"iteration\"] == i]\n",
    "                    if not isinstance(new_inds, (list,)):\n",
    "                        new_inds = [new_inds]\n",
    "                    for j in range(len(new_inds)):\n",
    "                        # new_ind is a list with one element\n",
    "                        new_ind = [el for el in new_inds if el[\"individual\"] == j]\n",
    "                        if len(new_ind) > 1:\n",
    "                            print(\"ERROR: More than one individual with the same number within the same iteration.\")    \n",
    "\n",
    "                        overhead = get_overhead(new_ind[0])\n",
    "                        y.append(overhead)\n",
    "                        if overhead < best_min:\n",
    "                            best_min = overhead\n",
    "                        min_overhead_over_iterations.append(best_min)\n",
    "\n",
    "                plt.scatter(x,y, marker=\"+\", color='black', label='individual')\n",
    "                plt.scatter(x, min_overhead_over_iterations, s=100, facecolors='none', \n",
    "                            edgecolors='r', label='perato front for overhead')\n",
    "                pylab.legend(loc='best')\n",
    "\n",
    "                # Routing over fitness evaluations ########################################\n",
    "                fig, axes = plt.subplots()\n",
    "                fig.suptitle('Evolution of Routing', fontsize=16)    \n",
    "                plt.xlabel('Fitness Evaluations') \n",
    "                x = range(total_number_of_docs)\n",
    "                plt.ylabel('Routing')\n",
    "                y = []\n",
    "\n",
    "                min_routing_over_iterations = []\n",
    "                best_min = sys.float_info.max\n",
    "                for i in range(iterations):\n",
    "                    new_inds = [el for el in all_individuals if el[\"iteration\"] == i]\n",
    "                    if not isinstance(new_inds, (list,)):\n",
    "                        new_inds = [new_inds]\n",
    "                    for j in range(len(new_inds)):\n",
    "                        # new_ind is a list with one element\n",
    "                        new_ind = [el for el in new_inds if el[\"individual\"] == j]\n",
    "                        if len(new_ind) > 1:\n",
    "                            print(\"ERROR: More than one individual with the same number within the same iteration.\")    \n",
    "\n",
    "                        routing = get_routing(new_ind[0])\n",
    "                        y.append(routing)\n",
    "                        if routing < best_min:\n",
    "                            best_min = routing\n",
    "                        min_routing_over_iterations.append(best_min)\n",
    "\n",
    "                plt.scatter(x,y, marker=\"+\", color='black', label='individual')\n",
    "                plt.scatter(x, min_routing_over_iterations, s=100, \n",
    "                            facecolors='none', edgecolors='r', label='perato front for routing')\n",
    "                pylab.legend(loc='best')\n",
    "\n",
    "\n",
    "                # print all individuals and pareto front ##############################\n",
    "                fig, axes = plt.subplots()\n",
    "                # axes.grid(True)\n",
    "                fig.suptitle('All individuals and the pareto front', fontsize=16)\n",
    "                overheads = [get_overhead(el) for el in all_individuals]\n",
    "                routings = [get_routing(el) for el in all_individuals] \n",
    "\n",
    "                plt.ylabel('Routing')\n",
    "                plt.xlabel('Overhead')\n",
    "                plt.scatter(overheads, routings, marker=\"+\", color='black', label='Individual')\n",
    "                p_front_overheads = [get_overhead(el) for el in pareto_front_of_run]\n",
    "                p_front_routings = [get_routing(el) for el in pareto_front_of_run] \n",
    "                if len(pareto_front_of_run) > 1:\n",
    "                    plt.plot(p_front_overheads, p_front_routings, label=\"Pareto Front\")\n",
    "                else:\n",
    "                    plt.scatter(p_front_avg_o, p_front_avg_p, label=\"Pareto Front\")\n",
    "                pylab.legend(loc='best')\n",
    "                #for i,j in zip(avg_o,avg_p):\n",
    "                #    axes.annotate(str(i)+\", \"+str(j),xy=(i,j))\n",
    "\n",
    "                plt.show()\n",
    "\n",
    "    return pareto_fronts_of_all_runs\n",
    "\n",
    "\n",
    "# analyze and plot data\n",
    "\n",
    "# random search\n",
    "random_500_pfronts = analyze_and_plot(random_rtx_runs_500, random_run_inds_500)\n",
    "random_700_pfronts = analyze_and_plot(random_rtx_runs_700, random_run_inds_700)\n",
    "random_800_pfronts = analyze_and_plot(random_rtx_runs_800, random_run_inds_800)\n",
    "\n",
    "# mlr\n",
    "mlr_500_pfronts = analyze_and_plot(mlr_rtx_runs_500, mlr_run_inds_500)\n",
    "mlr_700_pfronts = analyze_and_plot(mlr_rtx_runs_700, mlr_run_inds_700)\n",
    "mlr_800_pfronts = analyze_and_plot(mlr_rtx_runs_800, mlr_run_inds_800)\n",
    "\n",
    "# novelty\n",
    "novelty_500_pfronts = analyze_and_plot(novelty_rtx_runs_500, novelty_run_inds_500)\n",
    "novelty_700_pfronts = analyze_and_plot(novelty_rtx_runs_700, novelty_run_inds_700)\n",
    "novelty_800_pfronts = analyze_and_plot(novelty_rtx_runs_800, novelty_run_inds_800)\n",
    "\n",
    "# nsga2\n",
    "nsga2_500_pfronts = analyze_and_plot(nsga2_rtx_runs_500, nsga2_run_inds_500)\n",
    "nsga2_700_pfronts = analyze_and_plot(nsga2_rtx_runs_700, nsga2_run_inds_700)\n",
    "nsga2_800_pfronts = analyze_and_plot(nsga2_rtx_runs_800, nsga2_run_inds_800)\n"
   ]
  },
  {
   "cell_type": "markdown",
   "metadata": {},
   "source": [
    "## Analysis of the hypervolume and objectives over multiple runs"
   ]
  },
  {
   "cell_type": "code",
   "execution_count": 11,
   "metadata": {
    "scrolled": false
   },
   "outputs": [
    {
     "name": "stdout",
     "output_type": "stream",
     "text": [
      "Iterations considered: 10\n",
      "Average Overhead (Best of each run) | Median Overhead (Best of each run) | Average Routing (Best of each run) | Median Routing (Best of each run) |Average Hypervolume | Median Hypervolume\n",
      "500 cars\n",
      "BOGP (30 runs):\t\t1.63018333315\t| 1.6301337122\t| 19.2\t| 20.0\t| 171.109064017\t|171.40316988\t| \n",
      "NSGA-II (30 runs):\t1.62502134735\t| 1.62540504939\t| 18.0333333333\t| 18.0\t| 173.089805729\t|173.063539276\t| \n",
      "Novel (30 runs):\t1.6243587328\t| 1.62316757467\t| 22.7333333333\t| 23.0\t| 170.443933347\t|170.480072414\t| \n",
      "Random (30 runs):\t1.62423734314\t| 1.62343283543\t| 19.5333333333\t| 20.0\t| 172.416133756\t|172.676425196\t| \n",
      "700 cars\n",
      "BOGP (30 runs):\t\t1.82061277939\t| 1.82023732734\t| 28.0333333333\t| 30.0\t| 111.62335139\t|111.679371244\t| \n",
      "NSGA-II (30 runs):\t1.80949364866\t| 1.80781878638\t| 28.45\t| 29.0\t| 114.556311364\t|114.431944258\t| \n",
      "Novel (30 runs):\t1.81122099016\t| 1.81477600538\t| 29.6166666667\t| 30.25\t| 112.905383098\t|112.298699248\t| \n",
      "Random (30 runs):\t1.80858462766\t| 1.80925659573\t| 29.9\t| 30.0\t| 113.774266129\t|113.769218604\t| \n",
      "800 cars\n",
      "BOGP (30 runs):\t\t1.92006183158\t| 1.91951837601\t| 31.0666666667\t| 32.0\t| 82.4266888081\t|82.0824196195\t| \n",
      "NSGA-II (30 runs):\t1.90981223504\t| 1.91082863034\t| 32.5333333333\t| 33.0\t| 84.3858894969\t|83.9631964764\t| \n",
      "Novel (30 runs):\t1.90678594989\t| 1.90522702289\t| 33.5\t| 35.0\t| 84.4170410117\t|85.0677094751\t| \n",
      "Random (30 runs):\t1.90485621606\t| 1.90785297579\t| 32.3166666667\t| 34.0\t| 85.002377777\t|85.2451359714\t| \n"
     ]
    },
    {
     "data": {
      "image/png": "[encoded data removed]",
      "text/plain": [
       "<matplotlib.figure.Figure at 0x7f8d97206310>"
      ]
     },
     "metadata": {
      "needs_background": "light"
     },
     "output_type": "display_data"
    },
    {
     "name": "stdout",
     "output_type": "stream",
     "text": [
      "NSGA-II\tis\t statistically significantly different than BOGP (ttest)\n",
      "NSGA-II\tis\t statistically significantly different than BOGP (wilcoxon)\n",
      "Novelty S.\tis not\t statistically significantly different than BOGP (ttest)\n",
      "Novelty S.\tis not\t statistically significantly different than BOGP (wilcoxon)\n",
      "Novelty S.\tis\t statistically significantly different than NSGA-II (ttest)\n",
      "Novelty S.\tis\t statistically significantly different than NSGA-II (wilcoxon)\n",
      "Random\tis\t statistically significantly different than BOGP (ttest)\n",
      "Random\tis not\t statistically significantly different than BOGP (wilcoxon)\n",
      "Random\tis not\t statistically significantly different than NSGA-II (ttest)\n",
      "Random\tis not\t statistically significantly different than NSGA-II (wilcoxon)\n",
      "Random\tis\t statistically significantly different than Novelty S. (ttest)\n",
      "Random\tis\t statistically significantly different than Novelty S. (wilcoxon)\n"
     ]
    },
    {
     "data": {
      "image/png": "[encoded data removed]",
      "text/plain": [
       "<matplotlib.figure.Figure at 0x7f8d969e8c50>"
      ]
     },
     "metadata": {
      "needs_background": "light"
     },
     "output_type": "display_data"
    },
    {
     "data": {
      "image/png": "[encoded data removed]",
      "text/plain": [
       "<matplotlib.figure.Figure at 0x7f8d97381450>"
      ]
     },
     "metadata": {
      "needs_background": "light"
     },
     "output_type": "display_data"
    },
    {
     "data": {
      "image/png": "[encoded data removed]",
      "text/plain": [
       "<matplotlib.figure.Figure at 0x7f8d96b3aa10>"
      ]
     },
     "metadata": {
      "needs_background": "light"
     },
     "output_type": "display_data"
    },
    {
     "data": {
      "image/png": "[encoded data removed]",
      "text/plain": [
       "<matplotlib.figure.Figure at 0x7f8d96c8c110>"
      ]
     },
     "metadata": {
      "needs_background": "light"
     },
     "output_type": "display_data"
    },
    {
     "data": {
      "image/png": "[encoded data removed]",
      "text/plain": [
       "<matplotlib.figure.Figure at 0x7f8da65d0fd0>"
      ]
     },
     "metadata": {
      "needs_background": "light"
     },
     "output_type": "display_data"
    },
    {
     "name": "stdout",
     "output_type": "stream",
     "text": [
      "NSGA-II\tis\t statistically significantly different than BOGP (ttest)\n",
      "NSGA-II\tis\t statistically significantly different than BOGP (wilcoxon)\n",
      "Novelty S.\tis not\t statistically significantly different than BOGP (ttest)\n",
      "Novelty S.\tis not\t statistically significantly different than BOGP (wilcoxon)\n",
      "Novelty S.\tis not\t statistically significantly different than NSGA-II (ttest)\n",
      "Novelty S.\tis not\t statistically significantly different than NSGA-II (wilcoxon)\n",
      "Random\tis\t statistically significantly different than BOGP (ttest)\n",
      "Random\tis\t statistically significantly different than BOGP (wilcoxon)\n",
      "Random\tis not\t statistically significantly different than NSGA-II (ttest)\n",
      "Random\tis not\t statistically significantly different than NSGA-II (wilcoxon)\n",
      "Random\tis not\t statistically significantly different than Novelty S. (ttest)\n",
      "Random\tis not\t statistically significantly different than Novelty S. (wilcoxon)\n"
     ]
    },
    {
     "data": {
      "image/png": "[encoded data removed]",
      "text/plain": [
       "<matplotlib.figure.Figure at 0x7f8d97290e50>"
      ]
     },
     "metadata": {
      "needs_background": "light"
     },
     "output_type": "display_data"
    },
    {
     "data": {
      "image/png": "[encoded data removed]",
      "text/plain": [
       "<matplotlib.figure.Figure at 0x7f8d970ff310>"
      ]
     },
     "metadata": {
      "needs_background": "light"
     },
     "output_type": "display_data"
    },
    {
     "data": {
      "image/png": "[encoded data removed]",
      "text/plain": [
       "<matplotlib.figure.Figure at 0x7f8d96f76fd0>"
      ]
     },
     "metadata": {
      "needs_background": "light"
     },
     "output_type": "display_data"
    },
    {
     "data": {
      "image/png": "[encoded data removed]",
      "text/plain": [
       "<matplotlib.figure.Figure at 0x7f8d967b59d0>"
      ]
     },
     "metadata": {
      "needs_background": "light"
     },
     "output_type": "display_data"
    },
    {
     "data": {
      "image/png": "[encoded data removed]",
      "text/plain": [
       "<matplotlib.figure.Figure at 0x7f8d96939dd0>"
      ]
     },
     "metadata": {
      "needs_background": "light"
     },
     "output_type": "display_data"
    },
    {
     "name": "stdout",
     "output_type": "stream",
     "text": [
      "NSGA-II\tis not\t statistically significantly different than BOGP (ttest)\n",
      "NSGA-II\tis not\t statistically significantly different than BOGP (wilcoxon)\n",
      "Novelty S.\tis not\t statistically significantly different than BOGP (ttest)\n",
      "Novelty S.\tis not\t statistically significantly different than BOGP (wilcoxon)\n",
      "Novelty S.\tis not\t statistically significantly different than NSGA-II (ttest)\n",
      "Novelty S.\tis not\t statistically significantly different than NSGA-II (wilcoxon)\n",
      "Random\tis\t statistically significantly different than BOGP (ttest)\n",
      "Random\tis\t statistically significantly different than BOGP (wilcoxon)\n",
      "Random\tis not\t statistically significantly different than NSGA-II (ttest)\n",
      "Random\tis not\t statistically significantly different than NSGA-II (wilcoxon)\n",
      "Random\tis not\t statistically significantly different than Novelty S. (ttest)\n",
      "Random\tis not\t statistically significantly different than Novelty S. (wilcoxon)\n"
     ]
    },
    {
     "data": {
      "image/png": "[encoded data removed]",
      "text/plain": [
       "<matplotlib.figure.Figure at 0x7f8d96973150>"
      ]
     },
     "metadata": {
      "needs_background": "light"
     },
     "output_type": "display_data"
    },
    {
     "data": {
      "image/png": "[encoded data removed]",
      "text/plain": [
       "<matplotlib.figure.Figure at 0x7f8d9729d090>"
      ]
     },
     "metadata": {
      "needs_background": "light"
     },
     "output_type": "display_data"
    },
    {
     "data": {
      "image/png": "[encoded data removed]",
      "text/plain": [
       "<matplotlib.figure.Figure at 0x7f8d9df2f790>"
      ]
     },
     "metadata": {
      "needs_background": "light"
     },
     "output_type": "display_data"
    },
    {
     "data": {
      "image/png": "[encoded data removed]",
      "text/plain": [
       "<matplotlib.figure.Figure at 0x7f8d9729d650>"
      ]
     },
     "metadata": {
      "needs_background": "light"
     },
     "output_type": "display_data"
    },
    {
     "data": {
      "image/png": "[encoded data removed]",
      "text/plain": [
       "<matplotlib.figure.Figure at 0x7f8d967c4f10>"
      ]
     },
     "metadata": {
      "needs_background": "light"
     },
     "output_type": "display_data"
    },
    {
     "name": "stdout",
     "output_type": "stream",
     "text": [
      "Trip Overhead:\n",
      "NSGA-II\tis\t statistically significantly different than BOGP (ttest)\n",
      "NSGA-II\tis\t statistically significantly different than BOGP (wilcoxon)\n",
      "Novelty S.\tis\t statistically significantly different than BOGP (ttest)\n",
      "Novelty S.\tis\t statistically significantly different than BOGP (wilcoxon)\n",
      "Novelty S.\tis not\t statistically significantly different than NSGA-II (ttest)\n",
      "Novelty S.\tis not\t statistically significantly different than NSGA-II (wilcoxon)\n",
      "Random\tis\t statistically significantly different than BOGP (ttest)\n",
      "Random\tis\t statistically significantly different than BOGP (wilcoxon)\n",
      "Random\tis not\t statistically significantly different than NSGA-II (ttest)\n",
      "Random\tis not\t statistically significantly different than NSGA-II (wilcoxon)\n",
      "Random\tis not\t statistically significantly different than Novelty S. (ttest)\n",
      "Random\tis not\t statistically significantly different than Novelty S. (wilcoxon)\n"
     ]
    },
    {
     "data": {
      "image/png": "[encoded data removed]",
      "text/plain": [
       "<matplotlib.figure.Figure at 0x7f8d97165390>"
      ]
     },
     "metadata": {
      "needs_background": "light"
     },
     "output_type": "display_data"
    },
    {
     "data": {
      "image/png": "[encoded data removed]",
      "text/plain": [
       "<matplotlib.figure.Figure at 0x7f8d97035950>"
      ]
     },
     "metadata": {
      "needs_background": "light"
     },
     "output_type": "display_data"
    },
    {
     "data": {
      "image/png": "[encoded data removed]",
      "text/plain": [
       "<matplotlib.figure.Figure at 0x7f8d9739d3d0>"
      ]
     },
     "metadata": {
      "needs_background": "light"
     },
     "output_type": "display_data"
    },
    {
     "data": {
      "image/png": "[encoded data removed]",
      "text/plain": [
       "<matplotlib.figure.Figure at 0x7f8d96df3390>"
      ]
     },
     "metadata": {
      "needs_background": "light"
     },
     "output_type": "display_data"
    },
    {
     "data": {
      "image/png": "[encoded data removed]",
      "text/plain": [
       "<matplotlib.figure.Figure at 0x7f8d9739d910>"
      ]
     },
     "metadata": {
      "needs_background": "light"
     },
     "output_type": "display_data"
    },
    {
     "name": "stdout",
     "output_type": "stream",
     "text": [
      "Routing Cost:\n",
      "NSGA-II\tis not\t statistically significantly different than BOGP (ttest)\n",
      "NSGA-II\tis not\t statistically significantly different than BOGP (wilcoxon)\n",
      "Novelty S.\tis\t statistically significantly different than BOGP (ttest)\n",
      "Novelty S.\tis\t statistically significantly different than BOGP (wilcoxon)\n",
      "Novelty S.\tis\t statistically significantly different than NSGA-II (ttest)\n",
      "Novelty S.\tis\t statistically significantly different than NSGA-II (wilcoxon)\n",
      "Random\tis not\t statistically significantly different than BOGP (ttest)\n",
      "Random\tis not\t statistically significantly different than BOGP (wilcoxon)\n",
      "Random\tis\t statistically significantly different than NSGA-II (ttest)\n",
      "Random\tis\t statistically significantly different than NSGA-II (wilcoxon)\n",
      "Random\tis\t statistically significantly different than Novelty S. (ttest)\n",
      "Random\tis\t statistically significantly different than Novelty S. (wilcoxon)\n"
     ]
    },
    {
     "data": {
      "image/png": "[encoded data removed]",
      "text/plain": [
       "<matplotlib.figure.Figure at 0x7f8d969a0750>"
      ]
     },
     "metadata": {
      "needs_background": "light"
     },
     "output_type": "display_data"
    },
    {
     "data": {
      "image/png": "[encoded data removed]",
      "text/plain": [
       "<matplotlib.figure.Figure at 0x7f8d96e86f50>"
      ]
     },
     "metadata": {
      "needs_background": "light"
     },
     "output_type": "display_data"
    },
    {
     "data": {
      "image/png": "[encoded data removed]",
      "text/plain": [
       "<matplotlib.figure.Figure at 0x7f8d96b16c90>"
      ]
     },
     "metadata": {
      "needs_background": "light"
     },
     "output_type": "display_data"
    },
    {
     "data": {
      "image/png": "[encoded data removed]",
      "text/plain": [
       "<matplotlib.figure.Figure at 0x7f8d969a0d50>"
      ]
     },
     "metadata": {
      "needs_background": "light"
     },
     "output_type": "display_data"
    },
    {
     "data": {
      "image/png": "[encoded data removed]",
      "text/plain": [
       "<matplotlib.figure.Figure at 0x7f8d97397690>"
      ]
     },
     "metadata": {
      "needs_background": "light"
     },
     "output_type": "display_data"
    },
    {
     "name": "stdout",
     "output_type": "stream",
     "text": [
      "Trip Overhead:\n",
      "NSGA-II\tis\t statistically significantly different than BOGP (ttest)\n",
      "NSGA-II\tis\t statistically significantly different than BOGP (wilcoxon)\n",
      "Novelty S.\tis\t statistically significantly different than BOGP (ttest)\n",
      "Novelty S.\tis\t statistically significantly different than BOGP (wilcoxon)\n",
      "Novelty S.\tis not\t statistically significantly different than NSGA-II (ttest)\n",
      "Novelty S.\tis not\t statistically significantly different than NSGA-II (wilcoxon)\n",
      "Random\tis\t statistically significantly different than BOGP (ttest)\n",
      "Random\tis\t statistically significantly different than BOGP (wilcoxon)\n",
      "Random\tis not\t statistically significantly different than NSGA-II (ttest)\n",
      "Random\tis not\t statistically significantly different than NSGA-II (wilcoxon)\n",
      "Random\tis not\t statistically significantly different than Novelty S. (ttest)\n",
      "Random\tis not\t statistically significantly different than Novelty S. (wilcoxon)\n"
     ]
    },
    {
     "data": {
      "image/png": "[encoded data removed]",
      "text/plain": [
       "<matplotlib.figure.Figure at 0x7f8d96f1a150>"
      ]
     },
     "metadata": {
      "needs_background": "light"
     },
     "output_type": "display_data"
    },
    {
     "data": {
      "image/png": "[encoded data removed]",
      "text/plain": [
       "<matplotlib.figure.Figure at 0x7f8d9700cd10>"
      ]
     },
     "metadata": {
      "needs_background": "light"
     },
     "output_type": "display_data"
    },
    {
     "data": {
      "image/png": "[encoded data removed]",
      "text/plain": [
       "<matplotlib.figure.Figure at 0x7f8d9746b090>"
      ]
     },
     "metadata": {
      "needs_background": "light"
     },
     "output_type": "display_data"
    },
    {
     "data": {
      "image/png": "[encoded data removed]",
      "text/plain": [
       "<matplotlib.figure.Figure at 0x7f8d973fccd0>"
      ]
     },
     "metadata": {
      "needs_background": "light"
     },
     "output_type": "display_data"
    },
    {
     "data": {
      "image/png": "[encoded data removed]",
      "text/plain": [
       "<matplotlib.figure.Figure at 0x7f8d9697ef90>"
      ]
     },
     "metadata": {
      "needs_background": "light"
     },
     "output_type": "display_data"
    },
    {
     "name": "stdout",
     "output_type": "stream",
     "text": [
      "Routing Cost:\n",
      "NSGA-II\tis not\t statistically significantly different than BOGP (ttest)\n",
      "NSGA-II\tis not\t statistically significantly different than BOGP (wilcoxon)\n",
      "Novelty S.\tis not\t statistically significantly different than BOGP (ttest)\n",
      "Novelty S.\tis not\t statistically significantly different than BOGP (wilcoxon)\n",
      "Novelty S.\tis not\t statistically significantly different than NSGA-II (ttest)\n",
      "Novelty S.\tis not\t statistically significantly different than NSGA-II (wilcoxon)\n",
      "Random\tis not\t statistically significantly different than BOGP (ttest)\n",
      "Random\tis\t statistically significantly different than BOGP (wilcoxon)\n",
      "Random\tis not\t statistically significantly different than NSGA-II (ttest)\n",
      "Random\tis not\t statistically significantly different than NSGA-II (wilcoxon)\n",
      "Random\tis not\t statistically significantly different than Novelty S. (ttest)\n",
      "Random\tis not\t statistically significantly different than Novelty S. (wilcoxon)\n"
     ]
    },
    {
     "data": {
      "image/png": "[encoded data removed]",
      "text/plain": [
       "<matplotlib.figure.Figure at 0x7f8d96f2a3d0>"
      ]
     },
     "metadata": {
      "needs_background": "light"
     },
     "output_type": "display_data"
    },
    {
     "data": {
      "image/png": "[encoded data removed]",
      "text/plain": [
       "<matplotlib.figure.Figure at 0x7f8d96686fd0>"
      ]
     },
     "metadata": {
      "needs_background": "light"
     },
     "output_type": "display_data"
    },
    {
     "data": {
      "image/png": "[encoded data removed]",
      "text/plain": [
       "<matplotlib.figure.Figure at 0x7f8d96600d90>"
      ]
     },
     "metadata": {
      "needs_background": "light"
     },
     "output_type": "display_data"
    },
    {
     "data": {
      "image/png": "[encoded data removed]",
      "text/plain": [
       "<matplotlib.figure.Figure at 0x7f8d969de190>"
      ]
     },
     "metadata": {
      "needs_background": "light"
     },
     "output_type": "display_data"
    },
    {
     "data": {
      "image/png": "[encoded data removed]",
      "text/plain": [
       "<matplotlib.figure.Figure at 0x7f8d96f2b550>"
      ]
     },
     "metadata": {
      "needs_background": "light"
     },
     "output_type": "display_data"
    },
    {
     "name": "stdout",
     "output_type": "stream",
     "text": [
      "Trip Overhead:\n",
      "NSGA-II\tis\t statistically significantly different than BOGP (ttest)\n",
      "NSGA-II\tis not\t statistically significantly different than BOGP (wilcoxon)\n",
      "Novelty S.\tis\t statistically significantly different than BOGP (ttest)\n",
      "Novelty S.\tis\t statistically significantly different than BOGP (wilcoxon)\n",
      "Novelty S.\tis not\t statistically significantly different than NSGA-II (ttest)\n",
      "Novelty S.\tis not\t statistically significantly different than NSGA-II (wilcoxon)\n",
      "Random\tis\t statistically significantly different than BOGP (ttest)\n",
      "Random\tis\t statistically significantly different than BOGP (wilcoxon)\n",
      "Random\tis not\t statistically significantly different than NSGA-II (ttest)\n",
      "Random\tis not\t statistically significantly different than NSGA-II (wilcoxon)\n",
      "Random\tis not\t statistically significantly different than Novelty S. (ttest)\n",
      "Random\tis not\t statistically significantly different than Novelty S. (wilcoxon)\n"
     ]
    },
    {
     "data": {
      "image/png": "[encoded data removed]",
      "text/plain": [
       "<matplotlib.figure.Figure at 0x7f8d96df8550>"
      ]
     },
     "metadata": {
      "needs_background": "light"
     },
     "output_type": "display_data"
    },
    {
     "data": {
      "image/png": "[encoded data removed]",
      "text/plain": [
       "<matplotlib.figure.Figure at 0x7f8d96dd49d0>"
      ]
     },
     "metadata": {
      "needs_background": "light"
     },
     "output_type": "display_data"
    },
    {
     "data": {
      "image/png": "[encoded data removed]",
      "text/plain": [
       "<matplotlib.figure.Figure at 0x7f8d97035f90>"
      ]
     },
     "metadata": {
      "needs_background": "light"
     },
     "output_type": "display_data"
    },
    {
     "data": {
      "image/png": "[encoded data removed]",
      "text/plain": [
       "<matplotlib.figure.Figure at 0x7f8d973bbe10>"
      ]
     },
     "metadata": {
      "needs_background": "light"
     },
     "output_type": "display_data"
    },
    {
     "data": {
      "image/png": "[encoded data removed]",
      "text/plain": [
       "<matplotlib.figure.Figure at 0x7f8d96ddce10>"
      ]
     },
     "metadata": {
      "needs_background": "light"
     },
     "output_type": "display_data"
    },
    {
     "name": "stdout",
     "output_type": "stream",
     "text": [
      "Routing Cost:\n",
      "NSGA-II\tis not\t statistically significantly different than BOGP (ttest)\n",
      "NSGA-II\tis not\t statistically significantly different than BOGP (wilcoxon)\n",
      "Novelty S.\tis\t statistically significantly different than BOGP (ttest)\n",
      "Novelty S.\tis not\t statistically significantly different than BOGP (wilcoxon)\n",
      "Novelty S.\tis not\t statistically significantly different than NSGA-II (ttest)\n",
      "Novelty S.\tis not\t statistically significantly different than NSGA-II (wilcoxon)\n",
      "Random\tis not\t statistically significantly different than BOGP (ttest)\n",
      "Random\tis not\t statistically significantly different than BOGP (wilcoxon)\n",
      "Random\tis not\t statistically significantly different than NSGA-II (ttest)\n",
      "Random\tis not\t statistically significantly different than NSGA-II (wilcoxon)\n",
      "Random\tis not\t statistically significantly different than Novelty S. (ttest)\n",
      "Random\tis not\t statistically significantly different than Novelty S. (wilcoxon)\n"
     ]
    },
    {
     "data": {
      "image/png": "[encoded data removed]",
      "text/plain": [
       "<matplotlib.figure.Figure at 0x7f8d96b7bb10>"
      ]
     },
     "metadata": {
      "needs_background": "light"
     },
     "output_type": "display_data"
    },
    {
     "data": {
      "image/png": "[encoded data removed]",
      "text/plain": [
       "<matplotlib.figure.Figure at 0x7f8d96ef4450>"
      ]
     },
     "metadata": {
      "needs_background": "light"
     },
     "output_type": "display_data"
    },
    {
     "data": {
      "image/png": "[encoded data removed]",
      "text/plain": [
       "<matplotlib.figure.Figure at 0x7f8d9df3edd0>"
      ]
     },
     "metadata": {
      "needs_background": "light"
     },
     "output_type": "display_data"
    },
    {
     "data": {
      "image/png": "[encoded data removed]",
      "text/plain": [
       "<matplotlib.figure.Figure at 0x7f8d9679b610>"
      ]
     },
     "metadata": {
      "needs_background": "light"
     },
     "output_type": "display_data"
    },
    {
     "name": "stdout",
     "output_type": "stream",
     "text": [
      "BOGP - final mean hv: 171.109064017\n",
      "NSGA-II - final mean hv: 173.089805729\n",
      "Novelty Search - final mean hv: 170.443933347\n",
      "Random - final mean hv: 172.416133756\n"
     ]
    },
    {
     "data": {
      "image/png": "[encoded data removed]",
      "text/plain": [
       "<matplotlib.figure.Figure at 0x7f8d9717ffd0>"
      ]
     },
     "metadata": {
      "needs_background": "light"
     },
     "output_type": "display_data"
    },
    {
     "name": "stdout",
     "output_type": "stream",
     "text": [
      "BOGP - final mean hv: 111.62335139\n",
      "NSGA-II - final mean hv: 114.556311364\n",
      "Novelty Search - final mean hv: 112.905383098\n",
      "Random - final mean hv: 113.774266129\n"
     ]
    },
    {
     "data": {
      "image/png": "[encoded data removed]",
      "text/plain": [
       "<matplotlib.figure.Figure at 0x7f8d9674da10>"
      ]
     },
     "metadata": {
      "needs_background": "light"
     },
     "output_type": "display_data"
    },
    {
     "name": "stdout",
     "output_type": "stream",
     "text": [
      "BOGP - final mean hv: 82.4266888081\n",
      "NSGA-II - final mean hv: 84.3858894969\n",
      "Novelty Search - final mean hv: 84.4170410117\n",
      "Random - final mean hv: 85.002377777\n"
     ]
    },
    {
     "data": {
      "image/png": "[encoded data removed]",
      "text/plain": [
       "<matplotlib.figure.Figure at 0x7f8d9717fed0>"
      ]
     },
     "metadata": {
      "needs_background": "light"
     },
     "output_type": "display_data"
    }
   ],
   "source": [
    "from scipy import stats\n",
    "\n",
    "reference_point = [worst_overhead, worst_routing]\n",
    "hyperVolume = HyperVolume(reference_point)\n",
    "\n",
    "'''\n",
    "Computes the hypervolumes for all pareto fronts\n",
    "'''\n",
    "def compute_hvs(pfronts):\n",
    "    hvs = []\n",
    "    for pfront in pfronts:\n",
    "        pfront_values = [[get_overhead(el), get_routing(el)] for el in pfront]\n",
    "        hv = hyperVolume.compute(pfront_values)\n",
    "        hvs.append(hv)       \n",
    "    return hvs\n",
    "\n",
    "\n",
    "'''\n",
    "Computes the average hypervolume for all pareto fronts\n",
    "'''\n",
    "def compute_avg_hv(pfronts):\n",
    "    hvs = compute_hvs(pfronts)        \n",
    "    return np.mean(hvs)\n",
    "\n",
    "\n",
    "'''\n",
    "Computes the median hypervolume for all pareto fronts\n",
    "'''\n",
    "def compute_median_hv(pfronts, plotting=False):\n",
    "    hvs = compute_hvs(pfronts)       \n",
    "    return np.median(hvs)\n",
    "\n",
    "\n",
    "'''\n",
    "Computes the average of the overhead and routing over all pareto fronts of the all runs\n",
    "'''\n",
    "def compute_avg_objectives(pfronts):\n",
    "    overheads, routings = get_objectives_for_each_pfront(pfronts)\n",
    "    return np.mean(overheads), np.mean(routings)\n",
    "\n",
    "'''\n",
    "Computes the median of the overhead and routing over all pareto fronts of the all runs\n",
    "'''\n",
    "def compute_median_objectives(pfronts):\n",
    "    overheads, routings = get_objectives_for_each_pfront(pfronts)\n",
    "    return np.median(overheads), np.median(routings)\n",
    "\n",
    "\n",
    "def get_objectives_for_each_pfront(pfronts, plotting=False):\n",
    "    overheads = []\n",
    "    routings = []\n",
    "    # for each run/seed\n",
    "    \n",
    "    for pfront in pfronts:\n",
    "        overheads_single_run = [get_overhead(el) for el in pfront]\n",
    "        overheads.append(np.min(overheads_single_run))\n",
    "        routings_single_run = [get_routing(el) for el in pfront]\n",
    "        routings.append(np.min(routings_single_run))\n",
    "    \n",
    "    return overheads, routings\n",
    "\n",
    "\n",
    "'''\n",
    "List of lists, one for each run containing how the hypervolume evolves with each fitness evaluation.\n",
    "'''\n",
    "def compute_hv_over_evals(rtx_runs, run_to_all_individuals, opt_method):\n",
    "    # set iterations\n",
    "    set_iterations(opt_method)\n",
    "    \n",
    "    hv_series_of_all_runs = []\n",
    "    for rtx_run in rtx_runs:\n",
    "        rtx_run_id = rtx_run[\"id\"]\n",
    "        # get all individuals of the run\n",
    "        all_individuals = run_to_all_individuals.get(rtx_run_id, None)\n",
    "        if all_individuals is None:\n",
    "            # print(\"No documents for run \" + str(rtx_run_id))\n",
    "            break\n",
    "       \n",
    "        # debug_msg = \"\"\n",
    "        hv_series = []          \n",
    "        current_pareto_front = []\n",
    "        for i in range(iterations):\n",
    "            new_inds = [el for el in all_individuals if el[\"iteration\"] == i]\n",
    "            if not isinstance(new_inds, (list,)):\n",
    "                new_inds = [new_inds]\n",
    "            for j in range(len(new_inds)):\n",
    "                # new_ind is a list with one element\n",
    "                new_ind = [el for el in new_inds if el[\"individual\"] == j]\n",
    "                if len(new_ind) > 1:\n",
    "                    print(\"ERROR: More than one individual with the same number within the same iteration.\")\n",
    "                # debug_msg = debug_msg \n",
    "                #   + \"(\" + str(new_ind[0][\"iteration\"]) + \", \" + str(new_ind[0][\"individual\"]) + \")\"\n",
    "                current_pareto_front.append(new_ind[0])\n",
    "                current_pareto_front = get_pareto_front(current_pareto_front)\n",
    "                current_pareto_front_values = [[get_overhead(el), get_routing(el)] \n",
    "                                               for el in current_pareto_front]\n",
    "                hv = hyperVolume.compute(current_pareto_front_values)\n",
    "                hv_series.append(hv)\n",
    "        # print(debug_msg)\n",
    "        hv_series_of_all_runs.append(hv_series)\n",
    "    return hv_series_of_all_runs\n",
    "    \n",
    "\n",
    "'''\n",
    "Plots the evolution of the hypervolume of the methods over fitness evaluations. \n",
    "The hypervolume plotted is the mean hypervolume over the runs for each method.\n",
    "'''\n",
    "def plot_hypervolume_evolution(random_rtx_runs, random_run_to_all_individuals,\n",
    "                               nsga2_rtx_runs, nsga2_run_to_all_individuals,\n",
    "                               novelty_rtx_runs, novelty_run_to_all_individuals,\n",
    "                               mlr_rtx_runs, mlr_run_to_all_individuals, cars_number):\n",
    "    methods = [\"BOGP\", \"NSGA-II\", \"Novelty Search\", \"Random\"]\n",
    "    linestyles = [':', '-', '-.', '--']\n",
    "    \n",
    "    mlr_hv_series = compute_hv_over_evals(mlr_rtx_runs, mlr_run_to_all_individuals, methods[0])\n",
    "    nsga2_hv_series = compute_hv_over_evals(nsga2_rtx_runs, nsga2_run_to_all_individuals, methods[1])\n",
    "    novelty_hv_series = compute_hv_over_evals(novelty_rtx_runs, novelty_run_to_all_individuals, methods[2])\n",
    "    random_hv_series = compute_hv_over_evals(random_rtx_runs, random_run_to_all_individuals, methods[3])\n",
    "    \n",
    "    all_hv_series = [mlr_hv_series, nsga2_hv_series, novelty_hv_series, random_hv_series]\n",
    "    \n",
    "    fig, axes = plt.subplots()\n",
    "    # fig.suptitle(\"Evolution of the Mean Hypervolume (\" + str(cars_number) + \" cars)\", fontsize=16)    \n",
    "    plt.ylabel('Mean Hypervolume')\n",
    "    plt.xlabel('Fitness Evaluations')\n",
    "    \n",
    "    for i in range(len(methods)):\n",
    "        method = methods[i]\n",
    "        hv_series = all_hv_series[i]\n",
    "        a = np.array(hv_series)   \n",
    "        plot_data = np.mean(a, axis=0)\n",
    "        print(method + \" - final mean hv: \" + str(plot_data[len(plot_data)-1]))\n",
    "        plt.plot(range(len(plot_data)), plot_data, color='black', linestyle=linestyles[i], label=method)\n",
    "     \n",
    "    pylab.legend(loc='best')\n",
    "    plt.show()\n",
    "\n",
    "    \n",
    "def plot_hypervolume_boxplots(random_pfronts, nsga2_pfronts, novelty_pfronts, mlr_pfronts, cars_number):\n",
    "    hvs_random = compute_hvs(random_pfronts)\n",
    "    hvs_nsga2 = compute_hvs(nsga2_pfronts)\n",
    "    hvs_novelty = compute_hvs(novelty_pfronts)\n",
    "    hvs_mlr = compute_hvs(mlr_pfronts)\n",
    "\n",
    "    hvs = [hvs_mlr, hvs_nsga2, hvs_novelty, hvs_random]\n",
    "    hvs_names = [\"BOGP\", \"NSGA-II\", \"Novelty S.\", \"Random\"]\n",
    "    hvs_labels = range(1,5)\n",
    "\n",
    "    fig,ax = plt.subplots()\n",
    "    # plt.title(str(cars_number) + \" cars\")\n",
    "    ax.boxplot(hvs, 0, '', positions=hvs_labels)\n",
    "    for i in range(len(hvs)):\n",
    "        ax.plot(hvs_labels[i], np.mean(hvs[i]), \".\", label='mean', color='black', linestyle=':')\n",
    "    plt.xticks(hvs_labels, hvs_names) \n",
    "    plt.ylabel('Hypervolume')\n",
    "    plt.show() \n",
    "    \n",
    "    # statistical tests\n",
    "    run_ttest(hvs, hvs_names)\n",
    "    \n",
    "    # distributions\n",
    "    for i in range(len(hvs)):\n",
    "        fig,ax = plt.subplots()\n",
    "        plt.hist(hvs[i], bins=30)  \n",
    "        plt.title(str(hvs_names[i]) + \" (\" + str(cars_number) + \" cars)\")\n",
    "        plt.ylabel('frequency')\n",
    "        plt.xlabel('hypervolume')\n",
    "        plt.show() \n",
    "\n",
    "    \n",
    "def plot_objectives_boxplots(random_pfronts, nsga2_pfronts, novelty_pfronts, mlr_pfronts, cars_number):\n",
    "    overheads_random, routings_random = get_objectives_for_each_pfront(random_pfronts) \n",
    "    overheads_nsga2, routings_nsga2 = get_objectives_for_each_pfront(nsga2_pfronts) \n",
    "    overheads_novelty, routings_novelty = get_objectives_for_each_pfront(novelty_pfronts)  \n",
    "    overheads_mlr, routings_mlr = get_objectives_for_each_pfront(mlr_pfronts)\n",
    "        \n",
    "    overheads = [overheads_mlr, overheads_nsga2, overheads_novelty, overheads_random]\n",
    "    routings  = [routings_mlr, routings_nsga2, routings_novelty, routings_random]\n",
    "    names = [\"BOGP\", \"NSGA-II\", \"Novelty S.\", \"Random\"]\n",
    "    labels = range(1,5)\n",
    "    \n",
    "    # Trip overhead\n",
    "    fig,ax = plt.subplots()\n",
    "    # plt.title(str(cars_number) + \" cars\")\n",
    "    ax.boxplot(overheads, 0, '', positions=labels)\n",
    "    for i in range(len(overheads)):\n",
    "        ax.plot(labels[i], np.mean(overheads[i]), \".\", label='mean', color='black', linestyle=':')\n",
    "    plt.xticks(labels, names) \n",
    "    plt.ylabel('Trip Overhead')\n",
    "    plt.show()\n",
    "    \n",
    "    # statistical test #############\n",
    "    print(\"Trip Overhead:\")\n",
    "    run_ttest(overheads, names)\n",
    "    \n",
    "    # distributions\n",
    "    for i in range(len(overheads)):\n",
    "        fig,ax = plt.subplots()\n",
    "        plt.hist(overheads[i], bins=30)  \n",
    "        plt.title(\"Distribution: \" + str(names[i]) + \" (\" + str(cars_number) + \" cars)\")\n",
    "        plt.ylabel('frequency')\n",
    "        plt.xlabel('trip overhead')\n",
    "    plt.show()    \n",
    "    \n",
    "    # Routing Cost\n",
    "    fig,ax = plt.subplots()\n",
    "    # plt.title(str(cars_number) + \" cars\")\n",
    "    ax.boxplot(routings, 0, '', positions=labels)\n",
    "    for i in range(len(routings)):\n",
    "        ax.plot(labels[i], np.mean(routings[i]), \".\", label='mean', color='black', linestyle=':')\n",
    "    plt.xticks(labels, names) \n",
    "    plt.ylabel('Routing Cost')\n",
    "    plt.show() \n",
    "        \n",
    "    # statistical test #############\n",
    "    print(\"Routing Cost:\")\n",
    "    run_ttest(routings, names)\n",
    "    \n",
    "     # distributions\n",
    "    for i in range(len(routings)):\n",
    "        fig,ax = plt.subplots()\n",
    "        plt.hist(routings[i], bins=30)  \n",
    "        plt.title(\"Distribution: \" + str(names[i]) + \" (\" + str(cars_number) + \" cars)\")\n",
    "        plt.ylabel('frequency')\n",
    "        plt.xlabel('routing')\n",
    "    plt.show() \n",
    "    \n",
    "\n",
    "def run_ttest(dataXXX, names):\n",
    "    alpha = 0.05\n",
    "    for i in range(len(dataXXX)):\n",
    "        data_first = dataXXX[i]\n",
    "        name_first = names[i]\n",
    "        for j in range(len(names)):\n",
    "            if j == i:\n",
    "                break\n",
    "            data_second = dataXXX[j]\n",
    "            name_second = names[j]\n",
    "            statistic, pvalue = stats.ttest_ind(data_first, data_second, equal_var = False)\n",
    "            statistic2, pvalue2 = stats.wilcoxon(data_first, data_second)\n",
    "            \n",
    "            different_averages = bool(pvalue <= alpha)\n",
    "            is_is_not = \"\\tis\\t\" if different_averages else \"\\tis not\\t\"\n",
    "            print(name_first + is_is_not \n",
    "                  + \" statistically significantly different than \"+ name_second + \" (ttest)\")\n",
    "            \n",
    "            different_averages2 = bool(pvalue2 <= alpha)\n",
    "            is_is_not2 = \"\\tis\\t\" if different_averages2 else \"\\tis not\\t\"\n",
    "            print(name_first + is_is_not2 \n",
    "                  + \" statistically significantly different than \"+ name_second + \" (wilcoxon)\")\n",
    "\n",
    "\n",
    "            \n",
    "def check_avg(pfronts, name):\n",
    "    avg_hv = compute_avg_hv(pfronts)\n",
    "    median_hv = compute_median_hv(pfronts)\n",
    "    \n",
    "    avg_best_objectives = compute_avg_objectives(pfronts)\n",
    "    avg_best_overhead = avg_best_objectives[0]\n",
    "    avg_best_routing = avg_best_objectives[1]\n",
    "    \n",
    "    med_best_objectives = compute_median_objectives(pfronts)\n",
    "    med_best_overhead = med_best_objectives[0]\n",
    "    med_best_routing = med_best_objectives[1]\n",
    "    \n",
    "    tt = \"\\t\\t\" if name == \"BOGP\" else \"\\t\"\n",
    "        \n",
    "        \n",
    "    print(name + \" (\"+str(len(pfronts))+\" runs):\" + tt\n",
    "          + str(avg_best_overhead) + \"\\t| \" + str(med_best_overhead) + \"\\t| \" \n",
    "          + str(avg_best_routing) + \"\\t| \" + str(med_best_routing) + \"\\t| \" \n",
    "          + str(avg_hv) + \"\\t|\" + str(median_hv) + \"\\t| \")\n",
    "    \n",
    "\n",
    "    \n",
    "SMALL_SIZE = 12\n",
    "MEDIUM_SIZE = 14\n",
    "BIGGER_SIZE = 16\n",
    "\n",
    "plt.rc('font', size=SMALL_SIZE)          # controls default text sizes\n",
    "plt.rc('axes', titlesize=MEDIUM_SIZE)     # fontsize of the axes title\n",
    "plt.rc('axes', labelsize=BIGGER_SIZE)    # fontsize of the x and y labels\n",
    "plt.rc('xtick', labelsize=MEDIUM_SIZE)    # fontsize of the tick labels\n",
    "plt.rc('ytick', labelsize=MEDIUM_SIZE)    # fontsize of the tick labels\n",
    "plt.rc('legend', fontsize=SMALL_SIZE)    # legend fontsize\n",
    "plt.rc('figure', titlesize=BIGGER_SIZE)  # fontsize of the figure title\n",
    "\n",
    "print(\"Iterations considered: \" + str(iterations))\n",
    "print(\"Average Overhead (Best of each run) | Median Overhead (Best of each run)\" \n",
    "      +\" | Average Routing (Best of each run) | Median Routing (Best of each run)\" \n",
    "      +\" |Average Hypervolume | Median Hypervolume\" )\n",
    "\n",
    "print(\"500 cars\")\n",
    "check_avg(mlr_500_pfronts, \"BOGP\")\n",
    "check_avg(nsga2_500_pfronts, \"NSGA-II\")\n",
    "check_avg(novelty_500_pfronts, \"Novel\")\n",
    "check_avg(random_500_pfronts, \"Random\")\n",
    "\n",
    "print(\"700 cars\")\n",
    "check_avg(mlr_700_pfronts, \"BOGP\")\n",
    "check_avg(nsga2_700_pfronts, \"NSGA-II\")\n",
    "check_avg(novelty_700_pfronts, \"Novel\")\n",
    "check_avg(random_700_pfronts, \"Random\")\n",
    "\n",
    "print(\"800 cars\")\n",
    "check_avg(mlr_800_pfronts, \"BOGP\")\n",
    "check_avg(nsga2_800_pfronts, \"NSGA-II\")\n",
    "check_avg(novelty_800_pfronts, \"Novel\")\n",
    "check_avg(random_800_pfronts, \"Random\")\n",
    "\n",
    "\n",
    "# Hypervolume Boxplots ==========\n",
    "plot_hypervolume_boxplots(random_500_pfronts, nsga2_500_pfronts, novelty_500_pfronts, mlr_500_pfronts, 500)\n",
    "plot_hypervolume_boxplots(random_700_pfronts, nsga2_700_pfronts, novelty_700_pfronts, mlr_700_pfronts, 700)\n",
    "plot_hypervolume_boxplots(random_800_pfronts, nsga2_800_pfronts, novelty_800_pfronts, mlr_800_pfronts, 800)\n",
    "\n",
    "# Objectives Boxplots ==========\n",
    "plot_objectives_boxplots(random_500_pfronts, nsga2_500_pfronts, novelty_500_pfronts, mlr_500_pfronts, 500)\n",
    "plot_objectives_boxplots(random_700_pfronts, nsga2_700_pfronts, novelty_700_pfronts, mlr_700_pfronts, 700)\n",
    "plot_objectives_boxplots(random_800_pfronts, nsga2_800_pfronts, novelty_800_pfronts, mlr_800_pfronts, 800)\n",
    "\n",
    "# Hypervolume Evolution ==========\n",
    "plot_hypervolume_evolution(random_rtx_runs_500, random_run_inds_500, \n",
    "                           nsga2_rtx_runs_500, nsga2_run_inds_500,\n",
    "                           novelty_rtx_runs_500, novelty_run_inds_500, \n",
    "                           mlr_rtx_runs_500, mlr_run_inds_500, 500)\n",
    "\n",
    "plot_hypervolume_evolution(random_rtx_runs_700, random_run_inds_700,\n",
    "                           nsga2_rtx_runs_700, nsga2_run_inds_700,\n",
    "                           novelty_rtx_runs_700, novelty_run_inds_700,\n",
    "                           mlr_rtx_runs_700, mlr_run_inds_700, 700)\n",
    "\n",
    "plot_hypervolume_evolution(random_rtx_runs_800, random_run_inds_800,\n",
    "                           nsga2_rtx_runs_800, nsga2_run_inds_800,\n",
    "                           novelty_rtx_runs_800, novelty_run_inds_800,\n",
    "                           mlr_rtx_runs_800, mlr_run_inds_800, 800)"
   ]
  },
  {
   "cell_type": "markdown",
   "metadata": {},
   "source": [
    "### "
   ]
  }
 ],
 "metadata": {
  "anaconda-cloud": {},
  "kernelspec": {
   "display_name": "Python 2",
   "language": "python",
   "name": "python2"
  },
  "language_info": {
   "codemirror_mode": {
    "name": "ipython",
    "version": 2
   },
   "file_extension": ".py",
   "mimetype": "text/x-python",
   "name": "python",
   "nbconvert_exporter": "python",
   "pygments_lexer": "ipython2",
   "version": "2.7.14"
  }
 },
 "nbformat": 4,
 "nbformat_minor": 1
}
