{
 "cells": [
  {
   "cell_type": "markdown",
   "metadata": {},
   "source": [
    "## Load data\n"
   ]
  },
  {
   "cell_type": "code",
   "execution_count": 1,
   "metadata": {
    "scrolled": false
   },
   "outputs": [
    {
     "name": "stdout",
     "output_type": "stream",
     "text": [
      "\n",
      "Reading from index erik-gcp-novelty-500cars-median\n",
      "data retrieved from file raw_data/erik-gcp-novelty-500cars-median.pickle\n",
      "\n",
      "Reading from index erik-noveltysearch-700cars-median\n",
      "data retrieved from file raw_data/erik-noveltysearch-700cars-median.pickle\n",
      "\n",
      "Reading from index erik-noveltysearch-800cars-median\n",
      "data retrieved from file raw_data/erik-noveltysearch-800cars-median.pickle\n",
      "\n",
      "Reading from index erik-gcp-nsga2-500cars-median\n",
      "data retrieved from file raw_data/erik-gcp-nsga2-500cars-median.pickle\n",
      "\n",
      "Reading from index erik-nsga2-700cars-median\n",
      "data retrieved from file raw_data/erik-nsga2-700cars-median.pickle\n",
      "\n",
      "Reading from index erik-nsga2-800cars-median\n",
      "data retrieved from file raw_data/erik-nsga2-800cars-median.pickle\n",
      "\n",
      "Reading from index erik-gcp-mlr-500cars-median\n",
      "data retrieved from file raw_data/erik-gcp-mlr-500cars-median.pickle\n",
      "\n",
      "Reading from index ilias-mlr-700cars-median\n",
      "data retrieved from file raw_data/ilias-mlr-700cars-median.pickle\n",
      "\n",
      "Reading from index ilias-mlr-800cars-median\n",
      "data retrieved from file raw_data/ilias-mlr-800cars-median.pickle\n",
      "\n",
      "Reading from index erik-gcp-random-500cars-median\n",
      "data retrieved from file raw_data/erik-gcp-random-500cars-median.pickle\n",
      "\n",
      "Reading from index erik-random-700cars-median\n",
      "data retrieved from file raw_data/erik-random-700cars-median.pickle\n",
      "\n",
      "Reading from index erik-random-800cars-median\n",
      "data retrieved from file raw_data/erik-random-800cars-median.pickle\n"
     ]
    }
   ],
   "source": [
    "%matplotlib inline \n",
    "%reload_ext autoreload\n",
    "from notebooks_commons import get_raw_data\n",
    "\n",
    "\n",
    "# The first time we want to download the data from an index (might take a while!), \n",
    "# we should put the parameter load_from_db to True. Then, we can set it to False to \n",
    "# read the saved data from the local pickle file.\n",
    "def read_data(index, load_from_db = False):\n",
    "    print \"\\nReading from index \" + index\n",
    "    pair = get_raw_data(index, load_from_db)\n",
    "    rtx_runs = pair[0]\n",
    "    data     = pair[1] \n",
    "    return rtx_runs, data\n",
    "\n",
    "\n",
    "# Here we specify the name of the index to read data from\n",
    "\n",
    "index_random_500= \"erik-gcp-random-500cars-median\" \n",
    "index_novelty_500 = \"erik-gcp-novelty-500cars-median\"\n",
    "index_nsga2_500 = \"erik-gcp-nsga2-500cars-median\"\n",
    "index_mlr_500 = \"erik-gcp-mlr-500cars-median\" \n",
    "\n",
    "index_random_700 = \"erik-random-700cars-median\" \n",
    "index_novelty_700 = \"erik-noveltysearch-700cars-median\"\n",
    "index_nsga2_700 = \"erik-nsga2-700cars-median\"\n",
    "index_mlr_700 = \"ilias-mlr-700cars-median\" \n",
    "\n",
    "index_random_800 = \"erik-random-800cars-median\" \n",
    "index_novelty_800 = \"erik-noveltysearch-800cars-median\"\n",
    "index_nsga2_800 = \"erik-nsga2-800cars-median\"\n",
    "index_mlr_800 = \"ilias-mlr-800cars-median\" \n",
    "\n",
    "\n",
    "###\n",
    "load_from_db = False\n",
    "\n",
    "### Get Novelty data\n",
    "novelty_rtx_runs_500, novelty_data_500 = read_data(index_novelty_500, load_from_db)\n",
    "novelty_rtx_runs_700, novelty_data_700 = read_data(index_novelty_700, load_from_db)\n",
    "novelty_rtx_runs_800, novelty_data_800 = read_data(index_novelty_800, load_from_db)\n",
    "\n",
    "### Get NSGA2 data\n",
    "nsga2_rtx_runs_500, nsga2_data_500 = read_data(index_nsga2_500, load_from_db)\n",
    "nsga2_rtx_runs_700, nsga2_data_700 = read_data(index_nsga2_700, load_from_db)\n",
    "nsga2_rtx_runs_800, nsga2_data_800 = read_data(index_nsga2_800, load_from_db)\n",
    "\n",
    "### Get MLR data\n",
    "mlr_rtx_runs_500, mlr_data_500 = read_data(index_mlr_500, load_from_db)\n",
    "mlr_rtx_runs_700, mlr_data_700 = read_data(index_mlr_700, load_from_db)\n",
    "mlr_rtx_runs_800, mlr_data_800 = read_data(index_mlr_800, load_from_db)\n",
    "\n",
    "### Get RandomSearch data\n",
    "random_rtx_runs_500, random_data_500 = read_data(index_random_500, load_from_db)\n",
    "random_rtx_runs_700, random_data_700 = read_data(index_random_700, load_from_db)\n",
    "random_rtx_runs_800, random_data_800 = read_data(index_random_800, load_from_db)"
   ]
  },
  {
   "cell_type": "markdown",
   "metadata": {},
   "source": [
    "## Load Fitness Function"
   ]
  },
  {
   "cell_type": "code",
   "execution_count": 2,
   "metadata": {},
   "outputs": [
    {
     "name": "stdout",
     "output_type": "stream",
     "text": [
      "Fitness Function Loaded\n"
     ]
    }
   ],
   "source": [
    "use_median = True\n",
    "\n",
    "'''\n",
    "Returns the fitness of an individual\n",
    "'''\n",
    "def get_fitness(ind):\n",
    "    if use_median:\n",
    "        return ind[\"payload\"][\"median_overhead\"], ind[\"payload\"][\"median_routing\"]\n",
    "    else: \n",
    "        return ind[\"avg_overhead\"], ind[\"avg_routing\"]\n",
    "            \n",
    "'''\n",
    "Returns the overhead of an individual\n",
    "'''\n",
    "def get_overhead(ind):\n",
    "    if use_median:\n",
    "        return ind[\"payload\"][\"median_overhead\"]\n",
    "    else:\n",
    "        return ind[\"avg_overhead\"]\n",
    "    \n",
    "\n",
    "'''\n",
    "Returns the routing of an individual\n",
    "'''\n",
    "def get_routing(ind):\n",
    "    if use_median:\n",
    "        return ind[\"payload\"][\"median_routing\"]\n",
    "    else:\n",
    "        return ind[\"avg_routing\"]\n",
    "    \n",
    "\n",
    "\n",
    "\n",
    "def set_fitness_med(ind, overhead, routing):\n",
    "    ind[\"payload\"][\"median_overhead\"] = overhead\n",
    "    ind[\"payload\"][\"median_routing\"] = routing      \n",
    "\n",
    "        \n",
    "def set_fitness_avg(ind, overhead, routing):\n",
    "    ind[\"avg_overhead\"] = overhead\n",
    "    ind[\"avg_routing\"] = routing        \n",
    "\n",
    "    \n",
    "print(\"Fitness Function Loaded\")"
   ]
  },
  {
   "cell_type": "markdown",
   "metadata": {},
   "source": [
    "## Check what's in there"
   ]
  },
  {
   "cell_type": "code",
   "execution_count": 3,
   "metadata": {
    "scrolled": true
   },
   "outputs": [
    {
     "name": "stdout",
     "output_type": "stream",
     "text": [
      "There were 30 runs performed by RandomSearch\n"
     ]
    },
    {
     "data": {
      "text/markdown": [
       "<span style='color:red'>100\t\t| seed 1 | id AWiALsKlMEaT9KPSX8Ly</span>"
      ],
      "text/plain": [
       "<IPython.core.display.Markdown object>"
      ]
     },
     "metadata": {},
     "output_type": "display_data"
    },
    {
     "data": {
      "text/markdown": [
       "<span style='color:red'>100\t\t| seed 3 | id AWiALuGSMEaT9KPSX8OH</span>"
      ],
      "text/plain": [
       "<IPython.core.display.Markdown object>"
      ]
     },
     "metadata": {},
     "output_type": "display_data"
    },
    {
     "data": {
      "text/markdown": [
       "<span style='color:red'>100\t\t| seed 4 | id AWiALwiZMEaT9KPSX8Qc</span>"
      ],
      "text/plain": [
       "<IPython.core.display.Markdown object>"
      ]
     },
     "metadata": {},
     "output_type": "display_data"
    },
    {
     "data": {
      "text/markdown": [
       "<span style='color:red'>100\t\t| seed 5 | id AWiALy-aMEaT9KPSX8Sx</span>"
      ],
      "text/plain": [
       "<IPython.core.display.Markdown object>"
      ]
     },
     "metadata": {},
     "output_type": "display_data"
    },
    {
     "data": {
      "text/markdown": [
       "<span style='color:red'>100\t\t| seed 6 | id AWiAL1afMEaT9KPSX8VG</span>"
      ],
      "text/plain": [
       "<IPython.core.display.Markdown object>"
      ]
     },
     "metadata": {},
     "output_type": "display_data"
    },
    {
     "data": {
      "text/markdown": [
       "<span style='color:red'>100\t\t| seed 7 | id AWiAL33FMEaT9KPSX8Xb</span>"
      ],
      "text/plain": [
       "<IPython.core.display.Markdown object>"
      ]
     },
     "metadata": {},
     "output_type": "display_data"
    },
    {
     "data": {
      "text/markdown": [
       "<span style='color:red'>100\t\t| seed 8 | id AWiAL6TrMEaT9KPSX8Zw</span>"
      ],
      "text/plain": [
       "<IPython.core.display.Markdown object>"
      ]
     },
     "metadata": {},
     "output_type": "display_data"
    },
    {
     "data": {
      "text/markdown": [
       "<span style='color:red'>100\t\t| seed 9 | id AWiAL8vtMEaT9KPSX8cF</span>"
      ],
      "text/plain": [
       "<IPython.core.display.Markdown object>"
      ]
     },
     "metadata": {},
     "output_type": "display_data"
    },
    {
     "data": {
      "text/markdown": [
       "<span style='color:red'>100\t\t| seed 10 | id AWiAL_MSMEaT9KPSX8ea</span>"
      ],
      "text/plain": [
       "<IPython.core.display.Markdown object>"
      ]
     },
     "metadata": {},
     "output_type": "display_data"
    },
    {
     "data": {
      "text/markdown": [
       "<span style='color:red'>100\t\t| seed 11 | id AWiAMBpmMEaT9KPSX8gv</span>"
      ],
      "text/plain": [
       "<IPython.core.display.Markdown object>"
      ]
     },
     "metadata": {},
     "output_type": "display_data"
    },
    {
     "data": {
      "text/markdown": [
       "<span style='color:red'>100\t\t| seed 12 | id AWiAMEFWMEaT9KPSX8jE</span>"
      ],
      "text/plain": [
       "<IPython.core.display.Markdown object>"
      ]
     },
     "metadata": {},
     "output_type": "display_data"
    },
    {
     "data": {
      "text/markdown": [
       "<span style='color:red'>100\t\t| seed 13 | id AWiAMGipMEaT9KPSX8lZ</span>"
      ],
      "text/plain": [
       "<IPython.core.display.Markdown object>"
      ]
     },
     "metadata": {},
     "output_type": "display_data"
    },
    {
     "data": {
      "text/markdown": [
       "<span style='color:red'>100\t\t| seed 14 | id AWiAMI-zMEaT9KPSX8nw</span>"
      ],
      "text/plain": [
       "<IPython.core.display.Markdown object>"
      ]
     },
     "metadata": {},
     "output_type": "display_data"
    },
    {
     "data": {
      "text/markdown": [
       "<span style='color:red'>100\t\t| seed 15 | id AWiAMLbQMEaT9KPSX8qG</span>"
      ],
      "text/plain": [
       "<IPython.core.display.Markdown object>"
      ]
     },
     "metadata": {},
     "output_type": "display_data"
    },
    {
     "data": {
      "text/markdown": [
       "<span style='color:red'>100\t\t| seed 16 | id AWiAMHVZMEaT9KPSX8la</span>"
      ],
      "text/plain": [
       "<IPython.core.display.Markdown object>"
      ]
     },
     "metadata": {},
     "output_type": "display_data"
    },
    {
     "data": {
      "text/markdown": [
       "<span style='color:red'>100\t\t| seed 17 | id AWiAMHVjMEaT9KPSX8lb</span>"
      ],
      "text/plain": [
       "<IPython.core.display.Markdown object>"
      ]
     },
     "metadata": {},
     "output_type": "display_data"
    },
    {
     "data": {
      "text/markdown": [
       "<span style='color:red'>100\t\t| seed 18 | id AWiAMJmfMEaT9KPSX8nx</span>"
      ],
      "text/plain": [
       "<IPython.core.display.Markdown object>"
      ]
     },
     "metadata": {},
     "output_type": "display_data"
    },
    {
     "data": {
      "text/markdown": [
       "<span style='color:red'>100\t\t| seed 19 | id AWiAMMEFMEaT9KPSX8qH</span>"
      ],
      "text/plain": [
       "<IPython.core.display.Markdown object>"
      ]
     },
     "metadata": {},
     "output_type": "display_data"
    },
    {
     "data": {
      "text/markdown": [
       "<span style='color:red'>100\t\t| seed 20 | id AWiAMOfyMEaT9KPSX8sc</span>"
      ],
      "text/plain": [
       "<IPython.core.display.Markdown object>"
      ]
     },
     "metadata": {},
     "output_type": "display_data"
    },
    {
     "data": {
      "text/markdown": [
       "<span style='color:red'>100\t\t| seed 21 | id AWiAMQ8DMEaT9KPSX8ux</span>"
      ],
      "text/plain": [
       "<IPython.core.display.Markdown object>"
      ]
     },
     "metadata": {},
     "output_type": "display_data"
    },
    {
     "data": {
      "text/markdown": [
       "<span style='color:red'>100\t\t| seed 22 | id AWiAMTYQMEaT9KPSX8xG</span>"
      ],
      "text/plain": [
       "<IPython.core.display.Markdown object>"
      ]
     },
     "metadata": {},
     "output_type": "display_data"
    },
    {
     "data": {
      "text/markdown": [
       "<span style='color:red'>100\t\t| seed 23 | id AWiAMV1HMEaT9KPSX8zb</span>"
      ],
      "text/plain": [
       "<IPython.core.display.Markdown object>"
      ]
     },
     "metadata": {},
     "output_type": "display_data"
    },
    {
     "data": {
      "text/markdown": [
       "<span style='color:red'>100\t\t| seed 24 | id AWiAMYR_MEaT9KPSX81w</span>"
      ],
      "text/plain": [
       "<IPython.core.display.Markdown object>"
      ]
     },
     "metadata": {},
     "output_type": "display_data"
    },
    {
     "data": {
      "text/markdown": [
       "<span style='color:red'>100\t\t| seed 25 | id AWiAMau7MEaT9KPSX84F</span>"
      ],
      "text/plain": [
       "<IPython.core.display.Markdown object>"
      ]
     },
     "metadata": {},
     "output_type": "display_data"
    },
    {
     "data": {
      "text/markdown": [
       "<span style='color:red'>100\t\t| seed 26 | id AWiAMdLIMEaT9KPSX86a</span>"
      ],
      "text/plain": [
       "<IPython.core.display.Markdown object>"
      ]
     },
     "metadata": {},
     "output_type": "display_data"
    },
    {
     "data": {
      "text/markdown": [
       "<span style='color:red'>100\t\t| seed 27 | id AWiAMfm3MEaT9KPSX88v</span>"
      ],
      "text/plain": [
       "<IPython.core.display.Markdown object>"
      ]
     },
     "metadata": {},
     "output_type": "display_data"
    },
    {
     "data": {
      "text/markdown": [
       "<span style='color:red'>100\t\t| seed 28 | id AWiAMiFLMEaT9KPSX8_F</span>"
      ],
      "text/plain": [
       "<IPython.core.display.Markdown object>"
      ]
     },
     "metadata": {},
     "output_type": "display_data"
    },
    {
     "data": {
      "text/markdown": [
       "<span style='color:red'>100\t\t| seed 29 | id AWiAMkgJMEaT9KPSX9Bc</span>"
      ],
      "text/plain": [
       "<IPython.core.display.Markdown object>"
      ]
     },
     "metadata": {},
     "output_type": "display_data"
    },
    {
     "data": {
      "text/markdown": [
       "<span style='color:red'>100\t\t| seed 30 | id AWiAMm9HMEaT9KPSX9Dz</span>"
      ],
      "text/plain": [
       "<IPython.core.display.Markdown object>"
      ]
     },
     "metadata": {},
     "output_type": "display_data"
    },
    {
     "data": {
      "text/markdown": [
       "<span style='color:red'>100\t\t| seed 31 | id AWiDJnJcMEaT9KPSazVs</span>"
      ],
      "text/plain": [
       "<IPython.core.display.Markdown object>"
      ]
     },
     "metadata": {},
     "output_type": "display_data"
    },
    {
     "name": "stdout",
     "output_type": "stream",
     "text": [
      "There were 15 runs performed by RandomSearch\n"
     ]
    },
    {
     "data": {
      "text/markdown": [
       "<span style='color:red'>100\t\t| seed 1 | id AWh7MU1VMEaT9KPSTQjJ</span>"
      ],
      "text/plain": [
       "<IPython.core.display.Markdown object>"
      ]
     },
     "metadata": {},
     "output_type": "display_data"
    },
    {
     "data": {
      "text/markdown": [
       "<span style='color:red'>100\t\t| seed 3 | id AWh7MWUoMEaT9KPSTQjL</span>"
      ],
      "text/plain": [
       "<IPython.core.display.Markdown object>"
      ]
     },
     "metadata": {},
     "output_type": "display_data"
    },
    {
     "data": {
      "text/markdown": [
       "<span style='color:red'>100\t\t| seed 4 | id AWh7MYxgMEaT9KPSTQlc</span>"
      ],
      "text/plain": [
       "<IPython.core.display.Markdown object>"
      ]
     },
     "metadata": {},
     "output_type": "display_data"
    },
    {
     "data": {
      "text/markdown": [
       "<span style='color:red'>100\t\t| seed 5 | id AWh7MbONMEaT9KPSTQnt</span>"
      ],
      "text/plain": [
       "<IPython.core.display.Markdown object>"
      ]
     },
     "metadata": {},
     "output_type": "display_data"
    },
    {
     "data": {
      "text/markdown": [
       "<span style='color:red'>100\t\t| seed 6 | id AWh7MdqyMEaT9KPSTQp_</span>"
      ],
      "text/plain": [
       "<IPython.core.display.Markdown object>"
      ]
     },
     "metadata": {},
     "output_type": "display_data"
    },
    {
     "data": {
      "text/markdown": [
       "<span style='color:red'>100\t\t| seed 7 | id AWh7MgGZMEaT9KPSTQsQ</span>"
      ],
      "text/plain": [
       "<IPython.core.display.Markdown object>"
      ]
     },
     "metadata": {},
     "output_type": "display_data"
    },
    {
     "data": {
      "text/markdown": [
       "<span style='color:red'>100\t\t| seed 8 | id AWh7Mij5MEaT9KPSTQuh</span>"
      ],
      "text/plain": [
       "<IPython.core.display.Markdown object>"
      ]
     },
     "metadata": {},
     "output_type": "display_data"
    },
    {
     "data": {
      "text/markdown": [
       "<span style='color:red'>100\t\t| seed 9 | id AWh7MlAAMEaT9KPSTQwy</span>"
      ],
      "text/plain": [
       "<IPython.core.display.Markdown object>"
      ]
     },
     "metadata": {},
     "output_type": "display_data"
    },
    {
     "data": {
      "text/markdown": [
       "<span style='color:red'>100\t\t| seed 10 | id AWh7MndPMEaT9KPSTQzD</span>"
      ],
      "text/plain": [
       "<IPython.core.display.Markdown object>"
      ]
     },
     "metadata": {},
     "output_type": "display_data"
    },
    {
     "data": {
      "text/markdown": [
       "<span style='color:red'>100\t\t| seed 11 | id AWh7Mp5dMEaT9KPSTQ1U</span>"
      ],
      "text/plain": [
       "<IPython.core.display.Markdown object>"
      ]
     },
     "metadata": {},
     "output_type": "display_data"
    },
    {
     "data": {
      "text/markdown": [
       "<span style='color:red'>100\t\t| seed 12 | id AWh7MsWnMEaT9KPSTQ3l</span>"
      ],
      "text/plain": [
       "<IPython.core.display.Markdown object>"
      ]
     },
     "metadata": {},
     "output_type": "display_data"
    },
    {
     "data": {
      "text/markdown": [
       "<span style='color:red'>100\t\t| seed 13 | id AWh7Muy8MEaT9KPSTQ52</span>"
      ],
      "text/plain": [
       "<IPython.core.display.Markdown object>"
      ]
     },
     "metadata": {},
     "output_type": "display_data"
    },
    {
     "data": {
      "text/markdown": [
       "<span style='color:red'>100\t\t| seed 14 | id AWh7MxPzMEaT9KPSTQ8H</span>"
      ],
      "text/plain": [
       "<IPython.core.display.Markdown object>"
      ]
     },
     "metadata": {},
     "output_type": "display_data"
    },
    {
     "data": {
      "text/markdown": [
       "<span style='color:red'>100\t\t| seed 15 | id AWh7MzsSMEaT9KPSTQ-Y</span>"
      ],
      "text/plain": [
       "<IPython.core.display.Markdown object>"
      ]
     },
     "metadata": {},
     "output_type": "display_data"
    },
    {
     "data": {
      "text/markdown": [
       "<span style='color:red'>100\t\t| seed 31 | id AWh9fwGqMEaT9KPSVabD</span>"
      ],
      "text/plain": [
       "<IPython.core.display.Markdown object>"
      ]
     },
     "metadata": {},
     "output_type": "display_data"
    },
    {
     "name": "stdout",
     "output_type": "stream",
     "text": [
      "There were 14 runs performed by RandomSearch\n"
     ]
    },
    {
     "data": {
      "text/markdown": [
       "<span style='color:red'>100\t\t| seed 1 | id AWh3AeIhMEaT9KPSPehe</span>"
      ],
      "text/plain": [
       "<IPython.core.display.Markdown object>"
      ]
     },
     "metadata": {},
     "output_type": "display_data"
    },
    {
     "data": {
      "text/markdown": [
       "<span style='color:red'>100\t\t| seed 3 | id AWh3Af6qMEaT9KPSPejq</span>"
      ],
      "text/plain": [
       "<IPython.core.display.Markdown object>"
      ]
     },
     "metadata": {},
     "output_type": "display_data"
    },
    {
     "data": {
      "text/markdown": [
       "<span style='color:red'>100\t\t| seed 4 | id AWh3AiYCMEaT9KPSPel2</span>"
      ],
      "text/plain": [
       "<IPython.core.display.Markdown object>"
      ]
     },
     "metadata": {},
     "output_type": "display_data"
    },
    {
     "data": {
      "text/markdown": [
       "<span style='color:red'>100\t\t| seed 5 | id AWh3Aky0MEaT9KPSPeoC</span>"
      ],
      "text/plain": [
       "<IPython.core.display.Markdown object>"
      ]
     },
     "metadata": {},
     "output_type": "display_data"
    },
    {
     "data": {
      "text/markdown": [
       "<span style='color:red'>100\t\t| seed 6 | id AWh3AnQOMEaT9KPSPeqO</span>"
      ],
      "text/plain": [
       "<IPython.core.display.Markdown object>"
      ]
     },
     "metadata": {},
     "output_type": "display_data"
    },
    {
     "data": {
      "text/markdown": [
       "<span style='color:red'>100\t\t| seed 7 | id AWh3AptCMEaT9KPSPesa</span>"
      ],
      "text/plain": [
       "<IPython.core.display.Markdown object>"
      ]
     },
     "metadata": {},
     "output_type": "display_data"
    },
    {
     "data": {
      "text/markdown": [
       "<span style='color:red'>100\t\t| seed 8 | id AWh3AsKaMEaT9KPSPeum</span>"
      ],
      "text/plain": [
       "<IPython.core.display.Markdown object>"
      ]
     },
     "metadata": {},
     "output_type": "display_data"
    },
    {
     "data": {
      "text/markdown": [
       "<span style='color:red'>100\t\t| seed 9 | id AWh3AumcMEaT9KPSPewy</span>"
      ],
      "text/plain": [
       "<IPython.core.display.Markdown object>"
      ]
     },
     "metadata": {},
     "output_type": "display_data"
    },
    {
     "data": {
      "text/markdown": [
       "<span style='color:red'>100\t\t| seed 10 | id AWh3AxC0MEaT9KPSPey-</span>"
      ],
      "text/plain": [
       "<IPython.core.display.Markdown object>"
      ]
     },
     "metadata": {},
     "output_type": "display_data"
    },
    {
     "data": {
      "text/markdown": [
       "<span style='color:red'>100\t\t| seed 11 | id AWh3Aze_MEaT9KPSPe1K</span>"
      ],
      "text/plain": [
       "<IPython.core.display.Markdown object>"
      ]
     },
     "metadata": {},
     "output_type": "display_data"
    },
    {
     "data": {
      "text/markdown": [
       "<span style='color:red'>100\t\t| seed 12 | id AWh3A173MEaT9KPSPe3W</span>"
      ],
      "text/plain": [
       "<IPython.core.display.Markdown object>"
      ]
     },
     "metadata": {},
     "output_type": "display_data"
    },
    {
     "data": {
      "text/markdown": [
       "<span style='color:red'>100\t\t| seed 13 | id AWh3A4Y4MEaT9KPSPe5i</span>"
      ],
      "text/plain": [
       "<IPython.core.display.Markdown object>"
      ]
     },
     "metadata": {},
     "output_type": "display_data"
    },
    {
     "data": {
      "text/markdown": [
       "<span style='color:red'>100\t\t| seed 14 | id AWh3A61PMEaT9KPSPe7u</span>"
      ],
      "text/plain": [
       "<IPython.core.display.Markdown object>"
      ]
     },
     "metadata": {},
     "output_type": "display_data"
    },
    {
     "data": {
      "text/markdown": [
       "<span style='color:red'>100\t\t| seed 15 | id AWh3A9RuMEaT9KPSPe96</span>"
      ],
      "text/plain": [
       "<IPython.core.display.Markdown object>"
      ]
     },
     "metadata": {},
     "output_type": "display_data"
    },
    {
     "name": "stdout",
     "output_type": "stream",
     "text": [
      "There were 30 runs performed by MLR\n"
     ]
    },
    {
     "data": {
      "text/markdown": [
       "<span style='color:red'>100\t\t| seed 1 | id AWiDT-QTMEaT9KPSa9h2</span>"
      ],
      "text/plain": [
       "<IPython.core.display.Markdown object>"
      ]
     },
     "metadata": {},
     "output_type": "display_data"
    },
    {
     "data": {
      "text/markdown": [
       "<span style='color:red'>100\t\t| seed 2 | id AWiDUAqgMEaT9KPSa9kS</span>"
      ],
      "text/plain": [
       "<IPython.core.display.Markdown object>"
      ]
     },
     "metadata": {},
     "output_type": "display_data"
    },
    {
     "data": {
      "text/markdown": [
       "<span style='color:red'>100\t\t| seed 3 | id AWiDUDHKMEaT9KPSa9mu</span>"
      ],
      "text/plain": [
       "<IPython.core.display.Markdown object>"
      ]
     },
     "metadata": {},
     "output_type": "display_data"
    },
    {
     "data": {
      "text/markdown": [
       "<span style='color:red'>100\t\t| seed 4 | id AWiDUFjeMEaT9KPSa9pK</span>"
      ],
      "text/plain": [
       "<IPython.core.display.Markdown object>"
      ]
     },
     "metadata": {},
     "output_type": "display_data"
    },
    {
     "data": {
      "text/markdown": [
       "<span style='color:red'>100\t\t| seed 5 | id AWiDUH_EMEaT9KPSa9rm</span>"
      ],
      "text/plain": [
       "<IPython.core.display.Markdown object>"
      ]
     },
     "metadata": {},
     "output_type": "display_data"
    },
    {
     "data": {
      "text/markdown": [
       "<span style='color:red'>100\t\t| seed 6 | id AWiDUKb4MEaT9KPSa9uC</span>"
      ],
      "text/plain": [
       "<IPython.core.display.Markdown object>"
      ]
     },
     "metadata": {},
     "output_type": "display_data"
    },
    {
     "data": {
      "text/markdown": [
       "<span style='color:red'>100\t\t| seed 7 | id AWiDUM5BMEaT9KPSa9we</span>"
      ],
      "text/plain": [
       "<IPython.core.display.Markdown object>"
      ]
     },
     "metadata": {},
     "output_type": "display_data"
    },
    {
     "data": {
      "text/markdown": [
       "<span style='color:red'>100\t\t| seed 8 | id AWiDUPWDMEaT9KPSa9y6</span>"
      ],
      "text/plain": [
       "<IPython.core.display.Markdown object>"
      ]
     },
     "metadata": {},
     "output_type": "display_data"
    },
    {
     "data": {
      "text/markdown": [
       "<span style='color:red'>100\t\t| seed 9 | id AWiDURyPMEaT9KPSa91W</span>"
      ],
      "text/plain": [
       "<IPython.core.display.Markdown object>"
      ]
     },
     "metadata": {},
     "output_type": "display_data"
    },
    {
     "data": {
      "text/markdown": [
       "<span style='color:red'>100\t\t| seed 10 | id AWiDUUODMEaT9KPSa93y</span>"
      ],
      "text/plain": [
       "<IPython.core.display.Markdown object>"
      ]
     },
     "metadata": {},
     "output_type": "display_data"
    },
    {
     "data": {
      "text/markdown": [
       "<span style='color:red'>100\t\t| seed 11 | id AWiDUWq6MEaT9KPSa96O</span>"
      ],
      "text/plain": [
       "<IPython.core.display.Markdown object>"
      ]
     },
     "metadata": {},
     "output_type": "display_data"
    },
    {
     "data": {
      "text/markdown": [
       "<span style='color:red'>100\t\t| seed 12 | id AWiDUZHZMEaT9KPSa98q</span>"
      ],
      "text/plain": [
       "<IPython.core.display.Markdown object>"
      ]
     },
     "metadata": {},
     "output_type": "display_data"
    },
    {
     "data": {
      "text/markdown": [
       "<span style='color:red'>100\t\t| seed 13 | id AWiDUbkxMEaT9KPSa9_G</span>"
      ],
      "text/plain": [
       "<IPython.core.display.Markdown object>"
      ]
     },
     "metadata": {},
     "output_type": "display_data"
    },
    {
     "data": {
      "text/markdown": [
       "<span style='color:red'>100\t\t| seed 14 | id AWiDUeA0MEaT9KPSa-Bi</span>"
      ],
      "text/plain": [
       "<IPython.core.display.Markdown object>"
      ]
     },
     "metadata": {},
     "output_type": "display_data"
    },
    {
     "data": {
      "text/markdown": [
       "<span style='color:red'>100\t\t| seed 15 | id AWiDUgd0MEaT9KPSa-D-</span>"
      ],
      "text/plain": [
       "<IPython.core.display.Markdown object>"
      ]
     },
     "metadata": {},
     "output_type": "display_data"
    },
    {
     "data": {
      "text/markdown": [
       "<span style='color:red'>100\t\t| seed 16 | id AWiDcR4BMEaT9KPSbFyF</span>"
      ],
      "text/plain": [
       "<IPython.core.display.Markdown object>"
      ]
     },
     "metadata": {},
     "output_type": "display_data"
    },
    {
     "data": {
      "text/markdown": [
       "<span style='color:red'>100\t\t| seed 17 | id AWiDcSVdMEaT9KPSbFyG</span>"
      ],
      "text/plain": [
       "<IPython.core.display.Markdown object>"
      ]
     },
     "metadata": {},
     "output_type": "display_data"
    },
    {
     "data": {
      "text/markdown": [
       "<span style='color:red'>100\t\t| seed 18 | id AWiDcWAbMEaT9KPSbF29</span>"
      ],
      "text/plain": [
       "<IPython.core.display.Markdown object>"
      ]
     },
     "metadata": {},
     "output_type": "display_data"
    },
    {
     "data": {
      "text/markdown": [
       "<span style='color:red'>100\t\t| seed 19 | id AWiDcZqmMEaT9KPSbF5Z</span>"
      ],
      "text/plain": [
       "<IPython.core.display.Markdown object>"
      ]
     },
     "metadata": {},
     "output_type": "display_data"
    },
    {
     "data": {
      "text/markdown": [
       "<span style='color:red'>100\t\t| seed 20 | id AWiDcdVbMEaT9KPSbF-Q</span>"
      ],
      "text/plain": [
       "<IPython.core.display.Markdown object>"
      ]
     },
     "metadata": {},
     "output_type": "display_data"
    },
    {
     "data": {
      "text/markdown": [
       "<span style='color:red'>100\t\t| seed 21 | id AWiDchAHMEaT9KPSbGAs</span>"
      ],
      "text/plain": [
       "<IPython.core.display.Markdown object>"
      ]
     },
     "metadata": {},
     "output_type": "display_data"
    },
    {
     "data": {
      "text/markdown": [
       "<span style='color:red'>100\t\t| seed 22 | id AWiDckqBMEaT9KPSbGFj</span>"
      ],
      "text/plain": [
       "<IPython.core.display.Markdown object>"
      ]
     },
     "metadata": {},
     "output_type": "display_data"
    },
    {
     "data": {
      "text/markdown": [
       "<span style='color:red'>100\t\t| seed 23 | id AWiDcoVaMEaT9KPSbGH_</span>"
      ],
      "text/plain": [
       "<IPython.core.display.Markdown object>"
      ]
     },
     "metadata": {},
     "output_type": "display_data"
    },
    {
     "data": {
      "text/markdown": [
       "<span style='color:red'>100\t\t| seed 24 | id AWiDcsAQMEaT9KPSbGM2</span>"
      ],
      "text/plain": [
       "<IPython.core.display.Markdown object>"
      ]
     },
     "metadata": {},
     "output_type": "display_data"
    },
    {
     "data": {
      "text/markdown": [
       "<span style='color:red'>100\t\t| seed 25 | id AWiDcvq_MEaT9KPSbGPS</span>"
      ],
      "text/plain": [
       "<IPython.core.display.Markdown object>"
      ]
     },
     "metadata": {},
     "output_type": "display_data"
    },
    {
     "data": {
      "text/markdown": [
       "<span style='color:red'>100\t\t| seed 26 | id AWiDczWHMEaT9KPSbGUJ</span>"
      ],
      "text/plain": [
       "<IPython.core.display.Markdown object>"
      ]
     },
     "metadata": {},
     "output_type": "display_data"
    },
    {
     "data": {
      "text/markdown": [
       "<span style='color:red'>100\t\t| seed 27 | id AWiDc3AAMEaT9KPSbGWl</span>"
      ],
      "text/plain": [
       "<IPython.core.display.Markdown object>"
      ]
     },
     "metadata": {},
     "output_type": "display_data"
    },
    {
     "data": {
      "text/markdown": [
       "<span style='color:red'>100\t\t| seed 28 | id AWiDc6qsMEaT9KPSbGbc</span>"
      ],
      "text/plain": [
       "<IPython.core.display.Markdown object>"
      ]
     },
     "metadata": {},
     "output_type": "display_data"
    },
    {
     "data": {
      "text/markdown": [
       "<span style='color:red'>100\t\t| seed 29 | id AWiDc-WOMEaT9KPSbGd4</span>"
      ],
      "text/plain": [
       "<IPython.core.display.Markdown object>"
      ]
     },
     "metadata": {},
     "output_type": "display_data"
    },
    {
     "data": {
      "text/markdown": [
       "<span style='color:red'>100\t\t| seed 30 | id AWiDdCAUMEaT9KPSbGiv</span>"
      ],
      "text/plain": [
       "<IPython.core.display.Markdown object>"
      ]
     },
     "metadata": {},
     "output_type": "display_data"
    },
    {
     "name": "stdout",
     "output_type": "stream",
     "text": [
      "There were 30 runs performed by MLR\n"
     ]
    },
    {
     "data": {
      "text/markdown": [
       "<span style='color:red'>100\t\t| seed 1 | id AWh7LJ_gMEaT9KPSTPdp</span>"
      ],
      "text/plain": [
       "<IPython.core.display.Markdown object>"
      ]
     },
     "metadata": {},
     "output_type": "display_data"
    },
    {
     "data": {
      "text/markdown": [
       "<span style='color:red'>100\t\t| seed 2 | id AWh7LK7CMEaT9KPSTPf4</span>"
      ],
      "text/plain": [
       "<IPython.core.display.Markdown object>"
      ]
     },
     "metadata": {},
     "output_type": "display_data"
    },
    {
     "data": {
      "text/markdown": [
       "<span style='color:red'>100\t\t| seed 3 | id AWh7LMJGMEaT9KPSTPf6</span>"
      ],
      "text/plain": [
       "<IPython.core.display.Markdown object>"
      ]
     },
     "metadata": {},
     "output_type": "display_data"
    },
    {
     "data": {
      "text/markdown": [
       "<span style='color:red'>100\t\t| seed 4 | id AWh-4GMBMEaT9KPSWtjB</span>"
      ],
      "text/plain": [
       "<IPython.core.display.Markdown object>"
      ]
     },
     "metadata": {},
     "output_type": "display_data"
    },
    {
     "data": {
      "text/markdown": [
       "<span style='color:red'>100\t\t| seed 5 | id AWh7LOl9MEaT9KPSTPiL</span>"
      ],
      "text/plain": [
       "<IPython.core.display.Markdown object>"
      ]
     },
     "metadata": {},
     "output_type": "display_data"
    },
    {
     "data": {
      "text/markdown": [
       "<span style='color:red'>100\t\t| seed 6 | id AWh7LP0tMEaT9KPSTPka</span>"
      ],
      "text/plain": [
       "<IPython.core.display.Markdown object>"
      ]
     },
     "metadata": {},
     "output_type": "display_data"
    },
    {
     "data": {
      "text/markdown": [
       "<span style='color:red'>100\t\t| seed 7 | id AWh7LRCUMEaT9KPSTPkc</span>"
      ],
      "text/plain": [
       "<IPython.core.display.Markdown object>"
      ]
     },
     "metadata": {},
     "output_type": "display_data"
    },
    {
     "data": {
      "text/markdown": [
       "<span style='color:red'>100\t\t| seed 8 | id AWh7LSQzMEaT9KPSTPmr</span>"
      ],
      "text/plain": [
       "<IPython.core.display.Markdown object>"
      ]
     },
     "metadata": {},
     "output_type": "display_data"
    },
    {
     "data": {
      "text/markdown": [
       "<span style='color:red'>100\t\t| seed 9 | id AWh7LTgzMEaT9KPSTPmu</span>"
      ],
      "text/plain": [
       "<IPython.core.display.Markdown object>"
      ]
     },
     "metadata": {},
     "output_type": "display_data"
    },
    {
     "data": {
      "text/markdown": [
       "<span style='color:red'>100\t\t| seed 10 | id AWh7LUwPMEaT9KPSTPo9</span>"
      ],
      "text/plain": [
       "<IPython.core.display.Markdown object>"
      ]
     },
     "metadata": {},
     "output_type": "display_data"
    },
    {
     "data": {
      "text/markdown": [
       "<span style='color:red'>100\t\t| seed 11 | id AWh7LV7fMEaT9KPSTPo_</span>"
      ],
      "text/plain": [
       "<IPython.core.display.Markdown object>"
      ]
     },
     "metadata": {},
     "output_type": "display_data"
    },
    {
     "data": {
      "text/markdown": [
       "<span style='color:red'>100\t\t| seed 12 | id AWh7LXNXMEaT9KPSTPrO</span>"
      ],
      "text/plain": [
       "<IPython.core.display.Markdown object>"
      ]
     },
     "metadata": {},
     "output_type": "display_data"
    },
    {
     "data": {
      "text/markdown": [
       "<span style='color:red'>100\t\t| seed 13 | id AWh7LYatMEaT9KPSTPrQ</span>"
      ],
      "text/plain": [
       "<IPython.core.display.Markdown object>"
      ]
     },
     "metadata": {},
     "output_type": "display_data"
    },
    {
     "data": {
      "text/markdown": [
       "<span style='color:red'>100\t\t| seed 14 | id AWh7LZs1MEaT9KPSTPtf</span>"
      ],
      "text/plain": [
       "<IPython.core.display.Markdown object>"
      ]
     },
     "metadata": {},
     "output_type": "display_data"
    },
    {
     "data": {
      "text/markdown": [
       "<span style='color:red'>100\t\t| seed 15 | id AWh7La5KMEaT9KPSTPth</span>"
      ],
      "text/plain": [
       "<IPython.core.display.Markdown object>"
      ]
     },
     "metadata": {},
     "output_type": "display_data"
    },
    {
     "data": {
      "text/markdown": [
       "<span style='color:red'>100\t\t| seed 16 | id AWh-4ORBMEaT9KPSWtp7</span>"
      ],
      "text/plain": [
       "<IPython.core.display.Markdown object>"
      ]
     },
     "metadata": {},
     "output_type": "display_data"
    },
    {
     "data": {
      "text/markdown": [
       "<span style='color:red'>100\t\t| seed 17 | id AWh-4PeFMEaT9KPSWtsP</span>"
      ],
      "text/plain": [
       "<IPython.core.display.Markdown object>"
      ]
     },
     "metadata": {},
     "output_type": "display_data"
    },
    {
     "data": {
      "text/markdown": [
       "<span style='color:red'>100\t\t| seed 18 | id AWh-4QsZMEaT9KPSWtsQ</span>"
      ],
      "text/plain": [
       "<IPython.core.display.Markdown object>"
      ]
     },
     "metadata": {},
     "output_type": "display_data"
    },
    {
     "data": {
      "text/markdown": [
       "<span style='color:red'>100\t\t| seed 19 | id AWh-4R6vMEaT9KPSWtuk</span>"
      ],
      "text/plain": [
       "<IPython.core.display.Markdown object>"
      ]
     },
     "metadata": {},
     "output_type": "display_data"
    },
    {
     "data": {
      "text/markdown": [
       "<span style='color:red'>100\t\t| seed 20 | id AWh-4TJHMEaT9KPSWtul</span>"
      ],
      "text/plain": [
       "<IPython.core.display.Markdown object>"
      ]
     },
     "metadata": {},
     "output_type": "display_data"
    },
    {
     "data": {
      "text/markdown": [
       "<span style='color:red'>100\t\t| seed 21 | id AWh-4UXcMEaT9KPSWtw5</span>"
      ],
      "text/plain": [
       "<IPython.core.display.Markdown object>"
      ]
     },
     "metadata": {},
     "output_type": "display_data"
    },
    {
     "data": {
      "text/markdown": [
       "<span style='color:red'>100\t\t| seed 22 | id AWh-4Vl9MEaT9KPSWtw6</span>"
      ],
      "text/plain": [
       "<IPython.core.display.Markdown object>"
      ]
     },
     "metadata": {},
     "output_type": "display_data"
    },
    {
     "data": {
      "text/markdown": [
       "<span style='color:red'>100\t\t| seed 23 | id AWh-4W0vMEaT9KPSWtzO</span>"
      ],
      "text/plain": [
       "<IPython.core.display.Markdown object>"
      ]
     },
     "metadata": {},
     "output_type": "display_data"
    },
    {
     "data": {
      "text/markdown": [
       "<span style='color:red'>100\t\t| seed 24 | id AWh-4YErMEaT9KPSWtzP</span>"
      ],
      "text/plain": [
       "<IPython.core.display.Markdown object>"
      ]
     },
     "metadata": {},
     "output_type": "display_data"
    },
    {
     "data": {
      "text/markdown": [
       "<span style='color:red'>100\t\t| seed 25 | id AWh-4ZSGMEaT9KPSWt1j</span>"
      ],
      "text/plain": [
       "<IPython.core.display.Markdown object>"
      ]
     },
     "metadata": {},
     "output_type": "display_data"
    },
    {
     "data": {
      "text/markdown": [
       "<span style='color:red'>100\t\t| seed 26 | id AWh-4afdMEaT9KPSWt1k</span>"
      ],
      "text/plain": [
       "<IPython.core.display.Markdown object>"
      ]
     },
     "metadata": {},
     "output_type": "display_data"
    },
    {
     "data": {
      "text/markdown": [
       "<span style='color:red'>100\t\t| seed 27 | id AWh-4bzZMEaT9KPSWt34</span>"
      ],
      "text/plain": [
       "<IPython.core.display.Markdown object>"
      ]
     },
     "metadata": {},
     "output_type": "display_data"
    },
    {
     "data": {
      "text/markdown": [
       "<span style='color:red'>100\t\t| seed 28 | id AWh-4c-IMEaT9KPSWt35</span>"
      ],
      "text/plain": [
       "<IPython.core.display.Markdown object>"
      ]
     },
     "metadata": {},
     "output_type": "display_data"
    },
    {
     "data": {
      "text/markdown": [
       "<span style='color:red'>100\t\t| seed 29 | id AWh-4ePPMEaT9KPSWt6N</span>"
      ],
      "text/plain": [
       "<IPython.core.display.Markdown object>"
      ]
     },
     "metadata": {},
     "output_type": "display_data"
    },
    {
     "data": {
      "text/markdown": [
       "<span style='color:red'>100\t\t| seed 30 | id AWh-4fZBMEaT9KPSWt6O</span>"
      ],
      "text/plain": [
       "<IPython.core.display.Markdown object>"
      ]
     },
     "metadata": {},
     "output_type": "display_data"
    },
    {
     "name": "stdout",
     "output_type": "stream",
     "text": [
      "There were 30 runs performed by MLR\n"
     ]
    },
    {
     "data": {
      "text/markdown": [
       "<span style='color:red'>100\t\t| seed 1 | id AWh265GtMEaT9KPSPZpB</span>"
      ],
      "text/plain": [
       "<IPython.core.display.Markdown object>"
      ]
     },
     "metadata": {},
     "output_type": "display_data"
    },
    {
     "data": {
      "text/markdown": [
       "<span style='color:red'>100\t\t| seed 2 | id AWh266RnMEaT9KPSPZpC</span>"
      ],
      "text/plain": [
       "<IPython.core.display.Markdown object>"
      ]
     },
     "metadata": {},
     "output_type": "display_data"
    },
    {
     "data": {
      "text/markdown": [
       "<span style='color:red'>100\t\t| seed 3 | id AWh267fUMEaT9KPSPZrM</span>"
      ],
      "text/plain": [
       "<IPython.core.display.Markdown object>"
      ]
     },
     "metadata": {},
     "output_type": "display_data"
    },
    {
     "data": {
      "text/markdown": [
       "<span style='color:red'>100\t\t| seed 4 | id AWh268tpMEaT9KPSPZrN</span>"
      ],
      "text/plain": [
       "<IPython.core.display.Markdown object>"
      ]
     },
     "metadata": {},
     "output_type": "display_data"
    },
    {
     "data": {
      "text/markdown": [
       "<span style='color:red'>100\t\t| seed 5 | id AWh2698HMEaT9KPSPZtW</span>"
      ],
      "text/plain": [
       "<IPython.core.display.Markdown object>"
      ]
     },
     "metadata": {},
     "output_type": "display_data"
    },
    {
     "data": {
      "text/markdown": [
       "<span style='color:red'>100\t\t| seed 6 | id AWh26_KoMEaT9KPSPZtX</span>"
      ],
      "text/plain": [
       "<IPython.core.display.Markdown object>"
      ]
     },
     "metadata": {},
     "output_type": "display_data"
    },
    {
     "data": {
      "text/markdown": [
       "<span style='color:red'>100\t\t| seed 7 | id AWiBuhMnMEaT9KPSZa6N</span>"
      ],
      "text/plain": [
       "<IPython.core.display.Markdown object>"
      ]
     },
     "metadata": {},
     "output_type": "display_data"
    },
    {
     "data": {
      "text/markdown": [
       "<span style='color:red'>100\t\t| seed 8 | id AWh27BrEMEaT9KPSPZvh</span>"
      ],
      "text/plain": [
       "<IPython.core.display.Markdown object>"
      ]
     },
     "metadata": {},
     "output_type": "display_data"
    },
    {
     "data": {
      "text/markdown": [
       "<span style='color:red'>100\t\t| seed 9 | id AWh27C4TMEaT9KPSPZxq</span>"
      ],
      "text/plain": [
       "<IPython.core.display.Markdown object>"
      ]
     },
     "metadata": {},
     "output_type": "display_data"
    },
    {
     "data": {
      "text/markdown": [
       "<span style='color:red'>100\t\t| seed 10 | id AWiBuq6AMEaT9KPSZbDq</span>"
      ],
      "text/plain": [
       "<IPython.core.display.Markdown object>"
      ]
     },
     "metadata": {},
     "output_type": "display_data"
    },
    {
     "data": {
      "text/markdown": [
       "<span style='color:red'>100\t\t| seed 11 | id AWh27FVCMEaT9KPSPZz0</span>"
      ],
      "text/plain": [
       "<IPython.core.display.Markdown object>"
      ]
     },
     "metadata": {},
     "output_type": "display_data"
    },
    {
     "data": {
      "text/markdown": [
       "<span style='color:red'>100\t\t| seed 12 | id AWh27GjDMEaT9KPSPZz2</span>"
      ],
      "text/plain": [
       "<IPython.core.display.Markdown object>"
      ]
     },
     "metadata": {},
     "output_type": "display_data"
    },
    {
     "data": {
      "text/markdown": [
       "<span style='color:red'>100\t\t| seed 13 | id AWh27HudMEaT9KPSPZ1_</span>"
      ],
      "text/plain": [
       "<IPython.core.display.Markdown object>"
      ]
     },
     "metadata": {},
     "output_type": "display_data"
    },
    {
     "data": {
      "text/markdown": [
       "<span style='color:red'>100\t\t| seed 14 | id AWh27JBBMEaT9KPSPZ2A</span>"
      ],
      "text/plain": [
       "<IPython.core.display.Markdown object>"
      ]
     },
     "metadata": {},
     "output_type": "display_data"
    },
    {
     "data": {
      "text/markdown": [
       "<span style='color:red'>100\t\t| seed 15 | id AWh27KKQMEaT9KPSPZ4J</span>"
      ],
      "text/plain": [
       "<IPython.core.display.Markdown object>"
      ]
     },
     "metadata": {},
     "output_type": "display_data"
    },
    {
     "data": {
      "text/markdown": [
       "<span style='color:red'>100\t\t| seed 16 | id AWiEZi8JMEaT9KPScCkH</span>"
      ],
      "text/plain": [
       "<IPython.core.display.Markdown object>"
      ]
     },
     "metadata": {},
     "output_type": "display_data"
    },
    {
     "data": {
      "text/markdown": [
       "<span style='color:red'>100\t\t| seed 17 | id AWiBuzJFMEaT9KPSZbKy</span>"
      ],
      "text/plain": [
       "<IPython.core.display.Markdown object>"
      ]
     },
     "metadata": {},
     "output_type": "display_data"
    },
    {
     "data": {
      "text/markdown": [
       "<span style='color:red'>100\t\t| seed 18 | id AWiBu0YbMEaT9KPSZbNJ</span>"
      ],
      "text/plain": [
       "<IPython.core.display.Markdown object>"
      ]
     },
     "metadata": {},
     "output_type": "display_data"
    },
    {
     "data": {
      "text/markdown": [
       "<span style='color:red'>100\t\t| seed 19 | id AWiBu1mIMEaT9KPSZbNL</span>"
      ],
      "text/plain": [
       "<IPython.core.display.Markdown object>"
      ]
     },
     "metadata": {},
     "output_type": "display_data"
    },
    {
     "data": {
      "text/markdown": [
       "<span style='color:red'>100\t\t| seed 20 | id AWiBu20HMEaT9KPSZbPi</span>"
      ],
      "text/plain": [
       "<IPython.core.display.Markdown object>"
      ]
     },
     "metadata": {},
     "output_type": "display_data"
    },
    {
     "data": {
      "text/markdown": [
       "<span style='color:red'>100\t\t| seed 21 | id AWiBu4CfMEaT9KPSZbPk</span>"
      ],
      "text/plain": [
       "<IPython.core.display.Markdown object>"
      ]
     },
     "metadata": {},
     "output_type": "display_data"
    },
    {
     "data": {
      "text/markdown": [
       "<span style='color:red'>100\t\t| seed 22 | id AWiEZqNbMEaT9KPScCrZ</span>"
      ],
      "text/plain": [
       "<IPython.core.display.Markdown object>"
      ]
     },
     "metadata": {},
     "output_type": "display_data"
    },
    {
     "data": {
      "text/markdown": [
       "<span style='color:red'>100\t\t| seed 23 | id AWiBu6fMMEaT9KPSZbR9</span>"
      ],
      "text/plain": [
       "<IPython.core.display.Markdown object>"
      ]
     },
     "metadata": {},
     "output_type": "display_data"
    },
    {
     "data": {
      "text/markdown": [
       "<span style='color:red'>100\t\t| seed 24 | id AWiBu7vJMEaT9KPSZbUU</span>"
      ],
      "text/plain": [
       "<IPython.core.display.Markdown object>"
      ]
     },
     "metadata": {},
     "output_type": "display_data"
    },
    {
     "data": {
      "text/markdown": [
       "<span style='color:red'>100\t\t| seed 25 | id AWiBu87gMEaT9KPSZbUW</span>"
      ],
      "text/plain": [
       "<IPython.core.display.Markdown object>"
      ]
     },
     "metadata": {},
     "output_type": "display_data"
    },
    {
     "data": {
      "text/markdown": [
       "<span style='color:red'>100\t\t| seed 26 | id AWiBu-LnMEaT9KPSZbWt</span>"
      ],
      "text/plain": [
       "<IPython.core.display.Markdown object>"
      ]
     },
     "metadata": {},
     "output_type": "display_data"
    },
    {
     "data": {
      "text/markdown": [
       "<span style='color:red'>100\t\t| seed 27 | id AWiBu_fwMEaT9KPSZbWv</span>"
      ],
      "text/plain": [
       "<IPython.core.display.Markdown object>"
      ]
     },
     "metadata": {},
     "output_type": "display_data"
    },
    {
     "data": {
      "text/markdown": [
       "<span style='color:red'>100\t\t| seed 28 | id AWiBvAogMEaT9KPSZbZG</span>"
      ],
      "text/plain": [
       "<IPython.core.display.Markdown object>"
      ]
     },
     "metadata": {},
     "output_type": "display_data"
    },
    {
     "data": {
      "text/markdown": [
       "<span style='color:red'>100\t\t| seed 29 | id AWiBvB_EMEaT9KPSZbZI</span>"
      ],
      "text/plain": [
       "<IPython.core.display.Markdown object>"
      ]
     },
     "metadata": {},
     "output_type": "display_data"
    },
    {
     "data": {
      "text/markdown": [
       "<span style='color:red'>100\t\t| seed 30 | id AWiBvDPaMEaT9KPSZbbf</span>"
      ],
      "text/plain": [
       "<IPython.core.display.Markdown object>"
      ]
     },
     "metadata": {},
     "output_type": "display_data"
    },
    {
     "name": "stdout",
     "output_type": "stream",
     "text": [
      "There were 30 runs performed by NoveltySearch\n"
     ]
    },
    {
     "data": {
      "text/markdown": [
       "<span style='color:red'>100\t\t| seed 1 | id AWiBO2cTMEaT9KPSY8Tc</span>"
      ],
      "text/plain": [
       "<IPython.core.display.Markdown object>"
      ]
     },
     "metadata": {},
     "output_type": "display_data"
    },
    {
     "data": {
      "text/markdown": [
       "<span style='color:red'>100\t\t| seed 2 | id AWiBO3mbMEaT9KPSY8Te</span>"
      ],
      "text/plain": [
       "<IPython.core.display.Markdown object>"
      ]
     },
     "metadata": {},
     "output_type": "display_data"
    },
    {
     "data": {
      "text/markdown": [
       "<span style='color:red'>100\t\t| seed 3 | id AWiBO40hMEaT9KPSY8V1</span>"
      ],
      "text/plain": [
       "<IPython.core.display.Markdown object>"
      ]
     },
     "metadata": {},
     "output_type": "display_data"
    },
    {
     "data": {
      "text/markdown": [
       "<span style='color:red'>100\t\t| seed 4 | id AWiBO6CoMEaT9KPSY8V3</span>"
      ],
      "text/plain": [
       "<IPython.core.display.Markdown object>"
      ]
     },
     "metadata": {},
     "output_type": "display_data"
    },
    {
     "data": {
      "text/markdown": [
       "<span style='color:red'>100\t\t| seed 5 | id AWiBO7RjMEaT9KPSY8YO</span>"
      ],
      "text/plain": [
       "<IPython.core.display.Markdown object>"
      ]
     },
     "metadata": {},
     "output_type": "display_data"
    },
    {
     "data": {
      "text/markdown": [
       "<span style='color:red'>100\t\t| seed 6 | id AWiBO8fmMEaT9KPSY8YQ</span>"
      ],
      "text/plain": [
       "<IPython.core.display.Markdown object>"
      ]
     },
     "metadata": {},
     "output_type": "display_data"
    },
    {
     "data": {
      "text/markdown": [
       "<span style='color:red'>100\t\t| seed 7 | id AWiBO9uWMEaT9KPSY8an</span>"
      ],
      "text/plain": [
       "<IPython.core.display.Markdown object>"
      ]
     },
     "metadata": {},
     "output_type": "display_data"
    },
    {
     "data": {
      "text/markdown": [
       "<span style='color:red'>100\t\t| seed 8 | id AWiBO-8IMEaT9KPSY8ap</span>"
      ],
      "text/plain": [
       "<IPython.core.display.Markdown object>"
      ]
     },
     "metadata": {},
     "output_type": "display_data"
    },
    {
     "data": {
      "text/markdown": [
       "<span style='color:red'>100\t\t| seed 9 | id AWiBPALRMEaT9KPSY8dA</span>"
      ],
      "text/plain": [
       "<IPython.core.display.Markdown object>"
      ]
     },
     "metadata": {},
     "output_type": "display_data"
    },
    {
     "data": {
      "text/markdown": [
       "<span style='color:red'>100\t\t| seed 10 | id AWiBPBZuMEaT9KPSY8dC</span>"
      ],
      "text/plain": [
       "<IPython.core.display.Markdown object>"
      ]
     },
     "metadata": {},
     "output_type": "display_data"
    },
    {
     "data": {
      "text/markdown": [
       "<span style='color:red'>100\t\t| seed 11 | id AWiBPCpdMEaT9KPSY8fZ</span>"
      ],
      "text/plain": [
       "<IPython.core.display.Markdown object>"
      ]
     },
     "metadata": {},
     "output_type": "display_data"
    },
    {
     "data": {
      "text/markdown": [
       "<span style='color:red'>100\t\t| seed 12 | id AWiBPD3dMEaT9KPSY8fb</span>"
      ],
      "text/plain": [
       "<IPython.core.display.Markdown object>"
      ]
     },
     "metadata": {},
     "output_type": "display_data"
    },
    {
     "data": {
      "text/markdown": [
       "<span style='color:red'>100\t\t| seed 13 | id AWiBPFE1MEaT9KPSY8hy</span>"
      ],
      "text/plain": [
       "<IPython.core.display.Markdown object>"
      ]
     },
     "metadata": {},
     "output_type": "display_data"
    },
    {
     "data": {
      "text/markdown": [
       "<span style='color:red'>100\t\t| seed 14 | id AWiBPGTAMEaT9KPSY8h0</span>"
      ],
      "text/plain": [
       "<IPython.core.display.Markdown object>"
      ]
     },
     "metadata": {},
     "output_type": "display_data"
    },
    {
     "data": {
      "text/markdown": [
       "<span style='color:red'>100\t\t| seed 15 | id AWiBPHh6MEaT9KPSY8kL</span>"
      ],
      "text/plain": [
       "<IPython.core.display.Markdown object>"
      ]
     },
     "metadata": {},
     "output_type": "display_data"
    },
    {
     "data": {
      "text/markdown": [
       "<span style='color:red'>100\t\t| seed 16 | id AWiBSgcrMEaT9KPSY_2M</span>"
      ],
      "text/plain": [
       "<IPython.core.display.Markdown object>"
      ]
     },
     "metadata": {},
     "output_type": "display_data"
    },
    {
     "data": {
      "text/markdown": [
       "<span style='color:red'>100\t\t| seed 17 | id AWiBShrOMEaT9KPSY_2O</span>"
      ],
      "text/plain": [
       "<IPython.core.display.Markdown object>"
      ]
     },
     "metadata": {},
     "output_type": "display_data"
    },
    {
     "data": {
      "text/markdown": [
       "<span style='color:red'>100\t\t| seed 18 | id AWiBSi4hMEaT9KPSY_4l</span>"
      ],
      "text/plain": [
       "<IPython.core.display.Markdown object>"
      ]
     },
     "metadata": {},
     "output_type": "display_data"
    },
    {
     "data": {
      "text/markdown": [
       "<span style='color:red'>100\t\t| seed 19 | id AWiBSkHuMEaT9KPSY_4n</span>"
      ],
      "text/plain": [
       "<IPython.core.display.Markdown object>"
      ]
     },
     "metadata": {},
     "output_type": "display_data"
    },
    {
     "data": {
      "text/markdown": [
       "<span style='color:red'>100\t\t| seed 20 | id AWiBSlVRMEaT9KPSY_6-</span>"
      ],
      "text/plain": [
       "<IPython.core.display.Markdown object>"
      ]
     },
     "metadata": {},
     "output_type": "display_data"
    },
    {
     "data": {
      "text/markdown": [
       "<span style='color:red'>100\t\t| seed 21 | id AWiBSmkhMEaT9KPSY_7A</span>"
      ],
      "text/plain": [
       "<IPython.core.display.Markdown object>"
      ]
     },
     "metadata": {},
     "output_type": "display_data"
    },
    {
     "data": {
      "text/markdown": [
       "<span style='color:red'>100\t\t| seed 22 | id AWiBSnydMEaT9KPSY_9X</span>"
      ],
      "text/plain": [
       "<IPython.core.display.Markdown object>"
      ]
     },
     "metadata": {},
     "output_type": "display_data"
    },
    {
     "data": {
      "text/markdown": [
       "<span style='color:red'>100\t\t| seed 23 | id AWiBSpCBMEaT9KPSY_9Z</span>"
      ],
      "text/plain": [
       "<IPython.core.display.Markdown object>"
      ]
     },
     "metadata": {},
     "output_type": "display_data"
    },
    {
     "data": {
      "text/markdown": [
       "<span style='color:red'>100\t\t| seed 24 | id AWiBSqPVMEaT9KPSY__w</span>"
      ],
      "text/plain": [
       "<IPython.core.display.Markdown object>"
      ]
     },
     "metadata": {},
     "output_type": "display_data"
    },
    {
     "data": {
      "text/markdown": [
       "<span style='color:red'>100\t\t| seed 25 | id AWiBSrfFMEaT9KPSY__y</span>"
      ],
      "text/plain": [
       "<IPython.core.display.Markdown object>"
      ]
     },
     "metadata": {},
     "output_type": "display_data"
    },
    {
     "data": {
      "text/markdown": [
       "<span style='color:red'>100\t\t| seed 26 | id AWiBSssqMEaT9KPSZACJ</span>"
      ],
      "text/plain": [
       "<IPython.core.display.Markdown object>"
      ]
     },
     "metadata": {},
     "output_type": "display_data"
    },
    {
     "data": {
      "text/markdown": [
       "<span style='color:red'>100\t\t| seed 27 | id AWiBSt7DMEaT9KPSZACL</span>"
      ],
      "text/plain": [
       "<IPython.core.display.Markdown object>"
      ]
     },
     "metadata": {},
     "output_type": "display_data"
    },
    {
     "data": {
      "text/markdown": [
       "<span style='color:red'>100\t\t| seed 28 | id AWiBSvKHMEaT9KPSZAEi</span>"
      ],
      "text/plain": [
       "<IPython.core.display.Markdown object>"
      ]
     },
     "metadata": {},
     "output_type": "display_data"
    },
    {
     "data": {
      "text/markdown": [
       "<span style='color:red'>100\t\t| seed 29 | id AWiBSwYUMEaT9KPSZAEk</span>"
      ],
      "text/plain": [
       "<IPython.core.display.Markdown object>"
      ]
     },
     "metadata": {},
     "output_type": "display_data"
    },
    {
     "data": {
      "text/markdown": [
       "<span style='color:red'>100\t\t| seed 30 | id AWiBSxm8MEaT9KPSZAG7</span>"
      ],
      "text/plain": [
       "<IPython.core.display.Markdown object>"
      ]
     },
     "metadata": {},
     "output_type": "display_data"
    },
    {
     "name": "stdout",
     "output_type": "stream",
     "text": [
      "There were 30 runs performed by NoveltySearch\n"
     ]
    },
    {
     "data": {
      "text/markdown": [
       "<span style='color:red'>100\t\t| seed 1 | id AWh7NW7lMEaT9KPSTRgi</span>"
      ],
      "text/plain": [
       "<IPython.core.display.Markdown object>"
      ]
     },
     "metadata": {},
     "output_type": "display_data"
    },
    {
     "data": {
      "text/markdown": [
       "<span style='color:red'>100\t\t| seed 2 | id AWh7NXJEMEaT9KPSTRgk</span>"
      ],
      "text/plain": [
       "<IPython.core.display.Markdown object>"
      ]
     },
     "metadata": {},
     "output_type": "display_data"
    },
    {
     "data": {
      "text/markdown": [
       "<span style='color:red'>100\t\t| seed 3 | id AWh7NZlOMEaT9KPSTRi4</span>"
      ],
      "text/plain": [
       "<IPython.core.display.Markdown object>"
      ]
     },
     "metadata": {},
     "output_type": "display_data"
    },
    {
     "data": {
      "text/markdown": [
       "<span style='color:red'>100\t\t| seed 4 | id AWh7NcB4MEaT9KPSTRlL</span>"
      ],
      "text/plain": [
       "<IPython.core.display.Markdown object>"
      ]
     },
     "metadata": {},
     "output_type": "display_data"
    },
    {
     "data": {
      "text/markdown": [
       "<span style='color:red'>100\t\t| seed 5 | id AWh7NedyMEaT9KPSTRne</span>"
      ],
      "text/plain": [
       "<IPython.core.display.Markdown object>"
      ]
     },
     "metadata": {},
     "output_type": "display_data"
    },
    {
     "data": {
      "text/markdown": [
       "<span style='color:red'>100\t\t| seed 6 | id AWh7Ng64MEaT9KPSTRpx</span>"
      ],
      "text/plain": [
       "<IPython.core.display.Markdown object>"
      ]
     },
     "metadata": {},
     "output_type": "display_data"
    },
    {
     "data": {
      "text/markdown": [
       "<span style='color:red'>100\t\t| seed 7 | id AWh7NjXjMEaT9KPSTRsE</span>"
      ],
      "text/plain": [
       "<IPython.core.display.Markdown object>"
      ]
     },
     "metadata": {},
     "output_type": "display_data"
    },
    {
     "data": {
      "text/markdown": [
       "<span style='color:red'>100\t\t| seed 8 | id AWh7Nl0oMEaT9KPSTRuX</span>"
      ],
      "text/plain": [
       "<IPython.core.display.Markdown object>"
      ]
     },
     "metadata": {},
     "output_type": "display_data"
    },
    {
     "data": {
      "text/markdown": [
       "<span style='color:red'>100\t\t| seed 9 | id AWh7NoRRMEaT9KPSTRwq</span>"
      ],
      "text/plain": [
       "<IPython.core.display.Markdown object>"
      ]
     },
     "metadata": {},
     "output_type": "display_data"
    },
    {
     "data": {
      "text/markdown": [
       "<span style='color:red'>100\t\t| seed 10 | id AWh7NqtaMEaT9KPSTRy9</span>"
      ],
      "text/plain": [
       "<IPython.core.display.Markdown object>"
      ]
     },
     "metadata": {},
     "output_type": "display_data"
    },
    {
     "data": {
      "text/markdown": [
       "<span style='color:red'>100\t\t| seed 11 | id AWh7NtJvMEaT9KPSTR1Q</span>"
      ],
      "text/plain": [
       "<IPython.core.display.Markdown object>"
      ]
     },
     "metadata": {},
     "output_type": "display_data"
    },
    {
     "data": {
      "text/markdown": [
       "<span style='color:red'>100\t\t| seed 12 | id AWh7Nvm4MEaT9KPSTR3j</span>"
      ],
      "text/plain": [
       "<IPython.core.display.Markdown object>"
      ]
     },
     "metadata": {},
     "output_type": "display_data"
    },
    {
     "data": {
      "text/markdown": [
       "<span style='color:red'>100\t\t| seed 13 | id AWh7NyC5MEaT9KPSTR52</span>"
      ],
      "text/plain": [
       "<IPython.core.display.Markdown object>"
      ]
     },
     "metadata": {},
     "output_type": "display_data"
    },
    {
     "data": {
      "text/markdown": [
       "<span style='color:red'>100\t\t| seed 14 | id AWh7N0feMEaT9KPSTR8J</span>"
      ],
      "text/plain": [
       "<IPython.core.display.Markdown object>"
      ]
     },
     "metadata": {},
     "output_type": "display_data"
    },
    {
     "data": {
      "text/markdown": [
       "<span style='color:red'>100\t\t| seed 15 | id AWh7N28vMEaT9KPSTR-c</span>"
      ],
      "text/plain": [
       "<IPython.core.display.Markdown object>"
      ]
     },
     "metadata": {},
     "output_type": "display_data"
    },
    {
     "data": {
      "text/markdown": [
       "<span style='color:red'>55\t\t| seed 16 | id AWiF7DYLMEaT9KPSdjiz</span>"
      ],
      "text/plain": [
       "<IPython.core.display.Markdown object>"
      ]
     },
     "metadata": {},
     "output_type": "display_data"
    },
    {
     "data": {
      "text/markdown": [
       "<span style='color:red'>42\t\t| seed 17 | id AWiF7DYKMEaT9KPSdjiy</span>"
      ],
      "text/plain": [
       "<IPython.core.display.Markdown object>"
      ]
     },
     "metadata": {},
     "output_type": "display_data"
    },
    {
     "data": {
      "text/markdown": [
       "<span style='color:red'>39\t\t| seed 18 | id AWiF7FKNMEaT9KPSdjlP</span>"
      ],
      "text/plain": [
       "<IPython.core.display.Markdown object>"
      ]
     },
     "metadata": {},
     "output_type": "display_data"
    },
    {
     "data": {
      "text/markdown": [
       "<span style='color:red'>61\t\t| seed 19 | id AWiF7Hm9MEaT9KPSdjns</span>"
      ],
      "text/plain": [
       "<IPython.core.display.Markdown object>"
      ]
     },
     "metadata": {},
     "output_type": "display_data"
    },
    {
     "data": {
      "text/markdown": [
       "<span style='color:red'>38\t\t| seed 20 | id AWiF7KDkMEaT9KPSdjqJ</span>"
      ],
      "text/plain": [
       "<IPython.core.display.Markdown object>"
      ]
     },
     "metadata": {},
     "output_type": "display_data"
    },
    {
     "data": {
      "text/markdown": [
       "<span style='color:red'>45\t\t| seed 21 | id AWiF7MfjMEaT9KPSdjsm</span>"
      ],
      "text/plain": [
       "<IPython.core.display.Markdown object>"
      ]
     },
     "metadata": {},
     "output_type": "display_data"
    },
    {
     "data": {
      "text/markdown": [
       "<span style='color:red'>61\t\t| seed 22 | id AWiF7O76MEaT9KPSdjvD</span>"
      ],
      "text/plain": [
       "<IPython.core.display.Markdown object>"
      ]
     },
     "metadata": {},
     "output_type": "display_data"
    },
    {
     "data": {
      "text/markdown": [
       "<span style='color:red'>46\t\t| seed 23 | id AWiF7RXyMEaT9KPSdjxg</span>"
      ],
      "text/plain": [
       "<IPython.core.display.Markdown object>"
      ]
     },
     "metadata": {},
     "output_type": "display_data"
    },
    {
     "data": {
      "text/markdown": [
       "<span style='color:red'>45\t\t| seed 24 | id AWiF7T0bMEaT9KPSdjz9</span>"
      ],
      "text/plain": [
       "<IPython.core.display.Markdown object>"
      ]
     },
     "metadata": {},
     "output_type": "display_data"
    },
    {
     "data": {
      "text/markdown": [
       "<span style='color:red'>58\t\t| seed 25 | id AWiF7WSGMEaT9KPSdj2a</span>"
      ],
      "text/plain": [
       "<IPython.core.display.Markdown object>"
      ]
     },
     "metadata": {},
     "output_type": "display_data"
    },
    {
     "data": {
      "text/markdown": [
       "<span style='color:red'>62\t\t| seed 26 | id AWiF7YvLMEaT9KPSdj43</span>"
      ],
      "text/plain": [
       "<IPython.core.display.Markdown object>"
      ]
     },
     "metadata": {},
     "output_type": "display_data"
    },
    {
     "data": {
      "text/markdown": [
       "<span style='color:red'>40\t\t| seed 27 | id AWiF7bLeMEaT9KPSdj7U</span>"
      ],
      "text/plain": [
       "<IPython.core.display.Markdown object>"
      ]
     },
     "metadata": {},
     "output_type": "display_data"
    },
    {
     "data": {
      "text/markdown": [
       "<span style='color:red'>48\t\t| seed 28 | id AWiF7dnwMEaT9KPSdj9x</span>"
      ],
      "text/plain": [
       "<IPython.core.display.Markdown object>"
      ]
     },
     "metadata": {},
     "output_type": "display_data"
    },
    {
     "data": {
      "text/markdown": [
       "<span style='color:red'>38\t\t| seed 29 | id AWiF7gEQMEaT9KPSdkAO</span>"
      ],
      "text/plain": [
       "<IPython.core.display.Markdown object>"
      ]
     },
     "metadata": {},
     "output_type": "display_data"
    },
    {
     "data": {
      "text/markdown": [
       "<span style='color:red'>41\t\t| seed 30 | id AWiF7ig4MEaT9KPSdkCr</span>"
      ],
      "text/plain": [
       "<IPython.core.display.Markdown object>"
      ]
     },
     "metadata": {},
     "output_type": "display_data"
    },
    {
     "name": "stdout",
     "output_type": "stream",
     "text": [
      "There were 30 runs performed by NoveltySearch\n"
     ]
    },
    {
     "data": {
      "text/markdown": [
       "<span style='color:red'>100\t\t| seed 1 | id AWh2_TDsMEaT9KPSPdeZ</span>"
      ],
      "text/plain": [
       "<IPython.core.display.Markdown object>"
      ]
     },
     "metadata": {},
     "output_type": "display_data"
    },
    {
     "data": {
      "text/markdown": [
       "<span style='color:red'>100\t\t| seed 2 | id AWh2_TNfMEaT9KPSPdea</span>"
      ],
      "text/plain": [
       "<IPython.core.display.Markdown object>"
      ]
     },
     "metadata": {},
     "output_type": "display_data"
    },
    {
     "data": {
      "text/markdown": [
       "<span style='color:red'>100\t\t| seed 3 | id AWh2_VqXMEaT9KPSPdgl</span>"
      ],
      "text/plain": [
       "<IPython.core.display.Markdown object>"
      ]
     },
     "metadata": {},
     "output_type": "display_data"
    },
    {
     "data": {
      "text/markdown": [
       "<span style='color:red'>100\t\t| seed 4 | id AWh2_YG3MEaT9KPSPdiw</span>"
      ],
      "text/plain": [
       "<IPython.core.display.Markdown object>"
      ]
     },
     "metadata": {},
     "output_type": "display_data"
    },
    {
     "data": {
      "text/markdown": [
       "<span style='color:red'>100\t\t| seed 5 | id AWh2_ajjMEaT9KPSPdk7</span>"
      ],
      "text/plain": [
       "<IPython.core.display.Markdown object>"
      ]
     },
     "metadata": {},
     "output_type": "display_data"
    },
    {
     "data": {
      "text/markdown": [
       "<span style='color:red'>100\t\t| seed 6 | id AWh2_dAeMEaT9KPSPdnG</span>"
      ],
      "text/plain": [
       "<IPython.core.display.Markdown object>"
      ]
     },
     "metadata": {},
     "output_type": "display_data"
    },
    {
     "data": {
      "text/markdown": [
       "<span style='color:red'>100\t\t| seed 7 | id AWh2_fcoMEaT9KPSPdpR</span>"
      ],
      "text/plain": [
       "<IPython.core.display.Markdown object>"
      ]
     },
     "metadata": {},
     "output_type": "display_data"
    },
    {
     "data": {
      "text/markdown": [
       "<span style='color:red'>100\t\t| seed 8 | id AWh2_h5MMEaT9KPSPdrc</span>"
      ],
      "text/plain": [
       "<IPython.core.display.Markdown object>"
      ]
     },
     "metadata": {},
     "output_type": "display_data"
    },
    {
     "data": {
      "text/markdown": [
       "<span style='color:red'>100\t\t| seed 9 | id AWh2_kWWMEaT9KPSPdtn</span>"
      ],
      "text/plain": [
       "<IPython.core.display.Markdown object>"
      ]
     },
     "metadata": {},
     "output_type": "display_data"
    },
    {
     "data": {
      "text/markdown": [
       "<span style='color:red'>100\t\t| seed 10 | id AWh2_mzQMEaT9KPSPdvy</span>"
      ],
      "text/plain": [
       "<IPython.core.display.Markdown object>"
      ]
     },
     "metadata": {},
     "output_type": "display_data"
    },
    {
     "data": {
      "text/markdown": [
       "<span style='color:red'>100\t\t| seed 11 | id AWh2_pPHMEaT9KPSPdx9</span>"
      ],
      "text/plain": [
       "<IPython.core.display.Markdown object>"
      ]
     },
     "metadata": {},
     "output_type": "display_data"
    },
    {
     "data": {
      "text/markdown": [
       "<span style='color:red'>100\t\t| seed 12 | id AWh2_rsSMEaT9KPSPd0I</span>"
      ],
      "text/plain": [
       "<IPython.core.display.Markdown object>"
      ]
     },
     "metadata": {},
     "output_type": "display_data"
    },
    {
     "data": {
      "text/markdown": [
       "<span style='color:red'>100\t\t| seed 13 | id AWh2_uIUMEaT9KPSPd2T</span>"
      ],
      "text/plain": [
       "<IPython.core.display.Markdown object>"
      ]
     },
     "metadata": {},
     "output_type": "display_data"
    },
    {
     "data": {
      "text/markdown": [
       "<span style='color:red'>100\t\t| seed 14 | id AWh2_wkzMEaT9KPSPd4e</span>"
      ],
      "text/plain": [
       "<IPython.core.display.Markdown object>"
      ]
     },
     "metadata": {},
     "output_type": "display_data"
    },
    {
     "data": {
      "text/markdown": [
       "<span style='color:red'>100\t\t| seed 15 | id AWh2_zB_MEaT9KPSPd6p</span>"
      ],
      "text/plain": [
       "<IPython.core.display.Markdown object>"
      ]
     },
     "metadata": {},
     "output_type": "display_data"
    },
    {
     "data": {
      "text/markdown": [
       "<span style='color:red'>44\t\t| seed 16 | id AWiF75q5MEaT9KPSdkYp</span>"
      ],
      "text/plain": [
       "<IPython.core.display.Markdown object>"
      ]
     },
     "metadata": {},
     "output_type": "display_data"
    },
    {
     "data": {
      "text/markdown": [
       "<span style='color:red'>47\t\t| seed 17 | id AWiF76SrMEaT9KPSdkYq</span>"
      ],
      "text/plain": [
       "<IPython.core.display.Markdown object>"
      ]
     },
     "metadata": {},
     "output_type": "display_data"
    },
    {
     "data": {
      "text/markdown": [
       "<span style='color:red'>42\t\t| seed 18 | id AWiF799vMEaT9KPSdkdj</span>"
      ],
      "text/plain": [
       "<IPython.core.display.Markdown object>"
      ]
     },
     "metadata": {},
     "output_type": "display_data"
    },
    {
     "data": {
      "text/markdown": [
       "<span style='color:red'>44\t\t| seed 19 | id AWiF8BovMEaT9KPSdkgA</span>"
      ],
      "text/plain": [
       "<IPython.core.display.Markdown object>"
      ]
     },
     "metadata": {},
     "output_type": "display_data"
    },
    {
     "data": {
      "text/markdown": [
       "<span style='color:red'>46\t\t| seed 20 | id AWiF8FRnMEaT9KPSdkk5</span>"
      ],
      "text/plain": [
       "<IPython.core.display.Markdown object>"
      ]
     },
     "metadata": {},
     "output_type": "display_data"
    },
    {
     "data": {
      "text/markdown": [
       "<span style='color:red'>53\t\t| seed 21 | id AWiF8I9jMEaT9KPSdknW</span>"
      ],
      "text/plain": [
       "<IPython.core.display.Markdown object>"
      ]
     },
     "metadata": {},
     "output_type": "display_data"
    },
    {
     "data": {
      "text/markdown": [
       "<span style='color:red'>44\t\t| seed 22 | id AWiF8MoTMEaT9KPSdksP</span>"
      ],
      "text/plain": [
       "<IPython.core.display.Markdown object>"
      ]
     },
     "metadata": {},
     "output_type": "display_data"
    },
    {
     "data": {
      "text/markdown": [
       "<span style='color:red'>39\t\t| seed 23 | id AWiF8QSkMEaT9KPSdkus</span>"
      ],
      "text/plain": [
       "<IPython.core.display.Markdown object>"
      ]
     },
     "metadata": {},
     "output_type": "display_data"
    },
    {
     "data": {
      "text/markdown": [
       "<span style='color:red'>56\t\t| seed 24 | id AWiF8T-IMEaT9KPSdkzl</span>"
      ],
      "text/plain": [
       "<IPython.core.display.Markdown object>"
      ]
     },
     "metadata": {},
     "output_type": "display_data"
    },
    {
     "data": {
      "text/markdown": [
       "<span style='color:red'>50\t\t| seed 25 | id AWiF8XoNMEaT9KPSdk2C</span>"
      ],
      "text/plain": [
       "<IPython.core.display.Markdown object>"
      ]
     },
     "metadata": {},
     "output_type": "display_data"
    },
    {
     "data": {
      "text/markdown": [
       "<span style='color:red'>54\t\t| seed 26 | id AWiF8bSuMEaT9KPSdk67</span>"
      ],
      "text/plain": [
       "<IPython.core.display.Markdown object>"
      ]
     },
     "metadata": {},
     "output_type": "display_data"
    },
    {
     "data": {
      "text/markdown": [
       "<span style='color:red'>53\t\t| seed 27 | id AWiF8e97MEaT9KPSdk9Y</span>"
      ],
      "text/plain": [
       "<IPython.core.display.Markdown object>"
      ]
     },
     "metadata": {},
     "output_type": "display_data"
    },
    {
     "data": {
      "text/markdown": [
       "<span style='color:red'>47\t\t| seed 28 | id AWiF8in8MEaT9KPSdlCR</span>"
      ],
      "text/plain": [
       "<IPython.core.display.Markdown object>"
      ]
     },
     "metadata": {},
     "output_type": "display_data"
    },
    {
     "data": {
      "text/markdown": [
       "<span style='color:red'>35\t\t| seed 29 | id AWiF8mSqMEaT9KPSdlEu</span>"
      ],
      "text/plain": [
       "<IPython.core.display.Markdown object>"
      ]
     },
     "metadata": {},
     "output_type": "display_data"
    },
    {
     "data": {
      "text/markdown": [
       "<span style='color:red'>45\t\t| seed 30 | id AWiF8p95MEaT9KPSdlJn</span>"
      ],
      "text/plain": [
       "<IPython.core.display.Markdown object>"
      ]
     },
     "metadata": {},
     "output_type": "display_data"
    },
    {
     "name": "stdout",
     "output_type": "stream",
     "text": [
      "There were 30 runs performed by NSGAII\n"
     ]
    },
    {
     "data": {
      "text/markdown": [
       "<span style='color:red'>100\t\t| seed 2 | id AWiAMheKMEaT9KPSX8_E</span>"
      ],
      "text/plain": [
       "<IPython.core.display.Markdown object>"
      ]
     },
     "metadata": {},
     "output_type": "display_data"
    },
    {
     "data": {
      "text/markdown": [
       "<span style='color:red'>100\t\t| seed 3 | id AWiAMjobMEaT9KPSX9Bb</span>"
      ],
      "text/plain": [
       "<IPython.core.display.Markdown object>"
      ]
     },
     "metadata": {},
     "output_type": "display_data"
    },
    {
     "data": {
      "text/markdown": [
       "<span style='color:red'>100\t\t| seed 4 | id AWiAMmELMEaT9KPSX9Dy</span>"
      ],
      "text/plain": [
       "<IPython.core.display.Markdown object>"
      ]
     },
     "metadata": {},
     "output_type": "display_data"
    },
    {
     "data": {
      "text/markdown": [
       "<span style='color:red'>100\t\t| seed 5 | id AWiAMogrMEaT9KPSX9GJ</span>"
      ],
      "text/plain": [
       "<IPython.core.display.Markdown object>"
      ]
     },
     "metadata": {},
     "output_type": "display_data"
    },
    {
     "data": {
      "text/markdown": [
       "<span style='color:red'>100\t\t| seed 6 | id AWiAMq90MEaT9KPSX9If</span>"
      ],
      "text/plain": [
       "<IPython.core.display.Markdown object>"
      ]
     },
     "metadata": {},
     "output_type": "display_data"
    },
    {
     "data": {
      "text/markdown": [
       "<span style='color:red'>100\t\t| seed 7 | id AWiAMtY-MEaT9KPSX9K1</span>"
      ],
      "text/plain": [
       "<IPython.core.display.Markdown object>"
      ]
     },
     "metadata": {},
     "output_type": "display_data"
    },
    {
     "data": {
      "text/markdown": [
       "<span style='color:red'>100\t\t| seed 8 | id AWiAMv2NMEaT9KPSX9NL</span>"
      ],
      "text/plain": [
       "<IPython.core.display.Markdown object>"
      ]
     },
     "metadata": {},
     "output_type": "display_data"
    },
    {
     "data": {
      "text/markdown": [
       "<span style='color:red'>100\t\t| seed 9 | id AWiAMyTBMEaT9KPSX9Ph</span>"
      ],
      "text/plain": [
       "<IPython.core.display.Markdown object>"
      ]
     },
     "metadata": {},
     "output_type": "display_data"
    },
    {
     "data": {
      "text/markdown": [
       "<span style='color:red'>100\t\t| seed 10 | id AWiAM0vMMEaT9KPSX9R3</span>"
      ],
      "text/plain": [
       "<IPython.core.display.Markdown object>"
      ]
     },
     "metadata": {},
     "output_type": "display_data"
    },
    {
     "data": {
      "text/markdown": [
       "<span style='color:red'>100\t\t| seed 11 | id AWiAM3MUMEaT9KPSX9UN</span>"
      ],
      "text/plain": [
       "<IPython.core.display.Markdown object>"
      ]
     },
     "metadata": {},
     "output_type": "display_data"
    },
    {
     "data": {
      "text/markdown": [
       "<span style='color:red'>100\t\t| seed 12 | id AWiAM5oFMEaT9KPSX9Wj</span>"
      ],
      "text/plain": [
       "<IPython.core.display.Markdown object>"
      ]
     },
     "metadata": {},
     "output_type": "display_data"
    },
    {
     "data": {
      "text/markdown": [
       "<span style='color:red'>100\t\t| seed 13 | id AWiAM8FgMEaT9KPSX9Y5</span>"
      ],
      "text/plain": [
       "<IPython.core.display.Markdown object>"
      ]
     },
     "metadata": {},
     "output_type": "display_data"
    },
    {
     "data": {
      "text/markdown": [
       "<span style='color:red'>100\t\t| seed 14 | id AWiAM-hyMEaT9KPSX9bP</span>"
      ],
      "text/plain": [
       "<IPython.core.display.Markdown object>"
      ]
     },
     "metadata": {},
     "output_type": "display_data"
    },
    {
     "data": {
      "text/markdown": [
       "<span style='color:red'>100\t\t| seed 15 | id AWiANA-TMEaT9KPSX9dl</span>"
      ],
      "text/plain": [
       "<IPython.core.display.Markdown object>"
      ]
     },
     "metadata": {},
     "output_type": "display_data"
    },
    {
     "data": {
      "text/markdown": [
       "<span style='color:red'>100\t\t| seed 16 | id AWiBI_mwMEaT9KPSY2qS</span>"
      ],
      "text/plain": [
       "<IPython.core.display.Markdown object>"
      ]
     },
     "metadata": {},
     "output_type": "display_data"
    },
    {
     "data": {
      "text/markdown": [
       "<span style='color:red'>100\t\t| seed 17 | id AWiBJDQzMEaT9KPSY2u-</span>"
      ],
      "text/plain": [
       "<IPython.core.display.Markdown object>"
      ]
     },
     "metadata": {},
     "output_type": "display_data"
    },
    {
     "data": {
      "text/markdown": [
       "<span style='color:red'>100\t\t| seed 18 | id AWiBJG66MEaT9KPSY2xW</span>"
      ],
      "text/plain": [
       "<IPython.core.display.Markdown object>"
      ]
     },
     "metadata": {},
     "output_type": "display_data"
    },
    {
     "data": {
      "text/markdown": [
       "<span style='color:red'>100\t\t| seed 19 | id AWiBJKlbMEaT9KPSY22C</span>"
      ],
      "text/plain": [
       "<IPython.core.display.Markdown object>"
      ]
     },
     "metadata": {},
     "output_type": "display_data"
    },
    {
     "data": {
      "text/markdown": [
       "<span style='color:red'>100\t\t| seed 20 | id AWiBJOQNMEaT9KPSY24a</span>"
      ],
      "text/plain": [
       "<IPython.core.display.Markdown object>"
      ]
     },
     "metadata": {},
     "output_type": "display_data"
    },
    {
     "data": {
      "text/markdown": [
       "<span style='color:red'>100\t\t| seed 21 | id AWiBJR6wMEaT9KPSY29G</span>"
      ],
      "text/plain": [
       "<IPython.core.display.Markdown object>"
      ]
     },
     "metadata": {},
     "output_type": "display_data"
    },
    {
     "data": {
      "text/markdown": [
       "<span style='color:red'>100\t\t| seed 22 | id AWiBJVk8MEaT9KPSY2_e</span>"
      ],
      "text/plain": [
       "<IPython.core.display.Markdown object>"
      ]
     },
     "metadata": {},
     "output_type": "display_data"
    },
    {
     "data": {
      "text/markdown": [
       "<span style='color:red'>100\t\t| seed 23 | id AWiBJZPiMEaT9KPSY3EK</span>"
      ],
      "text/plain": [
       "<IPython.core.display.Markdown object>"
      ]
     },
     "metadata": {},
     "output_type": "display_data"
    },
    {
     "data": {
      "text/markdown": [
       "<span style='color:red'>100\t\t| seed 24 | id AWiBJc63MEaT9KPSY3Gi</span>"
      ],
      "text/plain": [
       "<IPython.core.display.Markdown object>"
      ]
     },
     "metadata": {},
     "output_type": "display_data"
    },
    {
     "data": {
      "text/markdown": [
       "<span style='color:red'>100\t\t| seed 25 | id AWiBJglfMEaT9KPSY3LO</span>"
      ],
      "text/plain": [
       "<IPython.core.display.Markdown object>"
      ]
     },
     "metadata": {},
     "output_type": "display_data"
    },
    {
     "data": {
      "text/markdown": [
       "<span style='color:red'>100\t\t| seed 26 | id AWiBJkPuMEaT9KPSY3Nm</span>"
      ],
      "text/plain": [
       "<IPython.core.display.Markdown object>"
      ]
     },
     "metadata": {},
     "output_type": "display_data"
    },
    {
     "data": {
      "text/markdown": [
       "<span style='color:red'>100\t\t| seed 27 | id AWiBJn6tMEaT9KPSY3SS</span>"
      ],
      "text/plain": [
       "<IPython.core.display.Markdown object>"
      ]
     },
     "metadata": {},
     "output_type": "display_data"
    },
    {
     "data": {
      "text/markdown": [
       "<span style='color:red'>100\t\t| seed 28 | id AWiBJrlkMEaT9KPSY3Uq</span>"
      ],
      "text/plain": [
       "<IPython.core.display.Markdown object>"
      ]
     },
     "metadata": {},
     "output_type": "display_data"
    },
    {
     "data": {
      "text/markdown": [
       "<span style='color:red'>100\t\t| seed 29 | id AWiBJvQbMEaT9KPSY3ZW</span>"
      ],
      "text/plain": [
       "<IPython.core.display.Markdown object>"
      ]
     },
     "metadata": {},
     "output_type": "display_data"
    },
    {
     "data": {
      "text/markdown": [
       "<span style='color:red'>100\t\t| seed 30 | id AWiBJy7KMEaT9KPSY3bu</span>"
      ],
      "text/plain": [
       "<IPython.core.display.Markdown object>"
      ]
     },
     "metadata": {},
     "output_type": "display_data"
    },
    {
     "data": {
      "text/markdown": [
       "<span style='color:red'>100\t\t| seed 31 | id AWiBy5I9MEaT9KPSZfJz</span>"
      ],
      "text/plain": [
       "<IPython.core.display.Markdown object>"
      ]
     },
     "metadata": {},
     "output_type": "display_data"
    },
    {
     "name": "stdout",
     "output_type": "stream",
     "text": [
      "There were 30 runs performed by NSGAII\n"
     ]
    },
    {
     "data": {
      "text/markdown": [
       "<span style='color:red'>100\t\t| seed 2 | id AWh7M4caMEaT9KPSTRC5</span>"
      ],
      "text/plain": [
       "<IPython.core.display.Markdown object>"
      ]
     },
     "metadata": {},
     "output_type": "display_data"
    },
    {
     "data": {
      "text/markdown": [
       "<span style='color:red'>100\t\t| seed 3 | id AWh7M51lMEaT9KPSTRFL</span>"
      ],
      "text/plain": [
       "<IPython.core.display.Markdown object>"
      ]
     },
     "metadata": {},
     "output_type": "display_data"
    },
    {
     "data": {
      "text/markdown": [
       "<span style='color:red'>100\t\t| seed 4 | id AWh7M8SXMEaT9KPSTRHd</span>"
      ],
      "text/plain": [
       "<IPython.core.display.Markdown object>"
      ]
     },
     "metadata": {},
     "output_type": "display_data"
    },
    {
     "data": {
      "text/markdown": [
       "<span style='color:red'>100\t\t| seed 5 | id AWh7M-ubMEaT9KPSTRJv</span>"
      ],
      "text/plain": [
       "<IPython.core.display.Markdown object>"
      ]
     },
     "metadata": {},
     "output_type": "display_data"
    },
    {
     "data": {
      "text/markdown": [
       "<span style='color:red'>100\t\t| seed 6 | id AWh7NBKIMEaT9KPSTRMB</span>"
      ],
      "text/plain": [
       "<IPython.core.display.Markdown object>"
      ]
     },
     "metadata": {},
     "output_type": "display_data"
    },
    {
     "data": {
      "text/markdown": [
       "<span style='color:red'>100\t\t| seed 7 | id AWh7NDnwMEaT9KPSTROT</span>"
      ],
      "text/plain": [
       "<IPython.core.display.Markdown object>"
      ]
     },
     "metadata": {},
     "output_type": "display_data"
    },
    {
     "data": {
      "text/markdown": [
       "<span style='color:red'>100\t\t| seed 8 | id AWh7NGDiMEaT9KPSTRQl</span>"
      ],
      "text/plain": [
       "<IPython.core.display.Markdown object>"
      ]
     },
     "metadata": {},
     "output_type": "display_data"
    },
    {
     "data": {
      "text/markdown": [
       "<span style='color:red'>100\t\t| seed 9 | id AWh7NIgIMEaT9KPSTRS3</span>"
      ],
      "text/plain": [
       "<IPython.core.display.Markdown object>"
      ]
     },
     "metadata": {},
     "output_type": "display_data"
    },
    {
     "data": {
      "text/markdown": [
       "<span style='color:red'>100\t\t| seed 10 | id AWh7NK9SMEaT9KPSTRVJ</span>"
      ],
      "text/plain": [
       "<IPython.core.display.Markdown object>"
      ]
     },
     "metadata": {},
     "output_type": "display_data"
    },
    {
     "data": {
      "text/markdown": [
       "<span style='color:red'>100\t\t| seed 11 | id AWh7NNZ0MEaT9KPSTRXb</span>"
      ],
      "text/plain": [
       "<IPython.core.display.Markdown object>"
      ]
     },
     "metadata": {},
     "output_type": "display_data"
    },
    {
     "data": {
      "text/markdown": [
       "<span style='color:red'>100\t\t| seed 12 | id AWh7NP2TMEaT9KPSTRZt</span>"
      ],
      "text/plain": [
       "<IPython.core.display.Markdown object>"
      ]
     },
     "metadata": {},
     "output_type": "display_data"
    },
    {
     "data": {
      "text/markdown": [
       "<span style='color:red'>100\t\t| seed 13 | id AWh7NSS8MEaT9KPSTRb_</span>"
      ],
      "text/plain": [
       "<IPython.core.display.Markdown object>"
      ]
     },
     "metadata": {},
     "output_type": "display_data"
    },
    {
     "data": {
      "text/markdown": [
       "<span style='color:red'>100\t\t| seed 14 | id AWh7NUu8MEaT9KPSTReR</span>"
      ],
      "text/plain": [
       "<IPython.core.display.Markdown object>"
      ]
     },
     "metadata": {},
     "output_type": "display_data"
    },
    {
     "data": {
      "text/markdown": [
       "<span style='color:red'>100\t\t| seed 15 | id AWh7NXLyMEaT9KPSTRgl</span>"
      ],
      "text/plain": [
       "<IPython.core.display.Markdown object>"
      ]
     },
     "metadata": {},
     "output_type": "display_data"
    },
    {
     "data": {
      "text/markdown": [
       "<span style='color:red'>58\t\t| seed 16 | id AWiF8rjrMEaT9KPSdlJo</span>"
      ],
      "text/plain": [
       "<IPython.core.display.Markdown object>"
      ]
     },
     "metadata": {},
     "output_type": "display_data"
    },
    {
     "data": {
      "text/markdown": [
       "<span style='color:red'>55\t\t| seed 17 | id AWiF8saAMEaT9KPSdlMF</span>"
      ],
      "text/plain": [
       "<IPython.core.display.Markdown object>"
      ]
     },
     "metadata": {},
     "output_type": "display_data"
    },
    {
     "data": {
      "text/markdown": [
       "<span style='color:red'>53\t\t| seed 18 | id AWiF8wE6MEaT9KPSdlOi</span>"
      ],
      "text/plain": [
       "<IPython.core.display.Markdown object>"
      ]
     },
     "metadata": {},
     "output_type": "display_data"
    },
    {
     "data": {
      "text/markdown": [
       "<span style='color:red'>50\t\t| seed 19 | id AWiF8zwhMEaT9KPSdlTb</span>"
      ],
      "text/plain": [
       "<IPython.core.display.Markdown object>"
      ]
     },
     "metadata": {},
     "output_type": "display_data"
    },
    {
     "data": {
      "text/markdown": [
       "<span style='color:red'>64\t\t| seed 20 | id AWiF83ZeMEaT9KPSdlV4</span>"
      ],
      "text/plain": [
       "<IPython.core.display.Markdown object>"
      ]
     },
     "metadata": {},
     "output_type": "display_data"
    },
    {
     "data": {
      "text/markdown": [
       "<span style='color:red'>55\t\t| seed 21 | id AWiF87EyMEaT9KPSdlax</span>"
      ],
      "text/plain": [
       "<IPython.core.display.Markdown object>"
      ]
     },
     "metadata": {},
     "output_type": "display_data"
    },
    {
     "data": {
      "text/markdown": [
       "<span style='color:red'>42\t\t| seed 22 | id AWiF8-veMEaT9KPSdldO</span>"
      ],
      "text/plain": [
       "<IPython.core.display.Markdown object>"
      ]
     },
     "metadata": {},
     "output_type": "display_data"
    },
    {
     "data": {
      "text/markdown": [
       "<span style='color:red'>54\t\t| seed 23 | id AWiF9CZhMEaT9KPSdliH</span>"
      ],
      "text/plain": [
       "<IPython.core.display.Markdown object>"
      ]
     },
     "metadata": {},
     "output_type": "display_data"
    },
    {
     "data": {
      "text/markdown": [
       "<span style='color:red'>46\t\t| seed 24 | id AWiF9GE_MEaT9KPSdlkk</span>"
      ],
      "text/plain": [
       "<IPython.core.display.Markdown object>"
      ]
     },
     "metadata": {},
     "output_type": "display_data"
    },
    {
     "data": {
      "text/markdown": [
       "<span style='color:red'>48\t\t| seed 25 | id AWiF9JvLMEaT9KPSdlpd</span>"
      ],
      "text/plain": [
       "<IPython.core.display.Markdown object>"
      ]
     },
     "metadata": {},
     "output_type": "display_data"
    },
    {
     "data": {
      "text/markdown": [
       "<span style='color:red'>44\t\t| seed 26 | id AWiF9NZnMEaT9KPSdlr6</span>"
      ],
      "text/plain": [
       "<IPython.core.display.Markdown object>"
      ]
     },
     "metadata": {},
     "output_type": "display_data"
    },
    {
     "data": {
      "text/markdown": [
       "<span style='color:red'>45\t\t| seed 27 | id AWiF9RFYMEaT9KPSdlwz</span>"
      ],
      "text/plain": [
       "<IPython.core.display.Markdown object>"
      ]
     },
     "metadata": {},
     "output_type": "display_data"
    },
    {
     "data": {
      "text/markdown": [
       "<span style='color:red'>51\t\t| seed 28 | id AWiF9UvYMEaT9KPSdlzQ</span>"
      ],
      "text/plain": [
       "<IPython.core.display.Markdown object>"
      ]
     },
     "metadata": {},
     "output_type": "display_data"
    },
    {
     "data": {
      "text/markdown": [
       "<span style='color:red'>49\t\t| seed 29 | id AWiF9YaQMEaT9KPSdl4K</span>"
      ],
      "text/plain": [
       "<IPython.core.display.Markdown object>"
      ]
     },
     "metadata": {},
     "output_type": "display_data"
    },
    {
     "data": {
      "text/markdown": [
       "<span style='color:red'>59\t\t| seed 30 | id AWiF9cFAMEaT9KPSdl6o</span>"
      ],
      "text/plain": [
       "<IPython.core.display.Markdown object>"
      ]
     },
     "metadata": {},
     "output_type": "display_data"
    },
    {
     "data": {
      "text/markdown": [
       "<span style='color:red'>100\t\t| seed 31 | id AWh9DmurMEaT9KPSVAAr</span>"
      ],
      "text/plain": [
       "<IPython.core.display.Markdown object>"
      ]
     },
     "metadata": {},
     "output_type": "display_data"
    },
    {
     "name": "stdout",
     "output_type": "stream",
     "text": [
      "There were 30 runs performed by NSGAII\n"
     ]
    },
    {
     "data": {
      "text/markdown": [
       "<span style='color:red'>100\t\t| seed 2 | id AWh2-DsKMEaT9KPSPcZr</span>"
      ],
      "text/plain": [
       "<IPython.core.display.Markdown object>"
      ]
     },
     "metadata": {},
     "output_type": "display_data"
    },
    {
     "data": {
      "text/markdown": [
       "<span style='color:red'>100\t\t| seed 3 | id AWh2-FhqMEaT9KPSPcb0</span>"
      ],
      "text/plain": [
       "<IPython.core.display.Markdown object>"
      ]
     },
     "metadata": {},
     "output_type": "display_data"
    },
    {
     "data": {
      "text/markdown": [
       "<span style='color:red'>100\t\t| seed 4 | id AWh2-H9qMEaT9KPSPcb2</span>"
      ],
      "text/plain": [
       "<IPython.core.display.Markdown object>"
      ]
     },
     "metadata": {},
     "output_type": "display_data"
    },
    {
     "data": {
      "text/markdown": [
       "<span style='color:red'>100\t\t| seed 5 | id AWh2-KaxMEaT9KPSPcgI</span>"
      ],
      "text/plain": [
       "<IPython.core.display.Markdown object>"
      ]
     },
     "metadata": {},
     "output_type": "display_data"
    },
    {
     "data": {
      "text/markdown": [
       "<span style='color:red'>100\t\t| seed 6 | id AWh2-M3DMEaT9KPSPciS</span>"
      ],
      "text/plain": [
       "<IPython.core.display.Markdown object>"
      ]
     },
     "metadata": {},
     "output_type": "display_data"
    },
    {
     "data": {
      "text/markdown": [
       "<span style='color:red'>100\t\t| seed 7 | id AWh2-PTpMEaT9KPSPckc</span>"
      ],
      "text/plain": [
       "<IPython.core.display.Markdown object>"
      ]
     },
     "metadata": {},
     "output_type": "display_data"
    },
    {
     "data": {
      "text/markdown": [
       "<span style='color:red'>100\t\t| seed 8 | id AWh2-RweMEaT9KPSPcmm</span>"
      ],
      "text/plain": [
       "<IPython.core.display.Markdown object>"
      ]
     },
     "metadata": {},
     "output_type": "display_data"
    },
    {
     "data": {
      "text/markdown": [
       "<span style='color:red'>100\t\t| seed 9 | id AWh2-UNSMEaT9KPSPcow</span>"
      ],
      "text/plain": [
       "<IPython.core.display.Markdown object>"
      ]
     },
     "metadata": {},
     "output_type": "display_data"
    },
    {
     "data": {
      "text/markdown": [
       "<span style='color:red'>100\t\t| seed 10 | id AWh2-WpeMEaT9KPSPcq6</span>"
      ],
      "text/plain": [
       "<IPython.core.display.Markdown object>"
      ]
     },
     "metadata": {},
     "output_type": "display_data"
    },
    {
     "data": {
      "text/markdown": [
       "<span style='color:red'>100\t\t| seed 11 | id AWh2-ZF-MEaT9KPSPctE</span>"
      ],
      "text/plain": [
       "<IPython.core.display.Markdown object>"
      ]
     },
     "metadata": {},
     "output_type": "display_data"
    },
    {
     "data": {
      "text/markdown": [
       "<span style='color:red'>100\t\t| seed 12 | id AWh2-bi0MEaT9KPSPcvO</span>"
      ],
      "text/plain": [
       "<IPython.core.display.Markdown object>"
      ]
     },
     "metadata": {},
     "output_type": "display_data"
    },
    {
     "data": {
      "text/markdown": [
       "<span style='color:red'>100\t\t| seed 13 | id AWh2-d-gMEaT9KPSPcxY</span>"
      ],
      "text/plain": [
       "<IPython.core.display.Markdown object>"
      ]
     },
     "metadata": {},
     "output_type": "display_data"
    },
    {
     "data": {
      "text/markdown": [
       "<span style='color:red'>100\t\t| seed 14 | id AWh2-gb-MEaT9KPSPczi</span>"
      ],
      "text/plain": [
       "<IPython.core.display.Markdown object>"
      ]
     },
     "metadata": {},
     "output_type": "display_data"
    },
    {
     "data": {
      "text/markdown": [
       "<span style='color:red'>100\t\t| seed 15 | id AWh2-i4kMEaT9KPSPc1t</span>"
      ],
      "text/plain": [
       "<IPython.core.display.Markdown object>"
      ]
     },
     "metadata": {},
     "output_type": "display_data"
    },
    {
     "data": {
      "text/markdown": [
       "<span style='color:red'>38\t\t| seed 16 | id AWiF9XyAMEaT9KPSdl4I</span>"
      ],
      "text/plain": [
       "<IPython.core.display.Markdown object>"
      ]
     },
     "metadata": {},
     "output_type": "display_data"
    },
    {
     "data": {
      "text/markdown": [
       "<span style='color:red'>36\t\t| seed 17 | id AWiF9YtAMEaT9KPSdl4L</span>"
      ],
      "text/plain": [
       "<IPython.core.display.Markdown object>"
      ]
     },
     "metadata": {},
     "output_type": "display_data"
    },
    {
     "data": {
      "text/markdown": [
       "<span style='color:red'>50\t\t| seed 18 | id AWiF9cXgMEaT9KPSdl6p</span>"
      ],
      "text/plain": [
       "<IPython.core.display.Markdown object>"
      ]
     },
     "metadata": {},
     "output_type": "display_data"
    },
    {
     "data": {
      "text/markdown": [
       "<span style='color:red'>38\t\t| seed 19 | id AWiF9gBhMEaT9KPSdl_i</span>"
      ],
      "text/plain": [
       "<IPython.core.display.Markdown object>"
      ]
     },
     "metadata": {},
     "output_type": "display_data"
    },
    {
     "data": {
      "text/markdown": [
       "<span style='color:red'>44\t\t| seed 20 | id AWiF9jsOMEaT9KPSdmB_</span>"
      ],
      "text/plain": [
       "<IPython.core.display.Markdown object>"
      ]
     },
     "metadata": {},
     "output_type": "display_data"
    },
    {
     "data": {
      "text/markdown": [
       "<span style='color:red'>42\t\t| seed 21 | id AWiF9nWWMEaT9KPSdmG4</span>"
      ],
      "text/plain": [
       "<IPython.core.display.Markdown object>"
      ]
     },
     "metadata": {},
     "output_type": "display_data"
    },
    {
     "data": {
      "text/markdown": [
       "<span style='color:red'>54\t\t| seed 22 | id AWiF9rA6MEaT9KPSdmJV</span>"
      ],
      "text/plain": [
       "<IPython.core.display.Markdown object>"
      ]
     },
     "metadata": {},
     "output_type": "display_data"
    },
    {
     "data": {
      "text/markdown": [
       "<span style='color:red'>50\t\t| seed 23 | id AWiF9usCMEaT9KPSdmOO</span>"
      ],
      "text/plain": [
       "<IPython.core.display.Markdown object>"
      ]
     },
     "metadata": {},
     "output_type": "display_data"
    },
    {
     "data": {
      "text/markdown": [
       "<span style='color:red'>59\t\t| seed 24 | id AWiF9yWbMEaT9KPSdmQr</span>"
      ],
      "text/plain": [
       "<IPython.core.display.Markdown object>"
      ]
     },
     "metadata": {},
     "output_type": "display_data"
    },
    {
     "data": {
      "text/markdown": [
       "<span style='color:red'>41\t\t| seed 25 | id AWiF92BMMEaT9KPSdmVk</span>"
      ],
      "text/plain": [
       "<IPython.core.display.Markdown object>"
      ]
     },
     "metadata": {},
     "output_type": "display_data"
    },
    {
     "data": {
      "text/markdown": [
       "<span style='color:red'>47\t\t| seed 26 | id AWiF95soMEaT9KPSdmYB</span>"
      ],
      "text/plain": [
       "<IPython.core.display.Markdown object>"
      ]
     },
     "metadata": {},
     "output_type": "display_data"
    },
    {
     "data": {
      "text/markdown": [
       "<span style='color:red'>48\t\t| seed 27 | id AWiF99W0MEaT9KPSdmc6</span>"
      ],
      "text/plain": [
       "<IPython.core.display.Markdown object>"
      ]
     },
     "metadata": {},
     "output_type": "display_data"
    },
    {
     "data": {
      "text/markdown": [
       "<span style='color:red'>50\t\t| seed 28 | id AWiF-BBhMEaT9KPSdmfX</span>"
      ],
      "text/plain": [
       "<IPython.core.display.Markdown object>"
      ]
     },
     "metadata": {},
     "output_type": "display_data"
    },
    {
     "data": {
      "text/markdown": [
       "<span style='color:red'>46\t\t| seed 29 | id AWiF-Er5MEaT9KPSdmkQ</span>"
      ],
      "text/plain": [
       "<IPython.core.display.Markdown object>"
      ]
     },
     "metadata": {},
     "output_type": "display_data"
    },
    {
     "data": {
      "text/markdown": [
       "<span style='color:red'>40\t\t| seed 30 | id AWiF-IXEMEaT9KPSdmmt</span>"
      ],
      "text/plain": [
       "<IPython.core.display.Markdown object>"
      ]
     },
     "metadata": {},
     "output_type": "display_data"
    },
    {
     "data": {
      "text/markdown": [
       "<span style='color:red'>100\t\t| seed 31 | id AWh5Q1sdMEaT9KPSRgTy</span>"
      ],
      "text/plain": [
       "<IPython.core.display.Markdown object>"
      ]
     },
     "metadata": {},
     "output_type": "display_data"
    }
   ],
   "source": [
    "import pprint\n",
    "from IPython.display import Markdown, display\n",
    "\n",
    "def printmd(string, color=None):\n",
    "    colorstr = \"<span style='color:{}'>{}</span>\".format(color, string)\n",
    "    display(Markdown(colorstr))\n",
    "    \n",
    "pp = pprint.PrettyPrinter(indent=4)\n",
    "\n",
    "def check_data(rtx_runs, data):\n",
    "    # sort according to seed \n",
    "    rtx_runs.sort(key=lambda d : d[\"seed\"])\n",
    "    opt_method = \"N/A\"\n",
    "    if len(rtx_runs) > 0:\n",
    "        try:\n",
    "            opt_method = rtx_runs[0][\"strategy\"][\"optimizer_method\"]\n",
    "        except:\n",
    "            # mlr does not store the opt method name in field strategy.optimizer_method\n",
    "            opt_method = \"MLR\"\n",
    "    print \"There were \" + str(len(rtx_runs)) + \" runs performed by \" + opt_method\n",
    "\n",
    "    for rtx_run in rtx_runs:\n",
    "        data_for_run = [d for d in data if d[\"parent\"] == rtx_run[\"id\"]]\n",
    "        data_for_run.sort(key=lambda d : (d[\"_source\"][\"iteration\"], d[\"_source\"][\"individual\"]))\n",
    "        printmd(str(len(data_for_run)) + \"\\t\\t| seed \" + str(rtx_run[\"seed\"]) \n",
    "                + \" | id \" + str(rtx_run[\"id\"]), \"red\")\n",
    "\n",
    "        #for d in data_for_run:\n",
    "        #    s = d[\"_source\"]\n",
    "        #    overheads = s[\"payload\"][\"overheads\"]\n",
    "        #    routings = s[\"payload\"][\"routings\"]\n",
    "        #    printmd(\"Iteration \" + str(s[\"iteration\"]) + \", individual \" \n",
    "        #            + str(s[\"individual\"]) + \" with configuration\", \"blue\")        \n",
    "        #    pp.pprint(s[\"knobs\"])\n",
    "        #    printmd(\"has \" + str(len(overheads)) + \" overheads and \" \n",
    "        #            + str(len(routings)) + \" routings\", \"green\")\n",
    "\n",
    "\n",
    "\n",
    "# random search\n",
    "check_data(random_rtx_runs_500, random_data_500)\n",
    "check_data(random_rtx_runs_700, random_data_700)\n",
    "check_data(random_rtx_runs_800, random_data_800)\n",
    "\n",
    "# mlr\n",
    "check_data(mlr_rtx_runs_500, mlr_data_500)\n",
    "check_data(mlr_rtx_runs_700, mlr_data_700)\n",
    "check_data(mlr_rtx_runs_800, mlr_data_800)\n",
    "\n",
    "# novelty\n",
    "check_data(novelty_rtx_runs_500, novelty_data_500)\n",
    "check_data(novelty_rtx_runs_700, novelty_data_700)\n",
    "check_data(novelty_rtx_runs_800, novelty_data_800)\n",
    "\n",
    "# nsga2\n",
    "check_data(nsga2_rtx_runs_500, nsga2_data_500)\n",
    "check_data(nsga2_rtx_runs_700, nsga2_data_700)\n",
    "check_data(nsga2_rtx_runs_800, nsga2_data_800)\n"
   ]
  },
  {
   "cell_type": "markdown",
   "metadata": {},
   "source": [
    "## Code for computing the hypervolume"
   ]
  },
  {
   "cell_type": "code",
   "execution_count": 4,
   "metadata": {},
   "outputs": [
    {
     "name": "stdout",
     "output_type": "stream",
     "text": [
      "Hypervolume module loaded.\n"
     ]
    }
   ],
   "source": [
    "#    https://ls11-www.cs.tu-dortmund.de/rudolph/hypervolume/start\n",
    "\n",
    "#    Copyright (C) 2010 Simon Wessing\n",
    "#    TU Dortmund University\n",
    "#\n",
    "#    This program is free software: you can redistribute it and/or modify\n",
    "#    it under the terms of the GNU General Public License as published by\n",
    "#    the Free Software Foundation, either version 3 of the License, or\n",
    "#    (at your option) any later version.\n",
    "#\n",
    "#    This program is distributed in the hope that it will be useful,\n",
    "#    but WITHOUT ANY WARRANTY; without even the implied warranty of\n",
    "#    MERCHANTABILITY or FITNESS FOR A PARTICULAR PURPOSE.  See the\n",
    "#    GNU General Public License for more details.\n",
    "#\n",
    "#    You should have received a copy of the GNU General Public License\n",
    "#    along with this program.  If not, see <http://www.gnu.org/licenses/>.\n",
    "\n",
    "\n",
    "__author__ = \"Simon Wessing\"\n",
    "\n",
    "\n",
    "class HyperVolume:\n",
    "    \"\"\"\n",
    "    Hypervolume computation based on variant 3 of the algorithm in the paper:\n",
    "    C. M. Fonseca, L. Paquete, and M. Lopez-Ibanez. An improved dimension-sweep\n",
    "    algorithm for the hypervolume indicator. In IEEE Congress on Evolutionary\n",
    "    Computation, pages 1157-1163, Vancouver, Canada, July 2006.\n",
    "\n",
    "    Minimization is implicitly assumed here!\n",
    "\n",
    "    \"\"\"\n",
    "\n",
    "    def __init__(self, referencePoint):\n",
    "        \"\"\"Constructor.\"\"\"\n",
    "        self.referencePoint = referencePoint\n",
    "        self.list = []\n",
    "\n",
    "\n",
    "    def compute(self, front):\n",
    "        \"\"\"Returns the hypervolume that is dominated by a non-dominated front.\n",
    "\n",
    "        Before the HV computation, front and reference point are translated, so\n",
    "        that the reference point is [0, ..., 0].\n",
    "\n",
    "        \"\"\"\n",
    "\n",
    "        def weaklyDominates(point, other):\n",
    "            for i in xrange(len(point)):\n",
    "                if point[i] > other[i]:\n",
    "                    return False\n",
    "            return True\n",
    "\n",
    "        relevantPoints = []\n",
    "        referencePoint = self.referencePoint\n",
    "        dimensions = len(referencePoint)\n",
    "        for point in front:\n",
    "            # only consider points that dominate the reference point\n",
    "            if weaklyDominates(point, referencePoint):\n",
    "                relevantPoints.append(point)\n",
    "        if any(referencePoint):\n",
    "            # shift points so that referencePoint == [0, ..., 0]\n",
    "            # this way the reference point doesn't have to be explicitly used\n",
    "            # in the HV computation\n",
    "            for j in xrange(len(relevantPoints)):\n",
    "                relevantPoints[j] = [relevantPoints[j][i] - referencePoint[i] for i in xrange(dimensions)]\n",
    "        self.preProcess(relevantPoints)\n",
    "        bounds = [-1.0e308] * dimensions\n",
    "        hyperVolume = self.hvRecursive(dimensions - 1, len(relevantPoints), bounds)\n",
    "        return hyperVolume\n",
    "\n",
    "\n",
    "    def hvRecursive(self, dimIndex, length, bounds):\n",
    "        \"\"\"Recursive call to hypervolume calculation.\n",
    "\n",
    "        In contrast to the paper, the code assumes that the reference point\n",
    "        is [0, ..., 0]. This allows the avoidance of a few operations.\n",
    "\n",
    "        \"\"\"\n",
    "        hvol = 0.0\n",
    "        sentinel = self.list.sentinel\n",
    "        if length == 0:\n",
    "            return hvol\n",
    "        elif dimIndex == 0:\n",
    "            # special case: only one dimension\n",
    "            # why using hypervolume at all?\n",
    "            return -sentinel.next[0].cargo[0]\n",
    "        elif dimIndex == 1:\n",
    "            # special case: two dimensions, end recursion\n",
    "            q = sentinel.next[1]\n",
    "            h = q.cargo[0]\n",
    "            p = q.next[1]\n",
    "            while p is not sentinel:\n",
    "                pCargo = p.cargo\n",
    "                hvol += h * (q.cargo[1] - pCargo[1])\n",
    "                if pCargo[0] < h:\n",
    "                    h = pCargo[0]\n",
    "                q = p\n",
    "                p = q.next[1]\n",
    "            hvol += h * q.cargo[1]\n",
    "            return hvol\n",
    "        else:\n",
    "            remove = self.list.remove\n",
    "            reinsert = self.list.reinsert\n",
    "            hvRecursive = self.hvRecursive\n",
    "            p = sentinel\n",
    "            q = p.prev[dimIndex]\n",
    "            while q.cargo != None:\n",
    "                if q.ignore < dimIndex:\n",
    "                    q.ignore = 0\n",
    "                q = q.prev[dimIndex]\n",
    "            q = p.prev[dimIndex]\n",
    "            while length > 1 and (q.cargo[dimIndex] > bounds[dimIndex] or q.prev[dimIndex].cargo[dimIndex] >= bounds[dimIndex]):\n",
    "                p = q\n",
    "                remove(p, dimIndex, bounds)\n",
    "                q = p.prev[dimIndex]\n",
    "                length -= 1\n",
    "            qArea = q.area\n",
    "            qCargo = q.cargo\n",
    "            qPrevDimIndex = q.prev[dimIndex]\n",
    "            if length > 1:\n",
    "                hvol = qPrevDimIndex.volume[dimIndex] + qPrevDimIndex.area[dimIndex] * (qCargo[dimIndex] - qPrevDimIndex.cargo[dimIndex])\n",
    "            else:\n",
    "                qArea[0] = 1\n",
    "                qArea[1:dimIndex+1] = [qArea[i] * -qCargo[i] for i in xrange(dimIndex)]\n",
    "            q.volume[dimIndex] = hvol\n",
    "            if q.ignore >= dimIndex:\n",
    "                qArea[dimIndex] = qPrevDimIndex.area[dimIndex]\n",
    "            else:\n",
    "                qArea[dimIndex] = hvRecursive(dimIndex - 1, length, bounds)\n",
    "                if qArea[dimIndex] <= qPrevDimIndex.area[dimIndex]:\n",
    "                    q.ignore = dimIndex\n",
    "            while p is not sentinel:\n",
    "                pCargoDimIndex = p.cargo[dimIndex]\n",
    "                hvol += q.area[dimIndex] * (pCargoDimIndex - q.cargo[dimIndex])\n",
    "                bounds[dimIndex] = pCargoDimIndex\n",
    "                reinsert(p, dimIndex, bounds)\n",
    "                length += 1\n",
    "                q = p\n",
    "                p = p.next[dimIndex]\n",
    "                q.volume[dimIndex] = hvol\n",
    "                if q.ignore >= dimIndex:\n",
    "                    q.area[dimIndex] = q.prev[dimIndex].area[dimIndex]\n",
    "                else:\n",
    "                    q.area[dimIndex] = hvRecursive(dimIndex - 1, length, bounds)\n",
    "                    if q.area[dimIndex] <= q.prev[dimIndex].area[dimIndex]:\n",
    "                        q.ignore = dimIndex\n",
    "            hvol -= q.area[dimIndex] * q.cargo[dimIndex]\n",
    "            return hvol\n",
    "\n",
    "\n",
    "    def preProcess(self, front):\n",
    "        \"\"\"Sets up the list data structure needed for calculation.\"\"\"\n",
    "        dimensions = len(self.referencePoint)\n",
    "        nodeList = MultiList(dimensions)\n",
    "        nodes = [MultiList.Node(dimensions, point) for point in front]\n",
    "        for i in xrange(dimensions):\n",
    "            self.sortByDimension(nodes, i)\n",
    "            nodeList.extend(nodes, i)\n",
    "        self.list = nodeList\n",
    "\n",
    "\n",
    "    def sortByDimension(self, nodes, i):\n",
    "        \"\"\"Sorts the list of nodes by the i-th value of the contained points.\"\"\"\n",
    "        # build a list of tuples of (point[i], node)\n",
    "        decorated = [(node.cargo[i], node) for node in nodes]\n",
    "        # sort by this value\n",
    "        decorated.sort()\n",
    "        # write back to original list\n",
    "        nodes[:] = [node for (_, node) in decorated]\n",
    "            \n",
    "            \n",
    "            \n",
    "class MultiList: \n",
    "    \"\"\"A special data structure needed by FonsecaHyperVolume. \n",
    "    \n",
    "    It consists of several doubly linked lists that share common nodes. So, \n",
    "    every node has multiple predecessors and successors, one in every list.\n",
    "\n",
    "    \"\"\"\n",
    "\n",
    "    class Node: \n",
    "        \n",
    "        def __init__(self, numberLists, cargo=None): \n",
    "            self.cargo = cargo \n",
    "            self.next  = [None] * numberLists\n",
    "            self.prev = [None] * numberLists\n",
    "            self.ignore = 0\n",
    "            self.area = [0.0] * numberLists\n",
    "            self.volume = [0.0] * numberLists\n",
    "    \n",
    "        def __str__(self): \n",
    "            return str(self.cargo)\n",
    "        \n",
    "        \n",
    "    def __init__(self, numberLists):  \n",
    "        \"\"\"Constructor. \n",
    "        \n",
    "        Builds 'numberLists' doubly linked lists.\n",
    "\n",
    "        \"\"\"\n",
    "        self.numberLists = numberLists\n",
    "        self.sentinel = MultiList.Node(numberLists)\n",
    "        self.sentinel.next = [self.sentinel] * numberLists\n",
    "        self.sentinel.prev = [self.sentinel] * numberLists  \n",
    "        \n",
    "        \n",
    "    def __str__(self):\n",
    "        strings = []\n",
    "        for i in xrange(self.numberLists):\n",
    "            currentList = []\n",
    "            node = self.sentinel.next[i]\n",
    "            while node != self.sentinel:\n",
    "                currentList.append(str(node))\n",
    "                node = node.next[i]\n",
    "            strings.append(str(currentList))\n",
    "        stringRepr = \"\"\n",
    "        for string in strings:\n",
    "            stringRepr += string + \"\\n\"\n",
    "        return stringRepr\n",
    "    \n",
    "    \n",
    "    def __len__(self):\n",
    "        \"\"\"Returns the number of lists that are included in this MultiList.\"\"\"\n",
    "        return self.numberLists\n",
    "    \n",
    "    \n",
    "    def getLength(self, i):\n",
    "        \"\"\"Returns the length of the i-th list.\"\"\"\n",
    "        length = 0\n",
    "        sentinel = self.sentinel\n",
    "        node = sentinel.next[i]\n",
    "        while node != sentinel:\n",
    "            length += 1\n",
    "            node = node.next[i]\n",
    "        return length\n",
    "            \n",
    "            \n",
    "    def append(self, node, index):\n",
    "        \"\"\"Appends a node to the end of the list at the given index.\"\"\"\n",
    "        lastButOne = self.sentinel.prev[index]\n",
    "        node.next[index] = self.sentinel\n",
    "        node.prev[index] = lastButOne\n",
    "        # set the last element as the new one\n",
    "        self.sentinel.prev[index] = node\n",
    "        lastButOne.next[index] = node\n",
    "        \n",
    "        \n",
    "    def extend(self, nodes, index):\n",
    "        \"\"\"Extends the list at the given index with the nodes.\"\"\"\n",
    "        sentinel = self.sentinel\n",
    "        for node in nodes:\n",
    "            lastButOne = sentinel.prev[index]\n",
    "            node.next[index] = sentinel\n",
    "            node.prev[index] = lastButOne\n",
    "            # set the last element as the new one\n",
    "            sentinel.prev[index] = node\n",
    "            lastButOne.next[index] = node\n",
    "        \n",
    "        \n",
    "    def remove(self, node, index, bounds): \n",
    "        \"\"\"Removes and returns 'node' from all lists in [0, 'index'[.\"\"\"\n",
    "        for i in xrange(index): \n",
    "            predecessor = node.prev[i]\n",
    "            successor = node.next[i]\n",
    "            predecessor.next[i] = successor\n",
    "            successor.prev[i] = predecessor  \n",
    "            if bounds[i] > node.cargo[i]:\n",
    "                bounds[i] = node.cargo[i]\n",
    "        return node\n",
    "    \n",
    "    \n",
    "    def reinsert(self, node, index, bounds):\n",
    "        \"\"\"\n",
    "        Inserts 'node' at the position it had in all lists in [0, 'index'[\n",
    "        before it was removed. This method assumes that the next and previous \n",
    "        nodes of the node that is reinserted are in the list.\n",
    "\n",
    "        \"\"\"\n",
    "        for i in xrange(index): \n",
    "            node.prev[i].next[i] = node\n",
    "            node.next[i].prev[i] = node\n",
    "            if bounds[i] > node.cargo[i]:\n",
    "                bounds[i] = node.cargo[i]         \n",
    "     \n",
    "    \n",
    "\n",
    "print(\"Hypervolume module loaded.\")"
   ]
  },
  {
   "cell_type": "markdown",
   "metadata": {},
   "source": [
    "## Compute fitness and store it"
   ]
  },
  {
   "cell_type": "code",
   "execution_count": 5,
   "metadata": {
    "scrolled": true
   },
   "outputs": [
    {
     "name": "stdout",
     "output_type": "stream",
     "text": [
      "Run: AWiALsKlMEaT9KPSX8Ly | RandomSearch | seed: 1 | number of docs/evals: 100 | iterations to process: 10\n",
      "Run: AWiALuGSMEaT9KPSX8OH | RandomSearch | seed: 3 | number of docs/evals: 100 | iterations to process: 10\n",
      "Run: AWiALwiZMEaT9KPSX8Qc | RandomSearch | seed: 4 | number of docs/evals: 100 | iterations to process: 10\n",
      "Run: AWiALy-aMEaT9KPSX8Sx | RandomSearch | seed: 5 | number of docs/evals: 100 | iterations to process: 10\n",
      "Run: AWiAL1afMEaT9KPSX8VG | RandomSearch | seed: 6 | number of docs/evals: 100 | iterations to process: 10\n",
      "Run: AWiAL33FMEaT9KPSX8Xb | RandomSearch | seed: 7 | number of docs/evals: 100 | iterations to process: 10\n",
      "Run: AWiAL6TrMEaT9KPSX8Zw | RandomSearch | seed: 8 | number of docs/evals: 100 | iterations to process: 10\n",
      "Run: AWiAL8vtMEaT9KPSX8cF | RandomSearch | seed: 9 | number of docs/evals: 100 | iterations to process: 10\n",
      "Run: AWiAL_MSMEaT9KPSX8ea | RandomSearch | seed: 10 | number of docs/evals: 100 | iterations to process: 10\n",
      "Run: AWiAMBpmMEaT9KPSX8gv | RandomSearch | seed: 11 | number of docs/evals: 100 | iterations to process: 10\n",
      "Run: AWiAMEFWMEaT9KPSX8jE | RandomSearch | seed: 12 | number of docs/evals: 100 | iterations to process: 10\n",
      "Run: AWiAMGipMEaT9KPSX8lZ | RandomSearch | seed: 13 | number of docs/evals: 100 | iterations to process: 10\n",
      "Run: AWiAMI-zMEaT9KPSX8nw | RandomSearch | seed: 14 | number of docs/evals: 100 | iterations to process: 10\n",
      "Run: AWiAMLbQMEaT9KPSX8qG | RandomSearch | seed: 15 | number of docs/evals: 100 | iterations to process: 10\n",
      "Run: AWiAMHVZMEaT9KPSX8la | RandomSearch | seed: 16 | number of docs/evals: 100 | iterations to process: 10\n",
      "Run: AWiAMHVjMEaT9KPSX8lb | RandomSearch | seed: 17 | number of docs/evals: 100 | iterations to process: 10\n",
      "Run: AWiAMJmfMEaT9KPSX8nx | RandomSearch | seed: 18 | number of docs/evals: 100 | iterations to process: 10\n",
      "Run: AWiAMMEFMEaT9KPSX8qH | RandomSearch | seed: 19 | number of docs/evals: 100 | iterations to process: 10\n",
      "Run: AWiAMOfyMEaT9KPSX8sc | RandomSearch | seed: 20 | number of docs/evals: 100 | iterations to process: 10\n",
      "Run: AWiAMQ8DMEaT9KPSX8ux | RandomSearch | seed: 21 | number of docs/evals: 100 | iterations to process: 10\n",
      "Run: AWiAMTYQMEaT9KPSX8xG | RandomSearch | seed: 22 | number of docs/evals: 100 | iterations to process: 10\n",
      "Run: AWiAMV1HMEaT9KPSX8zb | RandomSearch | seed: 23 | number of docs/evals: 100 | iterations to process: 10\n",
      "Run: AWiAMYR_MEaT9KPSX81w | RandomSearch | seed: 24 | number of docs/evals: 100 | iterations to process: 10\n",
      "Run: AWiAMau7MEaT9KPSX84F | RandomSearch | seed: 25 | number of docs/evals: 100 | iterations to process: 10\n",
      "Run: AWiAMdLIMEaT9KPSX86a | RandomSearch | seed: 26 | number of docs/evals: 100 | iterations to process: 10\n",
      "Run: AWiAMfm3MEaT9KPSX88v | RandomSearch | seed: 27 | number of docs/evals: 100 | iterations to process: 10\n",
      "Run: AWiAMiFLMEaT9KPSX8_F | RandomSearch | seed: 28 | number of docs/evals: 100 | iterations to process: 10\n",
      "Run: AWiAMkgJMEaT9KPSX9Bc | RandomSearch | seed: 29 | number of docs/evals: 100 | iterations to process: 10\n",
      "Run: AWiAMm9HMEaT9KPSX9Dz | RandomSearch | seed: 30 | number of docs/evals: 100 | iterations to process: 10\n",
      "Run: AWiDJnJcMEaT9KPSazVs | RandomSearch | seed: 31 | number of docs/evals: 100 | iterations to process: 10\n",
      "Min | Average | Max number of reused evaluations per run: 0 | 0.0 | 0 | \n",
      "==========================================================\n",
      "Run: AWh7MU1VMEaT9KPSTQjJ | RandomSearch | seed: 1 | number of docs/evals: 100 | iterations to process: 10\n",
      "Run: AWh7MWUoMEaT9KPSTQjL | RandomSearch | seed: 3 | number of docs/evals: 100 | iterations to process: 10\n",
      "Run: AWh7MYxgMEaT9KPSTQlc | RandomSearch | seed: 4 | number of docs/evals: 100 | iterations to process: 10\n",
      "Run: AWh7MbONMEaT9KPSTQnt | RandomSearch | seed: 5 | number of docs/evals: 100 | iterations to process: 10\n",
      "Run: AWh7MdqyMEaT9KPSTQp_ | RandomSearch | seed: 6 | number of docs/evals: 100 | iterations to process: 10\n",
      "Run: AWh7MgGZMEaT9KPSTQsQ | RandomSearch | seed: 7 | number of docs/evals: 100 | iterations to process: 10\n",
      "Run: AWh7Mij5MEaT9KPSTQuh | RandomSearch | seed: 8 | number of docs/evals: 100 | iterations to process: 10\n",
      "Run: AWh7MlAAMEaT9KPSTQwy | RandomSearch | seed: 9 | number of docs/evals: 100 | iterations to process: 10\n",
      "Run: AWh7MndPMEaT9KPSTQzD | RandomSearch | seed: 10 | number of docs/evals: 100 | iterations to process: 10\n",
      "Run: AWh7Mp5dMEaT9KPSTQ1U | RandomSearch | seed: 11 | number of docs/evals: 100 | iterations to process: 10\n",
      "Run: AWh7MsWnMEaT9KPSTQ3l | RandomSearch | seed: 12 | number of docs/evals: 100 | iterations to process: 10\n",
      "Run: AWh7Muy8MEaT9KPSTQ52 | RandomSearch | seed: 13 | number of docs/evals: 100 | iterations to process: 10\n",
      "Run: AWh7MxPzMEaT9KPSTQ8H | RandomSearch | seed: 14 | number of docs/evals: 100 | iterations to process: 10\n",
      "Run: AWh7MzsSMEaT9KPSTQ-Y | RandomSearch | seed: 15 | number of docs/evals: 100 | iterations to process: 10\n",
      "Run: AWh9fwGqMEaT9KPSVabD | RandomSearch | seed: 31 | number of docs/evals: 100 | iterations to process: 10\n",
      "Min | Average | Max number of reused evaluations per run: 0 | 0.0 | 0 | \n",
      "==========================================================\n",
      "Run: AWh3AeIhMEaT9KPSPehe | RandomSearch | seed: 1 | number of docs/evals: 100 | iterations to process: 10\n",
      "Run: AWh3Af6qMEaT9KPSPejq | RandomSearch | seed: 3 | number of docs/evals: 100 | iterations to process: 10\n",
      "Run: AWh3AiYCMEaT9KPSPel2 | RandomSearch | seed: 4 | number of docs/evals: 100 | iterations to process: 10\n",
      "Run: AWh3Aky0MEaT9KPSPeoC | RandomSearch | seed: 5 | number of docs/evals: 100 | iterations to process: 10\n",
      "Run: AWh3AnQOMEaT9KPSPeqO | RandomSearch | seed: 6 | number of docs/evals: 100 | iterations to process: 10\n",
      "Run: AWh3AptCMEaT9KPSPesa | RandomSearch | seed: 7 | number of docs/evals: 100 | iterations to process: 10\n",
      "Run: AWh3AsKaMEaT9KPSPeum | RandomSearch | seed: 8 | number of docs/evals: 100 | iterations to process: 10\n",
      "Run: AWh3AumcMEaT9KPSPewy | RandomSearch | seed: 9 | number of docs/evals: 100 | iterations to process: 10\n",
      "Run: AWh3AxC0MEaT9KPSPey- | RandomSearch | seed: 10 | number of docs/evals: 100 | iterations to process: 10\n",
      "Run: AWh3Aze_MEaT9KPSPe1K | RandomSearch | seed: 11 | number of docs/evals: 100 | iterations to process: 10\n",
      "Run: AWh3A173MEaT9KPSPe3W | RandomSearch | seed: 12 | number of docs/evals: 100 | iterations to process: 10\n",
      "Run: AWh3A4Y4MEaT9KPSPe5i | RandomSearch | seed: 13 | number of docs/evals: 100 | iterations to process: 10\n",
      "Run: AWh3A61PMEaT9KPSPe7u | RandomSearch | seed: 14 | number of docs/evals: 100 | iterations to process: 10\n",
      "Run: AWh3A9RuMEaT9KPSPe96 | RandomSearch | seed: 15 | number of docs/evals: 100 | iterations to process: 10\n",
      "Min | Average | Max number of reused evaluations per run: 0 | 0.0 | 0 | \n",
      "==========================================================\n",
      "Run: AWiDT-QTMEaT9KPSa9h2 | MLR | seed: 1 | number of docs/evals: 100 | iterations to process: 100\n",
      "Run: AWiDUAqgMEaT9KPSa9kS | MLR | seed: 2 | number of docs/evals: 100 | iterations to process: 100\n",
      "Run: AWiDUDHKMEaT9KPSa9mu | MLR | seed: 3 | number of docs/evals: 100 | iterations to process: 100\n",
      "Run: AWiDUFjeMEaT9KPSa9pK | MLR | seed: 4 | number of docs/evals: 100 | iterations to process: 100\n",
      "Run: AWiDUH_EMEaT9KPSa9rm | MLR | seed: 5 | number of docs/evals: 100 | iterations to process: 100\n",
      "Run: AWiDUKb4MEaT9KPSa9uC | MLR | seed: 6 | number of docs/evals: 100 | iterations to process: 100\n",
      "Run: AWiDUM5BMEaT9KPSa9we | MLR | seed: 7 | number of docs/evals: 100 | iterations to process: 100\n",
      "Run: AWiDUPWDMEaT9KPSa9y6 | MLR | seed: 8 | number of docs/evals: 100 | iterations to process: 100\n",
      "Run: AWiDURyPMEaT9KPSa91W | MLR | seed: 9 | number of docs/evals: 100 | iterations to process: 100\n",
      "Run: AWiDUUODMEaT9KPSa93y | MLR | seed: 10 | number of docs/evals: 100 | iterations to process: 100\n",
      "Run: AWiDUWq6MEaT9KPSa96O | MLR | seed: 11 | number of docs/evals: 100 | iterations to process: 100\n",
      "Run: AWiDUZHZMEaT9KPSa98q | MLR | seed: 12 | number of docs/evals: 100 | iterations to process: 100\n",
      "Run: AWiDUbkxMEaT9KPSa9_G | MLR | seed: 13 | number of docs/evals: 100 | iterations to process: 100\n",
      "Run: AWiDUeA0MEaT9KPSa-Bi | MLR | seed: 14 | number of docs/evals: 100 | iterations to process: 100\n",
      "Run: AWiDUgd0MEaT9KPSa-D- | MLR | seed: 15 | number of docs/evals: 100 | iterations to process: 100\n",
      "Run: AWiDcR4BMEaT9KPSbFyF | MLR | seed: 16 | number of docs/evals: 100 | iterations to process: 100\n"
     ]
    },
    {
     "name": "stdout",
     "output_type": "stream",
     "text": [
      "Run: AWiDcSVdMEaT9KPSbFyG | MLR | seed: 17 | number of docs/evals: 100 | iterations to process: 100\n",
      "Run: AWiDcWAbMEaT9KPSbF29 | MLR | seed: 18 | number of docs/evals: 100 | iterations to process: 100\n",
      "Run: AWiDcZqmMEaT9KPSbF5Z | MLR | seed: 19 | number of docs/evals: 100 | iterations to process: 100\n",
      "Run: AWiDcdVbMEaT9KPSbF-Q | MLR | seed: 20 | number of docs/evals: 100 | iterations to process: 100\n",
      "Run: AWiDchAHMEaT9KPSbGAs | MLR | seed: 21 | number of docs/evals: 100 | iterations to process: 100\n",
      "Run: AWiDckqBMEaT9KPSbGFj | MLR | seed: 22 | number of docs/evals: 100 | iterations to process: 100\n",
      "Run: AWiDcoVaMEaT9KPSbGH_ | MLR | seed: 23 | number of docs/evals: 100 | iterations to process: 100\n",
      "Run: AWiDcsAQMEaT9KPSbGM2 | MLR | seed: 24 | number of docs/evals: 100 | iterations to process: 100\n",
      "Run: AWiDcvq_MEaT9KPSbGPS | MLR | seed: 25 | number of docs/evals: 100 | iterations to process: 100\n",
      "Run: AWiDczWHMEaT9KPSbGUJ | MLR | seed: 26 | number of docs/evals: 100 | iterations to process: 100\n",
      "Run: AWiDc3AAMEaT9KPSbGWl | MLR | seed: 27 | number of docs/evals: 100 | iterations to process: 100\n",
      "Run: AWiDc6qsMEaT9KPSbGbc | MLR | seed: 28 | number of docs/evals: 100 | iterations to process: 100\n",
      "Run: AWiDc-WOMEaT9KPSbGd4 | MLR | seed: 29 | number of docs/evals: 100 | iterations to process: 100\n",
      "Run: AWiDdCAUMEaT9KPSbGiv | MLR | seed: 30 | number of docs/evals: 100 | iterations to process: 100\n",
      "Min | Average | Max number of reused evaluations per run: 0 | 0.0 | 0 | \n",
      "==========================================================\n",
      "Run: AWh7LJ_gMEaT9KPSTPdp | MLR | seed: 1 | number of docs/evals: 100 | iterations to process: 100\n",
      "Run: AWh7LK7CMEaT9KPSTPf4 | MLR | seed: 2 | number of docs/evals: 100 | iterations to process: 100\n",
      "Run: AWh7LMJGMEaT9KPSTPf6 | MLR | seed: 3 | number of docs/evals: 100 | iterations to process: 100\n",
      "Run: AWh-4GMBMEaT9KPSWtjB | MLR | seed: 4 | number of docs/evals: 100 | iterations to process: 100\n",
      "Run: AWh7LOl9MEaT9KPSTPiL | MLR | seed: 5 | number of docs/evals: 100 | iterations to process: 100\n",
      "Run: AWh7LP0tMEaT9KPSTPka | MLR | seed: 6 | number of docs/evals: 100 | iterations to process: 100\n",
      "Run: AWh7LRCUMEaT9KPSTPkc | MLR | seed: 7 | number of docs/evals: 100 | iterations to process: 100\n",
      "Run: AWh7LSQzMEaT9KPSTPmr | MLR | seed: 8 | number of docs/evals: 100 | iterations to process: 100\n",
      "Run: AWh7LTgzMEaT9KPSTPmu | MLR | seed: 9 | number of docs/evals: 100 | iterations to process: 100\n",
      "Run: AWh7LUwPMEaT9KPSTPo9 | MLR | seed: 10 | number of docs/evals: 100 | iterations to process: 100\n",
      "Run: AWh7LV7fMEaT9KPSTPo_ | MLR | seed: 11 | number of docs/evals: 100 | iterations to process: 100\n",
      "Run: AWh7LXNXMEaT9KPSTPrO | MLR | seed: 12 | number of docs/evals: 100 | iterations to process: 100\n",
      "Run: AWh7LYatMEaT9KPSTPrQ | MLR | seed: 13 | number of docs/evals: 100 | iterations to process: 100\n",
      "Run: AWh7LZs1MEaT9KPSTPtf | MLR | seed: 14 | number of docs/evals: 100 | iterations to process: 100\n",
      "Run: AWh7La5KMEaT9KPSTPth | MLR | seed: 15 | number of docs/evals: 100 | iterations to process: 100\n",
      "Run: AWh-4ORBMEaT9KPSWtp7 | MLR | seed: 16 | number of docs/evals: 100 | iterations to process: 100\n",
      "Run: AWh-4PeFMEaT9KPSWtsP | MLR | seed: 17 | number of docs/evals: 100 | iterations to process: 100\n",
      "Run: AWh-4QsZMEaT9KPSWtsQ | MLR | seed: 18 | number of docs/evals: 100 | iterations to process: 100\n",
      "Run: AWh-4R6vMEaT9KPSWtuk | MLR | seed: 19 | number of docs/evals: 100 | iterations to process: 100\n",
      "Run: AWh-4TJHMEaT9KPSWtul | MLR | seed: 20 | number of docs/evals: 100 | iterations to process: 100\n",
      "Run: AWh-4UXcMEaT9KPSWtw5 | MLR | seed: 21 | number of docs/evals: 100 | iterations to process: 100\n",
      "Run: AWh-4Vl9MEaT9KPSWtw6 | MLR | seed: 22 | number of docs/evals: 100 | iterations to process: 100\n",
      "Run: AWh-4W0vMEaT9KPSWtzO | MLR | seed: 23 | number of docs/evals: 100 | iterations to process: 100\n",
      "Run: AWh-4YErMEaT9KPSWtzP | MLR | seed: 24 | number of docs/evals: 100 | iterations to process: 100\n",
      "Run: AWh-4ZSGMEaT9KPSWt1j | MLR | seed: 25 | number of docs/evals: 100 | iterations to process: 100\n",
      "Run: AWh-4afdMEaT9KPSWt1k | MLR | seed: 26 | number of docs/evals: 100 | iterations to process: 100\n",
      "Run: AWh-4bzZMEaT9KPSWt34 | MLR | seed: 27 | number of docs/evals: 100 | iterations to process: 100\n",
      "Run: AWh-4c-IMEaT9KPSWt35 | MLR | seed: 28 | number of docs/evals: 100 | iterations to process: 100\n",
      "Run: AWh-4ePPMEaT9KPSWt6N | MLR | seed: 29 | number of docs/evals: 100 | iterations to process: 100\n",
      "Run: AWh-4fZBMEaT9KPSWt6O | MLR | seed: 30 | number of docs/evals: 100 | iterations to process: 100\n",
      "Min | Average | Max number of reused evaluations per run: 0 | 0.0 | 0 | \n",
      "==========================================================\n",
      "Run: AWh265GtMEaT9KPSPZpB | MLR | seed: 1 | number of docs/evals: 100 | iterations to process: 100\n",
      "Run: AWh266RnMEaT9KPSPZpC | MLR | seed: 2 | number of docs/evals: 100 | iterations to process: 100\n",
      "Run: AWh267fUMEaT9KPSPZrM | MLR | seed: 3 | number of docs/evals: 100 | iterations to process: 100\n",
      "Run: AWh268tpMEaT9KPSPZrN | MLR | seed: 4 | number of docs/evals: 100 | iterations to process: 100\n",
      "Run: AWh2698HMEaT9KPSPZtW | MLR | seed: 5 | number of docs/evals: 100 | iterations to process: 100\n",
      "Run: AWh26_KoMEaT9KPSPZtX | MLR | seed: 6 | number of docs/evals: 100 | iterations to process: 100\n",
      "Run: AWiBuhMnMEaT9KPSZa6N | MLR | seed: 7 | number of docs/evals: 100 | iterations to process: 100\n",
      "Run: AWh27BrEMEaT9KPSPZvh | MLR | seed: 8 | number of docs/evals: 100 | iterations to process: 100\n",
      "Run: AWh27C4TMEaT9KPSPZxq | MLR | seed: 9 | number of docs/evals: 100 | iterations to process: 100\n",
      "Run: AWiBuq6AMEaT9KPSZbDq | MLR | seed: 10 | number of docs/evals: 100 | iterations to process: 100\n",
      "Run: AWh27FVCMEaT9KPSPZz0 | MLR | seed: 11 | number of docs/evals: 100 | iterations to process: 100\n",
      "Run: AWh27GjDMEaT9KPSPZz2 | MLR | seed: 12 | number of docs/evals: 100 | iterations to process: 100\n",
      "Run: AWh27HudMEaT9KPSPZ1_ | MLR | seed: 13 | number of docs/evals: 100 | iterations to process: 100\n",
      "Run: AWh27JBBMEaT9KPSPZ2A | MLR | seed: 14 | number of docs/evals: 100 | iterations to process: 100\n",
      "Run: AWh27KKQMEaT9KPSPZ4J | MLR | seed: 15 | number of docs/evals: 100 | iterations to process: 100\n",
      "Run: AWiEZi8JMEaT9KPScCkH | MLR | seed: 16 | number of docs/evals: 100 | iterations to process: 100\n",
      "Run: AWiBuzJFMEaT9KPSZbKy | MLR | seed: 17 | number of docs/evals: 100 | iterations to process: 100\n",
      "Run: AWiBu0YbMEaT9KPSZbNJ | MLR | seed: 18 | number of docs/evals: 100 | iterations to process: 100\n",
      "Run: AWiBu1mIMEaT9KPSZbNL | MLR | seed: 19 | number of docs/evals: 100 | iterations to process: 100\n",
      "Run: AWiBu20HMEaT9KPSZbPi | MLR | seed: 20 | number of docs/evals: 100 | iterations to process: 100\n",
      "Run: AWiBu4CfMEaT9KPSZbPk | MLR | seed: 21 | number of docs/evals: 100 | iterations to process: 100\n",
      "Run: AWiEZqNbMEaT9KPScCrZ | MLR | seed: 22 | number of docs/evals: 100 | iterations to process: 100\n",
      "Run: AWiBu6fMMEaT9KPSZbR9 | MLR | seed: 23 | number of docs/evals: 100 | iterations to process: 100\n",
      "Run: AWiBu7vJMEaT9KPSZbUU | MLR | seed: 24 | number of docs/evals: 100 | iterations to process: 100\n",
      "Run: AWiBu87gMEaT9KPSZbUW | MLR | seed: 25 | number of docs/evals: 100 | iterations to process: 100\n",
      "Run: AWiBu-LnMEaT9KPSZbWt | MLR | seed: 26 | number of docs/evals: 100 | iterations to process: 100\n",
      "Run: AWiBu_fwMEaT9KPSZbWv | MLR | seed: 27 | number of docs/evals: 100 | iterations to process: 100\n",
      "Run: AWiBvAogMEaT9KPSZbZG | MLR | seed: 28 | number of docs/evals: 100 | iterations to process: 100\n",
      "Run: AWiBvB_EMEaT9KPSZbZI | MLR | seed: 29 | number of docs/evals: 100 | iterations to process: 100\n",
      "Run: AWiBvDPaMEaT9KPSZbbf | MLR | seed: 30 | number of docs/evals: 100 | iterations to process: 100\n",
      "Min | Average | Max number of reused evaluations per run: 0 | 0.0 | 0 | \n",
      "==========================================================\n",
      "Run: AWiBO2cTMEaT9KPSY8Tc | NoveltySearch | seed: 1 | number of docs/evals: 100 | iterations to process: 10\n",
      "Run: AWiBO3mbMEaT9KPSY8Te | NoveltySearch | seed: 2 | number of docs/evals: 100 | iterations to process: 10\n",
      "Run: AWiBO40hMEaT9KPSY8V1 | NoveltySearch | seed: 3 | number of docs/evals: 100 | iterations to process: 10\n",
      "Run: AWiBO6CoMEaT9KPSY8V3 | NoveltySearch | seed: 4 | number of docs/evals: 100 | iterations to process: 10\n",
      "Run: AWiBO7RjMEaT9KPSY8YO | NoveltySearch | seed: 5 | number of docs/evals: 100 | iterations to process: 10\n"
     ]
    },
    {
     "name": "stdout",
     "output_type": "stream",
     "text": [
      "Run: AWiBO8fmMEaT9KPSY8YQ | NoveltySearch | seed: 6 | number of docs/evals: 100 | iterations to process: 10\n",
      "Run: AWiBO9uWMEaT9KPSY8an | NoveltySearch | seed: 7 | number of docs/evals: 100 | iterations to process: 10\n",
      "Run: AWiBO-8IMEaT9KPSY8ap | NoveltySearch | seed: 8 | number of docs/evals: 100 | iterations to process: 10\n",
      "Run: AWiBPALRMEaT9KPSY8dA | NoveltySearch | seed: 9 | number of docs/evals: 100 | iterations to process: 10\n",
      "Run: AWiBPBZuMEaT9KPSY8dC | NoveltySearch | seed: 10 | number of docs/evals: 100 | iterations to process: 10\n",
      "Run: AWiBPCpdMEaT9KPSY8fZ | NoveltySearch | seed: 11 | number of docs/evals: 100 | iterations to process: 10\n",
      "Run: AWiBPD3dMEaT9KPSY8fb | NoveltySearch | seed: 12 | number of docs/evals: 100 | iterations to process: 10\n",
      "Run: AWiBPFE1MEaT9KPSY8hy | NoveltySearch | seed: 13 | number of docs/evals: 100 | iterations to process: 10\n",
      "Run: AWiBPGTAMEaT9KPSY8h0 | NoveltySearch | seed: 14 | number of docs/evals: 100 | iterations to process: 10\n",
      "Run: AWiBPHh6MEaT9KPSY8kL | NoveltySearch | seed: 15 | number of docs/evals: 100 | iterations to process: 10\n",
      "Run: AWiBSgcrMEaT9KPSY_2M | NoveltySearch | seed: 16 | number of docs/evals: 100 | iterations to process: 10\n",
      "Run: AWiBShrOMEaT9KPSY_2O | NoveltySearch | seed: 17 | number of docs/evals: 100 | iterations to process: 10\n",
      "Run: AWiBSi4hMEaT9KPSY_4l | NoveltySearch | seed: 18 | number of docs/evals: 100 | iterations to process: 10\n",
      "Run: AWiBSkHuMEaT9KPSY_4n | NoveltySearch | seed: 19 | number of docs/evals: 100 | iterations to process: 10\n",
      "Run: AWiBSlVRMEaT9KPSY_6- | NoveltySearch | seed: 20 | number of docs/evals: 100 | iterations to process: 10\n",
      "Run: AWiBSmkhMEaT9KPSY_7A | NoveltySearch | seed: 21 | number of docs/evals: 100 | iterations to process: 10\n",
      "Run: AWiBSnydMEaT9KPSY_9X | NoveltySearch | seed: 22 | number of docs/evals: 100 | iterations to process: 10\n",
      "Run: AWiBSpCBMEaT9KPSY_9Z | NoveltySearch | seed: 23 | number of docs/evals: 100 | iterations to process: 10\n",
      "Run: AWiBSqPVMEaT9KPSY__w | NoveltySearch | seed: 24 | number of docs/evals: 100 | iterations to process: 10\n",
      "Run: AWiBSrfFMEaT9KPSY__y | NoveltySearch | seed: 25 | number of docs/evals: 100 | iterations to process: 10\n",
      "Run: AWiBSssqMEaT9KPSZACJ | NoveltySearch | seed: 26 | number of docs/evals: 100 | iterations to process: 10\n",
      "Run: AWiBSt7DMEaT9KPSZACL | NoveltySearch | seed: 27 | number of docs/evals: 100 | iterations to process: 10\n",
      "Run: AWiBSvKHMEaT9KPSZAEi | NoveltySearch | seed: 28 | number of docs/evals: 100 | iterations to process: 10\n",
      "Run: AWiBSwYUMEaT9KPSZAEk | NoveltySearch | seed: 29 | number of docs/evals: 100 | iterations to process: 10\n",
      "Run: AWiBSxm8MEaT9KPSZAG7 | NoveltySearch | seed: 30 | number of docs/evals: 100 | iterations to process: 10\n",
      "Min | Average | Max number of reused evaluations per run: 6 | 16.0333333333 | 33 | \n",
      "==========================================================\n",
      "Run: AWh7NW7lMEaT9KPSTRgi | NoveltySearch | seed: 1 | number of docs/evals: 100 | iterations to process: 10\n",
      "Run: AWh7NXJEMEaT9KPSTRgk | NoveltySearch | seed: 2 | number of docs/evals: 100 | iterations to process: 10\n",
      "Run: AWh7NZlOMEaT9KPSTRi4 | NoveltySearch | seed: 3 | number of docs/evals: 100 | iterations to process: 10\n",
      "Run: AWh7NcB4MEaT9KPSTRlL | NoveltySearch | seed: 4 | number of docs/evals: 100 | iterations to process: 10\n",
      "Run: AWh7NedyMEaT9KPSTRne | NoveltySearch | seed: 5 | number of docs/evals: 100 | iterations to process: 10\n",
      "Run: AWh7Ng64MEaT9KPSTRpx | NoveltySearch | seed: 6 | number of docs/evals: 100 | iterations to process: 10\n",
      "Run: AWh7NjXjMEaT9KPSTRsE | NoveltySearch | seed: 7 | number of docs/evals: 100 | iterations to process: 10\n",
      "Run: AWh7Nl0oMEaT9KPSTRuX | NoveltySearch | seed: 8 | number of docs/evals: 100 | iterations to process: 10\n",
      "Run: AWh7NoRRMEaT9KPSTRwq | NoveltySearch | seed: 9 | number of docs/evals: 100 | iterations to process: 10\n",
      "Run: AWh7NqtaMEaT9KPSTRy9 | NoveltySearch | seed: 10 | number of docs/evals: 100 | iterations to process: 10\n",
      "Run: AWh7NtJvMEaT9KPSTR1Q | NoveltySearch | seed: 11 | number of docs/evals: 100 | iterations to process: 10\n",
      "Run: AWh7Nvm4MEaT9KPSTR3j | NoveltySearch | seed: 12 | number of docs/evals: 100 | iterations to process: 10\n",
      "Run: AWh7NyC5MEaT9KPSTR52 | NoveltySearch | seed: 13 | number of docs/evals: 100 | iterations to process: 10\n",
      "Run: AWh7N0feMEaT9KPSTR8J | NoveltySearch | seed: 14 | number of docs/evals: 100 | iterations to process: 10\n",
      "Run: AWh7N28vMEaT9KPSTR-c | NoveltySearch | seed: 15 | number of docs/evals: 100 | iterations to process: 10\n",
      "Run: AWiF7DYLMEaT9KPSdjiz | NoveltySearch | seed: 16 | number of docs/evals: 55 | iterations to process: 10\n",
      "Skip run for further analysis, only 55 documents/evaluations present.\n",
      "Run: AWiF7DYKMEaT9KPSdjiy | NoveltySearch | seed: 17 | number of docs/evals: 42 | iterations to process: 10\n",
      "Skip run for further analysis, only 42 documents/evaluations present.\n",
      "Run: AWiF7FKNMEaT9KPSdjlP | NoveltySearch | seed: 18 | number of docs/evals: 39 | iterations to process: 10\n",
      "Skip run for further analysis, only 39 documents/evaluations present.\n",
      "Run: AWiF7Hm9MEaT9KPSdjns | NoveltySearch | seed: 19 | number of docs/evals: 61 | iterations to process: 10\n",
      "Skip run for further analysis, only 61 documents/evaluations present.\n",
      "Run: AWiF7KDkMEaT9KPSdjqJ | NoveltySearch | seed: 20 | number of docs/evals: 38 | iterations to process: 10\n",
      "Skip run for further analysis, only 38 documents/evaluations present.\n",
      "Run: AWiF7MfjMEaT9KPSdjsm | NoveltySearch | seed: 21 | number of docs/evals: 45 | iterations to process: 10\n",
      "Skip run for further analysis, only 45 documents/evaluations present.\n",
      "Run: AWiF7O76MEaT9KPSdjvD | NoveltySearch | seed: 22 | number of docs/evals: 61 | iterations to process: 10\n",
      "Skip run for further analysis, only 61 documents/evaluations present.\n",
      "Run: AWiF7RXyMEaT9KPSdjxg | NoveltySearch | seed: 23 | number of docs/evals: 46 | iterations to process: 10\n",
      "Skip run for further analysis, only 46 documents/evaluations present.\n",
      "Run: AWiF7T0bMEaT9KPSdjz9 | NoveltySearch | seed: 24 | number of docs/evals: 45 | iterations to process: 10\n",
      "Skip run for further analysis, only 45 documents/evaluations present.\n",
      "Run: AWiF7WSGMEaT9KPSdj2a | NoveltySearch | seed: 25 | number of docs/evals: 58 | iterations to process: 10\n",
      "Skip run for further analysis, only 58 documents/evaluations present.\n",
      "Run: AWiF7YvLMEaT9KPSdj43 | NoveltySearch | seed: 26 | number of docs/evals: 62 | iterations to process: 10\n",
      "Skip run for further analysis, only 62 documents/evaluations present.\n",
      "Run: AWiF7bLeMEaT9KPSdj7U | NoveltySearch | seed: 27 | number of docs/evals: 40 | iterations to process: 10\n",
      "Skip run for further analysis, only 40 documents/evaluations present.\n",
      "Run: AWiF7dnwMEaT9KPSdj9x | NoveltySearch | seed: 28 | number of docs/evals: 48 | iterations to process: 10\n",
      "Skip run for further analysis, only 48 documents/evaluations present.\n",
      "Run: AWiF7gEQMEaT9KPSdkAO | NoveltySearch | seed: 29 | number of docs/evals: 38 | iterations to process: 10\n",
      "Skip run for further analysis, only 38 documents/evaluations present.\n",
      "Run: AWiF7ig4MEaT9KPSdkCr | NoveltySearch | seed: 30 | number of docs/evals: 41 | iterations to process: 10\n",
      "Skip run for further analysis, only 41 documents/evaluations present.\n",
      "Min | Average | Max number of reused evaluations per run: 2 | 9.03333333333 | 29 | \n",
      "==========================================================\n",
      "Run: AWh2_TDsMEaT9KPSPdeZ | NoveltySearch | seed: 1 | number of docs/evals: 100 | iterations to process: 10\n",
      "Run: AWh2_TNfMEaT9KPSPdea | NoveltySearch | seed: 2 | number of docs/evals: 100 | iterations to process: 10\n",
      "Run: AWh2_VqXMEaT9KPSPdgl | NoveltySearch | seed: 3 | number of docs/evals: 100 | iterations to process: 10\n",
      "Run: AWh2_YG3MEaT9KPSPdiw | NoveltySearch | seed: 4 | number of docs/evals: 100 | iterations to process: 10\n",
      "Run: AWh2_ajjMEaT9KPSPdk7 | NoveltySearch | seed: 5 | number of docs/evals: 100 | iterations to process: 10\n",
      "Run: AWh2_dAeMEaT9KPSPdnG | NoveltySearch | seed: 6 | number of docs/evals: 100 | iterations to process: 10\n",
      "Run: AWh2_fcoMEaT9KPSPdpR | NoveltySearch | seed: 7 | number of docs/evals: 100 | iterations to process: 10\n",
      "Run: AWh2_h5MMEaT9KPSPdrc | NoveltySearch | seed: 8 | number of docs/evals: 100 | iterations to process: 10\n",
      "Run: AWh2_kWWMEaT9KPSPdtn | NoveltySearch | seed: 9 | number of docs/evals: 100 | iterations to process: 10\n",
      "Run: AWh2_mzQMEaT9KPSPdvy | NoveltySearch | seed: 10 | number of docs/evals: 100 | iterations to process: 10\n"
     ]
    },
    {
     "name": "stdout",
     "output_type": "stream",
     "text": [
      "Run: AWh2_pPHMEaT9KPSPdx9 | NoveltySearch | seed: 11 | number of docs/evals: 100 | iterations to process: 10\n",
      "Run: AWh2_rsSMEaT9KPSPd0I | NoveltySearch | seed: 12 | number of docs/evals: 100 | iterations to process: 10\n",
      "Run: AWh2_uIUMEaT9KPSPd2T | NoveltySearch | seed: 13 | number of docs/evals: 100 | iterations to process: 10\n",
      "Run: AWh2_wkzMEaT9KPSPd4e | NoveltySearch | seed: 14 | number of docs/evals: 100 | iterations to process: 10\n",
      "Run: AWh2_zB_MEaT9KPSPd6p | NoveltySearch | seed: 15 | number of docs/evals: 100 | iterations to process: 10\n",
      "Run: AWiF75q5MEaT9KPSdkYp | NoveltySearch | seed: 16 | number of docs/evals: 44 | iterations to process: 10\n",
      "Skip run for further analysis, only 44 documents/evaluations present.\n",
      "Run: AWiF76SrMEaT9KPSdkYq | NoveltySearch | seed: 17 | number of docs/evals: 47 | iterations to process: 10\n",
      "Skip run for further analysis, only 47 documents/evaluations present.\n",
      "Run: AWiF799vMEaT9KPSdkdj | NoveltySearch | seed: 18 | number of docs/evals: 42 | iterations to process: 10\n",
      "Skip run for further analysis, only 42 documents/evaluations present.\n",
      "Run: AWiF8BovMEaT9KPSdkgA | NoveltySearch | seed: 19 | number of docs/evals: 44 | iterations to process: 10\n",
      "Skip run for further analysis, only 44 documents/evaluations present.\n",
      "Run: AWiF8FRnMEaT9KPSdkk5 | NoveltySearch | seed: 20 | number of docs/evals: 46 | iterations to process: 10\n",
      "Skip run for further analysis, only 46 documents/evaluations present.\n",
      "Run: AWiF8I9jMEaT9KPSdknW | NoveltySearch | seed: 21 | number of docs/evals: 53 | iterations to process: 10\n",
      "Skip run for further analysis, only 53 documents/evaluations present.\n",
      "Run: AWiF8MoTMEaT9KPSdksP | NoveltySearch | seed: 22 | number of docs/evals: 44 | iterations to process: 10\n",
      "Skip run for further analysis, only 44 documents/evaluations present.\n",
      "Run: AWiF8QSkMEaT9KPSdkus | NoveltySearch | seed: 23 | number of docs/evals: 39 | iterations to process: 10\n",
      "Skip run for further analysis, only 39 documents/evaluations present.\n",
      "Run: AWiF8T-IMEaT9KPSdkzl | NoveltySearch | seed: 24 | number of docs/evals: 56 | iterations to process: 10\n",
      "Skip run for further analysis, only 56 documents/evaluations present.\n",
      "Run: AWiF8XoNMEaT9KPSdk2C | NoveltySearch | seed: 25 | number of docs/evals: 50 | iterations to process: 10\n",
      "Skip run for further analysis, only 50 documents/evaluations present.\n",
      "Run: AWiF8bSuMEaT9KPSdk67 | NoveltySearch | seed: 26 | number of docs/evals: 54 | iterations to process: 10\n",
      "Skip run for further analysis, only 54 documents/evaluations present.\n",
      "Run: AWiF8e97MEaT9KPSdk9Y | NoveltySearch | seed: 27 | number of docs/evals: 53 | iterations to process: 10\n",
      "Skip run for further analysis, only 53 documents/evaluations present.\n",
      "Run: AWiF8in8MEaT9KPSdlCR | NoveltySearch | seed: 28 | number of docs/evals: 47 | iterations to process: 10\n",
      "Skip run for further analysis, only 47 documents/evaluations present.\n",
      "Run: AWiF8mSqMEaT9KPSdlEu | NoveltySearch | seed: 29 | number of docs/evals: 35 | iterations to process: 10\n",
      "Skip run for further analysis, only 35 documents/evaluations present.\n",
      "Run: AWiF8p95MEaT9KPSdlJn | NoveltySearch | seed: 30 | number of docs/evals: 45 | iterations to process: 10\n",
      "Skip run for further analysis, only 45 documents/evaluations present.\n",
      "Min | Average | Max number of reused evaluations per run: 2 | 10.9666666667 | 29 | \n",
      "==========================================================\n",
      "Run: AWiAMheKMEaT9KPSX8_E | NSGAII | seed: 2 | number of docs/evals: 100 | iterations to process: 10\n",
      "Run: AWiAMjobMEaT9KPSX9Bb | NSGAII | seed: 3 | number of docs/evals: 100 | iterations to process: 10\n",
      "Run: AWiAMmELMEaT9KPSX9Dy | NSGAII | seed: 4 | number of docs/evals: 100 | iterations to process: 10\n",
      "Run: AWiAMogrMEaT9KPSX9GJ | NSGAII | seed: 5 | number of docs/evals: 100 | iterations to process: 10\n",
      "Run: AWiAMq90MEaT9KPSX9If | NSGAII | seed: 6 | number of docs/evals: 100 | iterations to process: 10\n",
      "Run: AWiAMtY-MEaT9KPSX9K1 | NSGAII | seed: 7 | number of docs/evals: 100 | iterations to process: 10\n",
      "Run: AWiAMv2NMEaT9KPSX9NL | NSGAII | seed: 8 | number of docs/evals: 100 | iterations to process: 10\n",
      "Run: AWiAMyTBMEaT9KPSX9Ph | NSGAII | seed: 9 | number of docs/evals: 100 | iterations to process: 10\n",
      "Run: AWiAM0vMMEaT9KPSX9R3 | NSGAII | seed: 10 | number of docs/evals: 100 | iterations to process: 10\n",
      "Run: AWiAM3MUMEaT9KPSX9UN | NSGAII | seed: 11 | number of docs/evals: 100 | iterations to process: 10\n",
      "Run: AWiAM5oFMEaT9KPSX9Wj | NSGAII | seed: 12 | number of docs/evals: 100 | iterations to process: 10\n",
      "Run: AWiAM8FgMEaT9KPSX9Y5 | NSGAII | seed: 13 | number of docs/evals: 100 | iterations to process: 10\n",
      "Run: AWiAM-hyMEaT9KPSX9bP | NSGAII | seed: 14 | number of docs/evals: 100 | iterations to process: 10\n",
      "Run: AWiANA-TMEaT9KPSX9dl | NSGAII | seed: 15 | number of docs/evals: 100 | iterations to process: 10\n",
      "Run: AWiBI_mwMEaT9KPSY2qS | NSGAII | seed: 16 | number of docs/evals: 100 | iterations to process: 10\n",
      "Run: AWiBJDQzMEaT9KPSY2u- | NSGAII | seed: 17 | number of docs/evals: 100 | iterations to process: 10\n",
      "Run: AWiBJG66MEaT9KPSY2xW | NSGAII | seed: 18 | number of docs/evals: 100 | iterations to process: 10\n",
      "Run: AWiBJKlbMEaT9KPSY22C | NSGAII | seed: 19 | number of docs/evals: 100 | iterations to process: 10\n",
      "Run: AWiBJOQNMEaT9KPSY24a | NSGAII | seed: 20 | number of docs/evals: 100 | iterations to process: 10\n",
      "Run: AWiBJR6wMEaT9KPSY29G | NSGAII | seed: 21 | number of docs/evals: 100 | iterations to process: 10\n",
      "Run: AWiBJVk8MEaT9KPSY2_e | NSGAII | seed: 22 | number of docs/evals: 100 | iterations to process: 10\n",
      "Run: AWiBJZPiMEaT9KPSY3EK | NSGAII | seed: 23 | number of docs/evals: 100 | iterations to process: 10\n",
      "Run: AWiBJc63MEaT9KPSY3Gi | NSGAII | seed: 24 | number of docs/evals: 100 | iterations to process: 10\n",
      "Run: AWiBJglfMEaT9KPSY3LO | NSGAII | seed: 25 | number of docs/evals: 100 | iterations to process: 10\n",
      "Run: AWiBJkPuMEaT9KPSY3Nm | NSGAII | seed: 26 | number of docs/evals: 100 | iterations to process: 10\n",
      "Run: AWiBJn6tMEaT9KPSY3SS | NSGAII | seed: 27 | number of docs/evals: 100 | iterations to process: 10\n",
      "Run: AWiBJrlkMEaT9KPSY3Uq | NSGAII | seed: 28 | number of docs/evals: 100 | iterations to process: 10\n",
      "Run: AWiBJvQbMEaT9KPSY3ZW | NSGAII | seed: 29 | number of docs/evals: 100 | iterations to process: 10\n",
      "Run: AWiBJy7KMEaT9KPSY3bu | NSGAII | seed: 30 | number of docs/evals: 100 | iterations to process: 10\n",
      "Run: AWiBy5I9MEaT9KPSZfJz | NSGAII | seed: 31 | number of docs/evals: 100 | iterations to process: 10\n",
      "Min | Average | Max number of reused evaluations per run: 1 | 13.5333333333 | 25 | \n",
      "==========================================================\n",
      "Run: AWh7M4caMEaT9KPSTRC5 | NSGAII | seed: 2 | number of docs/evals: 100 | iterations to process: 10\n",
      "Run: AWh7M51lMEaT9KPSTRFL | NSGAII | seed: 3 | number of docs/evals: 100 | iterations to process: 10\n",
      "Run: AWh7M8SXMEaT9KPSTRHd | NSGAII | seed: 4 | number of docs/evals: 100 | iterations to process: 10\n",
      "Run: AWh7M-ubMEaT9KPSTRJv | NSGAII | seed: 5 | number of docs/evals: 100 | iterations to process: 10\n",
      "Run: AWh7NBKIMEaT9KPSTRMB | NSGAII | seed: 6 | number of docs/evals: 100 | iterations to process: 10\n",
      "Run: AWh7NDnwMEaT9KPSTROT | NSGAII | seed: 7 | number of docs/evals: 100 | iterations to process: 10\n",
      "Run: AWh7NGDiMEaT9KPSTRQl | NSGAII | seed: 8 | number of docs/evals: 100 | iterations to process: 10\n",
      "Run: AWh7NIgIMEaT9KPSTRS3 | NSGAII | seed: 9 | number of docs/evals: 100 | iterations to process: 10\n",
      "Run: AWh7NK9SMEaT9KPSTRVJ | NSGAII | seed: 10 | number of docs/evals: 100 | iterations to process: 10\n",
      "Run: AWh7NNZ0MEaT9KPSTRXb | NSGAII | seed: 11 | number of docs/evals: 100 | iterations to process: 10\n",
      "Run: AWh7NP2TMEaT9KPSTRZt | NSGAII | seed: 12 | number of docs/evals: 100 | iterations to process: 10\n",
      "Run: AWh7NSS8MEaT9KPSTRb_ | NSGAII | seed: 13 | number of docs/evals: 100 | iterations to process: 10\n",
      "Run: AWh7NUu8MEaT9KPSTReR | NSGAII | seed: 14 | number of docs/evals: 100 | iterations to process: 10\n",
      "Run: AWh7NXLyMEaT9KPSTRgl | NSGAII | seed: 15 | number of docs/evals: 100 | iterations to process: 10\n",
      "Run: AWiF8rjrMEaT9KPSdlJo | NSGAII | seed: 16 | number of docs/evals: 58 | iterations to process: 10\n",
      "Skip run for further analysis, only 58 documents/evaluations present.\n",
      "Run: AWiF8saAMEaT9KPSdlMF | NSGAII | seed: 17 | number of docs/evals: 55 | iterations to process: 10\n",
      "Skip run for further analysis, only 55 documents/evaluations present.\n",
      "Run: AWiF8wE6MEaT9KPSdlOi | NSGAII | seed: 18 | number of docs/evals: 53 | iterations to process: 10\n"
     ]
    },
    {
     "name": "stdout",
     "output_type": "stream",
     "text": [
      "Skip run for further analysis, only 53 documents/evaluations present.\n",
      "Run: AWiF8zwhMEaT9KPSdlTb | NSGAII | seed: 19 | number of docs/evals: 50 | iterations to process: 10\n",
      "Skip run for further analysis, only 50 documents/evaluations present.\n",
      "Run: AWiF83ZeMEaT9KPSdlV4 | NSGAII | seed: 20 | number of docs/evals: 64 | iterations to process: 10\n",
      "Skip run for further analysis, only 64 documents/evaluations present.\n",
      "Run: AWiF87EyMEaT9KPSdlax | NSGAII | seed: 21 | number of docs/evals: 55 | iterations to process: 10\n",
      "Skip run for further analysis, only 55 documents/evaluations present.\n",
      "Run: AWiF8-veMEaT9KPSdldO | NSGAII | seed: 22 | number of docs/evals: 42 | iterations to process: 10\n",
      "Skip run for further analysis, only 42 documents/evaluations present.\n",
      "Run: AWiF9CZhMEaT9KPSdliH | NSGAII | seed: 23 | number of docs/evals: 54 | iterations to process: 10\n",
      "Skip run for further analysis, only 54 documents/evaluations present.\n",
      "Run: AWiF9GE_MEaT9KPSdlkk | NSGAII | seed: 24 | number of docs/evals: 46 | iterations to process: 10\n",
      "Skip run for further analysis, only 46 documents/evaluations present.\n",
      "Run: AWiF9JvLMEaT9KPSdlpd | NSGAII | seed: 25 | number of docs/evals: 48 | iterations to process: 10\n",
      "Skip run for further analysis, only 48 documents/evaluations present.\n",
      "Run: AWiF9NZnMEaT9KPSdlr6 | NSGAII | seed: 26 | number of docs/evals: 44 | iterations to process: 10\n",
      "Skip run for further analysis, only 44 documents/evaluations present.\n",
      "Run: AWiF9RFYMEaT9KPSdlwz | NSGAII | seed: 27 | number of docs/evals: 45 | iterations to process: 10\n",
      "Skip run for further analysis, only 45 documents/evaluations present.\n",
      "Run: AWiF9UvYMEaT9KPSdlzQ | NSGAII | seed: 28 | number of docs/evals: 51 | iterations to process: 10\n",
      "Skip run for further analysis, only 51 documents/evaluations present.\n",
      "Run: AWiF9YaQMEaT9KPSdl4K | NSGAII | seed: 29 | number of docs/evals: 49 | iterations to process: 10\n",
      "Skip run for further analysis, only 49 documents/evaluations present.\n",
      "Run: AWiF9cFAMEaT9KPSdl6o | NSGAII | seed: 30 | number of docs/evals: 59 | iterations to process: 10\n",
      "Skip run for further analysis, only 59 documents/evaluations present.\n",
      "Run: AWh9DmurMEaT9KPSVAAr | NSGAII | seed: 31 | number of docs/evals: 100 | iterations to process: 10\n",
      "Min | Average | Max number of reused evaluations per run: 0 | 8.43333333333 | 34 | \n",
      "==========================================================\n",
      "Run: AWh2-DsKMEaT9KPSPcZr | NSGAII | seed: 2 | number of docs/evals: 100 | iterations to process: 10\n",
      "Run: AWh2-FhqMEaT9KPSPcb0 | NSGAII | seed: 3 | number of docs/evals: 100 | iterations to process: 10\n",
      "Run: AWh2-H9qMEaT9KPSPcb2 | NSGAII | seed: 4 | number of docs/evals: 100 | iterations to process: 10\n",
      "Run: AWh2-KaxMEaT9KPSPcgI | NSGAII | seed: 5 | number of docs/evals: 100 | iterations to process: 10\n",
      "Run: AWh2-M3DMEaT9KPSPciS | NSGAII | seed: 6 | number of docs/evals: 100 | iterations to process: 10\n",
      "Run: AWh2-PTpMEaT9KPSPckc | NSGAII | seed: 7 | number of docs/evals: 100 | iterations to process: 10\n",
      "Run: AWh2-RweMEaT9KPSPcmm | NSGAII | seed: 8 | number of docs/evals: 100 | iterations to process: 10\n",
      "Run: AWh2-UNSMEaT9KPSPcow | NSGAII | seed: 9 | number of docs/evals: 100 | iterations to process: 10\n",
      "Run: AWh2-WpeMEaT9KPSPcq6 | NSGAII | seed: 10 | number of docs/evals: 100 | iterations to process: 10\n",
      "Run: AWh2-ZF-MEaT9KPSPctE | NSGAII | seed: 11 | number of docs/evals: 100 | iterations to process: 10\n",
      "Run: AWh2-bi0MEaT9KPSPcvO | NSGAII | seed: 12 | number of docs/evals: 100 | iterations to process: 10\n",
      "Run: AWh2-d-gMEaT9KPSPcxY | NSGAII | seed: 13 | number of docs/evals: 100 | iterations to process: 10\n",
      "Run: AWh2-gb-MEaT9KPSPczi | NSGAII | seed: 14 | number of docs/evals: 100 | iterations to process: 10\n",
      "Run: AWh2-i4kMEaT9KPSPc1t | NSGAII | seed: 15 | number of docs/evals: 100 | iterations to process: 10\n",
      "Run: AWiF9XyAMEaT9KPSdl4I | NSGAII | seed: 16 | number of docs/evals: 38 | iterations to process: 10\n",
      "Skip run for further analysis, only 38 documents/evaluations present.\n",
      "Run: AWiF9YtAMEaT9KPSdl4L | NSGAII | seed: 17 | number of docs/evals: 36 | iterations to process: 10\n",
      "Skip run for further analysis, only 36 documents/evaluations present.\n",
      "Run: AWiF9cXgMEaT9KPSdl6p | NSGAII | seed: 18 | number of docs/evals: 50 | iterations to process: 10\n",
      "Skip run for further analysis, only 50 documents/evaluations present.\n",
      "Run: AWiF9gBhMEaT9KPSdl_i | NSGAII | seed: 19 | number of docs/evals: 38 | iterations to process: 10\n",
      "Skip run for further analysis, only 38 documents/evaluations present.\n",
      "Run: AWiF9jsOMEaT9KPSdmB_ | NSGAII | seed: 20 | number of docs/evals: 44 | iterations to process: 10\n",
      "Skip run for further analysis, only 44 documents/evaluations present.\n",
      "Run: AWiF9nWWMEaT9KPSdmG4 | NSGAII | seed: 21 | number of docs/evals: 42 | iterations to process: 10\n",
      "Skip run for further analysis, only 42 documents/evaluations present.\n",
      "Run: AWiF9rA6MEaT9KPSdmJV | NSGAII | seed: 22 | number of docs/evals: 54 | iterations to process: 10\n",
      "Skip run for further analysis, only 54 documents/evaluations present.\n",
      "Run: AWiF9usCMEaT9KPSdmOO | NSGAII | seed: 23 | number of docs/evals: 50 | iterations to process: 10\n",
      "Skip run for further analysis, only 50 documents/evaluations present.\n",
      "Run: AWiF9yWbMEaT9KPSdmQr | NSGAII | seed: 24 | number of docs/evals: 59 | iterations to process: 10\n",
      "Skip run for further analysis, only 59 documents/evaluations present.\n",
      "Run: AWiF92BMMEaT9KPSdmVk | NSGAII | seed: 25 | number of docs/evals: 41 | iterations to process: 10\n",
      "Skip run for further analysis, only 41 documents/evaluations present.\n",
      "Run: AWiF95soMEaT9KPSdmYB | NSGAII | seed: 26 | number of docs/evals: 47 | iterations to process: 10\n",
      "Skip run for further analysis, only 47 documents/evaluations present.\n",
      "Run: AWiF99W0MEaT9KPSdmc6 | NSGAII | seed: 27 | number of docs/evals: 48 | iterations to process: 10\n",
      "Skip run for further analysis, only 48 documents/evaluations present.\n",
      "Run: AWiF-BBhMEaT9KPSdmfX | NSGAII | seed: 28 | number of docs/evals: 50 | iterations to process: 10\n",
      "Skip run for further analysis, only 50 documents/evaluations present.\n",
      "Run: AWiF-Er5MEaT9KPSdmkQ | NSGAII | seed: 29 | number of docs/evals: 46 | iterations to process: 10\n",
      "Skip run for further analysis, only 46 documents/evaluations present.\n",
      "Run: AWiF-IXEMEaT9KPSdmmt | NSGAII | seed: 30 | number of docs/evals: 40 | iterations to process: 10\n",
      "Skip run for further analysis, only 40 documents/evaluations present.\n",
      "Run: AWh5Q1sdMEaT9KPSRgTy | NSGAII | seed: 31 | number of docs/evals: 100 | iterations to process: 10\n",
      "Min | Average | Max number of reused evaluations per run: 0 | 6.96666666667 | 22 | \n",
      "==========================================================\n"
     ]
    }
   ],
   "source": [
    "import sys\n",
    "import numpy as np\n",
    "import pylab \n",
    "import matplotlib.pyplot as plt\n",
    "import matplotlib as mpl\n",
    "mpl.rc(\"savefig\", dpi=300)\n",
    "# plt.rcParams[\"figure.figsize\"] = [8,6]\n",
    "\n",
    "\n",
    "## params \n",
    "iterations_default = 10\n",
    "iterations_mlr = iterations_default * 10\n",
    "sample_size = 5000\n",
    "total_number_of_docs = 100\n",
    "debug = False\n",
    "\n",
    "## maintain iterations to consider\n",
    "iterations = iterations_default\n",
    "def set_iterations(opt_method):\n",
    "    global iterations\n",
    "    if opt_method == \"MLR\":\n",
    "        iterations = iterations_mlr\n",
    "    else:\n",
    "        iterations = iterations_default \n",
    "        \n",
    "        \n",
    "'''\n",
    "Prints an individuals\n",
    "'''\n",
    "def print_individual(ind):\n",
    "    print(\"Iteration: \" + str(ind[\"iteration\"]) \n",
    "                  + \" | Individual: \" + str(ind[\"individual\"]) \n",
    "                  + \" | Overhead: \" + str(get_overhead(ind)) \n",
    "                  + \" | Routing: \" + str(get_routing(ind)))\n",
    "    print(\"\\tConfiguration:\")\n",
    "    for knob, knob_value in ind[\"knobs\"].iteritems():\n",
    "        print(\"\\t\\t\" + str(knob) + \": \" + str(knob_value))\n",
    "\n",
    "    \n",
    "def get_config_key(ind):\n",
    "    knobs = ind[\"knobs\"]\n",
    "    key = str(knobs[\"re_route_every_ticks\"]) + \",\"\n",
    "    key = key + str(knobs[\"freshness_cut_off_value\"]) + \",\"\n",
    "    key = key + str(knobs[\"average_edge_duration_factor\"]) + \",\"\n",
    "    key = key + str(knobs[\"exploration_percentage\"]) + \",\"\n",
    "    key = key + str(knobs[\"freshness_update_factor\"]) + \",\"\n",
    "    key = key + str(knobs[\"route_random_sigma\"]) + \",\"\n",
    "    key = key + str(knobs[\"max_speed_and_length_factor\"])\n",
    "    return key\n",
    "  \n",
    "    \n",
    "'''\n",
    "Calculate the rolling/moving average\n",
    "'''\n",
    "def calculate_moving_average(aList):\n",
    "    moving_avg = 0\n",
    "    tmp_count = 0\n",
    "    for r in range(len(aList)):\n",
    "        moving_avg = (moving_avg * tmp_count + aList[r]) / (tmp_count + 1)\n",
    "        tmp_count = tmp_count + 1\n",
    "    return moving_avg\n",
    "\n",
    "\n",
    "'''\n",
    "Computes the fitness of all individuals of the given runs and \n",
    "stores the fitness of an individual to the individual.\n",
    "Returns a dictionary where the key is the id of the run and the\n",
    "value are all individuals of this run.\n",
    "'''\n",
    "def compute_fitness(rtx_runs, data):\n",
    "    global worst_overhead\n",
    "    global worst_routing\n",
    "    global best_overhead\n",
    "    global best_routing\n",
    "        \n",
    "    run_to_all_individuals = dict()\n",
    "    # counter how often evaluations have been reused over all rtx runs\n",
    "    number_of_reuse_per_run = []\n",
    "    \n",
    "    # for each run\n",
    "    for rtx_run in rtx_runs:\n",
    "        rtx_run_id = rtx_run[\"id\"]\n",
    "        # get all documents = all evaluations\n",
    "        all_documents = [d[\"_source\"] for d in data if d[\"parent\"] == rtx_run_id]\n",
    "        try:\n",
    "            opt_method = rtx_run[\"strategy\"][\"optimizer_method\"]\n",
    "        except:\n",
    "            # mlr does not store the opt method name in field strategy.optimizer_method\n",
    "            opt_method = \"MLR\"\n",
    "        # set iterations\n",
    "        set_iterations(opt_method)\n",
    "        \n",
    "        if debug:\n",
    "            print(\"================================================================\")\n",
    "        print(\"Run: \" + rtx_run_id + \" | \" + opt_method \n",
    "              + \" | seed: \" + str(rtx_run[\"seed\"]) \n",
    "              + \" | number of docs/evals: \" + str(len(all_documents))\n",
    "              + \" | iterations to process: \" + str(iterations))\n",
    "        if debug:\n",
    "            print(\"================================================================\")\n",
    "\n",
    "        # counter how often evaluations have been reused for this rtx run\n",
    "        number_of_reuse = 0\n",
    "        # all inidividuals across all iterations\n",
    "        all_individuals = []\n",
    "        # stored fitnesses for reuse (fitness function using avg)\n",
    "        fitness_store = dict()\n",
    "        \n",
    "        # for each iteration\n",
    "        for i in range(0, iterations):\n",
    "            # get documents of the given iteration for the given run\n",
    "            documents_of_iteration = [d for d in all_documents if d[\"iteration\"] == i]\n",
    "            pop_size = len(documents_of_iteration)\n",
    "            if debug:\n",
    "                print(\"Iteration: \" + str(i) + \" | Population size: \" + str(pop_size))\n",
    "\n",
    "            # for each individual of the iteration\n",
    "            for j in range(len(documents_of_iteration)):        \n",
    "                individual = [d for d in documents_of_iteration if d[\"individual\"] == j]\n",
    "                if len(individual) > 1:\n",
    "                    print(\"ERROR: more than one individual with same number within one iteration.\")\n",
    "                individual = individual[0] # list of one elem\n",
    "\n",
    "                # get overheads of individual\n",
    "                overheads = individual[\"payload\"][\"overheads\"]\n",
    "                # get routings of individual\n",
    "                routings = individual[\"payload\"][\"routings\"]\n",
    "                if overheads == [-1]:\n",
    "                    # reused fitness evaluations are stored in these fields although \n",
    "                    # the fitness need not to be the average\n",
    "                    med_overhead = individual[\"payload\"][\"avg_overhead\"]  \n",
    "                    med_routing = individual[\"payload\"][\"avg_routing\"]\n",
    "                    # store properly \"median\" fitness values in the individual\n",
    "                    set_fitness_med(individual, med_overhead, med_routing)\n",
    "                    # get fitness for average overhead and routing\n",
    "                    key = get_config_key(individual)\n",
    "                    avg_overhead, avg_routing = fitness_store[key]\n",
    "                    set_fitness_avg(individual, avg_overhead, avg_routing) \n",
    "                    # stats\n",
    "                    number_of_reuse = number_of_reuse + 1\n",
    "                else:\n",
    "                    # sanity checks -- fitness needs not to be computed and stored; it is already there\n",
    "                    if len(overheads) <> sample_size:\n",
    "                        print(\"ERROR: Overhead entries \" + str(len(overheads)) \n",
    "                              + \"<> sample size \" + str(sample_size))\n",
    "                    computed_med_overhead = np.median(overheads) \n",
    "                    computed_med_routing = np.median(routings)\n",
    "                    med_overhead = individual[\"payload\"][\"median_overhead\"]\n",
    "                    med_routing = individual[\"payload\"][\"median_routing\"]\n",
    "                    if med_overhead <> computed_med_overhead:\n",
    "                        print(\"Overhead does not match: \" \n",
    "                              + str(med_overhead) + \" vs \" + str(computed_med_overhead))\n",
    "                    if med_routing <> computed_med_routing:\n",
    "                        print(\"Routing does not match: \" \n",
    "                              + str(med_routing) + \" vs \" + str(computed_med_routing))\n",
    "                        \n",
    "                    # compute and store average values\n",
    "                    avg_overhead = np.mean(overheads)\n",
    "                    avg_routing = calculate_moving_average(routings) # np.mean(routings)         \n",
    "                    set_fitness_avg(individual, avg_overhead, avg_routing)\n",
    "                    key = get_config_key(individual)\n",
    "                    fitness_store[key] = avg_overhead, avg_routing\n",
    "               \n",
    "                # use med or avg from now on\n",
    "                if use_median:   \n",
    "                    overhead = med_overhead\n",
    "                    routing = med_routing\n",
    "                else:\n",
    "                    overhead = avg_overhead\n",
    "                    routing = avg_routing\n",
    "                \n",
    "                # check for worst and best cases\n",
    "                if overhead > worst_overhead:\n",
    "                    worst_overhead = overhead\n",
    "                if overhead < best_overhead:\n",
    "                    best_overhead = overhead\n",
    "                if routing > worst_routing:\n",
    "                    worst_routing = routing\n",
    "                if routing < best_routing:\n",
    "                    best_routing = routing\n",
    "                    \n",
    "\n",
    "                if debug:\n",
    "                    print(\"Individual: \" + str(individual[\"individual\"]) \n",
    "                         + \" | Overhead: \" + str(get_overhead(individual))\n",
    "                         + \" | Routing: \" + str(get_routing(individual)))\n",
    "\n",
    "                all_individuals.append(individual)\n",
    "                # next individual\n",
    "\n",
    "            # next iteration\n",
    "            if debug:\n",
    "                print(\"\")\n",
    "\n",
    "        if len(all_documents) == total_number_of_docs:\n",
    "            run_to_all_individuals[rtx_run_id] = all_individuals\n",
    "        else:\n",
    "            print(\"Skip run for further analysis, only \" + str(len(all_documents)) \n",
    "                  + \" documents/evaluations present.\")\n",
    "        number_of_reuse_per_run.append(number_of_reuse)\n",
    "        # next run\n",
    "    print(\"Min | Average | Max number of reused evaluations per run: \"\n",
    "          + str(np.min(number_of_reuse_per_run)) + \" | \"\n",
    "          + str(np.mean(number_of_reuse_per_run)) + \" | \"\n",
    "          + str(np.max(number_of_reuse_per_run)) + \" | \"\n",
    "          + \"\\n==========================================================\")\n",
    "    return run_to_all_individuals\n",
    "      \n",
    "\n",
    "# worst and best objective values achieved in *all* runs\n",
    "worst_overhead = sys.float_info.min\n",
    "worst_routing = sys.float_info.min\n",
    "best_overhead = sys.float_info.max\n",
    "best_routing = sys.float_info.max\n",
    "\n",
    "\n",
    "# check / store fitness\n",
    "\n",
    "# random search \n",
    "random_run_inds_500 = compute_fitness(random_rtx_runs_500, random_data_500)\n",
    "random_run_inds_700 = compute_fitness(random_rtx_runs_700, random_data_700)\n",
    "random_run_inds_800 = compute_fitness(random_rtx_runs_800, random_data_800)\n",
    "\n",
    "# mlr \n",
    "mlr_run_inds_500 = compute_fitness(mlr_rtx_runs_500, mlr_data_500)\n",
    "mlr_run_inds_700 = compute_fitness(mlr_rtx_runs_700, mlr_data_700)\n",
    "mlr_run_inds_800 = compute_fitness(mlr_rtx_runs_800, mlr_data_800)\n",
    "\n",
    "# novelty\n",
    "novelty_run_inds_500 = compute_fitness(novelty_rtx_runs_500, novelty_data_500)\n",
    "novelty_run_inds_700 = compute_fitness(novelty_rtx_runs_700, novelty_data_700)\n",
    "novelty_run_inds_800 = compute_fitness(novelty_rtx_runs_800, novelty_data_800)\n",
    "\n",
    "# nsga2\n",
    "nsga2_run_inds_500 = compute_fitness(nsga2_rtx_runs_500, nsga2_data_500)\n",
    "nsga2_run_inds_700 = compute_fitness(nsga2_rtx_runs_700, nsga2_data_700)\n",
    "nsga2_run_inds_800 = compute_fitness(nsga2_rtx_runs_800, nsga2_data_800)\n"
   ]
  },
  {
   "cell_type": "markdown",
   "metadata": {},
   "source": [
    "## Find pareto fronts"
   ]
  },
  {
   "cell_type": "code",
   "execution_count": 6,
   "metadata": {},
   "outputs": [
    {
     "data": {
      "text/markdown": [
       "<span style='color:red'>===========================================================</span>"
      ],
      "text/plain": [
       "<IPython.core.display.Markdown object>"
      ]
     },
     "metadata": {},
     "output_type": "display_data"
    },
    {
     "name": "stdout",
     "output_type": "stream",
     "text": [
      "\n",
      "Run: AWiALsKlMEaT9KPSX8Ly | method: RandomSearch | seed: 1 | number of documents/evaluations: 100\n",
      "Reference Point: [2.1799818909780915, 343.0]\n",
      "Hypervolume: 179.916242959\n",
      "\n",
      "Run: AWiALuGSMEaT9KPSX8OH | method: RandomSearch | seed: 3 | number of documents/evaluations: 100\n",
      "Reference Point: [2.1799818909780915, 343.0]\n",
      "Hypervolume: 182.452165415\n",
      "\n",
      "Run: AWiALwiZMEaT9KPSX8Qc | method: RandomSearch | seed: 4 | number of documents/evaluations: 100\n",
      "Reference Point: [2.1799818909780915, 343.0]\n",
      "Hypervolume: 176.055689425\n",
      "\n",
      "Run: AWiALy-aMEaT9KPSX8Sx | method: RandomSearch | seed: 5 | number of documents/evaluations: 100\n",
      "Reference Point: [2.1799818909780915, 343.0]\n",
      "Hypervolume: 176.149689055\n",
      "\n",
      "Run: AWiAL1afMEaT9KPSX8VG | method: RandomSearch | seed: 6 | number of documents/evaluations: 100\n",
      "Reference Point: [2.1799818909780915, 343.0]\n",
      "Hypervolume: 177.988745451\n",
      "\n",
      "Run: AWiAL33FMEaT9KPSX8Xb | method: RandomSearch | seed: 7 | number of documents/evaluations: 100\n",
      "Reference Point: [2.1799818909780915, 343.0]\n",
      "Hypervolume: 180.970693105\n",
      "\n",
      "Run: AWiAL6TrMEaT9KPSX8Zw | method: RandomSearch | seed: 8 | number of documents/evaluations: 100\n",
      "Reference Point: [2.1799818909780915, 343.0]\n",
      "Hypervolume: 176.478573422\n",
      "\n",
      "Run: AWiAL8vtMEaT9KPSX8cF | method: RandomSearch | seed: 9 | number of documents/evaluations: 100\n",
      "Reference Point: [2.1799818909780915, 343.0]\n",
      "Hypervolume: 180.300793231\n",
      "\n",
      "Run: AWiAL_MSMEaT9KPSX8ea | method: RandomSearch | seed: 10 | number of documents/evaluations: 100\n",
      "Reference Point: [2.1799818909780915, 343.0]\n",
      "Hypervolume: 177.577449306\n",
      "\n",
      "Run: AWiAMBpmMEaT9KPSX8gv | method: RandomSearch | seed: 11 | number of documents/evaluations: 100\n",
      "Reference Point: [2.1799818909780915, 343.0]\n",
      "Hypervolume: 179.904912159\n",
      "\n",
      "Run: AWiAMEFWMEaT9KPSX8jE | method: RandomSearch | seed: 12 | number of documents/evaluations: 100\n",
      "Reference Point: [2.1799818909780915, 343.0]\n",
      "Hypervolume: 179.346614638\n",
      "\n",
      "Run: AWiAMGipMEaT9KPSX8lZ | method: RandomSearch | seed: 13 | number of documents/evaluations: 100\n",
      "Reference Point: [2.1799818909780915, 343.0]\n",
      "Hypervolume: 175.719355615\n",
      "\n",
      "Run: AWiAMI-zMEaT9KPSX8nw | method: RandomSearch | seed: 14 | number of documents/evaluations: 100\n",
      "Reference Point: [2.1799818909780915, 343.0]\n",
      "Hypervolume: 179.553107209\n",
      "\n",
      "Run: AWiAMLbQMEaT9KPSX8qG | method: RandomSearch | seed: 15 | number of documents/evaluations: 100\n",
      "Reference Point: [2.1799818909780915, 343.0]\n",
      "Hypervolume: 178.01715345\n",
      "\n",
      "Run: AWiAMHVZMEaT9KPSX8la | method: RandomSearch | seed: 16 | number of documents/evaluations: 100\n",
      "Reference Point: [2.1799818909780915, 343.0]\n",
      "Hypervolume: 179.955125606\n",
      "\n",
      "Run: AWiAMHVjMEaT9KPSX8lb | method: RandomSearch | seed: 17 | number of documents/evaluations: 100\n",
      "Reference Point: [2.1799818909780915, 343.0]\n",
      "Hypervolume: 180.477822892\n",
      "\n",
      "Run: AWiAMJmfMEaT9KPSX8nx | method: RandomSearch | seed: 18 | number of documents/evaluations: 100\n",
      "Reference Point: [2.1799818909780915, 343.0]\n",
      "Hypervolume: 178.822623347\n",
      "\n",
      "Run: AWiAMMEFMEaT9KPSX8qH | method: RandomSearch | seed: 19 | number of documents/evaluations: 100\n",
      "Reference Point: [2.1799818909780915, 343.0]\n",
      "Hypervolume: 180.871163145\n",
      "\n",
      "Run: AWiAMOfyMEaT9KPSX8sc | method: RandomSearch | seed: 20 | number of documents/evaluations: 100\n",
      "Reference Point: [2.1799818909780915, 343.0]\n",
      "Hypervolume: 181.967436862\n",
      "\n",
      "Run: AWiAMQ8DMEaT9KPSX8ux | method: RandomSearch | seed: 21 | number of documents/evaluations: 100\n",
      "Reference Point: [2.1799818909780915, 343.0]\n",
      "Hypervolume: 182.306868212\n",
      "\n",
      "Run: AWiAMTYQMEaT9KPSX8xG | method: RandomSearch | seed: 22 | number of documents/evaluations: 100\n",
      "Reference Point: [2.1799818909780915, 343.0]\n",
      "Hypervolume: 183.326937444\n",
      "\n",
      "Run: AWiAMV1HMEaT9KPSX8zb | method: RandomSearch | seed: 23 | number of documents/evaluations: 100\n",
      "Reference Point: [2.1799818909780915, 343.0]\n",
      "Hypervolume: 180.706021136\n",
      "\n",
      "Run: AWiAMYR_MEaT9KPSX81w | method: RandomSearch | seed: 24 | number of documents/evaluations: 100\n",
      "Reference Point: [2.1799818909780915, 343.0]\n",
      "Hypervolume: 178.280715376\n",
      "\n",
      "Run: AWiAMau7MEaT9KPSX84F | method: RandomSearch | seed: 25 | number of documents/evaluations: 100\n",
      "Reference Point: [2.1799818909780915, 343.0]\n",
      "Hypervolume: 181.253008677\n",
      "\n",
      "Run: AWiAMdLIMEaT9KPSX86a | method: RandomSearch | seed: 26 | number of documents/evaluations: 100\n",
      "Reference Point: [2.1799818909780915, 343.0]\n",
      "Hypervolume: 176.981244003\n",
      "\n",
      "Run: AWiAMfm3MEaT9KPSX88v | method: RandomSearch | seed: 27 | number of documents/evaluations: 100\n",
      "Reference Point: [2.1799818909780915, 343.0]\n",
      "Hypervolume: 177.945459793\n",
      "\n",
      "Run: AWiAMiFLMEaT9KPSX8_F | method: RandomSearch | seed: 28 | number of documents/evaluations: 100\n",
      "Reference Point: [2.1799818909780915, 343.0]\n",
      "Hypervolume: 178.738812076\n",
      "\n",
      "Run: AWiAMkgJMEaT9KPSX9Bc | method: RandomSearch | seed: 29 | number of documents/evaluations: 100\n",
      "Reference Point: [2.1799818909780915, 343.0]\n",
      "Hypervolume: 180.017701257\n",
      "\n",
      "Run: AWiAMm9HMEaT9KPSX9Dz | method: RandomSearch | seed: 30 | number of documents/evaluations: 100\n",
      "Reference Point: [2.1799818909780915, 343.0]\n",
      "Hypervolume: 178.64134472\n",
      "\n",
      "Run: AWiDJnJcMEaT9KPSazVs | method: RandomSearch | seed: 31 | number of documents/evaluations: 100\n",
      "Reference Point: [2.1799818909780915, 343.0]\n",
      "Hypervolume: 180.741953235\n"
     ]
    },
    {
     "data": {
      "text/markdown": [
       "<span style='color:red'>===========================================================</span>"
      ],
      "text/plain": [
       "<IPython.core.display.Markdown object>"
      ]
     },
     "metadata": {},
     "output_type": "display_data"
    },
    {
     "name": "stdout",
     "output_type": "stream",
     "text": [
      "\n",
      "Run: AWh7MU1VMEaT9KPSTQjJ | method: RandomSearch | seed: 1 | number of documents/evaluations: 100\n",
      "Reference Point: [2.1799818909780915, 343.0]\n",
      "Hypervolume: 106.511353089\n",
      "\n",
      "Run: AWh7MWUoMEaT9KPSTQjL | method: RandomSearch | seed: 3 | number of documents/evaluations: 100\n",
      "Reference Point: [2.1799818909780915, 343.0]\n",
      "Hypervolume: 114.757236816\n",
      "\n",
      "Run: AWh7MYxgMEaT9KPSTQlc | method: RandomSearch | seed: 4 | number of documents/evaluations: 100\n",
      "Reference Point: [2.1799818909780915, 343.0]\n",
      "Hypervolume: 110.004581412\n",
      "\n",
      "Run: AWh7MbONMEaT9KPSTQnt | method: RandomSearch | seed: 5 | number of documents/evaluations: 100\n",
      "Reference Point: [2.1799818909780915, 343.0]\n",
      "Hypervolume: 112.665347867\n",
      "\n",
      "Run: AWh7MdqyMEaT9KPSTQp_ | method: RandomSearch | seed: 6 | number of documents/evaluations: 100\n",
      "Reference Point: [2.1799818909780915, 343.0]\n",
      "Hypervolume: 113.750149101\n",
      "\n",
      "Run: AWh7MgGZMEaT9KPSTQsQ | method: RandomSearch | seed: 7 | number of documents/evaluations: 100\n",
      "Reference Point: [2.1799818909780915, 343.0]\n",
      "Hypervolume: 121.707939419\n",
      "\n",
      "Run: AWh7Mij5MEaT9KPSTQuh | method: RandomSearch | seed: 8 | number of documents/evaluations: 100\n",
      "Reference Point: [2.1799818909780915, 343.0]\n",
      "Hypervolume: 113.239026176\n",
      "\n",
      "Run: AWh7MlAAMEaT9KPSTQwy | method: RandomSearch | seed: 9 | number of documents/evaluations: 100\n",
      "Reference Point: [2.1799818909780915, 343.0]\n",
      "Hypervolume: 112.984791979\n",
      "\n",
      "Run: AWh7MndPMEaT9KPSTQzD | method: RandomSearch | seed: 10 | number of documents/evaluations: 100\n",
      "Reference Point: [2.1799818909780915, 343.0]\n",
      "Hypervolume: 119.014381375\n",
      "\n",
      "Run: AWh7Mp5dMEaT9KPSTQ1U | method: RandomSearch | seed: 11 | number of documents/evaluations: 100\n",
      "Reference Point: [2.1799818909780915, 343.0]\n",
      "Hypervolume: 116.072587505\n",
      "\n",
      "Run: AWh7MsWnMEaT9KPSTQ3l | method: RandomSearch | seed: 12 | number of documents/evaluations: 100\n",
      "Reference Point: [2.1799818909780915, 343.0]\n",
      "Hypervolume: 120.492421613\n",
      "\n",
      "Run: AWh7Muy8MEaT9KPSTQ52 | method: RandomSearch | seed: 13 | number of documents/evaluations: 100\n",
      "Reference Point: [2.1799818909780915, 343.0]\n",
      "Hypervolume: 106.811583492\n",
      "\n",
      "Run: AWh7MxPzMEaT9KPSTQ8H | method: RandomSearch | seed: 14 | number of documents/evaluations: 100\n",
      "Reference Point: [2.1799818909780915, 343.0]\n",
      "Hypervolume: 115.862466285\n",
      "\n",
      "Run: AWh7MzsSMEaT9KPSTQ-Y | method: RandomSearch | seed: 15 | number of documents/evaluations: 100\n",
      "Reference Point: [2.1799818909780915, 343.0]\n",
      "Hypervolume: 119.00853876\n",
      "\n",
      "Run: AWh9fwGqMEaT9KPSVabD | method: RandomSearch | seed: 31 | number of documents/evaluations: 100\n",
      "Reference Point: [2.1799818909780915, 343.0]\n",
      "Hypervolume: 116.983408971\n"
     ]
    },
    {
     "data": {
      "text/markdown": [
       "<span style='color:red'>===========================================================</span>"
      ],
      "text/plain": [
       "<IPython.core.display.Markdown object>"
      ]
     },
     "metadata": {},
     "output_type": "display_data"
    },
    {
     "name": "stdout",
     "output_type": "stream",
     "text": [
      "\n",
      "Run: AWh3AeIhMEaT9KPSPehe | method: RandomSearch | seed: 1 | number of documents/evaluations: 100\n",
      "Reference Point: [2.1799818909780915, 343.0]\n",
      "Hypervolume: 82.2587400851\n",
      "\n",
      "Run: AWh3Af6qMEaT9KPSPejq | method: RandomSearch | seed: 3 | number of documents/evaluations: 100\n",
      "Reference Point: [2.1799818909780915, 343.0]\n",
      "Hypervolume: 78.057977466\n",
      "\n",
      "Run: AWh3AiYCMEaT9KPSPel2 | method: RandomSearch | seed: 4 | number of documents/evaluations: 100\n",
      "Reference Point: [2.1799818909780915, 343.0]\n",
      "Hypervolume: 83.250979134\n",
      "\n",
      "Run: AWh3Aky0MEaT9KPSPeoC | method: RandomSearch | seed: 5 | number of documents/evaluations: 100\n",
      "Reference Point: [2.1799818909780915, 343.0]\n",
      "Hypervolume: 79.4430145045\n",
      "\n",
      "Run: AWh3AnQOMEaT9KPSPeqO | method: RandomSearch | seed: 6 | number of documents/evaluations: 100\n",
      "Reference Point: [2.1799818909780915, 343.0]\n",
      "Hypervolume: 80.5176429495\n",
      "\n",
      "Run: AWh3AptCMEaT9KPSPesa | method: RandomSearch | seed: 7 | number of documents/evaluations: 100\n",
      "Reference Point: [2.1799818909780915, 343.0]\n",
      "Hypervolume: 76.344918588\n",
      "\n",
      "Run: AWh3AsKaMEaT9KPSPeum | method: RandomSearch | seed: 8 | number of documents/evaluations: 100\n",
      "Reference Point: [2.1799818909780915, 343.0]\n",
      "Hypervolume: 81.3809562733\n",
      "\n",
      "Run: AWh3AumcMEaT9KPSPewy | method: RandomSearch | seed: 9 | number of documents/evaluations: 100\n",
      "Reference Point: [2.1799818909780915, 343.0]\n",
      "Hypervolume: 85.7946857238\n",
      "\n",
      "Run: AWh3AxC0MEaT9KPSPey- | method: RandomSearch | seed: 10 | number of documents/evaluations: 100\n",
      "Reference Point: [2.1799818909780915, 343.0]\n",
      "Hypervolume: 82.857627168\n",
      "\n",
      "Run: AWh3Aze_MEaT9KPSPe1K | method: RandomSearch | seed: 11 | number of documents/evaluations: 100\n",
      "Reference Point: [2.1799818909780915, 343.0]\n",
      "Hypervolume: 87.7649481916\n",
      "\n",
      "Run: AWh3A173MEaT9KPSPe3W | method: RandomSearch | seed: 12 | number of documents/evaluations: 100\n",
      "Reference Point: [2.1799818909780915, 343.0]\n",
      "Hypervolume: 85.2547469225\n",
      "\n",
      "Run: AWh3A4Y4MEaT9KPSPe5i | method: RandomSearch | seed: 13 | number of documents/evaluations: 100\n",
      "Reference Point: [2.1799818909780915, 343.0]\n",
      "Hypervolume: 79.36514042\n",
      "\n",
      "Run: AWh3A61PMEaT9KPSPe7u | method: RandomSearch | seed: 14 | number of documents/evaluations: 100\n",
      "Reference Point: [2.1799818909780915, 343.0]\n",
      "Hypervolume: 87.7553202631\n",
      "\n",
      "Run: AWh3A9RuMEaT9KPSPe96 | method: RandomSearch | seed: 15 | number of documents/evaluations: 100\n",
      "Reference Point: [2.1799818909780915, 343.0]\n",
      "Hypervolume: 84.1029015074\n"
     ]
    },
    {
     "data": {
      "text/markdown": [
       "<span style='color:red'>===========================================================</span>"
      ],
      "text/plain": [
       "<IPython.core.display.Markdown object>"
      ]
     },
     "metadata": {},
     "output_type": "display_data"
    },
    {
     "name": "stdout",
     "output_type": "stream",
     "text": [
      "\n",
      "Run: AWiDT-QTMEaT9KPSa9h2 | method: MLR | seed: 1 | number of documents/evaluations: 100\n",
      "Reference Point: [2.1799818909780915, 343.0]\n",
      "Hypervolume: 177.91842318\n",
      "\n",
      "Run: AWiDUAqgMEaT9KPSa9kS | method: MLR | seed: 2 | number of documents/evaluations: 100\n",
      "Reference Point: [2.1799818909780915, 343.0]\n",
      "Hypervolume: 180.241677264\n",
      "\n",
      "Run: AWiDUDHKMEaT9KPSa9mu | method: MLR | seed: 3 | number of documents/evaluations: 100\n",
      "Reference Point: [2.1799818909780915, 343.0]\n",
      "Hypervolume: 177.905799108\n",
      "\n",
      "Run: AWiDUFjeMEaT9KPSa9pK | method: MLR | seed: 4 | number of documents/evaluations: 100\n",
      "Reference Point: [2.1799818909780915, 343.0]\n",
      "Hypervolume: 176.545019344\n",
      "\n",
      "Run: AWiDUH_EMEaT9KPSa9rm | method: MLR | seed: 5 | number of documents/evaluations: 100\n",
      "Reference Point: [2.1799818909780915, 343.0]\n",
      "Hypervolume: 178.339400153\n",
      "\n",
      "Run: AWiDUKb4MEaT9KPSa9uC | method: MLR | seed: 6 | number of documents/evaluations: 100\n",
      "Reference Point: [2.1799818909780915, 343.0]\n",
      "Hypervolume: 174.47117577\n",
      "\n",
      "Run: AWiDUM5BMEaT9KPSa9we | method: MLR | seed: 7 | number of documents/evaluations: 100\n",
      "Reference Point: [2.1799818909780915, 343.0]\n",
      "Hypervolume: 175.077585165\n",
      "\n",
      "Run: AWiDUPWDMEaT9KPSa9y6 | method: MLR | seed: 8 | number of documents/evaluations: 100\n",
      "Reference Point: [2.1799818909780915, 343.0]\n",
      "Hypervolume: 175.007932994\n",
      "\n",
      "Run: AWiDURyPMEaT9KPSa91W | method: MLR | seed: 9 | number of documents/evaluations: 100\n",
      "Reference Point: [2.1799818909780915, 343.0]\n",
      "Hypervolume: 176.351369691\n",
      "\n",
      "Run: AWiDUUODMEaT9KPSa93y | method: MLR | seed: 10 | number of documents/evaluations: 100\n",
      "Reference Point: [2.1799818909780915, 343.0]\n",
      "Hypervolume: 182.788602557\n",
      "\n",
      "Run: AWiDUWq6MEaT9KPSa96O | method: MLR | seed: 11 | number of documents/evaluations: 100\n",
      "Reference Point: [2.1799818909780915, 343.0]\n",
      "Hypervolume: 178.384413381\n",
      "\n",
      "Run: AWiDUZHZMEaT9KPSa98q | method: MLR | seed: 12 | number of documents/evaluations: 100\n",
      "Reference Point: [2.1799818909780915, 343.0]\n",
      "Hypervolume: 177.674250495\n",
      "\n",
      "Run: AWiDUbkxMEaT9KPSa9_G | method: MLR | seed: 13 | number of documents/evaluations: 100\n",
      "Reference Point: [2.1799818909780915, 343.0]\n",
      "Hypervolume: 173.486502486\n",
      "\n",
      "Run: AWiDUeA0MEaT9KPSa-Bi | method: MLR | seed: 14 | number of documents/evaluations: 100\n",
      "Reference Point: [2.1799818909780915, 343.0]\n",
      "Hypervolume: 179.740266238\n",
      "\n",
      "Run: AWiDUgd0MEaT9KPSa-D- | method: MLR | seed: 15 | number of documents/evaluations: 100\n",
      "Reference Point: [2.1799818909780915, 343.0]\n",
      "Hypervolume: 180.966764665\n",
      "\n",
      "Run: AWiDcR4BMEaT9KPSbFyF | method: MLR | seed: 16 | number of documents/evaluations: 100\n",
      "Reference Point: [2.1799818909780915, 343.0]\n",
      "Hypervolume: 181.778227096\n",
      "\n",
      "Run: AWiDcSVdMEaT9KPSbFyG | method: MLR | seed: 17 | number of documents/evaluations: 100\n",
      "Reference Point: [2.1799818909780915, 343.0]\n",
      "Hypervolume: 181.207426209\n",
      "\n",
      "Run: AWiDcWAbMEaT9KPSbF29 | method: MLR | seed: 18 | number of documents/evaluations: 100\n",
      "Reference Point: [2.1799818909780915, 343.0]\n",
      "Hypervolume: 174.911889486\n",
      "\n",
      "Run: AWiDcZqmMEaT9KPSbF5Z | method: MLR | seed: 19 | number of documents/evaluations: 100\n",
      "Reference Point: [2.1799818909780915, 343.0]\n",
      "Hypervolume: 176.561323913\n",
      "\n",
      "Run: AWiDcdVbMEaT9KPSbF-Q | method: MLR | seed: 20 | number of documents/evaluations: 100\n",
      "Reference Point: [2.1799818909780915, 343.0]\n",
      "Hypervolume: 178.748100887\n",
      "\n",
      "Run: AWiDchAHMEaT9KPSbGAs | method: MLR | seed: 21 | number of documents/evaluations: 100\n",
      "Reference Point: [2.1799818909780915, 343.0]\n",
      "Hypervolume: 175.232736826\n",
      "\n",
      "Run: AWiDckqBMEaT9KPSbGFj | method: MLR | seed: 22 | number of documents/evaluations: 100\n",
      "Reference Point: [2.1799818909780915, 343.0]\n",
      "Hypervolume: 179.993277848\n",
      "\n",
      "Run: AWiDcoVaMEaT9KPSbGH_ | method: MLR | seed: 23 | number of documents/evaluations: 100\n",
      "Reference Point: [2.1799818909780915, 343.0]\n",
      "Hypervolume: 178.90412449\n",
      "\n",
      "Run: AWiDcsAQMEaT9KPSbGM2 | method: MLR | seed: 24 | number of documents/evaluations: 100\n",
      "Reference Point: [2.1799818909780915, 343.0]\n",
      "Hypervolume: 181.827183663\n",
      "\n",
      "Run: AWiDcvq_MEaT9KPSbGPS | method: MLR | seed: 25 | number of documents/evaluations: 100\n",
      "Reference Point: [2.1799818909780915, 343.0]\n",
      "Hypervolume: 178.16923171\n",
      "\n",
      "Run: AWiDczWHMEaT9KPSbGUJ | method: MLR | seed: 26 | number of documents/evaluations: 100\n",
      "Reference Point: [2.1799818909780915, 343.0]\n",
      "Hypervolume: 173.553652589\n",
      "\n",
      "Run: AWiDc3AAMEaT9KPSbGWl | method: MLR | seed: 27 | number of documents/evaluations: 100\n",
      "Reference Point: [2.1799818909780915, 343.0]\n",
      "Hypervolume: 179.269736512\n",
      "\n",
      "Run: AWiDc6qsMEaT9KPSbGbc | method: MLR | seed: 28 | number of documents/evaluations: 100\n",
      "Reference Point: [2.1799818909780915, 343.0]\n",
      "Hypervolume: 180.595041698\n",
      "\n",
      "Run: AWiDc-WOMEaT9KPSbGd4 | method: MLR | seed: 29 | number of documents/evaluations: 100\n",
      "Reference Point: [2.1799818909780915, 343.0]\n",
      "Hypervolume: 174.553960616\n",
      "\n",
      "Run: AWiDdCAUMEaT9KPSbGiv | method: MLR | seed: 30 | number of documents/evaluations: 100\n",
      "Reference Point: [2.1799818909780915, 343.0]\n",
      "Hypervolume: 175.968933836\n"
     ]
    },
    {
     "data": {
      "text/markdown": [
       "<span style='color:red'>===========================================================</span>"
      ],
      "text/plain": [
       "<IPython.core.display.Markdown object>"
      ]
     },
     "metadata": {},
     "output_type": "display_data"
    },
    {
     "name": "stdout",
     "output_type": "stream",
     "text": [
      "\n",
      "Run: AWh7LJ_gMEaT9KPSTPdp | method: MLR | seed: 1 | number of documents/evaluations: 100\n",
      "Reference Point: [2.1799818909780915, 343.0]\n",
      "Hypervolume: 116.800927964\n",
      "\n",
      "Run: AWh7LK7CMEaT9KPSTPf4 | method: MLR | seed: 2 | number of documents/evaluations: 100\n",
      "Reference Point: [2.1799818909780915, 343.0]\n",
      "Hypervolume: 128.707593403\n",
      "\n",
      "Run: AWh7LMJGMEaT9KPSTPf6 | method: MLR | seed: 3 | number of documents/evaluations: 100\n",
      "Reference Point: [2.1799818909780915, 343.0]\n",
      "Hypervolume: 123.130356097\n",
      "\n",
      "Run: AWh-4GMBMEaT9KPSWtjB | method: MLR | seed: 4 | number of documents/evaluations: 100\n",
      "Reference Point: [2.1799818909780915, 343.0]\n",
      "Hypervolume: 122.498120817\n",
      "\n",
      "Run: AWh7LOl9MEaT9KPSTPiL | method: MLR | seed: 5 | number of documents/evaluations: 100\n",
      "Reference Point: [2.1799818909780915, 343.0]\n",
      "Hypervolume: 120.634519733\n",
      "\n",
      "Run: AWh7LP0tMEaT9KPSTPka | method: MLR | seed: 6 | number of documents/evaluations: 100\n",
      "Reference Point: [2.1799818909780915, 343.0]\n",
      "Hypervolume: 120.248196346\n",
      "\n",
      "Run: AWh7LRCUMEaT9KPSTPkc | method: MLR | seed: 7 | number of documents/evaluations: 100\n",
      "Reference Point: [2.1799818909780915, 343.0]\n",
      "Hypervolume: 123.68944503\n",
      "\n",
      "Run: AWh7LSQzMEaT9KPSTPmr | method: MLR | seed: 8 | number of documents/evaluations: 100\n",
      "Reference Point: [2.1799818909780915, 343.0]\n",
      "Hypervolume: 123.725715966\n",
      "\n",
      "Run: AWh7LTgzMEaT9KPSTPmu | method: MLR | seed: 9 | number of documents/evaluations: 100\n",
      "Reference Point: [2.1799818909780915, 343.0]\n",
      "Hypervolume: 118.657621239\n",
      "\n",
      "Run: AWh7LUwPMEaT9KPSTPo9 | method: MLR | seed: 10 | number of documents/evaluations: 100\n",
      "Reference Point: [2.1799818909780915, 343.0]\n",
      "Hypervolume: 126.162222727\n",
      "\n",
      "Run: AWh7LV7fMEaT9KPSTPo_ | method: MLR | seed: 11 | number of documents/evaluations: 100\n",
      "Reference Point: [2.1799818909780915, 343.0]\n",
      "Hypervolume: 126.495601727\n",
      "\n",
      "Run: AWh7LXNXMEaT9KPSTPrO | method: MLR | seed: 12 | number of documents/evaluations: 100\n",
      "Reference Point: [2.1799818909780915, 343.0]\n",
      "Hypervolume: 126.120905795\n",
      "\n",
      "Run: AWh7LYatMEaT9KPSTPrQ | method: MLR | seed: 13 | number of documents/evaluations: 100\n",
      "Reference Point: [2.1799818909780915, 343.0]\n",
      "Hypervolume: 124.323716666\n",
      "\n",
      "Run: AWh7LZs1MEaT9KPSTPtf | method: MLR | seed: 14 | number of documents/evaluations: 100\n",
      "Reference Point: [2.1799818909780915, 343.0]\n",
      "Hypervolume: 119.227547416\n",
      "\n",
      "Run: AWh7La5KMEaT9KPSTPth | method: MLR | seed: 15 | number of documents/evaluations: 100\n",
      "Reference Point: [2.1799818909780915, 343.0]\n",
      "Hypervolume: 121.002923678\n",
      "\n",
      "Run: AWh-4ORBMEaT9KPSWtp7 | method: MLR | seed: 16 | number of documents/evaluations: 100\n",
      "Reference Point: [2.1799818909780915, 343.0]\n",
      "Hypervolume: 126.133549938\n",
      "\n",
      "Run: AWh-4PeFMEaT9KPSWtsP | method: MLR | seed: 17 | number of documents/evaluations: 100\n",
      "Reference Point: [2.1799818909780915, 343.0]\n",
      "Hypervolume: 125.744742827\n",
      "\n",
      "Run: AWh-4QsZMEaT9KPSWtsQ | method: MLR | seed: 18 | number of documents/evaluations: 100\n",
      "Reference Point: [2.1799818909780915, 343.0]\n",
      "Hypervolume: 119.666216709\n",
      "\n",
      "Run: AWh-4R6vMEaT9KPSWtuk | method: MLR | seed: 19 | number of documents/evaluations: 100\n",
      "Reference Point: [2.1799818909780915, 343.0]\n",
      "Hypervolume: 125.549640263\n",
      "\n",
      "Run: AWh-4TJHMEaT9KPSWtul | method: MLR | seed: 20 | number of documents/evaluations: 100\n",
      "Reference Point: [2.1799818909780915, 343.0]\n",
      "Hypervolume: 123.303893481\n",
      "\n",
      "Run: AWh-4UXcMEaT9KPSWtw5 | method: MLR | seed: 21 | number of documents/evaluations: 100\n",
      "Reference Point: [2.1799818909780915, 343.0]\n",
      "Hypervolume: 128.792715941\n",
      "\n",
      "Run: AWh-4Vl9MEaT9KPSWtw6 | method: MLR | seed: 22 | number of documents/evaluations: 100\n",
      "Reference Point: [2.1799818909780915, 343.0]\n",
      "Hypervolume: 125.283693159\n",
      "\n",
      "Run: AWh-4W0vMEaT9KPSWtzO | method: MLR | seed: 23 | number of documents/evaluations: 100\n",
      "Reference Point: [2.1799818909780915, 343.0]\n",
      "Hypervolume: 126.440793721\n",
      "\n",
      "Run: AWh-4YErMEaT9KPSWtzP | method: MLR | seed: 24 | number of documents/evaluations: 100\n",
      "Reference Point: [2.1799818909780915, 343.0]\n",
      "Hypervolume: 129.7080898\n",
      "\n",
      "Run: AWh-4ZSGMEaT9KPSWt1j | method: MLR | seed: 25 | number of documents/evaluations: 100\n",
      "Reference Point: [2.1799818909780915, 343.0]\n",
      "Hypervolume: 121.96746192\n",
      "\n",
      "Run: AWh-4afdMEaT9KPSWt1k | method: MLR | seed: 26 | number of documents/evaluations: 100\n",
      "Reference Point: [2.1799818909780915, 343.0]\n",
      "Hypervolume: 120.410718709\n",
      "\n",
      "Run: AWh-4bzZMEaT9KPSWt34 | method: MLR | seed: 27 | number of documents/evaluations: 100\n",
      "Reference Point: [2.1799818909780915, 343.0]\n",
      "Hypervolume: 129.726617583\n",
      "\n",
      "Run: AWh-4c-IMEaT9KPSWt35 | method: MLR | seed: 28 | number of documents/evaluations: 100\n",
      "Reference Point: [2.1799818909780915, 343.0]\n",
      "Hypervolume: 124.240262298\n",
      "\n",
      "Run: AWh-4ePPMEaT9KPSWt6N | method: MLR | seed: 29 | number of documents/evaluations: 100\n",
      "Reference Point: [2.1799818909780915, 343.0]\n",
      "Hypervolume: 130.25109957\n",
      "\n",
      "Run: AWh-4fZBMEaT9KPSWt6O | method: MLR | seed: 30 | number of documents/evaluations: 100\n",
      "Reference Point: [2.1799818909780915, 343.0]\n",
      "Hypervolume: 126.773284199\n"
     ]
    },
    {
     "data": {
      "text/markdown": [
       "<span style='color:red'>===========================================================</span>"
      ],
      "text/plain": [
       "<IPython.core.display.Markdown object>"
      ]
     },
     "metadata": {},
     "output_type": "display_data"
    },
    {
     "name": "stdout",
     "output_type": "stream",
     "text": [
      "\n",
      "Run: AWh265GtMEaT9KPSPZpB | method: MLR | seed: 1 | number of documents/evaluations: 100\n",
      "Reference Point: [2.1799818909780915, 343.0]\n",
      "Hypervolume: 88.1275254778\n",
      "\n",
      "Run: AWh266RnMEaT9KPSPZpC | method: MLR | seed: 2 | number of documents/evaluations: 100\n",
      "Reference Point: [2.1799818909780915, 343.0]\n",
      "Hypervolume: 98.5678508811\n",
      "\n",
      "Run: AWh267fUMEaT9KPSPZrM | method: MLR | seed: 3 | number of documents/evaluations: 100\n",
      "Reference Point: [2.1799818909780915, 343.0]\n",
      "Hypervolume: 87.0935964004\n",
      "\n",
      "Run: AWh268tpMEaT9KPSPZrN | method: MLR | seed: 4 | number of documents/evaluations: 100\n",
      "Reference Point: [2.1799818909780915, 343.0]\n",
      "Hypervolume: 85.1413988991\n",
      "\n",
      "Run: AWh2698HMEaT9KPSPZtW | method: MLR | seed: 5 | number of documents/evaluations: 100\n",
      "Reference Point: [2.1799818909780915, 343.0]\n",
      "Hypervolume: 85.1071161363\n",
      "\n",
      "Run: AWh26_KoMEaT9KPSPZtX | method: MLR | seed: 6 | number of documents/evaluations: 100\n",
      "Reference Point: [2.1799818909780915, 343.0]\n",
      "Hypervolume: 90.5302354323\n",
      "\n",
      "Run: AWiBuhMnMEaT9KPSZa6N | method: MLR | seed: 7 | number of documents/evaluations: 100\n",
      "Reference Point: [2.1799818909780915, 343.0]\n",
      "Hypervolume: 91.8755868599\n",
      "\n",
      "Run: AWh27BrEMEaT9KPSPZvh | method: MLR | seed: 8 | number of documents/evaluations: 100\n",
      "Reference Point: [2.1799818909780915, 343.0]\n",
      "Hypervolume: 91.8781016103\n",
      "\n",
      "Run: AWh27C4TMEaT9KPSPZxq | method: MLR | seed: 9 | number of documents/evaluations: 100\n",
      "Reference Point: [2.1799818909780915, 343.0]\n",
      "Hypervolume: 88.4326761365\n",
      "\n",
      "Run: AWiBuq6AMEaT9KPSZbDq | method: MLR | seed: 10 | number of documents/evaluations: 100\n",
      "Reference Point: [2.1799818909780915, 343.0]\n",
      "Hypervolume: 92.8189489039\n",
      "\n",
      "Run: AWh27FVCMEaT9KPSPZz0 | method: MLR | seed: 11 | number of documents/evaluations: 100\n",
      "Reference Point: [2.1799818909780915, 343.0]\n",
      "Hypervolume: 101.297006573\n",
      "\n",
      "Run: AWh27GjDMEaT9KPSPZz2 | method: MLR | seed: 12 | number of documents/evaluations: 100\n",
      "Reference Point: [2.1799818909780915, 343.0]\n",
      "Hypervolume: 92.0923784716\n",
      "\n",
      "Run: AWh27HudMEaT9KPSPZ1_ | method: MLR | seed: 13 | number of documents/evaluations: 100\n",
      "Reference Point: [2.1799818909780915, 343.0]\n",
      "Hypervolume: 91.7986586009\n",
      "\n",
      "Run: AWh27JBBMEaT9KPSPZ2A | method: MLR | seed: 14 | number of documents/evaluations: 100\n",
      "Reference Point: [2.1799818909780915, 343.0]\n",
      "Hypervolume: 94.797024678\n",
      "\n",
      "Run: AWh27KKQMEaT9KPSPZ4J | method: MLR | seed: 15 | number of documents/evaluations: 100\n",
      "Reference Point: [2.1799818909780915, 343.0]\n",
      "Hypervolume: 90.8494063809\n",
      "\n",
      "Run: AWiEZi8JMEaT9KPScCkH | method: MLR | seed: 16 | number of documents/evaluations: 100\n",
      "Reference Point: [2.1799818909780915, 343.0]\n",
      "Hypervolume: 106.049751462\n",
      "\n",
      "Run: AWiBuzJFMEaT9KPSZbKy | method: MLR | seed: 17 | number of documents/evaluations: 100\n",
      "Reference Point: [2.1799818909780915, 343.0]\n",
      "Hypervolume: 97.3614267688\n",
      "\n",
      "Run: AWiBu0YbMEaT9KPSZbNJ | method: MLR | seed: 18 | number of documents/evaluations: 100\n",
      "Reference Point: [2.1799818909780915, 343.0]\n",
      "Hypervolume: 97.1575802304\n",
      "\n",
      "Run: AWiBu1mIMEaT9KPSZbNL | method: MLR | seed: 19 | number of documents/evaluations: 100\n",
      "Reference Point: [2.1799818909780915, 343.0]\n",
      "Hypervolume: 89.7211125798\n",
      "\n",
      "Run: AWiBu20HMEaT9KPSZbPi | method: MLR | seed: 20 | number of documents/evaluations: 100\n",
      "Reference Point: [2.1799818909780915, 343.0]\n",
      "Hypervolume: 91.299334249\n",
      "\n",
      "Run: AWiBu4CfMEaT9KPSZbPk | method: MLR | seed: 21 | number of documents/evaluations: 100\n",
      "Reference Point: [2.1799818909780915, 343.0]\n",
      "Hypervolume: 96.8629001964\n",
      "\n",
      "Run: AWiEZqNbMEaT9KPScCrZ | method: MLR | seed: 22 | number of documents/evaluations: 100\n",
      "Reference Point: [2.1799818909780915, 343.0]\n",
      "Hypervolume: 97.7777847387\n",
      "\n",
      "Run: AWiBu6fMMEaT9KPSZbR9 | method: MLR | seed: 23 | number of documents/evaluations: 100\n",
      "Reference Point: [2.1799818909780915, 343.0]\n",
      "Hypervolume: 96.4426775433\n",
      "\n",
      "Run: AWiBu7vJMEaT9KPSZbUU | method: MLR | seed: 24 | number of documents/evaluations: 100\n",
      "Reference Point: [2.1799818909780915, 343.0]\n",
      "Hypervolume: 98.8613958119\n",
      "\n",
      "Run: AWiBu87gMEaT9KPSZbUW | method: MLR | seed: 25 | number of documents/evaluations: 100\n",
      "Reference Point: [2.1799818909780915, 343.0]\n",
      "Hypervolume: 87.5952986211\n",
      "\n",
      "Run: AWiBu-LnMEaT9KPSZbWt | method: MLR | seed: 26 | number of documents/evaluations: 100\n",
      "Reference Point: [2.1799818909780915, 343.0]\n",
      "Hypervolume: 91.0660943976\n",
      "\n",
      "Run: AWiBu_fwMEaT9KPSZbWv | method: MLR | seed: 27 | number of documents/evaluations: 100\n",
      "Reference Point: [2.1799818909780915, 343.0]\n",
      "Hypervolume: 93.5566690568\n",
      "\n",
      "Run: AWiBvAogMEaT9KPSZbZG | method: MLR | seed: 28 | number of documents/evaluations: 100\n",
      "Reference Point: [2.1799818909780915, 343.0]\n",
      "Hypervolume: 97.8719854323\n",
      "\n",
      "Run: AWiBvB_EMEaT9KPSZbZI | method: MLR | seed: 29 | number of documents/evaluations: 100\n",
      "Reference Point: [2.1799818909780915, 343.0]\n",
      "Hypervolume: 96.6681231098\n",
      "\n",
      "Run: AWiBvDPaMEaT9KPSZbbf | method: MLR | seed: 30 | number of documents/evaluations: 100\n",
      "Reference Point: [2.1799818909780915, 343.0]\n",
      "Hypervolume: 96.6875585305\n"
     ]
    },
    {
     "data": {
      "text/markdown": [
       "<span style='color:red'>===========================================================</span>"
      ],
      "text/plain": [
       "<IPython.core.display.Markdown object>"
      ]
     },
     "metadata": {},
     "output_type": "display_data"
    },
    {
     "name": "stdout",
     "output_type": "stream",
     "text": [
      "\n",
      "Run: AWiBO2cTMEaT9KPSY8Tc | method: NoveltySearch | seed: 1 | number of documents/evaluations: 100\n",
      "Reference Point: [2.1799818909780915, 343.0]\n",
      "Hypervolume: 181.776444298\n",
      "\n",
      "Run: AWiBO3mbMEaT9KPSY8Te | method: NoveltySearch | seed: 2 | number of documents/evaluations: 100\n",
      "Reference Point: [2.1799818909780915, 343.0]\n",
      "Hypervolume: 176.917772238\n",
      "\n",
      "Run: AWiBO40hMEaT9KPSY8V1 | method: NoveltySearch | seed: 3 | number of documents/evaluations: 100\n",
      "Reference Point: [2.1799818909780915, 343.0]\n",
      "Hypervolume: 172.414421162\n",
      "\n",
      "Run: AWiBO6CoMEaT9KPSY8V3 | method: NoveltySearch | seed: 4 | number of documents/evaluations: 100\n",
      "Reference Point: [2.1799818909780915, 343.0]\n",
      "Hypervolume: 177.942263413\n",
      "\n",
      "Run: AWiBO7RjMEaT9KPSY8YO | method: NoveltySearch | seed: 5 | number of documents/evaluations: 100\n",
      "Reference Point: [2.1799818909780915, 343.0]\n",
      "Hypervolume: 179.26033431\n",
      "\n",
      "Run: AWiBO8fmMEaT9KPSY8YQ | method: NoveltySearch | seed: 6 | number of documents/evaluations: 100\n",
      "Reference Point: [2.1799818909780915, 343.0]\n",
      "Hypervolume: 168.322682527\n",
      "\n",
      "Run: AWiBO9uWMEaT9KPSY8an | method: NoveltySearch | seed: 7 | number of documents/evaluations: 100\n",
      "Reference Point: [2.1799818909780915, 343.0]\n",
      "Hypervolume: 179.329025674\n",
      "\n",
      "Run: AWiBO-8IMEaT9KPSY8ap | method: NoveltySearch | seed: 8 | number of documents/evaluations: 100\n",
      "Reference Point: [2.1799818909780915, 343.0]\n",
      "Hypervolume: 176.992530407\n",
      "\n",
      "Run: AWiBPALRMEaT9KPSY8dA | method: NoveltySearch | seed: 9 | number of documents/evaluations: 100\n",
      "Reference Point: [2.1799818909780915, 343.0]\n",
      "Hypervolume: 181.388315137\n",
      "\n",
      "Run: AWiBPBZuMEaT9KPSY8dC | method: NoveltySearch | seed: 10 | number of documents/evaluations: 100\n",
      "Reference Point: [2.1799818909780915, 343.0]\n",
      "Hypervolume: 177.441763957\n",
      "\n",
      "Run: AWiBPCpdMEaT9KPSY8fZ | method: NoveltySearch | seed: 11 | number of documents/evaluations: 100\n",
      "Reference Point: [2.1799818909780915, 343.0]\n",
      "Hypervolume: 175.278257353\n",
      "\n",
      "Run: AWiBPD3dMEaT9KPSY8fb | method: NoveltySearch | seed: 12 | number of documents/evaluations: 100\n",
      "Reference Point: [2.1799818909780915, 343.0]\n",
      "Hypervolume: 183.666775379\n",
      "\n",
      "Run: AWiBPFE1MEaT9KPSY8hy | method: NoveltySearch | seed: 13 | number of documents/evaluations: 100\n",
      "Reference Point: [2.1799818909780915, 343.0]\n",
      "Hypervolume: 172.086014206\n",
      "\n",
      "Run: AWiBPGTAMEaT9KPSY8h0 | method: NoveltySearch | seed: 14 | number of documents/evaluations: 100\n",
      "Reference Point: [2.1799818909780915, 343.0]\n",
      "Hypervolume: 182.786762011\n",
      "\n",
      "Run: AWiBPHh6MEaT9KPSY8kL | method: NoveltySearch | seed: 15 | number of documents/evaluations: 100\n",
      "Reference Point: [2.1799818909780915, 343.0]\n",
      "Hypervolume: 177.639343841\n",
      "\n",
      "Run: AWiBSgcrMEaT9KPSY_2M | method: NoveltySearch | seed: 16 | number of documents/evaluations: 100\n",
      "Reference Point: [2.1799818909780915, 343.0]\n",
      "Hypervolume: 177.045603752\n",
      "\n",
      "Run: AWiBShrOMEaT9KPSY_2O | method: NoveltySearch | seed: 17 | number of documents/evaluations: 100\n",
      "Reference Point: [2.1799818909780915, 343.0]\n",
      "Hypervolume: 179.996705097\n",
      "\n",
      "Run: AWiBSi4hMEaT9KPSY_4l | method: NoveltySearch | seed: 18 | number of documents/evaluations: 100\n",
      "Reference Point: [2.1799818909780915, 343.0]\n",
      "Hypervolume: 178.209893316\n",
      "\n",
      "Run: AWiBSkHuMEaT9KPSY_4n | method: NoveltySearch | seed: 19 | number of documents/evaluations: 100\n",
      "Reference Point: [2.1799818909780915, 343.0]\n",
      "Hypervolume: 180.728627206\n",
      "\n",
      "Run: AWiBSlVRMEaT9KPSY_6- | method: NoveltySearch | seed: 20 | number of documents/evaluations: 100\n",
      "Reference Point: [2.1799818909780915, 343.0]\n",
      "Hypervolume: 181.991389752\n",
      "\n",
      "Run: AWiBSmkhMEaT9KPSY_7A | method: NoveltySearch | seed: 21 | number of documents/evaluations: 100\n",
      "Reference Point: [2.1799818909780915, 343.0]\n",
      "Hypervolume: 178.573178503\n",
      "\n",
      "Run: AWiBSnydMEaT9KPSY_9X | method: NoveltySearch | seed: 22 | number of documents/evaluations: 100\n",
      "Reference Point: [2.1799818909780915, 343.0]\n",
      "Hypervolume: 177.851544507\n",
      "\n",
      "Run: AWiBSpCBMEaT9KPSY_9Z | method: NoveltySearch | seed: 23 | number of documents/evaluations: 100\n",
      "Reference Point: [2.1799818909780915, 343.0]\n",
      "Hypervolume: 176.769685684\n",
      "\n",
      "Run: AWiBSqPVMEaT9KPSY__w | method: NoveltySearch | seed: 24 | number of documents/evaluations: 100\n",
      "Reference Point: [2.1799818909780915, 343.0]\n",
      "Hypervolume: 171.214737781\n",
      "\n",
      "Run: AWiBSrfFMEaT9KPSY__y | method: NoveltySearch | seed: 25 | number of documents/evaluations: 100\n",
      "Reference Point: [2.1799818909780915, 343.0]\n",
      "Hypervolume: 176.153017812\n",
      "\n",
      "Run: AWiBSssqMEaT9KPSZACJ | method: NoveltySearch | seed: 26 | number of documents/evaluations: 100\n",
      "Reference Point: [2.1799818909780915, 343.0]\n",
      "Hypervolume: 177.448283361\n",
      "\n",
      "Run: AWiBSt7DMEaT9KPSZACL | method: NoveltySearch | seed: 27 | number of documents/evaluations: 100\n",
      "Reference Point: [2.1799818909780915, 343.0]\n",
      "Hypervolume: 177.536063572\n",
      "\n",
      "Run: AWiBSvKHMEaT9KPSZAEi | method: NoveltySearch | seed: 28 | number of documents/evaluations: 100\n",
      "Reference Point: [2.1799818909780915, 343.0]\n",
      "Hypervolume: 177.733770435\n",
      "\n",
      "Run: AWiBSwYUMEaT9KPSZAEk | method: NoveltySearch | seed: 29 | number of documents/evaluations: 100\n",
      "Reference Point: [2.1799818909780915, 343.0]\n",
      "Hypervolume: 175.858561018\n",
      "\n",
      "Run: AWiBSxm8MEaT9KPSZAG7 | method: NoveltySearch | seed: 30 | number of documents/evaluations: 100\n",
      "Reference Point: [2.1799818909780915, 343.0]\n",
      "Hypervolume: 175.39214593\n"
     ]
    },
    {
     "data": {
      "text/markdown": [
       "<span style='color:red'>===========================================================</span>"
      ],
      "text/plain": [
       "<IPython.core.display.Markdown object>"
      ]
     },
     "metadata": {},
     "output_type": "display_data"
    },
    {
     "name": "stdout",
     "output_type": "stream",
     "text": [
      "\n",
      "Run: AWh7NW7lMEaT9KPSTRgi | method: NoveltySearch | seed: 1 | number of documents/evaluations: 100\n",
      "Reference Point: [2.1799818909780915, 343.0]\n",
      "Hypervolume: 112.534624466\n",
      "\n",
      "Run: AWh7NXJEMEaT9KPSTRgk | method: NoveltySearch | seed: 2 | number of documents/evaluations: 100\n",
      "Reference Point: [2.1799818909780915, 343.0]\n",
      "Hypervolume: 119.488965659\n",
      "\n",
      "Run: AWh7NZlOMEaT9KPSTRi4 | method: NoveltySearch | seed: 3 | number of documents/evaluations: 100\n",
      "Reference Point: [2.1799818909780915, 343.0]\n",
      "Hypervolume: 113.661670385\n",
      "\n",
      "Run: AWh7NcB4MEaT9KPSTRlL | method: NoveltySearch | seed: 4 | number of documents/evaluations: 100\n",
      "Reference Point: [2.1799818909780915, 343.0]\n",
      "Hypervolume: 109.023857015\n",
      "\n",
      "Run: AWh7NedyMEaT9KPSTRne | method: NoveltySearch | seed: 5 | number of documents/evaluations: 100\n",
      "Reference Point: [2.1799818909780915, 343.0]\n",
      "Hypervolume: 107.670942786\n",
      "\n",
      "Run: AWh7Ng64MEaT9KPSTRpx | method: NoveltySearch | seed: 6 | number of documents/evaluations: 100\n",
      "Reference Point: [2.1799818909780915, 343.0]\n",
      "Hypervolume: 107.178514631\n",
      "\n",
      "Run: AWh7NjXjMEaT9KPSTRsE | method: NoveltySearch | seed: 7 | number of documents/evaluations: 100\n",
      "Reference Point: [2.1799818909780915, 343.0]\n",
      "Hypervolume: 115.609266457\n",
      "\n",
      "Run: AWh7Nl0oMEaT9KPSTRuX | method: NoveltySearch | seed: 8 | number of documents/evaluations: 100\n",
      "Reference Point: [2.1799818909780915, 343.0]\n",
      "Hypervolume: 118.773815271\n",
      "\n",
      "Run: AWh7NoRRMEaT9KPSTRwq | method: NoveltySearch | seed: 9 | number of documents/evaluations: 100\n",
      "Reference Point: [2.1799818909780915, 343.0]\n",
      "Hypervolume: 113.23066967\n",
      "\n",
      "Run: AWh7NqtaMEaT9KPSTRy9 | method: NoveltySearch | seed: 10 | number of documents/evaluations: 100\n",
      "Reference Point: [2.1799818909780915, 343.0]\n",
      "Hypervolume: 114.508382203\n",
      "\n",
      "Run: AWh7NtJvMEaT9KPSTR1Q | method: NoveltySearch | seed: 11 | number of documents/evaluations: 100\n",
      "Reference Point: [2.1799818909780915, 343.0]\n",
      "Hypervolume: 120.229999596\n",
      "\n",
      "Run: AWh7Nvm4MEaT9KPSTR3j | method: NoveltySearch | seed: 12 | number of documents/evaluations: 100\n",
      "Reference Point: [2.1799818909780915, 343.0]\n",
      "Hypervolume: 120.988617859\n",
      "\n",
      "Run: AWh7NyC5MEaT9KPSTR52 | method: NoveltySearch | seed: 13 | number of documents/evaluations: 100\n",
      "Reference Point: [2.1799818909780915, 343.0]\n",
      "Hypervolume: 112.413779946\n",
      "\n",
      "Run: AWh7N0feMEaT9KPSTR8J | method: NoveltySearch | seed: 14 | number of documents/evaluations: 100\n",
      "Reference Point: [2.1799818909780915, 343.0]\n",
      "Hypervolume: 117.282353359\n",
      "\n",
      "Run: AWh7N28vMEaT9KPSTR-c | method: NoveltySearch | seed: 15 | number of documents/evaluations: 100\n",
      "Reference Point: [2.1799818909780915, 343.0]\n",
      "Hypervolume: 108.066076096\n",
      "Encountered skipped run AWiF7DYLMEaT9KPSdjiz\n",
      "Encountered skipped run AWiF7DYKMEaT9KPSdjiy\n",
      "Encountered skipped run AWiF7FKNMEaT9KPSdjlP\n",
      "Encountered skipped run AWiF7Hm9MEaT9KPSdjns\n",
      "Encountered skipped run AWiF7KDkMEaT9KPSdjqJ\n",
      "Encountered skipped run AWiF7MfjMEaT9KPSdjsm\n",
      "Encountered skipped run AWiF7O76MEaT9KPSdjvD\n",
      "Encountered skipped run AWiF7RXyMEaT9KPSdjxg\n",
      "Encountered skipped run AWiF7T0bMEaT9KPSdjz9\n",
      "Encountered skipped run AWiF7WSGMEaT9KPSdj2a\n",
      "Encountered skipped run AWiF7YvLMEaT9KPSdj43\n",
      "Encountered skipped run AWiF7bLeMEaT9KPSdj7U\n",
      "Encountered skipped run AWiF7dnwMEaT9KPSdj9x\n",
      "Encountered skipped run AWiF7gEQMEaT9KPSdkAO\n",
      "Encountered skipped run AWiF7ig4MEaT9KPSdkCr\n"
     ]
    },
    {
     "data": {
      "text/markdown": [
       "<span style='color:red'>===========================================================</span>"
      ],
      "text/plain": [
       "<IPython.core.display.Markdown object>"
      ]
     },
     "metadata": {},
     "output_type": "display_data"
    },
    {
     "name": "stdout",
     "output_type": "stream",
     "text": [
      "\n",
      "Run: AWh2_TDsMEaT9KPSPdeZ | method: NoveltySearch | seed: 1 | number of documents/evaluations: 100\n",
      "Reference Point: [2.1799818909780915, 343.0]\n",
      "Hypervolume: 84.4378763166\n",
      "\n",
      "Run: AWh2_TNfMEaT9KPSPdea | method: NoveltySearch | seed: 2 | number of documents/evaluations: 100\n",
      "Reference Point: [2.1799818909780915, 343.0]\n",
      "Hypervolume: 92.3531065118\n",
      "\n",
      "Run: AWh2_VqXMEaT9KPSPdgl | method: NoveltySearch | seed: 3 | number of documents/evaluations: 100\n",
      "Reference Point: [2.1799818909780915, 343.0]\n",
      "Hypervolume: 73.3872382907\n",
      "\n",
      "Run: AWh2_YG3MEaT9KPSPdiw | method: NoveltySearch | seed: 4 | number of documents/evaluations: 100\n",
      "Reference Point: [2.1799818909780915, 343.0]\n",
      "Hypervolume: 80.6123219259\n",
      "\n",
      "Run: AWh2_ajjMEaT9KPSPdk7 | method: NoveltySearch | seed: 5 | number of documents/evaluations: 100\n",
      "Reference Point: [2.1799818909780915, 343.0]\n",
      "Hypervolume: 76.5370066089\n",
      "\n",
      "Run: AWh2_dAeMEaT9KPSPdnG | method: NoveltySearch | seed: 6 | number of documents/evaluations: 100\n",
      "Reference Point: [2.1799818909780915, 343.0]\n",
      "Hypervolume: 83.234247449\n",
      "\n",
      "Run: AWh2_fcoMEaT9KPSPdpR | method: NoveltySearch | seed: 7 | number of documents/evaluations: 100\n",
      "Reference Point: [2.1799818909780915, 343.0]\n",
      "Hypervolume: 78.4509182719\n",
      "\n",
      "Run: AWh2_h5MMEaT9KPSPdrc | method: NoveltySearch | seed: 8 | number of documents/evaluations: 100\n",
      "Reference Point: [2.1799818909780915, 343.0]\n",
      "Hypervolume: 80.0610395366\n",
      "\n",
      "Run: AWh2_kWWMEaT9KPSPdtn | method: NoveltySearch | seed: 9 | number of documents/evaluations: 100\n",
      "Reference Point: [2.1799818909780915, 343.0]\n",
      "Hypervolume: 81.4539334332\n",
      "\n",
      "Run: AWh2_mzQMEaT9KPSPdvy | method: NoveltySearch | seed: 10 | number of documents/evaluations: 100\n",
      "Reference Point: [2.1799818909780915, 343.0]\n",
      "Hypervolume: 80.7807598438\n",
      "\n",
      "Run: AWh2_pPHMEaT9KPSPdx9 | method: NoveltySearch | seed: 11 | number of documents/evaluations: 100\n",
      "Reference Point: [2.1799818909780915, 343.0]\n",
      "Hypervolume: 83.3546673903\n",
      "\n",
      "Run: AWh2_rsSMEaT9KPSPd0I | method: NoveltySearch | seed: 12 | number of documents/evaluations: 100\n",
      "Reference Point: [2.1799818909780915, 343.0]\n",
      "Hypervolume: 83.6342526782\n",
      "\n",
      "Run: AWh2_uIUMEaT9KPSPd2T | method: NoveltySearch | seed: 13 | number of documents/evaluations: 100\n",
      "Reference Point: [2.1799818909780915, 343.0]\n",
      "Hypervolume: 83.1681499241\n",
      "\n",
      "Run: AWh2_wkzMEaT9KPSPd4e | method: NoveltySearch | seed: 14 | number of documents/evaluations: 100\n",
      "Reference Point: [2.1799818909780915, 343.0]\n",
      "Hypervolume: 86.1018410375\n",
      "\n",
      "Run: AWh2_zB_MEaT9KPSPd6p | method: NoveltySearch | seed: 15 | number of documents/evaluations: 100\n",
      "Reference Point: [2.1799818909780915, 343.0]\n",
      "Hypervolume: 85.618944177\n",
      "Encountered skipped run AWiF75q5MEaT9KPSdkYp\n",
      "Encountered skipped run AWiF76SrMEaT9KPSdkYq\n",
      "Encountered skipped run AWiF799vMEaT9KPSdkdj\n",
      "Encountered skipped run AWiF8BovMEaT9KPSdkgA\n",
      "Encountered skipped run AWiF8FRnMEaT9KPSdkk5\n",
      "Encountered skipped run AWiF8I9jMEaT9KPSdknW\n",
      "Encountered skipped run AWiF8MoTMEaT9KPSdksP\n",
      "Encountered skipped run AWiF8QSkMEaT9KPSdkus\n",
      "Encountered skipped run AWiF8T-IMEaT9KPSdkzl\n",
      "Encountered skipped run AWiF8XoNMEaT9KPSdk2C\n",
      "Encountered skipped run AWiF8bSuMEaT9KPSdk67\n",
      "Encountered skipped run AWiF8e97MEaT9KPSdk9Y\n",
      "Encountered skipped run AWiF8in8MEaT9KPSdlCR\n",
      "Encountered skipped run AWiF8mSqMEaT9KPSdlEu\n",
      "Encountered skipped run AWiF8p95MEaT9KPSdlJn\n"
     ]
    },
    {
     "data": {
      "text/markdown": [
       "<span style='color:red'>===========================================================</span>"
      ],
      "text/plain": [
       "<IPython.core.display.Markdown object>"
      ]
     },
     "metadata": {},
     "output_type": "display_data"
    },
    {
     "name": "stdout",
     "output_type": "stream",
     "text": [
      "\n",
      "Run: AWiAMheKMEaT9KPSX8_E | method: NSGAII | seed: 2 | number of documents/evaluations: 100\n",
      "Reference Point: [2.1799818909780915, 343.0]\n",
      "Hypervolume: 178.585960424\n",
      "\n",
      "Run: AWiAMjobMEaT9KPSX9Bb | method: NSGAII | seed: 3 | number of documents/evaluations: 100\n",
      "Reference Point: [2.1799818909780915, 343.0]\n",
      "Hypervolume: 172.985426495\n",
      "\n",
      "Run: AWiAMmELMEaT9KPSX9Dy | method: NSGAII | seed: 4 | number of documents/evaluations: 100\n",
      "Reference Point: [2.1799818909780915, 343.0]\n",
      "Hypervolume: 179.799083077\n",
      "\n",
      "Run: AWiAMogrMEaT9KPSX9GJ | method: NSGAII | seed: 5 | number of documents/evaluations: 100\n",
      "Reference Point: [2.1799818909780915, 343.0]\n",
      "Hypervolume: 178.886094164\n",
      "\n",
      "Run: AWiAMq90MEaT9KPSX9If | method: NSGAII | seed: 6 | number of documents/evaluations: 100\n",
      "Reference Point: [2.1799818909780915, 343.0]\n",
      "Hypervolume: 178.459260674\n",
      "\n",
      "Run: AWiAMtY-MEaT9KPSX9K1 | method: NSGAII | seed: 7 | number of documents/evaluations: 100\n",
      "Reference Point: [2.1799818909780915, 343.0]\n",
      "Hypervolume: 177.726707734\n",
      "\n",
      "Run: AWiAMv2NMEaT9KPSX9NL | method: NSGAII | seed: 8 | number of documents/evaluations: 100\n",
      "Reference Point: [2.1799818909780915, 343.0]\n",
      "Hypervolume: 180.834172923\n",
      "\n",
      "Run: AWiAMyTBMEaT9KPSX9Ph | method: NSGAII | seed: 9 | number of documents/evaluations: 100\n",
      "Reference Point: [2.1799818909780915, 343.0]\n",
      "Hypervolume: 177.73921789\n",
      "\n",
      "Run: AWiAM0vMMEaT9KPSX9R3 | method: NSGAII | seed: 10 | number of documents/evaluations: 100\n",
      "Reference Point: [2.1799818909780915, 343.0]\n",
      "Hypervolume: 181.717510747\n",
      "\n",
      "Run: AWiAM3MUMEaT9KPSX9UN | method: NSGAII | seed: 11 | number of documents/evaluations: 100\n",
      "Reference Point: [2.1799818909780915, 343.0]\n",
      "Hypervolume: 178.480798865\n",
      "\n",
      "Run: AWiAM5oFMEaT9KPSX9Wj | method: NSGAII | seed: 12 | number of documents/evaluations: 100\n",
      "Reference Point: [2.1799818909780915, 343.0]\n",
      "Hypervolume: 181.766997351\n",
      "\n",
      "Run: AWiAM8FgMEaT9KPSX9Y5 | method: NSGAII | seed: 13 | number of documents/evaluations: 100\n",
      "Reference Point: [2.1799818909780915, 343.0]\n",
      "Hypervolume: 175.626159073\n",
      "\n",
      "Run: AWiAM-hyMEaT9KPSX9bP | method: NSGAII | seed: 14 | number of documents/evaluations: 100\n",
      "Reference Point: [2.1799818909780915, 343.0]\n",
      "Hypervolume: 182.226891186\n",
      "\n",
      "Run: AWiANA-TMEaT9KPSX9dl | method: NSGAII | seed: 15 | number of documents/evaluations: 100\n",
      "Reference Point: [2.1799818909780915, 343.0]\n",
      "Hypervolume: 181.532940137\n",
      "\n",
      "Run: AWiBI_mwMEaT9KPSY2qS | method: NSGAII | seed: 16 | number of documents/evaluations: 100\n",
      "Reference Point: [2.1799818909780915, 343.0]\n",
      "Hypervolume: 179.65564471\n",
      "\n",
      "Run: AWiBJDQzMEaT9KPSY2u- | method: NSGAII | seed: 17 | number of documents/evaluations: 100\n",
      "Reference Point: [2.1799818909780915, 343.0]\n",
      "Hypervolume: 181.462637683\n",
      "\n",
      "Run: AWiBJG66MEaT9KPSY2xW | method: NSGAII | seed: 18 | number of documents/evaluations: 100\n",
      "Reference Point: [2.1799818909780915, 343.0]\n",
      "Hypervolume: 177.179142884\n",
      "\n",
      "Run: AWiBJKlbMEaT9KPSY22C | method: NSGAII | seed: 19 | number of documents/evaluations: 100\n",
      "Reference Point: [2.1799818909780915, 343.0]\n",
      "Hypervolume: 182.902960633\n",
      "\n",
      "Run: AWiBJOQNMEaT9KPSY24a | method: NSGAII | seed: 20 | number of documents/evaluations: 100\n",
      "Reference Point: [2.1799818909780915, 343.0]\n",
      "Hypervolume: 179.648729868\n",
      "\n",
      "Run: AWiBJR6wMEaT9KPSY29G | method: NSGAII | seed: 21 | number of documents/evaluations: 100\n",
      "Reference Point: [2.1799818909780915, 343.0]\n",
      "Hypervolume: 178.989946944\n",
      "\n",
      "Run: AWiBJVk8MEaT9KPSY2_e | method: NSGAII | seed: 22 | number of documents/evaluations: 100\n",
      "Reference Point: [2.1799818909780915, 343.0]\n",
      "Hypervolume: 181.577402314\n",
      "\n",
      "Run: AWiBJZPiMEaT9KPSY3EK | method: NSGAII | seed: 23 | number of documents/evaluations: 100\n",
      "Reference Point: [2.1799818909780915, 343.0]\n",
      "Hypervolume: 182.404437902\n",
      "\n",
      "Run: AWiBJc63MEaT9KPSY3Gi | method: NSGAII | seed: 24 | number of documents/evaluations: 100\n",
      "Reference Point: [2.1799818909780915, 343.0]\n",
      "Hypervolume: 177.154748622\n",
      "\n",
      "Run: AWiBJglfMEaT9KPSY3LO | method: NSGAII | seed: 25 | number of documents/evaluations: 100\n",
      "Reference Point: [2.1799818909780915, 343.0]\n",
      "Hypervolume: 181.931051813\n",
      "\n",
      "Run: AWiBJkPuMEaT9KPSY3Nm | method: NSGAII | seed: 26 | number of documents/evaluations: 100\n",
      "Reference Point: [2.1799818909780915, 343.0]\n",
      "Hypervolume: 183.488379079\n",
      "\n",
      "Run: AWiBJn6tMEaT9KPSY3SS | method: NSGAII | seed: 27 | number of documents/evaluations: 100\n",
      "Reference Point: [2.1799818909780915, 343.0]\n",
      "Hypervolume: 177.936913017\n",
      "\n",
      "Run: AWiBJrlkMEaT9KPSY3Uq | method: NSGAII | seed: 28 | number of documents/evaluations: 100\n",
      "Reference Point: [2.1799818909780915, 343.0]\n",
      "Hypervolume: 181.494405154\n",
      "\n",
      "Run: AWiBJvQbMEaT9KPSY3ZW | method: NSGAII | seed: 29 | number of documents/evaluations: 100\n",
      "Reference Point: [2.1799818909780915, 343.0]\n",
      "Hypervolume: 182.715266832\n",
      "\n",
      "Run: AWiBJy7KMEaT9KPSY3bu | method: NSGAII | seed: 30 | number of documents/evaluations: 100\n",
      "Reference Point: [2.1799818909780915, 343.0]\n",
      "Hypervolume: 179.252843387\n",
      "\n",
      "Run: AWiBy5I9MEaT9KPSZfJz | method: NSGAII | seed: 31 | number of documents/evaluations: 100\n",
      "Reference Point: [2.1799818909780915, 343.0]\n",
      "Hypervolume: 185.091031834\n"
     ]
    },
    {
     "data": {
      "text/markdown": [
       "<span style='color:red'>===========================================================</span>"
      ],
      "text/plain": [
       "<IPython.core.display.Markdown object>"
      ]
     },
     "metadata": {},
     "output_type": "display_data"
    },
    {
     "name": "stdout",
     "output_type": "stream",
     "text": [
      "\n",
      "Run: AWh7M4caMEaT9KPSTRC5 | method: NSGAII | seed: 2 | number of documents/evaluations: 100\n",
      "Reference Point: [2.1799818909780915, 343.0]\n",
      "Hypervolume: 117.150698003\n",
      "\n",
      "Run: AWh7M51lMEaT9KPSTRFL | method: NSGAII | seed: 3 | number of documents/evaluations: 100\n",
      "Reference Point: [2.1799818909780915, 343.0]\n",
      "Hypervolume: 110.745443174\n",
      "\n",
      "Run: AWh7M8SXMEaT9KPSTRHd | method: NSGAII | seed: 4 | number of documents/evaluations: 100\n",
      "Reference Point: [2.1799818909780915, 343.0]\n",
      "Hypervolume: 110.691706001\n",
      "\n",
      "Run: AWh7M-ubMEaT9KPSTRJv | method: NSGAII | seed: 5 | number of documents/evaluations: 100\n",
      "Reference Point: [2.1799818909780915, 343.0]\n",
      "Hypervolume: 121.324428749\n",
      "\n",
      "Run: AWh7NBKIMEaT9KPSTRMB | method: NSGAII | seed: 6 | number of documents/evaluations: 100\n",
      "Reference Point: [2.1799818909780915, 343.0]\n",
      "Hypervolume: 121.006172531\n",
      "\n",
      "Run: AWh7NDnwMEaT9KPSTROT | method: NSGAII | seed: 7 | number of documents/evaluations: 100\n",
      "Reference Point: [2.1799818909780915, 343.0]\n",
      "Hypervolume: 110.507349167\n",
      "\n",
      "Run: AWh7NGDiMEaT9KPSTRQl | method: NSGAII | seed: 8 | number of documents/evaluations: 100\n",
      "Reference Point: [2.1799818909780915, 343.0]\n",
      "Hypervolume: 115.217337721\n",
      "\n",
      "Run: AWh7NIgIMEaT9KPSTRS3 | method: NSGAII | seed: 9 | number of documents/evaluations: 100\n",
      "Reference Point: [2.1799818909780915, 343.0]\n",
      "Hypervolume: 117.313397815\n",
      "\n",
      "Run: AWh7NK9SMEaT9KPSTRVJ | method: NSGAII | seed: 10 | number of documents/evaluations: 100\n",
      "Reference Point: [2.1799818909780915, 343.0]\n",
      "Hypervolume: 114.994316032\n",
      "\n",
      "Run: AWh7NNZ0MEaT9KPSTRXb | method: NSGAII | seed: 11 | number of documents/evaluations: 100\n",
      "Reference Point: [2.1799818909780915, 343.0]\n",
      "Hypervolume: 116.42453085\n",
      "\n",
      "Run: AWh7NP2TMEaT9KPSTRZt | method: NSGAII | seed: 12 | number of documents/evaluations: 100\n",
      "Reference Point: [2.1799818909780915, 343.0]\n",
      "Hypervolume: 119.965536688\n",
      "\n",
      "Run: AWh7NSS8MEaT9KPSTRb_ | method: NSGAII | seed: 13 | number of documents/evaluations: 100\n",
      "Reference Point: [2.1799818909780915, 343.0]\n",
      "Hypervolume: 111.756810624\n",
      "\n",
      "Run: AWh7NUu8MEaT9KPSTReR | method: NSGAII | seed: 14 | number of documents/evaluations: 100\n",
      "Reference Point: [2.1799818909780915, 343.0]\n",
      "Hypervolume: 117.415270748\n",
      "\n",
      "Run: AWh7NXLyMEaT9KPSTRgl | method: NSGAII | seed: 15 | number of documents/evaluations: 100\n",
      "Reference Point: [2.1799818909780915, 343.0]\n",
      "Hypervolume: 111.022394101\n",
      "Encountered skipped run AWiF8rjrMEaT9KPSdlJo\n",
      "Encountered skipped run AWiF8saAMEaT9KPSdlMF\n",
      "Encountered skipped run AWiF8wE6MEaT9KPSdlOi\n",
      "Encountered skipped run AWiF8zwhMEaT9KPSdlTb\n",
      "Encountered skipped run AWiF83ZeMEaT9KPSdlV4\n",
      "Encountered skipped run AWiF87EyMEaT9KPSdlax\n",
      "Encountered skipped run AWiF8-veMEaT9KPSdldO\n",
      "Encountered skipped run AWiF9CZhMEaT9KPSdliH\n",
      "Encountered skipped run AWiF9GE_MEaT9KPSdlkk\n",
      "Encountered skipped run AWiF9JvLMEaT9KPSdlpd\n",
      "Encountered skipped run AWiF9NZnMEaT9KPSdlr6\n",
      "Encountered skipped run AWiF9RFYMEaT9KPSdlwz\n",
      "Encountered skipped run AWiF9UvYMEaT9KPSdlzQ\n",
      "Encountered skipped run AWiF9YaQMEaT9KPSdl4K\n",
      "Encountered skipped run AWiF9cFAMEaT9KPSdl6o\n",
      "\n",
      "Run: AWh9DmurMEaT9KPSVAAr | method: NSGAII | seed: 31 | number of documents/evaluations: 100\n",
      "Reference Point: [2.1799818909780915, 343.0]\n",
      "Hypervolume: 119.801430233\n"
     ]
    },
    {
     "data": {
      "text/markdown": [
       "<span style='color:red'>===========================================================</span>"
      ],
      "text/plain": [
       "<IPython.core.display.Markdown object>"
      ]
     },
     "metadata": {},
     "output_type": "display_data"
    },
    {
     "name": "stdout",
     "output_type": "stream",
     "text": [
      "\n",
      "Run: AWh2-DsKMEaT9KPSPcZr | method: NSGAII | seed: 2 | number of documents/evaluations: 100\n",
      "Reference Point: [2.1799818909780915, 343.0]\n",
      "Hypervolume: 89.9852641513\n",
      "\n",
      "Run: AWh2-FhqMEaT9KPSPcb0 | method: NSGAII | seed: 3 | number of documents/evaluations: 100\n",
      "Reference Point: [2.1799818909780915, 343.0]\n",
      "Hypervolume: 79.9385766008\n",
      "\n",
      "Run: AWh2-H9qMEaT9KPSPcb2 | method: NSGAII | seed: 4 | number of documents/evaluations: 100\n",
      "Reference Point: [2.1799818909780915, 343.0]\n",
      "Hypervolume: 86.6489314026\n",
      "\n",
      "Run: AWh2-KaxMEaT9KPSPcgI | method: NSGAII | seed: 5 | number of documents/evaluations: 100\n",
      "Reference Point: [2.1799818909780915, 343.0]\n",
      "Hypervolume: 75.4885264738\n",
      "\n",
      "Run: AWh2-M3DMEaT9KPSPciS | method: NSGAII | seed: 6 | number of documents/evaluations: 100\n",
      "Reference Point: [2.1799818909780915, 343.0]\n",
      "Hypervolume: 78.3524707786\n",
      "\n",
      "Run: AWh2-PTpMEaT9KPSPckc | method: NSGAII | seed: 7 | number of documents/evaluations: 100\n",
      "Reference Point: [2.1799818909780915, 343.0]\n",
      "Hypervolume: 79.9560676576\n",
      "\n",
      "Run: AWh2-RweMEaT9KPSPcmm | method: NSGAII | seed: 8 | number of documents/evaluations: 100\n",
      "Reference Point: [2.1799818909780915, 343.0]\n",
      "Hypervolume: 85.0495127025\n",
      "\n",
      "Run: AWh2-UNSMEaT9KPSPcow | method: NSGAII | seed: 9 | number of documents/evaluations: 100\n",
      "Reference Point: [2.1799818909780915, 343.0]\n",
      "Hypervolume: 82.8483566212\n",
      "\n",
      "Run: AWh2-WpeMEaT9KPSPcq6 | method: NSGAII | seed: 10 | number of documents/evaluations: 100\n",
      "Reference Point: [2.1799818909780915, 343.0]\n",
      "Hypervolume: 80.9183468498\n",
      "\n",
      "Run: AWh2-ZF-MEaT9KPSPctE | method: NSGAII | seed: 11 | number of documents/evaluations: 100\n",
      "Reference Point: [2.1799818909780915, 343.0]\n",
      "Hypervolume: 76.7258043333\n",
      "\n",
      "Run: AWh2-bi0MEaT9KPSPcvO | method: NSGAII | seed: 12 | number of documents/evaluations: 100\n",
      "Reference Point: [2.1799818909780915, 343.0]\n",
      "Hypervolume: 87.7786499241\n",
      "\n",
      "Run: AWh2-d-gMEaT9KPSPcxY | method: NSGAII | seed: 13 | number of documents/evaluations: 100\n",
      "Reference Point: [2.1799818909780915, 343.0]\n",
      "Hypervolume: 75.3102174862\n",
      "\n",
      "Run: AWh2-gb-MEaT9KPSPczi | method: NSGAII | seed: 14 | number of documents/evaluations: 100\n",
      "Reference Point: [2.1799818909780915, 343.0]\n",
      "Hypervolume: 89.7411722902\n",
      "\n",
      "Run: AWh2-i4kMEaT9KPSPc1t | method: NSGAII | seed: 15 | number of documents/evaluations: 100\n",
      "Reference Point: [2.1799818909780915, 343.0]\n",
      "Hypervolume: 83.6802094304\n",
      "Encountered skipped run AWiF9XyAMEaT9KPSdl4I\n",
      "Encountered skipped run AWiF9YtAMEaT9KPSdl4L\n",
      "Encountered skipped run AWiF9cXgMEaT9KPSdl6p\n",
      "Encountered skipped run AWiF9gBhMEaT9KPSdl_i\n",
      "Encountered skipped run AWiF9jsOMEaT9KPSdmB_\n",
      "Encountered skipped run AWiF9nWWMEaT9KPSdmG4\n",
      "Encountered skipped run AWiF9rA6MEaT9KPSdmJV\n",
      "Encountered skipped run AWiF9usCMEaT9KPSdmOO\n",
      "Encountered skipped run AWiF9yWbMEaT9KPSdmQr\n",
      "Encountered skipped run AWiF92BMMEaT9KPSdmVk\n",
      "Encountered skipped run AWiF95soMEaT9KPSdmYB\n",
      "Encountered skipped run AWiF99W0MEaT9KPSdmc6\n",
      "Encountered skipped run AWiF-BBhMEaT9KPSdmfX\n",
      "Encountered skipped run AWiF-Er5MEaT9KPSdmkQ\n",
      "Encountered skipped run AWiF-IXEMEaT9KPSdmmt\n",
      "\n",
      "Run: AWh5Q1sdMEaT9KPSRgTy | method: NSGAII | seed: 31 | number of documents/evaluations: 100\n",
      "Reference Point: [2.1799818909780915, 343.0]\n",
      "Hypervolume: 80.400155244\n"
     ]
    }
   ],
   "source": [
    "import sys\n",
    "import numpy as np\n",
    "import pylab \n",
    "import matplotlib.pyplot as plt\n",
    "import matplotlib as mpl\n",
    "mpl.rc(\"savefig\", dpi=300)\n",
    "# plt.rcParams[\"figure.figsize\"] = [8,6]\n",
    "\n",
    "\n",
    "'''\n",
    "Method to take a list of individuals and return just the individuals which lie \n",
    "on the Pareto frontier, sorted into order.\n",
    "Default behaviour is to find the maximum for both X and Y objectives, but the option is\n",
    "available to specify maxX = False or maxY = False to find the minimum for either\n",
    "or both of the objectves.\n",
    "Adapted from: http://oco-carbon.com/metrics/find-pareto-frontiers-in-python/\n",
    "'''\n",
    "def get_pareto_front(Inds, maxX = False, maxY = False):\n",
    "    # Sort the list in either ascending or descending order of X\n",
    "    Inds.sort(key=lambda x: get_overhead(x), reverse=maxX)\n",
    "    # Start the Pareto frontier with the first value in the sorted list\n",
    "    p_front = [Inds[0]]    \n",
    "    # Loop through the sorted list\n",
    "    for ind in Inds[1:]:\n",
    "        if maxY: \n",
    "            # Thomas: changed >= to >\n",
    "            if get_routing(ind) > get_routing(p_front[-1]): # Look for higher values of Y… \n",
    "                p_front.append(ind) # … and add them to the Pareto frontier\n",
    "        else:\n",
    "            # Thomas: changed <= to <\n",
    "            if get_routing(ind) < get_routing(p_front[-1]): # Look for lower values of Y…    \n",
    "                p_front.append(ind) # … and add them to the Pareto frontier\n",
    "    return p_front\n",
    "\n",
    "\n",
    "def analyze_and_plot(rtx_runs, run_to_all_individuals, plot_data = False):    \n",
    "    printmd(\"===========================================================\", \"red\")\n",
    "    # pareto fronts of all runs\n",
    "    pareto_fronts_of_all_runs = []\n",
    "    \n",
    "    opt_method = \"\"\n",
    "    if len(rtx_runs) > 0:\n",
    "        try:\n",
    "            opt_method = rtx_runs[0][\"strategy\"][\"optimizer_method\"]\n",
    "        except:\n",
    "            # mlr does not store the opt method name in field strategy.optimizer_method\n",
    "            opt_method = \"MLR\"\n",
    "\n",
    "    # set iterations\n",
    "    set_iterations(opt_method)\n",
    "    \n",
    "    # for each run\n",
    "    for rtx_run in rtx_runs:\n",
    "        rtx_run_id = rtx_run[\"id\"]\n",
    "        # get all individuals of the run\n",
    "        all_individuals = run_to_all_individuals.get(rtx_run_id, None)\n",
    "        if all_individuals is None:\n",
    "            print(\"Encountered skipped run \" + str(rtx_run_id))\n",
    "        else:\n",
    "            print(\"\\nRun: \" + rtx_run_id + \" | method: \" + opt_method \n",
    "                  + \" | seed: \" + str(rtx_run[\"seed\"]) \n",
    "                  + \" | number of documents/evaluations: \" + str(len(all_individuals)))\n",
    "\n",
    "            # compute pareto front of the run ####################################################\n",
    "            pareto_front_of_run = get_pareto_front(all_individuals)\n",
    "            pareto_fronts_of_all_runs.append(pareto_front_of_run)\n",
    "            if plot_data:\n",
    "                print(\"\\nPareto front of the run:\")\n",
    "                for p in pareto_front_of_run:\n",
    "                    print_individual(p)\n",
    "\n",
    "            # compute hypervolume ####################################################\n",
    "            reference_point = [worst_overhead, worst_routing]\n",
    "            print(\"Reference Point: \" + str(reference_point))\n",
    "            hyperVolume = HyperVolume(reference_point)\n",
    "\n",
    "            pareto_front_values = [[get_overhead(el), get_routing(el)] for el in pareto_front_of_run]\n",
    "            hv = hyperVolume.compute(pareto_front_values)\n",
    "            print(\"Hypervolume: \" + str(hv))\n",
    "\n",
    "            # plotting #################################################################\n",
    "            if plot_data:\n",
    "\n",
    "                # Hypervolume over fitness evaluations ###########################\n",
    "                fig, axes = plt.subplots()\n",
    "                fig.suptitle('Evolution of the Hypervolume', fontsize=16)    \n",
    "                plt.xlabel('Fitness Evaluations') \n",
    "                x = range(total_number_of_docs)\n",
    "                plt.ylabel('Hypervolume')\n",
    "                y = []\n",
    "\n",
    "                current_pareto_front = []\n",
    "                for i in range(iterations):\n",
    "                    new_inds = [el for el in all_individuals if el[\"iteration\"] == i]\n",
    "                    if not isinstance(new_inds, (list,)):\n",
    "                        new_inds = [new_inds]\n",
    "                    for j in range(len(new_inds)):\n",
    "                        # new_ind is a list with one element\n",
    "                        new_ind = [el for el in new_inds if el[\"individual\"] == j]\n",
    "                        if len(new_ind) > 1:\n",
    "                            print(\"ERROR: More than one individual with the same number within the same iteration.\")\n",
    "                        # debug_msg = debug_msg \n",
    "                        #   + \"(\" + str(new_ind[0][\"iteration\"]) + \", \" + str(new_ind[0][\"individual\"]) + \")\"\n",
    "                        current_pareto_front.append(new_ind[0])\n",
    "                        current_pareto_front = get_pareto_front(current_pareto_front)\n",
    "                        current_pareto_front_values = [[get_overhead(el), get_routing(el)] \n",
    "                                                       for el in current_pareto_front]\n",
    "                        hv = hyperVolume.compute(current_pareto_front_values)\n",
    "                        y.append(hv)\n",
    "\n",
    "                plt.plot(x,y, color='black', label='Hypervolume')\n",
    "                pylab.legend(loc='best')\n",
    "\n",
    "                # Overhead over fitness evaluations ###############################          \n",
    "                fig, axes = plt.subplots()\n",
    "                fig.suptitle('Evolution of Overhead', fontsize=16)    \n",
    "                plt.xlabel('Fitness Evaluations') \n",
    "                x = range(total_number_of_docs)\n",
    "                plt.ylabel('Overhead')\n",
    "                y = []\n",
    "\n",
    "                min_overhead_over_iterations = []\n",
    "                best_min = sys.float_info.max\n",
    "                for i in range(iterations):\n",
    "                    new_inds = [el for el in all_individuals if el[\"iteration\"] == i]\n",
    "                    if not isinstance(new_inds, (list,)):\n",
    "                        new_inds = [new_inds]\n",
    "                    for j in range(len(new_inds)):\n",
    "                        # new_ind is a list with one element\n",
    "                        new_ind = [el for el in new_inds if el[\"individual\"] == j]\n",
    "                        if len(new_ind) > 1:\n",
    "                            print(\"ERROR: More than one individual with the same number within the same iteration.\")    \n",
    "\n",
    "                        overhead = get_overhead(new_ind[0])\n",
    "                        y.append(overhead)\n",
    "                        if overhead < best_min:\n",
    "                            best_min = overhead\n",
    "                        min_overhead_over_iterations.append(best_min)\n",
    "\n",
    "                plt.scatter(x,y, marker=\"+\", color='black', label='individual')\n",
    "                plt.scatter(x, min_overhead_over_iterations, s=100, facecolors='none', \n",
    "                            edgecolors='r', label='perato front for overhead')\n",
    "                pylab.legend(loc='best')\n",
    "\n",
    "                # Routing over fitness evaluations ########################################\n",
    "                fig, axes = plt.subplots()\n",
    "                fig.suptitle('Evolution of Routing', fontsize=16)    \n",
    "                plt.xlabel('Fitness Evaluations') \n",
    "                x = range(total_number_of_docs)\n",
    "                plt.ylabel('Routing')\n",
    "                y = []\n",
    "\n",
    "                min_routing_over_iterations = []\n",
    "                best_min = sys.float_info.max\n",
    "                for i in range(iterations):\n",
    "                    new_inds = [el for el in all_individuals if el[\"iteration\"] == i]\n",
    "                    if not isinstance(new_inds, (list,)):\n",
    "                        new_inds = [new_inds]\n",
    "                    for j in range(len(new_inds)):\n",
    "                        # new_ind is a list with one element\n",
    "                        new_ind = [el for el in new_inds if el[\"individual\"] == j]\n",
    "                        if len(new_ind) > 1:\n",
    "                            print(\"ERROR: More than one individual with the same number within the same iteration.\")    \n",
    "\n",
    "                        routing = get_routing(new_ind[0])\n",
    "                        y.append(routing)\n",
    "                        if routing < best_min:\n",
    "                            best_min = routing\n",
    "                        min_routing_over_iterations.append(best_min)\n",
    "\n",
    "                plt.scatter(x,y, marker=\"+\", color='black', label='individual')\n",
    "                plt.scatter(x, min_routing_over_iterations, s=100, \n",
    "                            facecolors='none', edgecolors='r', label='perato front for routing')\n",
    "                pylab.legend(loc='best')\n",
    "\n",
    "\n",
    "                # print all individuals and pareto front ##############################\n",
    "                fig, axes = plt.subplots()\n",
    "                # axes.grid(True)\n",
    "                fig.suptitle('All individuals and the pareto front', fontsize=16)\n",
    "                overheads = [get_overhead(el) for el in all_individuals]\n",
    "                routings = [get_routing(el) for el in all_individuals] \n",
    "\n",
    "                plt.ylabel('Routing')\n",
    "                plt.xlabel('Overhead')\n",
    "                plt.scatter(overheads, routings, marker=\"+\", color='black', label='Individual')\n",
    "                p_front_overheads = [get_overhead(el) for el in pareto_front_of_run]\n",
    "                p_front_routings = [get_routing(el) for el in pareto_front_of_run] \n",
    "                if len(pareto_front_of_run) > 1:\n",
    "                    plt.plot(p_front_overheads, p_front_routings, label=\"Pareto Front\")\n",
    "                else:\n",
    "                    plt.scatter(p_front_avg_o, p_front_avg_p, label=\"Pareto Front\")\n",
    "                pylab.legend(loc='best')\n",
    "                #for i,j in zip(avg_o,avg_p):\n",
    "                #    axes.annotate(str(i)+\", \"+str(j),xy=(i,j))\n",
    "\n",
    "                plt.show()\n",
    "\n",
    "    return pareto_fronts_of_all_runs\n",
    "\n",
    "\n",
    "# analyze and plot data\n",
    "\n",
    "# random search\n",
    "random_500_pfronts = analyze_and_plot(random_rtx_runs_500, random_run_inds_500)\n",
    "random_700_pfronts = analyze_and_plot(random_rtx_runs_700, random_run_inds_700)\n",
    "random_800_pfronts = analyze_and_plot(random_rtx_runs_800, random_run_inds_800)\n",
    "\n",
    "# mlr\n",
    "mlr_500_pfronts = analyze_and_plot(mlr_rtx_runs_500, mlr_run_inds_500)\n",
    "mlr_700_pfronts = analyze_and_plot(mlr_rtx_runs_700, mlr_run_inds_700)\n",
    "mlr_800_pfronts = analyze_and_plot(mlr_rtx_runs_800, mlr_run_inds_800)\n",
    "\n",
    "# novelty\n",
    "novelty_500_pfronts = analyze_and_plot(novelty_rtx_runs_500, novelty_run_inds_500)\n",
    "novelty_700_pfronts = analyze_and_plot(novelty_rtx_runs_700, novelty_run_inds_700)\n",
    "novelty_800_pfronts = analyze_and_plot(novelty_rtx_runs_800, novelty_run_inds_800)\n",
    "\n",
    "# nsga2\n",
    "nsga2_500_pfronts = analyze_and_plot(nsga2_rtx_runs_500, nsga2_run_inds_500)\n",
    "nsga2_700_pfronts = analyze_and_plot(nsga2_rtx_runs_700, nsga2_run_inds_700)\n",
    "nsga2_800_pfronts = analyze_and_plot(nsga2_rtx_runs_800, nsga2_run_inds_800)\n"
   ]
  },
  {
   "cell_type": "markdown",
   "metadata": {},
   "source": [
    "## Analyze configurations of pareto fronts"
   ]
  },
  {
   "cell_type": "code",
   "execution_count": 7,
   "metadata": {
    "scrolled": false
   },
   "outputs": [
    {
     "name": "stdout",
     "output_type": "stream",
     "text": [
      "500 cars\n"
     ]
    },
    {
     "data": {
      "image/png": "[encoded data removed]",
      "text/plain": [
       "<matplotlib.figure.Figure at 0x7f5e66924e90>"
      ]
     },
     "metadata": {
      "needs_background": "light"
     },
     "output_type": "display_data"
    },
    {
     "data": {
      "image/png": "[encoded data removed]",
      "text/plain": [
       "<matplotlib.figure.Figure at 0x7f5e5fcfae90>"
      ]
     },
     "metadata": {
      "needs_background": "light"
     },
     "output_type": "display_data"
    },
    {
     "data": {
      "image/png": "[encoded data removed]",
      "text/plain": [
       "<matplotlib.figure.Figure at 0x7f5e5fc5a810>"
      ]
     },
     "metadata": {
      "needs_background": "light"
     },
     "output_type": "display_data"
    },
    {
     "data": {
      "image/png": "[encoded data removed]",
      "text/plain": [
       "<matplotlib.figure.Figure at 0x7f5e5fb33f10>"
      ]
     },
     "metadata": {
      "needs_background": "light"
     },
     "output_type": "display_data"
    },
    {
     "data": {
      "image/png": "[encoded data removed]",
      "text/plain": [
       "<matplotlib.figure.Figure at 0x7f5e5fa78b50>"
      ]
     },
     "metadata": {
      "needs_background": "light"
     },
     "output_type": "display_data"
    },
    {
     "data": {
      "image/png": "[encoded data removed]",
      "text/plain": [
       "<matplotlib.figure.Figure at 0x7f5e5fb53210>"
      ]
     },
     "metadata": {
      "needs_background": "light"
     },
     "output_type": "display_data"
    },
    {
     "data": {
      "image/png": "[encoded data removed]",
      "text/plain": [
       "<matplotlib.figure.Figure at 0x7f5e5faa8110>"
      ]
     },
     "metadata": {
      "needs_background": "light"
     },
     "output_type": "display_data"
    },
    {
     "name": "stdout",
     "output_type": "stream",
     "text": [
      "***************\n",
      "700 cars\n"
     ]
    },
    {
     "data": {
      "image/png": "[encoded data removed]",
      "text/plain": [
       "<matplotlib.figure.Figure at 0x7f5e668c11d0>"
      ]
     },
     "metadata": {
      "needs_background": "light"
     },
     "output_type": "display_data"
    },
    {
     "data": {
      "image/png": "[encoded data removed]",
      "text/plain": [
       "<matplotlib.figure.Figure at 0x7f5e5f7a90d0>"
      ]
     },
     "metadata": {
      "needs_background": "light"
     },
     "output_type": "display_data"
    },
    {
     "data": {
      "image/png": "[encoded data removed]",
      "text/plain": [
       "<matplotlib.figure.Figure at 0x7f5e5f6716d0>"
      ]
     },
     "metadata": {
      "needs_background": "light"
     },
     "output_type": "display_data"
    },
    {
     "data": {
      "image/png": "[encoded data removed]",
      "text/plain": [
       "<matplotlib.figure.Figure at 0x7f5e5f6d1a10>"
      ]
     },
     "metadata": {
      "needs_background": "light"
     },
     "output_type": "display_data"
    },
    {
     "data": {
      "image/png": "[encoded data removed]",
      "text/plain": [
       "<matplotlib.figure.Figure at 0x7f5e5f513290>"
      ]
     },
     "metadata": {
      "needs_background": "light"
     },
     "output_type": "display_data"
    },
    {
     "data": {
      "image/png": "[encoded data removed]",
      "text/plain": [
       "<matplotlib.figure.Figure at 0x7f5e5f45a350>"
      ]
     },
     "metadata": {
      "needs_background": "light"
     },
     "output_type": "display_data"
    },
    {
     "data": {
      "image/png": "[encoded data removed]",
      "text/plain": [
       "<matplotlib.figure.Figure at 0x7f5e5f45afd0>"
      ]
     },
     "metadata": {
      "needs_background": "light"
     },
     "output_type": "display_data"
    },
    {
     "name": "stdout",
     "output_type": "stream",
     "text": [
      "***************\n",
      "800 cars\n"
     ]
    },
    {
     "data": {
      "image/png": "[encoded data removed]",
      "text/plain": [
       "<matplotlib.figure.Figure at 0x7f5e5f51ebd0>"
      ]
     },
     "metadata": {
      "needs_background": "light"
     },
     "output_type": "display_data"
    },
    {
     "data": {
      "image/png": "[encoded data removed]",
      "text/plain": [
       "<matplotlib.figure.Figure at 0x7f5e5f1c7850>"
      ]
     },
     "metadata": {
      "needs_background": "light"
     },
     "output_type": "display_data"
    },
    {
     "data": {
      "image/png": "[encoded data removed]",
      "text/plain": [
       "<matplotlib.figure.Figure at 0x7f5e5f1db4d0>"
      ]
     },
     "metadata": {
      "needs_background": "light"
     },
     "output_type": "display_data"
    },
    {
     "data": {
      "image/png": "[encoded data removed]",
      "text/plain": [
       "<matplotlib.figure.Figure at 0x7f5e6680d410>"
      ]
     },
     "metadata": {
      "needs_background": "light"
     },
     "output_type": "display_data"
    },
    {
     "data": {
      "image/png": "[encoded data removed]",
      "text/plain": [
       "<matplotlib.figure.Figure at 0x7f5e5f420210>"
      ]
     },
     "metadata": {
      "needs_background": "light"
     },
     "output_type": "display_data"
    },
    {
     "data": {
      "image/png": "[encoded data removed]",
      "text/plain": [
       "<matplotlib.figure.Figure at 0x7f5e5f44c5d0>"
      ]
     },
     "metadata": {
      "needs_background": "light"
     },
     "output_type": "display_data"
    },
    {
     "data": {
      "image/png": "[encoded data removed]",
      "text/plain": [
       "<matplotlib.figure.Figure at 0x7f5e6680dfd0>"
      ]
     },
     "metadata": {
      "needs_background": "light"
     },
     "output_type": "display_data"
    },
    {
     "name": "stdout",
     "output_type": "stream",
     "text": [
      "***************\n"
     ]
    }
   ],
   "source": [
    "def get_knobs(pfronts):\n",
    "    knobs = []\n",
    "    for pfront in pfronts:\n",
    "        knobs += [el[\"knobs\"] for el in pfront]\n",
    "    return knobs\n",
    "\n",
    "def add_pfronts(random_pfronts, mlr_pfronts, novelty_pfronts, nsga2_pfronts):\n",
    "    knobs = []\n",
    "    if random_pfronts: \n",
    "        knobs += get_knobs(random_pfronts)\n",
    "    if mlr_pfronts:\n",
    "        knobs += get_knobs(mlr_pfronts)\n",
    "    if novelty_pfronts:\n",
    "        knobs += get_knobs(novelty_pfronts)\n",
    "    if nsga2_pfronts:\n",
    "        knobs += get_knobs(nsga2_pfronts)\n",
    "    return knobs\n",
    "    \n",
    "def plot_best_knob_values(random_pfronts, mlr_pfronts, novelty_pfronts, nsga2_pfronts):\n",
    "    knobs = add_pfronts(random_pfronts, mlr_pfronts, novelty_pfronts, nsga2_pfronts)\n",
    "\n",
    "    best_knobs = dict()\n",
    "    best_knobs['average_edge_duration_factor'] = list()\n",
    "    best_knobs['exploration_percentage'] =       list()\n",
    "    best_knobs['freshness_cut_off_value'] =      list()\n",
    "    best_knobs['freshness_update_factor'] =      list()\n",
    "    best_knobs['max_speed_and_length_factor'] =  list() \n",
    "    best_knobs['re_route_every_ticks'] =         list() \n",
    "    best_knobs['route_random_sigma'] =           list()\n",
    "\n",
    "    for knob in knobs: \n",
    "        best_knobs['average_edge_duration_factor'].append(knob[\"average_edge_duration_factor\"])\n",
    "        best_knobs['exploration_percentage'].append(knob[\"exploration_percentage\"])\n",
    "        best_knobs['freshness_cut_off_value'].append(knob[\"freshness_cut_off_value\"])\n",
    "        best_knobs['freshness_update_factor'].append(knob[\"freshness_update_factor\"])\n",
    "        best_knobs['max_speed_and_length_factor'].append(knob[\"max_speed_and_length_factor\"])\n",
    "        best_knobs['re_route_every_ticks'].append(knob[\"re_route_every_ticks\"])\n",
    "        best_knobs['route_random_sigma'].append(knob[\"route_random_sigma\"])\n",
    "\n",
    "    for knob_name, knob_values in best_knobs.iteritems(): \n",
    "        fig,ax = plt.subplots()\n",
    "        plt.hist(knob_values, bins=30)  \n",
    "        plt.ylabel('frequency')\n",
    "        plt.xlabel(knob_name.replace(\"_\", \" \"))\n",
    "        plt.show()\n",
    "\n",
    "# \"route_random_sigma\": (0.0, 0.3),\n",
    "# \"exploration_percentage\": (0.0, 0.3),\n",
    "# \"max_speed_and_length_factor\": (1, 2.5),\n",
    "# \"average_edge_duration_factor\": (1, 2.5),\n",
    "# \"freshness_update_factor\": (5, 20),\n",
    "# \"freshness_cut_off_value\": (100, 700),\n",
    "# \"re_route_every_ticks\": (10, 70)]\n",
    "    \n",
    "knobs_names = [\n",
    "    \"route_random_sigma\",\n",
    "    \"exploration_percentage\",\n",
    "    \"max_speed_and_length_factor\",\n",
    "    \"average_edge_duration_factor\",\n",
    "    \"freshness_update_factor\",\n",
    "    \"freshness_cut_off_value\",\n",
    "    \"re_route_every_ticks\"\n",
    "]\n",
    "        \n",
    "def generate_configurations(slots_per_parameter):\n",
    "    configurations = {}\n",
    "    for knob_name in knob_names: \n",
    "        for i in range(slots_per_parameter):\n",
    "            configurations[knob_name + \"_\" + str(i)\n",
    "    return configurations\n",
    "    \n",
    "        \n",
    "def plot_best_configurations(random_pfronts, mlr_pfronts, novelty_pfronts, nsga2_pfronts):\n",
    "    knobs = add_pfronts(random_pfronts, mlr_pfronts, novelty_pfronts, nsga2_pfronts)\n",
    "    configurations = generate_configurations()\n",
    "    print configurations\n",
    "                           \n",
    "#     TODO finish this!\n",
    "\n",
    "print \"500 cars\"\n",
    "plot_best_knob_values(random_500_pfronts, mlr_500_pfronts, novelty_500_pfronts, nsga2_500_pfronts)\n",
    "print \"***************\"\n",
    "\n",
    "print \"700 cars\"\n",
    "plot_best_knob_values(random_700_pfronts, mlr_700_pfronts, novelty_700_pfronts, nsga2_700_pfronts)\n",
    "print \"***************\"\n",
    "\n",
    "print \"800 cars\"\n",
    "plot_best_knob_values(random_800_pfronts, mlr_800_pfronts, novelty_800_pfronts, nsga2_800_pfronts)\n",
    "print \"***************\"\n",
    "\n",
    "print \"--------------------------------------\"\n",
    "\n",
    "print \"500 cars\"\n",
    "plot_best_configurations(random_500_pfronts, mlr_500_pfronts, novelty_500_pfronts, nsga2_500_pfronts)"
   ]
  },
  {
   "cell_type": "markdown",
   "metadata": {},
   "source": [
    "## Find convergence points - OLD"
   ]
  },
  {
   "cell_type": "code",
   "execution_count": null,
   "metadata": {
    "scrolled": true
   },
   "outputs": [
    {
     "name": "stdout",
     "output_type": "stream",
     "text": [
      "100\n",
      "{0: 1.9165622973594276, 1: 1.7630910946938563, 2: 1.7699468339878437, 3: 1.8236118438962698, 4: 1.7979504015492198, 5: 1.7591471102271323, 6: 1.7927619934819241, 7: 1.8249204069039355, 8: 1.8172637486339056, 9: 1.7958236971225117, 10: 1.7805288758184725, 11: 1.8402018787436063, 12: 1.7988831303967951, 13: 1.7901290653968267, 14: 1.7445088417672978, 15: 1.7996673330296937, 16: 1.7933637302178478, 17: 1.7547264866328904, 18: 1.8223809749670277, 19: 1.8048781096810242, 20: 1.802058198602257, 21: 1.7739470991062647, 22: 1.7872763199339656, 23: 1.7843936489448209, 24: 1.8750377837922827, 25: 1.7894121861900494, 26: 1.7780061570286474, 27: 1.8292303312987561, 28: 1.780720504412856, 29: 1.7736937898988141, 30: 1.7940941736870357, 31: 1.8283398775263715, 32: 1.7837769032145407, 33: 1.7758228971767378, 34: 1.7811903003254779, 35: 1.8050782242760814, 36: 1.7692387492861679, 37: 1.7468236951203435, 38: 1.762119104894923, 39: 1.8159153391418785, 40: 1.7909297241307003, 41: 1.7672567808705186, 42: 1.8020415728453132, 43: 1.770261385584758, 44: 1.8059627197677179, 45: 1.7777466599631644, 46: 1.7902412400734284, 47: 1.8728351416743294, 48: 1.8029663121560986, 49: 1.7914783157771201, 50: 1.771176232963743, 51: 1.8230477909204434, 52: 1.8153587171633778, 53: 1.778936111582083, 54: 1.7976924589553378, 55: 1.863833477492461, 56: 1.8101391669321569, 57: 1.779705203777135, 58: 1.7923533090696619, 59: 1.8115873060136778, 60: 1.7606905848130439, 61: 1.7698976771031503, 62: 1.7883370737043829, 63: 1.804907520425733, 64: 1.8127706136038149, 65: 1.8277259860926083, 66: 1.8092479739736738, 67: 1.9244011186060586, 68: 1.771368478061736, 69: 1.8241998743364056, 70: 1.7921020507762973, 71: 1.7975515176264911, 72: 1.7932413498274691, 73: 1.7880554141428271, 74: 1.7743283713175042, 75: 1.815950224633059, 76: 1.7676466738831387, 77: 1.8117976995583212, 78: 1.7660540818016264, 79: 1.8133532740064089, 80: 1.7450540402248675, 81: 1.7866614481196055, 82: 1.8029144341171737, 83: 1.7866995228273539, 84: 1.8396645947258803, 85: 1.8130119430528802, 86: 1.8124919535063571, 87: 1.8216576838396474, 88: 1.8090283115481451, 89: 1.7751675794877493, 90: 1.7646660171976258, 91: 1.786603612544198, 92: 1.7525588345350447, 93: 1.7918601581577831, 94: 1.7539225463283241, 95: 1.8797236763172449, 96: 1.7705291501492524, 97: 1.7730825503503584, 98: 1.8299874701831231, 99: 1.7944941309842413}\n",
      "Run AWiALsKlMEaT9KPSX8Ly - seed 1\n",
      "Minimum average overhead: 1.74450884177\n",
      "Found in iteration: 14\n",
      "With configuration: \n",
      "{   u'average_edge_duration_factor': 2.45,\n",
      "    u'exploration_percentage': 0.03,\n",
      "    u'freshness_cut_off_value': 343,\n",
      "    u'freshness_update_factor': 14,\n",
      "    u'max_speed_and_length_factor': 1.79,\n",
      "    u're_route_every_ticks': 35,\n",
      "    u'route_random_sigma': 0.19}\n",
      "*********************\n",
      "\n",
      "100\n",
      "{0: 1.8023661218039204, 1: 1.7680177964689305, 2: 1.8345587786078297, 3: 1.8175250137208743, 4: 1.8012572911073645, 5: 1.7812125995870078, 6: 1.8196546797978925, 7: 1.8397202996746354, 8: 1.810689531645961, 9: 1.783612762868263, 10: 1.7810901362307707, 11: 1.8130223065984352, 12: 1.7989514088018324, 13: 1.7449740174027879, 14: 1.7909647803182278, 15: 1.7998050232466765, 16: 1.8118653865032917, 17: 1.7968603768739548, 18: 1.7812215554577968, 19: 1.7743435009293709, 20: 1.8470654050594626, 21: 1.8111857449356845, 22: 1.7736517155170091, 23: 1.7454439256061447, 24: 1.7935616112011827, 25: 1.80274016949761, 26: 1.7841519311112912, 27: 1.7405524035025148, 28: 1.7915890680020805, 29: 1.7799537917539252, 30: 1.801924147905285, 31: 1.8098387341143594, 32: 1.7926282288235724, 33: 1.8439858272724632, 34: 1.8290467223483982, 35: 1.8112670904556012, 36: 1.8148910852157707, 37: 1.8033294158944631, 38: 1.7755535586446305, 39: 1.7822237390293501, 40: 1.8100635938874985, 41: 1.7924509342968333, 42: 1.7753865625239391, 43: 1.8030817536204449, 44: 1.8469337513162292, 45: 1.8186213689736193, 46: 1.8162871871856976, 47: 1.787684035994896, 48: 1.8391253861889818, 49: 1.7693304807140842, 50: 1.793278810165212, 51: 1.8194049368778717, 52: 1.8446137657901531, 53: 1.8032397682145835, 54: 1.8001300777823148, 55: 1.8239711226826198, 56: 1.7864211682682858, 57: 1.7876666370148007, 58: 1.7786187919476142, 59: 1.7454518818764808, 60: 1.7961191133126464, 61: 1.8081416888110906, 62: 1.8164901162189184, 63: 1.813913924246555, 64: 1.8187628790910981, 65: 1.8131827740811772, 66: 1.81085030702414, 67: 1.8422915721324273, 68: 1.8098108374351358, 69: 1.7894512666914624, 70: 1.8570670780558267, 71: 1.7742626470284275, 72: 1.8068640674556009, 73: 1.7857636393817764, 74: 1.80887740984753, 75: 1.7937997230741489, 76: 1.7485523088208108, 77: 1.825903498046535, 78: 1.7926800200456932, 79: 1.802301665330807, 80: 1.7833028678215648, 81: 1.813179232416565, 82: 1.7998196440269509, 83: 1.8046951740230128, 84: 1.7888977072105998, 85: 1.773100846463818, 86: 1.8002571367958691, 87: 1.819893516252753, 88: 1.8109060735362077, 89: 1.8348875034803862, 90: 1.8418879446299166, 91: 1.8210521501683783, 92: 1.7933119011667804, 93: 1.8026733415573362, 94: 1.7923574915514746, 95: 1.7719230868645059, 96: 1.7498553588993466, 97: 1.774479387867764, 98: 1.813077255869332, 99: 1.7941760294117295}\n",
      "Run AWiALuGSMEaT9KPSX8OH - seed 3\n",
      "Minimum average overhead: 1.7405524035\n",
      "Found in iteration: 27\n",
      "With configuration: \n",
      "{   u'average_edge_duration_factor': 2.25,\n",
      "    u'exploration_percentage': 0.02,\n",
      "    u'freshness_cut_off_value': 214,\n",
      "    u'freshness_update_factor': 8,\n",
      "    u'max_speed_and_length_factor': 1.79,\n",
      "    u're_route_every_ticks': 55,\n",
      "    u'route_random_sigma': 0.23}\n",
      "*********************\n",
      "\n",
      "100\n",
      "{0: 1.7762655078513234, 1: 1.8496299661036923, 2: 1.7858672299235578, 3: 1.7939174672898712, 4: 1.8145392862346572, 5: 1.8072636682995544, 6: 1.7914007365743367, 7: 1.8081605197563171, 8: 1.7877927359725088, 9: 1.7835231736747172, 10: 1.8121217829720713, 11: 1.7812830016040062, 12: 1.8369248006512446, 13: 1.8075532421183671, 14: 1.8279712629915161, 15: 1.8525410429211704, 16: 1.7866804379404926, 17: 1.8585913900960578, 18: 1.8439637336152599, 19: 1.80350145227237, 20: 1.8390880805334375, 21: 1.8012033449938252, 22: 1.7981708981440534, 23: 1.8018908072809463, 24: 1.8226195635817857, 25: 1.7674736579867756, 26: 1.8114675425127411, 27: 1.7839000866189592, 28: 1.8070122659607033, 29: 1.8321346622889549, 30: 1.7967433431982842, 31: 1.8127757130826649, 32: 1.7968198447496391, 33: 1.7971551257959297, 34: 1.8008498566218993, 35: 1.7670426662591643, 36: 1.7940404809883788, 37: 1.8098999673438607, 38: 1.8003492200351583, 39: 1.7937056348870162, 40: 1.7761724312971117, 41: 1.7571605356479729, 42: 1.8500588061539414, 43: 1.79110563681749, 44: 1.7877582908382756, 45: 1.8464299959058903, 46: 1.86349724692991, 47: 1.7860280494613359, 48: 1.92545964673559, 49: 1.7738177749843627, 50: 1.7989271192841017, 51: 1.7942201338410806, 52: 1.9281698315436167, 53: 1.7845620314166684, 54: 1.7616001957332614, 55: 1.8368222567639698, 56: 1.8060716389377187, 57: 1.79973346724984, 58: 1.7832366115957048, 59: 1.7963118430394345, 60: 1.7967784617630518, 61: 1.8069207130529874, 62: 1.8834210291419076, 63: 1.7828988212155739, 64: 1.8005151763817449, 65: 1.8094777819627357, 66: 1.8243726745333089, 67: 1.8145422014329837, 68: 1.8231592814411219, 69: 1.8008484973492795, 70: 1.7675408147083236, 71: 1.8215985931607359, 72: 1.7979945372754156, 73: 1.7955883512670101, 74: 1.7675208306717882, 75: 1.8689143591802255, 76: 1.7936140228668265, 77: 1.8109323300505973, 78: 1.8458210481223003, 79: 1.7750510220809916, 80: 1.8340822500822265, 81: 1.800397856705098, 82: 1.8162937494916935, 83: 1.7963880858609023, 84: 1.8263409747817567, 85: 1.7971907527766282, 86: 1.8765059824447867, 87: 1.7895633384646896, 88: 1.7923226666173429, 89: 1.8053869552542579, 90: 1.7977363320001962, 91: 1.7932140367957046, 92: 1.7817844677879435, 93: 1.8036332435970173, 94: 1.758767977765483, 95: 1.7659265446435106, 96: 1.7968715807308508, 97: 1.8160974563289027, 98: 1.7525708955205883, 99: 1.7878482763660812}\n",
      "Run AWiALwiZMEaT9KPSX8Qc - seed 4\n",
      "Minimum average overhead: 1.75257089552\n",
      "Found in iteration: 98\n",
      "With configuration: \n",
      "{   u'average_edge_duration_factor': 1.6,\n",
      "    u'exploration_percentage': 0.09,\n",
      "    u'freshness_cut_off_value': 445,\n",
      "    u'freshness_update_factor': 7,\n",
      "    u'max_speed_and_length_factor': 1.04,\n",
      "    u're_route_every_ticks': 37,\n",
      "    u'route_random_sigma': 0.1}\n",
      "*********************\n",
      "\n",
      "100\n"
     ]
    },
    {
     "name": "stdout",
     "output_type": "stream",
     "text": [
      "{0: 1.7954745221518635, 1: 1.7947735277242107, 2: 1.8360982669373254, 3: 1.7832845332219371, 4: 1.8248280993291239, 5: 1.7817514625505795, 6: 1.7515427758211846, 7: 1.7881155770448982, 8: 1.7863984352255691, 9: 1.8033951101776686, 10: 1.7767223603922564, 11: 1.8275273137227022, 12: 1.7879463608851061, 13: 1.8530172161277689, 14: 1.7685803689677171, 15: 1.7589382096524213, 16: 1.7933733234414881, 17: 1.7737053737033646, 18: 1.8218646816985433, 19: 1.8041631360048909, 20: 1.7989587439593882, 21: 1.7860355589413863, 22: 1.8080372280702024, 23: 1.811287057121588, 24: 1.8056420447940646, 25: 1.7817461239051831, 26: 1.7438064178256234, 27: 1.7910590289210948, 28: 1.7938113904685302, 29: 1.8372358681425507, 30: 1.7783586237657647, 31: 1.7912757242674997, 32: 1.7972190375923289, 33: 1.805910970833517, 34: 1.8267812007168192, 35: 1.8143614409497626, 36: 1.7887861075261939, 37: 1.8061499629533049, 38: 1.7688024378099272, 39: 1.8330298501752731, 40: 1.7904528258786843, 41: 1.7916559722241669, 42: 1.771541678304027, 43: 1.7779971559472987, 44: 1.7855220042171971, 45: 1.8383118471299342, 46: 1.8568222421069251, 47: 1.7782090004118567, 48: 1.8066974762943115, 49: 1.7794375773292412, 50: 1.7701637203044156, 51: 1.780435927394171, 52: 1.8113331901752532, 53: 1.8156541358233143, 54: 1.7799015673658984, 55: 1.80246824065238, 56: 1.7666514564376716, 57: 1.7854686209269006, 58: 1.7951637353673777, 59: 1.7862908815614902, 60: 1.7669263290896329, 61: 1.7752485027972922, 62: 1.8042216899792802, 63: 1.7731439215087041, 64: 1.7654165507683701, 65: 1.8225384777527616, 66: 1.7934535381879222, 67: 1.7765602078580436, 68: 1.7987729390543479, 69: 1.7832845194286231, 70: 1.7969474921711903, 71: 1.8027507962622868, 72: 1.8108401972410284, 73: 1.7826316565729765, 74: 1.7964151352680382, 75: 1.8432837993291349, 76: 1.7897627106639022, 77: 1.7738546616483644, 78: 1.7898450745321746, 79: 1.7640452388162029, 80: 1.7993302799316988, 81: 1.7791000581334737, 82: 1.7752985121421883, 83: 1.8437991142392529, 84: 1.7977790745886331, 85: 1.7772932190721171, 86: 1.8028035242756479, 87: 1.7719985366729931, 88: 1.9078446334079799, 89: 1.788032126035517, 90: 1.8182787124324507, 91: 1.8031587249510457, 92: 1.8057971565758861, 93: 1.8179220258680835, 94: 1.8059997815383235, 95: 1.7764087047533292, 96: 1.7944649530548378, 97: 1.7954928748594658, 98: 1.7971565403533449, 99: 1.8057733618947702}\n",
      "Run AWiALy-aMEaT9KPSX8Sx - seed 5\n",
      "Minimum average overhead: 1.74380641783\n",
      "Found in iteration: 26\n",
      "With configuration: \n",
      "{   u'average_edge_duration_factor': 1.65,\n",
      "    u'exploration_percentage': 0.06,\n",
      "    u'freshness_cut_off_value': 228,\n",
      "    u'freshness_update_factor': 13,\n",
      "    u'max_speed_and_length_factor': 1.96,\n",
      "    u're_route_every_ticks': 26,\n",
      "    u'route_random_sigma': 0.3}\n",
      "*********************\n",
      "\n",
      "100\n",
      "{0: 1.7890545005796041, 1: 1.7891323618279982, 2: 1.7802260612845975, 3: 1.793682966943219, 4: 1.7645460889903639, 5: 1.7730333011280164, 6: 1.7763065038339365, 7: 1.7954421484656502, 8: 1.7970315274745907, 9: 1.7703135335866398, 10: 1.7832231289107179, 11: 1.8007658161599138, 12: 1.8657741966137307, 13: 1.8146282085195466, 14: 1.7698665357434682, 15: 1.8082726490475631, 16: 1.8085437293902622, 17: 1.7936963957889289, 18: 1.7832381379417253, 19: 1.7802920554604476, 20: 1.7861379158350268, 21: 1.7936100048755235, 22: 1.8483383104471227, 23: 1.8130161066179098, 24: 1.9163575121449019, 25: 1.7773193912715135, 26: 1.7548144370535865, 27: 1.8031448878597665, 28: 1.7863523028345585, 29: 1.7980850856229051, 30: 1.7717543207570379, 31: 1.7793109651482417, 32: 1.7844734220525651, 33: 1.8113538243073144, 34: 1.7631120208633191, 35: 1.7452835254080676, 36: 1.8263892505869561, 37: 1.8257434383170024, 38: 1.7852582177109231, 39: 1.7963267689664066, 40: 1.7600604782624278, 41: 1.7712947140653044, 42: 1.7791191003662985, 43: 1.7870810800590982, 44: 1.7835256798382169, 45: 1.7983417163798214, 46: 1.757843113070866, 47: 1.8551267375375846, 48: 1.7828832985764107, 49: 1.7990199819213961, 50: 1.7974984872377808, 51: 1.8210349217346498, 52: 1.7665210445763613, 53: 1.757146756726141, 54: 1.7570820213995728, 55: 1.823962473662095, 56: 1.7869599160678804, 57: 1.8255873831159108, 58: 1.7593869089470113, 59: 1.8117996934016789, 60: 1.7990136573617328, 61: 1.7712961084777461, 62: 1.7643563987420952, 63: 1.8048920842803127, 64: 1.7926227548347147, 65: 1.7794523686544566, 66: 1.8173603133808909, 67: 1.7973427053268431, 68: 1.7870247159265935, 69: 1.7721014845610299, 70: 1.7872011600216617, 71: 1.7801418492969672, 72: 1.7995679269728251, 73: 1.8193455626924104, 74: 1.7779257660266397, 75: 1.7736519628335365, 76: 1.8229715304321856, 77: 1.8388474315299821, 78: 1.7984187744685034, 79: 1.8694110227599361, 80: 1.7777001738973672, 81: 1.7978537450113727, 82: 1.848469623460119, 83: 1.8006294824276385, 84: 1.8014651698530317, 85: 1.7647279256334245, 86: 1.8028254521542417, 87: 1.7989598369724511, 88: 1.8107951498112016, 89: 1.8503877804299442, 90: 1.7794039173281297, 91: 1.799547224292676, 92: 1.7951834237147535, 93: 1.7666281311099192, 94: 1.7705898517371434, 95: 1.7827350008736387, 96: 1.775641798390678, 97: 1.7900523768277423, 98: 1.7995509343368912, 99: 1.8029456852966985}\n",
      "Run AWiAL1afMEaT9KPSX8VG - seed 6\n",
      "Minimum average overhead: 1.74528352541\n",
      "Found in iteration: 35\n",
      "With configuration: \n",
      "{   u'average_edge_duration_factor': 2.0,\n",
      "    u'exploration_percentage': 0.02,\n",
      "    u'freshness_cut_off_value': 397,\n",
      "    u'freshness_update_factor': 12,\n",
      "    u'max_speed_and_length_factor': 1.54,\n",
      "    u're_route_every_ticks': 44,\n",
      "    u'route_random_sigma': 0.11}\n",
      "*********************\n",
      "\n",
      "100\n",
      "{0: 1.8000664276996952, 1: 1.7884074179258729, 2: 1.7526255001644668, 3: 1.8172308839275035, 4: 1.7618115521556073, 5: 1.7488099535260642, 6: 1.7982238904695842, 7: 1.7560890304993897, 8: 1.7746274911601387, 9: 1.8180171928493902, 10: 1.7577890426402374, 11: 1.7823493537600181, 12: 1.7831769702434128, 13: 1.7621511425011442, 14: 1.7502409853580596, 15: 1.7756842336682415, 16: 1.7968289688767161, 17: 1.7452358339102538, 18: 1.7668303625786146, 19: 1.7816426703836106, 20: 1.7721409494903986, 21: 1.7615303210049864, 22: 1.7789288930473397, 23: 1.7487039417790495, 24: 1.811312412900604, 25: 1.7912351476241173, 26: 1.7855801207007731, 27: 1.7635418038949247, 28: 1.7614840716041704, 29: 1.7568713599612329, 30: 1.7898671878267167, 31: 1.8057186457084091, 32: 1.7441589486993792, 33: 1.7780480478300054, 34: 1.7566272424627409, 35: 1.8042177101912105, 36: 1.8049651978285743, 37: 1.7723365308658519, 38: 1.783468965355945, 39: 1.8029119092322712, 40: 1.77076592849542, 41: 1.7414939901642443, 42: 1.8299894887956114, 43: 1.7955400266021901, 44: 1.7922543747147734, 45: 1.7953741378703614, 46: 1.8028921097590893, 47: 1.7979127730800464, 48: 1.7652306811238268, 49: 1.7783340146192208, 50: 1.7569813219685253, 51: 1.7694744169279306, 52: 1.833964687395905, 53: 1.7821362476175273, 54: 1.8241636414930036, 55: 1.7790239569791868, 56: 1.807195089680331, 57: 1.7645420171726844, 58: 1.7602469171393127, 59: 1.7766645622866235, 60: 1.7738216290631841, 61: 1.7941986816024307, 62: 1.7410944431001898, 63: 1.842301910723289, 64: 1.7779177150199907, 65: 1.7643967225230932, 66: 1.7705461600483694, 67: 1.7930062125855897, 68: 1.7758285896126158, 69: 1.7576326082804938, 70: 1.7606038570189033, 71: 1.8073964347736695, 72: 1.758438956624701, 73: 1.7750968689855458, 74: 1.8100966443217541, 75: 1.7939014597376133, 76: 1.8364797694690256, 77: 1.7714787521864432, 78: 1.803211096650978, 79: 1.7627658575534531, 80: 1.8495111040166607, 81: 1.767217478731784, 82: 1.774550844457756, 83: 1.7970825790065104, 84: 1.7532748527467761, 85: 1.7579739054904087, 86: 1.7838172574423687, 87: 1.7776410752470566, 88: 1.7936486438676551, 89: 1.7632304593829082, 90: 1.7925492754276304, 91: 1.7790708440026501, 92: 1.7637297466806601, 93: 1.7798995380359739, 94: 1.7606983838121315, 95: 1.7868678044575972, 96: 1.8105032181052179, 97: 1.7984316448461068, 98: 1.7779233528373013, 99: 1.7938908299767602}\n",
      "Run AWiAL33FMEaT9KPSX8Xb - seed 7\n",
      "Minimum average overhead: 1.7410944431\n",
      "Found in iteration: 62\n",
      "With configuration: \n",
      "{   u'average_edge_duration_factor': 2.2,\n",
      "    u'exploration_percentage': 0.28,\n",
      "    u'freshness_cut_off_value': 674,\n",
      "    u'freshness_update_factor': 14,\n",
      "    u'max_speed_and_length_factor': 1.68,\n",
      "    u're_route_every_ticks': 29,\n",
      "    u'route_random_sigma': 0.25}\n",
      "*********************\n",
      "\n",
      "100\n"
     ]
    },
    {
     "name": "stdout",
     "output_type": "stream",
     "text": [
      "{0: 1.7799123850087788, 1: 1.7424848271343027, 2: 1.7983696859139526, 3: 1.7926169769453004, 4: 1.7751544577900822, 5: 1.7807717815628137, 6: 1.8269905242102544, 7: 1.7968717749559691, 8: 1.7669331005259172, 9: 1.7967963786215391, 10: 1.7601934799313066, 11: 1.7628545254204087, 12: 1.8397026898643147, 13: 1.7704482473181811, 14: 1.8296004580498553, 15: 1.7831748485384182, 16: 1.7907073403514471, 17: 1.7729064780372548, 18: 1.7971027668304371, 19: 1.8173630266096119, 20: 1.7943735205176039, 21: 1.7787805857790051, 22: 1.7713178170502557, 23: 1.7771170264236225, 24: 1.7934308808296417, 25: 1.8252501104169525, 26: 1.7702495788697081, 27: 1.7703797038731732, 28: 1.8347272856271666, 29: 1.791494839884431, 30: 1.839630560145693, 31: 1.7667798274282722, 32: 1.7826633498015358, 33: 1.7642940492638362, 34: 1.780806091267497, 35: 1.8419751676792613, 36: 1.8038590414302911, 37: 1.7695710106803086, 38: 1.9020280638885145, 39: 1.7354982172651308, 40: 1.7735515897656624, 41: 1.8172221819311147, 42: 1.8447391412443539, 43: 1.7686120984021008, 44: 1.7857427537643333, 45: 1.7746918575956485, 46: 1.7955296022951828, 47: 1.7972266943553907, 48: 1.7889476307480596, 49: 1.7717585181441136, 50: 1.7826087024695976, 51: 1.8383519378212783, 52: 1.7610238352801411, 53: 1.7964753399377973, 54: 1.7699560803828136, 55: 1.814817139214645, 56: 1.7674325975139265, 57: 1.8571434083546055, 58: 1.7505585019410035, 59: 1.9113958708496517, 60: 1.7951921038876033, 61: 1.7942420209261676, 62: 1.775354387458336, 63: 1.7767579425478659, 64: 1.7779824498096488, 65: 1.7983157831911165, 66: 1.7788255381666616, 67: 1.8252158759696504, 68: 1.7582803527978781, 69: 1.7705411338421728, 70: 1.8235592263251907, 71: 1.7749249969951517, 72: 1.7796053001416545, 73: 1.8103060827422148, 74: 1.7960522431030219, 75: 1.7732291441459564, 76: 1.7792180648637419, 77: 1.7680350985636759, 78: 1.7728717468028967, 79: 1.7954418750065273, 80: 1.8231891239053724, 81: 1.7796618752566269, 82: 1.7917664214713398, 83: 1.7789853833530131, 84: 1.7644337276671522, 85: 1.7839977792084551, 86: 1.7687881252915096, 87: 1.7773955270915958, 88: 1.8130919927577969, 89: 1.8087605901630393, 90: 1.7875794326478753, 91: 1.7761405690540946, 92: 1.804496148838153, 93: 1.8304791378513252, 94: 1.7735093390173948, 95: 1.7884116941945565, 96: 1.8147258052322743, 97: 1.7811413263000559, 98: 1.7876697597146289, 99: 1.9246080470904525}\n",
      "Run AWiAL6TrMEaT9KPSX8Zw - seed 8\n",
      "Minimum average overhead: 1.73549821727\n",
      "Found in iteration: 39\n",
      "With configuration: \n",
      "{   u'average_edge_duration_factor': 2.5,\n",
      "    u'exploration_percentage': 0.16,\n",
      "    u'freshness_cut_off_value': 437,\n",
      "    u'freshness_update_factor': 10,\n",
      "    u'max_speed_and_length_factor': 2.23,\n",
      "    u're_route_every_ticks': 19,\n",
      "    u'route_random_sigma': 0.07}\n",
      "*********************\n",
      "\n",
      "100\n",
      "{0: 1.8027475189056845, 1: 1.7796236459290802, 2: 1.821169917027833, 3: 1.7508213432353716, 4: 1.7788778242538108, 5: 1.799756996466928, 6: 1.794841236003226, 7: 1.810007952572027, 8: 1.7727612301765627, 9: 1.7369938598614092, 10: 1.7756737108735805, 11: 1.7981230835949507, 12: 1.7602354805800779, 13: 1.7618721313532668, 14: 1.8397673145592197, 15: 1.7951738515529454, 16: 1.8148569325117627, 17: 1.8209340643809795, 18: 1.8374976892822459, 19: 1.7832249155583408, 20: 1.7662635812100809, 21: 1.7981028288999958, 22: 1.7695408520598677, 23: 1.8277816330587118, 24: 1.7759899728924344, 25: 1.7924098828355861, 26: 1.7721947952925454, 27: 1.7770796167310334, 28: 1.7670107345144213, 29: 1.7717367217717526, 30: 1.7986662658740249, 31: 1.8619564095596921, 32: 1.8068119717755338, 33: 1.7832924632178091, 34: 1.8352685200560277, 35: 1.7943098593467723, 36: 1.7900893246603147, 37: 1.7767481744692304, 38: 1.7825782098282572, 39: 1.8036240775128529, 40: 1.7664352717868008, 41: 1.7741863912930773, 42: 1.848858366887238, 43: 1.7632545932821959, 44: 1.7908922860745264, 45: 1.8202543116423635, 46: 1.8136732691628694, 47: 1.7603841087860681, 48: 1.7921653570985459, 49: 1.78416579049633, 50: 1.7726556788237431, 51: 1.8084345048556951, 52: 1.7880451254210901, 53: 1.7876650241924787, 54: 1.8008136603785365, 55: 1.7652892075671462, 56: 1.7806255056030182, 57: 1.8150863184664281, 58: 1.7834095904810234, 59: 1.8202011164569281, 60: 1.7644120688477343, 61: 1.9491639662101956, 62: 1.7720952724284587, 63: 1.772726645609874, 64: 1.8180225742910792, 65: 1.7615490161771787, 66: 1.7753592319404237, 67: 1.7860471314261759, 68: 1.7780834732044517, 69: 1.7780427938039167, 70: 1.7472158283409822, 71: 1.7588993595461142, 72: 1.8709006083138335, 73: 1.7730032456301139, 74: 1.7975798505153704, 75: 1.802382779832401, 76: 1.785652984865798, 77: 1.809428451004643, 78: 1.7947628670949975, 79: 1.8146192574928914, 80: 1.8020038904775355, 81: 1.8191386899398556, 82: 1.7992701352812597, 83: 1.7716581466277144, 84: 1.7622954871437639, 85: 1.7719181210304713, 86: 1.7793832352735324, 87: 1.7702969750714344, 88: 1.7684980659830334, 89: 1.7752457579873633, 90: 1.7730688016926575, 91: 1.7542815238318907, 92: 1.7738190296192966, 93: 1.7790096711389884, 94: 1.7788853458011662, 95: 1.7962296387289272, 96: 1.7826456237670865, 97: 1.7932206536049837, 98: 1.8048346383348732, 99: 1.7760253945345976}\n",
      "Run AWiAL8vtMEaT9KPSX8cF - seed 9\n",
      "Minimum average overhead: 1.73699385986\n",
      "Found in iteration: 9\n",
      "With configuration: \n",
      "{   u'average_edge_duration_factor': 2.04,\n",
      "    u'exploration_percentage': 0.25,\n",
      "    u'freshness_cut_off_value': 337,\n",
      "    u'freshness_update_factor': 5,\n",
      "    u'max_speed_and_length_factor': 1.93,\n",
      "    u're_route_every_ticks': 23,\n",
      "    u'route_random_sigma': 0.23}\n",
      "*********************\n",
      "\n",
      "100\n",
      "{0: 1.7884399836764073, 1: 1.751734060945312, 2: 1.8101652120956242, 3: 1.7913222100265525, 4: 1.7970431179948843, 5: 1.7733478671688496, 6: 1.7745337530743719, 7: 1.8328043675086887, 8: 1.8085749792285133, 9: 1.790582370379395, 10: 1.7992638717762675, 11: 1.7534427287577721, 12: 1.773254772616113, 13: 1.840093407452029, 14: 1.7873298047792465, 15: 1.7956647396081085, 16: 1.8393072674250586, 17: 1.8332276439867052, 18: 1.782701169274711, 19: 1.7681015289409376, 20: 1.7751490851665597, 21: 1.8266458168484412, 22: 1.8040116080083182, 23: 1.8397967438863561, 24: 1.817937700546177, 25: 1.8595038604350775, 26: 1.8056212818827415, 27: 1.7722664718828207, 28: 1.8026116829380903, 29: 1.7649689354533618, 30: 1.810961514385917, 31: 1.7664186404227111, 32: 1.7538796262784018, 33: 1.7497408987932874, 34: 1.8058183768458875, 35: 1.7776230862285061, 36: 1.7662767361581879, 37: 1.7859760906074895, 38: 1.7884443917029778, 39: 1.7560987595439437, 40: 1.7978070895578029, 41: 1.7771594275410321, 42: 1.7797199965498374, 43: 1.7852037480394924, 44: 1.8421222754653206, 45: 1.7716163633409037, 46: 1.7844548475968633, 47: 1.7887403948220115, 48: 1.7632484950109684, 49: 1.8100475213596361, 50: 1.860631304093658, 51: 1.7953093992177325, 52: 1.837003730017462, 53: 1.7872167233718632, 54: 1.8187074618189962, 55: 1.800235187358362, 56: 1.782467180315209, 57: 1.7652418420213483, 58: 1.7786212529417986, 59: 1.7955802538719563, 60: 1.8273760139387956, 61: 1.850427619321904, 62: 1.8332521318948274, 63: 1.7556001937683876, 64: 1.8125607180739418, 65: 1.8327366024535332, 66: 1.8289294600249308, 67: 1.8155778159325022, 68: 1.7799638746010917, 69: 1.7780534563791706, 70: 1.7445950177780061, 71: 1.772315668357811, 72: 1.7607720419159207, 73: 1.8007096607520108, 74: 1.7826968446838545, 75: 1.798903529995183, 76: 1.7829699169386026, 77: 1.7540416108409045, 78: 1.7986931925303149, 79: 1.7615512076385356, 80: 1.7404043808464682, 81: 1.7726673676221074, 82: 1.7608635470910383, 83: 1.8356887666749762, 84: 1.8316727862439299, 85: 1.7568589919612447, 86: 1.7434534681770488, 87: 1.7930639856079513, 88: 1.7573974420818474, 89: 1.8549203245281585, 90: 1.7460258924040699, 91: 1.7860293980864272, 92: 1.7589425524601909, 93: 1.7705952535386558, 94: 1.7995176214042061, 95: 1.7723982835136125, 96: 1.828457076696099, 97: 1.7986938230970191, 98: 1.7784205185437283, 99: 1.7953081248844232}\n",
      "Run AWiAL_MSMEaT9KPSX8ea - seed 10\n",
      "Minimum average overhead: 1.74040438085\n",
      "Found in iteration: 80\n",
      "With configuration: \n",
      "{   u'average_edge_duration_factor': 2.44,\n",
      "    u'exploration_percentage': 0.09,\n",
      "    u'freshness_cut_off_value': 550,\n",
      "    u'freshness_update_factor': 15,\n",
      "    u'max_speed_and_length_factor': 1.54,\n",
      "    u're_route_every_ticks': 65,\n",
      "    u'route_random_sigma': 0.28}\n",
      "*********************\n",
      "\n",
      "100\n"
     ]
    },
    {
     "name": "stdout",
     "output_type": "stream",
     "text": [
      "{0: 1.7920312543886314, 1: 1.8250543169856148, 2: 1.7750533825049664, 3: 1.8117066457242934, 4: 1.8065279452986605, 5: 1.7933620989041872, 6: 1.8096884514679852, 7: 1.8057206704663491, 8: 1.79109594958735, 9: 1.7590477740587149, 10: 1.7772105211784754, 11: 1.793911295732304, 12: 1.8247808376168839, 13: 1.8466629393997995, 14: 1.775036926490684, 15: 1.8154630107055065, 16: 1.772330218674623, 17: 1.77834665222445, 18: 1.7907675979472453, 19: 1.7794574656570301, 20: 1.8806373650613688, 21: 1.7962996129655959, 22: 1.8125542156599233, 23: 1.790525677052035, 24: 1.8786127161368014, 25: 1.8022096601166087, 26: 1.7526616802036472, 27: 1.8359565758375771, 28: 1.7665099063542304, 29: 1.8062832131909523, 30: 1.8214912521138715, 31: 1.7961407997779737, 32: 1.878543482434553, 33: 1.7913562732686485, 34: 1.8563597099989628, 35: 1.7800053941512903, 36: 1.7921260786694646, 37: 1.8478617655120437, 38: 1.7791742091089064, 39: 1.7860358678155128, 40: 1.8240155666571889, 41: 1.7701611235429677, 42: 1.8051871939183173, 43: 1.7874590609986543, 44: 1.802495293443829, 45: 1.7891417323923662, 46: 1.776402660988472, 47: 1.7594662507157424, 48: 1.7903854024340748, 49: 1.8128295546340072, 50: 1.7594370834618756, 51: 1.7965797013107629, 52: 1.7520195466307413, 53: 1.8207116246145325, 54: 1.8134102833994883, 55: 1.8106771709918845, 56: 1.7892637066180193, 57: 1.7854262967927135, 58: 1.8303751464502311, 59: 1.803873108561568, 60: 1.8483437687798032, 61: 1.7631581920231028, 62: 1.7781347422883014, 63: 1.7737900014956824, 64: 1.7780516228371721, 65: 1.7741172492679784, 66: 1.7962840908012236, 67: 1.7500180716803624, 68: 1.8037821107469869, 69: 1.7490486739676809, 70: 1.7799129586625138, 71: 1.772562714980026, 72: 1.7791619657705531, 73: 1.7922459323509585, 74: 1.7706142498918886, 75: 1.8163229976260535, 76: 1.7887414067532228, 77: 1.8065768528097199, 78: 1.8019403198449253, 79: 1.8308778010414479, 80: 1.7704416681476047, 81: 1.7784282893289685, 82: 1.8021170242210944, 83: 1.7596167804656027, 84: 1.7865999079543449, 85: 1.7909436971829062, 86: 1.7899014150239332, 87: 1.767551821284242, 88: 1.7451195282552736, 89: 1.7911745757718418, 90: 1.8129070263924156, 91: 1.8574831767769895, 92: 1.836866801369605, 93: 1.810549205155638, 94: 1.7939926780431807, 95: 1.8014237440272787, 96: 1.7818563960510994, 97: 1.7826413876749596, 98: 1.7702749544835759, 99: 1.8234390089398846}\n",
      "Run AWiAMBpmMEaT9KPSX8gv - seed 11\n",
      "Minimum average overhead: 1.74511952826\n",
      "Found in iteration: 88\n",
      "With configuration: \n",
      "{   u'average_edge_duration_factor': 1.82,\n",
      "    u'exploration_percentage': 0.21,\n",
      "    u'freshness_cut_off_value': 311,\n",
      "    u'freshness_update_factor': 9,\n",
      "    u'max_speed_and_length_factor': 2.15,\n",
      "    u're_route_every_ticks': 30,\n",
      "    u'route_random_sigma': 0.29}\n",
      "*********************\n",
      "\n",
      "100\n",
      "{0: 1.8062493104965964, 1: 1.7798520714043566, 2: 1.7981640730135899, 3: 1.8066963129174263, 4: 1.8380181563455045, 5: 1.7801538160256791, 6: 1.8205712969424261, 7: 1.7705907481120922, 8: 1.7887572854589358, 9: 1.7820947354855239, 10: 1.8430313682036976, 11: 1.7660088123779671, 12: 1.7695799139510848, 13: 1.7858542257919592, 14: 1.785819827906781, 15: 1.82568497173402, 16: 1.7927814698879967, 17: 1.7761477158425376, 18: 1.8102088828947991, 19: 1.7718775656117589, 20: 1.7817292980614627, 21: 1.8204616269497622, 22: 1.7906535481217878, 23: 1.8459291970432645, 24: 1.7553394651284242, 25: 1.7953655600578531, 26: 1.8394199265452578, 27: 1.8590392603828327, 28: 1.7578942389019288, 29: 1.8375015627262543, 30: 1.789360792815448, 31: 1.7946143408839526, 32: 1.8029417985572755, 33: 1.7380188634597395, 34: 1.7430563390467033, 35: 1.7332540060499275, 36: 1.7913198895959308, 37: 1.8335066787221006, 38: 1.7969943328763973, 39: 1.8367277998581637, 40: 1.8629760193609428, 41: 1.7855717935501929, 42: 1.7756943131026743, 43: 1.8245072689892172, 44: 1.8016862053066434, 45: 1.7962822390626789, 46: 1.8228737247586657, 47: 1.7717214017183214, 48: 1.8342786775447752, 49: 1.7974616783686956, 50: 1.7940473916442905, 51: 1.7537869498763983, 52: 1.7735842598195632, 53: 1.7873484278705269, 54: 1.7940000350719552, 55: 1.8319652624932012, 56: 1.7494573973868712, 57: 1.8094845910645068, 58: 1.7949943374160904, 59: 1.8525221484641101, 60: 1.7519899186447081, 61: 1.7912807662513981, 62: 1.7917938634690505, 63: 1.8023169185261656, 64: 1.8081043061695226, 65: 1.7870123454995352, 66: 1.7708865220937893, 67: 1.7684784238396631, 68: 1.7974107258159688, 69: 1.757071833695337, 70: 1.7935900176366613, 71: 1.8107624456501201, 72: 1.7615604342855529, 73: 1.7811078964415075, 74: 1.7896661085544692, 75: 1.7548358812259357, 76: 1.7853080388379117, 77: 1.7855333515028571, 78: 1.7881735425505896, 79: 1.784915908458647, 80: 1.8006007367040362, 81: 1.8183290560341403, 82: 1.8261686769513332, 83: 1.7735939206487767, 84: 1.7669210490613005, 85: 1.7326440829237502, 86: 1.8054246588567759, 87: 1.7687126233427257, 88: 1.7798205008544399, 89: 1.758471042019027, 90: 1.7828479654800875, 91: 1.7863934689958119, 92: 1.7741695562629969, 93: 1.7556037518475389, 94: 1.8183895432057722, 95: 1.8396798509257606, 96: 1.7865382970878663, 97: 1.8235607207671478, 98: 1.8163173497616165, 99: 1.792838024862679}\n",
      "Run AWiAMEFWMEaT9KPSX8jE - seed 12\n",
      "Minimum average overhead: 1.73264408292\n",
      "Found in iteration: 85\n",
      "With configuration: \n",
      "{   u'average_edge_duration_factor': 2.16,\n",
      "    u'exploration_percentage': 0.12,\n",
      "    u'freshness_cut_off_value': 295,\n",
      "    u'freshness_update_factor': 14,\n",
      "    u'max_speed_and_length_factor': 1.99,\n",
      "    u're_route_every_ticks': 18,\n",
      "    u'route_random_sigma': 0.28}\n",
      "*********************\n",
      "\n",
      "100\n",
      "{0: 1.7772799949912976, 1: 1.8332682979106139, 2: 1.7844475912643134, 3: 1.8223357836659204, 4: 1.8208347281924586, 5: 1.8174888764684576, 6: 1.8002988744800874, 7: 1.7816861806351783, 8: 1.7644293541683416, 9: 1.7754467320215379, 10: 1.8637347247876965, 11: 1.7796840252620103, 12: 1.8364690805865564, 13: 1.7870210303824796, 14: 1.7884150958543559, 15: 1.8129840448203256, 16: 1.7917825093312139, 17: 1.7793106873007594, 18: 1.7988222758006589, 19: 1.7840999558378527, 20: 1.789964791497231, 21: 1.7585007668616672, 22: 1.824718045913658, 23: 1.8042984528853456, 24: 1.8030135674269645, 25: 1.8026889224065172, 26: 1.7762892235921135, 27: 1.8250906474291464, 28: 1.8140710522974961, 29: 1.9229406318154154, 30: 1.7938431145991733, 31: 1.7506313054043894, 32: 1.7939090978695031, 33: 1.7984761629692159, 34: 1.7827922324890839, 35: 1.7759186221051089, 36: 1.8006766409284443, 37: 1.8989757161838952, 38: 1.8177419547094411, 39: 1.9535147268135755, 40: 1.7580604562064073, 41: 1.8355394790482022, 42: 1.8778011735632045, 43: 1.7816928314209752, 44: 1.7838685710253004, 45: 1.7694193077829528, 46: 1.8085157037664372, 47: 1.8143390266251991, 48: 1.7735999647814658, 49: 1.7745751962911755, 50: 1.8067546312433038, 51: 1.7882216449451902, 52: 1.7984036664971765, 53: 1.7667916252498674, 54: 1.8291976189042263, 55: 1.8024949587997496, 56: 1.7602635117322722, 57: 1.8078610615770079, 58: 1.77622192533165, 59: 1.8184611694483899, 60: 1.7547684724843573, 61: 1.791313544744338, 62: 2.0058182689193176, 63: 1.7917735895395404, 64: 1.8152128071409848, 65: 1.765743216609158, 66: 1.7970576385623274, 67: 1.7870623925126108, 68: 1.835199738013652, 69: 1.8892004841756571, 70: 1.7880571151557862, 71: 1.7685539482427972, 72: 1.7869538534566924, 73: 1.7612135818016799, 74: 1.7960044865980813, 75: 1.8360454106335085, 76: 1.791507207922727, 77: 1.7721351892074286, 78: 1.7457582678335049, 79: 1.793130398004569, 80: 1.820812992432143, 81: 1.8024020901783784, 82: 1.7412546143997678, 83: 1.7936122946878128, 84: 1.8261087377576495, 85: 1.8322132965560003, 86: 1.7995537960079329, 87: 1.8023805072885617, 88: 1.805733477714355, 89: 1.7857721820365171, 90: 1.7888041128561982, 91: 1.8003160294863538, 92: 1.8053294266557158, 93: 1.7704073983768844, 94: 1.7681154165374036, 95: 1.8054079879495228, 96: 1.7870519822750914, 97: 1.7936428105673301, 98: 1.7920789417069005, 99: 1.7837757162248526}\n",
      "Run AWiAMGipMEaT9KPSX8lZ - seed 13\n",
      "Minimum average overhead: 1.7412546144\n",
      "Found in iteration: 82\n",
      "With configuration: \n",
      "{   u'average_edge_duration_factor': 2.23,\n",
      "    u'exploration_percentage': 0.01,\n",
      "    u'freshness_cut_off_value': 109,\n",
      "    u'freshness_update_factor': 13,\n",
      "    u'max_speed_and_length_factor': 1.89,\n",
      "    u're_route_every_ticks': 28,\n",
      "    u'route_random_sigma': 0.1}\n",
      "*********************\n",
      "\n",
      "100\n"
     ]
    },
    {
     "name": "stdout",
     "output_type": "stream",
     "text": [
      "{0: 1.7885186582823216, 1: 1.7608163073238663, 2: 1.7402265433172797, 3: 1.7638375598005722, 4: 1.7419946061880167, 5: 1.757059936688387, 6: 1.7843431694823113, 7: 1.7544724469949127, 8: 1.7578710209872894, 9: 1.769580230365289, 10: 1.8128662484847728, 11: 1.756941068578844, 12: 1.7513301950295426, 13: 1.7632708823818339, 14: 1.8391729599704028, 15: 1.7985461937180109, 16: 1.7758388880766651, 17: 1.7825903845699689, 18: 1.7847617479830122, 19: 1.7858032957900665, 20: 1.8010608891306576, 21: 1.9145379972101986, 22: 1.7433738138258978, 23: 1.7852693532558892, 24: 1.8647015617297529, 25: 1.7522220945848677, 26: 1.7849093193713248, 27: 1.7686440049801153, 28: 1.8345311760962424, 29: 1.858010725000671, 30: 1.7766319089606899, 31: 1.8123791766243769, 32: 1.8051153203862726, 33: 1.7742734302309724, 34: 1.8355627495338667, 35: 1.8032480210120367, 36: 1.8117206193175457, 37: 1.7700823871813502, 38: 1.8351208414605702, 39: 1.7980789577380434, 40: 1.7969849875948944, 41: 1.7827351483146701, 42: 1.7859541536112509, 43: 1.7752807655811729, 44: 1.808639856332662, 45: 1.8095803492258813, 46: 1.7870225438869995, 47: 1.7875203544865235, 48: 1.7505760389917799, 49: 1.731014169845869, 50: 1.7416345564388895, 51: 1.7890483938886834, 52: 1.8107737493313576, 53: 1.832819730208366, 54: 1.7724259739086381, 55: 1.759271780208095, 56: 1.7708047376119136, 57: 1.7624686806355989, 58: 1.7706569626549842, 59: 1.754135056657143, 60: 1.7618368825874611, 61: 1.74652375461478, 62: 1.8030260801691187, 63: 1.7690272731890919, 64: 1.7516449313900313, 65: 1.7768008752331022, 66: 1.797927001674458, 67: 1.7526852065964249, 68: 1.752428900527562, 69: 1.7924011873696535, 70: 1.7940346423473423, 71: 1.7721707866182486, 72: 1.8063062203565787, 73: 1.8618589314060363, 74: 1.7740838906590193, 75: 1.8129853665805575, 76: 1.7891245729800753, 77: 1.7606809767145744, 78: 1.8239788815463835, 79: 1.7583941325407646, 80: 1.7874893681846744, 81: 1.7591328958115298, 82: 1.7766200709670803, 83: 1.8245698020906453, 84: 1.7544584931283242, 85: 1.755677185219225, 86: 1.7886675699415835, 87: 1.7459425038829048, 88: 1.7902345052898818, 89: 1.7749952225840235, 90: 1.7741949588257306, 91: 1.7576136014386554, 92: 1.7751190874890479, 93: 1.7727867345499253, 94: 1.7335820534673709, 95: 1.8015490008207939, 96: 1.8145190526189143, 97: 1.8304430202259394, 98: 1.7707081105799936, 99: 1.8151240058954718}\n",
      "Run AWiAMI-zMEaT9KPSX8nw - seed 14\n",
      "Minimum average overhead: 1.73101416985\n",
      "Found in iteration: 49\n",
      "With configuration: \n",
      "{   u'average_edge_duration_factor': 2.31,\n",
      "    u'exploration_percentage': 0.05,\n",
      "    u'freshness_cut_off_value': 153,\n",
      "    u'freshness_update_factor': 13,\n",
      "    u'max_speed_and_length_factor': 2.24,\n",
      "    u're_route_every_ticks': 63,\n",
      "    u'route_random_sigma': 0.06}\n",
      "*********************\n",
      "\n",
      "100\n",
      "{0: 1.7896053332175326, 1: 1.7637268331194034, 2: 1.793989089519803, 3: 1.7679946655146284, 4: 1.7986068980699086, 5: 1.748536632002363, 6: 1.7798382313606329, 7: 1.7869911508729093, 8: 1.761902165833124, 9: 1.7671153688379788, 10: 1.7642010239372778, 11: 1.8525324997076837, 12: 1.8103684177765571, 13: 1.8070700243434257, 14: 1.7632907819934782, 15: 1.7624413766505058, 16: 1.7545150336305526, 17: 1.7974850150427724, 18: 1.7515347711487415, 19: 1.7998014677328122, 20: 1.7692008915022255, 21: 1.7796991423761406, 22: 1.7590307590915808, 23: 1.8143631977147436, 24: 1.7799848485971859, 25: 1.7495412640166126, 26: 1.7674759865489842, 27: 1.7985550276775226, 28: 1.7568083236811518, 29: 1.7671555822474381, 30: 1.7508129405186474, 31: 1.774257377778506, 32: 1.7780884493299054, 33: 1.7582046654042307, 34: 1.7926444169011491, 35: 1.7359975775002352, 36: 1.7754743219555755, 37: 1.7759670627091415, 38: 1.7897682403878927, 39: 1.7602701257262887, 40: 1.7790114407196336, 41: 1.816709808765979, 42: 1.7635257142785239, 43: 1.7531824496147226, 44: 1.7953496540547733, 45: 1.827565677496656, 46: 1.75577232727341, 47: 1.7531108662432795, 48: 1.8307955551438135, 49: 1.8003068079694822, 50: 1.784910293691752, 51: 1.75778264680908, 52: 1.7819636798668657, 53: 1.7964638839389249, 54: 1.7826807127835866, 55: 1.7592202929455349, 56: 1.7795547219103265, 57: 1.8345090721427721, 58: 1.7612089117248662, 59: 1.7926925844123878, 60: 1.7584945450756431, 61: 1.770119968011084, 62: 1.7962432625102869, 63: 1.7963463590920761, 64: 1.793809271563952, 65: 1.8109960743433868, 66: 1.807328501142528, 67: 1.7756250008874042, 68: 1.8035551934969396, 69: 1.8202058601487501, 70: 1.7721026564872002, 71: 1.7561935705534786, 72: 1.759449634414219, 73: 1.7946947409615226, 74: 1.7663918325201449, 75: 1.7383635831305921, 76: 1.7971879608198433, 77: 1.7706126690322199, 78: 1.7815010284829278, 79: 1.7273107440573836, 80: 1.7569824191073149, 81: 1.7730094016967941, 82: 1.8010702214470402, 83: 1.7793399718007283, 84: 1.7540958634949864, 85: 1.7402120713499925, 86: 1.8619254679063248, 87: 1.7800342906400617, 88: 1.8157663870574281, 89: 1.8061275218188206, 90: 1.7850669772376797, 91: 1.7443833234580532, 92: 1.820756672814166, 93: 1.7689729255473594, 94: 1.759495019597332, 95: 1.8394969918066217, 96: 1.791098248229064, 97: 1.77138449395981, 98: 1.7743771316605548, 99: 1.7645030043302854}\n",
      "Run AWiAMLbQMEaT9KPSX8qG - seed 15\n",
      "Minimum average overhead: 1.72731074406\n",
      "Found in iteration: 79\n",
      "With configuration: \n",
      "{   u'average_edge_duration_factor': 2.25,\n",
      "    u'exploration_percentage': 0.12,\n",
      "    u'freshness_cut_off_value': 309,\n",
      "    u'freshness_update_factor': 5,\n",
      "    u'max_speed_and_length_factor': 2.02,\n",
      "    u're_route_every_ticks': 43,\n",
      "    u'route_random_sigma': 0.07}\n",
      "*********************\n",
      "\n",
      "100\n",
      "{0: 1.7678196959206645, 1: 1.7839618832693414, 2: 1.7646995996202262, 3: 1.8560031333411986, 4: 1.803629209642599, 5: 1.762406897956756, 6: 1.7440481307488491, 7: 1.813126982289643, 8: 1.9496391523613932, 9: 1.7912621906856636, 10: 1.7545652932528417, 11: 1.7877184086372555, 12: 1.7757303059968284, 13: 1.8769375671096489, 14: 1.786432511950941, 15: 1.7641007739356187, 16: 1.7659993801084368, 17: 1.7724813974585334, 18: 1.7971317034499461, 19: 1.7633000572922415, 20: 1.7699459283750687, 21: 1.8301569109749991, 22: 1.7687340722093268, 23: 1.7812705753119633, 24: 1.8225045753611775, 25: 1.7915187400041079, 26: 1.7744837575262733, 27: 1.8307223954063636, 28: 1.7813081925157437, 29: 1.8153663566837057, 30: 1.7504999981207503, 31: 1.7573666256200486, 32: 1.8442086665069979, 33: 1.7778150517071931, 34: 1.7511249830510034, 35: 1.7928768773219461, 36: 1.7849279411265084, 37: 1.7708013598382644, 38: 1.7628407262282675, 39: 1.7826641335645221, 40: 1.7796553452510977, 41: 1.7878886074971987, 42: 1.7633352740316579, 43: 1.816531609555686, 44: 1.7900413291483483, 45: 1.7713046293562125, 46: 1.8301138682092573, 47: 1.7736067815551855, 48: 1.7757430778365764, 49: 1.8039613944477133, 50: 1.7538995775091217, 51: 1.7580664711697616, 52: 1.7812391845839826, 53: 1.756516978315865, 54: 1.7900201415907373, 55: 1.786528240727157, 56: 1.795993477534505, 57: 1.7903605333230153, 58: 1.7645037824572456, 59: 1.7636944846033173, 60: 1.7692064277806785, 61: 1.8660925578652943, 62: 1.7768059114049022, 63: 1.7636199854774834, 64: 1.7931331958248513, 65: 1.748547869127286, 66: 1.7740259084779129, 67: 1.7662396436094925, 68: 1.768849910295716, 69: 1.7863933410690926, 70: 1.7794215046006157, 71: 1.7824340317493625, 72: 1.8113903607107542, 73: 1.7853773221203053, 74: 1.791102821523417, 75: 1.7693636800653163, 76: 1.781965061054386, 77: 1.7908824089957189, 78: 1.7673998052926418, 79: 1.8502750133056951, 80: 1.7618432106969675, 81: 1.738663093831277, 82: 1.7978834884019557, 83: 1.8019990805225921, 84: 1.7708083939872046, 85: 1.7672826894509246, 86: 1.7767748157307746, 87: 1.7840788375924377, 88: 1.7770588483789318, 89: 1.8151563180135879, 90: 1.7489034975011706, 91: 1.7477156016313995, 92: 1.7933517791650839, 93: 1.7738757158703782, 94: 1.7695585892362036, 95: 1.7702873774819501, 96: 1.7904247815350856, 97: 1.7926412387025084, 98: 1.7960784800215834, 99: 1.7884994155726297}\n",
      "Run AWiAMHVZMEaT9KPSX8la - seed 16\n",
      "Minimum average overhead: 1.73866309383\n",
      "Found in iteration: 81\n",
      "With configuration: \n",
      "{   u'average_edge_duration_factor': 2.5,\n",
      "    u'exploration_percentage': 0.21,\n",
      "    u'freshness_cut_off_value': 212,\n",
      "    u'freshness_update_factor': 7,\n",
      "    u'max_speed_and_length_factor': 2.29,\n",
      "    u're_route_every_ticks': 45,\n",
      "    u'route_random_sigma': 0.18}\n",
      "*********************\n",
      "\n",
      "100\n"
     ]
    },
    {
     "name": "stdout",
     "output_type": "stream",
     "text": [
      "{0: 1.7878386602239913, 1: 1.7966845692926294, 2: 1.7763395232935868, 3: 1.788828104734977, 4: 1.8510981972166431, 5: 1.8036787548803774, 6: 1.7983265760679588, 7: 1.799371895359223, 8: 1.7743032562424461, 9: 1.7695802389085737, 10: 1.7638459946774048, 11: 1.7535267816767461, 12: 1.799246982470734, 13: 1.7809346083717006, 14: 1.7987349079205779, 15: 1.7743924791304981, 16: 1.7666471917677034, 17: 1.8093338899812166, 18: 1.8458850394897872, 19: 1.7399615521301199, 20: 1.7979391875191422, 21: 1.8177513378953234, 22: 1.7773062175335428, 23: 1.7668890658618348, 24: 1.7720786832686302, 25: 1.7445724610630051, 26: 1.8024238037477547, 27: 1.7828538175472208, 28: 1.7756884348682964, 29: 1.7563592023851422, 30: 1.7941917532427423, 31: 1.7736095565464831, 32: 1.7745605403794642, 33: 1.776397599710583, 34: 1.8019576704902567, 35: 1.772935139689011, 36: 1.7987192191440278, 37: 1.7512581312570816, 38: 1.7924810037498675, 39: 1.7732327383783755, 40: 1.7939228247463743, 41: 1.8012532616431802, 42: 1.7520224595959843, 43: 1.7563981777531905, 44: 1.7827227294638541, 45: 1.7653131267845907, 46: 1.7607335336199161, 47: 1.76580908561412, 48: 1.7793238841070245, 49: 1.7374275030173048, 50: 1.7532376001173706, 51: 1.7629479820797345, 52: 1.8171820578476661, 53: 1.7796745209081666, 54: 1.7978285276409798, 55: 1.8484103470024624, 56: 1.7795694661874339, 57: 1.7478167800951059, 58: 1.7985056933518331, 59: 1.803632051793723, 60: 1.7738075761492091, 61: 1.7767740193160779, 62: 1.7884292124600303, 63: 1.7951443972770169, 64: 1.7619652634765501, 65: 1.7700860318913902, 66: 1.7402244096385149, 67: 1.7758781155865389, 68: 1.7756653336930133, 69: 1.9252634946156166, 70: 1.7714014873883981, 71: 1.7348532294527401, 72: 1.7837804691829944, 73: 1.7831773826349353, 74: 1.7734797527641741, 75: 1.7435141577110618, 76: 1.7844973441152594, 77: 1.7944859101891073, 78: 1.7878861342900825, 79: 1.7940021379582958, 80: 1.7755115014303613, 81: 1.8077892405167884, 82: 1.7739028348626311, 83: 1.801185847291652, 84: 1.7897863186435785, 85: 1.7983041536111182, 86: 1.7693906373500292, 87: 1.7823162023354306, 88: 1.7594740796130288, 89: 1.7811115146103802, 90: 1.781359529472351, 91: 1.7868341663842824, 92: 1.7917312816016169, 93: 1.7644476299135379, 94: 1.7773269572250021, 95: 1.8770294984228217, 96: 1.7826133860920323, 97: 1.7938540219741426, 98: 1.7931539227516973, 99: 1.7907520171968034}\n",
      "Run AWiAMHVjMEaT9KPSX8lb - seed 17\n",
      "Minimum average overhead: 1.73485322945\n",
      "Found in iteration: 71\n",
      "With configuration: \n",
      "{   u'average_edge_duration_factor': 1.55,\n",
      "    u'exploration_percentage': 0.1,\n",
      "    u'freshness_cut_off_value': 693,\n",
      "    u'freshness_update_factor': 11,\n",
      "    u'max_speed_and_length_factor': 1.49,\n",
      "    u're_route_every_ticks': 33,\n",
      "    u'route_random_sigma': 0.28}\n",
      "*********************\n",
      "\n",
      "100\n",
      "{0: 1.7777887077296859, 1: 1.8087259844881136, 2: 1.7718785283263918, 3: 1.8434849035291936, 4: 1.8542781587441266, 5: 1.8626028298923425, 6: 1.7529423620072238, 7: 1.7880456462501098, 8: 1.790898818588204, 9: 1.7817840879434279, 10: 1.7977181590688385, 11: 1.7781852702719654, 12: 1.7675072871436612, 13: 1.7871323548615881, 14: 1.7694079356131536, 15: 1.8613862302626847, 16: 1.7834589544104729, 17: 1.7873611788713057, 18: 1.8111307851196821, 19: 1.7581275439735495, 20: 1.8139759033714662, 21: 1.8067582287632242, 22: 1.8240058333472213, 23: 1.7864889959192427, 24: 1.8359931107910938, 25: 1.7630410335634996, 26: 1.7432052283261121, 27: 1.7869397857789118, 28: 1.7736585083373866, 29: 1.7837713897356269, 30: 1.7766277152983392, 31: 1.7688431482499019, 32: 1.805236220150783, 33: 1.7816862036499042, 34: 1.8080046988277794, 35: 1.7449428476108355, 36: 1.7820804380419533, 37: 1.7894003691172664, 38: 1.7865681298400231, 39: 1.7757327914990448, 40: 1.8271552940144447, 41: 1.8110583598321377, 42: 1.7570417415749375, 43: 1.7901862641838089, 44: 1.7769896411386661, 45: 1.7712447982263249, 46: 1.8338726539280654, 47: 1.805042628784485, 48: 1.7576060802113396, 49: 1.7665853194680379, 50: 1.7576809575700076, 51: 1.8211426858790463, 52: 1.7996927927962962, 53: 1.7928584754511327, 54: 1.8414918537002825, 55: 1.7675416641341646, 56: 1.8378446629129925, 57: 1.7899683601727723, 58: 1.8144972574136879, 59: 1.7709373294728776, 60: 1.7929475199026463, 61: 1.7820401767797189, 62: 1.8751223387115279, 63: 1.7830419584077259, 64: 1.822387660006906, 65: 1.7787646611300072, 66: 1.7533807193358906, 67: 1.8119093808296174, 68: 1.7730102148500766, 69: 1.7811847653192963, 70: 1.7914125483914183, 71: 1.8026748945362903, 72: 1.8220482176264547, 73: 1.8032329769366622, 74: 1.8620102041092923, 75: 1.8711085242164729, 76: 1.7786134136415039, 77: 1.774333177225617, 78: 1.806461355780979, 79: 1.7963483135376104, 80: 1.7775187505526795, 81: 1.759898429293264, 82: 1.7697373766012243, 83: 1.8053371767419084, 84: 1.7755636128023735, 85: 1.7616678509903654, 86: 1.7393416871718044, 87: 1.8169093903293225, 88: 1.7986362418926902, 89: 1.7843060054213009, 90: 1.739245334727838, 91: 1.7723077575620905, 92: 1.9172039224840758, 93: 1.7882512431408077, 94: 1.8053248931729373, 95: 1.802390960341584, 96: 1.7965737925105749, 97: 1.8732398061439461, 98: 1.749935420739094, 99: 1.79890514155456}\n",
      "Run AWiAMJmfMEaT9KPSX8nx - seed 18\n",
      "Minimum average overhead: 1.73924533473\n",
      "Found in iteration: 90\n",
      "With configuration: \n",
      "{   u'average_edge_duration_factor': 2.03,\n",
      "    u'exploration_percentage': 0.22,\n",
      "    u'freshness_cut_off_value': 194,\n",
      "    u'freshness_update_factor': 9,\n",
      "    u'max_speed_and_length_factor': 1.33,\n",
      "    u're_route_every_ticks': 37,\n",
      "    u'route_random_sigma': 0.01}\n",
      "*********************\n",
      "\n",
      "100\n",
      "{0: 1.7622427668591187, 1: 1.7458309898608884, 2: 1.7673390060784804, 3: 1.793792310953638, 4: 1.7877151270593967, 5: 1.8127791464190763, 6: 1.7667850364445956, 7: 1.7471284070573703, 8: 1.7652499709835188, 9: 1.8174854018982212, 10: 1.7906956662463389, 11: 1.7847136290207879, 12: 1.7728598232853718, 13: 1.8028536237738251, 14: 1.7878444257390449, 15: 1.776097061454015, 16: 1.7790250452971472, 17: 1.7796991829251878, 18: 1.7847670728654543, 19: 1.7852147550983819, 20: 1.7870749533962909, 21: 1.7679606442934597, 22: 1.7818556051451335, 23: 1.8233458773568847, 24: 1.7791892505921059, 25: 1.7618058509357586, 26: 1.8108600870340756, 27: 1.8108002279288411, 28: 1.7786040264067517, 29: 1.780014883759768, 30: 1.8215960386473666, 31: 1.7897256761530898, 32: 1.8131467554555838, 33: 1.8164718445187666, 34: 1.7829778669492655, 35: 1.7943471932812882, 36: 1.7574680494507691, 37: 1.7484773197422252, 38: 1.7748764287692593, 39: 1.7856728423960848, 40: 1.7640044379490443, 41: 1.7721851639916952, 42: 1.7522790643213455, 43: 1.802870091372855, 44: 1.7900900833254381, 45: 1.7962244535589802, 46: 1.7889725555198623, 47: 1.7901942166861551, 48: 1.7780155835980906, 49: 1.7530374623032134, 50: 1.7467180760990515, 51: 1.7881972989833259, 52: 1.7513808020005746, 53: 1.7804500499144822, 54: 1.8568517778137887, 55: 1.7671337414179371, 56: 1.8178950585509979, 57: 1.7677762321636292, 58: 1.7886836753933952, 59: 1.7601236580129183, 60: 1.8292290110391149, 61: 1.7713884342637256, 62: 1.7754893501182094, 63: 1.7942191486200267, 64: 1.7993411218920381, 65: 1.7863732141890498, 66: 1.7920386807731237, 67: 1.7656103385868978, 68: 1.770106807317233, 69: 1.8409525658808445, 70: 1.78192529340168, 71: 1.7561419021980429, 72: 1.780205618044387, 73: 1.8157343093987932, 74: 1.7721919310187382, 75: 1.7842622829988548, 76: 1.7724677593525602, 77: 1.7837241691469754, 78: 1.8048181755408543, 79: 1.7852367907763667, 80: 1.7665897663707464, 81: 1.7739473397753893, 82: 1.7856499687156184, 83: 1.7474549578926337, 84: 1.7267645667435048, 85: 1.7828791150000189, 86: 1.7443070679430326, 87: 1.812064809287971, 88: 1.8871770080789985, 89: 1.8049784852011395, 90: 1.7407585377418291, 91: 1.7463463543418454, 92: 1.7726251227404282, 93: 1.7982414951096806, 94: 1.786979508951964, 95: 1.7605517370604309, 96: 1.7734601599161728, 97: 1.8289276230869087, 98: 1.7933250664750646, 99: 1.8010005776449809}\n",
      "Run AWiAMMEFMEaT9KPSX8qH - seed 19\n",
      "Minimum average overhead: 1.72676456674\n",
      "Found in iteration: 84\n",
      "With configuration: \n",
      "{   u'average_edge_duration_factor': 1.95,\n",
      "    u'exploration_percentage': 0.24,\n",
      "    u'freshness_cut_off_value': 597,\n",
      "    u'freshness_update_factor': 8,\n",
      "    u'max_speed_and_length_factor': 2.31,\n",
      "    u're_route_every_ticks': 53,\n",
      "    u'route_random_sigma': 0.15}\n",
      "*********************\n",
      "\n",
      "100\n"
     ]
    },
    {
     "name": "stdout",
     "output_type": "stream",
     "text": [
      "{0: 1.7928986877867632, 1: 1.7869777235107243, 2: 1.7673101377387239, 3: 1.7923526246356232, 4: 1.7847752319833246, 5: 1.8348864233662454, 6: 1.7630604383812751, 7: 1.7773819803765574, 8: 1.766835707539141, 9: 1.7699374893372881, 10: 1.7881216814609899, 11: 1.764748802559307, 12: 1.7363171287257246, 13: 1.7614152421023748, 14: 1.7582474697454515, 15: 1.7832902868079683, 16: 1.788999827621397, 17: 1.8013036818981527, 18: 1.7844813749643995, 19: 1.7591625463817, 20: 1.7633329112773113, 21: 1.7490226526148167, 22: 1.7744847440526959, 23: 1.8582361777198049, 24: 1.7764066036712887, 25: 1.78509827907117, 26: 1.7767856595976992, 27: 1.777424478880913, 28: 1.7821165177209186, 29: 1.7680781447232861, 30: 1.7559249973496229, 31: 1.8054706145807726, 32: 1.7761205297610774, 33: 1.7966133734435374, 34: 1.795098601357481, 35: 1.7884038483429343, 36: 1.8119243529460156, 37: 1.7706805686581355, 38: 1.7849892797261706, 39: 1.7722677329850238, 40: 1.8132162347942729, 41: 1.7935089457886111, 42: 1.7922357403814946, 43: 1.7917430083130454, 44: 1.7832617753807474, 45: 1.7772674264898418, 46: 1.787472385008978, 47: 1.7828729064559714, 48: 1.7911031392199184, 49: 1.7859552525213835, 50: 1.7823954974867948, 51: 1.7978849045325667, 52: 1.7772295549275892, 53: 1.8166101388522267, 54: 1.7872682161329136, 55: 1.7413607657285508, 56: 1.8542455439580596, 57: 1.7896503023749679, 58: 1.7736507101872667, 59: 1.788238569122331, 60: 1.8014457341090506, 61: 1.777444634511022, 62: 1.7550951578355776, 63: 1.7694709742807442, 64: 1.7813639564439521, 65: 1.7719487693951261, 66: 1.7899433539265235, 67: 1.7823161486529353, 68: 1.835483505291168, 69: 1.7923411804154283, 70: 1.7579450242262349, 71: 1.7522041829363217, 72: 1.8132321189707095, 73: 1.7780956382377666, 74: 1.769193768657813, 75: 1.7886887705081769, 76: 1.7702277580640571, 77: 1.7862660633370382, 78: 1.7713925810595559, 79: 1.7636651165439794, 80: 1.7863748391872942, 81: 1.757753974813973, 82: 1.7942481620182429, 83: 1.8303348644033328, 84: 1.768917987502469, 85: 1.7688479326709494, 86: 1.7836381789397768, 87: 1.7758742428711252, 88: 1.7648864697036337, 89: 1.7505711208841757, 90: 1.7976085273439137, 91: 1.751033411827124, 92: 1.8006554592898711, 93: 1.8048298402216409, 94: 1.8023744442862661, 95: 1.803980175241013, 96: 1.8621594199970266, 97: 1.790228887044772, 98: 1.8007009692605813, 99: 1.7813373564610424}\n",
      "Run AWiAMOfyMEaT9KPSX8sc - seed 20\n",
      "Minimum average overhead: 1.73631712873\n",
      "Found in iteration: 12\n",
      "With configuration: \n",
      "{   u'average_edge_duration_factor': 1.51,\n",
      "    u'exploration_percentage': 0.08,\n",
      "    u'freshness_cut_off_value': 481,\n",
      "    u'freshness_update_factor': 17,\n",
      "    u'max_speed_and_length_factor': 1.34,\n",
      "    u're_route_every_ticks': 13,\n",
      "    u'route_random_sigma': 0.02}\n",
      "*********************\n",
      "\n",
      "100\n",
      "{0: 1.7989468305773757, 1: 1.8254853455617708, 2: 1.7710252113477389, 3: 1.7862854089085165, 4: 1.8155017684178547, 5: 1.8303652330412965, 6: 1.7639795628484407, 7: 1.7648978439286802, 8: 1.7387082237842528, 9: 1.7613841589660355, 10: 1.8255765349225348, 11: 1.7836046059380066, 12: 1.7661802720101891, 13: 1.8102527434660285, 14: 1.7826268074717315, 15: 1.7955098790104858, 16: 1.8006702905833303, 17: 1.8276293897280156, 18: 1.8381854808336415, 19: 1.8149207190111989, 20: 1.7944732700031083, 21: 1.7959367657842082, 22: 1.772905234898708, 23: 1.7888180776943297, 24: 1.7686673983316581, 25: 1.764115011076165, 26: 1.8589775644988142, 27: 1.7481043360060342, 28: 1.7528407404099173, 29: 1.8155252788645935, 30: 1.8085683152317074, 31: 1.7893543650674038, 32: 1.7567219380295649, 33: 1.8962829793177676, 34: 1.8661316728762176, 35: 1.8362651534983372, 36: 1.8011412447978765, 37: 1.7963519182946759, 38: 1.778239679587243, 39: 1.8099487998325428, 40: 1.8009302985716691, 41: 1.7837004763803366, 42: 1.7867786717646457, 43: 1.761625978528387, 44: 1.8699033881122378, 45: 1.8411145988822488, 46: 1.8001796126523493, 47: 1.787882964363027, 48: 1.7753641446770794, 49: 1.7706926194905304, 50: 1.8087785248164727, 51: 1.7706487477074151, 52: 1.807976579639305, 53: 1.7284794858867376, 54: 1.7990388650993809, 55: 1.7634052223005092, 56: 1.81063453253829, 57: 1.7727486115005346, 58: 1.7621571716120583, 59: 1.7845588589298771, 60: 1.7583280299457069, 61: 1.7561694919700632, 62: 1.8291321969947982, 63: 1.7967684613115118, 64: 1.8345995733693643, 65: 1.7823123121986872, 66: 1.7834555176080997, 67: 1.7835102256748829, 68: 1.7793538129394917, 69: 1.8052566260221501, 70: 1.7871360628745905, 71: 1.7669253528546252, 72: 1.7279149691654359, 73: 1.7778203435557247, 74: 1.8014484032455016, 75: 1.7941469816497255, 76: 1.7974674280597185, 77: 1.8737022840278288, 78: 1.7495173135778144, 79: 1.7832132645363628, 80: 1.7934475122797666, 81: 1.7699309956576232, 82: 1.7780639749157301, 83: 1.8386571401271121, 84: 1.7884847403139443, 85: 1.7677807963518433, 86: 1.7771645755778946, 87: 1.7388324226406986, 88: 1.7914292512423784, 89: 1.7811356700737095, 90: 1.8090424867906747, 91: 1.8034504753952758, 92: 1.7308891711279364, 93: 1.8017384844614774, 94: 1.7996073618353969, 95: 1.7360347233442954, 96: 1.7986294184324008, 97: 1.8195691043193736, 98: 1.8143447750320834, 99: 1.7691929723361448}\n",
      "Run AWiAMQ8DMEaT9KPSX8ux - seed 21\n",
      "Minimum average overhead: 1.72791496917\n",
      "Found in iteration: 72\n",
      "With configuration: \n",
      "{   u'average_edge_duration_factor': 2.08,\n",
      "    u'exploration_percentage': 0.22,\n",
      "    u'freshness_cut_off_value': 683,\n",
      "    u'freshness_update_factor': 17,\n",
      "    u'max_speed_and_length_factor': 1.16,\n",
      "    u're_route_every_ticks': 14,\n",
      "    u'route_random_sigma': 0.25}\n",
      "*********************\n",
      "\n",
      "100\n",
      "{0: 1.8077748518313697, 1: 1.8095513915422561, 2: 1.779772515983582, 3: 1.8253720404076001, 4: 1.7453520707995585, 5: 1.830562086407566, 6: 1.7880804617716211, 7: 1.7857157721113797, 8: 1.78331984327108, 9: 1.7932855411055439, 10: 1.8054876453278492, 11: 1.787902254838122, 12: 1.8090160535448512, 13: 1.749524539223916, 14: 1.7964153442411952, 15: 1.7953000140276112, 16: 1.7575974675604327, 17: 1.7802041396383892, 18: 1.8116722021200065, 19: 1.7666323204018626, 20: 1.7840929176897953, 21: 1.8148783055430768, 22: 1.7690876583652899, 23: 1.7737085072469403, 24: 1.7691991824048914, 25: 1.7495378200373795, 26: 1.7717435913918831, 27: 1.7950463696198615, 28: 1.778458061935335, 29: 1.7549924578976155, 30: 1.7695829278057791, 31: 1.7752237856664106, 32: 1.7944898017545485, 33: 1.8472605545751333, 34: 1.8062059998046898, 35: 1.7636106321717613, 36: 1.7735398463951482, 37: 1.7360611960373986, 38: 1.7737422802075313, 39: 1.7536087553844635, 40: 1.7840074624196627, 41: 1.7837807110571968, 42: 1.8129540623986591, 43: 1.8066592993304977, 44: 1.7998484420468526, 45: 1.7794582258883114, 46: 1.8103668737632237, 47: 1.7709276463083821, 48: 1.756437142378094, 49: 1.7745767881949315, 50: 1.8121803336355038, 51: 1.8095508701420024, 52: 1.8179469585895531, 53: 1.83316880277046, 54: 1.9213637992232402, 55: 1.7839396089869441, 56: 1.8001832690443094, 57: 1.7953736856431148, 58: 1.7732551463497759, 59: 1.7974288864268351, 60: 1.7886811176868411, 61: 1.7849440763784348, 62: 1.801741513352481, 63: 1.7999113230022521, 64: 1.7714554903162421, 65: 1.8189383710214555, 66: 1.7701265345547439, 67: 1.7794615760440959, 68: 1.7894136833203493, 69: 1.7860095780897312, 70: 1.7956462165892073, 71: 1.823953141264657, 72: 1.7759683641106356, 73: 1.7706616544229385, 74: 1.7531179040870197, 75: 1.7441780772455018, 76: 1.7937307462301939, 77: 1.7995396967560584, 78: 1.8010738236624801, 79: 1.8291798504058205, 80: 1.7783103721078151, 81: 1.7754648301621549, 82: 1.7978696564895886, 83: 1.7768938383377273, 84: 1.778565906384022, 85: 1.8040629266388208, 86: 1.7964186623174438, 87: 1.7947720904069007, 88: 1.8373125507926513, 89: 1.7634793327837994, 90: 1.7608140370567185, 91: 1.7768556982113681, 92: 1.7746452333753877, 93: 1.7883049167302678, 94: 1.7835184961922055, 95: 1.8191326601975961, 96: 1.7814295251021419, 97: 1.8072902392813686, 98: 1.7940274215156413, 99: 1.7967291052495449}\n",
      "Run AWiAMTYQMEaT9KPSX8xG - seed 22\n",
      "Minimum average overhead: 1.73606119604\n",
      "Found in iteration: 37\n",
      "With configuration: \n",
      "{   u'average_edge_duration_factor': 1.08,\n",
      "    u'exploration_percentage': 0.15,\n",
      "    u'freshness_cut_off_value': 277,\n",
      "    u'freshness_update_factor': 7,\n",
      "    u'max_speed_and_length_factor': 1.09,\n",
      "    u're_route_every_ticks': 21,\n",
      "    u'route_random_sigma': 0.15}\n",
      "*********************\n",
      "\n",
      "100\n"
     ]
    },
    {
     "name": "stdout",
     "output_type": "stream",
     "text": [
      "{0: 1.7590747689886272, 1: 1.7881322757987208, 2: 1.7550199752974656, 3: 1.772158477427523, 4: 1.7949095247395908, 5: 1.8074876112279541, 6: 1.7970005888558969, 7: 1.7622497678042659, 8: 1.7973540932519674, 9: 1.8384299583265202, 10: 1.7476306072236836, 11: 1.8002942276418874, 12: 1.7933296338337232, 13: 1.7575287861478497, 14: 1.7577499158564318, 15: 1.773353504621169, 16: 1.7681795140129903, 17: 1.804955924307734, 18: 1.7878229767634526, 19: 1.8500346209864604, 20: 1.7957095155409144, 21: 1.7543103630057693, 22: 1.8026046708571077, 23: 1.8071499985823196, 24: 1.7666602164593093, 25: 1.8085689635506372, 26: 1.8171790115485604, 27: 1.7763724265692862, 28: 1.7906967641293383, 29: 1.7671133799905037, 30: 1.7657865599518177, 31: 1.7833516649528298, 32: 1.7532620680127551, 33: 1.8152628539852831, 34: 1.7716742716194573, 35: 1.7611124465963688, 36: 1.7738252748476331, 37: 1.7686056916075563, 38: 1.8173040314763385, 39: 1.8000105897056238, 40: 1.8242352370433705, 41: 1.8070576134927505, 42: 1.7233729721308417, 43: 1.7598652294080828, 44: 1.7603108422048146, 45: 1.7715949723306275, 46: 1.8237489297005567, 47: 1.7586507998347101, 48: 1.8058031927411011, 49: 1.7600172688963853, 50: 1.783211119436819, 51: 1.8537580887844189, 52: 1.779349810703007, 53: 1.7543389730199401, 54: 1.8053596959200542, 55: 1.7601991976916287, 56: 1.7804920215805538, 57: 1.7893241776000433, 58: 1.7987637097348939, 59: 1.7620723249248429, 60: 1.7665500306226611, 61: 1.7393247819952351, 62: 1.7745779348681299, 63: 1.8044189399969877, 64: 1.8191259794994774, 65: 1.7603255450806747, 66: 1.840775798634279, 67: 1.7435313690450636, 68: 1.7625546602386515, 69: 1.7517409452859807, 70: 1.7621572411517052, 71: 1.7825339140596108, 72: 1.7545975410841326, 73: 1.8488721940171622, 74: 1.7765975802160761, 75: 1.782615846245412, 76: 1.7882122494831971, 77: 1.736415144039489, 78: 1.8075090710930348, 79: 1.8104523793329212, 80: 1.8001560284273932, 81: 1.7856348063788456, 82: 1.808370560041179, 83: 1.826980338328043, 84: 1.8161604454425593, 85: 1.8028524225196219, 86: 1.7542959555663524, 87: 1.7773351085734796, 88: 1.7633728430678937, 89: 1.8010443018962632, 90: 1.7815718372591896, 91: 1.7869009891270173, 92: 1.8209883012397856, 93: 1.8033517575858762, 94: 1.8123073528180016, 95: 1.7472190940466272, 96: 1.7821426998083436, 97: 1.8113294984606001, 98: 1.8620753746375311, 99: 1.7898052754293949}\n",
      "Run AWiAMV1HMEaT9KPSX8zb - seed 23\n",
      "Minimum average overhead: 1.72337297213\n",
      "Found in iteration: 42\n",
      "With configuration: \n",
      "{   u'average_edge_duration_factor': 1.61,\n",
      "    u'exploration_percentage': 0.07,\n",
      "    u'freshness_cut_off_value': 686,\n",
      "    u'freshness_update_factor': 10,\n",
      "    u'max_speed_and_length_factor': 1.12,\n",
      "    u're_route_every_ticks': 45,\n",
      "    u'route_random_sigma': 0.07}\n",
      "*********************\n",
      "\n",
      "100\n",
      "{0: 1.8067869020964837, 1: 1.8504169193707916, 2: 1.7879440752735929, 3: 1.7585987655541995, 4: 1.7873409560212363, 5: 1.7993309948204359, 6: 1.822099413864356, 7: 1.7790740150331086, 8: 1.8146433615059154, 9: 1.8354561852471794, 10: 1.8359122539828425, 11: 1.7819316018909566, 12: 1.8240284143457892, 13: 1.8246936157751312, 14: 1.8163019756573557, 15: 1.8048679593398411, 16: 1.8316559478577366, 17: 1.8147767551429839, 18: 1.8008755392286886, 19: 1.8368180804385055, 20: 1.8168336853793596, 21: 1.797450689006034, 22: 1.8653398536716908, 23: 1.8514051225881412, 24: 1.8177997228041627, 25: 1.7875532391279492, 26: 1.8027460312143573, 27: 1.7765228318615112, 28: 1.7885635772210888, 29: 1.8030719929940693, 30: 1.8149088634364852, 31: 1.8291834627210555, 32: 1.8181659081275181, 33: 1.7913002449742588, 34: 1.7622332539478136, 35: 1.7875131044203145, 36: 1.8082596995760538, 37: 1.8325047092764366, 38: 1.81375951292209, 39: 1.7631029600778776, 40: 1.8194471926767237, 41: 1.7789938704887833, 42: 1.7816858964546776, 43: 1.8373951906940129, 44: 1.8150191692908593, 45: 1.8089559649604439, 46: 1.7816776934418077, 47: 1.8500681437168194, 48: 1.8311953953540885, 49: 1.7902136470184844, 50: 1.8229293844335437, 51: 1.7789006708494703, 52: 1.7733324835370932, 53: 1.801105818276411, 54: 1.8247350328623602, 55: 1.806376163231787, 56: 1.8023811853010703, 57: 1.8052253183343485, 58: 1.8239214845906413, 59: 1.8005776999804854, 60: 1.8429460919300622, 61: 1.8168652344140566, 62: 1.7968711709493037, 63: 1.8013734273884114, 64: 1.7698407373157883, 65: 1.8958516943537771, 66: 1.7729166777723817, 67: 1.7849371260190288, 68: 1.8353197307515612, 69: 1.8227602888453107, 70: 1.893152574504914, 71: 1.8003461623988151, 72: 1.854947795001511, 73: 1.8311526424730951, 74: 1.7820987784433808, 75: 1.8222072748842504, 76: 1.8120365175173117, 77: 1.8530309362841109, 78: 1.772825088279407, 79: 1.7888807532799171, 80: 1.8161602647723292, 81: 1.8455149657355088, 82: 1.804259693144032, 83: 1.8050664989121914, 84: 1.8134828812239656, 85: 1.7896785750137967, 86: 1.8080441989519771, 87: 1.7952287092149366, 88: 1.7675824441981487, 89: 1.8335775140271031, 90: 1.8066034513376388, 91: 1.7968325966503347, 92: 1.8355862267969409, 93: 1.8015169169735699, 94: 1.8203372477522257, 95: 1.7772417203115201, 96: 1.7954635591575236, 97: 1.8043170806391706, 98: 1.8146797646992832, 99: 1.8331938496366675}\n",
      "Run AWiAMYR_MEaT9KPSX81w - seed 24\n",
      "Minimum average overhead: 1.75859876555\n",
      "Found in iteration: 3\n",
      "With configuration: \n",
      "{   u'average_edge_duration_factor': 1.76,\n",
      "    u'exploration_percentage': 0.25,\n",
      "    u'freshness_cut_off_value': 466,\n",
      "    u'freshness_update_factor': 13,\n",
      "    u'max_speed_and_length_factor': 2.06,\n",
      "    u're_route_every_ticks': 44,\n",
      "    u'route_random_sigma': 0.06}\n",
      "*********************\n",
      "\n",
      "100\n",
      "{0: 1.7774578737690976, 1: 1.7838847949636314, 2: 1.8254641612556501, 3: 1.7703229419456503, 4: 1.9029334572560539, 5: 1.7806915686602336, 6: 1.7887913310086543, 7: 1.7504011111681663, 8: 1.7867059254745921, 9: 1.7800256298597261, 10: 1.8346377757656454, 11: 1.78451237705913, 12: 1.7663686745780098, 13: 1.7468582984424854, 14: 1.8057181936652422, 15: 1.8186227780433502, 16: 1.8075727426177792, 17: 1.747783010610984, 18: 1.7598102870617103, 19: 1.7661977287598136, 20: 1.8086824072608616, 21: 1.7538221383135759, 22: 1.8114610634689765, 23: 1.7835623879591402, 24: 1.7391258564287608, 25: 1.8144862581965637, 26: 1.8302550235920534, 27: 1.7601547227468, 28: 1.7555240659576321, 29: 1.7460538946988344, 30: 1.8009434936000921, 31: 1.7962639441135142, 32: 1.7702848966556886, 33: 1.8061903687257459, 34: 1.7886743024993614, 35: 1.7749539900473013, 36: 1.7971650058789368, 37: 1.7656530566223392, 38: 1.869295467561239, 39: 1.7949411126197039, 40: 1.7943286807394514, 41: 1.8060443434329085, 42: 1.8306425571518998, 43: 1.8088920161819821, 44: 1.7632870549722961, 45: 1.8531637407010173, 46: 1.8294201889253214, 47: 1.772039763153554, 48: 1.7815936630629341, 49: 1.8128543326600026, 50: 1.8355097149626105, 51: 1.7835700031320085, 52: 1.7748615850225229, 53: 1.7843256094962998, 54: 1.7672101652151293, 55: 1.7739381649533719, 56: 1.7527642949742426, 57: 1.7709589855359398, 58: 1.7790242629164634, 59: 1.7870350265634518, 60: 1.768744169120783, 61: 1.8175429545338666, 62: 1.7762969912561799, 63: 1.7644964356051693, 64: 1.7818222258030154, 65: 1.7715862101793616, 66: 1.7781556901831161, 67: 1.7931611794728677, 68: 1.760447394946262, 69: 1.785667242151427, 70: 1.857370923134753, 71: 1.8116492353289821, 72: 1.8849714560424309, 73: 1.7796142598822859, 74: 1.7845285987748829, 75: 1.7367728754982239, 76: 1.768737264586264, 77: 1.7911915090320849, 78: 1.767227292985367, 79: 1.8035520505329679, 80: 1.7904753671307185, 81: 1.8268286718451927, 82: 1.8464816362923941, 83: 1.8423520723019526, 84: 1.834319919980723, 85: 1.7708084007497706, 86: 1.7571507238268946, 87: 1.9184975407136298, 88: 1.7978519022809754, 89: 1.842551774973664, 90: 1.7867941137789294, 91: 1.779347734324912, 92: 1.8384741759983416, 93: 1.7818308672175489, 94: 1.7928096582258952, 95: 1.759255803855343, 96: 1.8145484208458875, 97: 1.75226039349649, 98: 1.814156582196695, 99: 1.8066452311146153}\n",
      "Run AWiAMau7MEaT9KPSX84F - seed 25\n",
      "Minimum average overhead: 1.7367728755\n",
      "Found in iteration: 75\n",
      "With configuration: \n",
      "{   u'average_edge_duration_factor': 1.71,\n",
      "    u'exploration_percentage': 0.0,\n",
      "    u'freshness_cut_off_value': 304,\n",
      "    u'freshness_update_factor': 18,\n",
      "    u'max_speed_and_length_factor': 2.45,\n",
      "    u're_route_every_ticks': 10,\n",
      "    u'route_random_sigma': 0.11}\n",
      "*********************\n",
      "\n",
      "100\n"
     ]
    },
    {
     "name": "stdout",
     "output_type": "stream",
     "text": [
      "{0: 1.8282984626461518, 1: 1.8012756447332321, 2: 1.7760696232695372, 3: 1.7756581668056475, 4: 1.7714350360445548, 5: 1.7665641805415568, 6: 1.7614341703655592, 7: 1.7732375350301486, 8: 1.8087762467882873, 9: 1.8192057081612583, 10: 1.7570779686981877, 11: 1.7846425574601483, 12: 1.7722099797719744, 13: 1.7557285171277559, 14: 1.8342885245429483, 15: 1.7520509015566632, 16: 1.7968859398291555, 17: 1.8038622811974638, 18: 1.7626723054812667, 19: 1.764714016003043, 20: 1.7729563016468943, 21: 1.8028555507001642, 22: 1.7939983210867998, 23: 1.745383512584801, 24: 1.7639462351646267, 25: 1.786662528224702, 26: 1.7666963115532897, 27: 1.8277101100805528, 28: 1.788225671286751, 29: 1.7892280833331431, 30: 1.801062523540941, 31: 1.7924476359253863, 32: 1.8239860597132886, 33: 1.7522220307042797, 34: 1.7572152800370631, 35: 1.8406883981657254, 36: 1.7710583433627427, 37: 1.814866889212541, 38: 1.8042846169958255, 39: 1.8459445888514667, 40: 1.76682559745307, 41: 1.8144567211284863, 42: 1.7965933086098569, 43: 1.8045446805284551, 44: 1.7423870006575388, 45: 1.7864670334810733, 46: 1.7687497816700299, 47: 1.8257629562992519, 48: 1.7921877137203963, 49: 1.7825020513210239, 50: 1.7869241802027696, 51: 1.7806140501349379, 52: 1.8135790892620451, 53: 1.7879643466573552, 54: 1.772752259779993, 55: 1.7879375562389963, 56: 1.8068211525997271, 57: 1.8417967836202807, 58: 1.775593703398024, 59: 1.7801603818092722, 60: 1.8057509559922114, 61: 1.8087358274766663, 62: 1.8380356766394008, 63: 1.8165879560884106, 64: 1.7744214922493877, 65: 1.8160181764366863, 66: 1.763913866741271, 67: 1.8052995073553546, 68: 1.7985467879706794, 69: 1.7922404180365814, 70: 1.7834707775273011, 71: 1.7947809313636331, 72: 1.7676645022791873, 73: 1.79661860419145, 74: 1.8101093668423822, 75: 1.7828475396807717, 76: 1.771537740944815, 77: 1.7594444938095388, 78: 1.7890927656771798, 79: 1.7547154251667838, 80: 1.8265548380231347, 81: 1.8144176589542211, 82: 1.7757932118693425, 83: 1.7829872586184852, 84: 1.792712963402572, 85: 1.7857589952225505, 86: 1.7991718820230489, 87: 1.7936894280978202, 88: 1.7950990471955055, 89: 1.8240916596709431, 90: 1.7733157770554466, 91: 1.7586000396873938, 92: 1.7485461533279312, 93: 1.8129547897840144, 94: 1.774962908005868, 95: 1.7917070236243642, 96: 1.81037073607173, 97: 1.7819090432718994, 98: 1.7804761065030943, 99: 1.8296978015126169}\n",
      "Run AWiAMdLIMEaT9KPSX86a - seed 26\n",
      "Minimum average overhead: 1.74238700066\n",
      "Found in iteration: 44\n",
      "With configuration: \n",
      "{   u'average_edge_duration_factor': 2.33,\n",
      "    u'exploration_percentage': 0.03,\n",
      "    u'freshness_cut_off_value': 250,\n",
      "    u'freshness_update_factor': 8,\n",
      "    u'max_speed_and_length_factor': 2.31,\n",
      "    u're_route_every_ticks': 46,\n",
      "    u'route_random_sigma': 0.1}\n",
      "*********************\n",
      "\n",
      "100\n",
      "{0: 1.7750511534418862, 1: 1.7640556432939622, 2: 1.8325343871484692, 3: 1.7724222037210988, 4: 1.8845226462901061, 5: 1.7880642676858027, 6: 1.8298060616154606, 7: 1.8197634743790243, 8: 1.8014379474401161, 9: 1.7730771874049365, 10: 1.7680146977964752, 11: 1.780871165928537, 12: 1.7869438386521932, 13: 1.8211641102498886, 14: 1.797248848040979, 15: 1.7463146012920405, 16: 1.8198867910375032, 17: 1.7579782503839709, 18: 1.7815499906704784, 19: 1.769586935114656, 20: 1.7686988261071617, 21: 1.7523157099165823, 22: 1.8025466830665173, 23: 1.8008165476234881, 24: 1.7842248687217321, 25: 1.7794869236087147, 26: 1.8025466855905796, 27: 1.8083656270602475, 28: 1.7803659982225115, 29: 1.7953629750696112, 30: 1.7670623159038565, 31: 1.7781206085984886, 32: 1.7663922566489794, 33: 1.8055673503315164, 34: 1.8376488567831031, 35: 1.7656054523958533, 36: 1.7950051389668267, 37: 1.7838468408014327, 38: 1.7823830677434249, 39: 1.7832375435122325, 40: 1.7916193389028843, 41: 1.7855152140759838, 42: 1.7714689055578587, 43: 1.7915058281987268, 44: 1.7821110187350344, 45: 1.7624626572019235, 46: 1.8142625443689722, 47: 1.7760803594415884, 48: 1.8358571903728282, 49: 1.7751211917163994, 50: 1.8768605211453622, 51: 1.7616290968074979, 52: 1.777777924260161, 53: 1.7697663538006985, 54: 1.7859502797501234, 55: 1.8152881606389972, 56: 1.7534077283508287, 57: 1.7613729405261616, 58: 1.7661552090565569, 59: 1.7557809627095979, 60: 1.805515763674181, 61: 1.801522323403848, 62: 1.769817967246649, 63: 1.7882535547260701, 64: 1.8569343144416721, 65: 1.7762278388183061, 66: 1.8374080367584857, 67: 1.7955006954712034, 68: 1.7556356108419608, 69: 1.8197861381306479, 70: 1.7764724279833988, 71: 1.7531727811763975, 72: 1.8341319257840096, 73: 1.8022146720296368, 74: 1.7865324587309885, 75: 1.7675627608434297, 76: 1.7490515543902365, 77: 1.808445904581252, 78: 1.8353838889624137, 79: 1.8468868629883353, 80: 1.7692370286026089, 81: 1.7775042144986986, 82: 1.7547599790017143, 83: 1.7561199178996889, 84: 1.765903305987689, 85: 1.7851464551011378, 86: 1.776373400629776, 87: 1.781787871435655, 88: 1.7740017235452727, 89: 1.8664268792690861, 90: 1.7619727415774054, 91: 1.781357405551897, 92: 1.7534916620566254, 93: 1.7957100678649174, 94: 1.8462411134719316, 95: 1.8094359397397641, 96: 1.7933445738017271, 97: 1.7956279434858617, 98: 1.7887477502866929, 99: 1.7770223479330736}\n",
      "Run AWiAMfm3MEaT9KPSX88v - seed 27\n",
      "Minimum average overhead: 1.74631460129\n",
      "Found in iteration: 15\n",
      "With configuration: \n",
      "{   u'average_edge_duration_factor': 1.92,\n",
      "    u'exploration_percentage': 0.04,\n",
      "    u'freshness_cut_off_value': 295,\n",
      "    u'freshness_update_factor': 5,\n",
      "    u'max_speed_and_length_factor': 1.6,\n",
      "    u're_route_every_ticks': 15,\n",
      "    u'route_random_sigma': 0.09}\n",
      "*********************\n",
      "\n",
      "100\n",
      "{0: 1.7905376628116194, 1: 1.7525347957956285, 2: 1.7880017610000991, 3: 1.7441618130430503, 4: 1.7275558731223903, 5: 1.7875524720140681, 6: 1.7771321322877986, 7: 1.8023861028013208, 8: 1.7788889678295743, 9: 1.7827616289672754, 10: 1.8020349816887771, 11: 1.7752225316100216, 12: 1.7639601530586846, 13: 1.8040558201533095, 14: 1.8485625529489618, 15: 1.7781090970392301, 16: 1.7999941489748583, 17: 1.8146348259015197, 18: 1.7602631265416862, 19: 1.7802915442248952, 20: 1.7947288808050765, 21: 1.8129983869937987, 22: 1.8320195834191777, 23: 1.7668892466649537, 24: 1.7741715212134346, 25: 1.8029463934593208, 26: 1.7662142227249198, 27: 1.7705558491198012, 28: 1.8043692858136491, 29: 1.7704284736713176, 30: 1.7997576691728552, 31: 1.8057364265082445, 32: 1.7514368407837391, 33: 1.7895722130343492, 34: 1.803002231586349, 35: 1.8100936389002251, 36: 1.7770803020603656, 37: 1.8033281045100182, 38: 1.7715355464520766, 39: 1.7896074629209238, 40: 1.8018598019870014, 41: 1.7749788713131558, 42: 1.7693227319448612, 43: 1.797298463972903, 44: 1.7764181166218775, 45: 1.8172738348366932, 46: 1.8253612479858896, 47: 1.7872257713428883, 48: 1.8681593092661088, 49: 1.7823506076345461, 50: 1.8232668740142137, 51: 1.8084043123465181, 52: 1.7546575743264872, 53: 1.755481478581093, 54: 1.7411245393649399, 55: 1.7878914863463695, 56: 1.7728848086833824, 57: 1.7778253301645113, 58: 1.7769804684084916, 59: 1.7992251977078282, 60: 1.760982626671683, 61: 1.7688904736811899, 62: 1.7892281272917987, 63: 1.7934577449714642, 64: 1.7771398725876, 65: 1.7717956116253222, 66: 1.7564931476858616, 67: 1.7808356680959427, 68: 1.8157642726943792, 69: 1.79614898113251, 70: 1.766845484199101, 71: 1.8117240310476832, 72: 1.7682420504111083, 73: 1.8301561407288311, 74: 1.8062659388894107, 75: 1.7538663378306483, 76: 1.7866098790884695, 77: 1.7833191750960224, 78: 1.7393693146926934, 79: 1.7486857860085701, 80: 1.8217704667953276, 81: 1.8009086516029513, 82: 1.805422490570866, 83: 1.8441763070731161, 84: 1.8837186761874938, 85: 1.8074878474849378, 86: 1.8080115335054987, 87: 1.7880896866882376, 88: 1.7698892300794595, 89: 1.8044578621991902, 90: 1.7696732440412317, 91: 1.7486348630848798, 92: 1.7792546601521269, 93: 1.7768706793806073, 94: 1.752783192256758, 95: 1.8034786753033638, 96: 1.8345000957985074, 97: 1.8208027827398181, 98: 1.7752607047806044, 99: 1.8004186681814549}\n",
      "Run AWiAMiFLMEaT9KPSX8_F - seed 28\n",
      "Minimum average overhead: 1.72755587312\n",
      "Found in iteration: 4\n",
      "With configuration: \n",
      "{   u'average_edge_duration_factor': 2.15,\n",
      "    u'exploration_percentage': 0.2,\n",
      "    u'freshness_cut_off_value': 192,\n",
      "    u'freshness_update_factor': 7,\n",
      "    u'max_speed_and_length_factor': 2.06,\n",
      "    u're_route_every_ticks': 46,\n",
      "    u'route_random_sigma': 0.24}\n",
      "*********************\n",
      "\n",
      "100\n"
     ]
    },
    {
     "name": "stdout",
     "output_type": "stream",
     "text": [
      "{0: 1.8112388149870071, 1: 1.7733756392384625, 2: 1.8578272852479947, 3: 1.7850284481945982, 4: 1.7438466081708837, 5: 1.8447432395336523, 6: 1.799312488399629, 7: 1.7926134872959942, 8: 1.7748652227285466, 9: 1.7715462775517505, 10: 1.8136060557978424, 11: 1.774177127211251, 12: 1.7841741738879409, 13: 1.7792761069665122, 14: 1.7938032349763546, 15: 1.776339516568642, 16: 1.7572612343672742, 17: 1.7557621521789508, 18: 1.7793512357592269, 19: 1.7919818259572395, 20: 1.7740773403322212, 21: 1.7583202301921141, 22: 1.7903473724974326, 23: 1.8276605414053788, 24: 1.7678671835053437, 25: 1.7804375182042991, 26: 1.7919791892583359, 27: 1.835415042225099, 28: 1.7938660936104796, 29: 1.7496513205063595, 30: 1.7811265150132343, 31: 1.7866806715054977, 32: 1.832262255986798, 33: 1.77387676169658, 34: 1.797672701693364, 35: 1.7777082732422445, 36: 1.8061505257726327, 37: 1.8029812901348894, 38: 1.7977594132617014, 39: 1.7478477183234546, 40: 1.7670421162678234, 41: 1.8081117098986106, 42: 1.7747922965647092, 43: 1.7869500277381856, 44: 1.7794767306812078, 45: 1.7903322438960223, 46: 1.7529758817975745, 47: 1.7822849862765056, 48: 1.7647869261107338, 49: 1.7598491206670377, 50: 1.7732825608555911, 51: 1.7792679754008274, 52: 1.7617319767320809, 53: 1.7509143239105689, 54: 1.8257223119850801, 55: 1.9125347404237014, 56: 1.8030191478782716, 57: 1.8028790571082915, 58: 1.7644415910356519, 59: 1.7797726268742062, 60: 1.767379101263838, 61: 1.7807872610338877, 62: 1.7778879992335246, 63: 1.7649537219708018, 64: 1.7772141686339011, 65: 1.8116177892943073, 66: 1.7769078954088497, 67: 1.7775573407026659, 68: 1.8380853868433522, 69: 1.7909483847372549, 70: 1.7747882008289335, 71: 1.7738894166706658, 72: 1.7650637266424229, 73: 1.7672748359467583, 74: 1.7514377576786058, 75: 1.7831526028578446, 76: 1.7954017637780755, 77: 1.7782714920453, 78: 1.7840670418351827, 79: 1.8093034923907227, 80: 1.8242576980916587, 81: 1.8062034576774546, 82: 1.765796399162076, 83: 1.771080655750904, 84: 1.7530152167735835, 85: 1.8041222259771121, 86: 1.7632915539839533, 87: 1.7473125849871609, 88: 1.7718040668127637, 89: 1.8467850022989964, 90: 1.7495531344243376, 91: 1.762305845199601, 92: 1.8379327817702011, 93: 1.8305180792949876, 94: 1.7959855670142941, 95: 1.7665772485163564, 96: 1.7763338135240578, 97: 1.7941248389353734, 98: 1.7902790540337676, 99: 1.8008558442597364}\n",
      "Run AWiAMkgJMEaT9KPSX9Bc - seed 29\n",
      "Minimum average overhead: 1.74384660817\n",
      "Found in iteration: 4\n",
      "With configuration: \n",
      "{   u'average_edge_duration_factor': 2.07,\n",
      "    u'exploration_percentage': 0.12,\n",
      "    u'freshness_cut_off_value': 667,\n",
      "    u'freshness_update_factor': 7,\n",
      "    u'max_speed_and_length_factor': 1.5,\n",
      "    u're_route_every_ticks': 44,\n",
      "    u'route_random_sigma': 0.11}\n",
      "*********************\n",
      "\n",
      "100\n",
      "{0: 1.8299869776695421, 1: 1.811966315677165, 2: 1.8005713722585934, 3: 1.7920018153805077, 4: 1.8064124040866336, 5: 1.910669155633232, 6: 1.8216763468252561, 7: 1.8039619003961314, 8: 1.7858866758979952, 9: 1.8040233184667185, 10: 1.7936266835467956, 11: 1.8008177814028743, 12: 1.7994343610390702, 13: 1.8237226840272367, 14: 1.785160865098179, 15: 1.7918423233265486, 16: 1.8434002382328225, 17: 1.7676531593897102, 18: 1.7951512196156767, 19: 1.7904946926125427, 20: 1.8105012674426568, 21: 1.8040754884819588, 22: 1.813211835431416, 23: 1.8189192857862131, 24: 1.806061822019484, 25: 1.808989788964807, 26: 1.820986294016528, 27: 1.7545583359376382, 28: 1.7775709149653935, 29: 1.8040941969400708, 30: 1.7892266031962878, 31: 1.7911763474106592, 32: 1.8103728899336304, 33: 1.7762544087361898, 34: 1.7501145342658595, 35: 1.7902673168085799, 36: 1.8304847628630305, 37: 1.787279548043005, 38: 1.7988330355554127, 39: 1.7866049075466013, 40: 1.8380024610114858, 41: 1.8268207422385385, 42: 1.7737698709294805, 43: 1.7708753351671749, 44: 1.7603090124100795, 45: 1.8290858987783096, 46: 1.8362103168807646, 47: 1.8244544255761492, 48: 1.7588732469184651, 49: 1.7741457863146421, 50: 1.7950241277785615, 51: 1.8080249502591244, 52: 1.7902872116520003, 53: 1.7868938850302061, 54: 1.7912550729533323, 55: 1.7959969831002425, 56: 1.8420920491543806, 57: 1.7800269975915179, 58: 1.7696752021343876, 59: 1.8167183748160871, 60: 1.7853323743482226, 61: 1.7845316374359499, 62: 1.7799107860631245, 63: 1.7816048310040133, 64: 1.8157698894871814, 65: 1.7882662694876061, 66: 1.7640370704430677, 67: 1.7609947034246589, 68: 1.8141547770065138, 69: 1.7905437642420947, 70: 1.7988267767842754, 71: 1.7923618132396644, 72: 1.7801353395703823, 73: 1.8068978344348816, 74: 1.8258417123207962, 75: 1.8301100035189639, 76: 1.8171557158347613, 77: 1.8370163478726489, 78: 1.8264729145532417, 79: 1.8060768534342597, 80: 1.7718046048474803, 81: 1.8631957407345445, 82: 1.7809786036746715, 83: 1.8313089946923971, 84: 1.8219656774227122, 85: 1.7854850403110984, 86: 1.7667571088210146, 87: 1.8161991576840224, 88: 1.7954038822191019, 89: 1.7715024910470645, 90: 1.8167292706585483, 91: 1.7732059923063288, 92: 1.8090028792760546, 93: 1.7908389333933614, 94: 1.8043986558027598, 95: 1.8119168464798903, 96: 1.8113855486255248, 97: 1.7709406111738331, 98: 1.7960218810847721, 99: 1.7932215101180575}\n",
      "Run AWiAMm9HMEaT9KPSX9Dz - seed 30\n",
      "Minimum average overhead: 1.75011453427\n",
      "Found in iteration: 34\n",
      "With configuration: \n",
      "{   u'average_edge_duration_factor': 1.48,\n",
      "    u'exploration_percentage': 0.3,\n",
      "    u'freshness_cut_off_value': 622,\n",
      "    u'freshness_update_factor': 14,\n",
      "    u'max_speed_and_length_factor': 2.44,\n",
      "    u're_route_every_ticks': 24,\n",
      "    u'route_random_sigma': 0.02}\n",
      "*********************\n",
      "\n",
      "100\n",
      "{0: 1.7448469409256389, 1: 1.7822648518966044, 2: 1.7488048761415973, 3: 1.7810226896574517, 4: 1.8357722863178558, 5: 1.7827408678132854, 6: 1.7641159979806535, 7: 1.8018759681227079, 8: 1.8056470549927752, 9: 1.7736907089831853, 10: 1.8282855781272049, 11: 1.8573827732347397, 12: 1.8115858100162092, 13: 1.7745182761374476, 14: 1.8189870656539631, 15: 1.7840517163594682, 16: 1.7672267617790562, 17: 1.7929421562119441, 18: 1.7495075000543963, 19: 1.800081275111945, 20: 1.7725189412049815, 21: 1.8440408126415972, 22: 1.7976728619879854, 23: 1.8080261369150583, 24: 1.8015582521984845, 25: 1.8153390501150051, 26: 1.7802515098113438, 27: 1.7932909033761315, 28: 1.7610612773592214, 29: 1.7920264924564373, 30: 1.8061615750447433, 31: 1.7791621386041883, 32: 1.8116266890835915, 33: 1.7631774207862567, 34: 1.7572752334598998, 35: 1.8557679914496246, 36: 1.7978862127841213, 37: 1.7774815008504934, 38: 1.8008737863928261, 39: 1.8156353955736377, 40: 1.7982093432862749, 41: 1.8215991481893659, 42: 1.7877599487283868, 43: 1.7861609753822807, 44: 1.8065022846081873, 45: 1.7538149468495103, 46: 1.7806976633747138, 47: 1.7824570778319342, 48: 1.770970344136779, 49: 1.8693881577711675, 50: 1.8326260440533817, 51: 1.802113673432008, 52: 1.865510863867015, 53: 1.783422811743318, 54: 1.8091560945225822, 55: 1.7483352051037633, 56: 1.8003320848883007, 57: 1.7558232330803498, 58: 1.7834470188159681, 59: 1.828292498872953, 60: 1.7615438630268945, 61: 1.8151636625792893, 62: 1.8013998133165143, 63: 1.7836632830680041, 64: 1.7916839297677303, 65: 1.8303284626499845, 66: 1.8060367861022413, 67: 1.7562995423637286, 68: 1.7536984381491802, 69: 1.784911350099347, 70: 1.7823201409026119, 71: 1.7679482699525864, 72: 1.856920450001373, 73: 1.7695946976782528, 74: 1.7858711547694737, 75: 1.8093117087394335, 76: 1.8747367970164666, 77: 1.7770697147374568, 78: 1.7575827751901205, 79: 1.7753296856759651, 80: 1.7671708114790883, 81: 1.7783375124043233, 82: 1.7883752264426316, 83: 1.7879876592610753, 84: 1.814110245419345, 85: 1.7713310586014182, 86: 1.8264395552767514, 87: 1.7772347847489942, 88: 1.7724790676575783, 89: 1.7621514100662339, 90: 1.7706767931838476, 91: 1.8078775223426491, 92: 1.7976206066465359, 93: 1.805544759639681, 94: 1.7657537839671069, 95: 1.8473188741952893, 96: 1.799537893609872, 97: 1.7875047409414342, 98: 1.7706569613767846, 99: 1.7896541617559807}\n",
      "Run AWiDJnJcMEaT9KPSazVs - seed 31\n",
      "Minimum average overhead: 1.74484694093\n",
      "Found in iteration: 0\n",
      "With configuration: \n",
      "{   u'average_edge_duration_factor': 2.38,\n",
      "    u'exploration_percentage': 0.25,\n",
      "    u'freshness_cut_off_value': 359,\n",
      "    u'freshness_update_factor': 16,\n",
      "    u'max_speed_and_length_factor': 2.25,\n",
      "    u're_route_every_ticks': 18,\n",
      "    u'route_random_sigma': 0.18}\n",
      "*********************\n",
      "\n"
     ]
    },
    {
     "data": {
      "image/png": "[encoded data removed]",
      "text/plain": [
       "<matplotlib.figure.Figure at 0x7f4664ca7b90>"
      ]
     },
     "metadata": {
      "needs_background": "light"
     },
     "output_type": "display_data"
    },
    {
     "data": {
      "image/png": "[encoded data removed]",
      "text/plain": [
       "<matplotlib.figure.Figure at 0x7f465e164e90>"
      ]
     },
     "metadata": {
      "needs_background": "light"
     },
     "output_type": "display_data"
    },
    {
     "data": {
      "image/png": "[encoded data removed]",
      "text/plain": [
       "<matplotlib.figure.Figure at 0x7f465e083f10>"
      ]
     },
     "metadata": {
      "needs_background": "light"
     },
     "output_type": "display_data"
    },
    {
     "data": {
      "image/png": "[encoded data removed]",
      "text/plain": [
       "<matplotlib.figure.Figure at 0x7f465e06be10>"
      ]
     },
     "metadata": {
      "needs_background": "light"
     },
     "output_type": "display_data"
    },
    {
     "data": {
      "image/png": "[encoded data removed]",
      "text/plain": [
       "<matplotlib.figure.Figure at 0x7f465dfd7f10>"
      ]
     },
     "metadata": {
      "needs_background": "light"
     },
     "output_type": "display_data"
    }
   ],
   "source": [
    "import matplotlib.pyplot as plt\n",
    "from numpy import var, std, mean, median\n",
    "import matplotlib as mpl\n",
    "mpl.rc(\"savefig\", dpi=450)\n",
    "import pprint\n",
    "\n",
    "pp = pprint.PrettyPrinter(indent=4)\n",
    "\n",
    "iterations = 10\n",
    "sample_size = 5000\n",
    "\n",
    "bests = dict()\n",
    "\n",
    "best_avg_overheads = list()\n",
    "best_iterations = list()\n",
    "best_knobs = dict()\n",
    "best_knobs['average_edge_duration_factor'] = list()\n",
    "best_knobs['exploration_percentage'] =       list()\n",
    "best_knobs['freshness_cut_off_value'] =      list()\n",
    "best_knobs['freshness_update_factor'] =      list()\n",
    "best_knobs['max_speed_and_length_factor'] =  list() \n",
    "best_knobs['re_route_every_ticks'] =         list() \n",
    "best_knobs['route_random_sigma'] =           list()\n",
    "\n",
    "for rtx_run in rtx_runs:\n",
    "   \n",
    "    data_for_run = [d[\"_source\"] for d in data if d[\"parent\"] == rtx_run[\"id\"]]\n",
    "    data_for_run.sort(key=lambda d : (d[\"iteration\"], d[\"individual\"]))\n",
    "    \n",
    "    print(len(data_for_run))\n",
    "#     assert len(data_for_run) == iterations\n",
    "    \n",
    "    iteration_to_avg_overhead = dict()\n",
    "    iteration_to_knobs_str = dict()\n",
    "    iteration_to_knobs = dict()\n",
    "    \n",
    "    for i in range(len(data_for_run)):\n",
    "        overheads_for_run = data_for_run[i][\"payload\"][\"overheads\"]\n",
    "#         assert len(overheads_for_run) == sample_size\n",
    "        if mean(overheads_for_run) > -1:\n",
    "            iteration_to_avg_overhead[i] = mean(overheads_for_run)       \n",
    "            iteration_to_knobs_str[i] = str(data_for_run[i][\"knobs\"])\n",
    "            iteration_to_knobs[i] = data_for_run[i][\"knobs\"]\n",
    "\n",
    "    iteration_of_min = min(iteration_to_avg_overhead, key=iteration_to_avg_overhead.get)\n",
    "    \n",
    "    print iteration_to_avg_overhead\n",
    "    \n",
    "    ##########################\n",
    "    overheads = [d[\"payload\"][\"overheads\"] for d in data_for_run]    \n",
    "    avg_overheads = [mean(dataset) for dataset in overheads]   \n",
    "    \n",
    "#     plt.plot(range(iterations), avg_overheads, 'bo')\n",
    "#     plt.ylabel('overheads of trips')\n",
    "#     plt.xlabel('Iterations')\n",
    "#     plt.show()\n",
    "    \n",
    "    #####  PARETO FRONT PLOT  ######\n",
    "#     pareto_front = []\n",
    "#     pareto_front.append(avg_overheads[0])\n",
    "#     for j in range(1, len(avg_overheads)):\n",
    "#         pareto_front.append(min(pareto_front[j-1],avg_overheads[j]))\n",
    "#     fig=plt.figure(figsize=(25, 10), dpi= 80, facecolor='w', edgecolor='k')\n",
    "#     plt.plot(range(iterations), pareto_front, 'o')\n",
    "#     plt.xticks(range(iterations))\n",
    "#     plt.grid(True)\n",
    "#     plt.ylabel('overheads of trips - PARETO')\n",
    "#     plt.xlabel('Iterations')\n",
    "#     plt.title(\"SEED \" + str(rtx_run[\"seed\"]))\n",
    "#     plt.show()\n",
    "    \n",
    "    #####  RESULTS FOR RUN  ######\n",
    "    print(\"Run \" + rtx_run[\"id\"] + \" - seed \" + str(rtx_run[\"seed\"]))\n",
    "    print(\"Minimum average overhead: \" + str(iteration_to_avg_overhead[iteration_of_min]))\n",
    "    print(\"Found in iteration: \" + str(iteration_of_min))\n",
    "    print(\"With configuration: \")\n",
    "    pp.pprint(eval(iteration_to_knobs_str[iteration_of_min]))\n",
    "    print \"*********************\\n\"\n",
    "    \n",
    "    best_avg_overheads.append(iteration_to_avg_overhead[iteration_of_min])\n",
    "    best_iterations.append(iteration_of_min)\n",
    "    \n",
    "    best_knob = iteration_to_knobs[iteration_of_min]\n",
    "    best_knobs['average_edge_duration_factor'].append(best_knob[\"average_edge_duration_factor\"])\n",
    "    best_knobs['exploration_percentage'].append(best_knob[\"exploration_percentage\"])\n",
    "    best_knobs['freshness_cut_off_value'].append(best_knob[\"freshness_cut_off_value\"])\n",
    "    best_knobs['freshness_update_factor'].append(best_knob[\"freshness_update_factor\"])\n",
    "    best_knobs['max_speed_and_length_factor'].append(best_knob[\"max_speed_and_length_factor\"])\n",
    "    best_knobs['re_route_every_ticks'].append(best_knob[\"re_route_every_ticks\"])\n",
    "    best_knobs['route_random_sigma'].append(best_knob[\"route_random_sigma\"])\n",
    "\n",
    "\n",
    "# fig=plt.figure(figsize=(25, 10), dpi= 80, facecolor='w', edgecolor='k')\n",
    "plt.plot(range(len(rtx_runs)), best_avg_overheads, 'o')\n",
    "plt.ylabel('best overheads')\n",
    "plt.xlabel('Seeds')\n",
    "plt.show()\n",
    "\n",
    "# fig=plt.figure(figsize=(25, 10), dpi= 80, facecolor='w', edgecolor='k')\n",
    "plt.plot(range(len(rtx_runs)), best_iterations, 'o')\n",
    "plt.ylabel('best iterations')\n",
    "plt.xlabel('Seeds')\n",
    "plt.show()\n",
    "\n",
    "plt.plot(range(len(rtx_runs)), best_knobs['average_edge_duration_factor'], 'o')\n",
    "plt.ylabel('average_edge_duration_factor')\n",
    "plt.xlabel('Seeds')\n",
    "plt.show()\n",
    "\n",
    "plt.plot(range(len(rtx_runs)), best_knobs['exploration_percentage'], 'o')\n",
    "plt.ylabel('exploration_percentage')\n",
    "plt.xlabel('Seeds')\n",
    "plt.show()\n",
    "\n",
    "plt.plot(range(len(rtx_runs)), best_knobs['freshness_cut_off_value'], 'o')\n",
    "plt.ylabel('freshness_cut_off_value')\n",
    "plt.xlabel('Seeds')\n",
    "plt.show()\n",
    "\n",
    "plt.plot(range(len(rtx_runs)), best_knobs['freshness_update_factor'], 'o')\n",
    "plt.ylabel('freshness_update_factor')\n",
    "plt.xlabel('Seeds')\n",
    "plt.show()\n",
    "\n",
    "plt.plot(range(len(rtx_runs)), best_knobs['max_speed_and_length_factor'], 'o')\n",
    "plt.ylabel('max_speed_and_length_factor')\n",
    "plt.xlabel('Seeds')\n",
    "plt.show()\n",
    "\n",
    "plt.plot(range(len(rtx_runs)), best_knobs['re_route_every_ticks'], 'o')\n",
    "plt.ylabel('re_route_every_ticks')\n",
    "plt.xlabel('Seeds')\n",
    "plt.show()\n",
    "\n",
    "plt.plot(range(len(rtx_runs)), best_knobs['route_random_sigma'], 'o')\n",
    "plt.ylabel('route_random_sigma')\n",
    "plt.xlabel('Seeds')\n",
    "plt.show()"
   ]
  },
  {
   "cell_type": "markdown",
   "metadata": {},
   "source": [
    "## Do some first plots - just for quick checking of a run"
   ]
  },
  {
   "cell_type": "code",
   "execution_count": 10,
   "metadata": {},
   "outputs": [
    {
     "name": "stdout",
     "output_type": "stream",
     "text": [
      "100\n"
     ]
    },
    {
     "data": {
      "image/png": "[encoded data removed]",
      "text/plain": [
       "<matplotlib.figure.Figure at 0x7fcd6f3f40d0>"
      ]
     },
     "metadata": {
      "needs_background": "light"
     },
     "output_type": "display_data"
    }
   ],
   "source": [
    "import matplotlib.pyplot as plt\n",
    "from numpy import var, std, mean, median\n",
    "import matplotlib as mpl\n",
    "mpl.rc(\"savefig\", dpi=150)\n",
    "\n",
    "rtx_run_id = \"AWg1D4Yg-DH7UHKUO4zo\"\n",
    "overheads = [d[\"_source\"][\"payload\"][\"overheads\"] for d in data if d[\"parent\"] == rtx_run_id]\n",
    "print(len(overheads))\n",
    "\n",
    "fig,ax = plt.subplots()\n",
    "ax.boxplot(overheads, 0, '', positions=range(len(overheads)))\n",
    "plt.ylabel('overheads of trips')\n",
    "plt.xlabel('Configurations')\n",
    "plt.show()"
   ]
  },
  {
   "cell_type": "code",
   "execution_count": null,
   "metadata": {
    "collapsed": true
   },
   "outputs": [],
   "source": []
  }
 ],
 "metadata": {
  "anaconda-cloud": {},
  "kernelspec": {
   "display_name": "Python 2",
   "language": "python",
   "name": "python2"
  },
  "language_info": {
   "codemirror_mode": {
    "name": "ipython",
    "version": 2
   },
   "file_extension": ".py",
   "mimetype": "text/x-python",
   "name": "python",
   "nbconvert_exporter": "python",
   "pygments_lexer": "ipython2",
   "version": "2.7.14"
  }
 },
 "nbformat": 4,
 "nbformat_minor": 1
}
