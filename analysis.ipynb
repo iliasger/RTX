{
 "cells": [
  {
   "cell_type": "markdown",
   "metadata": {},
   "source": [
    "## Load data\n"
   ]
  },
  {
   "cell_type": "code",
   "execution_count": 5,
   "metadata": {
    "collapsed": false,
    "scrolled": false
   },
   "outputs": [
    {
     "name": "stdout",
     "output_type": "stream",
     "text": [
      "Reading from index erik-gcp-random-rtx\n",
      "\u001b[36m> OEDA configuration: Using elasticsearch database.\u001b[39m\n",
      "data saved to file raw_data/erik-gcp-random-rtx.pickle\n"
     ]
    }
   ],
   "source": [
    "%matplotlib inline\n",
    "%reload_ext autoreload\n",
    "from notebooks_commons import get_raw_data\n",
    "\n",
    "# Here we specify the name of the index to read data from\n",
    "index = \"erik-gcp-random-rtx\" \n",
    "\n",
    "print \"Reading from index \" + index\n",
    "\n",
    "# The first time we want to download the data from an index (might take a while!), \n",
    "# we should put the next parameter to True. Then, we can set it to False to read the saved\n",
    "# data from the local pickle file.\n",
    "rtx_runs, data = get_raw_data(index, True)"
   ]
  },
  {
   "cell_type": "markdown",
   "metadata": {},
   "source": [
    "## Check what's in there"
   ]
  },
  {
   "cell_type": "code",
   "execution_count": 6,
   "metadata": {
    "collapsed": false,
    "scrolled": true
   },
   "outputs": [
    {
     "name": "stdout",
     "output_type": "stream",
     "text": [
      "There were 70 runs performed.\n"
     ]
    },
    {
     "data": {
      "text/markdown": [
       "<span style='color:red'>0 datasets collected for run with id AWgq88pl-DH7UHKUO4uZ (2019-01-08T00:54:06.639553)</span>"
      ],
      "text/plain": [
       "<IPython.core.display.Markdown object>"
      ]
     },
     "metadata": {},
     "output_type": "display_data"
    },
    {
     "data": {
      "text/markdown": [
       "<span style='color:red'>0 datasets collected for run with id AWgq8y30-DH7UHKUO4uR (2019-01-08T00:53:26.590997)</span>"
      ],
      "text/plain": [
       "<IPython.core.display.Markdown object>"
      ]
     },
     "metadata": {},
     "output_type": "display_data"
    },
    {
     "data": {
      "text/markdown": [
       "<span style='color:red'>0 datasets collected for run with id AWgq80GN-DH7UHKUO4uS (2019-01-08T00:53:31.607496)</span>"
      ],
      "text/plain": [
       "<IPython.core.display.Markdown object>"
      ]
     },
     "metadata": {},
     "output_type": "display_data"
    },
    {
     "data": {
      "text/markdown": [
       "<span style='color:red'>0 datasets collected for run with id AWgq82he-DH7UHKUO4uU (2019-01-08T00:53:41.544949)</span>"
      ],
      "text/plain": [
       "<IPython.core.display.Markdown object>"
      ]
     },
     "metadata": {},
     "output_type": "display_data"
    },
    {
     "data": {
      "text/markdown": [
       "<span style='color:red'>0 datasets collected for run with id AWgq83wv-DH7UHKUO4uV (2019-01-08T00:53:46.617482)</span>"
      ],
      "text/plain": [
       "<IPython.core.display.Markdown object>"
      ]
     },
     "metadata": {},
     "output_type": "display_data"
    },
    {
     "data": {
      "text/markdown": [
       "<span style='color:red'>0 datasets collected for run with id AWgq84-b-DH7UHKUO4uW (2019-01-08T00:53:51.589174)</span>"
      ],
      "text/plain": [
       "<IPython.core.display.Markdown object>"
      ]
     },
     "metadata": {},
     "output_type": "display_data"
    },
    {
     "data": {
      "text/markdown": [
       "<span style='color:red'>0 datasets collected for run with id AWgq86Nd-DH7UHKUO4uX (2019-01-08T00:53:56.647414)</span>"
      ],
      "text/plain": [
       "<IPython.core.display.Markdown object>"
      ]
     },
     "metadata": {},
     "output_type": "display_data"
    },
    {
     "data": {
      "text/markdown": [
       "<span style='color:red'>0 datasets collected for run with id AWgq8xsp-DH7UHKUO4uQ (2019-01-08T00:53:21.779333)</span>"
      ],
      "text/plain": [
       "<IPython.core.display.Markdown object>"
      ]
     },
     "metadata": {},
     "output_type": "display_data"
    },
    {
     "data": {
      "text/markdown": [
       "<span style='color:red'>0 datasets collected for run with id AWgq81Tw-DH7UHKUO4uT (2019-01-08T00:53:36.570906)</span>"
      ],
      "text/plain": [
       "<IPython.core.display.Markdown object>"
      ]
     },
     "metadata": {},
     "output_type": "display_data"
    },
    {
     "data": {
      "text/markdown": [
       "<span style='color:red'>0 datasets collected for run with id AWgq87b8-DH7UHKUO4uY (2019-01-08T00:54:01.670278)</span>"
      ],
      "text/plain": [
       "<IPython.core.display.Markdown object>"
      ]
     },
     "metadata": {},
     "output_type": "display_data"
    },
    {
     "data": {
      "text/markdown": [
       "<span style='color:red'>100 datasets collected for run with id AWgq9San-DH7UHKUO4uh (2019-01-08T00:55:35.793033)</span>"
      ],
      "text/plain": [
       "<IPython.core.display.Markdown object>"
      ]
     },
     "metadata": {},
     "output_type": "display_data"
    },
    {
     "data": {
      "text/markdown": [
       "<span style='color:red'>100 datasets collected for run with id AWgq9RL9-DH7UHKUO4uf (2019-01-08T00:55:30.757366)</span>"
      ],
      "text/plain": [
       "<IPython.core.display.Markdown object>"
      ]
     },
     "metadata": {},
     "output_type": "display_data"
    },
    {
     "data": {
      "text/markdown": [
       "<span style='color:red'>100 datasets collected for run with id AWgq9NYX-DH7UHKUO4ub (2019-01-08T00:55:15.169337)</span>"
      ],
      "text/plain": [
       "<IPython.core.display.Markdown object>"
      ]
     },
     "metadata": {},
     "output_type": "display_data"
    },
    {
     "data": {
      "text/markdown": [
       "<span style='color:red'>100 datasets collected for run with id AWgq9OmC-DH7UHKUO4uc (2019-01-08T00:55:20.140341)</span>"
      ],
      "text/plain": [
       "<IPython.core.display.Markdown object>"
      ]
     },
     "metadata": {},
     "output_type": "display_data"
    },
    {
     "data": {
      "text/markdown": [
       "<span style='color:red'>100 datasets collected for run with id AWgq9RCh-DH7UHKUO4ue (2019-01-08T00:55:30.155854)</span>"
      ],
      "text/plain": [
       "<IPython.core.display.Markdown object>"
      ]
     },
     "metadata": {},
     "output_type": "display_data"
    },
    {
     "data": {
      "text/markdown": [
       "<span style='color:red'>100 datasets collected for run with id AWgq9SRp-DH7UHKUO4ug (2019-01-08T00:55:35.219332)</span>"
      ],
      "text/plain": [
       "<IPython.core.display.Markdown object>"
      ]
     },
     "metadata": {},
     "output_type": "display_data"
    },
    {
     "data": {
      "text/markdown": [
       "<span style='color:red'>100 datasets collected for run with id AWgq9Tf1-DH7UHKUO4ui (2019-01-08T00:55:40.223515)</span>"
      ],
      "text/plain": [
       "<IPython.core.display.Markdown object>"
      ]
     },
     "metadata": {},
     "output_type": "display_data"
    },
    {
     "data": {
      "text/markdown": [
       "<span style='color:red'>100 datasets collected for run with id AWgq9MJo-DH7UHKUO4ua (2019-01-08T00:55:10.131223)</span>"
      ],
      "text/plain": [
       "<IPython.core.display.Markdown object>"
      ]
     },
     "metadata": {},
     "output_type": "display_data"
    },
    {
     "data": {
      "text/markdown": [
       "<span style='color:red'>100 datasets collected for run with id AWgq9P0I-DH7UHKUO4ud (2019-01-08T00:55:25.138396)</span>"
      ],
      "text/plain": [
       "<IPython.core.display.Markdown object>"
      ]
     },
     "metadata": {},
     "output_type": "display_data"
    },
    {
     "data": {
      "text/markdown": [
       "<span style='color:red'>100 datasets collected for run with id AWgq9XKG-DH7UHKUO4uo (2019-01-08T00:55:55.216275)</span>"
      ],
      "text/plain": [
       "<IPython.core.display.Markdown object>"
      ]
     },
     "metadata": {},
     "output_type": "display_data"
    },
    {
     "data": {
      "text/markdown": [
       "<span style='color:red'>100 datasets collected for run with id AWgq9XTL-DH7UHKUO4up (2019-01-08T00:55:55.797098)</span>"
      ],
      "text/plain": [
       "<IPython.core.display.Markdown object>"
      ]
     },
     "metadata": {},
     "output_type": "display_data"
    },
    {
     "data": {
      "text/markdown": [
       "<span style='color:red'>100 datasets collected for run with id AWgq9YZo-DH7UHKUO4uq (2019-01-08T00:56:00.306906)</span>"
      ],
      "text/plain": [
       "<IPython.core.display.Markdown object>"
      ]
     },
     "metadata": {},
     "output_type": "display_data"
    },
    {
     "data": {
      "text/markdown": [
       "<span style='color:red'>100 datasets collected for run with id AWgq9Yhj-DH7UHKUO4ur (2019-01-08T00:56:00.813173)</span>"
      ],
      "text/plain": [
       "<IPython.core.display.Markdown object>"
      ]
     },
     "metadata": {},
     "output_type": "display_data"
    },
    {
     "data": {
      "text/markdown": [
       "<span style='color:red'>100 datasets collected for run with id AWgq9Zww-DH7UHKUO4ut (2019-01-08T00:56:05.882856)</span>"
      ],
      "text/plain": [
       "<IPython.core.display.Markdown object>"
      ]
     },
     "metadata": {},
     "output_type": "display_data"
    },
    {
     "data": {
      "text/markdown": [
       "<span style='color:red'>100 datasets collected for run with id AWgq9U3g-DH7UHKUO4ul (2019-01-08T00:55:45.834927)</span>"
      ],
      "text/plain": [
       "<IPython.core.display.Markdown object>"
      ]
     },
     "metadata": {},
     "output_type": "display_data"
    },
    {
     "data": {
      "text/markdown": [
       "<span style='color:red'>100 datasets collected for run with id AWgq9ZnZ-DH7UHKUO4us (2019-01-08T00:56:05.253965)</span>"
      ],
      "text/plain": [
       "<IPython.core.display.Markdown object>"
      ]
     },
     "metadata": {},
     "output_type": "display_data"
    },
    {
     "data": {
      "text/markdown": [
       "<span style='color:red'>100 datasets collected for run with id AWgq9WFj-DH7UHKUO4un (2019-01-08T00:55:50.827339)</span>"
      ],
      "text/plain": [
       "<IPython.core.display.Markdown object>"
      ]
     },
     "metadata": {},
     "output_type": "display_data"
    },
    {
     "data": {
      "text/markdown": [
       "<span style='color:red'>100 datasets collected for run with id AWgq9Uuq-DH7UHKUO4uk (2019-01-08T00:55:45.268745)</span>"
      ],
      "text/plain": [
       "<IPython.core.display.Markdown object>"
      ]
     },
     "metadata": {},
     "output_type": "display_data"
    },
    {
     "data": {
      "text/markdown": [
       "<span style='color:red'>100 datasets collected for run with id AWgq9TpL-DH7UHKUO4uj (2019-01-08T00:55:40.821207)</span>"
      ],
      "text/plain": [
       "<IPython.core.display.Markdown object>"
      ]
     },
     "metadata": {},
     "output_type": "display_data"
    },
    {
     "data": {
      "text/markdown": [
       "<span style='color:red'>100 datasets collected for run with id AWgq9V8K-DH7UHKUO4um (2019-01-08T00:55:50.228967)</span>"
      ],
      "text/plain": [
       "<IPython.core.display.Markdown object>"
      ]
     },
     "metadata": {},
     "output_type": "display_data"
    },
    {
     "data": {
      "text/markdown": [
       "<span style='color:red'>100 datasets collected for run with id AWgq9eqh-DH7UHKUO4u1 (2019-01-08T00:56:25.963039)</span>"
      ],
      "text/plain": [
       "<IPython.core.display.Markdown object>"
      ]
     },
     "metadata": {},
     "output_type": "display_data"
    },
    {
     "data": {
      "text/markdown": [
       "<span style='color:red'>100 datasets collected for run with id AWgq9ez6-DH7UHKUO4u2 (2019-01-08T00:56:26.564521)</span>"
      ],
      "text/plain": [
       "<IPython.core.display.Markdown object>"
      ]
     },
     "metadata": {},
     "output_type": "display_data"
    },
    {
     "data": {
      "text/markdown": [
       "<span style='color:red'>100 datasets collected for run with id AWgq9a1t-DH7UHKUO4uu (2019-01-08T00:56:10.295833)</span>"
      ],
      "text/plain": [
       "<IPython.core.display.Markdown object>"
      ]
     },
     "metadata": {},
     "output_type": "display_data"
    },
    {
     "data": {
      "text/markdown": [
       "<span style='color:red'>100 datasets collected for run with id AWgq9a-m-DH7UHKUO4uv (2019-01-08T00:56:10.865020)</span>"
      ],
      "text/plain": [
       "<IPython.core.display.Markdown object>"
      ]
     },
     "metadata": {},
     "output_type": "display_data"
    },
    {
     "data": {
      "text/markdown": [
       "<span style='color:red'>100 datasets collected for run with id AWgq9ehA-DH7UHKUO4u0 (2019-01-08T00:56:25.354662)</span>"
      ],
      "text/plain": [
       "<IPython.core.display.Markdown object>"
      ]
     },
     "metadata": {},
     "output_type": "display_data"
    },
    {
     "data": {
      "text/markdown": [
       "<span style='color:red'>100 datasets collected for run with id AWgq9f4t-DH7UHKUO4u3 (2019-01-08T00:56:30.967807)</span>"
      ],
      "text/plain": [
       "<IPython.core.display.Markdown object>"
      ]
     },
     "metadata": {},
     "output_type": "display_data"
    },
    {
     "data": {
      "text/markdown": [
       "<span style='color:red'>100 datasets collected for run with id AWgq9cEd-DH7UHKUO4uw (2019-01-08T00:56:15.335152)</span>"
      ],
      "text/plain": [
       "<IPython.core.display.Markdown object>"
      ]
     },
     "metadata": {},
     "output_type": "display_data"
    },
    {
     "data": {
      "text/markdown": [
       "<span style='color:red'>100 datasets collected for run with id AWgq9cNy-DH7UHKUO4ux (2019-01-08T00:56:15.932754)</span>"
      ],
      "text/plain": [
       "<IPython.core.display.Markdown object>"
      ]
     },
     "metadata": {},
     "output_type": "display_data"
    },
    {
     "data": {
      "text/markdown": [
       "<span style='color:red'>100 datasets collected for run with id AWgq9dSQ-DH7UHKUO4uy (2019-01-08T00:56:20.314761)</span>"
      ],
      "text/plain": [
       "<IPython.core.display.Markdown object>"
      ]
     },
     "metadata": {},
     "output_type": "display_data"
    },
    {
     "data": {
      "text/markdown": [
       "<span style='color:red'>100 datasets collected for run with id AWgq9dcK-DH7UHKUO4uz (2019-01-08T00:56:20.948859)</span>"
      ],
      "text/plain": [
       "<IPython.core.display.Markdown object>"
      ]
     },
     "metadata": {},
     "output_type": "display_data"
    },
    {
     "data": {
      "text/markdown": [
       "<span style='color:red'>100 datasets collected for run with id AWgu5Kbz-DH7UHKUO4wc (2019-01-08T19:16:03.378326)</span>"
      ],
      "text/plain": [
       "<IPython.core.display.Markdown object>"
      ]
     },
     "metadata": {},
     "output_type": "display_data"
    },
    {
     "data": {
      "text/markdown": [
       "<span style='color:red'>100 datasets collected for run with id AWgu5KKq-DH7UHKUO4wb (2019-01-08T19:16:02.281419)</span>"
      ],
      "text/plain": [
       "<IPython.core.display.Markdown object>"
      ]
     },
     "metadata": {},
     "output_type": "display_data"
    },
    {
     "data": {
      "text/markdown": [
       "<span style='color:red'>100 datasets collected for run with id AWgu5KKq-DH7UHKUO4wa (2019-01-08T19:16:02.281647)</span>"
      ],
      "text/plain": [
       "<IPython.core.display.Markdown object>"
      ]
     },
     "metadata": {},
     "output_type": "display_data"
    },
    {
     "data": {
      "text/markdown": [
       "<span style='color:red'>100 datasets collected for run with id AWgu5URC-DH7UHKUO4wk (2019-01-08T19:16:43.649397)</span>"
      ],
      "text/plain": [
       "<IPython.core.display.Markdown object>"
      ]
     },
     "metadata": {},
     "output_type": "display_data"
    },
    {
     "data": {
      "text/markdown": [
       "<span style='color:red'>100 datasets collected for run with id AWgu5VgB-DH7UHKUO4wl (2019-01-08T19:16:48.703887)</span>"
      ],
      "text/plain": [
       "<IPython.core.display.Markdown object>"
      ]
     },
     "metadata": {},
     "output_type": "display_data"
    },
    {
     "data": {
      "text/markdown": [
       "<span style='color:red'>100 datasets collected for run with id AWgu5Lpn-DH7UHKUO4wd (2019-01-08T19:16:08.359284)</span>"
      ],
      "text/plain": [
       "<IPython.core.display.Markdown object>"
      ]
     },
     "metadata": {},
     "output_type": "display_data"
    },
    {
     "data": {
      "text/markdown": [
       "<span style='color:red'>100 datasets collected for run with id AWgu5OIG-DH7UHKUO4wf (2019-01-08T19:16:18.501951)</span>"
      ],
      "text/plain": [
       "<IPython.core.display.Markdown object>"
      ]
     },
     "metadata": {},
     "output_type": "display_data"
    },
    {
     "data": {
      "text/markdown": [
       "<span style='color:red'>100 datasets collected for run with id AWgu5PVu-DH7UHKUO4wg (2019-01-08T19:16:23.469386)</span>"
      ],
      "text/plain": [
       "<IPython.core.display.Markdown object>"
      ]
     },
     "metadata": {},
     "output_type": "display_data"
    },
    {
     "data": {
      "text/markdown": [
       "<span style='color:red'>100 datasets collected for run with id AWgu5QlB-DH7UHKUO4wh (2019-01-08T19:16:28.544647)</span>"
      ],
      "text/plain": [
       "<IPython.core.display.Markdown object>"
      ]
     },
     "metadata": {},
     "output_type": "display_data"
    },
    {
     "data": {
      "text/markdown": [
       "<span style='color:red'>100 datasets collected for run with id AWgu5Rya-DH7UHKUO4wi (2019-01-08T19:16:33.497471)</span>"
      ],
      "text/plain": [
       "<IPython.core.display.Markdown object>"
      ]
     },
     "metadata": {},
     "output_type": "display_data"
    },
    {
     "data": {
      "text/markdown": [
       "<span style='color:red'>100 datasets collected for run with id AWgu5M4--DH7UHKUO4we (2019-01-08T19:16:13.437062)</span>"
      ],
      "text/plain": [
       "<IPython.core.display.Markdown object>"
      ]
     },
     "metadata": {},
     "output_type": "display_data"
    },
    {
     "data": {
      "text/markdown": [
       "<span style='color:red'>100 datasets collected for run with id AWgu5TBb-DH7UHKUO4wj (2019-01-08T19:16:38.554653)</span>"
      ],
      "text/plain": [
       "<IPython.core.display.Markdown object>"
      ]
     },
     "metadata": {},
     "output_type": "display_data"
    },
    {
     "data": {
      "text/markdown": [
       "<span style='color:red'>100 datasets collected for run with id AWgu5WuA-DH7UHKUO4wm (2019-01-08T19:16:53.695629)</span>"
      ],
      "text/plain": [
       "<IPython.core.display.Markdown object>"
      ]
     },
     "metadata": {},
     "output_type": "display_data"
    },
    {
     "data": {
      "text/markdown": [
       "<span style='color:red'>100 datasets collected for run with id AWgu5X8i-DH7UHKUO4wn (2019-01-08T19:16:58.721037)</span>"
      ],
      "text/plain": [
       "<IPython.core.display.Markdown object>"
      ]
     },
     "metadata": {},
     "output_type": "display_data"
    },
    {
     "data": {
      "text/markdown": [
       "<span style='color:red'>100 datasets collected for run with id AWgu5ZLR-DH7UHKUO4wo (2019-01-08T19:17:03.759750)</span>"
      ],
      "text/plain": [
       "<IPython.core.display.Markdown object>"
      ]
     },
     "metadata": {},
     "output_type": "display_data"
    },
    {
     "data": {
      "text/markdown": [
       "<span style='color:red'>100 datasets collected for run with id AWgu5lFX-DH7UHKUO4wp (2019-01-08T19:17:52.546055)</span>"
      ],
      "text/plain": [
       "<IPython.core.display.Markdown object>"
      ]
     },
     "metadata": {},
     "output_type": "display_data"
    },
    {
     "data": {
      "text/markdown": [
       "<span style='color:red'>100 datasets collected for run with id AWgu5mY3-DH7UHKUO4wr (2019-01-08T19:17:57.889730)</span>"
      ],
      "text/plain": [
       "<IPython.core.display.Markdown object>"
      ]
     },
     "metadata": {},
     "output_type": "display_data"
    },
    {
     "data": {
      "text/markdown": [
       "<span style='color:red'>100 datasets collected for run with id AWgu5nmr-DH7UHKUO4ws (2019-01-08T19:18:02.870519)</span>"
      ],
      "text/plain": [
       "<IPython.core.display.Markdown object>"
      ]
     },
     "metadata": {},
     "output_type": "display_data"
    },
    {
     "data": {
      "text/markdown": [
       "<span style='color:red'>100 datasets collected for run with id AWgu5qEJ-DH7UHKUO4wu (2019-01-08T19:18:12.948331)</span>"
      ],
      "text/plain": [
       "<IPython.core.display.Markdown object>"
      ]
     },
     "metadata": {},
     "output_type": "display_data"
    },
    {
     "data": {
      "text/markdown": [
       "<span style='color:red'>100 datasets collected for run with id AWgu5lKg-DH7UHKUO4wq (2019-01-08T19:17:52.875452)</span>"
      ],
      "text/plain": [
       "<IPython.core.display.Markdown object>"
      ]
     },
     "metadata": {},
     "output_type": "display_data"
    },
    {
     "data": {
      "text/markdown": [
       "<span style='color:red'>100 datasets collected for run with id AWgu5o1N-DH7UHKUO4wt (2019-01-08T19:18:07.896415)</span>"
      ],
      "text/plain": [
       "<IPython.core.display.Markdown object>"
      ]
     },
     "metadata": {},
     "output_type": "display_data"
    },
    {
     "data": {
      "text/markdown": [
       "<span style='color:red'>100 datasets collected for run with id AWgu5u9v-DH7UHKUO4wy (2019-01-08T19:18:33.017885)</span>"
      ],
      "text/plain": [
       "<IPython.core.display.Markdown object>"
      ]
     },
     "metadata": {},
     "output_type": "display_data"
    },
    {
     "data": {
      "text/markdown": [
       "<span style='color:red'>100 datasets collected for run with id AWgu5sgN-DH7UHKUO4ww (2019-01-08T19:18:22.935928)</span>"
      ],
      "text/plain": [
       "<IPython.core.display.Markdown object>"
      ]
     },
     "metadata": {},
     "output_type": "display_data"
    },
    {
     "data": {
      "text/markdown": [
       "<span style='color:red'>100 datasets collected for run with id AWgu5twF-DH7UHKUO4wx (2019-01-08T19:18:28.048310)</span>"
      ],
      "text/plain": [
       "<IPython.core.display.Markdown object>"
      ]
     },
     "metadata": {},
     "output_type": "display_data"
    },
    {
     "data": {
      "text/markdown": [
       "<span style='color:red'>100 datasets collected for run with id AWgu5wL_-DH7UHKUO4wz (2019-01-08T19:18:38.025867)</span>"
      ],
      "text/plain": [
       "<IPython.core.display.Markdown object>"
      ]
     },
     "metadata": {},
     "output_type": "display_data"
    },
    {
     "data": {
      "text/markdown": [
       "<span style='color:red'>100 datasets collected for run with id AWgu5xa8-DH7UHKUO4w0 (2019-01-08T19:18:43.078913)</span>"
      ],
      "text/plain": [
       "<IPython.core.display.Markdown object>"
      ]
     },
     "metadata": {},
     "output_type": "display_data"
    },
    {
     "data": {
      "text/markdown": [
       "<span style='color:red'>100 datasets collected for run with id AWgu5yo1-DH7UHKUO4w1 (2019-01-08T19:18:48.064793)</span>"
      ],
      "text/plain": [
       "<IPython.core.display.Markdown object>"
      ]
     },
     "metadata": {},
     "output_type": "display_data"
    },
    {
     "data": {
      "text/markdown": [
       "<span style='color:red'>100 datasets collected for run with id AWgu5z3J-DH7UHKUO4w2 (2019-01-08T19:18:53.075914)</span>"
      ],
      "text/plain": [
       "<IPython.core.display.Markdown object>"
      ]
     },
     "metadata": {},
     "output_type": "display_data"
    },
    {
     "data": {
      "text/markdown": [
       "<span style='color:red'>100 datasets collected for run with id AWgu51F9-DH7UHKUO4w3 (2019-01-08T19:18:58.120733)</span>"
      ],
      "text/plain": [
       "<IPython.core.display.Markdown object>"
      ]
     },
     "metadata": {},
     "output_type": "display_data"
    },
    {
     "data": {
      "text/markdown": [
       "<span style='color:red'>100 datasets collected for run with id AWgu5rSN-DH7UHKUO4wv (2019-01-08T19:18:17.943900)</span>"
      ],
      "text/plain": [
       "<IPython.core.display.Markdown object>"
      ]
     },
     "metadata": {},
     "output_type": "display_data"
    }
   ],
   "source": [
    "import pprint\n",
    "from IPython.display import Markdown, display\n",
    "\n",
    "def printmd(string, color=None):\n",
    "    colorstr = \"<span style='color:{}'>{}</span>\".format(color, string)\n",
    "    display(Markdown(colorstr))\n",
    "    \n",
    "pp = pprint.PrettyPrinter(indent=4)\n",
    "\n",
    "print \"There were \" + str(len(rtx_runs)) + \" runs performed.\"\n",
    "for rtx_run in rtx_runs:\n",
    "    data_for_run = [d for d in data if d[\"parent\"] == rtx_run[\"id\"]]\n",
    "    data_for_run.sort(key=lambda d : (d[\"_source\"][\"iteration\"], d[\"_source\"][\"individual\"]))\n",
    "    printmd(str(len(data_for_run)) + \" datasets collected for run with id \" + str(rtx_run[\"id\"]) + \" (\" + str(rtx_run[\"time\"]) + \")\", \"red\")\n",
    "\n",
    "#     for d in data_for_run:\n",
    "#         s = d[\"_source\"]\n",
    "#         overheads = s[\"payload\"][\"overheads\"]\n",
    "#         routings = s[\"payload\"][\"routings\"]\n",
    "#         printmd(\"Iteration \" + str(s[\"iteration\"]) + \", individual \" + str(s[\"individual\"]) + \" with configuration\", \"blue\")        \n",
    "#         pp.pprint(s[\"knobs\"])\n",
    "#         printmd(\"has \" + str(len(overheads)) + \" overheads and \" + str(len(routings)) + \" routings\", \"green\")"
   ]
  },
  {
   "cell_type": "markdown",
   "metadata": {},
   "source": [
    "## Do some first plots"
   ]
  },
  {
   "cell_type": "code",
   "execution_count": 10,
   "metadata": {
    "collapsed": false
   },
   "outputs": [
    {
     "name": "stdout",
     "output_type": "stream",
     "text": [
      "12\n"
     ]
    },
    {
     "data": {
      "image/png": "[encoded data removed]",
      "text/plain": [
       "<matplotlib.figure.Figure at 0x10af75cd0>"
      ]
     },
     "metadata": {},
     "output_type": "display_data"
    }
   ],
   "source": [
    "import matplotlib.pyplot as plt\n",
    "from numpy import var, std, mean, median\n",
    "import matplotlib as mpl\n",
    "mpl.rc(\"savefig\", dpi=150)\n",
    "\n",
    "rtx_run_id = \"AWfb4p5P-DH7UHKUO4hw\"\n",
    "overheads = [d[\"payload\"][\"overheads\"] for d in data if d[\"parent\"] == rtx_run_id]\n",
    "print(len(overheads))\n",
    "\n",
    "fig,ax = plt.subplots()\n",
    "ax.boxplot(overheads, 0, '', positions=range(len(overheads)))\n",
    "plt.ylabel('overheads of trips')\n",
    "plt.xlabel('Configurations')\n",
    "plt.show()"
   ]
  }
 ],
 "metadata": {
  "anaconda-cloud": {},
  "kernelspec": {
   "display_name": "Python [Root]",
   "language": "python",
   "name": "Python [Root]"
  },
  "language_info": {
   "codemirror_mode": {
    "name": "ipython",
    "version": 2
   },
   "file_extension": ".py",
   "mimetype": "text/x-python",
   "name": "python",
   "nbconvert_exporter": "python",
   "pygments_lexer": "ipython2",
   "version": "2.7.12"
  }
 },
 "nbformat": 4,
 "nbformat_minor": 0
}
